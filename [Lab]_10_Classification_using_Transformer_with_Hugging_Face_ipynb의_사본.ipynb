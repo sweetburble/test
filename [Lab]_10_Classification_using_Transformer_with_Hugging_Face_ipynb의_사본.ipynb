{
  "cells": [
    {
      "cell_type": "markdown",
      "metadata": {
        "id": "view-in-github",
        "colab_type": "text"
      },
      "source": [
        "<a href=\"https://colab.research.google.com/github/sweetburble/test/blob/main/%5BLab%5D_10_Classification_using_Transformer_with_Hugging_Face_ipynb%EC%9D%98_%EC%82%AC%EB%B3%B8.ipynb\" target=\"_parent\"><img src=\"https://colab.research.google.com/assets/colab-badge.svg\" alt=\"Open In Colab\"/></a>"
      ]
    },
    {
      "cell_type": "code",
      "execution_count": 1,
      "metadata": {
        "id": "R0RYql3KYHY6",
        "colab": {
          "base_uri": "https://localhost:8080/"
        },
        "outputId": "f790f883-d93f-4bf9-8ff7-497ff9e911bd"
      },
      "outputs": [
        {
          "output_type": "stream",
          "name": "stdout",
          "text": [
            "Cloning into 'nlp-with-transformers'...\n",
            "remote: Enumerating objects: 653, done.\u001b[K\n",
            "remote: Counting objects: 100% (84/84), done.\u001b[K\n",
            "remote: Compressing objects: 100% (75/75), done.\u001b[K\n",
            "remote: Total 653 (delta 47), reused 15 (delta 8), pack-reused 569\u001b[K\n",
            "Receiving objects: 100% (653/653), 62.41 MiB | 20.10 MiB/s, done.\n",
            "Resolving deltas: 100% (335/335), done.\n",
            "/content/nlp-with-transformers\n",
            "⏳ Installing base requirements ...\n",
            "✅ Base requirements installed!\n",
            "Using transformers v4.41.0\n",
            "Using datasets v2.19.1\n",
            "Using accelerate v0.30.1\n",
            "Using sentencepiece v0.1.99\n",
            "Using umap v0.5.6\n"
          ]
        }
      ],
      "source": [
        "# Uncomment and run this cell if you're on Colab or Kaggle\n",
        "!git clone https://github.com/rickiepark/nlp-with-transformers.git\n",
        "%cd nlp-with-transformers\n",
        "from install import *\n",
        "install_requirements(chapter=2)"
      ]
    },
    {
      "cell_type": "markdown",
      "metadata": {
        "id": "93EZHicnYHY8"
      },
      "source": [
        "# Text Classification"
      ]
    },
    {
      "cell_type": "markdown",
      "metadata": {
        "id": "S1ESIABDYHY9"
      },
      "source": [
        "Text classification is one of the most common tasks in NLP; it can be used for a broad range of applications, such as tagging customer feedback into categories or routing support tickets according to their language. Chances are that your email program's spam filter is using text classification to protect your inbox from a deluge of unwanted junk!"
      ]
    },
    {
      "cell_type": "markdown",
      "metadata": {
        "id": "HII7N8gBYHY-"
      },
      "source": [
        "Another common type of text classification is sentiment analysis, which (as we saw in <<chapter_introduction>>) aims to identify the polarity of a given text. For example, a company like Tesla might analyze Twitter posts like the one in <<tesla-tweet>> to determine whether people like its new car roofs or not."
      ]
    },
    {
      "cell_type": "markdown",
      "metadata": {
        "id": "8bebtscmYHY-"
      },
      "source": [
        "<img alt=\"Tesla Tweet\" width=\"500\" caption=\"Analyzing Twitter content can yield useful feedback from customers (courtesy of Aditya Veluri)\" src=\"https://github.com/nlp-with-transformers/notebooks/blob/main/images/chapter02_tweet.png?raw=1\" id=\"tesla-tweet\"/>"
      ]
    },
    {
      "cell_type": "markdown",
      "metadata": {
        "id": "G33gWnRrYHY-"
      },
      "source": [
        "Now imagine that you are a data scientist who needs to build a system that can automatically identify emotional states such as \"anger\" or \"joy\" that people express about your company's product on Twitter. In this chapter, we'll tackle this task using a variant of BERT called DistilBERT.footnote:[V. Sanh et al., [\"DistilBERT, a Distilled Version of BERT: Smaller, Faster, Cheaper and Lighter\"](https://arxiv.org/abs/1910.01108), (2019).] The main advantage of this model is that it achieves comparable performance to BERT, while being significantly smaller and more efficient. This enables us to train a classifier in a few minutes, and if you want to train a larger BERT model you can simply change the checkpoint of the pretrained model. A _checkpoint_ corresponds to the set of weights that are loaded into a given transformer architecture.\n",
        "\n",
        "This will also be our first encounter with three of the core libraries from the Hugging Face ecosystem: image:images/logo.png[hf,13,13] Datasets, image:images/logo.png[hf,13,13] Tokenizers, and image:images/logo.png[hf,13,13] Transformers. As shown in  <<hf-libraries>>, these libraries will allow us to quickly go from raw text to a fine-tuned model that can be used for inference on new tweets. So, in the spirit of Optimus Prime, let's dive in, \"transform, and roll out!\"footnote:[Optimus Prime is the leader of a race of robots in the popular Transformers franchise for children (and for those who are young at heart!).]"
      ]
    },
    {
      "cell_type": "markdown",
      "metadata": {
        "id": "NM2WOlQrYHY_"
      },
      "source": [
        "<img alt=\"Hugging Face Pipeline\" caption=\"A typical pipeline for training transformer models with the image:images/logo.png[hf,13,13] Datasets, image:images/logo.png[hf,13,13] Tokenizers, and image:images/logo.png[hf,13,13] Transformers libraries\" src=\"https://github.com/nlp-with-transformers/notebooks/blob/main/images/chapter02_hf-libraries.png?raw=1\" id=\"hf-libraries\"/>"
      ]
    },
    {
      "cell_type": "markdown",
      "metadata": {
        "id": "Q25GMEArYHY_"
      },
      "source": [
        "## The Dataset"
      ]
    },
    {
      "cell_type": "markdown",
      "metadata": {
        "id": "t7hRmIdHYHY_"
      },
      "source": [
        "To build our emotion detector we'll use a great dataset from an article that explored how emotions are represented in English Twitter messages.footnote:[E. Saravia et al., \"CARER: Contextualized Affect Representations for Emotion Recognition,\" _Proceedings of the 2018 Conference on Empirical Methods in Natural Language Processing_ (Oct–Nov 2018): 3687–3697, http://dx.doi.org/10.18653/v1/D18-1404.] Unlike most sentiment analysis datasets that involve just \"positive\" and \"negative\" polarities, this dataset contains six basic emotions: anger, disgust, fear, joy, sadness, and surprise. Given a tweet, our task will be to train a model that can classify it into one of these emotions."
      ]
    },
    {
      "cell_type": "markdown",
      "metadata": {
        "id": "TofiY-T-YHZA"
      },
      "source": [
        "### A First Look at Hugging Face Datasets"
      ]
    },
    {
      "cell_type": "markdown",
      "metadata": {
        "id": "Vt8hW4yOYHZA"
      },
      "source": [
        "We will use image:images/logo.png[hf,13,13] Datasets to download the data from the [Hugging Face Hub](https://huggingface.co/datasets). We can use the `list_datasets()` function to see what datasets are available on the Hub:"
      ]
    },
    {
      "cell_type": "code",
      "execution_count": 2,
      "metadata": {
        "id": "vScH8C-oYHZA",
        "outputId": "af6bc92f-9638-45ee-d0d6-f62727db4624",
        "colab": {
          "base_uri": "https://localhost:8080/"
        }
      },
      "outputs": [
        {
          "output_type": "stream",
          "name": "stderr",
          "text": [
            "<ipython-input-2-1ca6970f4f6e>:3: FutureWarning: list_datasets is deprecated and will be removed in the next major version of datasets. Use 'huggingface_hub.list_datasets' instead.\n",
            "  all_datasets = list_datasets()\n",
            "/usr/local/lib/python3.10/dist-packages/huggingface_hub/utils/_token.py:89: UserWarning: \n",
            "The secret `HF_TOKEN` does not exist in your Colab secrets.\n",
            "To authenticate with the Hugging Face Hub, create a token in your settings tab (https://huggingface.co/settings/tokens), set it as secret in your Google Colab and restart your session.\n",
            "You will be able to reuse this secret in all of your notebooks.\n",
            "Please note that authentication is recommended but still optional to access public models or datasets.\n",
            "  warnings.warn(\n"
          ]
        },
        {
          "output_type": "stream",
          "name": "stdout",
          "text": [
            "There are 150657 datasets currently available on the Hub\n",
            "The first 10 are: ['acronym_identification', 'ade_corpus_v2',\n",
            "'UCLNLP/adversarial_qa', 'aeslc', 'afrikaans_ner_corpus', 'ag_news',\n",
            "'allenai/ai2_arc', 'air_dialogue', 'ajgt_twitter_ar', 'allegro_reviews']\n"
          ]
        }
      ],
      "source": [
        "from datasets import list_datasets\n",
        "\n",
        "all_datasets = list_datasets()\n",
        "print(f\"There are {len(all_datasets)} datasets currently available on the Hub\")\n",
        "print(f\"The first 10 are: {all_datasets[:10]}\")"
      ]
    },
    {
      "cell_type": "markdown",
      "metadata": {
        "id": "t4wG74KKYHZB"
      },
      "source": [
        "We see that each dataset is given a name, so let's load the `emotion` dataset with the `load_dataset()` function:"
      ]
    },
    {
      "cell_type": "code",
      "execution_count": 3,
      "metadata": {
        "id": "qBWCiq_MYHZB",
        "outputId": "a3f4102b-54fe-431e-8bd5-6998a6f03c1f",
        "colab": {
          "referenced_widgets": [
            "ebc9eea587e54ab4afbe25c582953b57",
            "dd20043a373d41e58deca37dca34a22b",
            "167e859638f14ef0b1da7fd3ba2bcc02",
            "026ec53b032945ea8d7d54bff4d01ae9",
            "00bbcd7c267748cd8e04217569c340f6",
            "f6c630f7f6c7424f8eaa27a048ae732a",
            "e217d70abdf04e89b19719789988ed7c",
            "56a589b63c2a4492a778865686b04c2b",
            "951defaad0c245e5aa50331fb6d60621",
            "c8011da7a2fa46619ca7681bca2eee84",
            "344c5ce780034680926ddca4b14ca53d",
            "16041ef8b5f746ec98ef2237b1d75857",
            "8eea02b8e13740f7945c7f055bdbe3bc",
            "5d064a9f0b29474d9c0e5f073102c6e8",
            "19e5723ff1c542be8750c71e856375bf",
            "34f8d56259584b689fcd746f4431f179",
            "72e189ac67cd41b59877ec32dc220e3b",
            "b1754007c9e64e0f8d2b8aa8d5695728",
            "4dca406958b84124932304535c3c2d9b",
            "86bf624b4ac9464cb558faf610d11ffc",
            "2e24b15429d54926ad4bcadae0113a11",
            "66962cb886214fcd9441de7b5ee38a1f",
            "ec59bcfa2f7e4ddd977e2871ee363cbb",
            "245e9f835b344edd84bb052c7a9867fd",
            "20800cc037d44f03b47cdbf1f9976664",
            "06af01a3a60b4fa48efc242fc90388e4",
            "c78d838c077c4e338384bd8ffc6d1dfa",
            "dfa440c4719d4c798b68ef4f9de6df9d",
            "7ae5fcbbad7843f682cc9bd5dcceb0a2",
            "468f5790d71f42eb9cc38974dc8dc7f5",
            "52aa8c5dd7784fd2933f756bb9441041",
            "cabbcf4004254503a702c524cc001c8a",
            "763ba24313e04be39326dd99af6b9092",
            "f8b180a3b6c54100926c048a9b905e6a",
            "29af20095b854396870ae6cb14c61952",
            "aeb86cb7c6744f629d8ec1be0b99332b",
            "7db5d853dd7a445a845f0d779b404b51",
            "3206c2cffb92435cbb0e4838d573a3ad",
            "30486abb56b7418db21a217ef384a4f5",
            "c758652a98574627b2c41912e3d4357b",
            "11d6b3e2243945978f90d545d7a24f8b",
            "7eef3fbbf6db4776beb55b9efd3d9276",
            "9b7008e9226b402bb70b0e18b034b0ee",
            "fe2dbc7a64284ec2bb763c97951d368f",
            "0879820dfb97468ebb5ded429f294d5e",
            "c9796a282ddc4a9a9b57ee0f5715f960",
            "2f18d65deb0e4c239ae7d5b6c8dea7f6",
            "fda965493fae450988993f868ffd41ee",
            "2ac1fcdc23144577b9d3d2aaf5b464ec",
            "bcfb4c35e4274a94ad9540cd92ebb5f7",
            "d4134df23301400e9189862109ae2f63",
            "0543f6433f844cd990b5aff5ab68dcc0",
            "aeedde711a364506bd202561db1545d7",
            "c9d0600e310643e484deef8e9e391d3d",
            "3f2d0a8384704686b66ad0a14e222d07",
            "2ee4cf18a8784d66ab665449f05a5d77",
            "f48ffa7d94384c9ab6efa1b76ae5cf6d",
            "bd66866c4ad1477184b11aab3b4745fe",
            "f317d0add5d641a0af2200d5cdf40101",
            "40bba5a9fd83433b87b60ec5c92ec980",
            "12ecda5594d04baea6f06b80736fad0c",
            "984f14f918e0454ca9e5019def09b0dd",
            "6cf53d8ddc1e41d3bdc6c4695297cff1",
            "2fa74a7ef3ab45f3b1f5862e2c27f116",
            "c6383eeb2c51442e9e53abde5e86c973",
            "7bba1dce4b35460abd085bf2937a602b",
            "3410cc890130486eba31d1ffcad1f9eb",
            "456934df7c66454692af7dff615bf674",
            "d858314841f74a20871d9c0a37608192",
            "8985ed2f4b8a4f82a6b5647e9cf5b53a",
            "e1c50c7186cc4c40a54efa8fff367df0",
            "c24fefb1ecb4439cacefcf3993114135",
            "8fa2906701c242f195499d30174c4415",
            "642c6cc41b644dc68bd154822ac283bb",
            "a81cc71478fc4a508b7bdb67b9c8971d",
            "c39d3a6c3c244e98ab1a0d8932cd9c2b",
            "f372906124484129aa1fb50fc5968891",
            "ce6b024e75f84c8cab761f027ce17717",
            "013da17dc5bf4c428fa4dc5320888de0",
            "d6251de02930491d9d1f9e5f970103d7",
            "e4fcfc0ba07a4fbd89b2dfaaa82df648",
            "29571fbe0d624e608aa46150faaeb887",
            "a990f63cbd1e48449b27216ee426d2e3",
            "41f888157f1648c688a45220b7ed192c",
            "be9cf3a7ec5f490e81f5ad1f6e4892f1",
            "3f4a7e4cd7ef4b70894ffab51fe24354",
            "0ea2598ff0344b81994868eddcf71117",
            "b8ef44243a9147e38dabbe9feeaa29b9",
            "b4556346b64646bda239e6f919f26a40",
            "302a1d7aef474e4ea65527f032b24a79",
            "99c9169a4b8142fd92c376d778154806",
            "649bf017908048988f5ae310672cb66a",
            "99bdfd41fa474d81895019db231066e0",
            "d0851ca6c7b5496cbd1a2572a961d268",
            "aa0619dc72484353b070d29b50eea376",
            "2383c55112db480e9c113f3f8bdb6675",
            "fe3b1385371942f9a1cb7246bff2dbd4",
            "a0801dc1d5a442839db07e1841d24414",
            "f0ea89ffa45743f488737c2dd196b2c2"
          ],
          "base_uri": "https://localhost:8080/",
          "height": 394
        }
      },
      "outputs": [
        {
          "output_type": "stream",
          "name": "stderr",
          "text": [
            "/usr/local/lib/python3.10/dist-packages/datasets/load.py:1486: FutureWarning: The repository for emotion contains custom code which must be executed to correctly load the dataset. You can inspect the repository content at https://hf.co/datasets/emotion\n",
            "You can avoid this message in future by passing the argument `trust_remote_code=True`.\n",
            "Passing `trust_remote_code=True` will be mandatory to load this dataset from the next major release of `datasets`.\n",
            "  warnings.warn(\n"
          ]
        },
        {
          "output_type": "display_data",
          "data": {
            "text/plain": [
              "Downloading builder script:   0%|          | 0.00/3.97k [00:00<?, ?B/s]"
            ],
            "application/vnd.jupyter.widget-view+json": {
              "version_major": 2,
              "version_minor": 0,
              "model_id": "ebc9eea587e54ab4afbe25c582953b57"
            }
          },
          "metadata": {}
        },
        {
          "output_type": "display_data",
          "data": {
            "text/plain": [
              "Downloading metadata:   0%|          | 0.00/3.28k [00:00<?, ?B/s]"
            ],
            "application/vnd.jupyter.widget-view+json": {
              "version_major": 2,
              "version_minor": 0,
              "model_id": "16041ef8b5f746ec98ef2237b1d75857"
            }
          },
          "metadata": {}
        },
        {
          "output_type": "display_data",
          "data": {
            "text/plain": [
              "Downloading readme:   0%|          | 0.00/8.78k [00:00<?, ?B/s]"
            ],
            "application/vnd.jupyter.widget-view+json": {
              "version_major": 2,
              "version_minor": 0,
              "model_id": "ec59bcfa2f7e4ddd977e2871ee363cbb"
            }
          },
          "metadata": {}
        },
        {
          "output_type": "display_data",
          "data": {
            "text/plain": [
              "Downloading data:   0%|          | 0.00/592k [00:00<?, ?B/s]"
            ],
            "application/vnd.jupyter.widget-view+json": {
              "version_major": 2,
              "version_minor": 0,
              "model_id": "f8b180a3b6c54100926c048a9b905e6a"
            }
          },
          "metadata": {}
        },
        {
          "output_type": "display_data",
          "data": {
            "text/plain": [
              "Downloading data:   0%|          | 0.00/74.0k [00:00<?, ?B/s]"
            ],
            "application/vnd.jupyter.widget-view+json": {
              "version_major": 2,
              "version_minor": 0,
              "model_id": "0879820dfb97468ebb5ded429f294d5e"
            }
          },
          "metadata": {}
        },
        {
          "output_type": "display_data",
          "data": {
            "text/plain": [
              "Downloading data:   0%|          | 0.00/74.9k [00:00<?, ?B/s]"
            ],
            "application/vnd.jupyter.widget-view+json": {
              "version_major": 2,
              "version_minor": 0,
              "model_id": "2ee4cf18a8784d66ab665449f05a5d77"
            }
          },
          "metadata": {}
        },
        {
          "output_type": "display_data",
          "data": {
            "text/plain": [
              "Generating train split:   0%|          | 0/16000 [00:00<?, ? examples/s]"
            ],
            "application/vnd.jupyter.widget-view+json": {
              "version_major": 2,
              "version_minor": 0,
              "model_id": "3410cc890130486eba31d1ffcad1f9eb"
            }
          },
          "metadata": {}
        },
        {
          "output_type": "display_data",
          "data": {
            "text/plain": [
              "Generating validation split:   0%|          | 0/2000 [00:00<?, ? examples/s]"
            ],
            "application/vnd.jupyter.widget-view+json": {
              "version_major": 2,
              "version_minor": 0,
              "model_id": "ce6b024e75f84c8cab761f027ce17717"
            }
          },
          "metadata": {}
        },
        {
          "output_type": "display_data",
          "data": {
            "text/plain": [
              "Generating test split:   0%|          | 0/2000 [00:00<?, ? examples/s]"
            ],
            "application/vnd.jupyter.widget-view+json": {
              "version_major": 2,
              "version_minor": 0,
              "model_id": "b4556346b64646bda239e6f919f26a40"
            }
          },
          "metadata": {}
        }
      ],
      "source": [
        "# hide_output\n",
        "from datasets import load_dataset\n",
        "\n",
        "emotions = load_dataset(\"emotion\")"
      ]
    },
    {
      "cell_type": "markdown",
      "metadata": {
        "id": "eztk7vGXYHZC"
      },
      "source": [
        "If we look inside our `emotions` object:"
      ]
    },
    {
      "cell_type": "code",
      "execution_count": 4,
      "metadata": {
        "id": "6aqSLnFvYHZC",
        "outputId": "fec6231c-a31c-466a-c553-febbb250cc54",
        "colab": {
          "base_uri": "https://localhost:8080/"
        }
      },
      "outputs": [
        {
          "output_type": "execute_result",
          "data": {
            "text/plain": [
              "DatasetDict({\n",
              "    train: Dataset({\n",
              "        features: ['text', 'label'],\n",
              "        num_rows: 16000\n",
              "    })\n",
              "    validation: Dataset({\n",
              "        features: ['text', 'label'],\n",
              "        num_rows: 2000\n",
              "    })\n",
              "    test: Dataset({\n",
              "        features: ['text', 'label'],\n",
              "        num_rows: 2000\n",
              "    })\n",
              "})"
            ]
          },
          "metadata": {},
          "execution_count": 4
        }
      ],
      "source": [
        "emotions"
      ]
    },
    {
      "cell_type": "markdown",
      "metadata": {
        "id": "0inKbwyWYHZC"
      },
      "source": [
        "we see it is similar to a Python dictionary, with each key corresponding to a different split. And we can use the usual dictionary syntax to access an individual split:"
      ]
    },
    {
      "cell_type": "code",
      "execution_count": 5,
      "metadata": {
        "id": "FAcPeFZxYHZC",
        "outputId": "65249a94-fff4-4088-eae4-dfefc4fe1ddd",
        "colab": {
          "base_uri": "https://localhost:8080/"
        }
      },
      "outputs": [
        {
          "output_type": "execute_result",
          "data": {
            "text/plain": [
              "Dataset({\n",
              "    features: ['text', 'label'],\n",
              "    num_rows: 16000\n",
              "})"
            ]
          },
          "metadata": {},
          "execution_count": 5
        }
      ],
      "source": [
        "train_ds = emotions[\"train\"]\n",
        "train_ds"
      ]
    },
    {
      "cell_type": "markdown",
      "metadata": {
        "id": "xFuE2sAdYHZC"
      },
      "source": [
        "which returns an instance of the `Dataset` class. The `Dataset` object is one of the core data structures in image:images/logo.png[hf,13,13] Datasets, and we'll be exploring many of its features throughout the course of this book. For starters, it behaves like an ordinary Python array or list, so we can query its length:"
      ]
    },
    {
      "cell_type": "code",
      "execution_count": 6,
      "metadata": {
        "id": "oTWkkxlFYHZD",
        "outputId": "b5eca272-9cdd-4499-faa9-1b996272ed2f",
        "colab": {
          "base_uri": "https://localhost:8080/"
        }
      },
      "outputs": [
        {
          "output_type": "execute_result",
          "data": {
            "text/plain": [
              "16000"
            ]
          },
          "metadata": {},
          "execution_count": 6
        }
      ],
      "source": [
        "len(train_ds)"
      ]
    },
    {
      "cell_type": "markdown",
      "metadata": {
        "id": "8VzPerykYHZD"
      },
      "source": [
        "or access a single example by its index:"
      ]
    },
    {
      "cell_type": "code",
      "execution_count": 7,
      "metadata": {
        "id": "4gzu4zNSYHZD",
        "outputId": "5203a073-a4d6-4dad-d93d-6112007e1cd5",
        "colab": {
          "base_uri": "https://localhost:8080/"
        }
      },
      "outputs": [
        {
          "output_type": "execute_result",
          "data": {
            "text/plain": [
              "{'text': 'i didnt feel humiliated', 'label': 0}"
            ]
          },
          "metadata": {},
          "execution_count": 7
        }
      ],
      "source": [
        "train_ds[0]"
      ]
    },
    {
      "cell_type": "markdown",
      "metadata": {
        "id": "EALqyOFIYHZD"
      },
      "source": [
        "Here we see that a single row is represented as a dictionary, where the keys correspond to the column names:"
      ]
    },
    {
      "cell_type": "code",
      "execution_count": 8,
      "metadata": {
        "id": "PTm4nLwTYHZD",
        "outputId": "ac53e095-ad11-4c67-ca62-59276df837fe",
        "colab": {
          "base_uri": "https://localhost:8080/"
        }
      },
      "outputs": [
        {
          "output_type": "execute_result",
          "data": {
            "text/plain": [
              "['text', 'label']"
            ]
          },
          "metadata": {},
          "execution_count": 8
        }
      ],
      "source": [
        "train_ds.column_names"
      ]
    },
    {
      "cell_type": "markdown",
      "metadata": {
        "id": "93NQ3IKwYHZD"
      },
      "source": [
        "and the values are the tweet and the emotion. This reflects the fact that image:images/logo.png[hf,13,13] Datasets is based on [_Apache Arrow_](https://arrow.apache.org/), which defines a typed columnar format that is more memory efficient than native Python. We can see what data types are being used under the hood by accessing the `features` attribute of a `Dataset` object:"
      ]
    },
    {
      "cell_type": "code",
      "execution_count": 9,
      "metadata": {
        "id": "-fbWjAY_YHZE",
        "outputId": "e169a742-2b7b-4788-e3a7-82884c2a6a58",
        "colab": {
          "base_uri": "https://localhost:8080/"
        }
      },
      "outputs": [
        {
          "output_type": "stream",
          "name": "stdout",
          "text": [
            "{'text': Value(dtype='string', id=None), 'label': ClassLabel(names=['sadness',\n",
            "'joy', 'love', 'anger', 'fear', 'surprise'], id=None)}\n"
          ]
        }
      ],
      "source": [
        "print(train_ds.features)"
      ]
    },
    {
      "cell_type": "markdown",
      "metadata": {
        "id": "O-p-lNtBYHZE"
      },
      "source": [
        "In this case, the data type of the `text` column is `string`, while the `label` column is a special `ClassLabel` object that contains information about the class names and their mapping to integers. We can also access several rows with a slice:"
      ]
    },
    {
      "cell_type": "code",
      "execution_count": 10,
      "metadata": {
        "id": "_oBXSTMOYHZE",
        "outputId": "a7b10628-e005-4cea-b44c-be67de2afa5d",
        "colab": {
          "base_uri": "https://localhost:8080/"
        }
      },
      "outputs": [
        {
          "output_type": "stream",
          "name": "stdout",
          "text": [
            "{'text': ['i didnt feel humiliated', 'i can go from feeling so hopeless to so\n",
            "damned hopeful just from being around someone who cares and is awake', 'im\n",
            "grabbing a minute to post i feel greedy wrong', 'i am ever feeling nostalgic\n",
            "about the fireplace i will know that it is still on the property', 'i am feeling\n",
            "grouchy'], 'label': [0, 0, 3, 2, 3]}\n"
          ]
        }
      ],
      "source": [
        "print(train_ds[:5])"
      ]
    },
    {
      "cell_type": "markdown",
      "metadata": {
        "id": "4ZzYe4fzYHZE"
      },
      "source": [
        "Note that in this case, the dictionary values are now lists instead of individual elements. We can also get the full column by name:"
      ]
    },
    {
      "cell_type": "code",
      "execution_count": 11,
      "metadata": {
        "id": "-fTQBg9AYHZE",
        "outputId": "31fa1746-ade5-4158-bbcd-874ed916f2bf",
        "colab": {
          "base_uri": "https://localhost:8080/"
        }
      },
      "outputs": [
        {
          "output_type": "stream",
          "name": "stdout",
          "text": [
            "['i didnt feel humiliated', 'i can go from feeling so hopeless to so damned\n",
            "hopeful just from being around someone who cares and is awake', 'im grabbing a\n",
            "minute to post i feel greedy wrong', 'i am ever feeling nostalgic about the\n",
            "fireplace i will know that it is still on the property', 'i am feeling grouchy']\n"
          ]
        }
      ],
      "source": [
        "print(train_ds[\"text\"][:5])"
      ]
    },
    {
      "cell_type": "markdown",
      "metadata": {
        "id": "lEJMH1O-YHZE"
      },
      "source": [
        "Now that we've seen how to load and inspect data with image:images/logo.png[hf,13,13] Datasets, let's do a few sanity checks about the content of our tweets."
      ]
    },
    {
      "cell_type": "markdown",
      "metadata": {
        "id": "gENhOnKaYHZZ"
      },
      "source": [
        "### From Datasets to DataFrames"
      ]
    },
    {
      "cell_type": "markdown",
      "metadata": {
        "id": "pLLrPjf3YHZa"
      },
      "source": [
        "Although image:images/logo.png[hf,13,13] Datasets provides a lot of low-level functionality to slice and dice our data, it is often convenient to convert a `Dataset` object to a Pandas `DataFrame` so we can access high-level APIs for data visualization. To enable the conversion, image:images/logo.png[hf,13,13] Datasets provides a `set_format()` method that allows us to change the _output format_ of the `Dataset`. Note that this does not change the underlying _data format_ (which is an Arrow table), and you can switch to another format later if needed:"
      ]
    },
    {
      "cell_type": "code",
      "execution_count": 12,
      "metadata": {
        "id": "Mm2nTThxYHZa",
        "outputId": "72e0fcf6-59a5-42e6-ef1f-8f413f7fc54d",
        "colab": {
          "base_uri": "https://localhost:8080/",
          "height": 206
        }
      },
      "outputs": [
        {
          "output_type": "execute_result",
          "data": {
            "text/plain": [
              "                                                text  label\n",
              "0                            i didnt feel humiliated      0\n",
              "1  i can go from feeling so hopeless to so damned...      0\n",
              "2   im grabbing a minute to post i feel greedy wrong      3\n",
              "3  i am ever feeling nostalgic about the fireplac...      2\n",
              "4                               i am feeling grouchy      3"
            ],
            "text/html": [
              "\n",
              "  <div id=\"df-f3bfbf32-cad8-4e5f-9f92-07fcd4173121\" class=\"colab-df-container\">\n",
              "    <div>\n",
              "<style scoped>\n",
              "    .dataframe tbody tr th:only-of-type {\n",
              "        vertical-align: middle;\n",
              "    }\n",
              "\n",
              "    .dataframe tbody tr th {\n",
              "        vertical-align: top;\n",
              "    }\n",
              "\n",
              "    .dataframe thead th {\n",
              "        text-align: right;\n",
              "    }\n",
              "</style>\n",
              "<table border=\"1\" class=\"dataframe\">\n",
              "  <thead>\n",
              "    <tr style=\"text-align: right;\">\n",
              "      <th></th>\n",
              "      <th>text</th>\n",
              "      <th>label</th>\n",
              "    </tr>\n",
              "  </thead>\n",
              "  <tbody>\n",
              "    <tr>\n",
              "      <th>0</th>\n",
              "      <td>i didnt feel humiliated</td>\n",
              "      <td>0</td>\n",
              "    </tr>\n",
              "    <tr>\n",
              "      <th>1</th>\n",
              "      <td>i can go from feeling so hopeless to so damned...</td>\n",
              "      <td>0</td>\n",
              "    </tr>\n",
              "    <tr>\n",
              "      <th>2</th>\n",
              "      <td>im grabbing a minute to post i feel greedy wrong</td>\n",
              "      <td>3</td>\n",
              "    </tr>\n",
              "    <tr>\n",
              "      <th>3</th>\n",
              "      <td>i am ever feeling nostalgic about the fireplac...</td>\n",
              "      <td>2</td>\n",
              "    </tr>\n",
              "    <tr>\n",
              "      <th>4</th>\n",
              "      <td>i am feeling grouchy</td>\n",
              "      <td>3</td>\n",
              "    </tr>\n",
              "  </tbody>\n",
              "</table>\n",
              "</div>\n",
              "    <div class=\"colab-df-buttons\">\n",
              "\n",
              "  <div class=\"colab-df-container\">\n",
              "    <button class=\"colab-df-convert\" onclick=\"convertToInteractive('df-f3bfbf32-cad8-4e5f-9f92-07fcd4173121')\"\n",
              "            title=\"Convert this dataframe to an interactive table.\"\n",
              "            style=\"display:none;\">\n",
              "\n",
              "  <svg xmlns=\"http://www.w3.org/2000/svg\" height=\"24px\" viewBox=\"0 -960 960 960\">\n",
              "    <path d=\"M120-120v-720h720v720H120Zm60-500h600v-160H180v160Zm220 220h160v-160H400v160Zm0 220h160v-160H400v160ZM180-400h160v-160H180v160Zm440 0h160v-160H620v160ZM180-180h160v-160H180v160Zm440 0h160v-160H620v160Z\"/>\n",
              "  </svg>\n",
              "    </button>\n",
              "\n",
              "  <style>\n",
              "    .colab-df-container {\n",
              "      display:flex;\n",
              "      gap: 12px;\n",
              "    }\n",
              "\n",
              "    .colab-df-convert {\n",
              "      background-color: #E8F0FE;\n",
              "      border: none;\n",
              "      border-radius: 50%;\n",
              "      cursor: pointer;\n",
              "      display: none;\n",
              "      fill: #1967D2;\n",
              "      height: 32px;\n",
              "      padding: 0 0 0 0;\n",
              "      width: 32px;\n",
              "    }\n",
              "\n",
              "    .colab-df-convert:hover {\n",
              "      background-color: #E2EBFA;\n",
              "      box-shadow: 0px 1px 2px rgba(60, 64, 67, 0.3), 0px 1px 3px 1px rgba(60, 64, 67, 0.15);\n",
              "      fill: #174EA6;\n",
              "    }\n",
              "\n",
              "    .colab-df-buttons div {\n",
              "      margin-bottom: 4px;\n",
              "    }\n",
              "\n",
              "    [theme=dark] .colab-df-convert {\n",
              "      background-color: #3B4455;\n",
              "      fill: #D2E3FC;\n",
              "    }\n",
              "\n",
              "    [theme=dark] .colab-df-convert:hover {\n",
              "      background-color: #434B5C;\n",
              "      box-shadow: 0px 1px 3px 1px rgba(0, 0, 0, 0.15);\n",
              "      filter: drop-shadow(0px 1px 2px rgba(0, 0, 0, 0.3));\n",
              "      fill: #FFFFFF;\n",
              "    }\n",
              "  </style>\n",
              "\n",
              "    <script>\n",
              "      const buttonEl =\n",
              "        document.querySelector('#df-f3bfbf32-cad8-4e5f-9f92-07fcd4173121 button.colab-df-convert');\n",
              "      buttonEl.style.display =\n",
              "        google.colab.kernel.accessAllowed ? 'block' : 'none';\n",
              "\n",
              "      async function convertToInteractive(key) {\n",
              "        const element = document.querySelector('#df-f3bfbf32-cad8-4e5f-9f92-07fcd4173121');\n",
              "        const dataTable =\n",
              "          await google.colab.kernel.invokeFunction('convertToInteractive',\n",
              "                                                    [key], {});\n",
              "        if (!dataTable) return;\n",
              "\n",
              "        const docLinkHtml = 'Like what you see? Visit the ' +\n",
              "          '<a target=\"_blank\" href=https://colab.research.google.com/notebooks/data_table.ipynb>data table notebook</a>'\n",
              "          + ' to learn more about interactive tables.';\n",
              "        element.innerHTML = '';\n",
              "        dataTable['output_type'] = 'display_data';\n",
              "        await google.colab.output.renderOutput(dataTable, element);\n",
              "        const docLink = document.createElement('div');\n",
              "        docLink.innerHTML = docLinkHtml;\n",
              "        element.appendChild(docLink);\n",
              "      }\n",
              "    </script>\n",
              "  </div>\n",
              "\n",
              "\n",
              "<div id=\"df-a1e69ef2-ced9-4d88-aa35-1d2f422937eb\">\n",
              "  <button class=\"colab-df-quickchart\" onclick=\"quickchart('df-a1e69ef2-ced9-4d88-aa35-1d2f422937eb')\"\n",
              "            title=\"Suggest charts\"\n",
              "            style=\"display:none;\">\n",
              "\n",
              "<svg xmlns=\"http://www.w3.org/2000/svg\" height=\"24px\"viewBox=\"0 0 24 24\"\n",
              "     width=\"24px\">\n",
              "    <g>\n",
              "        <path d=\"M19 3H5c-1.1 0-2 .9-2 2v14c0 1.1.9 2 2 2h14c1.1 0 2-.9 2-2V5c0-1.1-.9-2-2-2zM9 17H7v-7h2v7zm4 0h-2V7h2v10zm4 0h-2v-4h2v4z\"/>\n",
              "    </g>\n",
              "</svg>\n",
              "  </button>\n",
              "\n",
              "<style>\n",
              "  .colab-df-quickchart {\n",
              "      --bg-color: #E8F0FE;\n",
              "      --fill-color: #1967D2;\n",
              "      --hover-bg-color: #E2EBFA;\n",
              "      --hover-fill-color: #174EA6;\n",
              "      --disabled-fill-color: #AAA;\n",
              "      --disabled-bg-color: #DDD;\n",
              "  }\n",
              "\n",
              "  [theme=dark] .colab-df-quickchart {\n",
              "      --bg-color: #3B4455;\n",
              "      --fill-color: #D2E3FC;\n",
              "      --hover-bg-color: #434B5C;\n",
              "      --hover-fill-color: #FFFFFF;\n",
              "      --disabled-bg-color: #3B4455;\n",
              "      --disabled-fill-color: #666;\n",
              "  }\n",
              "\n",
              "  .colab-df-quickchart {\n",
              "    background-color: var(--bg-color);\n",
              "    border: none;\n",
              "    border-radius: 50%;\n",
              "    cursor: pointer;\n",
              "    display: none;\n",
              "    fill: var(--fill-color);\n",
              "    height: 32px;\n",
              "    padding: 0;\n",
              "    width: 32px;\n",
              "  }\n",
              "\n",
              "  .colab-df-quickchart:hover {\n",
              "    background-color: var(--hover-bg-color);\n",
              "    box-shadow: 0 1px 2px rgba(60, 64, 67, 0.3), 0 1px 3px 1px rgba(60, 64, 67, 0.15);\n",
              "    fill: var(--button-hover-fill-color);\n",
              "  }\n",
              "\n",
              "  .colab-df-quickchart-complete:disabled,\n",
              "  .colab-df-quickchart-complete:disabled:hover {\n",
              "    background-color: var(--disabled-bg-color);\n",
              "    fill: var(--disabled-fill-color);\n",
              "    box-shadow: none;\n",
              "  }\n",
              "\n",
              "  .colab-df-spinner {\n",
              "    border: 2px solid var(--fill-color);\n",
              "    border-color: transparent;\n",
              "    border-bottom-color: var(--fill-color);\n",
              "    animation:\n",
              "      spin 1s steps(1) infinite;\n",
              "  }\n",
              "\n",
              "  @keyframes spin {\n",
              "    0% {\n",
              "      border-color: transparent;\n",
              "      border-bottom-color: var(--fill-color);\n",
              "      border-left-color: var(--fill-color);\n",
              "    }\n",
              "    20% {\n",
              "      border-color: transparent;\n",
              "      border-left-color: var(--fill-color);\n",
              "      border-top-color: var(--fill-color);\n",
              "    }\n",
              "    30% {\n",
              "      border-color: transparent;\n",
              "      border-left-color: var(--fill-color);\n",
              "      border-top-color: var(--fill-color);\n",
              "      border-right-color: var(--fill-color);\n",
              "    }\n",
              "    40% {\n",
              "      border-color: transparent;\n",
              "      border-right-color: var(--fill-color);\n",
              "      border-top-color: var(--fill-color);\n",
              "    }\n",
              "    60% {\n",
              "      border-color: transparent;\n",
              "      border-right-color: var(--fill-color);\n",
              "    }\n",
              "    80% {\n",
              "      border-color: transparent;\n",
              "      border-right-color: var(--fill-color);\n",
              "      border-bottom-color: var(--fill-color);\n",
              "    }\n",
              "    90% {\n",
              "      border-color: transparent;\n",
              "      border-bottom-color: var(--fill-color);\n",
              "    }\n",
              "  }\n",
              "</style>\n",
              "\n",
              "  <script>\n",
              "    async function quickchart(key) {\n",
              "      const quickchartButtonEl =\n",
              "        document.querySelector('#' + key + ' button');\n",
              "      quickchartButtonEl.disabled = true;  // To prevent multiple clicks.\n",
              "      quickchartButtonEl.classList.add('colab-df-spinner');\n",
              "      try {\n",
              "        const charts = await google.colab.kernel.invokeFunction(\n",
              "            'suggestCharts', [key], {});\n",
              "      } catch (error) {\n",
              "        console.error('Error during call to suggestCharts:', error);\n",
              "      }\n",
              "      quickchartButtonEl.classList.remove('colab-df-spinner');\n",
              "      quickchartButtonEl.classList.add('colab-df-quickchart-complete');\n",
              "    }\n",
              "    (() => {\n",
              "      let quickchartButtonEl =\n",
              "        document.querySelector('#df-a1e69ef2-ced9-4d88-aa35-1d2f422937eb button');\n",
              "      quickchartButtonEl.style.display =\n",
              "        google.colab.kernel.accessAllowed ? 'block' : 'none';\n",
              "    })();\n",
              "  </script>\n",
              "</div>\n",
              "\n",
              "    </div>\n",
              "  </div>\n"
            ],
            "application/vnd.google.colaboratory.intrinsic+json": {
              "type": "dataframe",
              "variable_name": "df",
              "summary": "{\n  \"name\": \"df\",\n  \"rows\": 16000,\n  \"fields\": [\n    {\n      \"column\": \"text\",\n      \"properties\": {\n        \"dtype\": \"string\",\n        \"num_unique_values\": 15969,\n        \"samples\": [\n          \"i feel rather imbicilic or at least complacent\",\n          \"i was in the bathroom i had sat down to pee it was to make me feel submissive again per instructions\",\n          \"i am thrilled with the way my skin and hair feel if you are like me you are skeptical\"\n        ],\n        \"semantic_type\": \"\",\n        \"description\": \"\"\n      }\n    },\n    {\n      \"column\": \"label\",\n      \"properties\": {\n        \"dtype\": \"number\",\n        \"std\": 1,\n        \"min\": 0,\n        \"max\": 5,\n        \"num_unique_values\": 6,\n        \"samples\": [\n          0,\n          3,\n          1\n        ],\n        \"semantic_type\": \"\",\n        \"description\": \"\"\n      }\n    }\n  ]\n}"
            }
          },
          "metadata": {},
          "execution_count": 12
        }
      ],
      "source": [
        "import pandas as pd\n",
        "\n",
        "emotions.set_format(type=\"pandas\")\n",
        "df = emotions[\"train\"][:]\n",
        "df.head()"
      ]
    },
    {
      "cell_type": "markdown",
      "metadata": {
        "id": "YHm8qfzZYHZa"
      },
      "source": [
        "As you can see, the column headers have been preserved and the first few rows match our previous views of the data. However, the labels are represented as integers, so let's use the `int2str()` method of the `label` feature to create a new column in our `DataFrame` with the corresponding label names:"
      ]
    },
    {
      "cell_type": "code",
      "execution_count": 13,
      "metadata": {
        "id": "LiqggeJNYHZa",
        "outputId": "88996057-ec74-4d47-f942-8e94688982e5",
        "colab": {
          "base_uri": "https://localhost:8080/",
          "height": 206
        }
      },
      "outputs": [
        {
          "output_type": "execute_result",
          "data": {
            "text/plain": [
              "                                                text  label label_name\n",
              "0                            i didnt feel humiliated      0    sadness\n",
              "1  i can go from feeling so hopeless to so damned...      0    sadness\n",
              "2   im grabbing a minute to post i feel greedy wrong      3      anger\n",
              "3  i am ever feeling nostalgic about the fireplac...      2       love\n",
              "4                               i am feeling grouchy      3      anger"
            ],
            "text/html": [
              "\n",
              "  <div id=\"df-a4c3dbff-906a-428e-b4de-9566a89f218a\" class=\"colab-df-container\">\n",
              "    <div>\n",
              "<style scoped>\n",
              "    .dataframe tbody tr th:only-of-type {\n",
              "        vertical-align: middle;\n",
              "    }\n",
              "\n",
              "    .dataframe tbody tr th {\n",
              "        vertical-align: top;\n",
              "    }\n",
              "\n",
              "    .dataframe thead th {\n",
              "        text-align: right;\n",
              "    }\n",
              "</style>\n",
              "<table border=\"1\" class=\"dataframe\">\n",
              "  <thead>\n",
              "    <tr style=\"text-align: right;\">\n",
              "      <th></th>\n",
              "      <th>text</th>\n",
              "      <th>label</th>\n",
              "      <th>label_name</th>\n",
              "    </tr>\n",
              "  </thead>\n",
              "  <tbody>\n",
              "    <tr>\n",
              "      <th>0</th>\n",
              "      <td>i didnt feel humiliated</td>\n",
              "      <td>0</td>\n",
              "      <td>sadness</td>\n",
              "    </tr>\n",
              "    <tr>\n",
              "      <th>1</th>\n",
              "      <td>i can go from feeling so hopeless to so damned...</td>\n",
              "      <td>0</td>\n",
              "      <td>sadness</td>\n",
              "    </tr>\n",
              "    <tr>\n",
              "      <th>2</th>\n",
              "      <td>im grabbing a minute to post i feel greedy wrong</td>\n",
              "      <td>3</td>\n",
              "      <td>anger</td>\n",
              "    </tr>\n",
              "    <tr>\n",
              "      <th>3</th>\n",
              "      <td>i am ever feeling nostalgic about the fireplac...</td>\n",
              "      <td>2</td>\n",
              "      <td>love</td>\n",
              "    </tr>\n",
              "    <tr>\n",
              "      <th>4</th>\n",
              "      <td>i am feeling grouchy</td>\n",
              "      <td>3</td>\n",
              "      <td>anger</td>\n",
              "    </tr>\n",
              "  </tbody>\n",
              "</table>\n",
              "</div>\n",
              "    <div class=\"colab-df-buttons\">\n",
              "\n",
              "  <div class=\"colab-df-container\">\n",
              "    <button class=\"colab-df-convert\" onclick=\"convertToInteractive('df-a4c3dbff-906a-428e-b4de-9566a89f218a')\"\n",
              "            title=\"Convert this dataframe to an interactive table.\"\n",
              "            style=\"display:none;\">\n",
              "\n",
              "  <svg xmlns=\"http://www.w3.org/2000/svg\" height=\"24px\" viewBox=\"0 -960 960 960\">\n",
              "    <path d=\"M120-120v-720h720v720H120Zm60-500h600v-160H180v160Zm220 220h160v-160H400v160Zm0 220h160v-160H400v160ZM180-400h160v-160H180v160Zm440 0h160v-160H620v160ZM180-180h160v-160H180v160Zm440 0h160v-160H620v160Z\"/>\n",
              "  </svg>\n",
              "    </button>\n",
              "\n",
              "  <style>\n",
              "    .colab-df-container {\n",
              "      display:flex;\n",
              "      gap: 12px;\n",
              "    }\n",
              "\n",
              "    .colab-df-convert {\n",
              "      background-color: #E8F0FE;\n",
              "      border: none;\n",
              "      border-radius: 50%;\n",
              "      cursor: pointer;\n",
              "      display: none;\n",
              "      fill: #1967D2;\n",
              "      height: 32px;\n",
              "      padding: 0 0 0 0;\n",
              "      width: 32px;\n",
              "    }\n",
              "\n",
              "    .colab-df-convert:hover {\n",
              "      background-color: #E2EBFA;\n",
              "      box-shadow: 0px 1px 2px rgba(60, 64, 67, 0.3), 0px 1px 3px 1px rgba(60, 64, 67, 0.15);\n",
              "      fill: #174EA6;\n",
              "    }\n",
              "\n",
              "    .colab-df-buttons div {\n",
              "      margin-bottom: 4px;\n",
              "    }\n",
              "\n",
              "    [theme=dark] .colab-df-convert {\n",
              "      background-color: #3B4455;\n",
              "      fill: #D2E3FC;\n",
              "    }\n",
              "\n",
              "    [theme=dark] .colab-df-convert:hover {\n",
              "      background-color: #434B5C;\n",
              "      box-shadow: 0px 1px 3px 1px rgba(0, 0, 0, 0.15);\n",
              "      filter: drop-shadow(0px 1px 2px rgba(0, 0, 0, 0.3));\n",
              "      fill: #FFFFFF;\n",
              "    }\n",
              "  </style>\n",
              "\n",
              "    <script>\n",
              "      const buttonEl =\n",
              "        document.querySelector('#df-a4c3dbff-906a-428e-b4de-9566a89f218a button.colab-df-convert');\n",
              "      buttonEl.style.display =\n",
              "        google.colab.kernel.accessAllowed ? 'block' : 'none';\n",
              "\n",
              "      async function convertToInteractive(key) {\n",
              "        const element = document.querySelector('#df-a4c3dbff-906a-428e-b4de-9566a89f218a');\n",
              "        const dataTable =\n",
              "          await google.colab.kernel.invokeFunction('convertToInteractive',\n",
              "                                                    [key], {});\n",
              "        if (!dataTable) return;\n",
              "\n",
              "        const docLinkHtml = 'Like what you see? Visit the ' +\n",
              "          '<a target=\"_blank\" href=https://colab.research.google.com/notebooks/data_table.ipynb>data table notebook</a>'\n",
              "          + ' to learn more about interactive tables.';\n",
              "        element.innerHTML = '';\n",
              "        dataTable['output_type'] = 'display_data';\n",
              "        await google.colab.output.renderOutput(dataTable, element);\n",
              "        const docLink = document.createElement('div');\n",
              "        docLink.innerHTML = docLinkHtml;\n",
              "        element.appendChild(docLink);\n",
              "      }\n",
              "    </script>\n",
              "  </div>\n",
              "\n",
              "\n",
              "<div id=\"df-97049412-7aae-4cec-9c97-4f7445e03951\">\n",
              "  <button class=\"colab-df-quickchart\" onclick=\"quickchart('df-97049412-7aae-4cec-9c97-4f7445e03951')\"\n",
              "            title=\"Suggest charts\"\n",
              "            style=\"display:none;\">\n",
              "\n",
              "<svg xmlns=\"http://www.w3.org/2000/svg\" height=\"24px\"viewBox=\"0 0 24 24\"\n",
              "     width=\"24px\">\n",
              "    <g>\n",
              "        <path d=\"M19 3H5c-1.1 0-2 .9-2 2v14c0 1.1.9 2 2 2h14c1.1 0 2-.9 2-2V5c0-1.1-.9-2-2-2zM9 17H7v-7h2v7zm4 0h-2V7h2v10zm4 0h-2v-4h2v4z\"/>\n",
              "    </g>\n",
              "</svg>\n",
              "  </button>\n",
              "\n",
              "<style>\n",
              "  .colab-df-quickchart {\n",
              "      --bg-color: #E8F0FE;\n",
              "      --fill-color: #1967D2;\n",
              "      --hover-bg-color: #E2EBFA;\n",
              "      --hover-fill-color: #174EA6;\n",
              "      --disabled-fill-color: #AAA;\n",
              "      --disabled-bg-color: #DDD;\n",
              "  }\n",
              "\n",
              "  [theme=dark] .colab-df-quickchart {\n",
              "      --bg-color: #3B4455;\n",
              "      --fill-color: #D2E3FC;\n",
              "      --hover-bg-color: #434B5C;\n",
              "      --hover-fill-color: #FFFFFF;\n",
              "      --disabled-bg-color: #3B4455;\n",
              "      --disabled-fill-color: #666;\n",
              "  }\n",
              "\n",
              "  .colab-df-quickchart {\n",
              "    background-color: var(--bg-color);\n",
              "    border: none;\n",
              "    border-radius: 50%;\n",
              "    cursor: pointer;\n",
              "    display: none;\n",
              "    fill: var(--fill-color);\n",
              "    height: 32px;\n",
              "    padding: 0;\n",
              "    width: 32px;\n",
              "  }\n",
              "\n",
              "  .colab-df-quickchart:hover {\n",
              "    background-color: var(--hover-bg-color);\n",
              "    box-shadow: 0 1px 2px rgba(60, 64, 67, 0.3), 0 1px 3px 1px rgba(60, 64, 67, 0.15);\n",
              "    fill: var(--button-hover-fill-color);\n",
              "  }\n",
              "\n",
              "  .colab-df-quickchart-complete:disabled,\n",
              "  .colab-df-quickchart-complete:disabled:hover {\n",
              "    background-color: var(--disabled-bg-color);\n",
              "    fill: var(--disabled-fill-color);\n",
              "    box-shadow: none;\n",
              "  }\n",
              "\n",
              "  .colab-df-spinner {\n",
              "    border: 2px solid var(--fill-color);\n",
              "    border-color: transparent;\n",
              "    border-bottom-color: var(--fill-color);\n",
              "    animation:\n",
              "      spin 1s steps(1) infinite;\n",
              "  }\n",
              "\n",
              "  @keyframes spin {\n",
              "    0% {\n",
              "      border-color: transparent;\n",
              "      border-bottom-color: var(--fill-color);\n",
              "      border-left-color: var(--fill-color);\n",
              "    }\n",
              "    20% {\n",
              "      border-color: transparent;\n",
              "      border-left-color: var(--fill-color);\n",
              "      border-top-color: var(--fill-color);\n",
              "    }\n",
              "    30% {\n",
              "      border-color: transparent;\n",
              "      border-left-color: var(--fill-color);\n",
              "      border-top-color: var(--fill-color);\n",
              "      border-right-color: var(--fill-color);\n",
              "    }\n",
              "    40% {\n",
              "      border-color: transparent;\n",
              "      border-right-color: var(--fill-color);\n",
              "      border-top-color: var(--fill-color);\n",
              "    }\n",
              "    60% {\n",
              "      border-color: transparent;\n",
              "      border-right-color: var(--fill-color);\n",
              "    }\n",
              "    80% {\n",
              "      border-color: transparent;\n",
              "      border-right-color: var(--fill-color);\n",
              "      border-bottom-color: var(--fill-color);\n",
              "    }\n",
              "    90% {\n",
              "      border-color: transparent;\n",
              "      border-bottom-color: var(--fill-color);\n",
              "    }\n",
              "  }\n",
              "</style>\n",
              "\n",
              "  <script>\n",
              "    async function quickchart(key) {\n",
              "      const quickchartButtonEl =\n",
              "        document.querySelector('#' + key + ' button');\n",
              "      quickchartButtonEl.disabled = true;  // To prevent multiple clicks.\n",
              "      quickchartButtonEl.classList.add('colab-df-spinner');\n",
              "      try {\n",
              "        const charts = await google.colab.kernel.invokeFunction(\n",
              "            'suggestCharts', [key], {});\n",
              "      } catch (error) {\n",
              "        console.error('Error during call to suggestCharts:', error);\n",
              "      }\n",
              "      quickchartButtonEl.classList.remove('colab-df-spinner');\n",
              "      quickchartButtonEl.classList.add('colab-df-quickchart-complete');\n",
              "    }\n",
              "    (() => {\n",
              "      let quickchartButtonEl =\n",
              "        document.querySelector('#df-97049412-7aae-4cec-9c97-4f7445e03951 button');\n",
              "      quickchartButtonEl.style.display =\n",
              "        google.colab.kernel.accessAllowed ? 'block' : 'none';\n",
              "    })();\n",
              "  </script>\n",
              "</div>\n",
              "\n",
              "    </div>\n",
              "  </div>\n"
            ],
            "application/vnd.google.colaboratory.intrinsic+json": {
              "type": "dataframe",
              "variable_name": "df",
              "summary": "{\n  \"name\": \"df\",\n  \"rows\": 16000,\n  \"fields\": [\n    {\n      \"column\": \"text\",\n      \"properties\": {\n        \"dtype\": \"string\",\n        \"num_unique_values\": 15969,\n        \"samples\": [\n          \"i feel rather imbicilic or at least complacent\",\n          \"i was in the bathroom i had sat down to pee it was to make me feel submissive again per instructions\",\n          \"i am thrilled with the way my skin and hair feel if you are like me you are skeptical\"\n        ],\n        \"semantic_type\": \"\",\n        \"description\": \"\"\n      }\n    },\n    {\n      \"column\": \"label\",\n      \"properties\": {\n        \"dtype\": \"number\",\n        \"std\": 1,\n        \"min\": 0,\n        \"max\": 5,\n        \"num_unique_values\": 6,\n        \"samples\": [\n          0,\n          3,\n          1\n        ],\n        \"semantic_type\": \"\",\n        \"description\": \"\"\n      }\n    },\n    {\n      \"column\": \"label_name\",\n      \"properties\": {\n        \"dtype\": \"category\",\n        \"num_unique_values\": 6,\n        \"samples\": [\n          \"sadness\",\n          \"anger\",\n          \"joy\"\n        ],\n        \"semantic_type\": \"\",\n        \"description\": \"\"\n      }\n    }\n  ]\n}"
            }
          },
          "metadata": {},
          "execution_count": 13
        }
      ],
      "source": [
        "def label_int2str(row):\n",
        "    return emotions[\"train\"].features[\"label\"].int2str(row)\n",
        "\n",
        "df[\"label_name\"] = df[\"label\"].apply(label_int2str)\n",
        "df.head()"
      ]
    },
    {
      "cell_type": "markdown",
      "metadata": {
        "id": "wBiHQE4FYHZa"
      },
      "source": [
        "Before diving into building a classifier, let's take a closer look at the dataset. As Andrej Karpathy notes in his famous blog post [\"A Recipe for Training Neural Networks\"](https://karpathy.github.io/2019/04/25/recipe), becoming \"one with the data\" is an essential step for training great models!"
      ]
    },
    {
      "cell_type": "markdown",
      "metadata": {
        "id": "FlP6l7PkYHZa"
      },
      "source": [
        "### Looking at the Class Distribution"
      ]
    },
    {
      "cell_type": "markdown",
      "metadata": {
        "id": "mJYJZdMqYHZa"
      },
      "source": [
        "Whenever you are working on text classification problems, it is a good idea to examine the distribution of examples across the classes. A dataset with a skewed class distribution might require a different treatment in terms of the training loss and evaluation metrics than a balanced one.\n",
        "\n",
        "With Pandas and Matplotlib, we can quickly visualize the class distribution as follows:"
      ]
    },
    {
      "cell_type": "code",
      "execution_count": 14,
      "metadata": {
        "id": "yr8LXctKYHZb",
        "outputId": "a3cc0115-fe4a-47cd-8605-c7b91f10d8f7",
        "colab": {
          "base_uri": "https://localhost:8080/",
          "height": 383
        }
      },
      "outputs": [
        {
          "output_type": "display_data",
          "data": {
            "text/plain": [
              "<Figure size 600x400 with 1 Axes>"
            ],
            "image/svg+xml": "<?xml version=\"1.0\" encoding=\"utf-8\" standalone=\"no\"?>\n<!DOCTYPE svg PUBLIC \"-//W3C//DTD SVG 1.1//EN\"\n  \"http://www.w3.org/Graphics/SVG/1.1/DTD/svg11.dtd\">\n<svg xmlns:xlink=\"http://www.w3.org/1999/xlink\" width=\"420.861875pt\" height=\"271.7155pt\" viewBox=\"0 0 420.861875 271.7155\" xmlns=\"http://www.w3.org/2000/svg\" version=\"1.1\">\n <metadata>\n  <rdf:RDF xmlns:dc=\"http://purl.org/dc/elements/1.1/\" xmlns:cc=\"http://creativecommons.org/ns#\" xmlns:rdf=\"http://www.w3.org/1999/02/22-rdf-syntax-ns#\">\n   <cc:Work>\n    <dc:type rdf:resource=\"http://purl.org/dc/dcmitype/StillImage\"/>\n    <dc:date>2024-05-23T06:21:02.457153</dc:date>\n    <dc:format>image/svg+xml</dc:format>\n    <dc:creator>\n     <cc:Agent>\n      <dc:title>Matplotlib v3.7.1, https://matplotlib.org/</dc:title>\n     </cc:Agent>\n    </dc:creator>\n   </cc:Work>\n  </rdf:RDF>\n </metadata>\n <defs>\n  <style type=\"text/css\">*{stroke-linejoin: round; stroke-linecap: butt}</style>\n </defs>\n <g id=\"figure_1\">\n  <g id=\"patch_1\">\n   <path d=\"M 0 271.7155 \nL 420.861875 271.7155 \nL 420.861875 0 \nL 0 0 \nz\n\" style=\"fill: #ffffff\"/>\n  </g>\n  <g id=\"axes_1\">\n   <g id=\"patch_2\">\n    <path d=\"M 78.861875 245.90175 \nL 413.661875 245.90175 \nL 413.661875 24.14175 \nL 78.861875 24.14175 \nz\n\" style=\"fill: #ffffff\"/>\n   </g>\n   <g id=\"patch_3\">\n    <path d=\"M 78.861875 236.66175 \nL 112.876475 236.66175 \nL 112.876475 218.18175 \nL 78.861875 218.18175 \nz\n\" clip-path=\"url(#pf2970790b8)\" style=\"fill: #0071bc\"/>\n   </g>\n   <g id=\"patch_4\">\n    <path d=\"M 78.861875 199.70175 \nL 156.405649 199.70175 \nL 156.405649 181.22175 \nL 78.861875 181.22175 \nz\n\" clip-path=\"url(#pf2970790b8)\" style=\"fill: #0071bc\"/>\n   </g>\n   <g id=\"patch_5\">\n    <path d=\"M 78.861875 162.74175 \nL 194.04768 162.74175 \nL 194.04768 144.26175 \nL 78.861875 144.26175 \nz\n\" clip-path=\"url(#pf2970790b8)\" style=\"fill: #0071bc\"/>\n   </g>\n   <g id=\"patch_6\">\n    <path d=\"M 78.861875 125.78175 \nL 207.249151 125.78175 \nL 207.249151 107.30175 \nL 78.861875 107.30175 \nz\n\" clip-path=\"url(#pf2970790b8)\" style=\"fill: #0071bc\"/>\n   </g>\n   <g id=\"patch_7\">\n    <path d=\"M 78.861875 88.82175 \nL 356.330623 88.82175 \nL 356.330623 70.34175 \nL 78.861875 70.34175 \nz\n\" clip-path=\"url(#pf2970790b8)\" style=\"fill: #0071bc\"/>\n   </g>\n   <g id=\"patch_8\">\n    <path d=\"M 78.861875 51.86175 \nL 397.719018 51.86175 \nL 397.719018 33.38175 \nL 78.861875 33.38175 \nz\n\" clip-path=\"url(#pf2970790b8)\" style=\"fill: #0071bc\"/>\n   </g>\n   <g id=\"matplotlib.axis_1\">\n    <g id=\"xtick_1\">\n     <g id=\"line2d_1\">\n      <defs>\n       <path id=\"m3d1f2c448b\" d=\"M 0 0 \nL 0 3.5 \n\" style=\"stroke: #000000; stroke-width: 0.8\"/>\n      </defs>\n      <g>\n       <use xlink:href=\"#m3d1f2c448b\" x=\"78.861875\" y=\"245.90175\" style=\"stroke: #000000; stroke-width: 0.8\"/>\n      </g>\n     </g>\n     <g id=\"text_1\">\n      <!-- 0 -->\n      <g transform=\"translate(75.044375 262.019875) scale(0.12 -0.12)\">\n       <defs>\n        <path id=\"DejaVuSans-30\" d=\"M 2034 4250 \nQ 1547 4250 1301 3770 \nQ 1056 3291 1056 2328 \nQ 1056 1369 1301 889 \nQ 1547 409 2034 409 \nQ 2525 409 2770 889 \nQ 3016 1369 3016 2328 \nQ 3016 3291 2770 3770 \nQ 2525 4250 2034 4250 \nz\nM 2034 4750 \nQ 2819 4750 3233 4129 \nQ 3647 3509 3647 2328 \nQ 3647 1150 3233 529 \nQ 2819 -91 2034 -91 \nQ 1250 -91 836 529 \nQ 422 1150 422 2328 \nQ 422 3509 836 4129 \nQ 1250 4750 2034 4750 \nz\n\" transform=\"scale(0.015625)\"/>\n       </defs>\n       <use xlink:href=\"#DejaVuSans-30\"/>\n      </g>\n     </g>\n    </g>\n    <g id=\"xtick_2\">\n     <g id=\"line2d_2\">\n      <g>\n       <use xlink:href=\"#m3d1f2c448b\" x=\"138.327959\" y=\"245.90175\" style=\"stroke: #000000; stroke-width: 0.8\"/>\n      </g>\n     </g>\n     <g id=\"text_2\">\n      <!-- 1000 -->\n      <g transform=\"translate(123.057959 262.019875) scale(0.12 -0.12)\">\n       <defs>\n        <path id=\"DejaVuSans-31\" d=\"M 794 531 \nL 1825 531 \nL 1825 4091 \nL 703 3866 \nL 703 4441 \nL 1819 4666 \nL 2450 4666 \nL 2450 531 \nL 3481 531 \nL 3481 0 \nL 794 0 \nL 794 531 \nz\n\" transform=\"scale(0.015625)\"/>\n       </defs>\n       <use xlink:href=\"#DejaVuSans-31\"/>\n       <use xlink:href=\"#DejaVuSans-30\" x=\"63.623047\"/>\n       <use xlink:href=\"#DejaVuSans-30\" x=\"127.246094\"/>\n       <use xlink:href=\"#DejaVuSans-30\" x=\"190.869141\"/>\n      </g>\n     </g>\n    </g>\n    <g id=\"xtick_3\">\n     <g id=\"line2d_3\">\n      <g>\n       <use xlink:href=\"#m3d1f2c448b\" x=\"197.794043\" y=\"245.90175\" style=\"stroke: #000000; stroke-width: 0.8\"/>\n      </g>\n     </g>\n     <g id=\"text_3\">\n      <!-- 2000 -->\n      <g transform=\"translate(182.524043 262.019875) scale(0.12 -0.12)\">\n       <defs>\n        <path id=\"DejaVuSans-32\" d=\"M 1228 531 \nL 3431 531 \nL 3431 0 \nL 469 0 \nL 469 531 \nQ 828 903 1448 1529 \nQ 2069 2156 2228 2338 \nQ 2531 2678 2651 2914 \nQ 2772 3150 2772 3378 \nQ 2772 3750 2511 3984 \nQ 2250 4219 1831 4219 \nQ 1534 4219 1204 4116 \nQ 875 4013 500 3803 \nL 500 4441 \nQ 881 4594 1212 4672 \nQ 1544 4750 1819 4750 \nQ 2544 4750 2975 4387 \nQ 3406 4025 3406 3419 \nQ 3406 3131 3298 2873 \nQ 3191 2616 2906 2266 \nQ 2828 2175 2409 1742 \nQ 1991 1309 1228 531 \nz\n\" transform=\"scale(0.015625)\"/>\n       </defs>\n       <use xlink:href=\"#DejaVuSans-32\"/>\n       <use xlink:href=\"#DejaVuSans-30\" x=\"63.623047\"/>\n       <use xlink:href=\"#DejaVuSans-30\" x=\"127.246094\"/>\n       <use xlink:href=\"#DejaVuSans-30\" x=\"190.869141\"/>\n      </g>\n     </g>\n    </g>\n    <g id=\"xtick_4\">\n     <g id=\"line2d_4\">\n      <g>\n       <use xlink:href=\"#m3d1f2c448b\" x=\"257.260127\" y=\"245.90175\" style=\"stroke: #000000; stroke-width: 0.8\"/>\n      </g>\n     </g>\n     <g id=\"text_4\">\n      <!-- 3000 -->\n      <g transform=\"translate(241.990127 262.019875) scale(0.12 -0.12)\">\n       <defs>\n        <path id=\"DejaVuSans-33\" d=\"M 2597 2516 \nQ 3050 2419 3304 2112 \nQ 3559 1806 3559 1356 \nQ 3559 666 3084 287 \nQ 2609 -91 1734 -91 \nQ 1441 -91 1130 -33 \nQ 819 25 488 141 \nL 488 750 \nQ 750 597 1062 519 \nQ 1375 441 1716 441 \nQ 2309 441 2620 675 \nQ 2931 909 2931 1356 \nQ 2931 1769 2642 2001 \nQ 2353 2234 1838 2234 \nL 1294 2234 \nL 1294 2753 \nL 1863 2753 \nQ 2328 2753 2575 2939 \nQ 2822 3125 2822 3475 \nQ 2822 3834 2567 4026 \nQ 2313 4219 1838 4219 \nQ 1578 4219 1281 4162 \nQ 984 4106 628 3988 \nL 628 4550 \nQ 988 4650 1302 4700 \nQ 1616 4750 1894 4750 \nQ 2613 4750 3031 4423 \nQ 3450 4097 3450 3541 \nQ 3450 3153 3228 2886 \nQ 3006 2619 2597 2516 \nz\n\" transform=\"scale(0.015625)\"/>\n       </defs>\n       <use xlink:href=\"#DejaVuSans-33\"/>\n       <use xlink:href=\"#DejaVuSans-30\" x=\"63.623047\"/>\n       <use xlink:href=\"#DejaVuSans-30\" x=\"127.246094\"/>\n       <use xlink:href=\"#DejaVuSans-30\" x=\"190.869141\"/>\n      </g>\n     </g>\n    </g>\n    <g id=\"xtick_5\">\n     <g id=\"line2d_5\">\n      <g>\n       <use xlink:href=\"#m3d1f2c448b\" x=\"316.726211\" y=\"245.90175\" style=\"stroke: #000000; stroke-width: 0.8\"/>\n      </g>\n     </g>\n     <g id=\"text_5\">\n      <!-- 4000 -->\n      <g transform=\"translate(301.456211 262.019875) scale(0.12 -0.12)\">\n       <defs>\n        <path id=\"DejaVuSans-34\" d=\"M 2419 4116 \nL 825 1625 \nL 2419 1625 \nL 2419 4116 \nz\nM 2253 4666 \nL 3047 4666 \nL 3047 1625 \nL 3713 1625 \nL 3713 1100 \nL 3047 1100 \nL 3047 0 \nL 2419 0 \nL 2419 1100 \nL 313 1100 \nL 313 1709 \nL 2253 4666 \nz\n\" transform=\"scale(0.015625)\"/>\n       </defs>\n       <use xlink:href=\"#DejaVuSans-34\"/>\n       <use xlink:href=\"#DejaVuSans-30\" x=\"63.623047\"/>\n       <use xlink:href=\"#DejaVuSans-30\" x=\"127.246094\"/>\n       <use xlink:href=\"#DejaVuSans-30\" x=\"190.869141\"/>\n      </g>\n     </g>\n    </g>\n    <g id=\"xtick_6\">\n     <g id=\"line2d_6\">\n      <g>\n       <use xlink:href=\"#m3d1f2c448b\" x=\"376.192295\" y=\"245.90175\" style=\"stroke: #000000; stroke-width: 0.8\"/>\n      </g>\n     </g>\n     <g id=\"text_6\">\n      <!-- 5000 -->\n      <g transform=\"translate(360.922295 262.019875) scale(0.12 -0.12)\">\n       <defs>\n        <path id=\"DejaVuSans-35\" d=\"M 691 4666 \nL 3169 4666 \nL 3169 4134 \nL 1269 4134 \nL 1269 2991 \nQ 1406 3038 1543 3061 \nQ 1681 3084 1819 3084 \nQ 2600 3084 3056 2656 \nQ 3513 2228 3513 1497 \nQ 3513 744 3044 326 \nQ 2575 -91 1722 -91 \nQ 1428 -91 1123 -41 \nQ 819 9 494 109 \nL 494 744 \nQ 775 591 1075 516 \nQ 1375 441 1709 441 \nQ 2250 441 2565 725 \nQ 2881 1009 2881 1497 \nQ 2881 1984 2565 2268 \nQ 2250 2553 1709 2553 \nQ 1456 2553 1204 2497 \nQ 953 2441 691 2322 \nL 691 4666 \nz\n\" transform=\"scale(0.015625)\"/>\n       </defs>\n       <use xlink:href=\"#DejaVuSans-35\"/>\n       <use xlink:href=\"#DejaVuSans-30\" x=\"63.623047\"/>\n       <use xlink:href=\"#DejaVuSans-30\" x=\"127.246094\"/>\n       <use xlink:href=\"#DejaVuSans-30\" x=\"190.869141\"/>\n      </g>\n     </g>\n    </g>\n   </g>\n   <g id=\"matplotlib.axis_2\">\n    <g id=\"ytick_1\">\n     <g id=\"line2d_7\">\n      <defs>\n       <path id=\"mcd1789db5e\" d=\"M 0 0 \nL -3.5 0 \n\" style=\"stroke: #000000; stroke-width: 0.8\"/>\n      </defs>\n      <g>\n       <use xlink:href=\"#mcd1789db5e\" x=\"78.861875\" y=\"227.42175\" style=\"stroke: #000000; stroke-width: 0.8\"/>\n      </g>\n     </g>\n     <g id=\"text_7\">\n      <!-- surprise -->\n      <g transform=\"translate(23.5525 231.980813) scale(0.12 -0.12)\">\n       <defs>\n        <path id=\"DejaVuSans-73\" d=\"M 2834 3397 \nL 2834 2853 \nQ 2591 2978 2328 3040 \nQ 2066 3103 1784 3103 \nQ 1356 3103 1142 2972 \nQ 928 2841 928 2578 \nQ 928 2378 1081 2264 \nQ 1234 2150 1697 2047 \nL 1894 2003 \nQ 2506 1872 2764 1633 \nQ 3022 1394 3022 966 \nQ 3022 478 2636 193 \nQ 2250 -91 1575 -91 \nQ 1294 -91 989 -36 \nQ 684 19 347 128 \nL 347 722 \nQ 666 556 975 473 \nQ 1284 391 1588 391 \nQ 1994 391 2212 530 \nQ 2431 669 2431 922 \nQ 2431 1156 2273 1281 \nQ 2116 1406 1581 1522 \nL 1381 1569 \nQ 847 1681 609 1914 \nQ 372 2147 372 2553 \nQ 372 3047 722 3315 \nQ 1072 3584 1716 3584 \nQ 2034 3584 2315 3537 \nQ 2597 3491 2834 3397 \nz\n\" transform=\"scale(0.015625)\"/>\n        <path id=\"DejaVuSans-75\" d=\"M 544 1381 \nL 544 3500 \nL 1119 3500 \nL 1119 1403 \nQ 1119 906 1312 657 \nQ 1506 409 1894 409 \nQ 2359 409 2629 706 \nQ 2900 1003 2900 1516 \nL 2900 3500 \nL 3475 3500 \nL 3475 0 \nL 2900 0 \nL 2900 538 \nQ 2691 219 2414 64 \nQ 2138 -91 1772 -91 \nQ 1169 -91 856 284 \nQ 544 659 544 1381 \nz\nM 1991 3584 \nL 1991 3584 \nz\n\" transform=\"scale(0.015625)\"/>\n        <path id=\"DejaVuSans-72\" d=\"M 2631 2963 \nQ 2534 3019 2420 3045 \nQ 2306 3072 2169 3072 \nQ 1681 3072 1420 2755 \nQ 1159 2438 1159 1844 \nL 1159 0 \nL 581 0 \nL 581 3500 \nL 1159 3500 \nL 1159 2956 \nQ 1341 3275 1631 3429 \nQ 1922 3584 2338 3584 \nQ 2397 3584 2469 3576 \nQ 2541 3569 2628 3553 \nL 2631 2963 \nz\n\" transform=\"scale(0.015625)\"/>\n        <path id=\"DejaVuSans-70\" d=\"M 1159 525 \nL 1159 -1331 \nL 581 -1331 \nL 581 3500 \nL 1159 3500 \nL 1159 2969 \nQ 1341 3281 1617 3432 \nQ 1894 3584 2278 3584 \nQ 2916 3584 3314 3078 \nQ 3713 2572 3713 1747 \nQ 3713 922 3314 415 \nQ 2916 -91 2278 -91 \nQ 1894 -91 1617 61 \nQ 1341 213 1159 525 \nz\nM 3116 1747 \nQ 3116 2381 2855 2742 \nQ 2594 3103 2138 3103 \nQ 1681 3103 1420 2742 \nQ 1159 2381 1159 1747 \nQ 1159 1113 1420 752 \nQ 1681 391 2138 391 \nQ 2594 391 2855 752 \nQ 3116 1113 3116 1747 \nz\n\" transform=\"scale(0.015625)\"/>\n        <path id=\"DejaVuSans-69\" d=\"M 603 3500 \nL 1178 3500 \nL 1178 0 \nL 603 0 \nL 603 3500 \nz\nM 603 4863 \nL 1178 4863 \nL 1178 4134 \nL 603 4134 \nL 603 4863 \nz\n\" transform=\"scale(0.015625)\"/>\n        <path id=\"DejaVuSans-65\" d=\"M 3597 1894 \nL 3597 1613 \nL 953 1613 \nQ 991 1019 1311 708 \nQ 1631 397 2203 397 \nQ 2534 397 2845 478 \nQ 3156 559 3463 722 \nL 3463 178 \nQ 3153 47 2828 -22 \nQ 2503 -91 2169 -91 \nQ 1331 -91 842 396 \nQ 353 884 353 1716 \nQ 353 2575 817 3079 \nQ 1281 3584 2069 3584 \nQ 2775 3584 3186 3129 \nQ 3597 2675 3597 1894 \nz\nM 3022 2063 \nQ 3016 2534 2758 2815 \nQ 2500 3097 2075 3097 \nQ 1594 3097 1305 2825 \nQ 1016 2553 972 2059 \nL 3022 2063 \nz\n\" transform=\"scale(0.015625)\"/>\n       </defs>\n       <use xlink:href=\"#DejaVuSans-73\"/>\n       <use xlink:href=\"#DejaVuSans-75\" x=\"52.099609\"/>\n       <use xlink:href=\"#DejaVuSans-72\" x=\"115.478516\"/>\n       <use xlink:href=\"#DejaVuSans-70\" x=\"156.591797\"/>\n       <use xlink:href=\"#DejaVuSans-72\" x=\"220.068359\"/>\n       <use xlink:href=\"#DejaVuSans-69\" x=\"261.181641\"/>\n       <use xlink:href=\"#DejaVuSans-73\" x=\"288.964844\"/>\n       <use xlink:href=\"#DejaVuSans-65\" x=\"341.064453\"/>\n      </g>\n     </g>\n    </g>\n    <g id=\"ytick_2\">\n     <g id=\"line2d_8\">\n      <g>\n       <use xlink:href=\"#mcd1789db5e\" x=\"78.861875\" y=\"190.46175\" style=\"stroke: #000000; stroke-width: 0.8\"/>\n      </g>\n     </g>\n     <g id=\"text_8\">\n      <!-- love -->\n      <g transform=\"translate(46.699375 195.020813) scale(0.12 -0.12)\">\n       <defs>\n        <path id=\"DejaVuSans-6c\" d=\"M 603 4863 \nL 1178 4863 \nL 1178 0 \nL 603 0 \nL 603 4863 \nz\n\" transform=\"scale(0.015625)\"/>\n        <path id=\"DejaVuSans-6f\" d=\"M 1959 3097 \nQ 1497 3097 1228 2736 \nQ 959 2375 959 1747 \nQ 959 1119 1226 758 \nQ 1494 397 1959 397 \nQ 2419 397 2687 759 \nQ 2956 1122 2956 1747 \nQ 2956 2369 2687 2733 \nQ 2419 3097 1959 3097 \nz\nM 1959 3584 \nQ 2709 3584 3137 3096 \nQ 3566 2609 3566 1747 \nQ 3566 888 3137 398 \nQ 2709 -91 1959 -91 \nQ 1206 -91 779 398 \nQ 353 888 353 1747 \nQ 353 2609 779 3096 \nQ 1206 3584 1959 3584 \nz\n\" transform=\"scale(0.015625)\"/>\n        <path id=\"DejaVuSans-76\" d=\"M 191 3500 \nL 800 3500 \nL 1894 563 \nL 2988 3500 \nL 3597 3500 \nL 2284 0 \nL 1503 0 \nL 191 3500 \nz\n\" transform=\"scale(0.015625)\"/>\n       </defs>\n       <use xlink:href=\"#DejaVuSans-6c\"/>\n       <use xlink:href=\"#DejaVuSans-6f\" x=\"27.783203\"/>\n       <use xlink:href=\"#DejaVuSans-76\" x=\"88.964844\"/>\n       <use xlink:href=\"#DejaVuSans-65\" x=\"148.144531\"/>\n      </g>\n     </g>\n    </g>\n    <g id=\"ytick_3\">\n     <g id=\"line2d_9\">\n      <g>\n       <use xlink:href=\"#mcd1789db5e\" x=\"78.861875\" y=\"153.50175\" style=\"stroke: #000000; stroke-width: 0.8\"/>\n      </g>\n     </g>\n     <g id=\"text_9\">\n      <!-- fear -->\n      <g transform=\"translate(47.966875 158.060813) scale(0.12 -0.12)\">\n       <defs>\n        <path id=\"DejaVuSans-66\" d=\"M 2375 4863 \nL 2375 4384 \nL 1825 4384 \nQ 1516 4384 1395 4259 \nQ 1275 4134 1275 3809 \nL 1275 3500 \nL 2222 3500 \nL 2222 3053 \nL 1275 3053 \nL 1275 0 \nL 697 0 \nL 697 3053 \nL 147 3053 \nL 147 3500 \nL 697 3500 \nL 697 3744 \nQ 697 4328 969 4595 \nQ 1241 4863 1831 4863 \nL 2375 4863 \nz\n\" transform=\"scale(0.015625)\"/>\n        <path id=\"DejaVuSans-61\" d=\"M 2194 1759 \nQ 1497 1759 1228 1600 \nQ 959 1441 959 1056 \nQ 959 750 1161 570 \nQ 1363 391 1709 391 \nQ 2188 391 2477 730 \nQ 2766 1069 2766 1631 \nL 2766 1759 \nL 2194 1759 \nz\nM 3341 1997 \nL 3341 0 \nL 2766 0 \nL 2766 531 \nQ 2569 213 2275 61 \nQ 1981 -91 1556 -91 \nQ 1019 -91 701 211 \nQ 384 513 384 1019 \nQ 384 1609 779 1909 \nQ 1175 2209 1959 2209 \nL 2766 2209 \nL 2766 2266 \nQ 2766 2663 2505 2880 \nQ 2244 3097 1772 3097 \nQ 1472 3097 1187 3025 \nQ 903 2953 641 2809 \nL 641 3341 \nQ 956 3463 1253 3523 \nQ 1550 3584 1831 3584 \nQ 2591 3584 2966 3190 \nQ 3341 2797 3341 1997 \nz\n\" transform=\"scale(0.015625)\"/>\n       </defs>\n       <use xlink:href=\"#DejaVuSans-66\"/>\n       <use xlink:href=\"#DejaVuSans-65\" x=\"35.205078\"/>\n       <use xlink:href=\"#DejaVuSans-61\" x=\"96.728516\"/>\n       <use xlink:href=\"#DejaVuSans-72\" x=\"158.007812\"/>\n      </g>\n     </g>\n    </g>\n    <g id=\"ytick_4\">\n     <g id=\"line2d_10\">\n      <g>\n       <use xlink:href=\"#mcd1789db5e\" x=\"78.861875\" y=\"116.54175\" style=\"stroke: #000000; stroke-width: 0.8\"/>\n      </g>\n     </g>\n     <g id=\"text_10\">\n      <!-- anger -->\n      <g transform=\"translate(36.968125 121.100813) scale(0.12 -0.12)\">\n       <defs>\n        <path id=\"DejaVuSans-6e\" d=\"M 3513 2113 \nL 3513 0 \nL 2938 0 \nL 2938 2094 \nQ 2938 2591 2744 2837 \nQ 2550 3084 2163 3084 \nQ 1697 3084 1428 2787 \nQ 1159 2491 1159 1978 \nL 1159 0 \nL 581 0 \nL 581 3500 \nL 1159 3500 \nL 1159 2956 \nQ 1366 3272 1645 3428 \nQ 1925 3584 2291 3584 \nQ 2894 3584 3203 3211 \nQ 3513 2838 3513 2113 \nz\n\" transform=\"scale(0.015625)\"/>\n        <path id=\"DejaVuSans-67\" d=\"M 2906 1791 \nQ 2906 2416 2648 2759 \nQ 2391 3103 1925 3103 \nQ 1463 3103 1205 2759 \nQ 947 2416 947 1791 \nQ 947 1169 1205 825 \nQ 1463 481 1925 481 \nQ 2391 481 2648 825 \nQ 2906 1169 2906 1791 \nz\nM 3481 434 \nQ 3481 -459 3084 -895 \nQ 2688 -1331 1869 -1331 \nQ 1566 -1331 1297 -1286 \nQ 1028 -1241 775 -1147 \nL 775 -588 \nQ 1028 -725 1275 -790 \nQ 1522 -856 1778 -856 \nQ 2344 -856 2625 -561 \nQ 2906 -266 2906 331 \nL 2906 616 \nQ 2728 306 2450 153 \nQ 2172 0 1784 0 \nQ 1141 0 747 490 \nQ 353 981 353 1791 \nQ 353 2603 747 3093 \nQ 1141 3584 1784 3584 \nQ 2172 3584 2450 3431 \nQ 2728 3278 2906 2969 \nL 2906 3500 \nL 3481 3500 \nL 3481 434 \nz\n\" transform=\"scale(0.015625)\"/>\n       </defs>\n       <use xlink:href=\"#DejaVuSans-61\"/>\n       <use xlink:href=\"#DejaVuSans-6e\" x=\"61.279297\"/>\n       <use xlink:href=\"#DejaVuSans-67\" x=\"124.658203\"/>\n       <use xlink:href=\"#DejaVuSans-65\" x=\"188.134766\"/>\n       <use xlink:href=\"#DejaVuSans-72\" x=\"249.658203\"/>\n      </g>\n     </g>\n    </g>\n    <g id=\"ytick_5\">\n     <g id=\"line2d_11\">\n      <g>\n       <use xlink:href=\"#mcd1789db5e\" x=\"78.861875\" y=\"79.58175\" style=\"stroke: #000000; stroke-width: 0.8\"/>\n      </g>\n     </g>\n     <g id=\"text_11\">\n      <!-- sadness -->\n      <g transform=\"translate(23.1475 84.140813) scale(0.12 -0.12)\">\n       <defs>\n        <path id=\"DejaVuSans-64\" d=\"M 2906 2969 \nL 2906 4863 \nL 3481 4863 \nL 3481 0 \nL 2906 0 \nL 2906 525 \nQ 2725 213 2448 61 \nQ 2172 -91 1784 -91 \nQ 1150 -91 751 415 \nQ 353 922 353 1747 \nQ 353 2572 751 3078 \nQ 1150 3584 1784 3584 \nQ 2172 3584 2448 3432 \nQ 2725 3281 2906 2969 \nz\nM 947 1747 \nQ 947 1113 1208 752 \nQ 1469 391 1925 391 \nQ 2381 391 2643 752 \nQ 2906 1113 2906 1747 \nQ 2906 2381 2643 2742 \nQ 2381 3103 1925 3103 \nQ 1469 3103 1208 2742 \nQ 947 2381 947 1747 \nz\n\" transform=\"scale(0.015625)\"/>\n       </defs>\n       <use xlink:href=\"#DejaVuSans-73\"/>\n       <use xlink:href=\"#DejaVuSans-61\" x=\"52.099609\"/>\n       <use xlink:href=\"#DejaVuSans-64\" x=\"113.378906\"/>\n       <use xlink:href=\"#DejaVuSans-6e\" x=\"176.855469\"/>\n       <use xlink:href=\"#DejaVuSans-65\" x=\"240.234375\"/>\n       <use xlink:href=\"#DejaVuSans-73\" x=\"301.757812\"/>\n       <use xlink:href=\"#DejaVuSans-73\" x=\"353.857422\"/>\n      </g>\n     </g>\n    </g>\n    <g id=\"ytick_6\">\n     <g id=\"line2d_12\">\n      <g>\n       <use xlink:href=\"#mcd1789db5e\" x=\"78.861875\" y=\"42.62175\" style=\"stroke: #000000; stroke-width: 0.8\"/>\n      </g>\n     </g>\n     <g id=\"text_12\">\n      <!-- joy -->\n      <g transform=\"translate(54.083125 47.180813) scale(0.12 -0.12)\">\n       <defs>\n        <path id=\"DejaVuSans-6a\" d=\"M 603 3500 \nL 1178 3500 \nL 1178 -63 \nQ 1178 -731 923 -1031 \nQ 669 -1331 103 -1331 \nL -116 -1331 \nL -116 -844 \nL 38 -844 \nQ 366 -844 484 -692 \nQ 603 -541 603 -63 \nL 603 3500 \nz\nM 603 4863 \nL 1178 4863 \nL 1178 4134 \nL 603 4134 \nL 603 4863 \nz\n\" transform=\"scale(0.015625)\"/>\n        <path id=\"DejaVuSans-79\" d=\"M 2059 -325 \nQ 1816 -950 1584 -1140 \nQ 1353 -1331 966 -1331 \nL 506 -1331 \nL 506 -850 \nL 844 -850 \nQ 1081 -850 1212 -737 \nQ 1344 -625 1503 -206 \nL 1606 56 \nL 191 3500 \nL 800 3500 \nL 1894 763 \nL 2988 3500 \nL 3597 3500 \nL 2059 -325 \nz\n\" transform=\"scale(0.015625)\"/>\n       </defs>\n       <use xlink:href=\"#DejaVuSans-6a\"/>\n       <use xlink:href=\"#DejaVuSans-6f\" x=\"27.783203\"/>\n       <use xlink:href=\"#DejaVuSans-79\" x=\"88.964844\"/>\n      </g>\n     </g>\n    </g>\n    <g id=\"text_13\">\n     <!-- label_name -->\n     <g transform=\"translate(16.318125 169.548938) rotate(-90) scale(0.12 -0.12)\">\n      <defs>\n       <path id=\"DejaVuSans-62\" d=\"M 3116 1747 \nQ 3116 2381 2855 2742 \nQ 2594 3103 2138 3103 \nQ 1681 3103 1420 2742 \nQ 1159 2381 1159 1747 \nQ 1159 1113 1420 752 \nQ 1681 391 2138 391 \nQ 2594 391 2855 752 \nQ 3116 1113 3116 1747 \nz\nM 1159 2969 \nQ 1341 3281 1617 3432 \nQ 1894 3584 2278 3584 \nQ 2916 3584 3314 3078 \nQ 3713 2572 3713 1747 \nQ 3713 922 3314 415 \nQ 2916 -91 2278 -91 \nQ 1894 -91 1617 61 \nQ 1341 213 1159 525 \nL 1159 0 \nL 581 0 \nL 581 4863 \nL 1159 4863 \nL 1159 2969 \nz\n\" transform=\"scale(0.015625)\"/>\n       <path id=\"DejaVuSans-5f\" d=\"M 3263 -1063 \nL 3263 -1509 \nL -63 -1509 \nL -63 -1063 \nL 3263 -1063 \nz\n\" transform=\"scale(0.015625)\"/>\n       <path id=\"DejaVuSans-6d\" d=\"M 3328 2828 \nQ 3544 3216 3844 3400 \nQ 4144 3584 4550 3584 \nQ 5097 3584 5394 3201 \nQ 5691 2819 5691 2113 \nL 5691 0 \nL 5113 0 \nL 5113 2094 \nQ 5113 2597 4934 2840 \nQ 4756 3084 4391 3084 \nQ 3944 3084 3684 2787 \nQ 3425 2491 3425 1978 \nL 3425 0 \nL 2847 0 \nL 2847 2094 \nQ 2847 2600 2669 2842 \nQ 2491 3084 2119 3084 \nQ 1678 3084 1418 2786 \nQ 1159 2488 1159 1978 \nL 1159 0 \nL 581 0 \nL 581 3500 \nL 1159 3500 \nL 1159 2956 \nQ 1356 3278 1631 3431 \nQ 1906 3584 2284 3584 \nQ 2666 3584 2933 3390 \nQ 3200 3197 3328 2828 \nz\n\" transform=\"scale(0.015625)\"/>\n      </defs>\n      <use xlink:href=\"#DejaVuSans-6c\"/>\n      <use xlink:href=\"#DejaVuSans-61\" x=\"27.783203\"/>\n      <use xlink:href=\"#DejaVuSans-62\" x=\"89.0625\"/>\n      <use xlink:href=\"#DejaVuSans-65\" x=\"152.539062\"/>\n      <use xlink:href=\"#DejaVuSans-6c\" x=\"214.0625\"/>\n      <use xlink:href=\"#DejaVuSans-5f\" x=\"241.845703\"/>\n      <use xlink:href=\"#DejaVuSans-6e\" x=\"291.845703\"/>\n      <use xlink:href=\"#DejaVuSans-61\" x=\"355.224609\"/>\n      <use xlink:href=\"#DejaVuSans-6d\" x=\"416.503906\"/>\n      <use xlink:href=\"#DejaVuSans-65\" x=\"513.916016\"/>\n     </g>\n    </g>\n   </g>\n   <g id=\"patch_9\">\n    <path d=\"M 78.861875 245.90175 \nL 78.861875 24.14175 \n\" style=\"fill: none; stroke: #000000; stroke-width: 0.8; stroke-linejoin: miter; stroke-linecap: square\"/>\n   </g>\n   <g id=\"patch_10\">\n    <path d=\"M 413.661875 245.90175 \nL 413.661875 24.14175 \n\" style=\"fill: none; stroke: #000000; stroke-width: 0.8; stroke-linejoin: miter; stroke-linecap: square\"/>\n   </g>\n   <g id=\"patch_11\">\n    <path d=\"M 78.861875 245.90175 \nL 413.661875 245.90175 \n\" style=\"fill: none; stroke: #000000; stroke-width: 0.8; stroke-linejoin: miter; stroke-linecap: square\"/>\n   </g>\n   <g id=\"patch_12\">\n    <path d=\"M 78.861875 24.14175 \nL 413.661875 24.14175 \n\" style=\"fill: none; stroke: #000000; stroke-width: 0.8; stroke-linejoin: miter; stroke-linecap: square\"/>\n   </g>\n   <g id=\"text_14\">\n    <!-- Frequency of Classes -->\n    <g transform=\"translate(170.427875 18.14175) scale(0.144 -0.144)\">\n     <defs>\n      <path id=\"DejaVuSans-46\" d=\"M 628 4666 \nL 3309 4666 \nL 3309 4134 \nL 1259 4134 \nL 1259 2759 \nL 3109 2759 \nL 3109 2228 \nL 1259 2228 \nL 1259 0 \nL 628 0 \nL 628 4666 \nz\n\" transform=\"scale(0.015625)\"/>\n      <path id=\"DejaVuSans-71\" d=\"M 947 1747 \nQ 947 1113 1208 752 \nQ 1469 391 1925 391 \nQ 2381 391 2643 752 \nQ 2906 1113 2906 1747 \nQ 2906 2381 2643 2742 \nQ 2381 3103 1925 3103 \nQ 1469 3103 1208 2742 \nQ 947 2381 947 1747 \nz\nM 2906 525 \nQ 2725 213 2448 61 \nQ 2172 -91 1784 -91 \nQ 1150 -91 751 415 \nQ 353 922 353 1747 \nQ 353 2572 751 3078 \nQ 1150 3584 1784 3584 \nQ 2172 3584 2448 3432 \nQ 2725 3281 2906 2969 \nL 2906 3500 \nL 3481 3500 \nL 3481 -1331 \nL 2906 -1331 \nL 2906 525 \nz\n\" transform=\"scale(0.015625)\"/>\n      <path id=\"DejaVuSans-63\" d=\"M 3122 3366 \nL 3122 2828 \nQ 2878 2963 2633 3030 \nQ 2388 3097 2138 3097 \nQ 1578 3097 1268 2742 \nQ 959 2388 959 1747 \nQ 959 1106 1268 751 \nQ 1578 397 2138 397 \nQ 2388 397 2633 464 \nQ 2878 531 3122 666 \nL 3122 134 \nQ 2881 22 2623 -34 \nQ 2366 -91 2075 -91 \nQ 1284 -91 818 406 \nQ 353 903 353 1747 \nQ 353 2603 823 3093 \nQ 1294 3584 2113 3584 \nQ 2378 3584 2631 3529 \nQ 2884 3475 3122 3366 \nz\n\" transform=\"scale(0.015625)\"/>\n      <path id=\"DejaVuSans-20\" transform=\"scale(0.015625)\"/>\n      <path id=\"DejaVuSans-43\" d=\"M 4122 4306 \nL 4122 3641 \nQ 3803 3938 3442 4084 \nQ 3081 4231 2675 4231 \nQ 1875 4231 1450 3742 \nQ 1025 3253 1025 2328 \nQ 1025 1406 1450 917 \nQ 1875 428 2675 428 \nQ 3081 428 3442 575 \nQ 3803 722 4122 1019 \nL 4122 359 \nQ 3791 134 3420 21 \nQ 3050 -91 2638 -91 \nQ 1578 -91 968 557 \nQ 359 1206 359 2328 \nQ 359 3453 968 4101 \nQ 1578 4750 2638 4750 \nQ 3056 4750 3426 4639 \nQ 3797 4528 4122 4306 \nz\n\" transform=\"scale(0.015625)\"/>\n     </defs>\n     <use xlink:href=\"#DejaVuSans-46\"/>\n     <use xlink:href=\"#DejaVuSans-72\" x=\"50.269531\"/>\n     <use xlink:href=\"#DejaVuSans-65\" x=\"89.132812\"/>\n     <use xlink:href=\"#DejaVuSans-71\" x=\"150.65625\"/>\n     <use xlink:href=\"#DejaVuSans-75\" x=\"214.132812\"/>\n     <use xlink:href=\"#DejaVuSans-65\" x=\"277.511719\"/>\n     <use xlink:href=\"#DejaVuSans-6e\" x=\"339.035156\"/>\n     <use xlink:href=\"#DejaVuSans-63\" x=\"402.414062\"/>\n     <use xlink:href=\"#DejaVuSans-79\" x=\"457.394531\"/>\n     <use xlink:href=\"#DejaVuSans-20\" x=\"516.574219\"/>\n     <use xlink:href=\"#DejaVuSans-6f\" x=\"548.361328\"/>\n     <use xlink:href=\"#DejaVuSans-66\" x=\"609.542969\"/>\n     <use xlink:href=\"#DejaVuSans-20\" x=\"644.748047\"/>\n     <use xlink:href=\"#DejaVuSans-43\" x=\"676.535156\"/>\n     <use xlink:href=\"#DejaVuSans-6c\" x=\"746.359375\"/>\n     <use xlink:href=\"#DejaVuSans-61\" x=\"774.142578\"/>\n     <use xlink:href=\"#DejaVuSans-73\" x=\"835.421875\"/>\n     <use xlink:href=\"#DejaVuSans-73\" x=\"887.521484\"/>\n     <use xlink:href=\"#DejaVuSans-65\" x=\"939.621094\"/>\n     <use xlink:href=\"#DejaVuSans-73\" x=\"1001.144531\"/>\n    </g>\n   </g>\n  </g>\n </g>\n <defs>\n  <clipPath id=\"pf2970790b8\">\n   <rect x=\"78.861875\" y=\"24.14175\" width=\"334.8\" height=\"221.76\"/>\n  </clipPath>\n </defs>\n</svg>\n",
            "application/pdf": "[encoded data removed]"
          },
          "metadata": {}
        }
      ],
      "source": [
        "import matplotlib.pyplot as plt\n",
        "\n",
        "df[\"label_name\"].value_counts(ascending=True).plot.barh()\n",
        "plt.title(\"Frequency of Classes\")\n",
        "plt.show()"
      ]
    },
    {
      "cell_type": "markdown",
      "metadata": {
        "id": "nnqy0q0mYHZb"
      },
      "source": [
        "In this case, we can see that the dataset is heavily imbalanced; the `joy` and `sadness` classes appear frequently, whereas `love` and `surprise` are about 5–10 times rarer. There are several ways to deal with imbalanced data, including:\n",
        "\n",
        "* Randomly oversample the minority class.\n",
        "* Randomly undersample the majority class.\n",
        "* Gather more labeled data from the underrepresented classes."
      ]
    },
    {
      "cell_type": "markdown",
      "metadata": {
        "id": "h-turUBWYHZb"
      },
      "source": [
        "To keep things simple in this chapter, we'll work with the raw, unbalanced class frequencies. If you want to learn more about these sampling techniques, we recommend checking out the [Imbalanced-learn library](https://imbalanced-learn.org/stable/). Just make sure that you don't apply sampling methods _before_ creating your train/test splits, or you'll get plenty of leakage between them!\n",
        "\n",
        "Now that we've looked at the classes, let's take a look at the tweets themselves."
      ]
    },
    {
      "cell_type": "markdown",
      "metadata": {
        "id": "wrKe_b_KYHZb"
      },
      "source": [
        "### How Long Are Our Tweets?"
      ]
    },
    {
      "cell_type": "markdown",
      "metadata": {
        "id": "mJYrgUJ_YHZb"
      },
      "source": [
        "Transformer models have a maximum input sequence length that is referred to as the _maximum context size_. For applications using DistilBERT, the maximum context size is 512 tokens, which amounts to a few paragraphs of text. As we'll see in the next section, a token is an atomic piece of text; for now, we'll treat a token as a single word. We can get a rough estimate of tweet lengths per emotion by looking at the distribution of words per tweet:"
      ]
    },
    {
      "cell_type": "code",
      "execution_count": 15,
      "metadata": {
        "id": "1G7CjQ7BYHZb",
        "outputId": "84dffd10-e20e-48b2-a355-45d859630276",
        "colab": {
          "base_uri": "https://localhost:8080/",
          "height": 376
        }
      },
      "outputs": [
        {
          "output_type": "display_data",
          "data": {
            "text/plain": [
              "<Figure size 600x400 with 1 Axes>"
            ],
            "image/svg+xml": "<?xml version=\"1.0\" encoding=\"utf-8\" standalone=\"no\"?>\n<!DOCTYPE svg PUBLIC \"-//W3C//DTD SVG 1.1//EN\"\n  \"http://www.w3.org/Graphics/SVG/1.1/DTD/svg11.dtd\">\n<svg xmlns:xlink=\"http://www.w3.org/1999/xlink\" width=\"382.27pt\" height=\"265.9555pt\" viewBox=\"0 0 382.27 265.9555\" xmlns=\"http://www.w3.org/2000/svg\" version=\"1.1\">\n <metadata>\n  <rdf:RDF xmlns:dc=\"http://purl.org/dc/elements/1.1/\" xmlns:cc=\"http://creativecommons.org/ns#\" xmlns:rdf=\"http://www.w3.org/1999/02/22-rdf-syntax-ns#\">\n   <cc:Work>\n    <dc:type rdf:resource=\"http://purl.org/dc/dcmitype/StillImage\"/>\n    <dc:date>2024-05-23T06:21:03.964915</dc:date>\n    <dc:format>image/svg+xml</dc:format>\n    <dc:creator>\n     <cc:Agent>\n      <dc:title>Matplotlib v3.7.1, https://matplotlib.org/</dc:title>\n     </cc:Agent>\n    </dc:creator>\n   </cc:Work>\n  </rdf:RDF>\n </metadata>\n <defs>\n  <style type=\"text/css\">*{stroke-linejoin: round; stroke-linecap: butt}</style>\n </defs>\n <g id=\"figure_1\">\n  <g id=\"patch_1\">\n   <path d=\"M 0 265.9555 \nL 382.27 265.9555 \nL 382.27 0 \nL 0 0 \nz\n\" style=\"fill: #ffffff\"/>\n  </g>\n  <g id=\"axes_1\">\n   <g id=\"patch_2\">\n    <path d=\"M 29.47 240.14175 \nL 375.07 240.14175 \nL 375.07 24.14175 \nL 29.47 24.14175 \nz\n\" style=\"fill: #ffffff\"/>\n   </g>\n   <g id=\"matplotlib.axis_1\">\n    <g id=\"xtick_1\">\n     <g id=\"line2d_1\">\n      <defs>\n       <path id=\"m1706412263\" d=\"M 0 0 \nL 0 3.5 \n\" style=\"stroke: #000000; stroke-width: 0.8\"/>\n      </defs>\n      <g>\n       <use xlink:href=\"#m1706412263\" x=\"58.27\" y=\"240.14175\" style=\"stroke: #000000; stroke-width: 0.8\"/>\n      </g>\n     </g>\n     <g id=\"text_1\">\n      <!-- anger -->\n      <g transform=\"translate(40.823125 256.259875) scale(0.12 -0.12)\">\n       <defs>\n        <path id=\"DejaVuSans-61\" d=\"M 2194 1759 \nQ 1497 1759 1228 1600 \nQ 959 1441 959 1056 \nQ 959 750 1161 570 \nQ 1363 391 1709 391 \nQ 2188 391 2477 730 \nQ 2766 1069 2766 1631 \nL 2766 1759 \nL 2194 1759 \nz\nM 3341 1997 \nL 3341 0 \nL 2766 0 \nL 2766 531 \nQ 2569 213 2275 61 \nQ 1981 -91 1556 -91 \nQ 1019 -91 701 211 \nQ 384 513 384 1019 \nQ 384 1609 779 1909 \nQ 1175 2209 1959 2209 \nL 2766 2209 \nL 2766 2266 \nQ 2766 2663 2505 2880 \nQ 2244 3097 1772 3097 \nQ 1472 3097 1187 3025 \nQ 903 2953 641 2809 \nL 641 3341 \nQ 956 3463 1253 3523 \nQ 1550 3584 1831 3584 \nQ 2591 3584 2966 3190 \nQ 3341 2797 3341 1997 \nz\n\" transform=\"scale(0.015625)\"/>\n        <path id=\"DejaVuSans-6e\" d=\"M 3513 2113 \nL 3513 0 \nL 2938 0 \nL 2938 2094 \nQ 2938 2591 2744 2837 \nQ 2550 3084 2163 3084 \nQ 1697 3084 1428 2787 \nQ 1159 2491 1159 1978 \nL 1159 0 \nL 581 0 \nL 581 3500 \nL 1159 3500 \nL 1159 2956 \nQ 1366 3272 1645 3428 \nQ 1925 3584 2291 3584 \nQ 2894 3584 3203 3211 \nQ 3513 2838 3513 2113 \nz\n\" transform=\"scale(0.015625)\"/>\n        <path id=\"DejaVuSans-67\" d=\"M 2906 1791 \nQ 2906 2416 2648 2759 \nQ 2391 3103 1925 3103 \nQ 1463 3103 1205 2759 \nQ 947 2416 947 1791 \nQ 947 1169 1205 825 \nQ 1463 481 1925 481 \nQ 2391 481 2648 825 \nQ 2906 1169 2906 1791 \nz\nM 3481 434 \nQ 3481 -459 3084 -895 \nQ 2688 -1331 1869 -1331 \nQ 1566 -1331 1297 -1286 \nQ 1028 -1241 775 -1147 \nL 775 -588 \nQ 1028 -725 1275 -790 \nQ 1522 -856 1778 -856 \nQ 2344 -856 2625 -561 \nQ 2906 -266 2906 331 \nL 2906 616 \nQ 2728 306 2450 153 \nQ 2172 0 1784 0 \nQ 1141 0 747 490 \nQ 353 981 353 1791 \nQ 353 2603 747 3093 \nQ 1141 3584 1784 3584 \nQ 2172 3584 2450 3431 \nQ 2728 3278 2906 2969 \nL 2906 3500 \nL 3481 3500 \nL 3481 434 \nz\n\" transform=\"scale(0.015625)\"/>\n        <path id=\"DejaVuSans-65\" d=\"M 3597 1894 \nL 3597 1613 \nL 953 1613 \nQ 991 1019 1311 708 \nQ 1631 397 2203 397 \nQ 2534 397 2845 478 \nQ 3156 559 3463 722 \nL 3463 178 \nQ 3153 47 2828 -22 \nQ 2503 -91 2169 -91 \nQ 1331 -91 842 396 \nQ 353 884 353 1716 \nQ 353 2575 817 3079 \nQ 1281 3584 2069 3584 \nQ 2775 3584 3186 3129 \nQ 3597 2675 3597 1894 \nz\nM 3022 2063 \nQ 3016 2534 2758 2815 \nQ 2500 3097 2075 3097 \nQ 1594 3097 1305 2825 \nQ 1016 2553 972 2059 \nL 3022 2063 \nz\n\" transform=\"scale(0.015625)\"/>\n        <path id=\"DejaVuSans-72\" d=\"M 2631 2963 \nQ 2534 3019 2420 3045 \nQ 2306 3072 2169 3072 \nQ 1681 3072 1420 2755 \nQ 1159 2438 1159 1844 \nL 1159 0 \nL 581 0 \nL 581 3500 \nL 1159 3500 \nL 1159 2956 \nQ 1341 3275 1631 3429 \nQ 1922 3584 2338 3584 \nQ 2397 3584 2469 3576 \nQ 2541 3569 2628 3553 \nL 2631 2963 \nz\n\" transform=\"scale(0.015625)\"/>\n       </defs>\n       <use xlink:href=\"#DejaVuSans-61\"/>\n       <use xlink:href=\"#DejaVuSans-6e\" x=\"61.279297\"/>\n       <use xlink:href=\"#DejaVuSans-67\" x=\"124.658203\"/>\n       <use xlink:href=\"#DejaVuSans-65\" x=\"188.134766\"/>\n       <use xlink:href=\"#DejaVuSans-72\" x=\"249.658203\"/>\n      </g>\n     </g>\n    </g>\n    <g id=\"xtick_2\">\n     <g id=\"line2d_2\">\n      <g>\n       <use xlink:href=\"#m1706412263\" x=\"115.87\" y=\"240.14175\" style=\"stroke: #000000; stroke-width: 0.8\"/>\n      </g>\n     </g>\n     <g id=\"text_2\">\n      <!-- fear -->\n      <g transform=\"translate(103.9225 256.259875) scale(0.12 -0.12)\">\n       <defs>\n        <path id=\"DejaVuSans-66\" d=\"M 2375 4863 \nL 2375 4384 \nL 1825 4384 \nQ 1516 4384 1395 4259 \nQ 1275 4134 1275 3809 \nL 1275 3500 \nL 2222 3500 \nL 2222 3053 \nL 1275 3053 \nL 1275 0 \nL 697 0 \nL 697 3053 \nL 147 3053 \nL 147 3500 \nL 697 3500 \nL 697 3744 \nQ 697 4328 969 4595 \nQ 1241 4863 1831 4863 \nL 2375 4863 \nz\n\" transform=\"scale(0.015625)\"/>\n       </defs>\n       <use xlink:href=\"#DejaVuSans-66\"/>\n       <use xlink:href=\"#DejaVuSans-65\" x=\"35.205078\"/>\n       <use xlink:href=\"#DejaVuSans-61\" x=\"96.728516\"/>\n       <use xlink:href=\"#DejaVuSans-72\" x=\"158.007812\"/>\n      </g>\n     </g>\n    </g>\n    <g id=\"xtick_3\">\n     <g id=\"line2d_3\">\n      <g>\n       <use xlink:href=\"#m1706412263\" x=\"173.47\" y=\"240.14175\" style=\"stroke: #000000; stroke-width: 0.8\"/>\n      </g>\n     </g>\n     <g id=\"text_3\">\n      <!-- joy -->\n      <g transform=\"translate(164.580625 256.259875) scale(0.12 -0.12)\">\n       <defs>\n        <path id=\"DejaVuSans-6a\" d=\"M 603 3500 \nL 1178 3500 \nL 1178 -63 \nQ 1178 -731 923 -1031 \nQ 669 -1331 103 -1331 \nL -116 -1331 \nL -116 -844 \nL 38 -844 \nQ 366 -844 484 -692 \nQ 603 -541 603 -63 \nL 603 3500 \nz\nM 603 4863 \nL 1178 4863 \nL 1178 4134 \nL 603 4134 \nL 603 4863 \nz\n\" transform=\"scale(0.015625)\"/>\n        <path id=\"DejaVuSans-6f\" d=\"M 1959 3097 \nQ 1497 3097 1228 2736 \nQ 959 2375 959 1747 \nQ 959 1119 1226 758 \nQ 1494 397 1959 397 \nQ 2419 397 2687 759 \nQ 2956 1122 2956 1747 \nQ 2956 2369 2687 2733 \nQ 2419 3097 1959 3097 \nz\nM 1959 3584 \nQ 2709 3584 3137 3096 \nQ 3566 2609 3566 1747 \nQ 3566 888 3137 398 \nQ 2709 -91 1959 -91 \nQ 1206 -91 779 398 \nQ 353 888 353 1747 \nQ 353 2609 779 3096 \nQ 1206 3584 1959 3584 \nz\n\" transform=\"scale(0.015625)\"/>\n        <path id=\"DejaVuSans-79\" d=\"M 2059 -325 \nQ 1816 -950 1584 -1140 \nQ 1353 -1331 966 -1331 \nL 506 -1331 \nL 506 -850 \nL 844 -850 \nQ 1081 -850 1212 -737 \nQ 1344 -625 1503 -206 \nL 1606 56 \nL 191 3500 \nL 800 3500 \nL 1894 763 \nL 2988 3500 \nL 3597 3500 \nL 2059 -325 \nz\n\" transform=\"scale(0.015625)\"/>\n       </defs>\n       <use xlink:href=\"#DejaVuSans-6a\"/>\n       <use xlink:href=\"#DejaVuSans-6f\" x=\"27.783203\"/>\n       <use xlink:href=\"#DejaVuSans-79\" x=\"88.964844\"/>\n      </g>\n     </g>\n    </g>\n    <g id=\"xtick_4\">\n     <g id=\"line2d_4\">\n      <g>\n       <use xlink:href=\"#m1706412263\" x=\"231.07\" y=\"240.14175\" style=\"stroke: #000000; stroke-width: 0.8\"/>\n      </g>\n     </g>\n     <g id=\"text_4\">\n      <!-- love -->\n      <g transform=\"translate(218.48875 256.259875) scale(0.12 -0.12)\">\n       <defs>\n        <path id=\"DejaVuSans-6c\" d=\"M 603 4863 \nL 1178 4863 \nL 1178 0 \nL 603 0 \nL 603 4863 \nz\n\" transform=\"scale(0.015625)\"/>\n        <path id=\"DejaVuSans-76\" d=\"M 191 3500 \nL 800 3500 \nL 1894 563 \nL 2988 3500 \nL 3597 3500 \nL 2284 0 \nL 1503 0 \nL 191 3500 \nz\n\" transform=\"scale(0.015625)\"/>\n       </defs>\n       <use xlink:href=\"#DejaVuSans-6c\"/>\n       <use xlink:href=\"#DejaVuSans-6f\" x=\"27.783203\"/>\n       <use xlink:href=\"#DejaVuSans-76\" x=\"88.964844\"/>\n       <use xlink:href=\"#DejaVuSans-65\" x=\"148.144531\"/>\n      </g>\n     </g>\n    </g>\n    <g id=\"xtick_5\">\n     <g id=\"line2d_5\">\n      <g>\n       <use xlink:href=\"#m1706412263\" x=\"288.67\" y=\"240.14175\" style=\"stroke: #000000; stroke-width: 0.8\"/>\n      </g>\n     </g>\n     <g id=\"text_5\">\n      <!-- sadness -->\n      <g transform=\"translate(264.312813 256.259875) scale(0.12 -0.12)\">\n       <defs>\n        <path id=\"DejaVuSans-73\" d=\"M 2834 3397 \nL 2834 2853 \nQ 2591 2978 2328 3040 \nQ 2066 3103 1784 3103 \nQ 1356 3103 1142 2972 \nQ 928 2841 928 2578 \nQ 928 2378 1081 2264 \nQ 1234 2150 1697 2047 \nL 1894 2003 \nQ 2506 1872 2764 1633 \nQ 3022 1394 3022 966 \nQ 3022 478 2636 193 \nQ 2250 -91 1575 -91 \nQ 1294 -91 989 -36 \nQ 684 19 347 128 \nL 347 722 \nQ 666 556 975 473 \nQ 1284 391 1588 391 \nQ 1994 391 2212 530 \nQ 2431 669 2431 922 \nQ 2431 1156 2273 1281 \nQ 2116 1406 1581 1522 \nL 1381 1569 \nQ 847 1681 609 1914 \nQ 372 2147 372 2553 \nQ 372 3047 722 3315 \nQ 1072 3584 1716 3584 \nQ 2034 3584 2315 3537 \nQ 2597 3491 2834 3397 \nz\n\" transform=\"scale(0.015625)\"/>\n        <path id=\"DejaVuSans-64\" d=\"M 2906 2969 \nL 2906 4863 \nL 3481 4863 \nL 3481 0 \nL 2906 0 \nL 2906 525 \nQ 2725 213 2448 61 \nQ 2172 -91 1784 -91 \nQ 1150 -91 751 415 \nQ 353 922 353 1747 \nQ 353 2572 751 3078 \nQ 1150 3584 1784 3584 \nQ 2172 3584 2448 3432 \nQ 2725 3281 2906 2969 \nz\nM 947 1747 \nQ 947 1113 1208 752 \nQ 1469 391 1925 391 \nQ 2381 391 2643 752 \nQ 2906 1113 2906 1747 \nQ 2906 2381 2643 2742 \nQ 2381 3103 1925 3103 \nQ 1469 3103 1208 2742 \nQ 947 2381 947 1747 \nz\n\" transform=\"scale(0.015625)\"/>\n       </defs>\n       <use xlink:href=\"#DejaVuSans-73\"/>\n       <use xlink:href=\"#DejaVuSans-61\" x=\"52.099609\"/>\n       <use xlink:href=\"#DejaVuSans-64\" x=\"113.378906\"/>\n       <use xlink:href=\"#DejaVuSans-6e\" x=\"176.855469\"/>\n       <use xlink:href=\"#DejaVuSans-65\" x=\"240.234375\"/>\n       <use xlink:href=\"#DejaVuSans-73\" x=\"301.757812\"/>\n       <use xlink:href=\"#DejaVuSans-73\" x=\"353.857422\"/>\n      </g>\n     </g>\n    </g>\n    <g id=\"xtick_6\">\n     <g id=\"line2d_6\">\n      <g>\n       <use xlink:href=\"#m1706412263\" x=\"346.27\" y=\"240.14175\" style=\"stroke: #000000; stroke-width: 0.8\"/>\n      </g>\n     </g>\n     <g id=\"text_6\">\n      <!-- surprise -->\n      <g transform=\"translate(322.115313 256.259875) scale(0.12 -0.12)\">\n       <defs>\n        <path id=\"DejaVuSans-75\" d=\"M 544 1381 \nL 544 3500 \nL 1119 3500 \nL 1119 1403 \nQ 1119 906 1312 657 \nQ 1506 409 1894 409 \nQ 2359 409 2629 706 \nQ 2900 1003 2900 1516 \nL 2900 3500 \nL 3475 3500 \nL 3475 0 \nL 2900 0 \nL 2900 538 \nQ 2691 219 2414 64 \nQ 2138 -91 1772 -91 \nQ 1169 -91 856 284 \nQ 544 659 544 1381 \nz\nM 1991 3584 \nL 1991 3584 \nz\n\" transform=\"scale(0.015625)\"/>\n        <path id=\"DejaVuSans-70\" d=\"M 1159 525 \nL 1159 -1331 \nL 581 -1331 \nL 581 3500 \nL 1159 3500 \nL 1159 2969 \nQ 1341 3281 1617 3432 \nQ 1894 3584 2278 3584 \nQ 2916 3584 3314 3078 \nQ 3713 2572 3713 1747 \nQ 3713 922 3314 415 \nQ 2916 -91 2278 -91 \nQ 1894 -91 1617 61 \nQ 1341 213 1159 525 \nz\nM 3116 1747 \nQ 3116 2381 2855 2742 \nQ 2594 3103 2138 3103 \nQ 1681 3103 1420 2742 \nQ 1159 2381 1159 1747 \nQ 1159 1113 1420 752 \nQ 1681 391 2138 391 \nQ 2594 391 2855 752 \nQ 3116 1113 3116 1747 \nz\n\" transform=\"scale(0.015625)\"/>\n        <path id=\"DejaVuSans-69\" d=\"M 603 3500 \nL 1178 3500 \nL 1178 0 \nL 603 0 \nL 603 3500 \nz\nM 603 4863 \nL 1178 4863 \nL 1178 4134 \nL 603 4134 \nL 603 4863 \nz\n\" transform=\"scale(0.015625)\"/>\n       </defs>\n       <use xlink:href=\"#DejaVuSans-73\"/>\n       <use xlink:href=\"#DejaVuSans-75\" x=\"52.099609\"/>\n       <use xlink:href=\"#DejaVuSans-72\" x=\"115.478516\"/>\n       <use xlink:href=\"#DejaVuSans-70\" x=\"156.591797\"/>\n       <use xlink:href=\"#DejaVuSans-72\" x=\"220.068359\"/>\n       <use xlink:href=\"#DejaVuSans-69\" x=\"261.181641\"/>\n       <use xlink:href=\"#DejaVuSans-73\" x=\"288.964844\"/>\n       <use xlink:href=\"#DejaVuSans-65\" x=\"341.064453\"/>\n      </g>\n     </g>\n    </g>\n   </g>\n   <g id=\"matplotlib.axis_2\">\n    <g id=\"ytick_1\">\n     <g id=\"line2d_7\">\n      <defs>\n       <path id=\"m8fe7301b7d\" d=\"M 0 0 \nL -3.5 0 \n\" style=\"stroke: #000000; stroke-width: 0.8\"/>\n      </defs>\n      <g>\n       <use xlink:href=\"#m8fe7301b7d\" x=\"29.47\" y=\"238.505386\" style=\"stroke: #000000; stroke-width: 0.8\"/>\n      </g>\n     </g>\n     <g id=\"text_7\">\n      <!-- 0 -->\n      <g transform=\"translate(14.835 243.064449) scale(0.12 -0.12)\">\n       <defs>\n        <path id=\"DejaVuSans-30\" d=\"M 2034 4250 \nQ 1547 4250 1301 3770 \nQ 1056 3291 1056 2328 \nQ 1056 1369 1301 889 \nQ 1547 409 2034 409 \nQ 2525 409 2770 889 \nQ 3016 1369 3016 2328 \nQ 3016 3291 2770 3770 \nQ 2525 4250 2034 4250 \nz\nM 2034 4750 \nQ 2819 4750 3233 4129 \nQ 3647 3509 3647 2328 \nQ 3647 1150 3233 529 \nQ 2819 -91 2034 -91 \nQ 1250 -91 836 529 \nQ 422 1150 422 2328 \nQ 422 3509 836 4129 \nQ 1250 4750 2034 4750 \nz\n\" transform=\"scale(0.015625)\"/>\n       </defs>\n       <use xlink:href=\"#DejaVuSans-30\"/>\n      </g>\n     </g>\n    </g>\n    <g id=\"ytick_2\">\n     <g id=\"line2d_8\">\n      <g>\n       <use xlink:href=\"#m8fe7301b7d\" x=\"29.47\" y=\"197.596295\" style=\"stroke: #000000; stroke-width: 0.8\"/>\n      </g>\n     </g>\n     <g id=\"text_8\">\n      <!-- 10 -->\n      <g transform=\"translate(7.2 202.155358) scale(0.12 -0.12)\">\n       <defs>\n        <path id=\"DejaVuSans-31\" d=\"M 794 531 \nL 1825 531 \nL 1825 4091 \nL 703 3866 \nL 703 4441 \nL 1819 4666 \nL 2450 4666 \nL 2450 531 \nL 3481 531 \nL 3481 0 \nL 794 0 \nL 794 531 \nz\n\" transform=\"scale(0.015625)\"/>\n       </defs>\n       <use xlink:href=\"#DejaVuSans-31\"/>\n       <use xlink:href=\"#DejaVuSans-30\" x=\"63.623047\"/>\n      </g>\n     </g>\n    </g>\n    <g id=\"ytick_3\">\n     <g id=\"line2d_9\">\n      <g>\n       <use xlink:href=\"#m8fe7301b7d\" x=\"29.47\" y=\"156.687205\" style=\"stroke: #000000; stroke-width: 0.8\"/>\n      </g>\n     </g>\n     <g id=\"text_9\">\n      <!-- 20 -->\n      <g transform=\"translate(7.2 161.246267) scale(0.12 -0.12)\">\n       <defs>\n        <path id=\"DejaVuSans-32\" d=\"M 1228 531 \nL 3431 531 \nL 3431 0 \nL 469 0 \nL 469 531 \nQ 828 903 1448 1529 \nQ 2069 2156 2228 2338 \nQ 2531 2678 2651 2914 \nQ 2772 3150 2772 3378 \nQ 2772 3750 2511 3984 \nQ 2250 4219 1831 4219 \nQ 1534 4219 1204 4116 \nQ 875 4013 500 3803 \nL 500 4441 \nQ 881 4594 1212 4672 \nQ 1544 4750 1819 4750 \nQ 2544 4750 2975 4387 \nQ 3406 4025 3406 3419 \nQ 3406 3131 3298 2873 \nQ 3191 2616 2906 2266 \nQ 2828 2175 2409 1742 \nQ 1991 1309 1228 531 \nz\n\" transform=\"scale(0.015625)\"/>\n       </defs>\n       <use xlink:href=\"#DejaVuSans-32\"/>\n       <use xlink:href=\"#DejaVuSans-30\" x=\"63.623047\"/>\n      </g>\n     </g>\n    </g>\n    <g id=\"ytick_4\">\n     <g id=\"line2d_10\">\n      <g>\n       <use xlink:href=\"#m8fe7301b7d\" x=\"29.47\" y=\"115.778114\" style=\"stroke: #000000; stroke-width: 0.8\"/>\n      </g>\n     </g>\n     <g id=\"text_10\">\n      <!-- 30 -->\n      <g transform=\"translate(7.2 120.337176) scale(0.12 -0.12)\">\n       <defs>\n        <path id=\"DejaVuSans-33\" d=\"M 2597 2516 \nQ 3050 2419 3304 2112 \nQ 3559 1806 3559 1356 \nQ 3559 666 3084 287 \nQ 2609 -91 1734 -91 \nQ 1441 -91 1130 -33 \nQ 819 25 488 141 \nL 488 750 \nQ 750 597 1062 519 \nQ 1375 441 1716 441 \nQ 2309 441 2620 675 \nQ 2931 909 2931 1356 \nQ 2931 1769 2642 2001 \nQ 2353 2234 1838 2234 \nL 1294 2234 \nL 1294 2753 \nL 1863 2753 \nQ 2328 2753 2575 2939 \nQ 2822 3125 2822 3475 \nQ 2822 3834 2567 4026 \nQ 2313 4219 1838 4219 \nQ 1578 4219 1281 4162 \nQ 984 4106 628 3988 \nL 628 4550 \nQ 988 4650 1302 4700 \nQ 1616 4750 1894 4750 \nQ 2613 4750 3031 4423 \nQ 3450 4097 3450 3541 \nQ 3450 3153 3228 2886 \nQ 3006 2619 2597 2516 \nz\n\" transform=\"scale(0.015625)\"/>\n       </defs>\n       <use xlink:href=\"#DejaVuSans-33\"/>\n       <use xlink:href=\"#DejaVuSans-30\" x=\"63.623047\"/>\n      </g>\n     </g>\n    </g>\n    <g id=\"ytick_5\">\n     <g id=\"line2d_11\">\n      <g>\n       <use xlink:href=\"#m8fe7301b7d\" x=\"29.47\" y=\"74.869023\" style=\"stroke: #000000; stroke-width: 0.8\"/>\n      </g>\n     </g>\n     <g id=\"text_11\">\n      <!-- 40 -->\n      <g transform=\"translate(7.2 79.428085) scale(0.12 -0.12)\">\n       <defs>\n        <path id=\"DejaVuSans-34\" d=\"M 2419 4116 \nL 825 1625 \nL 2419 1625 \nL 2419 4116 \nz\nM 2253 4666 \nL 3047 4666 \nL 3047 1625 \nL 3713 1625 \nL 3713 1100 \nL 3047 1100 \nL 3047 0 \nL 2419 0 \nL 2419 1100 \nL 313 1100 \nL 313 1709 \nL 2253 4666 \nz\n\" transform=\"scale(0.015625)\"/>\n       </defs>\n       <use xlink:href=\"#DejaVuSans-34\"/>\n       <use xlink:href=\"#DejaVuSans-30\" x=\"63.623047\"/>\n      </g>\n     </g>\n    </g>\n    <g id=\"ytick_6\">\n     <g id=\"line2d_12\">\n      <g>\n       <use xlink:href=\"#m8fe7301b7d\" x=\"29.47\" y=\"33.959932\" style=\"stroke: #000000; stroke-width: 0.8\"/>\n      </g>\n     </g>\n     <g id=\"text_12\">\n      <!-- 50 -->\n      <g transform=\"translate(7.2 38.518994) scale(0.12 -0.12)\">\n       <defs>\n        <path id=\"DejaVuSans-35\" d=\"M 691 4666 \nL 3169 4666 \nL 3169 4134 \nL 1269 4134 \nL 1269 2991 \nQ 1406 3038 1543 3061 \nQ 1681 3084 1819 3084 \nQ 2600 3084 3056 2656 \nQ 3513 2228 3513 1497 \nQ 3513 744 3044 326 \nQ 2575 -91 1722 -91 \nQ 1428 -91 1123 -41 \nQ 819 9 494 109 \nL 494 744 \nQ 775 591 1075 516 \nQ 1375 441 1709 441 \nQ 2250 441 2565 725 \nQ 2881 1009 2881 1497 \nQ 2881 1984 2565 2268 \nQ 2250 2553 1709 2553 \nQ 1456 2553 1204 2497 \nQ 953 2441 691 2322 \nL 691 4666 \nz\n\" transform=\"scale(0.015625)\"/>\n       </defs>\n       <use xlink:href=\"#DejaVuSans-35\"/>\n       <use xlink:href=\"#DejaVuSans-30\" x=\"63.623047\"/>\n      </g>\n     </g>\n    </g>\n   </g>\n   <g id=\"line2d_13\">\n    <path d=\"M 43.87 197.596295 \nL 72.67 197.596295 \nL 72.67 132.14175 \nL 43.87 132.14175 \nL 43.87 197.596295 \n\" clip-path=\"url(#pc8448858c1)\" style=\"fill: none; stroke: #000000; stroke-linecap: square\"/>\n   </g>\n   <g id=\"line2d_14\">\n    <path d=\"M 58.27 197.596295 \nL 58.27 230.323568 \n\" clip-path=\"url(#pc8448858c1)\" style=\"fill: none; stroke: #000000; stroke-linecap: square\"/>\n   </g>\n   <g id=\"line2d_15\">\n    <path d=\"M 58.27 132.14175 \nL 58.27 33.959932 \n\" clip-path=\"url(#pc8448858c1)\" style=\"fill: none; stroke: #000000; stroke-linecap: square\"/>\n   </g>\n   <g id=\"line2d_16\">\n    <path d=\"M 51.07 230.323568 \nL 65.47 230.323568 \n\" clip-path=\"url(#pc8448858c1)\" style=\"fill: none; stroke: #000000; stroke-linecap: square\"/>\n   </g>\n   <g id=\"line2d_17\">\n    <path d=\"M 51.07 33.959932 \nL 65.47 33.959932 \n\" clip-path=\"url(#pc8448858c1)\" style=\"fill: none; stroke: #000000; stroke-linecap: square\"/>\n   </g>\n   <g id=\"line2d_18\">\n    <path d=\"M 101.47 197.596295 \nL 130.27 197.596295 \nL 130.27 136.232659 \nL 101.47 136.232659 \nL 101.47 197.596295 \n\" clip-path=\"url(#pc8448858c1)\" style=\"fill: none; stroke: #000000; stroke-linecap: square\"/>\n   </g>\n   <g id=\"line2d_19\">\n    <path d=\"M 115.87 197.596295 \nL 115.87 230.323568 \n\" clip-path=\"url(#pc8448858c1)\" style=\"fill: none; stroke: #000000; stroke-linecap: square\"/>\n   </g>\n   <g id=\"line2d_20\">\n    <path d=\"M 115.87 136.232659 \nL 115.87 46.232659 \n\" clip-path=\"url(#pc8448858c1)\" style=\"fill: none; stroke: #000000; stroke-linecap: square\"/>\n   </g>\n   <g id=\"line2d_21\">\n    <path d=\"M 108.67 230.323568 \nL 123.07 230.323568 \n\" clip-path=\"url(#pc8448858c1)\" style=\"fill: none; stroke: #000000; stroke-linecap: square\"/>\n   </g>\n   <g id=\"line2d_22\">\n    <path d=\"M 108.67 46.232659 \nL 123.07 46.232659 \n\" clip-path=\"url(#pc8448858c1)\" style=\"fill: none; stroke: #000000; stroke-linecap: square\"/>\n   </g>\n   <g id=\"line2d_23\">\n    <path d=\"M 159.07 193.505386 \nL 187.87 193.505386 \nL 187.87 132.14175 \nL 159.07 132.14175 \nL 159.07 193.505386 \n\" clip-path=\"url(#pc8448858c1)\" style=\"fill: none; stroke: #000000; stroke-linecap: square\"/>\n   </g>\n   <g id=\"line2d_24\">\n    <path d=\"M 173.47 193.505386 \nL 173.47 230.323568 \n\" clip-path=\"url(#pc8448858c1)\" style=\"fill: none; stroke: #000000; stroke-linecap: square\"/>\n   </g>\n   <g id=\"line2d_25\">\n    <path d=\"M 173.47 132.14175 \nL 173.47 42.14175 \n\" clip-path=\"url(#pc8448858c1)\" style=\"fill: none; stroke: #000000; stroke-linecap: square\"/>\n   </g>\n   <g id=\"line2d_26\">\n    <path d=\"M 166.27 230.323568 \nL 180.67 230.323568 \n\" clip-path=\"url(#pc8448858c1)\" style=\"fill: none; stroke: #000000; stroke-linecap: square\"/>\n   </g>\n   <g id=\"line2d_27\">\n    <path d=\"M 166.27 42.14175 \nL 180.67 42.14175 \n\" clip-path=\"url(#pc8448858c1)\" style=\"fill: none; stroke: #000000; stroke-linecap: square\"/>\n   </g>\n   <g id=\"line2d_28\">\n    <path d=\"M 216.67 189.414477 \nL 245.47 189.414477 \nL 245.47 128.050841 \nL 216.67 128.050841 \nL 216.67 189.414477 \n\" clip-path=\"url(#pc8448858c1)\" style=\"fill: none; stroke: #000000; stroke-linecap: square\"/>\n   </g>\n   <g id=\"line2d_29\">\n    <path d=\"M 231.07 189.414477 \nL 231.07 226.232659 \n\" clip-path=\"url(#pc8448858c1)\" style=\"fill: none; stroke: #000000; stroke-linecap: square\"/>\n   </g>\n   <g id=\"line2d_30\">\n    <path d=\"M 231.07 128.050841 \nL 231.07 38.050841 \n\" clip-path=\"url(#pc8448858c1)\" style=\"fill: none; stroke: #000000; stroke-linecap: square\"/>\n   </g>\n   <g id=\"line2d_31\">\n    <path d=\"M 223.87 226.232659 \nL 238.27 226.232659 \n\" clip-path=\"url(#pc8448858c1)\" style=\"fill: none; stroke: #000000; stroke-linecap: square\"/>\n   </g>\n   <g id=\"line2d_32\">\n    <path d=\"M 223.87 38.050841 \nL 238.27 38.050841 \n\" clip-path=\"url(#pc8448858c1)\" style=\"fill: none; stroke: #000000; stroke-linecap: square\"/>\n   </g>\n   <g id=\"line2d_33\">\n    <path d=\"M 274.27 197.596295 \nL 303.07 197.596295 \nL 303.07 140.323568 \nL 274.27 140.323568 \nL 274.27 197.596295 \n\" clip-path=\"url(#pc8448858c1)\" style=\"fill: none; stroke: #000000; stroke-linecap: square\"/>\n   </g>\n   <g id=\"line2d_34\">\n    <path d=\"M 288.67 197.596295 \nL 288.67 230.323568 \n\" clip-path=\"url(#pc8448858c1)\" style=\"fill: none; stroke: #000000; stroke-linecap: square\"/>\n   </g>\n   <g id=\"line2d_35\">\n    <path d=\"M 288.67 140.323568 \nL 288.67 54.414477 \n\" clip-path=\"url(#pc8448858c1)\" style=\"fill: none; stroke: #000000; stroke-linecap: square\"/>\n   </g>\n   <g id=\"line2d_36\">\n    <path d=\"M 281.47 230.323568 \nL 295.87 230.323568 \n\" clip-path=\"url(#pc8448858c1)\" style=\"fill: none; stroke: #000000; stroke-linecap: square\"/>\n   </g>\n   <g id=\"line2d_37\">\n    <path d=\"M 281.47 54.414477 \nL 295.87 54.414477 \n\" clip-path=\"url(#pc8448858c1)\" style=\"fill: none; stroke: #000000; stroke-linecap: square\"/>\n   </g>\n   <g id=\"line2d_38\">\n    <path d=\"M 331.87 189.414477 \nL 360.67 189.414477 \nL 360.67 132.14175 \nL 331.87 132.14175 \nL 331.87 189.414477 \n\" clip-path=\"url(#pc8448858c1)\" style=\"fill: none; stroke: #000000; stroke-linecap: square\"/>\n   </g>\n   <g id=\"line2d_39\">\n    <path d=\"M 346.27 189.414477 \nL 346.27 226.232659 \n\" clip-path=\"url(#pc8448858c1)\" style=\"fill: none; stroke: #000000; stroke-linecap: square\"/>\n   </g>\n   <g id=\"line2d_40\">\n    <path d=\"M 346.27 132.14175 \nL 346.27 46.232659 \n\" clip-path=\"url(#pc8448858c1)\" style=\"fill: none; stroke: #000000; stroke-linecap: square\"/>\n   </g>\n   <g id=\"line2d_41\">\n    <path d=\"M 339.07 226.232659 \nL 353.47 226.232659 \n\" clip-path=\"url(#pc8448858c1)\" style=\"fill: none; stroke: #000000; stroke-linecap: square\"/>\n   </g>\n   <g id=\"line2d_42\">\n    <path d=\"M 339.07 46.232659 \nL 353.47 46.232659 \n\" clip-path=\"url(#pc8448858c1)\" style=\"fill: none; stroke: #000000; stroke-linecap: square\"/>\n   </g>\n   <g id=\"line2d_43\">\n    <path d=\"M 43.87 168.959932 \nL 72.67 168.959932 \n\" clip-path=\"url(#pc8448858c1)\" style=\"fill: none; stroke: #000000; stroke-linecap: square\"/>\n   </g>\n   <g id=\"line2d_44\">\n    <path d=\"M 101.47 168.959932 \nL 130.27 168.959932 \n\" clip-path=\"url(#pc8448858c1)\" style=\"fill: none; stroke: #000000; stroke-linecap: square\"/>\n   </g>\n   <g id=\"line2d_45\">\n    <path d=\"M 159.07 164.869023 \nL 187.87 164.869023 \n\" clip-path=\"url(#pc8448858c1)\" style=\"fill: none; stroke: #000000; stroke-linecap: square\"/>\n   </g>\n   <g id=\"line2d_46\">\n    <path d=\"M 216.67 160.778114 \nL 245.47 160.778114 \n\" clip-path=\"url(#pc8448858c1)\" style=\"fill: none; stroke: #000000; stroke-linecap: square\"/>\n   </g>\n   <g id=\"line2d_47\">\n    <path d=\"M 274.27 173.050841 \nL 303.07 173.050841 \n\" clip-path=\"url(#pc8448858c1)\" style=\"fill: none; stroke: #000000; stroke-linecap: square\"/>\n   </g>\n   <g id=\"line2d_48\">\n    <path d=\"M 331.87 164.869023 \nL 360.67 164.869023 \n\" clip-path=\"url(#pc8448858c1)\" style=\"fill: none; stroke: #000000; stroke-linecap: square\"/>\n   </g>\n   <g id=\"patch_3\">\n    <path d=\"M 29.47 240.14175 \nL 29.47 24.14175 \n\" style=\"fill: none; stroke: #000000; stroke-width: 0.8; stroke-linejoin: miter; stroke-linecap: square\"/>\n   </g>\n   <g id=\"patch_4\">\n    <path d=\"M 375.07 240.14175 \nL 375.07 24.14175 \n\" style=\"fill: none; stroke: #000000; stroke-width: 0.8; stroke-linejoin: miter; stroke-linecap: square\"/>\n   </g>\n   <g id=\"patch_5\">\n    <path d=\"M 29.47 240.14175 \nL 375.07 240.14175 \n\" style=\"fill: none; stroke: #000000; stroke-width: 0.8; stroke-linejoin: miter; stroke-linecap: square\"/>\n   </g>\n   <g id=\"patch_6\">\n    <path d=\"M 29.47 24.14175 \nL 375.07 24.14175 \n\" style=\"fill: none; stroke: #000000; stroke-width: 0.8; stroke-linejoin: miter; stroke-linecap: square\"/>\n   </g>\n   <g id=\"text_13\">\n    <!-- Words Per Tweet -->\n    <g transform=\"translate(143.185 18.14175) scale(0.144 -0.144)\">\n     <defs>\n      <path id=\"DejaVuSans-57\" d=\"M 213 4666 \nL 850 4666 \nL 1831 722 \nL 2809 4666 \nL 3519 4666 \nL 4500 722 \nL 5478 4666 \nL 6119 4666 \nL 4947 0 \nL 4153 0 \nL 3169 4050 \nL 2175 0 \nL 1381 0 \nL 213 4666 \nz\n\" transform=\"scale(0.015625)\"/>\n      <path id=\"DejaVuSans-20\" transform=\"scale(0.015625)\"/>\n      <path id=\"DejaVuSans-50\" d=\"M 1259 4147 \nL 1259 2394 \nL 2053 2394 \nQ 2494 2394 2734 2622 \nQ 2975 2850 2975 3272 \nQ 2975 3691 2734 3919 \nQ 2494 4147 2053 4147 \nL 1259 4147 \nz\nM 628 4666 \nL 2053 4666 \nQ 2838 4666 3239 4311 \nQ 3641 3956 3641 3272 \nQ 3641 2581 3239 2228 \nQ 2838 1875 2053 1875 \nL 1259 1875 \nL 1259 0 \nL 628 0 \nL 628 4666 \nz\n\" transform=\"scale(0.015625)\"/>\n      <path id=\"DejaVuSans-54\" d=\"M -19 4666 \nL 3928 4666 \nL 3928 4134 \nL 2272 4134 \nL 2272 0 \nL 1638 0 \nL 1638 4134 \nL -19 4134 \nL -19 4666 \nz\n\" transform=\"scale(0.015625)\"/>\n      <path id=\"DejaVuSans-77\" d=\"M 269 3500 \nL 844 3500 \nL 1563 769 \nL 2278 3500 \nL 2956 3500 \nL 3675 769 \nL 4391 3500 \nL 4966 3500 \nL 4050 0 \nL 3372 0 \nL 2619 2869 \nL 1863 0 \nL 1184 0 \nL 269 3500 \nz\n\" transform=\"scale(0.015625)\"/>\n      <path id=\"DejaVuSans-74\" d=\"M 1172 4494 \nL 1172 3500 \nL 2356 3500 \nL 2356 3053 \nL 1172 3053 \nL 1172 1153 \nQ 1172 725 1289 603 \nQ 1406 481 1766 481 \nL 2356 481 \nL 2356 0 \nL 1766 0 \nQ 1100 0 847 248 \nQ 594 497 594 1153 \nL 594 3053 \nL 172 3053 \nL 172 3500 \nL 594 3500 \nL 594 4494 \nL 1172 4494 \nz\n\" transform=\"scale(0.015625)\"/>\n     </defs>\n     <use xlink:href=\"#DejaVuSans-57\"/>\n     <use xlink:href=\"#DejaVuSans-6f\" x=\"93.001953\"/>\n     <use xlink:href=\"#DejaVuSans-72\" x=\"154.183594\"/>\n     <use xlink:href=\"#DejaVuSans-64\" x=\"193.546875\"/>\n     <use xlink:href=\"#DejaVuSans-73\" x=\"257.023438\"/>\n     <use xlink:href=\"#DejaVuSans-20\" x=\"309.123047\"/>\n     <use xlink:href=\"#DejaVuSans-50\" x=\"340.910156\"/>\n     <use xlink:href=\"#DejaVuSans-65\" x=\"397.587891\"/>\n     <use xlink:href=\"#DejaVuSans-72\" x=\"459.111328\"/>\n     <use xlink:href=\"#DejaVuSans-20\" x=\"500.224609\"/>\n     <use xlink:href=\"#DejaVuSans-54\" x=\"532.011719\"/>\n     <use xlink:href=\"#DejaVuSans-77\" x=\"576.595703\"/>\n     <use xlink:href=\"#DejaVuSans-65\" x=\"658.382812\"/>\n     <use xlink:href=\"#DejaVuSans-65\" x=\"719.90625\"/>\n     <use xlink:href=\"#DejaVuSans-74\" x=\"781.429688\"/>\n    </g>\n   </g>\n  </g>\n </g>\n <defs>\n  <clipPath id=\"pc8448858c1\">\n   <rect x=\"29.47\" y=\"24.14175\" width=\"345.6\" height=\"216\"/>\n  </clipPath>\n </defs>\n</svg>\n",
            "application/pdf": "[encoded data removed]"
          },
          "metadata": {}
        }
      ],
      "source": [
        "df[\"Words Per Tweet\"] = df[\"text\"].str.split().apply(len)\n",
        "df.boxplot(\"Words Per Tweet\", by=\"label_name\", grid=False, showfliers=False,\n",
        "           color=\"black\")\n",
        "plt.suptitle(\"\")\n",
        "plt.xlabel(\"\")\n",
        "plt.show()"
      ]
    },
    {
      "cell_type": "markdown",
      "metadata": {
        "id": "eywME5BEYHZb"
      },
      "source": [
        "From the plot we see that for each emotion, most tweets are around 15 words long and the longest tweets are well below DistilBERT's maximum context size. Texts that are longer than a model's context size need to be truncated, which can lead to a loss in performance if the truncated text contains crucial information; in this case, it looks like that won't be an issue."
      ]
    },
    {
      "cell_type": "markdown",
      "metadata": {
        "id": "PQXt1tQ7YHZc"
      },
      "source": [
        "Let's now figure out how we can convert these raw texts into a format suitable for image:images/logo.png[hf,13,13] Transformers! While we're at it, let's also reset the output format of our dataset since we don't need the `DataFrame` format anymore:"
      ]
    },
    {
      "cell_type": "code",
      "execution_count": 16,
      "metadata": {
        "id": "_SyrEz9DYHZc"
      },
      "outputs": [],
      "source": [
        "emotions.reset_format()"
      ]
    },
    {
      "cell_type": "markdown",
      "metadata": {
        "id": "pK-8S2f-YHZc"
      },
      "source": [
        "## From Text to Tokens"
      ]
    },
    {
      "cell_type": "markdown",
      "metadata": {
        "id": "ItGh3KnEYHZc"
      },
      "source": [
        "Transformer models like DistilBERT cannot receive raw strings as input; instead, they assume the text has been _tokenized_ and _encoded_ as numerical vectors. Tokenization is the step of breaking down a string into the atomic units used in the model. There are several tokenization strategies one can adopt, and the optimal splitting of words into subunits is usually learned from the corpus. Before looking at the tokenizer used for DistilBERT, let's consider two extreme cases: _character_ and _word_ tokenization."
      ]
    },
    {
      "cell_type": "markdown",
      "metadata": {
        "id": "xble8azeYHZc"
      },
      "source": [
        "### Character Tokenization"
      ]
    },
    {
      "cell_type": "markdown",
      "metadata": {
        "id": "OEwh5l7rYHZc"
      },
      "source": [
        "The simplest tokenization scheme is to feed each character individually to the model. In Python, `str` objects are really arrays under the hood, which allows us to quickly implement character-level tokenization with just one line of code:"
      ]
    },
    {
      "cell_type": "code",
      "execution_count": 17,
      "metadata": {
        "id": "lZ7y52rxYHZc",
        "outputId": "ca712f78-5089-4398-86a4-b88d11f50836",
        "colab": {
          "base_uri": "https://localhost:8080/"
        }
      },
      "outputs": [
        {
          "output_type": "stream",
          "name": "stdout",
          "text": [
            "['T', 'o', 'k', 'e', 'n', 'i', 'z', 'i', 'n', 'g', ' ', 't', 'e', 'x', 't', ' ',\n",
            "'i', 's', ' ', 'a', ' ', 'c', 'o', 'r', 'e', ' ', 't', 'a', 's', 'k', ' ', 'o',\n",
            "'f', ' ', 'N', 'L', 'P', '.']\n"
          ]
        }
      ],
      "source": [
        "text = \"Tokenizing text is a core task of NLP.\"\n",
        "tokenized_text = list(text)\n",
        "print(tokenized_text)"
      ]
    },
    {
      "cell_type": "markdown",
      "metadata": {
        "id": "AIWQvWOjYHZc"
      },
      "source": [
        "This is a good start, but we're not done yet. Our model expects each character to be  converted to an integer, a process sometimes called _numericalization_. One simple way to do this is by encoding each unique token (which are characters in this case) with a unique integer:"
      ]
    },
    {
      "cell_type": "code",
      "execution_count": 18,
      "metadata": {
        "id": "xCc0cFo-YHZc",
        "outputId": "a52daaf4-c245-4240-9f64-01796c5d5a70",
        "colab": {
          "base_uri": "https://localhost:8080/"
        }
      },
      "outputs": [
        {
          "output_type": "stream",
          "name": "stdout",
          "text": [
            "{' ': 0, '.': 1, 'L': 2, 'N': 3, 'P': 4, 'T': 5, 'a': 6, 'c': 7, 'e': 8, 'f': 9,\n",
            "'g': 10, 'i': 11, 'k': 12, 'n': 13, 'o': 14, 'r': 15, 's': 16, 't': 17, 'x': 18,\n",
            "'z': 19}\n"
          ]
        }
      ],
      "source": [
        "token2idx = {ch: idx for idx, ch in enumerate(sorted(set(tokenized_text)))}\n",
        "print(token2idx)"
      ]
    },
    {
      "cell_type": "markdown",
      "metadata": {
        "id": "WZeewGwvYHZd"
      },
      "source": [
        "This gives us a mapping from each character in our vocabulary to a unique integer. We can now use `token2idx` to transform the tokenized text to a list of integers:"
      ]
    },
    {
      "cell_type": "code",
      "execution_count": 19,
      "metadata": {
        "id": "DJNFQtxvYHZd",
        "outputId": "1c73a4e5-818b-4fec-831b-8347823e21fa",
        "colab": {
          "base_uri": "https://localhost:8080/"
        }
      },
      "outputs": [
        {
          "output_type": "stream",
          "name": "stdout",
          "text": [
            "[5, 14, 12, 8, 13, 11, 19, 11, 13, 10, 0, 17, 8, 18, 17, 0, 11, 16, 0, 6, 0, 7,\n",
            "14, 15, 8, 0, 17, 6, 16, 12, 0, 14, 9, 0, 3, 2, 4, 1]\n"
          ]
        }
      ],
      "source": [
        "input_ids = [token2idx[token] for token in tokenized_text]\n",
        "print(input_ids)"
      ]
    },
    {
      "cell_type": "markdown",
      "metadata": {
        "id": "wpWT989KYHZd"
      },
      "source": [
        "Each token has now been mapped to a unique numerical identifier (hence the name `input_ids`). The last step is to convert `input_ids` to a 2D tensor of one-hot vectors. One-hot vectors are frequently used in machine learning to encode categorical data, which can be either ordinal or nominal. For example, suppose we wanted to encode the names of characters in the _Transformers_ TV series. One way to do this would be to map each name to a unique ID, as follows:"
      ]
    },
    {
      "cell_type": "code",
      "execution_count": 20,
      "metadata": {
        "id": "gHkAd8l_YHZd",
        "outputId": "791e8898-69dc-44d2-c4a8-3140fc00b320",
        "colab": {
          "base_uri": "https://localhost:8080/",
          "height": 143
        }
      },
      "outputs": [
        {
          "output_type": "execute_result",
          "data": {
            "text/plain": [
              "            Name  Label ID\n",
              "0      Bumblebee         0\n",
              "1  Optimus Prime         1\n",
              "2       Megatron         2"
            ],
            "text/html": [
              "\n",
              "  <div id=\"df-e36becd9-eb97-45e4-a0d3-a24f5a8d942d\" class=\"colab-df-container\">\n",
              "    <div>\n",
              "<style scoped>\n",
              "    .dataframe tbody tr th:only-of-type {\n",
              "        vertical-align: middle;\n",
              "    }\n",
              "\n",
              "    .dataframe tbody tr th {\n",
              "        vertical-align: top;\n",
              "    }\n",
              "\n",
              "    .dataframe thead th {\n",
              "        text-align: right;\n",
              "    }\n",
              "</style>\n",
              "<table border=\"1\" class=\"dataframe\">\n",
              "  <thead>\n",
              "    <tr style=\"text-align: right;\">\n",
              "      <th></th>\n",
              "      <th>Name</th>\n",
              "      <th>Label ID</th>\n",
              "    </tr>\n",
              "  </thead>\n",
              "  <tbody>\n",
              "    <tr>\n",
              "      <th>0</th>\n",
              "      <td>Bumblebee</td>\n",
              "      <td>0</td>\n",
              "    </tr>\n",
              "    <tr>\n",
              "      <th>1</th>\n",
              "      <td>Optimus Prime</td>\n",
              "      <td>1</td>\n",
              "    </tr>\n",
              "    <tr>\n",
              "      <th>2</th>\n",
              "      <td>Megatron</td>\n",
              "      <td>2</td>\n",
              "    </tr>\n",
              "  </tbody>\n",
              "</table>\n",
              "</div>\n",
              "    <div class=\"colab-df-buttons\">\n",
              "\n",
              "  <div class=\"colab-df-container\">\n",
              "    <button class=\"colab-df-convert\" onclick=\"convertToInteractive('df-e36becd9-eb97-45e4-a0d3-a24f5a8d942d')\"\n",
              "            title=\"Convert this dataframe to an interactive table.\"\n",
              "            style=\"display:none;\">\n",
              "\n",
              "  <svg xmlns=\"http://www.w3.org/2000/svg\" height=\"24px\" viewBox=\"0 -960 960 960\">\n",
              "    <path d=\"M120-120v-720h720v720H120Zm60-500h600v-160H180v160Zm220 220h160v-160H400v160Zm0 220h160v-160H400v160ZM180-400h160v-160H180v160Zm440 0h160v-160H620v160ZM180-180h160v-160H180v160Zm440 0h160v-160H620v160Z\"/>\n",
              "  </svg>\n",
              "    </button>\n",
              "\n",
              "  <style>\n",
              "    .colab-df-container {\n",
              "      display:flex;\n",
              "      gap: 12px;\n",
              "    }\n",
              "\n",
              "    .colab-df-convert {\n",
              "      background-color: #E8F0FE;\n",
              "      border: none;\n",
              "      border-radius: 50%;\n",
              "      cursor: pointer;\n",
              "      display: none;\n",
              "      fill: #1967D2;\n",
              "      height: 32px;\n",
              "      padding: 0 0 0 0;\n",
              "      width: 32px;\n",
              "    }\n",
              "\n",
              "    .colab-df-convert:hover {\n",
              "      background-color: #E2EBFA;\n",
              "      box-shadow: 0px 1px 2px rgba(60, 64, 67, 0.3), 0px 1px 3px 1px rgba(60, 64, 67, 0.15);\n",
              "      fill: #174EA6;\n",
              "    }\n",
              "\n",
              "    .colab-df-buttons div {\n",
              "      margin-bottom: 4px;\n",
              "    }\n",
              "\n",
              "    [theme=dark] .colab-df-convert {\n",
              "      background-color: #3B4455;\n",
              "      fill: #D2E3FC;\n",
              "    }\n",
              "\n",
              "    [theme=dark] .colab-df-convert:hover {\n",
              "      background-color: #434B5C;\n",
              "      box-shadow: 0px 1px 3px 1px rgba(0, 0, 0, 0.15);\n",
              "      filter: drop-shadow(0px 1px 2px rgba(0, 0, 0, 0.3));\n",
              "      fill: #FFFFFF;\n",
              "    }\n",
              "  </style>\n",
              "\n",
              "    <script>\n",
              "      const buttonEl =\n",
              "        document.querySelector('#df-e36becd9-eb97-45e4-a0d3-a24f5a8d942d button.colab-df-convert');\n",
              "      buttonEl.style.display =\n",
              "        google.colab.kernel.accessAllowed ? 'block' : 'none';\n",
              "\n",
              "      async function convertToInteractive(key) {\n",
              "        const element = document.querySelector('#df-e36becd9-eb97-45e4-a0d3-a24f5a8d942d');\n",
              "        const dataTable =\n",
              "          await google.colab.kernel.invokeFunction('convertToInteractive',\n",
              "                                                    [key], {});\n",
              "        if (!dataTable) return;\n",
              "\n",
              "        const docLinkHtml = 'Like what you see? Visit the ' +\n",
              "          '<a target=\"_blank\" href=https://colab.research.google.com/notebooks/data_table.ipynb>data table notebook</a>'\n",
              "          + ' to learn more about interactive tables.';\n",
              "        element.innerHTML = '';\n",
              "        dataTable['output_type'] = 'display_data';\n",
              "        await google.colab.output.renderOutput(dataTable, element);\n",
              "        const docLink = document.createElement('div');\n",
              "        docLink.innerHTML = docLinkHtml;\n",
              "        element.appendChild(docLink);\n",
              "      }\n",
              "    </script>\n",
              "  </div>\n",
              "\n",
              "\n",
              "<div id=\"df-04229358-e856-448f-aacd-ed3b4f581161\">\n",
              "  <button class=\"colab-df-quickchart\" onclick=\"quickchart('df-04229358-e856-448f-aacd-ed3b4f581161')\"\n",
              "            title=\"Suggest charts\"\n",
              "            style=\"display:none;\">\n",
              "\n",
              "<svg xmlns=\"http://www.w3.org/2000/svg\" height=\"24px\"viewBox=\"0 0 24 24\"\n",
              "     width=\"24px\">\n",
              "    <g>\n",
              "        <path d=\"M19 3H5c-1.1 0-2 .9-2 2v14c0 1.1.9 2 2 2h14c1.1 0 2-.9 2-2V5c0-1.1-.9-2-2-2zM9 17H7v-7h2v7zm4 0h-2V7h2v10zm4 0h-2v-4h2v4z\"/>\n",
              "    </g>\n",
              "</svg>\n",
              "  </button>\n",
              "\n",
              "<style>\n",
              "  .colab-df-quickchart {\n",
              "      --bg-color: #E8F0FE;\n",
              "      --fill-color: #1967D2;\n",
              "      --hover-bg-color: #E2EBFA;\n",
              "      --hover-fill-color: #174EA6;\n",
              "      --disabled-fill-color: #AAA;\n",
              "      --disabled-bg-color: #DDD;\n",
              "  }\n",
              "\n",
              "  [theme=dark] .colab-df-quickchart {\n",
              "      --bg-color: #3B4455;\n",
              "      --fill-color: #D2E3FC;\n",
              "      --hover-bg-color: #434B5C;\n",
              "      --hover-fill-color: #FFFFFF;\n",
              "      --disabled-bg-color: #3B4455;\n",
              "      --disabled-fill-color: #666;\n",
              "  }\n",
              "\n",
              "  .colab-df-quickchart {\n",
              "    background-color: var(--bg-color);\n",
              "    border: none;\n",
              "    border-radius: 50%;\n",
              "    cursor: pointer;\n",
              "    display: none;\n",
              "    fill: var(--fill-color);\n",
              "    height: 32px;\n",
              "    padding: 0;\n",
              "    width: 32px;\n",
              "  }\n",
              "\n",
              "  .colab-df-quickchart:hover {\n",
              "    background-color: var(--hover-bg-color);\n",
              "    box-shadow: 0 1px 2px rgba(60, 64, 67, 0.3), 0 1px 3px 1px rgba(60, 64, 67, 0.15);\n",
              "    fill: var(--button-hover-fill-color);\n",
              "  }\n",
              "\n",
              "  .colab-df-quickchart-complete:disabled,\n",
              "  .colab-df-quickchart-complete:disabled:hover {\n",
              "    background-color: var(--disabled-bg-color);\n",
              "    fill: var(--disabled-fill-color);\n",
              "    box-shadow: none;\n",
              "  }\n",
              "\n",
              "  .colab-df-spinner {\n",
              "    border: 2px solid var(--fill-color);\n",
              "    border-color: transparent;\n",
              "    border-bottom-color: var(--fill-color);\n",
              "    animation:\n",
              "      spin 1s steps(1) infinite;\n",
              "  }\n",
              "\n",
              "  @keyframes spin {\n",
              "    0% {\n",
              "      border-color: transparent;\n",
              "      border-bottom-color: var(--fill-color);\n",
              "      border-left-color: var(--fill-color);\n",
              "    }\n",
              "    20% {\n",
              "      border-color: transparent;\n",
              "      border-left-color: var(--fill-color);\n",
              "      border-top-color: var(--fill-color);\n",
              "    }\n",
              "    30% {\n",
              "      border-color: transparent;\n",
              "      border-left-color: var(--fill-color);\n",
              "      border-top-color: var(--fill-color);\n",
              "      border-right-color: var(--fill-color);\n",
              "    }\n",
              "    40% {\n",
              "      border-color: transparent;\n",
              "      border-right-color: var(--fill-color);\n",
              "      border-top-color: var(--fill-color);\n",
              "    }\n",
              "    60% {\n",
              "      border-color: transparent;\n",
              "      border-right-color: var(--fill-color);\n",
              "    }\n",
              "    80% {\n",
              "      border-color: transparent;\n",
              "      border-right-color: var(--fill-color);\n",
              "      border-bottom-color: var(--fill-color);\n",
              "    }\n",
              "    90% {\n",
              "      border-color: transparent;\n",
              "      border-bottom-color: var(--fill-color);\n",
              "    }\n",
              "  }\n",
              "</style>\n",
              "\n",
              "  <script>\n",
              "    async function quickchart(key) {\n",
              "      const quickchartButtonEl =\n",
              "        document.querySelector('#' + key + ' button');\n",
              "      quickchartButtonEl.disabled = true;  // To prevent multiple clicks.\n",
              "      quickchartButtonEl.classList.add('colab-df-spinner');\n",
              "      try {\n",
              "        const charts = await google.colab.kernel.invokeFunction(\n",
              "            'suggestCharts', [key], {});\n",
              "      } catch (error) {\n",
              "        console.error('Error during call to suggestCharts:', error);\n",
              "      }\n",
              "      quickchartButtonEl.classList.remove('colab-df-spinner');\n",
              "      quickchartButtonEl.classList.add('colab-df-quickchart-complete');\n",
              "    }\n",
              "    (() => {\n",
              "      let quickchartButtonEl =\n",
              "        document.querySelector('#df-04229358-e856-448f-aacd-ed3b4f581161 button');\n",
              "      quickchartButtonEl.style.display =\n",
              "        google.colab.kernel.accessAllowed ? 'block' : 'none';\n",
              "    })();\n",
              "  </script>\n",
              "</div>\n",
              "\n",
              "  <div id=\"id_199f5eae-1507-4cc5-895b-3b727730ad7e\">\n",
              "    <style>\n",
              "      .colab-df-generate {\n",
              "        background-color: #E8F0FE;\n",
              "        border: none;\n",
              "        border-radius: 50%;\n",
              "        cursor: pointer;\n",
              "        display: none;\n",
              "        fill: #1967D2;\n",
              "        height: 32px;\n",
              "        padding: 0 0 0 0;\n",
              "        width: 32px;\n",
              "      }\n",
              "\n",
              "      .colab-df-generate:hover {\n",
              "        background-color: #E2EBFA;\n",
              "        box-shadow: 0px 1px 2px rgba(60, 64, 67, 0.3), 0px 1px 3px 1px rgba(60, 64, 67, 0.15);\n",
              "        fill: #174EA6;\n",
              "      }\n",
              "\n",
              "      [theme=dark] .colab-df-generate {\n",
              "        background-color: #3B4455;\n",
              "        fill: #D2E3FC;\n",
              "      }\n",
              "\n",
              "      [theme=dark] .colab-df-generate:hover {\n",
              "        background-color: #434B5C;\n",
              "        box-shadow: 0px 1px 3px 1px rgba(0, 0, 0, 0.15);\n",
              "        filter: drop-shadow(0px 1px 2px rgba(0, 0, 0, 0.3));\n",
              "        fill: #FFFFFF;\n",
              "      }\n",
              "    </style>\n",
              "    <button class=\"colab-df-generate\" onclick=\"generateWithVariable('categorical_df')\"\n",
              "            title=\"Generate code using this dataframe.\"\n",
              "            style=\"display:none;\">\n",
              "\n",
              "  <svg xmlns=\"http://www.w3.org/2000/svg\" height=\"24px\"viewBox=\"0 0 24 24\"\n",
              "       width=\"24px\">\n",
              "    <path d=\"M7,19H8.4L18.45,9,17,7.55,7,17.6ZM5,21V16.75L18.45,3.32a2,2,0,0,1,2.83,0l1.4,1.43a1.91,1.91,0,0,1,.58,1.4,1.91,1.91,0,0,1-.58,1.4L9.25,21ZM18.45,9,17,7.55Zm-12,3A5.31,5.31,0,0,0,4.9,8.1,5.31,5.31,0,0,0,1,6.5,5.31,5.31,0,0,0,4.9,4.9,5.31,5.31,0,0,0,6.5,1,5.31,5.31,0,0,0,8.1,4.9,5.31,5.31,0,0,0,12,6.5,5.46,5.46,0,0,0,6.5,12Z\"/>\n",
              "  </svg>\n",
              "    </button>\n",
              "    <script>\n",
              "      (() => {\n",
              "      const buttonEl =\n",
              "        document.querySelector('#id_199f5eae-1507-4cc5-895b-3b727730ad7e button.colab-df-generate');\n",
              "      buttonEl.style.display =\n",
              "        google.colab.kernel.accessAllowed ? 'block' : 'none';\n",
              "\n",
              "      buttonEl.onclick = () => {\n",
              "        google.colab.notebook.generateWithVariable('categorical_df');\n",
              "      }\n",
              "      })();\n",
              "    </script>\n",
              "  </div>\n",
              "\n",
              "    </div>\n",
              "  </div>\n"
            ],
            "application/vnd.google.colaboratory.intrinsic+json": {
              "type": "dataframe",
              "variable_name": "categorical_df",
              "summary": "{\n  \"name\": \"categorical_df\",\n  \"rows\": 3,\n  \"fields\": [\n    {\n      \"column\": \"Name\",\n      \"properties\": {\n        \"dtype\": \"string\",\n        \"num_unique_values\": 3,\n        \"samples\": [\n          \"Bumblebee\",\n          \"Optimus Prime\",\n          \"Megatron\"\n        ],\n        \"semantic_type\": \"\",\n        \"description\": \"\"\n      }\n    },\n    {\n      \"column\": \"Label ID\",\n      \"properties\": {\n        \"dtype\": \"number\",\n        \"std\": 1,\n        \"min\": 0,\n        \"max\": 2,\n        \"num_unique_values\": 3,\n        \"samples\": [\n          0,\n          1,\n          2\n        ],\n        \"semantic_type\": \"\",\n        \"description\": \"\"\n      }\n    }\n  ]\n}"
            }
          },
          "metadata": {},
          "execution_count": 20
        }
      ],
      "source": [
        "categorical_df = pd.DataFrame(\n",
        "    {\"Name\": [\"Bumblebee\", \"Optimus Prime\", \"Megatron\"], \"Label ID\": [0,1,2]})\n",
        "categorical_df"
      ]
    },
    {
      "cell_type": "markdown",
      "metadata": {
        "id": "zSQvpDK5YHZd"
      },
      "source": [
        "The problem with this approach is that it creates a fictitious ordering between the names, and neural networks are _really_ good at learning these kinds of relationships. So instead, we can create a new column for each category and assign a 1 where the category is true, and a 0 otherwise. In Pandas, this can be implemented with the `get_dummies()` function as follows:"
      ]
    },
    {
      "cell_type": "code",
      "execution_count": 21,
      "metadata": {
        "id": "-8-nfnyGYHZd",
        "outputId": "64d463d2-b125-42f3-c04e-d8d1c74c8fa9",
        "colab": {
          "base_uri": "https://localhost:8080/",
          "height": 143
        }
      },
      "outputs": [
        {
          "output_type": "execute_result",
          "data": {
            "text/plain": [
              "   Bumblebee  Megatron  Optimus Prime\n",
              "0       True     False          False\n",
              "1      False     False           True\n",
              "2      False      True          False"
            ],
            "text/html": [
              "\n",
              "  <div id=\"df-6bedb53d-9bff-4f94-b291-8794b4a5cfff\" class=\"colab-df-container\">\n",
              "    <div>\n",
              "<style scoped>\n",
              "    .dataframe tbody tr th:only-of-type {\n",
              "        vertical-align: middle;\n",
              "    }\n",
              "\n",
              "    .dataframe tbody tr th {\n",
              "        vertical-align: top;\n",
              "    }\n",
              "\n",
              "    .dataframe thead th {\n",
              "        text-align: right;\n",
              "    }\n",
              "</style>\n",
              "<table border=\"1\" class=\"dataframe\">\n",
              "  <thead>\n",
              "    <tr style=\"text-align: right;\">\n",
              "      <th></th>\n",
              "      <th>Bumblebee</th>\n",
              "      <th>Megatron</th>\n",
              "      <th>Optimus Prime</th>\n",
              "    </tr>\n",
              "  </thead>\n",
              "  <tbody>\n",
              "    <tr>\n",
              "      <th>0</th>\n",
              "      <td>True</td>\n",
              "      <td>False</td>\n",
              "      <td>False</td>\n",
              "    </tr>\n",
              "    <tr>\n",
              "      <th>1</th>\n",
              "      <td>False</td>\n",
              "      <td>False</td>\n",
              "      <td>True</td>\n",
              "    </tr>\n",
              "    <tr>\n",
              "      <th>2</th>\n",
              "      <td>False</td>\n",
              "      <td>True</td>\n",
              "      <td>False</td>\n",
              "    </tr>\n",
              "  </tbody>\n",
              "</table>\n",
              "</div>\n",
              "    <div class=\"colab-df-buttons\">\n",
              "\n",
              "  <div class=\"colab-df-container\">\n",
              "    <button class=\"colab-df-convert\" onclick=\"convertToInteractive('df-6bedb53d-9bff-4f94-b291-8794b4a5cfff')\"\n",
              "            title=\"Convert this dataframe to an interactive table.\"\n",
              "            style=\"display:none;\">\n",
              "\n",
              "  <svg xmlns=\"http://www.w3.org/2000/svg\" height=\"24px\" viewBox=\"0 -960 960 960\">\n",
              "    <path d=\"M120-120v-720h720v720H120Zm60-500h600v-160H180v160Zm220 220h160v-160H400v160Zm0 220h160v-160H400v160ZM180-400h160v-160H180v160Zm440 0h160v-160H620v160ZM180-180h160v-160H180v160Zm440 0h160v-160H620v160Z\"/>\n",
              "  </svg>\n",
              "    </button>\n",
              "\n",
              "  <style>\n",
              "    .colab-df-container {\n",
              "      display:flex;\n",
              "      gap: 12px;\n",
              "    }\n",
              "\n",
              "    .colab-df-convert {\n",
              "      background-color: #E8F0FE;\n",
              "      border: none;\n",
              "      border-radius: 50%;\n",
              "      cursor: pointer;\n",
              "      display: none;\n",
              "      fill: #1967D2;\n",
              "      height: 32px;\n",
              "      padding: 0 0 0 0;\n",
              "      width: 32px;\n",
              "    }\n",
              "\n",
              "    .colab-df-convert:hover {\n",
              "      background-color: #E2EBFA;\n",
              "      box-shadow: 0px 1px 2px rgba(60, 64, 67, 0.3), 0px 1px 3px 1px rgba(60, 64, 67, 0.15);\n",
              "      fill: #174EA6;\n",
              "    }\n",
              "\n",
              "    .colab-df-buttons div {\n",
              "      margin-bottom: 4px;\n",
              "    }\n",
              "\n",
              "    [theme=dark] .colab-df-convert {\n",
              "      background-color: #3B4455;\n",
              "      fill: #D2E3FC;\n",
              "    }\n",
              "\n",
              "    [theme=dark] .colab-df-convert:hover {\n",
              "      background-color: #434B5C;\n",
              "      box-shadow: 0px 1px 3px 1px rgba(0, 0, 0, 0.15);\n",
              "      filter: drop-shadow(0px 1px 2px rgba(0, 0, 0, 0.3));\n",
              "      fill: #FFFFFF;\n",
              "    }\n",
              "  </style>\n",
              "\n",
              "    <script>\n",
              "      const buttonEl =\n",
              "        document.querySelector('#df-6bedb53d-9bff-4f94-b291-8794b4a5cfff button.colab-df-convert');\n",
              "      buttonEl.style.display =\n",
              "        google.colab.kernel.accessAllowed ? 'block' : 'none';\n",
              "\n",
              "      async function convertToInteractive(key) {\n",
              "        const element = document.querySelector('#df-6bedb53d-9bff-4f94-b291-8794b4a5cfff');\n",
              "        const dataTable =\n",
              "          await google.colab.kernel.invokeFunction('convertToInteractive',\n",
              "                                                    [key], {});\n",
              "        if (!dataTable) return;\n",
              "\n",
              "        const docLinkHtml = 'Like what you see? Visit the ' +\n",
              "          '<a target=\"_blank\" href=https://colab.research.google.com/notebooks/data_table.ipynb>data table notebook</a>'\n",
              "          + ' to learn more about interactive tables.';\n",
              "        element.innerHTML = '';\n",
              "        dataTable['output_type'] = 'display_data';\n",
              "        await google.colab.output.renderOutput(dataTable, element);\n",
              "        const docLink = document.createElement('div');\n",
              "        docLink.innerHTML = docLinkHtml;\n",
              "        element.appendChild(docLink);\n",
              "      }\n",
              "    </script>\n",
              "  </div>\n",
              "\n",
              "\n",
              "<div id=\"df-dd87e6ce-2016-4942-9b48-672c5061c869\">\n",
              "  <button class=\"colab-df-quickchart\" onclick=\"quickchart('df-dd87e6ce-2016-4942-9b48-672c5061c869')\"\n",
              "            title=\"Suggest charts\"\n",
              "            style=\"display:none;\">\n",
              "\n",
              "<svg xmlns=\"http://www.w3.org/2000/svg\" height=\"24px\"viewBox=\"0 0 24 24\"\n",
              "     width=\"24px\">\n",
              "    <g>\n",
              "        <path d=\"M19 3H5c-1.1 0-2 .9-2 2v14c0 1.1.9 2 2 2h14c1.1 0 2-.9 2-2V5c0-1.1-.9-2-2-2zM9 17H7v-7h2v7zm4 0h-2V7h2v10zm4 0h-2v-4h2v4z\"/>\n",
              "    </g>\n",
              "</svg>\n",
              "  </button>\n",
              "\n",
              "<style>\n",
              "  .colab-df-quickchart {\n",
              "      --bg-color: #E8F0FE;\n",
              "      --fill-color: #1967D2;\n",
              "      --hover-bg-color: #E2EBFA;\n",
              "      --hover-fill-color: #174EA6;\n",
              "      --disabled-fill-color: #AAA;\n",
              "      --disabled-bg-color: #DDD;\n",
              "  }\n",
              "\n",
              "  [theme=dark] .colab-df-quickchart {\n",
              "      --bg-color: #3B4455;\n",
              "      --fill-color: #D2E3FC;\n",
              "      --hover-bg-color: #434B5C;\n",
              "      --hover-fill-color: #FFFFFF;\n",
              "      --disabled-bg-color: #3B4455;\n",
              "      --disabled-fill-color: #666;\n",
              "  }\n",
              "\n",
              "  .colab-df-quickchart {\n",
              "    background-color: var(--bg-color);\n",
              "    border: none;\n",
              "    border-radius: 50%;\n",
              "    cursor: pointer;\n",
              "    display: none;\n",
              "    fill: var(--fill-color);\n",
              "    height: 32px;\n",
              "    padding: 0;\n",
              "    width: 32px;\n",
              "  }\n",
              "\n",
              "  .colab-df-quickchart:hover {\n",
              "    background-color: var(--hover-bg-color);\n",
              "    box-shadow: 0 1px 2px rgba(60, 64, 67, 0.3), 0 1px 3px 1px rgba(60, 64, 67, 0.15);\n",
              "    fill: var(--button-hover-fill-color);\n",
              "  }\n",
              "\n",
              "  .colab-df-quickchart-complete:disabled,\n",
              "  .colab-df-quickchart-complete:disabled:hover {\n",
              "    background-color: var(--disabled-bg-color);\n",
              "    fill: var(--disabled-fill-color);\n",
              "    box-shadow: none;\n",
              "  }\n",
              "\n",
              "  .colab-df-spinner {\n",
              "    border: 2px solid var(--fill-color);\n",
              "    border-color: transparent;\n",
              "    border-bottom-color: var(--fill-color);\n",
              "    animation:\n",
              "      spin 1s steps(1) infinite;\n",
              "  }\n",
              "\n",
              "  @keyframes spin {\n",
              "    0% {\n",
              "      border-color: transparent;\n",
              "      border-bottom-color: var(--fill-color);\n",
              "      border-left-color: var(--fill-color);\n",
              "    }\n",
              "    20% {\n",
              "      border-color: transparent;\n",
              "      border-left-color: var(--fill-color);\n",
              "      border-top-color: var(--fill-color);\n",
              "    }\n",
              "    30% {\n",
              "      border-color: transparent;\n",
              "      border-left-color: var(--fill-color);\n",
              "      border-top-color: var(--fill-color);\n",
              "      border-right-color: var(--fill-color);\n",
              "    }\n",
              "    40% {\n",
              "      border-color: transparent;\n",
              "      border-right-color: var(--fill-color);\n",
              "      border-top-color: var(--fill-color);\n",
              "    }\n",
              "    60% {\n",
              "      border-color: transparent;\n",
              "      border-right-color: var(--fill-color);\n",
              "    }\n",
              "    80% {\n",
              "      border-color: transparent;\n",
              "      border-right-color: var(--fill-color);\n",
              "      border-bottom-color: var(--fill-color);\n",
              "    }\n",
              "    90% {\n",
              "      border-color: transparent;\n",
              "      border-bottom-color: var(--fill-color);\n",
              "    }\n",
              "  }\n",
              "</style>\n",
              "\n",
              "  <script>\n",
              "    async function quickchart(key) {\n",
              "      const quickchartButtonEl =\n",
              "        document.querySelector('#' + key + ' button');\n",
              "      quickchartButtonEl.disabled = true;  // To prevent multiple clicks.\n",
              "      quickchartButtonEl.classList.add('colab-df-spinner');\n",
              "      try {\n",
              "        const charts = await google.colab.kernel.invokeFunction(\n",
              "            'suggestCharts', [key], {});\n",
              "      } catch (error) {\n",
              "        console.error('Error during call to suggestCharts:', error);\n",
              "      }\n",
              "      quickchartButtonEl.classList.remove('colab-df-spinner');\n",
              "      quickchartButtonEl.classList.add('colab-df-quickchart-complete');\n",
              "    }\n",
              "    (() => {\n",
              "      let quickchartButtonEl =\n",
              "        document.querySelector('#df-dd87e6ce-2016-4942-9b48-672c5061c869 button');\n",
              "      quickchartButtonEl.style.display =\n",
              "        google.colab.kernel.accessAllowed ? 'block' : 'none';\n",
              "    })();\n",
              "  </script>\n",
              "</div>\n",
              "\n",
              "    </div>\n",
              "  </div>\n"
            ],
            "application/vnd.google.colaboratory.intrinsic+json": {
              "type": "dataframe",
              "summary": "{\n  \"name\": \"pd\",\n  \"rows\": 3,\n  \"fields\": [\n    {\n      \"column\": \"Bumblebee\",\n      \"properties\": {\n        \"dtype\": \"boolean\",\n        \"num_unique_values\": 2,\n        \"samples\": [\n          false,\n          true\n        ],\n        \"semantic_type\": \"\",\n        \"description\": \"\"\n      }\n    },\n    {\n      \"column\": \"Megatron\",\n      \"properties\": {\n        \"dtype\": \"boolean\",\n        \"num_unique_values\": 2,\n        \"samples\": [\n          true,\n          false\n        ],\n        \"semantic_type\": \"\",\n        \"description\": \"\"\n      }\n    },\n    {\n      \"column\": \"Optimus Prime\",\n      \"properties\": {\n        \"dtype\": \"boolean\",\n        \"num_unique_values\": 2,\n        \"samples\": [\n          true,\n          false\n        ],\n        \"semantic_type\": \"\",\n        \"description\": \"\"\n      }\n    }\n  ]\n}"
            }
          },
          "metadata": {},
          "execution_count": 21
        }
      ],
      "source": [
        "pd.get_dummies(categorical_df[\"Name\"])"
      ]
    },
    {
      "cell_type": "markdown",
      "metadata": {
        "id": "-nXiduTYYHZd"
      },
      "source": [
        "The rows of this `DataFrame` are the one-hot vectors, which have a single \"hot\" entry with a 1 and 0s everywhere else. Now, looking at our `input_ids`, we have a similar problem: the elements create an ordinal scale. This means that adding or subtracting two IDs is a meaningless operation, since the result is a new ID that represents another random token.\n",
        "\n",
        "On the other hand, the result of adding two one-hot encodings can easily be interpreted: the two entries that are \"hot\" indicate that the corresponding tokens co-occur. We can create the one-hot encodings in PyTorch by converting `input_ids` to a tensor and applying the `one_hot()` function as follows:"
      ]
    },
    {
      "cell_type": "code",
      "execution_count": 22,
      "metadata": {
        "id": "4l9Ao24DYHZe",
        "outputId": "6a3209d1-8693-4335-bde2-2e775a09d206",
        "colab": {
          "base_uri": "https://localhost:8080/"
        }
      },
      "outputs": [
        {
          "output_type": "execute_result",
          "data": {
            "text/plain": [
              "torch.Size([38, 20])"
            ]
          },
          "metadata": {},
          "execution_count": 22
        }
      ],
      "source": [
        "import torch\n",
        "import torch.nn.functional as F\n",
        "\n",
        "input_ids = torch.tensor(input_ids)\n",
        "one_hot_encodings = F.one_hot(input_ids, num_classes=len(token2idx))\n",
        "one_hot_encodings.shape"
      ]
    },
    {
      "cell_type": "markdown",
      "metadata": {
        "id": "xPs95qM0YHZe"
      },
      "source": [
        "For each of the 38 input tokens we now have a one-hot vector with 20 dimensions, since our vocabulary consists of 20 unique characters."
      ]
    },
    {
      "cell_type": "markdown",
      "metadata": {
        "id": "-hU7j83PYHZe"
      },
      "source": [
        "> Warning: It's important to always set `num_classes` in the `one_hot()` function because otherwise the one-hot vectors may end up being shorter than the length of the vocabulary (and need to be padded with zeros manually). In TensorFlow, the equivalent function is `tf.one_hot()`, where the `depth` argument plays the role of `num_classes`."
      ]
    },
    {
      "cell_type": "markdown",
      "metadata": {
        "id": "kqllipJiYHZe"
      },
      "source": [
        "By examining the first vector, we can verify that a 1 appears in the location indicated by `input_ids[0]`:"
      ]
    },
    {
      "cell_type": "code",
      "execution_count": 23,
      "metadata": {
        "id": "gQHIIOzyYHZe",
        "outputId": "288213d0-79c4-4210-d539-2f1d5e837ae3",
        "colab": {
          "base_uri": "https://localhost:8080/"
        }
      },
      "outputs": [
        {
          "output_type": "stream",
          "name": "stdout",
          "text": [
            "Token: T\n",
            "Tensor index: 5\n",
            "One-hot: tensor([0, 0, 0, 0, 0, 1, 0, 0, 0, 0, 0, 0, 0, 0, 0, 0, 0, 0, 0, 0])\n"
          ]
        }
      ],
      "source": [
        "print(f\"Token: {tokenized_text[0]}\")\n",
        "print(f\"Tensor index: {input_ids[0]}\")\n",
        "print(f\"One-hot: {one_hot_encodings[0]}\")"
      ]
    },
    {
      "cell_type": "markdown",
      "metadata": {
        "id": "ZQMEUWX0YHZe"
      },
      "source": [
        "From our simple example we can see that character-level tokenization ignores any structure in the text and treats the whole string as a stream of characters. Although this helps deal with misspellings and rare words, the main drawback is that linguistic structures such as words need to be _learned_ from the data. This requires significant compute, memory, and data. For this reason, character tokenization is rarely used in practice. Instead, some structure of the text is preserved during the tokenization step. _Word tokenization_ is a straightforward approach to achieve this, so let's take a look at how it works."
      ]
    },
    {
      "cell_type": "markdown",
      "metadata": {
        "id": "ebU_7gFJYHZe"
      },
      "source": [
        "### Word Tokenization"
      ]
    },
    {
      "cell_type": "markdown",
      "metadata": {
        "id": "H2OUgxIdYHZe"
      },
      "source": [
        "Instead of splitting the text into characters, we can split it into words and map each word to an integer. Using words from the outset enables the model to skip the step of learning words from characters, and thereby reduces the complexity of the training process."
      ]
    },
    {
      "cell_type": "markdown",
      "metadata": {
        "id": "9YNUHfFWYHZf"
      },
      "source": [
        "One simple class of word tokenizers uses whitespace to tokenize the text. We can do this by applying Python's `split()` function directly on the raw text (just like we did to measure the tweet lengths):"
      ]
    },
    {
      "cell_type": "code",
      "execution_count": 24,
      "metadata": {
        "id": "atrv9WH_YHZf",
        "outputId": "9b9c8130-6bce-42aa-8540-5c8326468802",
        "colab": {
          "base_uri": "https://localhost:8080/"
        }
      },
      "outputs": [
        {
          "output_type": "stream",
          "name": "stdout",
          "text": [
            "['Tokenizing', 'text', 'is', 'a', 'core', 'task', 'of', 'NLP.']\n"
          ]
        }
      ],
      "source": [
        "tokenized_text = text.split()\n",
        "print(tokenized_text)"
      ]
    },
    {
      "cell_type": "markdown",
      "metadata": {
        "id": "UZbeOTssYHZf"
      },
      "source": [
        "From here we can take the same steps we took for the character tokenizer to map each word to an ID. However, we can already see one potential problem with this tokenization scheme: punctuation is not accounted for, so `NLP.` is treated as a single token. Given that words can include declinations, conjugations, or misspellings, the size of the vocabulary can easily grow into the millions!\n",
        "\n",
        "\n",
        "> note: Some word tokenizers have extra rules for punctuation. One can also apply stemming or lemmatization, which normalizes words to their stem (e.g., \"great\", \"greater\", and \"greatest\" all become \"great\"), at the expense of losing some information in the text."
      ]
    },
    {
      "cell_type": "markdown",
      "metadata": {
        "id": "-56vGAqJYHZf"
      },
      "source": [
        "Having a large vocabulary is a problem because it requires neural networks to have an enormous number of parameters. To illustrate this, suppose we have 1 million unique words and want to compress the 1-million-dimensional input vectors to 1-thousand-dimensional vectors in the first layer of our neural network. This is a standard step in most NLP architectures, and the resulting weight matrix of this first layer would contain 1 million $\\times$ 1 thousand = 1 billion weights. This is already comparable to the largest GPT-2 model,footnote:[GPT-2 is the successor of GPT, and it captivated the public's attention with its impressive ability to generate realistic text. We'll explore GPT-2 in detail in <<chapter_summarization>>.] which has around 1.5 billion parameters in total!"
      ]
    },
    {
      "cell_type": "markdown",
      "metadata": {
        "id": "6bMPaWWuYHZf"
      },
      "source": [
        "Naturally, we want to avoid being so wasteful with our model parameters since models are expensive to train, and larger models are more difficult to maintain. A common approach is to limit the vocabulary and discard rare words by considering, say, the 100,000 most common words in the corpus. Words that are not part of the vocabulary are classified as \"unknown\" and mapped to a shared `UNK` token. This means that we lose some potentially important information in the process of word tokenization, since the model has no information about words associated with `UNK`.\n",
        "\n",
        "Wouldn't it be nice if there was a compromise between character and word tokenization that preserved all the input information _and_ some of the input structure? There is: _subword tokenization_."
      ]
    },
    {
      "cell_type": "markdown",
      "metadata": {
        "id": "wh2-0X12YHZf"
      },
      "source": [
        "### Subword Tokenization"
      ]
    },
    {
      "cell_type": "markdown",
      "metadata": {
        "id": "6nDTfdjmYHZf"
      },
      "source": [
        "The basic idea behind subword tokenization is to combine the best aspects of character and word tokenization. On the one hand, we want to split rare words into smaller units to allow the model to deal with complex words and misspellings. On the other hand, we want to keep frequent words as unique entities so that we can keep the length of our inputs to a manageable size. The main distinguishing feature of subword tokenization (as well as word tokenization) is that it is _learned_ from the pretraining corpus using a mix of statistical rules and algorithms.\n",
        "\n",
        "There are several subword tokenization algorithms that are commonly used in NLP, but let's start with WordPiece,footnote:[M. Schuster and K. Nakajima, \"Japanese and Korean Voice Search,\" _2012 IEEE International Conference on Acoustics, Speech and Signal Processing_ (2012): 5149–5152, https://doi.org/10.1109/ICASSP.2012.6289079.] which is used by the BERT and DistilBERT tokenizers. The easiest way to understand how WordPiece works is to see it in action. image:images/logo.png[hf,13,13] Transformers provides a convenient `AutoTokenizer` class that allows you to quickly load the tokenizer associated with a pretrained model—we just call its `from_pretrained()` method, providing the ID of a model on the Hub or a local file path. Let's start by loading the tokenizer for DistilBERT:"
      ]
    },
    {
      "cell_type": "code",
      "execution_count": 76,
      "metadata": {
        "id": "zHt1MSB3YHZg"
      },
      "outputs": [],
      "source": [
        "# hide_output\n",
        "from transformers import AutoTokenizer\n",
        "\n",
        "model_ckpt = \"albert/albert-base-v2\"\n",
        "tokenizer = AutoTokenizer.from_pretrained(model_ckpt)"
      ]
    },
    {
      "cell_type": "markdown",
      "metadata": {
        "id": "dCZAm71QYHZg"
      },
      "source": [
        "The `AutoTokenizer` class belongs to a larger set of [\"auto\" classes](https://huggingface.co/docs/transformers/model_doc/auto) whose job is to automatically retrieve the model's configuration, pretrained weights, or vocabulary from the name of the checkpoint. This allows you to quickly switch between models, but if you wish to load the specific class manually you can do so as well. For example, we could have loaded the DistilBERT tokenizer as follows:\n",
        "\n",
        "```python\n",
        "from transformers import DistilBertTokenizer\n",
        "\n",
        "distilbert_tokenizer = DistilBertTokenizer.from_pretrained(model_ckpt)\n",
        "```"
      ]
    },
    {
      "cell_type": "markdown",
      "metadata": {
        "id": "w3S6sU0fYHZg"
      },
      "source": [
        "> note: When you run the `AutoTokenizer.from_pretrained()` method for the first time you will see a progress bar that shows which parameters of the pretrained tokenizer are loaded from the Hugging Face Hub. When you run the code a second time, it will load the tokenizer from the cache, usually located at _~/.cache/huggingface/_."
      ]
    },
    {
      "cell_type": "markdown",
      "metadata": {
        "id": "ZsmzsNOiYHZg"
      },
      "source": [
        "Let's examine how this tokenizer works by feeding it our simple \"Tokenizing text is a core task of NLP.\" example text:"
      ]
    },
    {
      "cell_type": "code",
      "execution_count": 77,
      "metadata": {
        "id": "bPUqHA_tYHZg",
        "outputId": "ef3416b3-3b45-4931-f834-29ff686e790b",
        "colab": {
          "base_uri": "https://localhost:8080/"
        }
      },
      "outputs": [
        {
          "output_type": "stream",
          "name": "stdout",
          "text": [
            "{'input_ids': [2, 48, 25, 21, 1289, 3], 'token_type_ids': [0, 0, 0, 0, 0, 0],\n",
            "'attention_mask': [1, 1, 1, 1, 1, 1]}\n"
          ]
        }
      ],
      "source": [
        "encoded_text = tokenizer(text)\n",
        "print(encoded_text)"
      ]
    },
    {
      "cell_type": "markdown",
      "metadata": {
        "id": "tscNfTpEYHZg"
      },
      "source": [
        "Just like we saw with character tokenization, we can see that the words have been mapped to unique integers in the `input_ids` field. We'll discuss the role of the `attention_mask` field in the next section. Now that we have the `input_ids`, we can convert them back into tokens by using the tokenizer's `convert_ids_to_tokens()` method:"
      ]
    },
    {
      "cell_type": "code",
      "execution_count": 78,
      "metadata": {
        "id": "JxovGNpBYHZg",
        "outputId": "867722e5-f476-41e2-d397-0c2cc6d1f0b0",
        "colab": {
          "base_uri": "https://localhost:8080/"
        }
      },
      "outputs": [
        {
          "output_type": "stream",
          "name": "stdout",
          "text": [
            "['[CLS]', '▁this', '▁is', '▁a', '▁test', '[SEP]']\n"
          ]
        }
      ],
      "source": [
        "tokens = tokenizer.convert_ids_to_tokens(encoded_text.input_ids)\n",
        "print(tokens)"
      ]
    },
    {
      "cell_type": "markdown",
      "metadata": {
        "id": "7yctsl7tYHZh"
      },
      "source": [
        "We can observe three things here. First, some special `[CLS]` and `[SEP]` tokens have been added to the start and end of the sequence. These tokens differ from model to model, but their main role is to indicate the start and end of a sequence. Second, the tokens have each been lowercased, which is a feature of this particular checkpoint. Finally, we can see that \"tokenizing\" and \"NLP\" have been split into two tokens, which makes sense since they are not common words. The `##` prefix in `##izing` and `##p` means that the preceding string is not whitespace; any token with this prefix should be merged with the previous token when you convert the tokens back to a string. The `AutoTokenizer` class has a `convert_tokens_to_string()` method for doing just that, so let's apply it to our tokens:"
      ]
    },
    {
      "cell_type": "code",
      "execution_count": 79,
      "metadata": {
        "id": "pZzlpzkHYHZh",
        "outputId": "4472cb0e-9e5b-4d76-d20c-436fedc845db",
        "colab": {
          "base_uri": "https://localhost:8080/"
        }
      },
      "outputs": [
        {
          "output_type": "stream",
          "name": "stdout",
          "text": [
            "[CLS] this is a test[SEP]\n"
          ]
        }
      ],
      "source": [
        "print(tokenizer.convert_tokens_to_string(tokens))"
      ]
    },
    {
      "cell_type": "markdown",
      "metadata": {
        "id": "XS8qLf5UYHZh"
      },
      "source": [
        "The `AutoTokenizer` class also has several attributes that provide information about the tokenizer. For example, we can inspect the vocabulary size:"
      ]
    },
    {
      "cell_type": "code",
      "execution_count": 80,
      "metadata": {
        "id": "G6fLuP00YHZh",
        "outputId": "be0a7895-22cc-4508-e9d0-16569d632bc7",
        "colab": {
          "base_uri": "https://localhost:8080/"
        }
      },
      "outputs": [
        {
          "output_type": "execute_result",
          "data": {
            "text/plain": [
              "30000"
            ]
          },
          "metadata": {},
          "execution_count": 80
        }
      ],
      "source": [
        "tokenizer.vocab_size"
      ]
    },
    {
      "cell_type": "markdown",
      "metadata": {
        "id": "bgWuNaX0YHZh"
      },
      "source": [
        "and the corresponding model's maximum context size:"
      ]
    },
    {
      "cell_type": "code",
      "execution_count": 81,
      "metadata": {
        "id": "CZZ9txKPYHZh",
        "outputId": "9bcef10a-64cb-4de8-b10c-fca6a4ff9329",
        "colab": {
          "base_uri": "https://localhost:8080/"
        }
      },
      "outputs": [
        {
          "output_type": "execute_result",
          "data": {
            "text/plain": [
              "512"
            ]
          },
          "metadata": {},
          "execution_count": 81
        }
      ],
      "source": [
        "tokenizer.model_max_length"
      ]
    },
    {
      "cell_type": "markdown",
      "metadata": {
        "id": "KAdaaOlAYHZh"
      },
      "source": [
        "Another interesting attribute to know about is the names of the fields that the model expects in its forward pass:"
      ]
    },
    {
      "cell_type": "code",
      "execution_count": 82,
      "metadata": {
        "id": "4Ds8vIn3YHZi",
        "outputId": "44017b05-314e-4821-c44f-039b0c48e954",
        "colab": {
          "base_uri": "https://localhost:8080/"
        }
      },
      "outputs": [
        {
          "output_type": "execute_result",
          "data": {
            "text/plain": [
              "['input_ids', 'token_type_ids', 'attention_mask']"
            ]
          },
          "metadata": {},
          "execution_count": 82
        }
      ],
      "source": [
        "tokenizer.model_input_names"
      ]
    },
    {
      "cell_type": "markdown",
      "metadata": {
        "id": "WipZ-WIPYHZi"
      },
      "source": [
        "Now that we have a basic understanding of the tokenization process for a single string, let's see how we can tokenize the whole dataset!"
      ]
    },
    {
      "cell_type": "markdown",
      "metadata": {
        "id": "98_IF_PVYHZi"
      },
      "source": [
        "> warning: When using pretrained models, it is _really_ important to make sure that you use the same tokenizer that the model was trained with. From the model's perspective, switching the tokenizer is like shuffling the vocabulary. If everyone around you started swapping random words like \"house\" for \"cat,\" you'd have a hard time understanding what was going on too!"
      ]
    },
    {
      "cell_type": "markdown",
      "metadata": {
        "id": "Dz6A3pVpYHZi"
      },
      "source": [
        "### Tokenizing the Whole Dataset"
      ]
    },
    {
      "cell_type": "markdown",
      "metadata": {
        "id": "iX8aC6CDYHZi"
      },
      "source": [
        "To tokenize the whole corpus, we'll use the `map()` method of our `DatasetDict` object. We'll encounter this method many times throughout this book, as it provides a convenient way to apply a processing function to each element in a dataset. As we'll soon see, the `map()` method can also be used to create new rows and columns.\n",
        "\n",
        "To get started, the first thing we need is a processing function to tokenize our examples with:"
      ]
    },
    {
      "cell_type": "code",
      "execution_count": 83,
      "metadata": {
        "id": "ObKaF8a6YHZi"
      },
      "outputs": [],
      "source": [
        "def tokenize(batch):\n",
        "    return tokenizer(batch[\"text\"], padding=True, truncation=True)"
      ]
    },
    {
      "cell_type": "markdown",
      "metadata": {
        "id": "x7Uj3kOrYHZi"
      },
      "source": [
        "This function applies the tokenizer to a batch of examples; `padding=True` will pad the examples with zeros to the size of the longest one in a batch, and `truncation=True` will truncate the examples to the model's maximum context size. To see `tokenize()` in action, let's pass a batch of two examples from the training set:"
      ]
    },
    {
      "cell_type": "code",
      "execution_count": 84,
      "metadata": {
        "id": "ksU6TzFTYHZi",
        "outputId": "7dc7f868-9175-4bce-c13e-c485bac29716",
        "colab": {
          "base_uri": "https://localhost:8080/"
        }
      },
      "outputs": [
        {
          "output_type": "stream",
          "name": "stdout",
          "text": [
            "{'input_ids': [[2, 31, 1182, 583, 26951, 3, 0, 0, 0, 0, 0, 0, 0, 0, 0, 0, 0, 0,\n",
            "0, 0, 0, 0, 0, 0], [2, 31, 92, 162, 37, 1249, 86, 18846, 20, 86, 9973, 19562,\n",
            "114, 37, 142, 140, 737, 72, 781, 18, 17, 25, 7924, 3]], 'token_type_ids': [[0,\n",
            "0, 0, 0, 0, 0, 0, 0, 0, 0, 0, 0, 0, 0, 0, 0, 0, 0, 0, 0, 0, 0, 0, 0], [0, 0, 0,\n",
            "0, 0, 0, 0, 0, 0, 0, 0, 0, 0, 0, 0, 0, 0, 0, 0, 0, 0, 0, 0, 0]],\n",
            "'attention_mask': [[1, 1, 1, 1, 1, 1, 0, 0, 0, 0, 0, 0, 0, 0, 0, 0, 0, 0, 0, 0,\n",
            "0, 0, 0, 0], [1, 1, 1, 1, 1, 1, 1, 1, 1, 1, 1, 1, 1, 1, 1, 1, 1, 1, 1, 1, 1, 1,\n",
            "1, 1]]}\n"
          ]
        }
      ],
      "source": [
        "print(tokenize(emotions[\"train\"][:2]))"
      ]
    },
    {
      "cell_type": "markdown",
      "metadata": {
        "id": "33OJjfQAYHZj"
      },
      "source": [
        "Here we can see the result of padding: the first element of `input_ids` is shorter than the second, so zeros have been added to that element to make them the same length. These zeros have a corresponding `[PAD]` token in the vocabulary, and the set of special tokens also includes the `[CLS]` and `[SEP]` tokens that we encountered earlier:"
      ]
    },
    {
      "cell_type": "code",
      "execution_count": 85,
      "metadata": {
        "id": "TfeURweZYHZj",
        "outputId": "1d8ade3b-e292-47f3-ee9d-6c0f149d6e00",
        "colab": {
          "base_uri": "https://localhost:8080/",
          "height": 112
        }
      },
      "outputs": [
        {
          "output_type": "execute_result",
          "data": {
            "text/plain": [
              "                      0      1      2      3       4\n",
              "Special Token     <pad>  <unk>  [CLS]  [SEP]  [MASK]\n",
              "Special Token ID      0      1      2      3       4"
            ],
            "text/html": [
              "\n",
              "  <div id=\"df-73d3b357-114a-422a-a71a-93c98b35685f\" class=\"colab-df-container\">\n",
              "    <div>\n",
              "<style scoped>\n",
              "    .dataframe tbody tr th:only-of-type {\n",
              "        vertical-align: middle;\n",
              "    }\n",
              "\n",
              "    .dataframe tbody tr th {\n",
              "        vertical-align: top;\n",
              "    }\n",
              "\n",
              "    .dataframe thead th {\n",
              "        text-align: right;\n",
              "    }\n",
              "</style>\n",
              "<table border=\"1\" class=\"dataframe\">\n",
              "  <thead>\n",
              "    <tr style=\"text-align: right;\">\n",
              "      <th></th>\n",
              "      <th>0</th>\n",
              "      <th>1</th>\n",
              "      <th>2</th>\n",
              "      <th>3</th>\n",
              "      <th>4</th>\n",
              "    </tr>\n",
              "  </thead>\n",
              "  <tbody>\n",
              "    <tr>\n",
              "      <th>Special Token</th>\n",
              "      <td>&lt;pad&gt;</td>\n",
              "      <td>&lt;unk&gt;</td>\n",
              "      <td>[CLS]</td>\n",
              "      <td>[SEP]</td>\n",
              "      <td>[MASK]</td>\n",
              "    </tr>\n",
              "    <tr>\n",
              "      <th>Special Token ID</th>\n",
              "      <td>0</td>\n",
              "      <td>1</td>\n",
              "      <td>2</td>\n",
              "      <td>3</td>\n",
              "      <td>4</td>\n",
              "    </tr>\n",
              "  </tbody>\n",
              "</table>\n",
              "</div>\n",
              "    <div class=\"colab-df-buttons\">\n",
              "\n",
              "  <div class=\"colab-df-container\">\n",
              "    <button class=\"colab-df-convert\" onclick=\"convertToInteractive('df-73d3b357-114a-422a-a71a-93c98b35685f')\"\n",
              "            title=\"Convert this dataframe to an interactive table.\"\n",
              "            style=\"display:none;\">\n",
              "\n",
              "  <svg xmlns=\"http://www.w3.org/2000/svg\" height=\"24px\" viewBox=\"0 -960 960 960\">\n",
              "    <path d=\"M120-120v-720h720v720H120Zm60-500h600v-160H180v160Zm220 220h160v-160H400v160Zm0 220h160v-160H400v160ZM180-400h160v-160H180v160Zm440 0h160v-160H620v160ZM180-180h160v-160H180v160Zm440 0h160v-160H620v160Z\"/>\n",
              "  </svg>\n",
              "    </button>\n",
              "\n",
              "  <style>\n",
              "    .colab-df-container {\n",
              "      display:flex;\n",
              "      gap: 12px;\n",
              "    }\n",
              "\n",
              "    .colab-df-convert {\n",
              "      background-color: #E8F0FE;\n",
              "      border: none;\n",
              "      border-radius: 50%;\n",
              "      cursor: pointer;\n",
              "      display: none;\n",
              "      fill: #1967D2;\n",
              "      height: 32px;\n",
              "      padding: 0 0 0 0;\n",
              "      width: 32px;\n",
              "    }\n",
              "\n",
              "    .colab-df-convert:hover {\n",
              "      background-color: #E2EBFA;\n",
              "      box-shadow: 0px 1px 2px rgba(60, 64, 67, 0.3), 0px 1px 3px 1px rgba(60, 64, 67, 0.15);\n",
              "      fill: #174EA6;\n",
              "    }\n",
              "\n",
              "    .colab-df-buttons div {\n",
              "      margin-bottom: 4px;\n",
              "    }\n",
              "\n",
              "    [theme=dark] .colab-df-convert {\n",
              "      background-color: #3B4455;\n",
              "      fill: #D2E3FC;\n",
              "    }\n",
              "\n",
              "    [theme=dark] .colab-df-convert:hover {\n",
              "      background-color: #434B5C;\n",
              "      box-shadow: 0px 1px 3px 1px rgba(0, 0, 0, 0.15);\n",
              "      filter: drop-shadow(0px 1px 2px rgba(0, 0, 0, 0.3));\n",
              "      fill: #FFFFFF;\n",
              "    }\n",
              "  </style>\n",
              "\n",
              "    <script>\n",
              "      const buttonEl =\n",
              "        document.querySelector('#df-73d3b357-114a-422a-a71a-93c98b35685f button.colab-df-convert');\n",
              "      buttonEl.style.display =\n",
              "        google.colab.kernel.accessAllowed ? 'block' : 'none';\n",
              "\n",
              "      async function convertToInteractive(key) {\n",
              "        const element = document.querySelector('#df-73d3b357-114a-422a-a71a-93c98b35685f');\n",
              "        const dataTable =\n",
              "          await google.colab.kernel.invokeFunction('convertToInteractive',\n",
              "                                                    [key], {});\n",
              "        if (!dataTable) return;\n",
              "\n",
              "        const docLinkHtml = 'Like what you see? Visit the ' +\n",
              "          '<a target=\"_blank\" href=https://colab.research.google.com/notebooks/data_table.ipynb>data table notebook</a>'\n",
              "          + ' to learn more about interactive tables.';\n",
              "        element.innerHTML = '';\n",
              "        dataTable['output_type'] = 'display_data';\n",
              "        await google.colab.output.renderOutput(dataTable, element);\n",
              "        const docLink = document.createElement('div');\n",
              "        docLink.innerHTML = docLinkHtml;\n",
              "        element.appendChild(docLink);\n",
              "      }\n",
              "    </script>\n",
              "  </div>\n",
              "\n",
              "\n",
              "<div id=\"df-d4d2b20d-957c-47c0-86e3-f2fa349d976e\">\n",
              "  <button class=\"colab-df-quickchart\" onclick=\"quickchart('df-d4d2b20d-957c-47c0-86e3-f2fa349d976e')\"\n",
              "            title=\"Suggest charts\"\n",
              "            style=\"display:none;\">\n",
              "\n",
              "<svg xmlns=\"http://www.w3.org/2000/svg\" height=\"24px\"viewBox=\"0 0 24 24\"\n",
              "     width=\"24px\">\n",
              "    <g>\n",
              "        <path d=\"M19 3H5c-1.1 0-2 .9-2 2v14c0 1.1.9 2 2 2h14c1.1 0 2-.9 2-2V5c0-1.1-.9-2-2-2zM9 17H7v-7h2v7zm4 0h-2V7h2v10zm4 0h-2v-4h2v4z\"/>\n",
              "    </g>\n",
              "</svg>\n",
              "  </button>\n",
              "\n",
              "<style>\n",
              "  .colab-df-quickchart {\n",
              "      --bg-color: #E8F0FE;\n",
              "      --fill-color: #1967D2;\n",
              "      --hover-bg-color: #E2EBFA;\n",
              "      --hover-fill-color: #174EA6;\n",
              "      --disabled-fill-color: #AAA;\n",
              "      --disabled-bg-color: #DDD;\n",
              "  }\n",
              "\n",
              "  [theme=dark] .colab-df-quickchart {\n",
              "      --bg-color: #3B4455;\n",
              "      --fill-color: #D2E3FC;\n",
              "      --hover-bg-color: #434B5C;\n",
              "      --hover-fill-color: #FFFFFF;\n",
              "      --disabled-bg-color: #3B4455;\n",
              "      --disabled-fill-color: #666;\n",
              "  }\n",
              "\n",
              "  .colab-df-quickchart {\n",
              "    background-color: var(--bg-color);\n",
              "    border: none;\n",
              "    border-radius: 50%;\n",
              "    cursor: pointer;\n",
              "    display: none;\n",
              "    fill: var(--fill-color);\n",
              "    height: 32px;\n",
              "    padding: 0;\n",
              "    width: 32px;\n",
              "  }\n",
              "\n",
              "  .colab-df-quickchart:hover {\n",
              "    background-color: var(--hover-bg-color);\n",
              "    box-shadow: 0 1px 2px rgba(60, 64, 67, 0.3), 0 1px 3px 1px rgba(60, 64, 67, 0.15);\n",
              "    fill: var(--button-hover-fill-color);\n",
              "  }\n",
              "\n",
              "  .colab-df-quickchart-complete:disabled,\n",
              "  .colab-df-quickchart-complete:disabled:hover {\n",
              "    background-color: var(--disabled-bg-color);\n",
              "    fill: var(--disabled-fill-color);\n",
              "    box-shadow: none;\n",
              "  }\n",
              "\n",
              "  .colab-df-spinner {\n",
              "    border: 2px solid var(--fill-color);\n",
              "    border-color: transparent;\n",
              "    border-bottom-color: var(--fill-color);\n",
              "    animation:\n",
              "      spin 1s steps(1) infinite;\n",
              "  }\n",
              "\n",
              "  @keyframes spin {\n",
              "    0% {\n",
              "      border-color: transparent;\n",
              "      border-bottom-color: var(--fill-color);\n",
              "      border-left-color: var(--fill-color);\n",
              "    }\n",
              "    20% {\n",
              "      border-color: transparent;\n",
              "      border-left-color: var(--fill-color);\n",
              "      border-top-color: var(--fill-color);\n",
              "    }\n",
              "    30% {\n",
              "      border-color: transparent;\n",
              "      border-left-color: var(--fill-color);\n",
              "      border-top-color: var(--fill-color);\n",
              "      border-right-color: var(--fill-color);\n",
              "    }\n",
              "    40% {\n",
              "      border-color: transparent;\n",
              "      border-right-color: var(--fill-color);\n",
              "      border-top-color: var(--fill-color);\n",
              "    }\n",
              "    60% {\n",
              "      border-color: transparent;\n",
              "      border-right-color: var(--fill-color);\n",
              "    }\n",
              "    80% {\n",
              "      border-color: transparent;\n",
              "      border-right-color: var(--fill-color);\n",
              "      border-bottom-color: var(--fill-color);\n",
              "    }\n",
              "    90% {\n",
              "      border-color: transparent;\n",
              "      border-bottom-color: var(--fill-color);\n",
              "    }\n",
              "  }\n",
              "</style>\n",
              "\n",
              "  <script>\n",
              "    async function quickchart(key) {\n",
              "      const quickchartButtonEl =\n",
              "        document.querySelector('#' + key + ' button');\n",
              "      quickchartButtonEl.disabled = true;  // To prevent multiple clicks.\n",
              "      quickchartButtonEl.classList.add('colab-df-spinner');\n",
              "      try {\n",
              "        const charts = await google.colab.kernel.invokeFunction(\n",
              "            'suggestCharts', [key], {});\n",
              "      } catch (error) {\n",
              "        console.error('Error during call to suggestCharts:', error);\n",
              "      }\n",
              "      quickchartButtonEl.classList.remove('colab-df-spinner');\n",
              "      quickchartButtonEl.classList.add('colab-df-quickchart-complete');\n",
              "    }\n",
              "    (() => {\n",
              "      let quickchartButtonEl =\n",
              "        document.querySelector('#df-d4d2b20d-957c-47c0-86e3-f2fa349d976e button');\n",
              "      quickchartButtonEl.style.display =\n",
              "        google.colab.kernel.accessAllowed ? 'block' : 'none';\n",
              "    })();\n",
              "  </script>\n",
              "</div>\n",
              "\n",
              "    </div>\n",
              "  </div>\n"
            ],
            "application/vnd.google.colaboratory.intrinsic+json": {
              "type": "dataframe",
              "summary": "{\n  \"name\": \"df\",\n  \"rows\": 2,\n  \"fields\": [\n    {\n      \"column\": 0,\n      \"properties\": {\n        \"dtype\": \"string\",\n        \"num_unique_values\": 2,\n        \"samples\": [\n          0,\n          \"<pad>\"\n        ],\n        \"semantic_type\": \"\",\n        \"description\": \"\"\n      }\n    },\n    {\n      \"column\": 1,\n      \"properties\": {\n        \"dtype\": \"string\",\n        \"num_unique_values\": 2,\n        \"samples\": [\n          1,\n          \"<unk>\"\n        ],\n        \"semantic_type\": \"\",\n        \"description\": \"\"\n      }\n    },\n    {\n      \"column\": 2,\n      \"properties\": {\n        \"dtype\": \"string\",\n        \"num_unique_values\": 2,\n        \"samples\": [\n          2,\n          \"[CLS]\"\n        ],\n        \"semantic_type\": \"\",\n        \"description\": \"\"\n      }\n    },\n    {\n      \"column\": 3,\n      \"properties\": {\n        \"dtype\": \"string\",\n        \"num_unique_values\": 2,\n        \"samples\": [\n          3,\n          \"[SEP]\"\n        ],\n        \"semantic_type\": \"\",\n        \"description\": \"\"\n      }\n    },\n    {\n      \"column\": 4,\n      \"properties\": {\n        \"dtype\": \"string\",\n        \"num_unique_values\": 2,\n        \"samples\": [\n          4,\n          \"[MASK]\"\n        ],\n        \"semantic_type\": \"\",\n        \"description\": \"\"\n      }\n    }\n  ]\n}"
            }
          },
          "metadata": {},
          "execution_count": 85
        }
      ],
      "source": [
        "#hide_input\n",
        "tokens2ids = list(zip(tokenizer.all_special_tokens, tokenizer.all_special_ids))\n",
        "data = sorted(tokens2ids, key=lambda x : x[-1])\n",
        "df = pd.DataFrame(data, columns=[\"Special Token\", \"Special Token ID\"])\n",
        "df.T"
      ]
    },
    {
      "cell_type": "markdown",
      "metadata": {
        "id": "cZFUVRffYHZj"
      },
      "source": [
        "Also note that in addition to returning the encoded tweets as `input_ids`, the tokenizer returns a list of `attention_mask` arrays. This is because we do not want the model to get confused by the additional padding tokens: the attention mask allows the model to ignore the padded parts of the input. <<attention-mask>> provides a visual explanation of how the input IDs and attention masks are padded.\n",
        "\n",
        "<img alt=\"attention-mask\" caption=\"For each batch, the input sequences are padded to the maximum sequence length in the batch; the attention mask is used in the model to ignore the padded areas of the input tensors\" src=\"https://github.com/nlp-with-transformers/notebooks/blob/main/images/chapter02_attention-mask.png?raw=1\" id=\"attention-mask\"/>"
      ]
    },
    {
      "cell_type": "markdown",
      "metadata": {
        "id": "l5TJDYrVYHZj"
      },
      "source": [
        "Once we've defined a processing function, we can apply it across all the splits in the corpus in a single line of code:"
      ]
    },
    {
      "cell_type": "code",
      "execution_count": 86,
      "metadata": {
        "id": "p2C8EjOiYHZj",
        "colab": {
          "base_uri": "https://localhost:8080/",
          "height": 113,
          "referenced_widgets": [
            "8a7921d7fa4e4b5f80384630d0b912c6",
            "efd9f66fbd0b4c0ca65cc744857e2ffe",
            "cf137d77371b4da49e337234025f2c0d",
            "ea7b9712bedb4515adea50f61effadf2",
            "c669ec72fb0944fbace559c78e6bdea3",
            "0fbb2e7a7c594d84932b95286e9374fe",
            "e419c90b209a4d71b069f2b646812f4a",
            "ac32197673cb409890e47a7a7f1dc207",
            "535faffb10d647bd93612942dba456e1",
            "bf88ce43f228496c9993b798ca236218",
            "28f41addc377454c8f568c9ca290cb59",
            "85c658af8a344e4fafc833cba356b917",
            "758f81693c9648d08d9ecdefa976473f",
            "74a86ca1260048708a7c23da9d2839a7",
            "49deb221941a425f899515eab2d54b1d",
            "1344f969bc5f474f9aab0f734729350b",
            "d10d934f6af84943908abc3b19d2118c",
            "f206b8e960064537bb9a15875fe102ab",
            "aa8992cfd15449678516b944e631ea30",
            "e7f2476d9fec4bfe9877d4f6601a27e2",
            "2b363503f5a2496b8f884d27da899f63",
            "d04470ce70cf4c17addfa2ff2adad856",
            "4dbfcde9b02c4a81a887094fb8775014",
            "d85ec78f635f4b3e991a5f54f94e0eb7",
            "2dfc4067af764071a13f8ad47bd35d26",
            "78fc04c65553474f88d3e97ae8f41aa8",
            "9d60bf526d2d45779612aa3e481abc75",
            "a0491d7eeed743f684492759d8addaec",
            "04fc9a4b76444b20ae2876bb9bd8a45a",
            "f6d9740fbaba4425b4b69c6544a30a10",
            "c9e91b83568e4af1b301617907649c19",
            "83322a37356d4abf9257b55ba5e2fd94",
            "36ebff2d5d3440baab5134d95a9219d2"
          ]
        },
        "outputId": "f38296ce-e744-4244-ab04-71082843b5a6"
      },
      "outputs": [
        {
          "output_type": "display_data",
          "data": {
            "text/plain": [
              "Map:   0%|          | 0/16000 [00:00<?, ? examples/s]"
            ],
            "application/vnd.jupyter.widget-view+json": {
              "version_major": 2,
              "version_minor": 0,
              "model_id": "8a7921d7fa4e4b5f80384630d0b912c6"
            }
          },
          "metadata": {}
        },
        {
          "output_type": "display_data",
          "data": {
            "text/plain": [
              "Map:   0%|          | 0/2000 [00:00<?, ? examples/s]"
            ],
            "application/vnd.jupyter.widget-view+json": {
              "version_major": 2,
              "version_minor": 0,
              "model_id": "85c658af8a344e4fafc833cba356b917"
            }
          },
          "metadata": {}
        },
        {
          "output_type": "display_data",
          "data": {
            "text/plain": [
              "Map:   0%|          | 0/2000 [00:00<?, ? examples/s]"
            ],
            "application/vnd.jupyter.widget-view+json": {
              "version_major": 2,
              "version_minor": 0,
              "model_id": "4dbfcde9b02c4a81a887094fb8775014"
            }
          },
          "metadata": {}
        }
      ],
      "source": [
        "# hide_output\n",
        "emotions_encoded = emotions.map(tokenize, batched=True, batch_size=None)"
      ]
    },
    {
      "cell_type": "markdown",
      "metadata": {
        "id": "DxR77dMXYHZj"
      },
      "source": [
        "By default, the `map()` method operates individually on every example in the corpus, so setting `batched=True` will encode the tweets in batches. Because we've set `batch_size=None`, our `tokenize()` function will be applied on the full dataset as a single batch. This ensures that the input tensors and attention masks have the same shape globally, and we can see that this operation has added new `input_ids` and `attention_mask` columns to the dataset:"
      ]
    },
    {
      "cell_type": "code",
      "execution_count": 87,
      "metadata": {
        "id": "v4bl2_kVYHZj",
        "outputId": "af02a1c6-21e1-4e36-a2d9-3d71fc64ea70",
        "colab": {
          "base_uri": "https://localhost:8080/"
        }
      },
      "outputs": [
        {
          "output_type": "stream",
          "name": "stdout",
          "text": [
            "['text', 'label', 'input_ids', 'token_type_ids', 'attention_mask']\n"
          ]
        }
      ],
      "source": [
        "print(emotions_encoded[\"train\"].column_names)"
      ]
    },
    {
      "cell_type": "markdown",
      "metadata": {
        "id": "h9D-surbYHZj"
      },
      "source": [
        "> Note: In later chapters, we'll see how _data collators_ can be used to dynamically pad the tensors in each batch. Padding globally will come in handy in the next section, where we extract a feature matrix from the whole corpus."
      ]
    },
    {
      "cell_type": "markdown",
      "metadata": {
        "id": "twowzyHXYHZk"
      },
      "source": [
        "## Training a Text Classifier"
      ]
    },
    {
      "cell_type": "markdown",
      "metadata": {
        "id": "Y2t6_T6vYHZk"
      },
      "source": [
        "As discussed in <<chapter_introduction>>, models like DistilBERT are pretrained to predict masked words in a sequence of text. However, we can't use these language models directly for text classification; we need to modify them slightly. To understand what modifications are necessary, let's take a look at the architecture of an encoder-based model like DistilBERT, which is depicted in <<encoder-classifier>>."
      ]
    },
    {
      "cell_type": "markdown",
      "metadata": {
        "id": "cTC0nmqqYHZk"
      },
      "source": [
        "<img alt=\"encoder-classifier\" caption=\"The architecture used for sequence classification with an encoder-based transformer; it consists of the model's pretrained body (blue) combined with a custom classification head (orange)\" src=\"https://github.com/nlp-with-transformers/notebooks/blob/main/images/chapter02_encoder-classifier.png?raw=1\" id=\"encoder-classifier\"/>"
      ]
    },
    {
      "cell_type": "markdown",
      "metadata": {
        "id": "w9l0j168YHZk"
      },
      "source": [
        "First, the text is tokenized and represented as one-hot vectors called _token encodings_. The size of the tokenizer vocabulary determines the dimension of the token encodings, and it usually consists of 20k–200k unique tokens. Next, these token encodings are converted to _token embeddings_, which are vectors living in a lower-dimensional space. The token embeddings are then passed through the encoder block layers to yield a _hidden state_ for each input token. For the pretraining objective of language modeling,&#x2060;footnote:[In the case of DistilBERT, it's guessing the masked tokens.] each hidden state is fed to a layer that predicts the masked input tokens. For the classification task, we replace the language modeling layer with a classification layer."
      ]
    },
    {
      "cell_type": "markdown",
      "metadata": {
        "id": "SgweRPnSYHZk"
      },
      "source": [
        "> note: In practice, PyTorch skips the step of creating one-hot vectors for token encodings because multiplying a matrix with a one-hot vector is the same as selecting a column from the matrix. This can be done directly by getting the column with the token ID from the matrix. We'll see this in <<chapter_anatomy>> when we use the `nn.Embedding` class."
      ]
    },
    {
      "cell_type": "markdown",
      "metadata": {
        "id": "vq8v9hXgYHZk"
      },
      "source": [
        "We have two options to train such a model on our Twitter dataset:\n",
        "\n",
        "- _Feature extraction_:: We use the hidden states as features and just train a classifier on them, without modifying the pretrained model.\n",
        "- _Fine-tuning_:: We train the whole model end-to-end, which also updates the parameters of the pretrained model.\n",
        "\n",
        "In the following sections we explore both options for DistilBERT and examine their trade-offs."
      ]
    },
    {
      "cell_type": "markdown",
      "metadata": {
        "id": "x1Us9Co3YHZk"
      },
      "source": [
        "### Transformers as Feature Extractors"
      ]
    },
    {
      "cell_type": "markdown",
      "metadata": {
        "id": "Mn7Zc8JbYHZk"
      },
      "source": [
        "\n",
        "Using a transformer as a feature extractor is fairly simple. As shown in <<encoder-features>>, we freeze the body's weights during training and use the hidden states as features for the classifier. The advantage of this approach is that we can quickly train a small or shallow model. Such a model could be a neural classification layer or a method that does not rely on gradients, such as a random forest. This method is especially convenient if GPUs are unavailable, since the hidden states only need to be precomputed once."
      ]
    },
    {
      "cell_type": "markdown",
      "metadata": {
        "id": "KiWbScK9YHZk"
      },
      "source": [
        "<img alt=\"encoder-features\" caption=\"In the feature-based approach, the DistilBERT model is frozen and just provides features for a classifier\" src=\"https://github.com/nlp-with-transformers/notebooks/blob/main/images/chapter02_encoder-feature-based.png?raw=1\" id=\"encoder-features\"/>"
      ]
    },
    {
      "cell_type": "markdown",
      "metadata": {
        "id": "sNX2G9a4YHZl"
      },
      "source": [
        "#### Using pretrained models"
      ]
    },
    {
      "cell_type": "markdown",
      "metadata": {
        "id": "pl1CppEaYHZl"
      },
      "source": [
        "\n",
        "We will use another convenient auto class from image:images/logo.png[hf,13,13] Transformers called `AutoModel`. Similar to the `AutoTokenizer` class, `AutoModel` has a `from_pretrained()` method to load the weights of a pretrained model. Let's use this method to load the DistilBERT checkpoint:"
      ]
    },
    {
      "cell_type": "code",
      "execution_count": 88,
      "metadata": {
        "id": "QlvjQYx0YHZl"
      },
      "outputs": [],
      "source": [
        "# hide_output\n",
        "from transformers import AutoModel\n",
        "\n",
        "model_ckpt = \"albert/albert-base-v2\"\n",
        "device = torch.device(\"cuda\" if torch.cuda.is_available() else \"cpu\")\n",
        "model = AutoModel.from_pretrained(model_ckpt).to(device)"
      ]
    },
    {
      "cell_type": "markdown",
      "metadata": {
        "id": "4cGdsDAGYHZl"
      },
      "source": [
        "Here we've used PyTorch to check whether a GPU is available or not, and then chained the PyTorch `nn.Module.to()` method to the model loader. This ensures that the model will run on the GPU if we have one. If not, the model will run on the CPU, which can be considerably slower."
      ]
    },
    {
      "cell_type": "markdown",
      "metadata": {
        "id": "Qsj8YjFpYHZl"
      },
      "source": [
        "The `AutoModel` class converts the token encodings to embeddings, and then feeds them through the encoder stack to return the hidden states. Let's take a look at how we can extract these states from our corpus."
      ]
    },
    {
      "cell_type": "markdown",
      "metadata": {
        "id": "J52ZF5wmYHZm"
      },
      "source": [
        "#### Extracting the last hidden states"
      ]
    },
    {
      "cell_type": "markdown",
      "metadata": {
        "id": "z3Oyg-UEYHZm"
      },
      "source": [
        "To warm up, let's retrieve the last hidden states for a single string. The first thing we need to do is encode the string and convert the tokens to PyTorch tensors. This can be done by providing the `return_tensors=\"pt\"` argument to the tokenizer as follows:"
      ]
    },
    {
      "cell_type": "code",
      "execution_count": 89,
      "metadata": {
        "id": "zS1-aBssYHZm",
        "outputId": "23367c8e-a0c8-486e-d2e6-78aaf5e21c43",
        "colab": {
          "base_uri": "https://localhost:8080/"
        }
      },
      "outputs": [
        {
          "output_type": "stream",
          "name": "stdout",
          "text": [
            "Input tensor shape: torch.Size([1, 6])\n"
          ]
        }
      ],
      "source": [
        "text = \"this is a test\"\n",
        "inputs = tokenizer(text, return_tensors=\"pt\")\n",
        "print(f\"Input tensor shape: {inputs['input_ids'].size()}\")"
      ]
    },
    {
      "cell_type": "markdown",
      "metadata": {
        "id": "GvsD_17uYHZm"
      },
      "source": [
        "As we can see, the resulting tensor has the shape `[batch_size, n_tokens]`. Now that we have the encodings as a tensor, the final step is to place them on the same device as the model and pass the inputs as follows:"
      ]
    },
    {
      "cell_type": "code",
      "execution_count": 90,
      "metadata": {
        "id": "qEhCVfn5YHZm",
        "outputId": "59fb2ed0-ebc7-4e63-e7ef-159c0ec1b079",
        "colab": {
          "base_uri": "https://localhost:8080/"
        }
      },
      "outputs": [
        {
          "output_type": "stream",
          "name": "stdout",
          "text": [
            "BaseModelOutputWithPooling(last_hidden_state=tensor([[[ 0.8229,  0.2431,\n",
            "0.2670,  ..., -0.3422,  0.0717,  0.4394],\n",
            "         [ 1.6128, -1.0462,  0.5476,  ..., -0.1653,  2.4998, -1.4863],\n",
            "         [ 1.3227, -0.7231, -0.3300,  ...,  0.7032,  0.4755, -0.8210],\n",
            "         [ 1.1054,  0.1797,  1.8414,  ...,  0.9789,  0.9868, -1.4458],\n",
            "         [ 0.6202, -0.7756, -0.0528,  ...,  0.1829,  0.7949, -1.0755],\n",
            "         [ 0.0691,  0.1323, -0.0596,  ..., -0.0783,  0.1316,  0.2089]]],\n",
            "       device='cuda:0'), pooler_output=tensor([[ 0.6102, -0.6978,  0.8536,\n",
            "-0.9172,  0.4416, -0.6687,  0.6959, -0.6900,\n",
            "          0.7335, -0.9994,  0.9129,  0.6840, -0.1115, -0.9895, -0.7407, -0.7211,\n",
            "          0.6856,  0.6300,  0.9891, -0.6425, -0.3053, -0.9942,  0.9963,  0.9602,\n",
            "          0.8404, -0.7320,  0.7456, -0.9422, -0.9992, -0.7190, -1.0000,  0.7239,\n",
            "          0.6806,  0.7248,  0.7154, -0.6153,  0.7412,  0.9000, -0.7260,  0.7105,\n",
            "          0.6424, -0.9531, -0.8091,  0.6689,  0.6968,  0.6942,  0.9492, -0.9654,\n",
            "          0.6742, -0.6614, -0.6813, -0.6544, -0.6685, -0.9554, -0.2189,  0.7375,\n",
            "         -0.7248, -0.6877,  0.9983, -0.2782,  0.6669, -0.7710,  0.7518,  0.8836,\n",
            "         -0.6599,  0.6405,  0.6968,  0.9900, -0.6476,  0.9772,  0.6682,  0.7583,\n",
            "         -0.5159, -0.7126,  0.9929,  0.7045,  0.8489,  0.6527,  0.8397, -0.9766,\n",
            "          0.6234,  0.7720, -0.7201,  0.7151, -0.8168, -0.9928,  0.5617, -0.9999,\n",
            "          0.7153,  0.9293,  0.6705,  0.7562, -0.6877, -1.0000,  0.6820, -0.7131,\n",
            "         -0.9995,  0.7175,  0.6809, -0.6856,  0.8925, -0.7020,  0.7520, -0.7654,\n",
            "         -0.6146, -0.6936,  0.6485,  0.8535,  0.6781,  0.9959, -0.7527, -0.7028,\n",
            "          0.6476,  0.9906, -0.6937,  0.4011, -0.7239,  0.9648, -0.9875,  0.7494,\n",
            "          0.6156,  0.1631,  0.6060, -0.3743,  0.6794, -0.5163,  0.6336, -0.9386,\n",
            "          0.9802, -0.8037,  0.6188,  0.6385, -0.9988,  0.3228,  0.7249,  0.9980,\n",
            "         -0.6262, -0.7278, -0.6874,  0.7252,  0.9069, -0.6596,  0.6830, -0.7471,\n",
            "         -0.6801,  0.6197,  0.6133, -0.5733,  0.6140,  0.9599, -0.8317,  0.8169,\n",
            "         -0.1420, -0.8354, -0.9975,  0.1436,  0.9917, -0.9704,  0.9211, -0.6812,\n",
            "         -0.6334, -0.9715, -0.9913, -0.7173, -0.9856, -0.6923,  0.9999, -0.1980,\n",
            "          0.9923, -0.9797, -0.6185,  0.6596, -0.6935,  0.9323,  0.6804,  0.6352,\n",
            "          0.6719,  0.5622, -0.6539, -0.6138,  0.9870, -0.9969,  0.6123,  0.6662,\n",
            "          0.9958,  0.6950,  0.7101, -0.8451,  0.6287, -0.3414, -0.6463, -0.8423,\n",
            "          0.7602,  0.3034,  1.0000, -0.7309,  0.9926, -0.9218,  0.9880, -0.9994,\n",
            "         -0.7054,  0.8899,  0.9025,  0.6916,  0.7009,  0.7669, -0.9255, -0.9557,\n",
            "         -0.9987, -0.6842, -0.9930,  0.9861, -0.9934,  0.6483, -0.9800,  0.9937,\n",
            "          0.9898, -0.6962,  0.9995, -0.6900,  0.7631,  0.6792, -0.9999,  0.9763,\n",
            "          0.6155,  0.6575,  0.2291, -0.6372,  0.9487, -0.9536, -0.8020, -0.6863,\n",
            "          0.6906, -0.9996, -0.6309, -0.7211,  0.7631,  0.6883,  0.7385, -0.9997,\n",
            "          1.0000,  0.7053, -0.6055, -0.6877, -0.3409,  0.9999, -0.3720, -0.1897,\n",
            "         -0.6539,  0.9996,  0.9246,  0.6468,  0.7373, -0.6518,  0.8955, -0.6723,\n",
            "         -0.9967, -0.8189, -0.9976,  0.6981, -0.9950,  0.8591, -0.6496, -0.9988,\n",
            "         -0.7146,  0.9726,  0.9978,  0.9954,  0.7208, -0.7622,  0.6532, -0.6813,\n",
            "          0.8829, -0.5469,  0.9740, -0.9926, -0.9731,  0.7451,  0.7256,  0.6156,\n",
            "         -0.7528,  0.0671,  0.7118, -0.6947,  0.9976, -0.8988,  1.0000, -0.8302,\n",
            "         -0.9995,  0.6700, -0.7116, -0.6179,  0.9847, -0.6757, -0.9980, -0.9999,\n",
            "          0.3307,  0.8100,  0.9576, -0.9951,  0.7234, -0.7270, -0.6664,  0.9907,\n",
            "          0.6462, -0.7297, -0.6218,  0.6848,  0.6501,  0.1010, -0.9671, -0.6863,\n",
            "          0.3218, -0.9943, -0.7488, -0.9055, -0.6957, -0.9079,  0.9904,  0.9949,\n",
            "         -0.6615, -0.8127,  0.9992, -0.9947,  0.7365, -0.9999,  0.7663, -0.9974,\n",
            "         -0.9993, -0.5865, -0.7738, -0.6722, -0.6826, -0.9422,  0.6866, -0.9947,\n",
            "          0.7116, -0.7446,  0.9727,  0.9899, -0.9984, -0.6441, -0.9232,  0.6396,\n",
            "          0.7214,  0.7013,  0.6083, -0.8948,  0.7442, -0.9913,  0.6594,  0.7535,\n",
            "         -0.7457,  0.8502, -0.6615,  0.7053, -0.9824, -0.5050, -0.6964,  0.9216,\n",
            "          0.9981, -0.6785, -0.6308,  0.7040, -0.6594,  0.9834, -0.9141,  0.9773,\n",
            "         -0.9972, -0.7264, -0.9967,  1.0000,  0.9107, -0.0764, -0.6788, -0.9198,\n",
            "         -0.9902,  0.6619, -0.7128, -0.6549, -0.6899,  0.9605,  0.6642,  0.9602,\n",
            "         -0.5539,  0.4035,  0.6318,  0.8599, -0.9857,  0.9431, -0.7733, -0.6540,\n",
            "          0.7405,  0.9999, -0.7436,  0.7021, -0.9414, -0.9588, -0.7017,  0.6929,\n",
            "          0.9911, -0.6318, -0.8736,  0.9752,  0.9951, -0.9983,  0.7075,  0.9951,\n",
            "          0.9625,  0.7125,  0.6814,  0.8271,  0.8679,  0.6512,  0.9508, -0.7010,\n",
            "          0.9981, -0.9724, -0.9980,  0.9846, -0.6534,  0.9879, -0.8350,  0.6354,\n",
            "          0.0757,  0.6980, -0.7241, -0.7245,  0.6376,  0.3838,  0.7217,  0.9976,\n",
            "          0.6560, -0.9983, -0.9998,  0.5815,  0.7261,  0.7708, -0.6567,  0.5928,\n",
            "         -0.6798, -0.8157, -0.7468, -0.7089,  0.6699, -0.9998,  0.9998, -0.9665,\n",
            "          0.9876, -0.6536,  0.8789,  0.5564,  0.9505, -0.7305, -1.0000, -0.7592,\n",
            "         -0.9995,  0.6926, -0.6079, -0.9580, -0.6790,  0.9297, -0.6506,  0.9850,\n",
            "          0.8090, -0.7048, -0.9749,  1.0000, -0.8780, -0.9987,  0.6673,  0.7126,\n",
            "          0.2657,  0.7127,  0.6938,  0.6656, -0.5835, -0.6779,  0.9463, -0.9987,\n",
            "          0.8673, -0.9367,  0.9814, -0.7197, -0.7533,  0.8709,  0.9994,  0.9972,\n",
            "         -0.4234, -1.0000, -0.9849, -0.9955, -0.9882,  0.6671, -0.9617,  0.9421,\n",
            "         -0.6749, -0.6763,  0.9167,  0.9399, -0.6316, -0.6265, -0.9100, -0.8982,\n",
            "         -0.7075, -0.9640,  0.6991, -0.9998, -0.5011, -0.9462, -0.9930,  0.0144,\n",
            "         -0.9968,  0.6317, -0.9998,  0.1085, -0.7446,  0.3003, -0.6484,  0.6854,\n",
            "          0.6218, -0.6489,  0.6560,  0.9945, -0.7314,  0.9999,  0.9993,  0.8720,\n",
            "          0.6888, -0.9299, -0.6695,  0.9996, -0.2445, -0.9720,  0.9389, -0.8728,\n",
            "          0.7394, -0.7147,  0.9932, -0.9364, -0.6989, -0.9976, -0.6850, -0.9995,\n",
            "         -0.9987, -0.9997,  0.6754,  0.9704, -0.9637,  1.0000,  0.7472, -0.6754,\n",
            "          0.9992,  0.6423, -0.9294,  0.6315, -0.6938,  1.0000, -0.6740,  0.9150,\n",
            "         -0.6925, -0.9925,  0.9930,  0.9265, -0.6797, -0.6832, -0.9900, -0.7117,\n",
            "          0.8224, -0.6517,  0.7009,  0.9998, -0.8934,  0.6640, -0.7391,  0.6640,\n",
            "         -0.9906,  0.6662, -0.2698,  0.3732, -0.9796, -0.9830,  0.9998,  0.6916,\n",
            "          0.6753,  0.6875,  0.7919, -0.5644,  0.9998, -0.9998, -0.6979,  0.6355,\n",
            "         -0.9073,  0.7872, -0.6268, -0.7755,  0.6704,  0.9988, -0.6761,  0.9970,\n",
            "          0.7115,  0.7222,  0.6843,  0.6903,  0.6569,  0.9976,  0.6902, -0.9727,\n",
            "         -0.6233, -0.6806, -0.6068,  0.9984,  0.9989, -0.8752, -0.2732, -0.6538,\n",
            "         -0.9732,  0.9977,  0.9584,  0.9944,  0.9997,  0.7761, -0.6247, -0.9200,\n",
            "          0.9961,  0.9940, -0.7222,  0.5254,  0.7515, -0.7216,  0.9022,  0.9770,\n",
            "         -0.9684,  0.1668,  0.7277,  0.9997,  0.9932, -0.6865,  0.9596, -0.9998,\n",
            "         -0.7112,  0.9935, -0.9640,  0.6834,  0.9911, -0.9998, -0.6698, -0.6568,\n",
            "          0.8885,  0.9797,  0.6536,  0.6361, -0.6303, -0.7195,  0.9957,  0.6363,\n",
            "         -0.7262,  0.9972, -0.7621, -0.6706,  0.6967,  0.7273,  0.9993,  0.8682,\n",
            "         -0.9865, -0.7085,  0.7027, -0.6844,  0.9178, -0.9993, -0.6173,  0.5893,\n",
            "          0.4384,  0.6770,  0.8984,  0.7567, -0.7494, -0.9962,  0.6330,  0.9173,\n",
            "          0.6558,  0.9976,  0.6797, -0.3727,  0.5163,  0.8737,  0.3062,  0.6413,\n",
            "         -0.9506,  0.6074, -0.8744,  0.6722, -0.7116, -0.9831, -0.7640,  0.6691,\n",
            "          0.8296,  0.7211,  0.7177,  0.6268, -0.7254,  0.7246,  0.6729,  0.6500,\n",
            "         -0.6511, -0.7484, -0.7320, -0.9991,  0.6859,  0.6719,  0.0306,  0.7533,\n",
            "         -0.6690, -0.3983,  0.7315, -0.6739,  0.7619, -0.5988, -0.9999, -0.7149,\n",
            "         -0.7768, -0.7036,  0.6860, -0.7463,  0.7583, -0.7862, -1.0000, -0.2689,\n",
            "          0.6383, -0.9252,  0.6697, -0.5227,  0.6106,  0.9999,  1.0000, -0.9539,\n",
            "          0.6863, -0.9989, -0.6789, -0.7063, -1.0000,  0.6628,  0.9998,  0.0348,\n",
            "          0.6594, -0.9734, -0.4018,  0.9984, -0.9410, -0.7445,  0.7584, -0.6656,\n",
            "         -0.9984,  0.5690,  0.7171,  0.6940,  0.7135, -0.9849, -0.7331,  0.6663,\n",
            "         -0.9587,  0.6075,  0.9994, -0.6605,  0.6642, -0.3802, -0.9951,\n",
            "0.7070]],\n",
            "       device='cuda:0'), hidden_states=None, attentions=None)\n"
          ]
        }
      ],
      "source": [
        "inputs = {k:v.to(device) for k,v in inputs.items()}\n",
        "with torch.no_grad():\n",
        "    outputs = model(**inputs)\n",
        "print(outputs)"
      ]
    },
    {
      "cell_type": "markdown",
      "metadata": {
        "id": "kn6hq8P-YHZm"
      },
      "source": [
        "Here we've used the `torch.no_grad()` context manager to disable the automatic calculation of the gradient. This is useful for inference since it reduces the memory footprint of the computations. Depending on the model configuration, the output can contain several objects, such as the hidden states, losses, or attentions, arranged in a class similar to a `namedtuple` in Python. In our example, the model output is an instance of `BaseModelOutput`, and we can simply access its attributes by name. The current model returns only one attribute, which is the last hidden state, so let's examine its shape:"
      ]
    },
    {
      "cell_type": "code",
      "execution_count": 91,
      "metadata": {
        "id": "SPZzRlEmYHZm",
        "outputId": "ded04691-e03f-4c10-e1af-6739732bf2b7",
        "colab": {
          "base_uri": "https://localhost:8080/"
        }
      },
      "outputs": [
        {
          "output_type": "execute_result",
          "data": {
            "text/plain": [
              "torch.Size([1, 6, 768])"
            ]
          },
          "metadata": {},
          "execution_count": 91
        }
      ],
      "source": [
        "outputs.last_hidden_state.size()"
      ]
    },
    {
      "cell_type": "markdown",
      "metadata": {
        "id": "D8ixQ-OIYHZn"
      },
      "source": [
        "Looking at the hidden state tensor, we see that it has the shape `[batch_size, n_tokens, hidden_dim]`. In other words, a 768-dimensional vector is returned for each of the 6 input tokens. For classification tasks, it is common practice to just use the hidden state associated with the `[CLS]` token as the input feature. Since this token appears at the start of each sequence, we can extract it by simply indexing into `outputs.last_hidden_state` as follows:"
      ]
    },
    {
      "cell_type": "code",
      "execution_count": 92,
      "metadata": {
        "id": "jaF5mLDpYHZn",
        "outputId": "d8ab759e-5cef-4dce-dd29-1349207ff50a",
        "colab": {
          "base_uri": "https://localhost:8080/"
        }
      },
      "outputs": [
        {
          "output_type": "execute_result",
          "data": {
            "text/plain": [
              "torch.Size([1, 768])"
            ]
          },
          "metadata": {},
          "execution_count": 92
        }
      ],
      "source": [
        "outputs.last_hidden_state[:,0].size()"
      ]
    },
    {
      "cell_type": "markdown",
      "metadata": {
        "id": "-tJQqquaYHZn"
      },
      "source": [
        "Now that we know how to get the last hidden state for a single string, let's do the same thing for the whole dataset by creating a new `hidden_state` column that stores all these vectors. As we did with the tokenizer, we'll use the `map()` method of `DatasetDict` to extract all the hidden states in one go. The first thing we need to do is wrap the previous steps in a processing function:"
      ]
    },
    {
      "cell_type": "code",
      "execution_count": 93,
      "metadata": {
        "id": "NWt8kNZoYHZn"
      },
      "outputs": [],
      "source": [
        "def extract_hidden_states(batch):\n",
        "    # Place model inputs on the GPU\n",
        "    inputs = {k:v.to(device) for k,v in batch.items()\n",
        "              if k in tokenizer.model_input_names}\n",
        "    # Extract last hidden states\n",
        "    with torch.no_grad():\n",
        "        last_hidden_state = model(**inputs).last_hidden_state\n",
        "    # Return vector for [CLS] token\n",
        "    return {\"hidden_state\": last_hidden_state[:,0].cpu().numpy()}"
      ]
    },
    {
      "cell_type": "markdown",
      "metadata": {
        "id": "Iy9SPhhfYHZn"
      },
      "source": [
        "The only difference between this function and our previous logic is the final step where we place the final hidden state back on the CPU as a NumPy array. The `map()` method requires the processing function to return Python or NumPy objects when we're using batched inputs.\n",
        "\n",
        "Since our model expects tensors as inputs, the next thing to do is convert the `input_ids` and `attention_mask` columns to the `\"torch\"` format, as follows:"
      ]
    },
    {
      "cell_type": "code",
      "execution_count": 94,
      "metadata": {
        "id": "HaRjENL_YHZn"
      },
      "outputs": [],
      "source": [
        "emotions_encoded.set_format(\"torch\",\n",
        "                            columns=[\"input_ids\", \"attention_mask\", \"label\"])"
      ]
    },
    {
      "cell_type": "markdown",
      "metadata": {
        "id": "89WQ_1W-YHZn"
      },
      "source": [
        "We can then go ahead and extract the hidden states across all splits in one go:"
      ]
    },
    {
      "cell_type": "code",
      "execution_count": 95,
      "metadata": {
        "id": "W0VfwuXPYHZn",
        "outputId": "61af0877-5f86-408a-e6e9-f0020d9ac13b",
        "colab": {
          "referenced_widgets": [
            "e3d3eef495494059b0c17ae0587bf369",
            "95d357fd79844400ab926e39d76d8bf6",
            "a58376fc85364c2784b6cf14144bb8a5",
            "ce40fb99c36e49d38cacc08a778eb955",
            "72766516ef0e4d91862e2cb3e06e0a20",
            "a436aaa8bd434276a6aac9cea0bca487",
            "ae6f46588d9c48ae8467329ab510c95c",
            "9f75ff9dee5c49b6b456c5786704b3e9",
            "d50b18cc1e144564a249f65d612b4633",
            "74139cefce4a40a9b68b0d853d925500",
            "807d5bad582b4dc68d0bcdea0ce62be3",
            "4ba1c9813f244c2ab4cb9986c6814a5c",
            "85548100c5d246bab311726ae7f62120",
            "9d061b7b208d486f9c5b8e24389c31a7",
            "3d494305b5414a79a8dfc2d9ce63ff4f",
            "144188419a2e4d938ce8c6d8b073968b",
            "cd2ee5209f784fc984ef5dfa3c2a3350",
            "97e79ad75d5d4caf8f25ff9cd468d382",
            "2fc870dfdbdc4eb6966e849edb2a765a",
            "f9482c25ec7943ce9f613701f07fb5c3",
            "080f8425f69744e09b9afbc77f26e72d",
            "8bbd2609077744afb032136d1bbe6cb5",
            "44b299e1befc465a86dcf404a816e406",
            "400ab1891d42406abaac572281bcc5eb",
            "a5ac2fa4512140a49e44abe300361446",
            "3b73e62e88ec41bcb29ef5fb1e776d29",
            "f385b293413c4e9e82a76ba766d6079e",
            "410da541f1504db8ae27a0a580778c95",
            "d5d8dd7747074eefbe7dc73206a4df4e",
            "196a6c528bb54d50aa8f946c01940936",
            "3cd63e9fc64d4a9792a0d8c8247d8e20",
            "2c40b913757b49cd801301ff9f7a8063",
            "9edbd12afffc43509dd3dc1479e71a3d"
          ],
          "base_uri": "https://localhost:8080/",
          "height": 113
        }
      },
      "outputs": [
        {
          "output_type": "display_data",
          "data": {
            "text/plain": [
              "Map:   0%|          | 0/16000 [00:00<?, ? examples/s]"
            ],
            "application/vnd.jupyter.widget-view+json": {
              "version_major": 2,
              "version_minor": 0,
              "model_id": "e3d3eef495494059b0c17ae0587bf369"
            }
          },
          "metadata": {}
        },
        {
          "output_type": "display_data",
          "data": {
            "text/plain": [
              "Map:   0%|          | 0/2000 [00:00<?, ? examples/s]"
            ],
            "application/vnd.jupyter.widget-view+json": {
              "version_major": 2,
              "version_minor": 0,
              "model_id": "4ba1c9813f244c2ab4cb9986c6814a5c"
            }
          },
          "metadata": {}
        },
        {
          "output_type": "display_data",
          "data": {
            "text/plain": [
              "Map:   0%|          | 0/2000 [00:00<?, ? examples/s]"
            ],
            "application/vnd.jupyter.widget-view+json": {
              "version_major": 2,
              "version_minor": 0,
              "model_id": "44b299e1befc465a86dcf404a816e406"
            }
          },
          "metadata": {}
        }
      ],
      "source": [
        "#hide_output\n",
        "emotions_hidden = emotions_encoded.map(extract_hidden_states, batched=True)"
      ]
    },
    {
      "cell_type": "markdown",
      "metadata": {
        "id": "9iJB5YtiYHZo"
      },
      "source": [
        "Note that we did not set `batch_size=None` in this case, so the default `batch_size=1000` is used instead. As expected, applying the +extract_&#x200b;hid&#x2060;den_&#x200b;states()+ function has added a new `hidden_state` column to our dataset:"
      ]
    },
    {
      "cell_type": "code",
      "execution_count": 96,
      "metadata": {
        "id": "rzbHsPeXYHZo",
        "outputId": "7675ab25-205a-4e72-e405-f3e913bfd249",
        "colab": {
          "base_uri": "https://localhost:8080/"
        }
      },
      "outputs": [
        {
          "output_type": "execute_result",
          "data": {
            "text/plain": [
              "['text',\n",
              " 'label',\n",
              " 'input_ids',\n",
              " 'token_type_ids',\n",
              " 'attention_mask',\n",
              " 'hidden_state']"
            ]
          },
          "metadata": {},
          "execution_count": 96
        }
      ],
      "source": [
        "emotions_hidden[\"train\"].column_names"
      ]
    },
    {
      "cell_type": "markdown",
      "metadata": {
        "id": "gGipAIQcYHZo"
      },
      "source": [
        "Now that we have the hidden states associated with each tweet, the next step is to train a classifier on them. To do that, we'll need a feature matrix - let's take a look."
      ]
    },
    {
      "cell_type": "markdown",
      "metadata": {
        "id": "TyPQKsoqYHZo"
      },
      "source": [
        "#### Creating a feature matrix"
      ]
    },
    {
      "cell_type": "markdown",
      "metadata": {
        "id": "hdNTPLd9YHZo"
      },
      "source": [
        "The preprocessed dataset now contains all the information we need to train a classifier on it. We will use the hidden states as input features and the labels as targets. We can easily create the corresponding arrays in the well-known Scikit-Learn format as follows:"
      ]
    },
    {
      "cell_type": "code",
      "execution_count": 97,
      "metadata": {
        "id": "5JRjXGPnYHZo",
        "outputId": "db3da52e-3856-4c7e-a6b6-246e0fa345cf",
        "colab": {
          "base_uri": "https://localhost:8080/"
        }
      },
      "outputs": [
        {
          "output_type": "execute_result",
          "data": {
            "text/plain": [
              "((16000, 768), (2000, 768))"
            ]
          },
          "metadata": {},
          "execution_count": 97
        }
      ],
      "source": [
        "import numpy as np\n",
        "\n",
        "X_train = np.array(emotions_hidden[\"train\"][\"hidden_state\"])\n",
        "X_valid = np.array(emotions_hidden[\"validation\"][\"hidden_state\"])\n",
        "y_train = np.array(emotions_hidden[\"train\"][\"label\"])\n",
        "y_valid = np.array(emotions_hidden[\"validation\"][\"label\"])\n",
        "X_train.shape, X_valid.shape"
      ]
    },
    {
      "cell_type": "markdown",
      "metadata": {
        "id": "q-qVrq09YHZo"
      },
      "source": [
        "Before we train a model on the hidden states, it's good practice to perform a sanity check to ensure that they provide a useful representation of the emotions we want to classify. In the next section, we'll see how visualizing the features provides a fast way to achieve this."
      ]
    },
    {
      "cell_type": "markdown",
      "metadata": {
        "id": "KqBUP2iBYHZo"
      },
      "source": [
        "#### Visualizing the training set"
      ]
    },
    {
      "cell_type": "markdown",
      "metadata": {
        "id": "pt3FgqeYYHZo"
      },
      "source": [
        "Since visualizing the hidden states in 768 dimensions is tricky to say the least, we'll use the powerful UMAPfootnote:[L. McInnes, J. Healy, and J. Melville, [\"UMAP: Uniform Manifold Approximation and Projection for Dimension Reduction\"](https://arxiv.org/abs/1802.03426), (2018).] algorithm to project the vectors down to 2D.  Since UMAP works best when the features are scaled to lie in the [0,1] interval, we'll first apply a `MinMaxScaler` and then use the UMAP implementation from the `umap-learn` library to reduce the hidden states:"
      ]
    },
    {
      "cell_type": "code",
      "execution_count": 98,
      "metadata": {
        "id": "3eAiWRrUYHZp",
        "outputId": "7c738cdf-dd40-47dd-f017-223d69bbe588",
        "colab": {
          "base_uri": "https://localhost:8080/",
          "height": 206
        }
      },
      "outputs": [
        {
          "output_type": "execute_result",
          "data": {
            "text/plain": [
              "           X         Y  label\n",
              "0   8.265351 -2.963211      0\n",
              "1   7.634386 -0.831562      0\n",
              "2  10.692707 -2.055833      3\n",
              "3   1.654635 -0.084701      2\n",
              "4   3.997529 -3.219170      3"
            ],
            "text/html": [
              "\n",
              "  <div id=\"df-e4ee58fb-2a36-4534-b1a2-5c9aed155290\" class=\"colab-df-container\">\n",
              "    <div>\n",
              "<style scoped>\n",
              "    .dataframe tbody tr th:only-of-type {\n",
              "        vertical-align: middle;\n",
              "    }\n",
              "\n",
              "    .dataframe tbody tr th {\n",
              "        vertical-align: top;\n",
              "    }\n",
              "\n",
              "    .dataframe thead th {\n",
              "        text-align: right;\n",
              "    }\n",
              "</style>\n",
              "<table border=\"1\" class=\"dataframe\">\n",
              "  <thead>\n",
              "    <tr style=\"text-align: right;\">\n",
              "      <th></th>\n",
              "      <th>X</th>\n",
              "      <th>Y</th>\n",
              "      <th>label</th>\n",
              "    </tr>\n",
              "  </thead>\n",
              "  <tbody>\n",
              "    <tr>\n",
              "      <th>0</th>\n",
              "      <td>8.265351</td>\n",
              "      <td>-2.963211</td>\n",
              "      <td>0</td>\n",
              "    </tr>\n",
              "    <tr>\n",
              "      <th>1</th>\n",
              "      <td>7.634386</td>\n",
              "      <td>-0.831562</td>\n",
              "      <td>0</td>\n",
              "    </tr>\n",
              "    <tr>\n",
              "      <th>2</th>\n",
              "      <td>10.692707</td>\n",
              "      <td>-2.055833</td>\n",
              "      <td>3</td>\n",
              "    </tr>\n",
              "    <tr>\n",
              "      <th>3</th>\n",
              "      <td>1.654635</td>\n",
              "      <td>-0.084701</td>\n",
              "      <td>2</td>\n",
              "    </tr>\n",
              "    <tr>\n",
              "      <th>4</th>\n",
              "      <td>3.997529</td>\n",
              "      <td>-3.219170</td>\n",
              "      <td>3</td>\n",
              "    </tr>\n",
              "  </tbody>\n",
              "</table>\n",
              "</div>\n",
              "    <div class=\"colab-df-buttons\">\n",
              "\n",
              "  <div class=\"colab-df-container\">\n",
              "    <button class=\"colab-df-convert\" onclick=\"convertToInteractive('df-e4ee58fb-2a36-4534-b1a2-5c9aed155290')\"\n",
              "            title=\"Convert this dataframe to an interactive table.\"\n",
              "            style=\"display:none;\">\n",
              "\n",
              "  <svg xmlns=\"http://www.w3.org/2000/svg\" height=\"24px\" viewBox=\"0 -960 960 960\">\n",
              "    <path d=\"M120-120v-720h720v720H120Zm60-500h600v-160H180v160Zm220 220h160v-160H400v160Zm0 220h160v-160H400v160ZM180-400h160v-160H180v160Zm440 0h160v-160H620v160ZM180-180h160v-160H180v160Zm440 0h160v-160H620v160Z\"/>\n",
              "  </svg>\n",
              "    </button>\n",
              "\n",
              "  <style>\n",
              "    .colab-df-container {\n",
              "      display:flex;\n",
              "      gap: 12px;\n",
              "    }\n",
              "\n",
              "    .colab-df-convert {\n",
              "      background-color: #E8F0FE;\n",
              "      border: none;\n",
              "      border-radius: 50%;\n",
              "      cursor: pointer;\n",
              "      display: none;\n",
              "      fill: #1967D2;\n",
              "      height: 32px;\n",
              "      padding: 0 0 0 0;\n",
              "      width: 32px;\n",
              "    }\n",
              "\n",
              "    .colab-df-convert:hover {\n",
              "      background-color: #E2EBFA;\n",
              "      box-shadow: 0px 1px 2px rgba(60, 64, 67, 0.3), 0px 1px 3px 1px rgba(60, 64, 67, 0.15);\n",
              "      fill: #174EA6;\n",
              "    }\n",
              "\n",
              "    .colab-df-buttons div {\n",
              "      margin-bottom: 4px;\n",
              "    }\n",
              "\n",
              "    [theme=dark] .colab-df-convert {\n",
              "      background-color: #3B4455;\n",
              "      fill: #D2E3FC;\n",
              "    }\n",
              "\n",
              "    [theme=dark] .colab-df-convert:hover {\n",
              "      background-color: #434B5C;\n",
              "      box-shadow: 0px 1px 3px 1px rgba(0, 0, 0, 0.15);\n",
              "      filter: drop-shadow(0px 1px 2px rgba(0, 0, 0, 0.3));\n",
              "      fill: #FFFFFF;\n",
              "    }\n",
              "  </style>\n",
              "\n",
              "    <script>\n",
              "      const buttonEl =\n",
              "        document.querySelector('#df-e4ee58fb-2a36-4534-b1a2-5c9aed155290 button.colab-df-convert');\n",
              "      buttonEl.style.display =\n",
              "        google.colab.kernel.accessAllowed ? 'block' : 'none';\n",
              "\n",
              "      async function convertToInteractive(key) {\n",
              "        const element = document.querySelector('#df-e4ee58fb-2a36-4534-b1a2-5c9aed155290');\n",
              "        const dataTable =\n",
              "          await google.colab.kernel.invokeFunction('convertToInteractive',\n",
              "                                                    [key], {});\n",
              "        if (!dataTable) return;\n",
              "\n",
              "        const docLinkHtml = 'Like what you see? Visit the ' +\n",
              "          '<a target=\"_blank\" href=https://colab.research.google.com/notebooks/data_table.ipynb>data table notebook</a>'\n",
              "          + ' to learn more about interactive tables.';\n",
              "        element.innerHTML = '';\n",
              "        dataTable['output_type'] = 'display_data';\n",
              "        await google.colab.output.renderOutput(dataTable, element);\n",
              "        const docLink = document.createElement('div');\n",
              "        docLink.innerHTML = docLinkHtml;\n",
              "        element.appendChild(docLink);\n",
              "      }\n",
              "    </script>\n",
              "  </div>\n",
              "\n",
              "\n",
              "<div id=\"df-e4d41666-f877-4fa3-a42b-efaf755c3462\">\n",
              "  <button class=\"colab-df-quickchart\" onclick=\"quickchart('df-e4d41666-f877-4fa3-a42b-efaf755c3462')\"\n",
              "            title=\"Suggest charts\"\n",
              "            style=\"display:none;\">\n",
              "\n",
              "<svg xmlns=\"http://www.w3.org/2000/svg\" height=\"24px\"viewBox=\"0 0 24 24\"\n",
              "     width=\"24px\">\n",
              "    <g>\n",
              "        <path d=\"M19 3H5c-1.1 0-2 .9-2 2v14c0 1.1.9 2 2 2h14c1.1 0 2-.9 2-2V5c0-1.1-.9-2-2-2zM9 17H7v-7h2v7zm4 0h-2V7h2v10zm4 0h-2v-4h2v4z\"/>\n",
              "    </g>\n",
              "</svg>\n",
              "  </button>\n",
              "\n",
              "<style>\n",
              "  .colab-df-quickchart {\n",
              "      --bg-color: #E8F0FE;\n",
              "      --fill-color: #1967D2;\n",
              "      --hover-bg-color: #E2EBFA;\n",
              "      --hover-fill-color: #174EA6;\n",
              "      --disabled-fill-color: #AAA;\n",
              "      --disabled-bg-color: #DDD;\n",
              "  }\n",
              "\n",
              "  [theme=dark] .colab-df-quickchart {\n",
              "      --bg-color: #3B4455;\n",
              "      --fill-color: #D2E3FC;\n",
              "      --hover-bg-color: #434B5C;\n",
              "      --hover-fill-color: #FFFFFF;\n",
              "      --disabled-bg-color: #3B4455;\n",
              "      --disabled-fill-color: #666;\n",
              "  }\n",
              "\n",
              "  .colab-df-quickchart {\n",
              "    background-color: var(--bg-color);\n",
              "    border: none;\n",
              "    border-radius: 50%;\n",
              "    cursor: pointer;\n",
              "    display: none;\n",
              "    fill: var(--fill-color);\n",
              "    height: 32px;\n",
              "    padding: 0;\n",
              "    width: 32px;\n",
              "  }\n",
              "\n",
              "  .colab-df-quickchart:hover {\n",
              "    background-color: var(--hover-bg-color);\n",
              "    box-shadow: 0 1px 2px rgba(60, 64, 67, 0.3), 0 1px 3px 1px rgba(60, 64, 67, 0.15);\n",
              "    fill: var(--button-hover-fill-color);\n",
              "  }\n",
              "\n",
              "  .colab-df-quickchart-complete:disabled,\n",
              "  .colab-df-quickchart-complete:disabled:hover {\n",
              "    background-color: var(--disabled-bg-color);\n",
              "    fill: var(--disabled-fill-color);\n",
              "    box-shadow: none;\n",
              "  }\n",
              "\n",
              "  .colab-df-spinner {\n",
              "    border: 2px solid var(--fill-color);\n",
              "    border-color: transparent;\n",
              "    border-bottom-color: var(--fill-color);\n",
              "    animation:\n",
              "      spin 1s steps(1) infinite;\n",
              "  }\n",
              "\n",
              "  @keyframes spin {\n",
              "    0% {\n",
              "      border-color: transparent;\n",
              "      border-bottom-color: var(--fill-color);\n",
              "      border-left-color: var(--fill-color);\n",
              "    }\n",
              "    20% {\n",
              "      border-color: transparent;\n",
              "      border-left-color: var(--fill-color);\n",
              "      border-top-color: var(--fill-color);\n",
              "    }\n",
              "    30% {\n",
              "      border-color: transparent;\n",
              "      border-left-color: var(--fill-color);\n",
              "      border-top-color: var(--fill-color);\n",
              "      border-right-color: var(--fill-color);\n",
              "    }\n",
              "    40% {\n",
              "      border-color: transparent;\n",
              "      border-right-color: var(--fill-color);\n",
              "      border-top-color: var(--fill-color);\n",
              "    }\n",
              "    60% {\n",
              "      border-color: transparent;\n",
              "      border-right-color: var(--fill-color);\n",
              "    }\n",
              "    80% {\n",
              "      border-color: transparent;\n",
              "      border-right-color: var(--fill-color);\n",
              "      border-bottom-color: var(--fill-color);\n",
              "    }\n",
              "    90% {\n",
              "      border-color: transparent;\n",
              "      border-bottom-color: var(--fill-color);\n",
              "    }\n",
              "  }\n",
              "</style>\n",
              "\n",
              "  <script>\n",
              "    async function quickchart(key) {\n",
              "      const quickchartButtonEl =\n",
              "        document.querySelector('#' + key + ' button');\n",
              "      quickchartButtonEl.disabled = true;  // To prevent multiple clicks.\n",
              "      quickchartButtonEl.classList.add('colab-df-spinner');\n",
              "      try {\n",
              "        const charts = await google.colab.kernel.invokeFunction(\n",
              "            'suggestCharts', [key], {});\n",
              "      } catch (error) {\n",
              "        console.error('Error during call to suggestCharts:', error);\n",
              "      }\n",
              "      quickchartButtonEl.classList.remove('colab-df-spinner');\n",
              "      quickchartButtonEl.classList.add('colab-df-quickchart-complete');\n",
              "    }\n",
              "    (() => {\n",
              "      let quickchartButtonEl =\n",
              "        document.querySelector('#df-e4d41666-f877-4fa3-a42b-efaf755c3462 button');\n",
              "      quickchartButtonEl.style.display =\n",
              "        google.colab.kernel.accessAllowed ? 'block' : 'none';\n",
              "    })();\n",
              "  </script>\n",
              "</div>\n",
              "\n",
              "    </div>\n",
              "  </div>\n"
            ],
            "application/vnd.google.colaboratory.intrinsic+json": {
              "type": "dataframe",
              "variable_name": "df_emb",
              "summary": "{\n  \"name\": \"df_emb\",\n  \"rows\": 16000,\n  \"fields\": [\n    {\n      \"column\": \"X\",\n      \"properties\": {\n        \"dtype\": \"float32\",\n        \"num_unique_values\": 15992,\n        \"samples\": [\n          3.9731297492980957,\n          6.029590129852295,\n          1.5412139892578125\n        ],\n        \"semantic_type\": \"\",\n        \"description\": \"\"\n      }\n    },\n    {\n      \"column\": \"Y\",\n      \"properties\": {\n        \"dtype\": \"float32\",\n        \"num_unique_values\": 15997,\n        \"samples\": [\n          2.0096538066864014,\n          -1.5783028602600098,\n          -1.0660693645477295\n        ],\n        \"semantic_type\": \"\",\n        \"description\": \"\"\n      }\n    },\n    {\n      \"column\": \"label\",\n      \"properties\": {\n        \"dtype\": \"number\",\n        \"std\": 1,\n        \"min\": 0,\n        \"max\": 5,\n        \"num_unique_values\": 6,\n        \"samples\": [\n          0,\n          3,\n          1\n        ],\n        \"semantic_type\": \"\",\n        \"description\": \"\"\n      }\n    }\n  ]\n}"
            }
          },
          "metadata": {},
          "execution_count": 98
        }
      ],
      "source": [
        "from umap import UMAP\n",
        "from sklearn.preprocessing import MinMaxScaler\n",
        "\n",
        "# Scale features to [0,1] range\n",
        "X_scaled = MinMaxScaler().fit_transform(X_train)\n",
        "# Initialize and fit UMAP\n",
        "mapper = UMAP(n_components=2, metric=\"cosine\").fit(X_scaled)\n",
        "# Create a DataFrame of 2D embeddings\n",
        "df_emb = pd.DataFrame(mapper.embedding_, columns=[\"X\", \"Y\"])\n",
        "df_emb[\"label\"] = y_train\n",
        "df_emb.head()"
      ]
    },
    {
      "cell_type": "markdown",
      "metadata": {
        "id": "jeb2_7JUYHZp"
      },
      "source": [
        "The result is an array with the same number of training samples, but with only 2 features instead of the 768 we started with! Let's investigate the compressed data a little bit further and plot the density of points for each category separately:"
      ]
    },
    {
      "cell_type": "code",
      "execution_count": 99,
      "metadata": {
        "id": "4E3ucjBOYHZp",
        "outputId": "d006bce8-5211-46b0-c974-536326a1fa49",
        "colab": {
          "base_uri": "https://localhost:8080/",
          "height": 486
        }
      },
      "outputs": [
        {
          "output_type": "display_data",
          "data": {
            "text/plain": [
              "<Figure size 700x500 with 6 Axes>"
            ],
            "image/svg+xml": "<?xml version=\"1.0\" encoding=\"utf-8\" standalone=\"no\"?>\n<!DOCTYPE svg PUBLIC \"-//W3C//DTD SVG 1.1//EN\"\n  \"http://www.w3.org/Graphics/SVG/1.1/DTD/svg11.dtd\">\n<svg xmlns:xlink=\"http://www.w3.org/1999/xlink\" width=\"492.48pt\" height=\"348.62175pt\" viewBox=\"0 0 492.48 348.62175\" xmlns=\"http://www.w3.org/2000/svg\" version=\"1.1\">\n <metadata>\n  <rdf:RDF xmlns:dc=\"http://purl.org/dc/elements/1.1/\" xmlns:cc=\"http://creativecommons.org/ns#\" xmlns:rdf=\"http://www.w3.org/1999/02/22-rdf-syntax-ns#\">\n   <cc:Work>\n    <dc:type rdf:resource=\"http://purl.org/dc/dcmitype/StillImage\"/>\n    <dc:date>2024-05-23T06:44:53.381299</dc:date>\n    <dc:format>image/svg+xml</dc:format>\n    <dc:creator>\n     <cc:Agent>\n      <dc:title>Matplotlib v3.7.1, https://matplotlib.org/</dc:title>\n     </cc:Agent>\n    </dc:creator>\n   </cc:Work>\n  </rdf:RDF>\n </metadata>\n <defs>\n  <style type=\"text/css\">*{stroke-linejoin: round; stroke-linecap: butt}</style>\n </defs>\n <g id=\"figure_1\">\n  <g id=\"patch_1\">\n   <path d=\"M 0 348.62175 \nL 492.48 348.62175 \nL 492.48 0 \nL 0 0 \nz\n\" style=\"fill: #ffffff\"/>\n  </g>\n  <g id=\"axes_1\">\n   <g id=\"patch_2\">\n    <path d=\"M 7.2 167.90175 \nL 157.92 167.90175 \nL 157.92 24.14175 \nL 7.2 24.14175 \nz\n\" style=\"fill: #ffffff\"/>\n   </g>\n   <g id=\"PolyCollection_1\">\n    <defs>\n     <path id=\"C0_0_dcc0ad3099\" d=\"M 1.055172 -262.179009 \nL 1.055172 -266.13934 \nL -2.370283 -268.119505 \nL -5.795738 -266.13934 \nL -5.795738 -262.179009 \nL -2.370283 -260.198844 \nz\n\"/>\n    </defs>\n    <g clip-path=\"url(#p32c297f63c)\">\n     <use xlink:href=\"#C0_0_dcc0ad3099\" x=\"16.421192\" y=\"425.526379\" style=\"fill: #ffffff\"/>\n    </g>\n    <g clip-path=\"url(#p32c297f63c)\">\n     <use xlink:href=\"#C0_0_dcc0ad3099\" x=\"16.421192\" y=\"413.645387\" style=\"fill: #ffffff\"/>\n    </g>\n    <g clip-path=\"url(#p32c297f63c)\">\n     <use xlink:href=\"#C0_0_dcc0ad3099\" x=\"16.421192\" y=\"401.764396\" style=\"fill: #ffffff\"/>\n    </g>\n    <g clip-path=\"url(#p32c297f63c)\">\n     <use xlink:href=\"#C0_0_dcc0ad3099\" x=\"16.421192\" y=\"389.883404\" style=\"fill: #ffffff\"/>\n    </g>\n    <g clip-path=\"url(#p32c297f63c)\">\n     <use xlink:href=\"#C0_0_dcc0ad3099\" x=\"16.421192\" y=\"378.002412\" style=\"fill: #ffffff\"/>\n    </g>\n    <g clip-path=\"url(#p32c297f63c)\">\n     <use xlink:href=\"#C0_0_dcc0ad3099\" x=\"16.421192\" y=\"366.12142\" style=\"fill: #f1f1f1\"/>\n    </g>\n    <g clip-path=\"url(#p32c297f63c)\">\n     <use xlink:href=\"#C0_0_dcc0ad3099\" x=\"16.421192\" y=\"354.240429\" style=\"fill: #eaeaea\"/>\n    </g>\n    <g clip-path=\"url(#p32c297f63c)\">\n     <use xlink:href=\"#C0_0_dcc0ad3099\" x=\"16.421192\" y=\"342.359437\" style=\"fill: #eeeeee\"/>\n    </g>\n    <g clip-path=\"url(#p32c297f63c)\">\n     <use xlink:href=\"#C0_0_dcc0ad3099\" x=\"16.421192\" y=\"330.478445\" style=\"fill: #ffffff\"/>\n    </g>\n    <g clip-path=\"url(#p32c297f63c)\">\n     <use xlink:href=\"#C0_0_dcc0ad3099\" x=\"16.421192\" y=\"318.597453\" style=\"fill: #ffffff\"/>\n    </g>\n    <g clip-path=\"url(#p32c297f63c)\">\n     <use xlink:href=\"#C0_0_dcc0ad3099\" x=\"16.421192\" y=\"306.716462\" style=\"fill: #ffffff\"/>\n    </g>\n    <g clip-path=\"url(#p32c297f63c)\">\n     <use xlink:href=\"#C0_0_dcc0ad3099\" x=\"16.421192\" y=\"294.83547\" style=\"fill: #ffffff\"/>\n    </g>\n    <g clip-path=\"url(#p32c297f63c)\">\n     <use xlink:href=\"#C0_0_dcc0ad3099\" x=\"23.272101\" y=\"425.526379\" style=\"fill: #ffffff\"/>\n    </g>\n    <g clip-path=\"url(#p32c297f63c)\">\n     <use xlink:href=\"#C0_0_dcc0ad3099\" x=\"23.272101\" y=\"413.645387\" style=\"fill: #ffffff\"/>\n    </g>\n    <g clip-path=\"url(#p32c297f63c)\">\n     <use xlink:href=\"#C0_0_dcc0ad3099\" x=\"23.272101\" y=\"401.764396\" style=\"fill: #cacaca\"/>\n    </g>\n    <g clip-path=\"url(#p32c297f63c)\">\n     <use xlink:href=\"#C0_0_dcc0ad3099\" x=\"23.272101\" y=\"389.883404\" style=\"fill: #fdfdfd\"/>\n    </g>\n    <g clip-path=\"url(#p32c297f63c)\">\n     <use xlink:href=\"#C0_0_dcc0ad3099\" x=\"23.272101\" y=\"378.002412\" style=\"fill: #909090\"/>\n    </g>\n    <g clip-path=\"url(#p32c297f63c)\">\n     <use xlink:href=\"#C0_0_dcc0ad3099\" x=\"23.272101\" y=\"366.12142\" style=\"fill: #414141\"/>\n    </g>\n    <g clip-path=\"url(#p32c297f63c)\">\n     <use xlink:href=\"#C0_0_dcc0ad3099\" x=\"23.272101\" y=\"354.240429\" style=\"fill: #5e5e5e\"/>\n    </g>\n    <g clip-path=\"url(#p32c297f63c)\">\n     <use xlink:href=\"#C0_0_dcc0ad3099\" x=\"23.272101\" y=\"342.359437\" style=\"fill: #f7f7f7\"/>\n    </g>\n    <g clip-path=\"url(#p32c297f63c)\">\n     <use xlink:href=\"#C0_0_dcc0ad3099\" x=\"23.272101\" y=\"330.478445\" style=\"fill: #ffffff\"/>\n    </g>\n    <g clip-path=\"url(#p32c297f63c)\">\n     <use xlink:href=\"#C0_0_dcc0ad3099\" x=\"23.272101\" y=\"318.597453\" style=\"fill: #ffffff\"/>\n    </g>\n    <g clip-path=\"url(#p32c297f63c)\">\n     <use xlink:href=\"#C0_0_dcc0ad3099\" x=\"23.272101\" y=\"306.716462\" style=\"fill: #ffffff\"/>\n    </g>\n    <g clip-path=\"url(#p32c297f63c)\">\n     <use xlink:href=\"#C0_0_dcc0ad3099\" x=\"23.272101\" y=\"294.83547\" style=\"fill: #ffffff\"/>\n    </g>\n    <g clip-path=\"url(#p32c297f63c)\">\n     <use xlink:href=\"#C0_0_dcc0ad3099\" x=\"30.12301\" y=\"425.526379\" style=\"fill: #ffffff\"/>\n    </g>\n    <g clip-path=\"url(#p32c297f63c)\">\n     <use xlink:href=\"#C0_0_dcc0ad3099\" x=\"30.12301\" y=\"413.645387\" style=\"fill: #ffffff\"/>\n    </g>\n    <g clip-path=\"url(#p32c297f63c)\">\n     <use xlink:href=\"#C0_0_dcc0ad3099\" x=\"30.12301\" y=\"401.764396\" style=\"fill: #767676\"/>\n    </g>\n    <g clip-path=\"url(#p32c297f63c)\">\n     <use xlink:href=\"#C0_0_dcc0ad3099\" x=\"30.12301\" y=\"389.883404\" style=\"fill: #fdfdfd\"/>\n    </g>\n    <g clip-path=\"url(#p32c297f63c)\">\n     <use xlink:href=\"#C0_0_dcc0ad3099\" x=\"30.12301\" y=\"378.002412\" style=\"fill: #a4a4a4\"/>\n    </g>\n    <g clip-path=\"url(#p32c297f63c)\">\n     <use xlink:href=\"#C0_0_dcc0ad3099\" x=\"30.12301\" y=\"366.12142\" style=\"fill: #898989\"/>\n    </g>\n    <g clip-path=\"url(#p32c297f63c)\">\n     <use xlink:href=\"#C0_0_dcc0ad3099\" x=\"30.12301\" y=\"354.240429\" style=\"fill: #bababa\"/>\n    </g>\n    <g clip-path=\"url(#p32c297f63c)\">\n     <use xlink:href=\"#C0_0_dcc0ad3099\" x=\"30.12301\" y=\"342.359437\" style=\"fill: #dddddd\"/>\n    </g>\n    <g clip-path=\"url(#p32c297f63c)\">\n     <use xlink:href=\"#C0_0_dcc0ad3099\" x=\"30.12301\" y=\"330.478445\" style=\"fill: #ffffff\"/>\n    </g>\n    <g clip-path=\"url(#p32c297f63c)\">\n     <use xlink:href=\"#C0_0_dcc0ad3099\" x=\"30.12301\" y=\"318.597453\" style=\"fill: #ffffff\"/>\n    </g>\n    <g clip-path=\"url(#p32c297f63c)\">\n     <use xlink:href=\"#C0_0_dcc0ad3099\" x=\"30.12301\" y=\"306.716462\" style=\"fill: #ffffff\"/>\n    </g>\n    <g clip-path=\"url(#p32c297f63c)\">\n     <use xlink:href=\"#C0_0_dcc0ad3099\" x=\"30.12301\" y=\"294.83547\" style=\"fill: #ffffff\"/>\n    </g>\n    <g clip-path=\"url(#p32c297f63c)\">\n     <use xlink:href=\"#C0_0_dcc0ad3099\" x=\"36.973919\" y=\"425.526379\" style=\"fill: #ffffff\"/>\n    </g>\n    <g clip-path=\"url(#p32c297f63c)\">\n     <use xlink:href=\"#C0_0_dcc0ad3099\" x=\"36.973919\" y=\"413.645387\" style=\"fill: #ffffff\"/>\n    </g>\n    <g clip-path=\"url(#p32c297f63c)\">\n     <use xlink:href=\"#C0_0_dcc0ad3099\" x=\"36.973919\" y=\"401.764396\" style=\"fill: #eeeeee\"/>\n    </g>\n    <g clip-path=\"url(#p32c297f63c)\">\n     <use xlink:href=\"#C0_0_dcc0ad3099\" x=\"36.973919\" y=\"389.883404\" style=\"fill: #f7f7f7\"/>\n    </g>\n    <g clip-path=\"url(#p32c297f63c)\">\n     <use xlink:href=\"#C0_0_dcc0ad3099\" x=\"36.973919\" y=\"378.002412\" style=\"fill: #c5c5c5\"/>\n    </g>\n    <g clip-path=\"url(#p32c297f63c)\">\n     <use xlink:href=\"#C0_0_dcc0ad3099\" x=\"36.973919\" y=\"366.12142\" style=\"fill: #bababa\"/>\n    </g>\n    <g clip-path=\"url(#p32c297f63c)\">\n     <use xlink:href=\"#C0_0_dcc0ad3099\" x=\"36.973919\" y=\"354.240429\" style=\"fill: #9d9d9d\"/>\n    </g>\n    <g clip-path=\"url(#p32c297f63c)\">\n     <use xlink:href=\"#C0_0_dcc0ad3099\" x=\"36.973919\" y=\"342.359437\" style=\"fill: #838383\"/>\n    </g>\n    <g clip-path=\"url(#p32c297f63c)\">\n     <use xlink:href=\"#C0_0_dcc0ad3099\" x=\"36.973919\" y=\"330.478445\" style=\"fill: #e1e1e1\"/>\n    </g>\n    <g clip-path=\"url(#p32c297f63c)\">\n     <use xlink:href=\"#C0_0_dcc0ad3099\" x=\"36.973919\" y=\"318.597453\" style=\"fill: #ffffff\"/>\n    </g>\n    <g clip-path=\"url(#p32c297f63c)\">\n     <use xlink:href=\"#C0_0_dcc0ad3099\" x=\"36.973919\" y=\"306.716462\" style=\"fill: #ffffff\"/>\n    </g>\n    <g clip-path=\"url(#p32c297f63c)\">\n     <use xlink:href=\"#C0_0_dcc0ad3099\" x=\"36.973919\" y=\"294.83547\" style=\"fill: #ffffff\"/>\n    </g>\n    <g clip-path=\"url(#p32c297f63c)\">\n     <use xlink:href=\"#C0_0_dcc0ad3099\" x=\"43.824828\" y=\"425.526379\" style=\"fill: #ffffff\"/>\n    </g>\n    <g clip-path=\"url(#p32c297f63c)\">\n     <use xlink:href=\"#C0_0_dcc0ad3099\" x=\"43.824828\" y=\"413.645387\" style=\"fill: #ffffff\"/>\n    </g>\n    <g clip-path=\"url(#p32c297f63c)\">\n     <use xlink:href=\"#C0_0_dcc0ad3099\" x=\"43.824828\" y=\"401.764396\" style=\"fill: #cfcfcf\"/>\n    </g>\n    <g clip-path=\"url(#p32c297f63c)\">\n     <use xlink:href=\"#C0_0_dcc0ad3099\" x=\"43.824828\" y=\"389.883404\" style=\"fill: #eeeeee\"/>\n    </g>\n    <g clip-path=\"url(#p32c297f63c)\">\n     <use xlink:href=\"#C0_0_dcc0ad3099\" x=\"43.824828\" y=\"378.002412\" style=\"fill: #e6e6e6\"/>\n    </g>\n    <g clip-path=\"url(#p32c297f63c)\">\n     <use xlink:href=\"#C0_0_dcc0ad3099\" x=\"43.824828\" y=\"366.12142\" style=\"fill: #575757\"/>\n    </g>\n    <g clip-path=\"url(#p32c297f63c)\">\n     <use xlink:href=\"#C0_0_dcc0ad3099\" x=\"43.824828\" y=\"354.240429\" style=\"fill: #cacaca\"/>\n    </g>\n    <g clip-path=\"url(#p32c297f63c)\">\n     <use xlink:href=\"#C0_0_dcc0ad3099\" x=\"43.824828\" y=\"342.359437\" style=\"fill: #898989\"/>\n    </g>\n    <g clip-path=\"url(#p32c297f63c)\">\n     <use xlink:href=\"#C0_0_dcc0ad3099\" x=\"43.824828\" y=\"330.478445\" style=\"fill: #767676\"/>\n    </g>\n    <g clip-path=\"url(#p32c297f63c)\">\n     <use xlink:href=\"#C0_0_dcc0ad3099\" x=\"43.824828\" y=\"318.597453\" style=\"fill: #eaeaea\"/>\n    </g>\n    <g clip-path=\"url(#p32c297f63c)\">\n     <use xlink:href=\"#C0_0_dcc0ad3099\" x=\"43.824828\" y=\"306.716462\" style=\"fill: #222222\"/>\n    </g>\n    <g clip-path=\"url(#p32c297f63c)\">\n     <use xlink:href=\"#C0_0_dcc0ad3099\" x=\"43.824828\" y=\"294.83547\" style=\"fill: #fafafa\"/>\n    </g>\n    <g clip-path=\"url(#p32c297f63c)\">\n     <use xlink:href=\"#C0_0_dcc0ad3099\" x=\"50.675738\" y=\"425.526379\" style=\"fill: #ffffff\"/>\n    </g>\n    <g clip-path=\"url(#p32c297f63c)\">\n     <use xlink:href=\"#C0_0_dcc0ad3099\" x=\"50.675738\" y=\"413.645387\" style=\"fill: #fdfdfd\"/>\n    </g>\n    <g clip-path=\"url(#p32c297f63c)\">\n     <use xlink:href=\"#C0_0_dcc0ad3099\" x=\"50.675738\" y=\"401.764396\" style=\"fill: #dddddd\"/>\n    </g>\n    <g clip-path=\"url(#p32c297f63c)\">\n     <use xlink:href=\"#C0_0_dcc0ad3099\" x=\"50.675738\" y=\"389.883404\" style=\"fill: #bababa\"/>\n    </g>\n    <g clip-path=\"url(#p32c297f63c)\">\n     <use xlink:href=\"#C0_0_dcc0ad3099\" x=\"50.675738\" y=\"378.002412\" style=\"fill: #414141\"/>\n    </g>\n    <g clip-path=\"url(#p32c297f63c)\">\n     <use xlink:href=\"#C0_0_dcc0ad3099\" x=\"50.675738\" y=\"366.12142\" style=\"fill: #ababab\"/>\n    </g>\n    <g clip-path=\"url(#p32c297f63c)\">\n     <use xlink:href=\"#C0_0_dcc0ad3099\" x=\"50.675738\" y=\"354.240429\" style=\"fill: #d4d4d4\"/>\n    </g>\n    <g clip-path=\"url(#p32c297f63c)\">\n     <use xlink:href=\"#C0_0_dcc0ad3099\" x=\"50.675738\" y=\"342.359437\" style=\"fill: #bfbfbf\"/>\n    </g>\n    <g clip-path=\"url(#p32c297f63c)\">\n     <use xlink:href=\"#C0_0_dcc0ad3099\" x=\"50.675738\" y=\"330.478445\" style=\"fill: #bfbfbf\"/>\n    </g>\n    <g clip-path=\"url(#p32c297f63c)\">\n     <use xlink:href=\"#C0_0_dcc0ad3099\" x=\"50.675738\" y=\"318.597453\" style=\"fill: #f4f4f4\"/>\n    </g>\n    <g clip-path=\"url(#p32c297f63c)\">\n     <use xlink:href=\"#C0_0_dcc0ad3099\" x=\"50.675738\" y=\"306.716462\" style=\"fill: #767676\"/>\n    </g>\n    <g clip-path=\"url(#p32c297f63c)\">\n     <use xlink:href=\"#C0_0_dcc0ad3099\" x=\"50.675738\" y=\"294.83547\" style=\"fill: #ffffff\"/>\n    </g>\n    <g clip-path=\"url(#p32c297f63c)\">\n     <use xlink:href=\"#C0_0_dcc0ad3099\" x=\"57.526647\" y=\"425.526379\" style=\"fill: #ffffff\"/>\n    </g>\n    <g clip-path=\"url(#p32c297f63c)\">\n     <use xlink:href=\"#C0_0_dcc0ad3099\" x=\"57.526647\" y=\"413.645387\" style=\"fill: #bfbfbf\"/>\n    </g>\n    <g clip-path=\"url(#p32c297f63c)\">\n     <use xlink:href=\"#C0_0_dcc0ad3099\" x=\"57.526647\" y=\"401.764396\" style=\"fill: #646464\"/>\n    </g>\n    <g clip-path=\"url(#p32c297f63c)\">\n     <use xlink:href=\"#C0_0_dcc0ad3099\" x=\"57.526647\" y=\"389.883404\" style=\"fill: #959595\"/>\n    </g>\n    <g clip-path=\"url(#p32c297f63c)\">\n     <use xlink:href=\"#C0_0_dcc0ad3099\" x=\"57.526647\" y=\"378.002412\" style=\"fill: #575757\"/>\n    </g>\n    <g clip-path=\"url(#p32c297f63c)\">\n     <use xlink:href=\"#C0_0_dcc0ad3099\" x=\"57.526647\" y=\"366.12142\" style=\"fill: #898989\"/>\n    </g>\n    <g clip-path=\"url(#p32c297f63c)\">\n     <use xlink:href=\"#C0_0_dcc0ad3099\" x=\"57.526647\" y=\"354.240429\" style=\"fill: #707070\"/>\n    </g>\n    <g clip-path=\"url(#p32c297f63c)\">\n     <use xlink:href=\"#C0_0_dcc0ad3099\" x=\"57.526647\" y=\"342.359437\" style=\"fill: #838383\"/>\n    </g>\n    <g clip-path=\"url(#p32c297f63c)\">\n     <use xlink:href=\"#C0_0_dcc0ad3099\" x=\"57.526647\" y=\"330.478445\" style=\"fill: #707070\"/>\n    </g>\n    <g clip-path=\"url(#p32c297f63c)\">\n     <use xlink:href=\"#C0_0_dcc0ad3099\" x=\"57.526647\" y=\"318.597453\" style=\"fill: #f4f4f4\"/>\n    </g>\n    <g clip-path=\"url(#p32c297f63c)\">\n     <use xlink:href=\"#C0_0_dcc0ad3099\" x=\"57.526647\" y=\"306.716462\" style=\"fill: #ffffff\"/>\n    </g>\n    <g clip-path=\"url(#p32c297f63c)\">\n     <use xlink:href=\"#C0_0_dcc0ad3099\" x=\"57.526647\" y=\"294.83547\" style=\"fill: #ffffff\"/>\n    </g>\n    <g clip-path=\"url(#p32c297f63c)\">\n     <use xlink:href=\"#C0_0_dcc0ad3099\" x=\"64.377556\" y=\"425.526379\" style=\"fill: #ffffff\"/>\n    </g>\n    <g clip-path=\"url(#p32c297f63c)\">\n     <use xlink:href=\"#C0_0_dcc0ad3099\" x=\"64.377556\" y=\"413.645387\" style=\"fill: #eeeeee\"/>\n    </g>\n    <g clip-path=\"url(#p32c297f63c)\">\n     <use xlink:href=\"#C0_0_dcc0ad3099\" x=\"64.377556\" y=\"401.764396\" style=\"fill: #b3b3b3\"/>\n    </g>\n    <g clip-path=\"url(#p32c297f63c)\">\n     <use xlink:href=\"#C0_0_dcc0ad3099\" x=\"64.377556\" y=\"389.883404\" style=\"fill: #a4a4a4\"/>\n    </g>\n    <g clip-path=\"url(#p32c297f63c)\">\n     <use xlink:href=\"#C0_0_dcc0ad3099\" x=\"64.377556\" y=\"378.002412\" style=\"fill: #9d9d9d\"/>\n    </g>\n    <g clip-path=\"url(#p32c297f63c)\">\n     <use xlink:href=\"#C0_0_dcc0ad3099\" x=\"64.377556\" y=\"366.12142\" style=\"fill: #7c7c7c\"/>\n    </g>\n    <g clip-path=\"url(#p32c297f63c)\">\n     <use xlink:href=\"#C0_0_dcc0ad3099\" x=\"64.377556\" y=\"354.240429\" style=\"fill: #bababa\"/>\n    </g>\n    <g clip-path=\"url(#p32c297f63c)\">\n     <use xlink:href=\"#C0_0_dcc0ad3099\" x=\"64.377556\" y=\"342.359437\" style=\"fill: #767676\"/>\n    </g>\n    <g clip-path=\"url(#p32c297f63c)\">\n     <use xlink:href=\"#C0_0_dcc0ad3099\" x=\"64.377556\" y=\"330.478445\" style=\"fill: #cfcfcf\"/>\n    </g>\n    <g clip-path=\"url(#p32c297f63c)\">\n     <use xlink:href=\"#C0_0_dcc0ad3099\" x=\"64.377556\" y=\"318.597453\" style=\"fill: #fdfdfd\"/>\n    </g>\n    <g clip-path=\"url(#p32c297f63c)\">\n     <use xlink:href=\"#C0_0_dcc0ad3099\" x=\"64.377556\" y=\"306.716462\" style=\"fill: #ffffff\"/>\n    </g>\n    <g clip-path=\"url(#p32c297f63c)\">\n     <use xlink:href=\"#C0_0_dcc0ad3099\" x=\"64.377556\" y=\"294.83547\" style=\"fill: #ffffff\"/>\n    </g>\n    <g clip-path=\"url(#p32c297f63c)\">\n     <use xlink:href=\"#C0_0_dcc0ad3099\" x=\"71.228465\" y=\"425.526379\" style=\"fill: #ffffff\"/>\n    </g>\n    <g clip-path=\"url(#p32c297f63c)\">\n     <use xlink:href=\"#C0_0_dcc0ad3099\" x=\"71.228465\" y=\"413.645387\" style=\"fill: #ffffff\"/>\n    </g>\n    <g clip-path=\"url(#p32c297f63c)\">\n     <use xlink:href=\"#C0_0_dcc0ad3099\" x=\"71.228465\" y=\"401.764396\" style=\"fill: #d4d4d4\"/>\n    </g>\n    <g clip-path=\"url(#p32c297f63c)\">\n     <use xlink:href=\"#C0_0_dcc0ad3099\" x=\"71.228465\" y=\"389.883404\" style=\"fill: #898989\"/>\n    </g>\n    <g clip-path=\"url(#p32c297f63c)\">\n     <use xlink:href=\"#C0_0_dcc0ad3099\" x=\"71.228465\" y=\"378.002412\" style=\"fill: #515151\"/>\n    </g>\n    <g clip-path=\"url(#p32c297f63c)\">\n     <use xlink:href=\"#C0_0_dcc0ad3099\" x=\"71.228465\" y=\"366.12142\" style=\"fill: #767676\"/>\n    </g>\n    <g clip-path=\"url(#p32c297f63c)\">\n     <use xlink:href=\"#C0_0_dcc0ad3099\" x=\"71.228465\" y=\"354.240429\" style=\"fill: #ababab\"/>\n    </g>\n    <g clip-path=\"url(#p32c297f63c)\">\n     <use xlink:href=\"#C0_0_dcc0ad3099\" x=\"71.228465\" y=\"342.359437\" style=\"fill: #7c7c7c\"/>\n    </g>\n    <g clip-path=\"url(#p32c297f63c)\">\n     <use xlink:href=\"#C0_0_dcc0ad3099\" x=\"71.228465\" y=\"330.478445\" style=\"fill: #909090\"/>\n    </g>\n    <g clip-path=\"url(#p32c297f63c)\">\n     <use xlink:href=\"#C0_0_dcc0ad3099\" x=\"71.228465\" y=\"318.597453\" style=\"fill: #fdfdfd\"/>\n    </g>\n    <g clip-path=\"url(#p32c297f63c)\">\n     <use xlink:href=\"#C0_0_dcc0ad3099\" x=\"71.228465\" y=\"306.716462\" style=\"fill: #ffffff\"/>\n    </g>\n    <g clip-path=\"url(#p32c297f63c)\">\n     <use xlink:href=\"#C0_0_dcc0ad3099\" x=\"71.228465\" y=\"294.83547\" style=\"fill: #ffffff\"/>\n    </g>\n    <g clip-path=\"url(#p32c297f63c)\">\n     <use xlink:href=\"#C0_0_dcc0ad3099\" x=\"78.079374\" y=\"425.526379\" style=\"fill: #ffffff\"/>\n    </g>\n    <g clip-path=\"url(#p32c297f63c)\">\n     <use xlink:href=\"#C0_0_dcc0ad3099\" x=\"78.079374\" y=\"413.645387\" style=\"fill: #fafafa\"/>\n    </g>\n    <g clip-path=\"url(#p32c297f63c)\">\n     <use xlink:href=\"#C0_0_dcc0ad3099\" x=\"78.079374\" y=\"401.764396\" style=\"fill: #a4a4a4\"/>\n    </g>\n    <g clip-path=\"url(#p32c297f63c)\">\n     <use xlink:href=\"#C0_0_dcc0ad3099\" x=\"78.079374\" y=\"389.883404\" style=\"fill: #ababab\"/>\n    </g>\n    <g clip-path=\"url(#p32c297f63c)\">\n     <use xlink:href=\"#C0_0_dcc0ad3099\" x=\"78.079374\" y=\"378.002412\" style=\"fill: #838383\"/>\n    </g>\n    <g clip-path=\"url(#p32c297f63c)\">\n     <use xlink:href=\"#C0_0_dcc0ad3099\" x=\"78.079374\" y=\"366.12142\" style=\"fill: #d9d9d9\"/>\n    </g>\n    <g clip-path=\"url(#p32c297f63c)\">\n     <use xlink:href=\"#C0_0_dcc0ad3099\" x=\"78.079374\" y=\"354.240429\" style=\"fill: #bfbfbf\"/>\n    </g>\n    <g clip-path=\"url(#p32c297f63c)\">\n     <use xlink:href=\"#C0_0_dcc0ad3099\" x=\"78.079374\" y=\"342.359437\" style=\"fill: #d9d9d9\"/>\n    </g>\n    <g clip-path=\"url(#p32c297f63c)\">\n     <use xlink:href=\"#C0_0_dcc0ad3099\" x=\"78.079374\" y=\"330.478445\" style=\"fill: #bababa\"/>\n    </g>\n    <g clip-path=\"url(#p32c297f63c)\">\n     <use xlink:href=\"#C0_0_dcc0ad3099\" x=\"78.079374\" y=\"318.597453\" style=\"fill: #fdfdfd\"/>\n    </g>\n    <g clip-path=\"url(#p32c297f63c)\">\n     <use xlink:href=\"#C0_0_dcc0ad3099\" x=\"78.079374\" y=\"306.716462\" style=\"fill: #ffffff\"/>\n    </g>\n    <g clip-path=\"url(#p32c297f63c)\">\n     <use xlink:href=\"#C0_0_dcc0ad3099\" x=\"78.079374\" y=\"294.83547\" style=\"fill: #f1f1f1\"/>\n    </g>\n    <g clip-path=\"url(#p32c297f63c)\">\n     <use xlink:href=\"#C0_0_dcc0ad3099\" x=\"84.930283\" y=\"425.526379\" style=\"fill: #eeeeee\"/>\n    </g>\n    <g clip-path=\"url(#p32c297f63c)\">\n     <use xlink:href=\"#C0_0_dcc0ad3099\" x=\"84.930283\" y=\"413.645387\" style=\"fill: #959595\"/>\n    </g>\n    <g clip-path=\"url(#p32c297f63c)\">\n     <use xlink:href=\"#C0_0_dcc0ad3099\" x=\"84.930283\" y=\"401.764396\" style=\"fill: #c5c5c5\"/>\n    </g>\n    <g clip-path=\"url(#p32c297f63c)\">\n     <use xlink:href=\"#C0_0_dcc0ad3099\" x=\"84.930283\" y=\"389.883404\" style=\"fill: #9d9d9d\"/>\n    </g>\n    <g clip-path=\"url(#p32c297f63c)\">\n     <use xlink:href=\"#C0_0_dcc0ad3099\" x=\"84.930283\" y=\"378.002412\" style=\"fill: #eaeaea\"/>\n    </g>\n    <g clip-path=\"url(#p32c297f63c)\">\n     <use xlink:href=\"#C0_0_dcc0ad3099\" x=\"84.930283\" y=\"366.12142\" style=\"fill: #eeeeee\"/>\n    </g>\n    <g clip-path=\"url(#p32c297f63c)\">\n     <use xlink:href=\"#C0_0_dcc0ad3099\" x=\"84.930283\" y=\"354.240429\" style=\"fill: #bababa\"/>\n    </g>\n    <g clip-path=\"url(#p32c297f63c)\">\n     <use xlink:href=\"#C0_0_dcc0ad3099\" x=\"84.930283\" y=\"342.359437\" style=\"fill: #e1e1e1\"/>\n    </g>\n    <g clip-path=\"url(#p32c297f63c)\">\n     <use xlink:href=\"#C0_0_dcc0ad3099\" x=\"84.930283\" y=\"330.478445\" style=\"fill: #dddddd\"/>\n    </g>\n    <g clip-path=\"url(#p32c297f63c)\">\n     <use xlink:href=\"#C0_0_dcc0ad3099\" x=\"84.930283\" y=\"318.597453\" style=\"fill: #f4f4f4\"/>\n    </g>\n    <g clip-path=\"url(#p32c297f63c)\">\n     <use xlink:href=\"#C0_0_dcc0ad3099\" x=\"84.930283\" y=\"306.716462\" style=\"fill: #fdfdfd\"/>\n    </g>\n    <g clip-path=\"url(#p32c297f63c)\">\n     <use xlink:href=\"#C0_0_dcc0ad3099\" x=\"84.930283\" y=\"294.83547\" style=\"fill: #ffffff\"/>\n    </g>\n    <g clip-path=\"url(#p32c297f63c)\">\n     <use xlink:href=\"#C0_0_dcc0ad3099\" x=\"91.781192\" y=\"425.526379\" style=\"fill: #f7f7f7\"/>\n    </g>\n    <g clip-path=\"url(#p32c297f63c)\">\n     <use xlink:href=\"#C0_0_dcc0ad3099\" x=\"91.781192\" y=\"413.645387\" style=\"fill: #222222\"/>\n    </g>\n    <g clip-path=\"url(#p32c297f63c)\">\n     <use xlink:href=\"#C0_0_dcc0ad3099\" x=\"91.781192\" y=\"401.764396\" style=\"fill: #cacaca\"/>\n    </g>\n    <g clip-path=\"url(#p32c297f63c)\">\n     <use xlink:href=\"#C0_0_dcc0ad3099\" x=\"91.781192\" y=\"389.883404\" style=\"fill: #898989\"/>\n    </g>\n    <g clip-path=\"url(#p32c297f63c)\">\n     <use xlink:href=\"#C0_0_dcc0ad3099\" x=\"91.781192\" y=\"378.002412\" style=\"fill: #e1e1e1\"/>\n    </g>\n    <g clip-path=\"url(#p32c297f63c)\">\n     <use xlink:href=\"#C0_0_dcc0ad3099\" x=\"91.781192\" y=\"366.12142\" style=\"fill: #d4d4d4\"/>\n    </g>\n    <g clip-path=\"url(#p32c297f63c)\">\n     <use xlink:href=\"#C0_0_dcc0ad3099\" x=\"91.781192\" y=\"354.240429\" style=\"fill: #cfcfcf\"/>\n    </g>\n    <g clip-path=\"url(#p32c297f63c)\">\n     <use xlink:href=\"#C0_0_dcc0ad3099\" x=\"91.781192\" y=\"342.359437\" style=\"fill: #c5c5c5\"/>\n    </g>\n    <g clip-path=\"url(#p32c297f63c)\">\n     <use xlink:href=\"#C0_0_dcc0ad3099\" x=\"91.781192\" y=\"330.478445\" style=\"fill: #e6e6e6\"/>\n    </g>\n    <g clip-path=\"url(#p32c297f63c)\">\n     <use xlink:href=\"#C0_0_dcc0ad3099\" x=\"91.781192\" y=\"318.597453\" style=\"fill: #fdfdfd\"/>\n    </g>\n    <g clip-path=\"url(#p32c297f63c)\">\n     <use xlink:href=\"#C0_0_dcc0ad3099\" x=\"91.781192\" y=\"306.716462\" style=\"fill: #ffffff\"/>\n    </g>\n    <g clip-path=\"url(#p32c297f63c)\">\n     <use xlink:href=\"#C0_0_dcc0ad3099\" x=\"91.781192\" y=\"294.83547\" style=\"fill: #ffffff\"/>\n    </g>\n    <g clip-path=\"url(#p32c297f63c)\">\n     <use xlink:href=\"#C0_0_dcc0ad3099\" x=\"98.632101\" y=\"425.526379\" style=\"fill: #ffffff\"/>\n    </g>\n    <g clip-path=\"url(#p32c297f63c)\">\n     <use xlink:href=\"#C0_0_dcc0ad3099\" x=\"98.632101\" y=\"413.645387\" style=\"fill: #cfcfcf\"/>\n    </g>\n    <g clip-path=\"url(#p32c297f63c)\">\n     <use xlink:href=\"#C0_0_dcc0ad3099\" x=\"98.632101\" y=\"401.764396\" style=\"fill: #707070\"/>\n    </g>\n    <g clip-path=\"url(#p32c297f63c)\">\n     <use xlink:href=\"#C0_0_dcc0ad3099\" x=\"98.632101\" y=\"389.883404\" style=\"fill: #d4d4d4\"/>\n    </g>\n    <g clip-path=\"url(#p32c297f63c)\">\n     <use xlink:href=\"#C0_0_dcc0ad3099\" x=\"98.632101\" y=\"378.002412\" style=\"fill: #b3b3b3\"/>\n    </g>\n    <g clip-path=\"url(#p32c297f63c)\">\n     <use xlink:href=\"#C0_0_dcc0ad3099\" x=\"98.632101\" y=\"366.12142\" style=\"fill: #dddddd\"/>\n    </g>\n    <g clip-path=\"url(#p32c297f63c)\">\n     <use xlink:href=\"#C0_0_dcc0ad3099\" x=\"98.632101\" y=\"354.240429\" style=\"fill: #dddddd\"/>\n    </g>\n    <g clip-path=\"url(#p32c297f63c)\">\n     <use xlink:href=\"#C0_0_dcc0ad3099\" x=\"98.632101\" y=\"342.359437\" style=\"fill: #e6e6e6\"/>\n    </g>\n    <g clip-path=\"url(#p32c297f63c)\">\n     <use xlink:href=\"#C0_0_dcc0ad3099\" x=\"98.632101\" y=\"330.478445\" style=\"fill: #cacaca\"/>\n    </g>\n    <g clip-path=\"url(#p32c297f63c)\">\n     <use xlink:href=\"#C0_0_dcc0ad3099\" x=\"98.632101\" y=\"318.597453\" style=\"fill: #ffffff\"/>\n    </g>\n    <g clip-path=\"url(#p32c297f63c)\">\n     <use xlink:href=\"#C0_0_dcc0ad3099\" x=\"98.632101\" y=\"306.716462\" style=\"fill: #ffffff\"/>\n    </g>\n    <g clip-path=\"url(#p32c297f63c)\">\n     <use xlink:href=\"#C0_0_dcc0ad3099\" x=\"98.632101\" y=\"294.83547\" style=\"fill: #ffffff\"/>\n    </g>\n    <g clip-path=\"url(#p32c297f63c)\">\n     <use xlink:href=\"#C0_0_dcc0ad3099\" x=\"105.48301\" y=\"425.526379\" style=\"fill: #ffffff\"/>\n    </g>\n    <g clip-path=\"url(#p32c297f63c)\">\n     <use xlink:href=\"#C0_0_dcc0ad3099\" x=\"105.48301\" y=\"413.645387\" style=\"fill: #f7f7f7\"/>\n    </g>\n    <g clip-path=\"url(#p32c297f63c)\">\n     <use xlink:href=\"#C0_0_dcc0ad3099\" x=\"105.48301\" y=\"401.764396\" style=\"fill: #cfcfcf\"/>\n    </g>\n    <g clip-path=\"url(#p32c297f63c)\">\n     <use xlink:href=\"#C0_0_dcc0ad3099\" x=\"105.48301\" y=\"389.883404\" style=\"fill: #d9d9d9\"/>\n    </g>\n    <g clip-path=\"url(#p32c297f63c)\">\n     <use xlink:href=\"#C0_0_dcc0ad3099\" x=\"105.48301\" y=\"378.002412\" style=\"fill: #cfcfcf\"/>\n    </g>\n    <g clip-path=\"url(#p32c297f63c)\">\n     <use xlink:href=\"#C0_0_dcc0ad3099\" x=\"105.48301\" y=\"366.12142\" style=\"fill: #bfbfbf\"/>\n    </g>\n    <g clip-path=\"url(#p32c297f63c)\">\n     <use xlink:href=\"#C0_0_dcc0ad3099\" x=\"105.48301\" y=\"354.240429\" style=\"fill: #e1e1e1\"/>\n    </g>\n    <g clip-path=\"url(#p32c297f63c)\">\n     <use xlink:href=\"#C0_0_dcc0ad3099\" x=\"105.48301\" y=\"342.359437\" style=\"fill: #d9d9d9\"/>\n    </g>\n    <g clip-path=\"url(#p32c297f63c)\">\n     <use xlink:href=\"#C0_0_dcc0ad3099\" x=\"105.48301\" y=\"330.478445\" style=\"fill: #d9d9d9\"/>\n    </g>\n    <g clip-path=\"url(#p32c297f63c)\">\n     <use xlink:href=\"#C0_0_dcc0ad3099\" x=\"105.48301\" y=\"318.597453\" style=\"fill: #f4f4f4\"/>\n    </g>\n    <g clip-path=\"url(#p32c297f63c)\">\n     <use xlink:href=\"#C0_0_dcc0ad3099\" x=\"105.48301\" y=\"306.716462\" style=\"fill: #ffffff\"/>\n    </g>\n    <g clip-path=\"url(#p32c297f63c)\">\n     <use xlink:href=\"#C0_0_dcc0ad3099\" x=\"105.48301\" y=\"294.83547\" style=\"fill: #ffffff\"/>\n    </g>\n    <g clip-path=\"url(#p32c297f63c)\">\n     <use xlink:href=\"#C0_0_dcc0ad3099\" x=\"112.333919\" y=\"425.526379\" style=\"fill: #ffffff\"/>\n    </g>\n    <g clip-path=\"url(#p32c297f63c)\">\n     <use xlink:href=\"#C0_0_dcc0ad3099\" x=\"112.333919\" y=\"413.645387\" style=\"fill: #e6e6e6\"/>\n    </g>\n    <g clip-path=\"url(#p32c297f63c)\">\n     <use xlink:href=\"#C0_0_dcc0ad3099\" x=\"112.333919\" y=\"401.764396\" style=\"fill: #b3b3b3\"/>\n    </g>\n    <g clip-path=\"url(#p32c297f63c)\">\n     <use xlink:href=\"#C0_0_dcc0ad3099\" x=\"112.333919\" y=\"389.883404\" style=\"fill: #d4d4d4\"/>\n    </g>\n    <g clip-path=\"url(#p32c297f63c)\">\n     <use xlink:href=\"#C0_0_dcc0ad3099\" x=\"112.333919\" y=\"378.002412\" style=\"fill: #838383\"/>\n    </g>\n    <g clip-path=\"url(#p32c297f63c)\">\n     <use xlink:href=\"#C0_0_dcc0ad3099\" x=\"112.333919\" y=\"366.12142\" style=\"fill: #bababa\"/>\n    </g>\n    <g clip-path=\"url(#p32c297f63c)\">\n     <use xlink:href=\"#C0_0_dcc0ad3099\" x=\"112.333919\" y=\"354.240429\" style=\"fill: #cacaca\"/>\n    </g>\n    <g clip-path=\"url(#p32c297f63c)\">\n     <use xlink:href=\"#C0_0_dcc0ad3099\" x=\"112.333919\" y=\"342.359437\" style=\"fill: #959595\"/>\n    </g>\n    <g clip-path=\"url(#p32c297f63c)\">\n     <use xlink:href=\"#C0_0_dcc0ad3099\" x=\"112.333919\" y=\"330.478445\" style=\"fill: #bfbfbf\"/>\n    </g>\n    <g clip-path=\"url(#p32c297f63c)\">\n     <use xlink:href=\"#C0_0_dcc0ad3099\" x=\"112.333919\" y=\"318.597453\" style=\"fill: #ffffff\"/>\n    </g>\n    <g clip-path=\"url(#p32c297f63c)\">\n     <use xlink:href=\"#C0_0_dcc0ad3099\" x=\"112.333919\" y=\"306.716462\" style=\"fill: #ffffff\"/>\n    </g>\n    <g clip-path=\"url(#p32c297f63c)\">\n     <use xlink:href=\"#C0_0_dcc0ad3099\" x=\"112.333919\" y=\"294.83547\" style=\"fill: #ffffff\"/>\n    </g>\n    <g clip-path=\"url(#p32c297f63c)\">\n     <use xlink:href=\"#C0_0_dcc0ad3099\" x=\"119.184828\" y=\"425.526379\" style=\"fill: #ffffff\"/>\n    </g>\n    <g clip-path=\"url(#p32c297f63c)\">\n     <use xlink:href=\"#C0_0_dcc0ad3099\" x=\"119.184828\" y=\"413.645387\" style=\"fill: #ffffff\"/>\n    </g>\n    <g clip-path=\"url(#p32c297f63c)\">\n     <use xlink:href=\"#C0_0_dcc0ad3099\" x=\"119.184828\" y=\"401.764396\" style=\"fill: #707070\"/>\n    </g>\n    <g clip-path=\"url(#p32c297f63c)\">\n     <use xlink:href=\"#C0_0_dcc0ad3099\" x=\"119.184828\" y=\"389.883404\" style=\"fill: #b3b3b3\"/>\n    </g>\n    <g clip-path=\"url(#p32c297f63c)\">\n     <use xlink:href=\"#C0_0_dcc0ad3099\" x=\"119.184828\" y=\"378.002412\" style=\"fill: #6a6a6a\"/>\n    </g>\n    <g clip-path=\"url(#p32c297f63c)\">\n     <use xlink:href=\"#C0_0_dcc0ad3099\" x=\"119.184828\" y=\"366.12142\" style=\"fill: #6a6a6a\"/>\n    </g>\n    <g clip-path=\"url(#p32c297f63c)\">\n     <use xlink:href=\"#C0_0_dcc0ad3099\" x=\"119.184828\" y=\"354.240429\" style=\"fill: #dddddd\"/>\n    </g>\n    <g clip-path=\"url(#p32c297f63c)\">\n     <use xlink:href=\"#C0_0_dcc0ad3099\" x=\"119.184828\" y=\"342.359437\" style=\"fill: #cfcfcf\"/>\n    </g>\n    <g clip-path=\"url(#p32c297f63c)\">\n     <use xlink:href=\"#C0_0_dcc0ad3099\" x=\"119.184828\" y=\"330.478445\" style=\"fill: #eeeeee\"/>\n    </g>\n    <g clip-path=\"url(#p32c297f63c)\">\n     <use xlink:href=\"#C0_0_dcc0ad3099\" x=\"119.184828\" y=\"318.597453\" style=\"fill: #ffffff\"/>\n    </g>\n    <g clip-path=\"url(#p32c297f63c)\">\n     <use xlink:href=\"#C0_0_dcc0ad3099\" x=\"119.184828\" y=\"306.716462\" style=\"fill: #ffffff\"/>\n    </g>\n    <g clip-path=\"url(#p32c297f63c)\">\n     <use xlink:href=\"#C0_0_dcc0ad3099\" x=\"119.184828\" y=\"294.83547\" style=\"fill: #ffffff\"/>\n    </g>\n    <g clip-path=\"url(#p32c297f63c)\">\n     <use xlink:href=\"#C0_0_dcc0ad3099\" x=\"126.035738\" y=\"425.526379\" style=\"fill: #ffffff\"/>\n    </g>\n    <g clip-path=\"url(#p32c297f63c)\">\n     <use xlink:href=\"#C0_0_dcc0ad3099\" x=\"126.035738\" y=\"413.645387\" style=\"fill: #eeeeee\"/>\n    </g>\n    <g clip-path=\"url(#p32c297f63c)\">\n     <use xlink:href=\"#C0_0_dcc0ad3099\" x=\"126.035738\" y=\"401.764396\" style=\"fill: #d9d9d9\"/>\n    </g>\n    <g clip-path=\"url(#p32c297f63c)\">\n     <use xlink:href=\"#C0_0_dcc0ad3099\" x=\"126.035738\" y=\"389.883404\" style=\"fill: #7c7c7c\"/>\n    </g>\n    <g clip-path=\"url(#p32c297f63c)\">\n     <use xlink:href=\"#C0_0_dcc0ad3099\" x=\"126.035738\" y=\"378.002412\" style=\"fill: #a4a4a4\"/>\n    </g>\n    <g clip-path=\"url(#p32c297f63c)\">\n     <use xlink:href=\"#C0_0_dcc0ad3099\" x=\"126.035738\" y=\"366.12142\" style=\"fill: #414141\"/>\n    </g>\n    <g clip-path=\"url(#p32c297f63c)\">\n     <use xlink:href=\"#C0_0_dcc0ad3099\" x=\"126.035738\" y=\"354.240429\" style=\"fill: #b3b3b3\"/>\n    </g>\n    <g clip-path=\"url(#p32c297f63c)\">\n     <use xlink:href=\"#C0_0_dcc0ad3099\" x=\"126.035738\" y=\"342.359437\" style=\"fill: #dddddd\"/>\n    </g>\n    <g clip-path=\"url(#p32c297f63c)\">\n     <use xlink:href=\"#C0_0_dcc0ad3099\" x=\"126.035738\" y=\"330.478445\" style=\"fill: #eaeaea\"/>\n    </g>\n    <g clip-path=\"url(#p32c297f63c)\">\n     <use xlink:href=\"#C0_0_dcc0ad3099\" x=\"126.035738\" y=\"318.597453\" style=\"fill: #ffffff\"/>\n    </g>\n    <g clip-path=\"url(#p32c297f63c)\">\n     <use xlink:href=\"#C0_0_dcc0ad3099\" x=\"126.035738\" y=\"306.716462\" style=\"fill: #ffffff\"/>\n    </g>\n    <g clip-path=\"url(#p32c297f63c)\">\n     <use xlink:href=\"#C0_0_dcc0ad3099\" x=\"126.035738\" y=\"294.83547\" style=\"fill: #ffffff\"/>\n    </g>\n    <g clip-path=\"url(#p32c297f63c)\">\n     <use xlink:href=\"#C0_0_dcc0ad3099\" x=\"132.886647\" y=\"425.526379\" style=\"fill: #ffffff\"/>\n    </g>\n    <g clip-path=\"url(#p32c297f63c)\">\n     <use xlink:href=\"#C0_0_dcc0ad3099\" x=\"132.886647\" y=\"413.645387\" style=\"fill: #ffffff\"/>\n    </g>\n    <g clip-path=\"url(#p32c297f63c)\">\n     <use xlink:href=\"#C0_0_dcc0ad3099\" x=\"132.886647\" y=\"401.764396\" style=\"fill: #eaeaea\"/>\n    </g>\n    <g clip-path=\"url(#p32c297f63c)\">\n     <use xlink:href=\"#C0_0_dcc0ad3099\" x=\"132.886647\" y=\"389.883404\" style=\"fill: #5e5e5e\"/>\n    </g>\n    <g clip-path=\"url(#p32c297f63c)\">\n     <use xlink:href=\"#C0_0_dcc0ad3099\" x=\"132.886647\" y=\"378.002412\" style=\"fill: #707070\"/>\n    </g>\n    <g clip-path=\"url(#p32c297f63c)\">\n     <use xlink:href=\"#C0_0_dcc0ad3099\" x=\"132.886647\" y=\"366.12142\" style=\"fill: #bababa\"/>\n    </g>\n    <g clip-path=\"url(#p32c297f63c)\">\n     <use xlink:href=\"#C0_0_dcc0ad3099\" x=\"132.886647\" y=\"354.240429\" style=\"fill: #898989\"/>\n    </g>\n    <g clip-path=\"url(#p32c297f63c)\">\n     <use xlink:href=\"#C0_0_dcc0ad3099\" x=\"132.886647\" y=\"342.359437\" style=\"fill: #767676\"/>\n    </g>\n    <g clip-path=\"url(#p32c297f63c)\">\n     <use xlink:href=\"#C0_0_dcc0ad3099\" x=\"132.886647\" y=\"330.478445\" style=\"fill: #eeeeee\"/>\n    </g>\n    <g clip-path=\"url(#p32c297f63c)\">\n     <use xlink:href=\"#C0_0_dcc0ad3099\" x=\"132.886647\" y=\"318.597453\" style=\"fill: #ffffff\"/>\n    </g>\n    <g clip-path=\"url(#p32c297f63c)\">\n     <use xlink:href=\"#C0_0_dcc0ad3099\" x=\"132.886647\" y=\"306.716462\" style=\"fill: #ffffff\"/>\n    </g>\n    <g clip-path=\"url(#p32c297f63c)\">\n     <use xlink:href=\"#C0_0_dcc0ad3099\" x=\"132.886647\" y=\"294.83547\" style=\"fill: #ffffff\"/>\n    </g>\n    <g clip-path=\"url(#p32c297f63c)\">\n     <use xlink:href=\"#C0_0_dcc0ad3099\" x=\"139.737556\" y=\"425.526379\" style=\"fill: #ffffff\"/>\n    </g>\n    <g clip-path=\"url(#p32c297f63c)\">\n     <use xlink:href=\"#C0_0_dcc0ad3099\" x=\"139.737556\" y=\"413.645387\" style=\"fill: #ffffff\"/>\n    </g>\n    <g clip-path=\"url(#p32c297f63c)\">\n     <use xlink:href=\"#C0_0_dcc0ad3099\" x=\"139.737556\" y=\"401.764396\" style=\"fill: #dddddd\"/>\n    </g>\n    <g clip-path=\"url(#p32c297f63c)\">\n     <use xlink:href=\"#C0_0_dcc0ad3099\" x=\"139.737556\" y=\"389.883404\" style=\"fill: #d9d9d9\"/>\n    </g>\n    <g clip-path=\"url(#p32c297f63c)\">\n     <use xlink:href=\"#C0_0_dcc0ad3099\" x=\"139.737556\" y=\"378.002412\" style=\"fill: #eaeaea\"/>\n    </g>\n    <g clip-path=\"url(#p32c297f63c)\">\n     <use xlink:href=\"#C0_0_dcc0ad3099\" x=\"139.737556\" y=\"366.12142\" style=\"fill: #f7f7f7\"/>\n    </g>\n    <g clip-path=\"url(#p32c297f63c)\">\n     <use xlink:href=\"#C0_0_dcc0ad3099\" x=\"139.737556\" y=\"354.240429\" style=\"fill: #fafafa\"/>\n    </g>\n    <g clip-path=\"url(#p32c297f63c)\">\n     <use xlink:href=\"#C0_0_dcc0ad3099\" x=\"139.737556\" y=\"342.359437\" style=\"fill: #c5c5c5\"/>\n    </g>\n    <g clip-path=\"url(#p32c297f63c)\">\n     <use xlink:href=\"#C0_0_dcc0ad3099\" x=\"139.737556\" y=\"330.478445\" style=\"fill: #959595\"/>\n    </g>\n    <g clip-path=\"url(#p32c297f63c)\">\n     <use xlink:href=\"#C0_0_dcc0ad3099\" x=\"139.737556\" y=\"318.597453\" style=\"fill: #ffffff\"/>\n    </g>\n    <g clip-path=\"url(#p32c297f63c)\">\n     <use xlink:href=\"#C0_0_dcc0ad3099\" x=\"139.737556\" y=\"306.716462\" style=\"fill: #ffffff\"/>\n    </g>\n    <g clip-path=\"url(#p32c297f63c)\">\n     <use xlink:href=\"#C0_0_dcc0ad3099\" x=\"139.737556\" y=\"294.83547\" style=\"fill: #ffffff\"/>\n    </g>\n    <g clip-path=\"url(#p32c297f63c)\">\n     <use xlink:href=\"#C0_0_dcc0ad3099\" x=\"146.588465\" y=\"425.526379\" style=\"fill: #ffffff\"/>\n    </g>\n    <g clip-path=\"url(#p32c297f63c)\">\n     <use xlink:href=\"#C0_0_dcc0ad3099\" x=\"146.588465\" y=\"413.645387\" style=\"fill: #ffffff\"/>\n    </g>\n    <g clip-path=\"url(#p32c297f63c)\">\n     <use xlink:href=\"#C0_0_dcc0ad3099\" x=\"146.588465\" y=\"401.764396\" style=\"fill: #ffffff\"/>\n    </g>\n    <g clip-path=\"url(#p32c297f63c)\">\n     <use xlink:href=\"#C0_0_dcc0ad3099\" x=\"146.588465\" y=\"389.883404\" style=\"fill: #c5c5c5\"/>\n    </g>\n    <g clip-path=\"url(#p32c297f63c)\">\n     <use xlink:href=\"#C0_0_dcc0ad3099\" x=\"146.588465\" y=\"378.002412\" style=\"fill: #f7f7f7\"/>\n    </g>\n    <g clip-path=\"url(#p32c297f63c)\">\n     <use xlink:href=\"#C0_0_dcc0ad3099\" x=\"146.588465\" y=\"366.12142\" style=\"fill: #ffffff\"/>\n    </g>\n    <g clip-path=\"url(#p32c297f63c)\">\n     <use xlink:href=\"#C0_0_dcc0ad3099\" x=\"146.588465\" y=\"354.240429\" style=\"fill: #ffffff\"/>\n    </g>\n    <g clip-path=\"url(#p32c297f63c)\">\n     <use xlink:href=\"#C0_0_dcc0ad3099\" x=\"146.588465\" y=\"342.359437\" style=\"fill: #ffffff\"/>\n    </g>\n    <g clip-path=\"url(#p32c297f63c)\">\n     <use xlink:href=\"#C0_0_dcc0ad3099\" x=\"146.588465\" y=\"330.478445\" style=\"fill: #ffffff\"/>\n    </g>\n    <g clip-path=\"url(#p32c297f63c)\">\n     <use xlink:href=\"#C0_0_dcc0ad3099\" x=\"146.588465\" y=\"318.597453\" style=\"fill: #ffffff\"/>\n    </g>\n    <g clip-path=\"url(#p32c297f63c)\">\n     <use xlink:href=\"#C0_0_dcc0ad3099\" x=\"146.588465\" y=\"306.716462\" style=\"fill: #ffffff\"/>\n    </g>\n    <g clip-path=\"url(#p32c297f63c)\">\n     <use xlink:href=\"#C0_0_dcc0ad3099\" x=\"146.588465\" y=\"294.83547\" style=\"fill: #ffffff\"/>\n    </g>\n    <g clip-path=\"url(#p32c297f63c)\">\n     <use xlink:href=\"#C0_0_dcc0ad3099\" x=\"153.439374\" y=\"425.526379\" style=\"fill: #ffffff\"/>\n    </g>\n    <g clip-path=\"url(#p32c297f63c)\">\n     <use xlink:href=\"#C0_0_dcc0ad3099\" x=\"153.439374\" y=\"413.645387\" style=\"fill: #ffffff\"/>\n    </g>\n    <g clip-path=\"url(#p32c297f63c)\">\n     <use xlink:href=\"#C0_0_dcc0ad3099\" x=\"153.439374\" y=\"401.764396\" style=\"fill: #ffffff\"/>\n    </g>\n    <g clip-path=\"url(#p32c297f63c)\">\n     <use xlink:href=\"#C0_0_dcc0ad3099\" x=\"153.439374\" y=\"389.883404\" style=\"fill: #e6e6e6\"/>\n    </g>\n    <g clip-path=\"url(#p32c297f63c)\">\n     <use xlink:href=\"#C0_0_dcc0ad3099\" x=\"153.439374\" y=\"378.002412\" style=\"fill: #ffffff\"/>\n    </g>\n    <g clip-path=\"url(#p32c297f63c)\">\n     <use xlink:href=\"#C0_0_dcc0ad3099\" x=\"153.439374\" y=\"366.12142\" style=\"fill: #ffffff\"/>\n    </g>\n    <g clip-path=\"url(#p32c297f63c)\">\n     <use xlink:href=\"#C0_0_dcc0ad3099\" x=\"153.439374\" y=\"354.240429\" style=\"fill: #ffffff\"/>\n    </g>\n    <g clip-path=\"url(#p32c297f63c)\">\n     <use xlink:href=\"#C0_0_dcc0ad3099\" x=\"153.439374\" y=\"342.359437\" style=\"fill: #ffffff\"/>\n    </g>\n    <g clip-path=\"url(#p32c297f63c)\">\n     <use xlink:href=\"#C0_0_dcc0ad3099\" x=\"153.439374\" y=\"330.478445\" style=\"fill: #ffffff\"/>\n    </g>\n    <g clip-path=\"url(#p32c297f63c)\">\n     <use xlink:href=\"#C0_0_dcc0ad3099\" x=\"153.439374\" y=\"318.597453\" style=\"fill: #ffffff\"/>\n    </g>\n    <g clip-path=\"url(#p32c297f63c)\">\n     <use xlink:href=\"#C0_0_dcc0ad3099\" x=\"153.439374\" y=\"306.716462\" style=\"fill: #ffffff\"/>\n    </g>\n    <g clip-path=\"url(#p32c297f63c)\">\n     <use xlink:href=\"#C0_0_dcc0ad3099\" x=\"153.439374\" y=\"294.83547\" style=\"fill: #ffffff\"/>\n    </g>\n    <g clip-path=\"url(#p32c297f63c)\">\n     <use xlink:href=\"#C0_0_dcc0ad3099\" x=\"19.846647\" y=\"419.585883\" style=\"fill: #ffffff\"/>\n    </g>\n    <g clip-path=\"url(#p32c297f63c)\">\n     <use xlink:href=\"#C0_0_dcc0ad3099\" x=\"19.846647\" y=\"407.704891\" style=\"fill: #cacaca\"/>\n    </g>\n    <g clip-path=\"url(#p32c297f63c)\">\n     <use xlink:href=\"#C0_0_dcc0ad3099\" x=\"19.846647\" y=\"395.8239\" style=\"fill: #ffffff\"/>\n    </g>\n    <g clip-path=\"url(#p32c297f63c)\">\n     <use xlink:href=\"#C0_0_dcc0ad3099\" x=\"19.846647\" y=\"383.942908\" style=\"fill: #eeeeee\"/>\n    </g>\n    <g clip-path=\"url(#p32c297f63c)\">\n     <use xlink:href=\"#C0_0_dcc0ad3099\" x=\"19.846647\" y=\"372.061916\" style=\"fill: #e6e6e6\"/>\n    </g>\n    <g clip-path=\"url(#p32c297f63c)\">\n     <use xlink:href=\"#C0_0_dcc0ad3099\" x=\"19.846647\" y=\"360.180924\" style=\"fill: #959595\"/>\n    </g>\n    <g clip-path=\"url(#p32c297f63c)\">\n     <use xlink:href=\"#C0_0_dcc0ad3099\" x=\"19.846647\" y=\"348.299933\" style=\"fill: #f7f7f7\"/>\n    </g>\n    <g clip-path=\"url(#p32c297f63c)\">\n     <use xlink:href=\"#C0_0_dcc0ad3099\" x=\"19.846647\" y=\"336.418941\" style=\"fill: #eeeeee\"/>\n    </g>\n    <g clip-path=\"url(#p32c297f63c)\">\n     <use xlink:href=\"#C0_0_dcc0ad3099\" x=\"19.846647\" y=\"324.537949\" style=\"fill: #ffffff\"/>\n    </g>\n    <g clip-path=\"url(#p32c297f63c)\">\n     <use xlink:href=\"#C0_0_dcc0ad3099\" x=\"19.846647\" y=\"312.656958\" style=\"fill: #ffffff\"/>\n    </g>\n    <g clip-path=\"url(#p32c297f63c)\">\n     <use xlink:href=\"#C0_0_dcc0ad3099\" x=\"19.846647\" y=\"300.775966\" style=\"fill: #ffffff\"/>\n    </g>\n    <g clip-path=\"url(#p32c297f63c)\">\n     <use xlink:href=\"#C0_0_dcc0ad3099\" x=\"26.697556\" y=\"419.585883\" style=\"fill: #ffffff\"/>\n    </g>\n    <g clip-path=\"url(#p32c297f63c)\">\n     <use xlink:href=\"#C0_0_dcc0ad3099\" x=\"26.697556\" y=\"407.704891\" style=\"fill: #f4f4f4\"/>\n    </g>\n    <g clip-path=\"url(#p32c297f63c)\">\n     <use xlink:href=\"#C0_0_dcc0ad3099\" x=\"26.697556\" y=\"395.8239\" style=\"fill: #f4f4f4\"/>\n    </g>\n    <g clip-path=\"url(#p32c297f63c)\">\n     <use xlink:href=\"#C0_0_dcc0ad3099\" x=\"26.697556\" y=\"383.942908\" style=\"fill: #f7f7f7\"/>\n    </g>\n    <g clip-path=\"url(#p32c297f63c)\">\n     <use xlink:href=\"#C0_0_dcc0ad3099\" x=\"26.697556\" y=\"372.061916\" style=\"fill: #7c7c7c\"/>\n    </g>\n    <g clip-path=\"url(#p32c297f63c)\">\n     <use xlink:href=\"#C0_0_dcc0ad3099\" x=\"26.697556\" y=\"360.180924\" style=\"fill: #959595\"/>\n    </g>\n    <g clip-path=\"url(#p32c297f63c)\">\n     <use xlink:href=\"#C0_0_dcc0ad3099\" x=\"26.697556\" y=\"348.299933\"/>\n    </g>\n    <g clip-path=\"url(#p32c297f63c)\">\n     <use xlink:href=\"#C0_0_dcc0ad3099\" x=\"26.697556\" y=\"336.418941\" style=\"fill: #ffffff\"/>\n    </g>\n    <g clip-path=\"url(#p32c297f63c)\">\n     <use xlink:href=\"#C0_0_dcc0ad3099\" x=\"26.697556\" y=\"324.537949\" style=\"fill: #ffffff\"/>\n    </g>\n    <g clip-path=\"url(#p32c297f63c)\">\n     <use xlink:href=\"#C0_0_dcc0ad3099\" x=\"26.697556\" y=\"312.656958\" style=\"fill: #ffffff\"/>\n    </g>\n    <g clip-path=\"url(#p32c297f63c)\">\n     <use xlink:href=\"#C0_0_dcc0ad3099\" x=\"26.697556\" y=\"300.775966\" style=\"fill: #ffffff\"/>\n    </g>\n    <g clip-path=\"url(#p32c297f63c)\">\n     <use xlink:href=\"#C0_0_dcc0ad3099\" x=\"33.548465\" y=\"419.585883\" style=\"fill: #ffffff\"/>\n    </g>\n    <g clip-path=\"url(#p32c297f63c)\">\n     <use xlink:href=\"#C0_0_dcc0ad3099\" x=\"33.548465\" y=\"407.704891\" style=\"fill: #ffffff\"/>\n    </g>\n    <g clip-path=\"url(#p32c297f63c)\">\n     <use xlink:href=\"#C0_0_dcc0ad3099\" x=\"33.548465\" y=\"395.8239\" style=\"fill: #f4f4f4\"/>\n    </g>\n    <g clip-path=\"url(#p32c297f63c)\">\n     <use xlink:href=\"#C0_0_dcc0ad3099\" x=\"33.548465\" y=\"383.942908\" style=\"fill: #f1f1f1\"/>\n    </g>\n    <g clip-path=\"url(#p32c297f63c)\">\n     <use xlink:href=\"#C0_0_dcc0ad3099\" x=\"33.548465\" y=\"372.061916\" style=\"fill: #838383\"/>\n    </g>\n    <g clip-path=\"url(#p32c297f63c)\">\n     <use xlink:href=\"#C0_0_dcc0ad3099\" x=\"33.548465\" y=\"360.180924\" style=\"fill: #bababa\"/>\n    </g>\n    <g clip-path=\"url(#p32c297f63c)\">\n     <use xlink:href=\"#C0_0_dcc0ad3099\" x=\"33.548465\" y=\"348.299933\" style=\"fill: #cacaca\"/>\n    </g>\n    <g clip-path=\"url(#p32c297f63c)\">\n     <use xlink:href=\"#C0_0_dcc0ad3099\" x=\"33.548465\" y=\"336.418941\" style=\"fill: #909090\"/>\n    </g>\n    <g clip-path=\"url(#p32c297f63c)\">\n     <use xlink:href=\"#C0_0_dcc0ad3099\" x=\"33.548465\" y=\"324.537949\" style=\"fill: #ffffff\"/>\n    </g>\n    <g clip-path=\"url(#p32c297f63c)\">\n     <use xlink:href=\"#C0_0_dcc0ad3099\" x=\"33.548465\" y=\"312.656958\" style=\"fill: #ffffff\"/>\n    </g>\n    <g clip-path=\"url(#p32c297f63c)\">\n     <use xlink:href=\"#C0_0_dcc0ad3099\" x=\"33.548465\" y=\"300.775966\" style=\"fill: #ffffff\"/>\n    </g>\n    <g clip-path=\"url(#p32c297f63c)\">\n     <use xlink:href=\"#C0_0_dcc0ad3099\" x=\"40.399374\" y=\"419.585883\" style=\"fill: #ffffff\"/>\n    </g>\n    <g clip-path=\"url(#p32c297f63c)\">\n     <use xlink:href=\"#C0_0_dcc0ad3099\" x=\"40.399374\" y=\"407.704891\" style=\"fill: #ffffff\"/>\n    </g>\n    <g clip-path=\"url(#p32c297f63c)\">\n     <use xlink:href=\"#C0_0_dcc0ad3099\" x=\"40.399374\" y=\"395.8239\" style=\"fill: #e1e1e1\"/>\n    </g>\n    <g clip-path=\"url(#p32c297f63c)\">\n     <use xlink:href=\"#C0_0_dcc0ad3099\" x=\"40.399374\" y=\"383.942908\" style=\"fill: #e1e1e1\"/>\n    </g>\n    <g clip-path=\"url(#p32c297f63c)\">\n     <use xlink:href=\"#C0_0_dcc0ad3099\" x=\"40.399374\" y=\"372.061916\" style=\"fill: #ababab\"/>\n    </g>\n    <g clip-path=\"url(#p32c297f63c)\">\n     <use xlink:href=\"#C0_0_dcc0ad3099\" x=\"40.399374\" y=\"360.180924\" style=\"fill: #e1e1e1\"/>\n    </g>\n    <g clip-path=\"url(#p32c297f63c)\">\n     <use xlink:href=\"#C0_0_dcc0ad3099\" x=\"40.399374\" y=\"348.299933\" style=\"fill: #9d9d9d\"/>\n    </g>\n    <g clip-path=\"url(#p32c297f63c)\">\n     <use xlink:href=\"#C0_0_dcc0ad3099\" x=\"40.399374\" y=\"336.418941\" style=\"fill: #767676\"/>\n    </g>\n    <g clip-path=\"url(#p32c297f63c)\">\n     <use xlink:href=\"#C0_0_dcc0ad3099\" x=\"40.399374\" y=\"324.537949\" style=\"fill: #f7f7f7\"/>\n    </g>\n    <g clip-path=\"url(#p32c297f63c)\">\n     <use xlink:href=\"#C0_0_dcc0ad3099\" x=\"40.399374\" y=\"312.656958\" style=\"fill: #fdfdfd\"/>\n    </g>\n    <g clip-path=\"url(#p32c297f63c)\">\n     <use xlink:href=\"#C0_0_dcc0ad3099\" x=\"40.399374\" y=\"300.775966\" style=\"fill: #fdfdfd\"/>\n    </g>\n    <g clip-path=\"url(#p32c297f63c)\">\n     <use xlink:href=\"#C0_0_dcc0ad3099\" x=\"47.250283\" y=\"419.585883\" style=\"fill: #ffffff\"/>\n    </g>\n    <g clip-path=\"url(#p32c297f63c)\">\n     <use xlink:href=\"#C0_0_dcc0ad3099\" x=\"47.250283\" y=\"407.704891\" style=\"fill: #ffffff\"/>\n    </g>\n    <g clip-path=\"url(#p32c297f63c)\">\n     <use xlink:href=\"#C0_0_dcc0ad3099\" x=\"47.250283\" y=\"395.8239\" style=\"fill: #eaeaea\"/>\n    </g>\n    <g clip-path=\"url(#p32c297f63c)\">\n     <use xlink:href=\"#C0_0_dcc0ad3099\" x=\"47.250283\" y=\"383.942908\" style=\"fill: #b3b3b3\"/>\n    </g>\n    <g clip-path=\"url(#p32c297f63c)\">\n     <use xlink:href=\"#C0_0_dcc0ad3099\" x=\"47.250283\" y=\"372.061916\" style=\"fill: #575757\"/>\n    </g>\n    <g clip-path=\"url(#p32c297f63c)\">\n     <use xlink:href=\"#C0_0_dcc0ad3099\" x=\"47.250283\" y=\"360.180924\" style=\"fill: #b3b3b3\"/>\n    </g>\n    <g clip-path=\"url(#p32c297f63c)\">\n     <use xlink:href=\"#C0_0_dcc0ad3099\" x=\"47.250283\" y=\"348.299933\" style=\"fill: #e1e1e1\"/>\n    </g>\n    <g clip-path=\"url(#p32c297f63c)\">\n     <use xlink:href=\"#C0_0_dcc0ad3099\" x=\"47.250283\" y=\"336.418941\" style=\"fill: #ababab\"/>\n    </g>\n    <g clip-path=\"url(#p32c297f63c)\">\n     <use xlink:href=\"#C0_0_dcc0ad3099\" x=\"47.250283\" y=\"324.537949\" style=\"fill: #eaeaea\"/>\n    </g>\n    <g clip-path=\"url(#p32c297f63c)\">\n     <use xlink:href=\"#C0_0_dcc0ad3099\" x=\"47.250283\" y=\"312.656958\" style=\"fill: #f1f1f1\"/>\n    </g>\n    <g clip-path=\"url(#p32c297f63c)\">\n     <use xlink:href=\"#C0_0_dcc0ad3099\" x=\"47.250283\" y=\"300.775966\" style=\"fill: #fdfdfd\"/>\n    </g>\n    <g clip-path=\"url(#p32c297f63c)\">\n     <use xlink:href=\"#C0_0_dcc0ad3099\" x=\"54.101192\" y=\"419.585883\" style=\"fill: #e6e6e6\"/>\n    </g>\n    <g clip-path=\"url(#p32c297f63c)\">\n     <use xlink:href=\"#C0_0_dcc0ad3099\" x=\"54.101192\" y=\"407.704891\" style=\"fill: #e6e6e6\"/>\n    </g>\n    <g clip-path=\"url(#p32c297f63c)\">\n     <use xlink:href=\"#C0_0_dcc0ad3099\" x=\"54.101192\" y=\"395.8239\" style=\"fill: #898989\"/>\n    </g>\n    <g clip-path=\"url(#p32c297f63c)\">\n     <use xlink:href=\"#C0_0_dcc0ad3099\" x=\"54.101192\" y=\"383.942908\" style=\"fill: #9d9d9d\"/>\n    </g>\n    <g clip-path=\"url(#p32c297f63c)\">\n     <use xlink:href=\"#C0_0_dcc0ad3099\" x=\"54.101192\" y=\"372.061916\" style=\"fill: #909090\"/>\n    </g>\n    <g clip-path=\"url(#p32c297f63c)\">\n     <use xlink:href=\"#C0_0_dcc0ad3099\" x=\"54.101192\" y=\"360.180924\" style=\"fill: #bababa\"/>\n    </g>\n    <g clip-path=\"url(#p32c297f63c)\">\n     <use xlink:href=\"#C0_0_dcc0ad3099\" x=\"54.101192\" y=\"348.299933\" style=\"fill: #959595\"/>\n    </g>\n    <g clip-path=\"url(#p32c297f63c)\">\n     <use xlink:href=\"#C0_0_dcc0ad3099\" x=\"54.101192\" y=\"336.418941\" style=\"fill: #cfcfcf\"/>\n    </g>\n    <g clip-path=\"url(#p32c297f63c)\">\n     <use xlink:href=\"#C0_0_dcc0ad3099\" x=\"54.101192\" y=\"324.537949\" style=\"fill: #bfbfbf\"/>\n    </g>\n    <g clip-path=\"url(#p32c297f63c)\">\n     <use xlink:href=\"#C0_0_dcc0ad3099\" x=\"54.101192\" y=\"312.656958\" style=\"fill: #eaeaea\"/>\n    </g>\n    <g clip-path=\"url(#p32c297f63c)\">\n     <use xlink:href=\"#C0_0_dcc0ad3099\" x=\"54.101192\" y=\"300.775966\" style=\"fill: #ffffff\"/>\n    </g>\n    <g clip-path=\"url(#p32c297f63c)\">\n     <use xlink:href=\"#C0_0_dcc0ad3099\" x=\"60.952101\" y=\"419.585883\" style=\"fill: #fdfdfd\"/>\n    </g>\n    <g clip-path=\"url(#p32c297f63c)\">\n     <use xlink:href=\"#C0_0_dcc0ad3099\" x=\"60.952101\" y=\"407.704891\" style=\"fill: #ababab\"/>\n    </g>\n    <g clip-path=\"url(#p32c297f63c)\">\n     <use xlink:href=\"#C0_0_dcc0ad3099\" x=\"60.952101\" y=\"395.8239\" style=\"fill: #a4a4a4\"/>\n    </g>\n    <g clip-path=\"url(#p32c297f63c)\">\n     <use xlink:href=\"#C0_0_dcc0ad3099\" x=\"60.952101\" y=\"383.942908\" style=\"fill: #575757\"/>\n    </g>\n    <g clip-path=\"url(#p32c297f63c)\">\n     <use xlink:href=\"#C0_0_dcc0ad3099\" x=\"60.952101\" y=\"372.061916\" style=\"fill: #4a4a4a\"/>\n    </g>\n    <g clip-path=\"url(#p32c297f63c)\">\n     <use xlink:href=\"#C0_0_dcc0ad3099\" x=\"60.952101\" y=\"360.180924\" style=\"fill: #9d9d9d\"/>\n    </g>\n    <g clip-path=\"url(#p32c297f63c)\">\n     <use xlink:href=\"#C0_0_dcc0ad3099\" x=\"60.952101\" y=\"348.299933\" style=\"fill: #6a6a6a\"/>\n    </g>\n    <g clip-path=\"url(#p32c297f63c)\">\n     <use xlink:href=\"#C0_0_dcc0ad3099\" x=\"60.952101\" y=\"336.418941\" style=\"fill: #898989\"/>\n    </g>\n    <g clip-path=\"url(#p32c297f63c)\">\n     <use xlink:href=\"#C0_0_dcc0ad3099\" x=\"60.952101\" y=\"324.537949\" style=\"fill: #9d9d9d\"/>\n    </g>\n    <g clip-path=\"url(#p32c297f63c)\">\n     <use xlink:href=\"#C0_0_dcc0ad3099\" x=\"60.952101\" y=\"312.656958\" style=\"fill: #ffffff\"/>\n    </g>\n    <g clip-path=\"url(#p32c297f63c)\">\n     <use xlink:href=\"#C0_0_dcc0ad3099\" x=\"60.952101\" y=\"300.775966\" style=\"fill: #ffffff\"/>\n    </g>\n    <g clip-path=\"url(#p32c297f63c)\">\n     <use xlink:href=\"#C0_0_dcc0ad3099\" x=\"67.80301\" y=\"419.585883\" style=\"fill: #ffffff\"/>\n    </g>\n    <g clip-path=\"url(#p32c297f63c)\">\n     <use xlink:href=\"#C0_0_dcc0ad3099\" x=\"67.80301\" y=\"407.704891\" style=\"fill: #6a6a6a\"/>\n    </g>\n    <g clip-path=\"url(#p32c297f63c)\">\n     <use xlink:href=\"#C0_0_dcc0ad3099\" x=\"67.80301\" y=\"395.8239\" style=\"fill: #5e5e5e\"/>\n    </g>\n    <g clip-path=\"url(#p32c297f63c)\">\n     <use xlink:href=\"#C0_0_dcc0ad3099\" x=\"67.80301\" y=\"383.942908\" style=\"fill: #838383\"/>\n    </g>\n    <g clip-path=\"url(#p32c297f63c)\">\n     <use xlink:href=\"#C0_0_dcc0ad3099\" x=\"67.80301\" y=\"372.061916\" style=\"fill: #bababa\"/>\n    </g>\n    <g clip-path=\"url(#p32c297f63c)\">\n     <use xlink:href=\"#C0_0_dcc0ad3099\" x=\"67.80301\" y=\"360.180924\" style=\"fill: #c5c5c5\"/>\n    </g>\n    <g clip-path=\"url(#p32c297f63c)\">\n     <use xlink:href=\"#C0_0_dcc0ad3099\" x=\"67.80301\" y=\"348.299933\" style=\"fill: #707070\"/>\n    </g>\n    <g clip-path=\"url(#p32c297f63c)\">\n     <use xlink:href=\"#C0_0_dcc0ad3099\" x=\"67.80301\" y=\"336.418941\" style=\"fill: #cacaca\"/>\n    </g>\n    <g clip-path=\"url(#p32c297f63c)\">\n     <use xlink:href=\"#C0_0_dcc0ad3099\" x=\"67.80301\" y=\"324.537949\" style=\"fill: #bfbfbf\"/>\n    </g>\n    <g clip-path=\"url(#p32c297f63c)\">\n     <use xlink:href=\"#C0_0_dcc0ad3099\" x=\"67.80301\" y=\"312.656958\" style=\"fill: #ffffff\"/>\n    </g>\n    <g clip-path=\"url(#p32c297f63c)\">\n     <use xlink:href=\"#C0_0_dcc0ad3099\" x=\"67.80301\" y=\"300.775966\" style=\"fill: #ffffff\"/>\n    </g>\n    <g clip-path=\"url(#p32c297f63c)\">\n     <use xlink:href=\"#C0_0_dcc0ad3099\" x=\"74.653919\" y=\"419.585883\" style=\"fill: #ffffff\"/>\n    </g>\n    <g clip-path=\"url(#p32c297f63c)\">\n     <use xlink:href=\"#C0_0_dcc0ad3099\" x=\"74.653919\" y=\"407.704891\" style=\"fill: #e6e6e6\"/>\n    </g>\n    <g clip-path=\"url(#p32c297f63c)\">\n     <use xlink:href=\"#C0_0_dcc0ad3099\" x=\"74.653919\" y=\"395.8239\" style=\"fill: #6a6a6a\"/>\n    </g>\n    <g clip-path=\"url(#p32c297f63c)\">\n     <use xlink:href=\"#C0_0_dcc0ad3099\" x=\"74.653919\" y=\"383.942908\" style=\"fill: #cacaca\"/>\n    </g>\n    <g clip-path=\"url(#p32c297f63c)\">\n     <use xlink:href=\"#C0_0_dcc0ad3099\" x=\"74.653919\" y=\"372.061916\" style=\"fill: #ababab\"/>\n    </g>\n    <g clip-path=\"url(#p32c297f63c)\">\n     <use xlink:href=\"#C0_0_dcc0ad3099\" x=\"74.653919\" y=\"360.180924\" style=\"fill: #909090\"/>\n    </g>\n    <g clip-path=\"url(#p32c297f63c)\">\n     <use xlink:href=\"#C0_0_dcc0ad3099\" x=\"74.653919\" y=\"348.299933\" style=\"fill: #eaeaea\"/>\n    </g>\n    <g clip-path=\"url(#p32c297f63c)\">\n     <use xlink:href=\"#C0_0_dcc0ad3099\" x=\"74.653919\" y=\"336.418941\" style=\"fill: #cfcfcf\"/>\n    </g>\n    <g clip-path=\"url(#p32c297f63c)\">\n     <use xlink:href=\"#C0_0_dcc0ad3099\" x=\"74.653919\" y=\"324.537949\" style=\"fill: #d4d4d4\"/>\n    </g>\n    <g clip-path=\"url(#p32c297f63c)\">\n     <use xlink:href=\"#C0_0_dcc0ad3099\" x=\"74.653919\" y=\"312.656958\" style=\"fill: #ffffff\"/>\n    </g>\n    <g clip-path=\"url(#p32c297f63c)\">\n     <use xlink:href=\"#C0_0_dcc0ad3099\" x=\"74.653919\" y=\"300.775966\" style=\"fill: #ffffff\"/>\n    </g>\n    <g clip-path=\"url(#p32c297f63c)\">\n     <use xlink:href=\"#C0_0_dcc0ad3099\" x=\"81.504828\" y=\"419.585883\" style=\"fill: #d9d9d9\"/>\n    </g>\n    <g clip-path=\"url(#p32c297f63c)\">\n     <use xlink:href=\"#C0_0_dcc0ad3099\" x=\"81.504828\" y=\"407.704891\" style=\"fill: #e1e1e1\"/>\n    </g>\n    <g clip-path=\"url(#p32c297f63c)\">\n     <use xlink:href=\"#C0_0_dcc0ad3099\" x=\"81.504828\" y=\"395.8239\" style=\"fill: #838383\"/>\n    </g>\n    <g clip-path=\"url(#p32c297f63c)\">\n     <use xlink:href=\"#C0_0_dcc0ad3099\" x=\"81.504828\" y=\"383.942908\" style=\"fill: #bababa\"/>\n    </g>\n    <g clip-path=\"url(#p32c297f63c)\">\n     <use xlink:href=\"#C0_0_dcc0ad3099\" x=\"81.504828\" y=\"372.061916\" style=\"fill: #dddddd\"/>\n    </g>\n    <g clip-path=\"url(#p32c297f63c)\">\n     <use xlink:href=\"#C0_0_dcc0ad3099\" x=\"81.504828\" y=\"360.180924\" style=\"fill: #dddddd\"/>\n    </g>\n    <g clip-path=\"url(#p32c297f63c)\">\n     <use xlink:href=\"#C0_0_dcc0ad3099\" x=\"81.504828\" y=\"348.299933\" style=\"fill: #c5c5c5\"/>\n    </g>\n    <g clip-path=\"url(#p32c297f63c)\">\n     <use xlink:href=\"#C0_0_dcc0ad3099\" x=\"81.504828\" y=\"336.418941\" style=\"fill: #e1e1e1\"/>\n    </g>\n    <g clip-path=\"url(#p32c297f63c)\">\n     <use xlink:href=\"#C0_0_dcc0ad3099\" x=\"81.504828\" y=\"324.537949\" style=\"fill: #e1e1e1\"/>\n    </g>\n    <g clip-path=\"url(#p32c297f63c)\">\n     <use xlink:href=\"#C0_0_dcc0ad3099\" x=\"81.504828\" y=\"312.656958\" style=\"fill: #f7f7f7\"/>\n    </g>\n    <g clip-path=\"url(#p32c297f63c)\">\n     <use xlink:href=\"#C0_0_dcc0ad3099\" x=\"81.504828\" y=\"300.775966\" style=\"fill: #ffffff\"/>\n    </g>\n    <g clip-path=\"url(#p32c297f63c)\">\n     <use xlink:href=\"#C0_0_dcc0ad3099\" x=\"88.355738\" y=\"419.585883\" style=\"fill: #9d9d9d\"/>\n    </g>\n    <g clip-path=\"url(#p32c297f63c)\">\n     <use xlink:href=\"#C0_0_dcc0ad3099\" x=\"88.355738\" y=\"407.704891\" style=\"fill: #bfbfbf\"/>\n    </g>\n    <g clip-path=\"url(#p32c297f63c)\">\n     <use xlink:href=\"#C0_0_dcc0ad3099\" x=\"88.355738\" y=\"395.8239\" style=\"fill: #b3b3b3\"/>\n    </g>\n    <g clip-path=\"url(#p32c297f63c)\">\n     <use xlink:href=\"#C0_0_dcc0ad3099\" x=\"88.355738\" y=\"383.942908\" style=\"fill: #e1e1e1\"/>\n    </g>\n    <g clip-path=\"url(#p32c297f63c)\">\n     <use xlink:href=\"#C0_0_dcc0ad3099\" x=\"88.355738\" y=\"372.061916\" style=\"fill: #cacaca\"/>\n    </g>\n    <g clip-path=\"url(#p32c297f63c)\">\n     <use xlink:href=\"#C0_0_dcc0ad3099\" x=\"88.355738\" y=\"360.180924\" style=\"fill: #cacaca\"/>\n    </g>\n    <g clip-path=\"url(#p32c297f63c)\">\n     <use xlink:href=\"#C0_0_dcc0ad3099\" x=\"88.355738\" y=\"348.299933\" style=\"fill: #e1e1e1\"/>\n    </g>\n    <g clip-path=\"url(#p32c297f63c)\">\n     <use xlink:href=\"#C0_0_dcc0ad3099\" x=\"88.355738\" y=\"336.418941\" style=\"fill: #eeeeee\"/>\n    </g>\n    <g clip-path=\"url(#p32c297f63c)\">\n     <use xlink:href=\"#C0_0_dcc0ad3099\" x=\"88.355738\" y=\"324.537949\" style=\"fill: #fafafa\"/>\n    </g>\n    <g clip-path=\"url(#p32c297f63c)\">\n     <use xlink:href=\"#C0_0_dcc0ad3099\" x=\"88.355738\" y=\"312.656958\" style=\"fill: #cacaca\"/>\n    </g>\n    <g clip-path=\"url(#p32c297f63c)\">\n     <use xlink:href=\"#C0_0_dcc0ad3099\" x=\"88.355738\" y=\"300.775966\" style=\"fill: #ffffff\"/>\n    </g>\n    <g clip-path=\"url(#p32c297f63c)\">\n     <use xlink:href=\"#C0_0_dcc0ad3099\" x=\"95.206647\" y=\"419.585883\" style=\"fill: #fafafa\"/>\n    </g>\n    <g clip-path=\"url(#p32c297f63c)\">\n     <use xlink:href=\"#C0_0_dcc0ad3099\" x=\"95.206647\" y=\"407.704891\" style=\"fill: #959595\"/>\n    </g>\n    <g clip-path=\"url(#p32c297f63c)\">\n     <use xlink:href=\"#C0_0_dcc0ad3099\" x=\"95.206647\" y=\"395.8239\" style=\"fill: #a4a4a4\"/>\n    </g>\n    <g clip-path=\"url(#p32c297f63c)\">\n     <use xlink:href=\"#C0_0_dcc0ad3099\" x=\"95.206647\" y=\"383.942908\" style=\"fill: #ababab\"/>\n    </g>\n    <g clip-path=\"url(#p32c297f63c)\">\n     <use xlink:href=\"#C0_0_dcc0ad3099\" x=\"95.206647\" y=\"372.061916\" style=\"fill: #d4d4d4\"/>\n    </g>\n    <g clip-path=\"url(#p32c297f63c)\">\n     <use xlink:href=\"#C0_0_dcc0ad3099\" x=\"95.206647\" y=\"360.180924\" style=\"fill: #d4d4d4\"/>\n    </g>\n    <g clip-path=\"url(#p32c297f63c)\">\n     <use xlink:href=\"#C0_0_dcc0ad3099\" x=\"95.206647\" y=\"348.299933\" style=\"fill: #ababab\"/>\n    </g>\n    <g clip-path=\"url(#p32c297f63c)\">\n     <use xlink:href=\"#C0_0_dcc0ad3099\" x=\"95.206647\" y=\"336.418941\" style=\"fill: #bfbfbf\"/>\n    </g>\n    <g clip-path=\"url(#p32c297f63c)\">\n     <use xlink:href=\"#C0_0_dcc0ad3099\" x=\"95.206647\" y=\"324.537949\" style=\"fill: #fafafa\"/>\n    </g>\n    <g clip-path=\"url(#p32c297f63c)\">\n     <use xlink:href=\"#C0_0_dcc0ad3099\" x=\"95.206647\" y=\"312.656958\" style=\"fill: #ffffff\"/>\n    </g>\n    <g clip-path=\"url(#p32c297f63c)\">\n     <use xlink:href=\"#C0_0_dcc0ad3099\" x=\"95.206647\" y=\"300.775966\" style=\"fill: #ffffff\"/>\n    </g>\n    <g clip-path=\"url(#p32c297f63c)\">\n     <use xlink:href=\"#C0_0_dcc0ad3099\" x=\"102.057556\" y=\"419.585883\" style=\"fill: #ffffff\"/>\n    </g>\n    <g clip-path=\"url(#p32c297f63c)\">\n     <use xlink:href=\"#C0_0_dcc0ad3099\" x=\"102.057556\" y=\"407.704891\" style=\"fill: #bababa\"/>\n    </g>\n    <g clip-path=\"url(#p32c297f63c)\">\n     <use xlink:href=\"#C0_0_dcc0ad3099\" x=\"102.057556\" y=\"395.8239\" style=\"fill: #e6e6e6\"/>\n    </g>\n    <g clip-path=\"url(#p32c297f63c)\">\n     <use xlink:href=\"#C0_0_dcc0ad3099\" x=\"102.057556\" y=\"383.942908\" style=\"fill: #c5c5c5\"/>\n    </g>\n    <g clip-path=\"url(#p32c297f63c)\">\n     <use xlink:href=\"#C0_0_dcc0ad3099\" x=\"102.057556\" y=\"372.061916\" style=\"fill: #cacaca\"/>\n    </g>\n    <g clip-path=\"url(#p32c297f63c)\">\n     <use xlink:href=\"#C0_0_dcc0ad3099\" x=\"102.057556\" y=\"360.180924\" style=\"fill: #9d9d9d\"/>\n    </g>\n    <g clip-path=\"url(#p32c297f63c)\">\n     <use xlink:href=\"#C0_0_dcc0ad3099\" x=\"102.057556\" y=\"348.299933\" style=\"fill: #cfcfcf\"/>\n    </g>\n    <g clip-path=\"url(#p32c297f63c)\">\n     <use xlink:href=\"#C0_0_dcc0ad3099\" x=\"102.057556\" y=\"336.418941\" style=\"fill: #e6e6e6\"/>\n    </g>\n    <g clip-path=\"url(#p32c297f63c)\">\n     <use xlink:href=\"#C0_0_dcc0ad3099\" x=\"102.057556\" y=\"324.537949\" style=\"fill: #f4f4f4\"/>\n    </g>\n    <g clip-path=\"url(#p32c297f63c)\">\n     <use xlink:href=\"#C0_0_dcc0ad3099\" x=\"102.057556\" y=\"312.656958\" style=\"fill: #ffffff\"/>\n    </g>\n    <g clip-path=\"url(#p32c297f63c)\">\n     <use xlink:href=\"#C0_0_dcc0ad3099\" x=\"102.057556\" y=\"300.775966\" style=\"fill: #ffffff\"/>\n    </g>\n    <g clip-path=\"url(#p32c297f63c)\">\n     <use xlink:href=\"#C0_0_dcc0ad3099\" x=\"108.908465\" y=\"419.585883\" style=\"fill: #ffffff\"/>\n    </g>\n    <g clip-path=\"url(#p32c297f63c)\">\n     <use xlink:href=\"#C0_0_dcc0ad3099\" x=\"108.908465\" y=\"407.704891\" style=\"fill: #e6e6e6\"/>\n    </g>\n    <g clip-path=\"url(#p32c297f63c)\">\n     <use xlink:href=\"#C0_0_dcc0ad3099\" x=\"108.908465\" y=\"395.8239\" style=\"fill: #b3b3b3\"/>\n    </g>\n    <g clip-path=\"url(#p32c297f63c)\">\n     <use xlink:href=\"#C0_0_dcc0ad3099\" x=\"108.908465\" y=\"383.942908\" style=\"fill: #898989\"/>\n    </g>\n    <g clip-path=\"url(#p32c297f63c)\">\n     <use xlink:href=\"#C0_0_dcc0ad3099\" x=\"108.908465\" y=\"372.061916\" style=\"fill: #9d9d9d\"/>\n    </g>\n    <g clip-path=\"url(#p32c297f63c)\">\n     <use xlink:href=\"#C0_0_dcc0ad3099\" x=\"108.908465\" y=\"360.180924\" style=\"fill: #d4d4d4\"/>\n    </g>\n    <g clip-path=\"url(#p32c297f63c)\">\n     <use xlink:href=\"#C0_0_dcc0ad3099\" x=\"108.908465\" y=\"348.299933\" style=\"fill: #eaeaea\"/>\n    </g>\n    <g clip-path=\"url(#p32c297f63c)\">\n     <use xlink:href=\"#C0_0_dcc0ad3099\" x=\"108.908465\" y=\"336.418941\" style=\"fill: #cfcfcf\"/>\n    </g>\n    <g clip-path=\"url(#p32c297f63c)\">\n     <use xlink:href=\"#C0_0_dcc0ad3099\" x=\"108.908465\" y=\"324.537949\" style=\"fill: #9d9d9d\"/>\n    </g>\n    <g clip-path=\"url(#p32c297f63c)\">\n     <use xlink:href=\"#C0_0_dcc0ad3099\" x=\"108.908465\" y=\"312.656958\" style=\"fill: #ffffff\"/>\n    </g>\n    <g clip-path=\"url(#p32c297f63c)\">\n     <use xlink:href=\"#C0_0_dcc0ad3099\" x=\"108.908465\" y=\"300.775966\" style=\"fill: #ffffff\"/>\n    </g>\n    <g clip-path=\"url(#p32c297f63c)\">\n     <use xlink:href=\"#C0_0_dcc0ad3099\" x=\"115.759374\" y=\"419.585883\" style=\"fill: #ffffff\"/>\n    </g>\n    <g clip-path=\"url(#p32c297f63c)\">\n     <use xlink:href=\"#C0_0_dcc0ad3099\" x=\"115.759374\" y=\"407.704891\" style=\"fill: #959595\"/>\n    </g>\n    <g clip-path=\"url(#p32c297f63c)\">\n     <use xlink:href=\"#C0_0_dcc0ad3099\" x=\"115.759374\" y=\"395.8239\" style=\"fill: #4a4a4a\"/>\n    </g>\n    <g clip-path=\"url(#p32c297f63c)\">\n     <use xlink:href=\"#C0_0_dcc0ad3099\" x=\"115.759374\" y=\"383.942908\" style=\"fill: #707070\"/>\n    </g>\n    <g clip-path=\"url(#p32c297f63c)\">\n     <use xlink:href=\"#C0_0_dcc0ad3099\" x=\"115.759374\" y=\"372.061916\" style=\"fill: #646464\"/>\n    </g>\n    <g clip-path=\"url(#p32c297f63c)\">\n     <use xlink:href=\"#C0_0_dcc0ad3099\" x=\"115.759374\" y=\"360.180924\" style=\"fill: #d4d4d4\"/>\n    </g>\n    <g clip-path=\"url(#p32c297f63c)\">\n     <use xlink:href=\"#C0_0_dcc0ad3099\" x=\"115.759374\" y=\"348.299933\" style=\"fill: #dddddd\"/>\n    </g>\n    <g clip-path=\"url(#p32c297f63c)\">\n     <use xlink:href=\"#C0_0_dcc0ad3099\" x=\"115.759374\" y=\"336.418941\" style=\"fill: #dddddd\"/>\n    </g>\n    <g clip-path=\"url(#p32c297f63c)\">\n     <use xlink:href=\"#C0_0_dcc0ad3099\" x=\"115.759374\" y=\"324.537949\" style=\"fill: #f7f7f7\"/>\n    </g>\n    <g clip-path=\"url(#p32c297f63c)\">\n     <use xlink:href=\"#C0_0_dcc0ad3099\" x=\"115.759374\" y=\"312.656958\" style=\"fill: #ffffff\"/>\n    </g>\n    <g clip-path=\"url(#p32c297f63c)\">\n     <use xlink:href=\"#C0_0_dcc0ad3099\" x=\"115.759374\" y=\"300.775966\" style=\"fill: #ffffff\"/>\n    </g>\n    <g clip-path=\"url(#p32c297f63c)\">\n     <use xlink:href=\"#C0_0_dcc0ad3099\" x=\"122.610283\" y=\"419.585883\" style=\"fill: #ffffff\"/>\n    </g>\n    <g clip-path=\"url(#p32c297f63c)\">\n     <use xlink:href=\"#C0_0_dcc0ad3099\" x=\"122.610283\" y=\"407.704891\" style=\"fill: #dddddd\"/>\n    </g>\n    <g clip-path=\"url(#p32c297f63c)\">\n     <use xlink:href=\"#C0_0_dcc0ad3099\" x=\"122.610283\" y=\"395.8239\" style=\"fill: #d9d9d9\"/>\n    </g>\n    <g clip-path=\"url(#p32c297f63c)\">\n     <use xlink:href=\"#C0_0_dcc0ad3099\" x=\"122.610283\" y=\"383.942908\" style=\"fill: #838383\"/>\n    </g>\n    <g clip-path=\"url(#p32c297f63c)\">\n     <use xlink:href=\"#C0_0_dcc0ad3099\" x=\"122.610283\" y=\"372.061916\" style=\"fill: #767676\"/>\n    </g>\n    <g clip-path=\"url(#p32c297f63c)\">\n     <use xlink:href=\"#C0_0_dcc0ad3099\" x=\"122.610283\" y=\"360.180924\" style=\"fill: #767676\"/>\n    </g>\n    <g clip-path=\"url(#p32c297f63c)\">\n     <use xlink:href=\"#C0_0_dcc0ad3099\" x=\"122.610283\" y=\"348.299933\" style=\"fill: #c5c5c5\"/>\n    </g>\n    <g clip-path=\"url(#p32c297f63c)\">\n     <use xlink:href=\"#C0_0_dcc0ad3099\" x=\"122.610283\" y=\"336.418941\" style=\"fill: #eaeaea\"/>\n    </g>\n    <g clip-path=\"url(#p32c297f63c)\">\n     <use xlink:href=\"#C0_0_dcc0ad3099\" x=\"122.610283\" y=\"324.537949\" style=\"fill: #ffffff\"/>\n    </g>\n    <g clip-path=\"url(#p32c297f63c)\">\n     <use xlink:href=\"#C0_0_dcc0ad3099\" x=\"122.610283\" y=\"312.656958\" style=\"fill: #ffffff\"/>\n    </g>\n    <g clip-path=\"url(#p32c297f63c)\">\n     <use xlink:href=\"#C0_0_dcc0ad3099\" x=\"122.610283\" y=\"300.775966\" style=\"fill: #ffffff\"/>\n    </g>\n    <g clip-path=\"url(#p32c297f63c)\">\n     <use xlink:href=\"#C0_0_dcc0ad3099\" x=\"129.461192\" y=\"419.585883\" style=\"fill: #ffffff\"/>\n    </g>\n    <g clip-path=\"url(#p32c297f63c)\">\n     <use xlink:href=\"#C0_0_dcc0ad3099\" x=\"129.461192\" y=\"407.704891\" style=\"fill: #f7f7f7\"/>\n    </g>\n    <g clip-path=\"url(#p32c297f63c)\">\n     <use xlink:href=\"#C0_0_dcc0ad3099\" x=\"129.461192\" y=\"395.8239\" style=\"fill: #b3b3b3\"/>\n    </g>\n    <g clip-path=\"url(#p32c297f63c)\">\n     <use xlink:href=\"#C0_0_dcc0ad3099\" x=\"129.461192\" y=\"383.942908\" style=\"fill: #515151\"/>\n    </g>\n    <g clip-path=\"url(#p32c297f63c)\">\n     <use xlink:href=\"#C0_0_dcc0ad3099\" x=\"129.461192\" y=\"372.061916\" style=\"fill: #9d9d9d\"/>\n    </g>\n    <g clip-path=\"url(#p32c297f63c)\">\n     <use xlink:href=\"#C0_0_dcc0ad3099\" x=\"129.461192\" y=\"360.180924\" style=\"fill: #9d9d9d\"/>\n    </g>\n    <g clip-path=\"url(#p32c297f63c)\">\n     <use xlink:href=\"#C0_0_dcc0ad3099\" x=\"129.461192\" y=\"348.299933\" style=\"fill: #ababab\"/>\n    </g>\n    <g clip-path=\"url(#p32c297f63c)\">\n     <use xlink:href=\"#C0_0_dcc0ad3099\" x=\"129.461192\" y=\"336.418941\" style=\"fill: #ababab\"/>\n    </g>\n    <g clip-path=\"url(#p32c297f63c)\">\n     <use xlink:href=\"#C0_0_dcc0ad3099\" x=\"129.461192\" y=\"324.537949\" style=\"fill: #f4f4f4\"/>\n    </g>\n    <g clip-path=\"url(#p32c297f63c)\">\n     <use xlink:href=\"#C0_0_dcc0ad3099\" x=\"129.461192\" y=\"312.656958\" style=\"fill: #ffffff\"/>\n    </g>\n    <g clip-path=\"url(#p32c297f63c)\">\n     <use xlink:href=\"#C0_0_dcc0ad3099\" x=\"129.461192\" y=\"300.775966\" style=\"fill: #ffffff\"/>\n    </g>\n    <g clip-path=\"url(#p32c297f63c)\">\n     <use xlink:href=\"#C0_0_dcc0ad3099\" x=\"136.312101\" y=\"419.585883\" style=\"fill: #ffffff\"/>\n    </g>\n    <g clip-path=\"url(#p32c297f63c)\">\n     <use xlink:href=\"#C0_0_dcc0ad3099\" x=\"136.312101\" y=\"407.704891\" style=\"fill: #fafafa\"/>\n    </g>\n    <g clip-path=\"url(#p32c297f63c)\">\n     <use xlink:href=\"#C0_0_dcc0ad3099\" x=\"136.312101\" y=\"395.8239\" style=\"fill: #5e5e5e\"/>\n    </g>\n    <g clip-path=\"url(#p32c297f63c)\">\n     <use xlink:href=\"#C0_0_dcc0ad3099\" x=\"136.312101\" y=\"383.942908\" style=\"fill: #dddddd\"/>\n    </g>\n    <g clip-path=\"url(#p32c297f63c)\">\n     <use xlink:href=\"#C0_0_dcc0ad3099\" x=\"136.312101\" y=\"372.061916\" style=\"fill: #cfcfcf\"/>\n    </g>\n    <g clip-path=\"url(#p32c297f63c)\">\n     <use xlink:href=\"#C0_0_dcc0ad3099\" x=\"136.312101\" y=\"360.180924\" style=\"fill: #cfcfcf\"/>\n    </g>\n    <g clip-path=\"url(#p32c297f63c)\">\n     <use xlink:href=\"#C0_0_dcc0ad3099\" x=\"136.312101\" y=\"348.299933\" style=\"fill: #ababab\"/>\n    </g>\n    <g clip-path=\"url(#p32c297f63c)\">\n     <use xlink:href=\"#C0_0_dcc0ad3099\" x=\"136.312101\" y=\"336.418941\" style=\"fill: #ababab\"/>\n    </g>\n    <g clip-path=\"url(#p32c297f63c)\">\n     <use xlink:href=\"#C0_0_dcc0ad3099\" x=\"136.312101\" y=\"324.537949\" style=\"fill: #fafafa\"/>\n    </g>\n    <g clip-path=\"url(#p32c297f63c)\">\n     <use xlink:href=\"#C0_0_dcc0ad3099\" x=\"136.312101\" y=\"312.656958\" style=\"fill: #ffffff\"/>\n    </g>\n    <g clip-path=\"url(#p32c297f63c)\">\n     <use xlink:href=\"#C0_0_dcc0ad3099\" x=\"136.312101\" y=\"300.775966\" style=\"fill: #ffffff\"/>\n    </g>\n    <g clip-path=\"url(#p32c297f63c)\">\n     <use xlink:href=\"#C0_0_dcc0ad3099\" x=\"143.16301\" y=\"419.585883\" style=\"fill: #ffffff\"/>\n    </g>\n    <g clip-path=\"url(#p32c297f63c)\">\n     <use xlink:href=\"#C0_0_dcc0ad3099\" x=\"143.16301\" y=\"407.704891\" style=\"fill: #ffffff\"/>\n    </g>\n    <g clip-path=\"url(#p32c297f63c)\">\n     <use xlink:href=\"#C0_0_dcc0ad3099\" x=\"143.16301\" y=\"395.8239\" style=\"fill: #e1e1e1\"/>\n    </g>\n    <g clip-path=\"url(#p32c297f63c)\">\n     <use xlink:href=\"#C0_0_dcc0ad3099\" x=\"143.16301\" y=\"383.942908\" style=\"fill: #fafafa\"/>\n    </g>\n    <g clip-path=\"url(#p32c297f63c)\">\n     <use xlink:href=\"#C0_0_dcc0ad3099\" x=\"143.16301\" y=\"372.061916\" style=\"fill: #ffffff\"/>\n    </g>\n    <g clip-path=\"url(#p32c297f63c)\">\n     <use xlink:href=\"#C0_0_dcc0ad3099\" x=\"143.16301\" y=\"360.180924\" style=\"fill: #fdfdfd\"/>\n    </g>\n    <g clip-path=\"url(#p32c297f63c)\">\n     <use xlink:href=\"#C0_0_dcc0ad3099\" x=\"143.16301\" y=\"348.299933\" style=\"fill: #fdfdfd\"/>\n    </g>\n    <g clip-path=\"url(#p32c297f63c)\">\n     <use xlink:href=\"#C0_0_dcc0ad3099\" x=\"143.16301\" y=\"336.418941\" style=\"fill: #e1e1e1\"/>\n    </g>\n    <g clip-path=\"url(#p32c297f63c)\">\n     <use xlink:href=\"#C0_0_dcc0ad3099\" x=\"143.16301\" y=\"324.537949\" style=\"fill: #ffffff\"/>\n    </g>\n    <g clip-path=\"url(#p32c297f63c)\">\n     <use xlink:href=\"#C0_0_dcc0ad3099\" x=\"143.16301\" y=\"312.656958\" style=\"fill: #ffffff\"/>\n    </g>\n    <g clip-path=\"url(#p32c297f63c)\">\n     <use xlink:href=\"#C0_0_dcc0ad3099\" x=\"143.16301\" y=\"300.775966\" style=\"fill: #ffffff\"/>\n    </g>\n    <g clip-path=\"url(#p32c297f63c)\">\n     <use xlink:href=\"#C0_0_dcc0ad3099\" x=\"150.013919\" y=\"419.585883\" style=\"fill: #ffffff\"/>\n    </g>\n    <g clip-path=\"url(#p32c297f63c)\">\n     <use xlink:href=\"#C0_0_dcc0ad3099\" x=\"150.013919\" y=\"407.704891\" style=\"fill: #ffffff\"/>\n    </g>\n    <g clip-path=\"url(#p32c297f63c)\">\n     <use xlink:href=\"#C0_0_dcc0ad3099\" x=\"150.013919\" y=\"395.8239\" style=\"fill: #eaeaea\"/>\n    </g>\n    <g clip-path=\"url(#p32c297f63c)\">\n     <use xlink:href=\"#C0_0_dcc0ad3099\" x=\"150.013919\" y=\"383.942908\" style=\"fill: #d4d4d4\"/>\n    </g>\n    <g clip-path=\"url(#p32c297f63c)\">\n     <use xlink:href=\"#C0_0_dcc0ad3099\" x=\"150.013919\" y=\"372.061916\" style=\"fill: #ffffff\"/>\n    </g>\n    <g clip-path=\"url(#p32c297f63c)\">\n     <use xlink:href=\"#C0_0_dcc0ad3099\" x=\"150.013919\" y=\"360.180924\" style=\"fill: #ffffff\"/>\n    </g>\n    <g clip-path=\"url(#p32c297f63c)\">\n     <use xlink:href=\"#C0_0_dcc0ad3099\" x=\"150.013919\" y=\"348.299933\" style=\"fill: #ffffff\"/>\n    </g>\n    <g clip-path=\"url(#p32c297f63c)\">\n     <use xlink:href=\"#C0_0_dcc0ad3099\" x=\"150.013919\" y=\"336.418941\" style=\"fill: #ffffff\"/>\n    </g>\n    <g clip-path=\"url(#p32c297f63c)\">\n     <use xlink:href=\"#C0_0_dcc0ad3099\" x=\"150.013919\" y=\"324.537949\" style=\"fill: #ffffff\"/>\n    </g>\n    <g clip-path=\"url(#p32c297f63c)\">\n     <use xlink:href=\"#C0_0_dcc0ad3099\" x=\"150.013919\" y=\"312.656958\" style=\"fill: #ffffff\"/>\n    </g>\n    <g clip-path=\"url(#p32c297f63c)\">\n     <use xlink:href=\"#C0_0_dcc0ad3099\" x=\"150.013919\" y=\"300.775966\" style=\"fill: #ffffff\"/>\n    </g>\n   </g>\n   <g id=\"matplotlib.axis_1\"/>\n   <g id=\"matplotlib.axis_2\"/>\n   <g id=\"patch_3\">\n    <path d=\"M 7.2 167.90175 \nL 7.2 24.14175 \n\" style=\"fill: none; stroke: #000000; stroke-width: 0.8; stroke-linejoin: miter; stroke-linecap: square\"/>\n   </g>\n   <g id=\"patch_4\">\n    <path d=\"M 157.92 167.90175 \nL 157.92 24.14175 \n\" style=\"fill: none; stroke: #000000; stroke-width: 0.8; stroke-linejoin: miter; stroke-linecap: square\"/>\n   </g>\n   <g id=\"patch_5\">\n    <path d=\"M 7.2 167.90175 \nL 157.92 167.90175 \n\" style=\"fill: none; stroke: #000000; stroke-width: 0.8; stroke-linejoin: miter; stroke-linecap: square\"/>\n   </g>\n   <g id=\"patch_6\">\n    <path d=\"M 7.2 24.14175 \nL 157.92 24.14175 \n\" style=\"fill: none; stroke: #000000; stroke-width: 0.8; stroke-linejoin: miter; stroke-linecap: square\"/>\n   </g>\n   <g id=\"text_1\">\n    <!-- sadness -->\n    <g transform=\"translate(53.331375 18.14175) scale(0.144 -0.144)\">\n     <defs>\n      <path id=\"DejaVuSans-73\" d=\"M 2834 3397 \nL 2834 2853 \nQ 2591 2978 2328 3040 \nQ 2066 3103 1784 3103 \nQ 1356 3103 1142 2972 \nQ 928 2841 928 2578 \nQ 928 2378 1081 2264 \nQ 1234 2150 1697 2047 \nL 1894 2003 \nQ 2506 1872 2764 1633 \nQ 3022 1394 3022 966 \nQ 3022 478 2636 193 \nQ 2250 -91 1575 -91 \nQ 1294 -91 989 -36 \nQ 684 19 347 128 \nL 347 722 \nQ 666 556 975 473 \nQ 1284 391 1588 391 \nQ 1994 391 2212 530 \nQ 2431 669 2431 922 \nQ 2431 1156 2273 1281 \nQ 2116 1406 1581 1522 \nL 1381 1569 \nQ 847 1681 609 1914 \nQ 372 2147 372 2553 \nQ 372 3047 722 3315 \nQ 1072 3584 1716 3584 \nQ 2034 3584 2315 3537 \nQ 2597 3491 2834 3397 \nz\n\" transform=\"scale(0.015625)\"/>\n      <path id=\"DejaVuSans-61\" d=\"M 2194 1759 \nQ 1497 1759 1228 1600 \nQ 959 1441 959 1056 \nQ 959 750 1161 570 \nQ 1363 391 1709 391 \nQ 2188 391 2477 730 \nQ 2766 1069 2766 1631 \nL 2766 1759 \nL 2194 1759 \nz\nM 3341 1997 \nL 3341 0 \nL 2766 0 \nL 2766 531 \nQ 2569 213 2275 61 \nQ 1981 -91 1556 -91 \nQ 1019 -91 701 211 \nQ 384 513 384 1019 \nQ 384 1609 779 1909 \nQ 1175 2209 1959 2209 \nL 2766 2209 \nL 2766 2266 \nQ 2766 2663 2505 2880 \nQ 2244 3097 1772 3097 \nQ 1472 3097 1187 3025 \nQ 903 2953 641 2809 \nL 641 3341 \nQ 956 3463 1253 3523 \nQ 1550 3584 1831 3584 \nQ 2591 3584 2966 3190 \nQ 3341 2797 3341 1997 \nz\n\" transform=\"scale(0.015625)\"/>\n      <path id=\"DejaVuSans-64\" d=\"M 2906 2969 \nL 2906 4863 \nL 3481 4863 \nL 3481 0 \nL 2906 0 \nL 2906 525 \nQ 2725 213 2448 61 \nQ 2172 -91 1784 -91 \nQ 1150 -91 751 415 \nQ 353 922 353 1747 \nQ 353 2572 751 3078 \nQ 1150 3584 1784 3584 \nQ 2172 3584 2448 3432 \nQ 2725 3281 2906 2969 \nz\nM 947 1747 \nQ 947 1113 1208 752 \nQ 1469 391 1925 391 \nQ 2381 391 2643 752 \nQ 2906 1113 2906 1747 \nQ 2906 2381 2643 2742 \nQ 2381 3103 1925 3103 \nQ 1469 3103 1208 2742 \nQ 947 2381 947 1747 \nz\n\" transform=\"scale(0.015625)\"/>\n      <path id=\"DejaVuSans-6e\" d=\"M 3513 2113 \nL 3513 0 \nL 2938 0 \nL 2938 2094 \nQ 2938 2591 2744 2837 \nQ 2550 3084 2163 3084 \nQ 1697 3084 1428 2787 \nQ 1159 2491 1159 1978 \nL 1159 0 \nL 581 0 \nL 581 3500 \nL 1159 3500 \nL 1159 2956 \nQ 1366 3272 1645 3428 \nQ 1925 3584 2291 3584 \nQ 2894 3584 3203 3211 \nQ 3513 2838 3513 2113 \nz\n\" transform=\"scale(0.015625)\"/>\n      <path id=\"DejaVuSans-65\" d=\"M 3597 1894 \nL 3597 1613 \nL 953 1613 \nQ 991 1019 1311 708 \nQ 1631 397 2203 397 \nQ 2534 397 2845 478 \nQ 3156 559 3463 722 \nL 3463 178 \nQ 3153 47 2828 -22 \nQ 2503 -91 2169 -91 \nQ 1331 -91 842 396 \nQ 353 884 353 1716 \nQ 353 2575 817 3079 \nQ 1281 3584 2069 3584 \nQ 2775 3584 3186 3129 \nQ 3597 2675 3597 1894 \nz\nM 3022 2063 \nQ 3016 2534 2758 2815 \nQ 2500 3097 2075 3097 \nQ 1594 3097 1305 2825 \nQ 1016 2553 972 2059 \nL 3022 2063 \nz\n\" transform=\"scale(0.015625)\"/>\n     </defs>\n     <use xlink:href=\"#DejaVuSans-73\"/>\n     <use xlink:href=\"#DejaVuSans-61\" x=\"52.099609\"/>\n     <use xlink:href=\"#DejaVuSans-64\" x=\"113.378906\"/>\n     <use xlink:href=\"#DejaVuSans-6e\" x=\"176.855469\"/>\n     <use xlink:href=\"#DejaVuSans-65\" x=\"240.234375\"/>\n     <use xlink:href=\"#DejaVuSans-73\" x=\"301.757812\"/>\n     <use xlink:href=\"#DejaVuSans-73\" x=\"353.857422\"/>\n    </g>\n   </g>\n  </g>\n  <g id=\"axes_2\">\n   <g id=\"patch_7\">\n    <path d=\"M 170.88 167.90175 \nL 321.6 167.90175 \nL 321.6 24.14175 \nL 170.88 24.14175 \nz\n\" style=\"fill: #ffffff\"/>\n   </g>\n   <g id=\"PolyCollection_2\">\n    <defs>\n     <path id=\"C1_0_7e753a81ad\" d=\"M 165.504558 -262.260375 \nL 165.504558 -266.220705 \nL 162.079103 -268.200871 \nL 158.653648 -266.220705 \nL 158.653648 -262.260375 \nL 162.079103 -260.280209 \nz\n\"/>\n    </defs>\n    <g clip-path=\"url(#pe0ee96cef9)\">\n     <use xlink:href=\"#C1_0_7e753a81ad\" x=\"15.651806\" y=\"425.607745\" style=\"fill: #f7fbff\"/>\n    </g>\n    <g clip-path=\"url(#pe0ee96cef9)\">\n     <use xlink:href=\"#C1_0_7e753a81ad\" x=\"15.651806\" y=\"413.726753\" style=\"fill: #f7fbff\"/>\n    </g>\n    <g clip-path=\"url(#pe0ee96cef9)\">\n     <use xlink:href=\"#C1_0_7e753a81ad\" x=\"15.651806\" y=\"401.845761\" style=\"fill: #f4f9fe\"/>\n    </g>\n    <g clip-path=\"url(#pe0ee96cef9)\">\n     <use xlink:href=\"#C1_0_7e753a81ad\" x=\"15.651806\" y=\"389.964769\" style=\"fill: #f7fbff\"/>\n    </g>\n    <g clip-path=\"url(#pe0ee96cef9)\">\n     <use xlink:href=\"#C1_0_7e753a81ad\" x=\"15.651806\" y=\"378.083778\" style=\"fill: #f4f9fe\"/>\n    </g>\n    <g clip-path=\"url(#pe0ee96cef9)\">\n     <use xlink:href=\"#C1_0_7e753a81ad\" x=\"15.651806\" y=\"366.202786\" style=\"fill: #c3daee\"/>\n    </g>\n    <g clip-path=\"url(#pe0ee96cef9)\">\n     <use xlink:href=\"#C1_0_7e753a81ad\" x=\"15.651806\" y=\"354.321794\" style=\"fill: #d2e3f3\"/>\n    </g>\n    <g clip-path=\"url(#pe0ee96cef9)\">\n     <use xlink:href=\"#C1_0_7e753a81ad\" x=\"15.651806\" y=\"342.440802\" style=\"fill: #edf4fc\"/>\n    </g>\n    <g clip-path=\"url(#pe0ee96cef9)\">\n     <use xlink:href=\"#C1_0_7e753a81ad\" x=\"15.651806\" y=\"330.559811\" style=\"fill: #f7fbff\"/>\n    </g>\n    <g clip-path=\"url(#pe0ee96cef9)\">\n     <use xlink:href=\"#C1_0_7e753a81ad\" x=\"15.651806\" y=\"318.678819\" style=\"fill: #f7fbff\"/>\n    </g>\n    <g clip-path=\"url(#pe0ee96cef9)\">\n     <use xlink:href=\"#C1_0_7e753a81ad\" x=\"15.651806\" y=\"306.797827\" style=\"fill: #f7fbff\"/>\n    </g>\n    <g clip-path=\"url(#pe0ee96cef9)\">\n     <use xlink:href=\"#C1_0_7e753a81ad\" x=\"15.651806\" y=\"294.916835\" style=\"fill: #f7fbff\"/>\n    </g>\n    <g clip-path=\"url(#pe0ee96cef9)\">\n     <use xlink:href=\"#C1_0_7e753a81ad\" x=\"22.502715\" y=\"425.607745\" style=\"fill: #f7fbff\"/>\n    </g>\n    <g clip-path=\"url(#pe0ee96cef9)\">\n     <use xlink:href=\"#C1_0_7e753a81ad\" x=\"22.502715\" y=\"413.726753\" style=\"fill: #f7fbff\"/>\n    </g>\n    <g clip-path=\"url(#pe0ee96cef9)\">\n     <use xlink:href=\"#C1_0_7e753a81ad\" x=\"22.502715\" y=\"401.845761\" style=\"fill: #aed1e7\"/>\n    </g>\n    <g clip-path=\"url(#pe0ee96cef9)\">\n     <use xlink:href=\"#C1_0_7e753a81ad\" x=\"22.502715\" y=\"389.964769\" style=\"fill: #f7fbff\"/>\n    </g>\n    <g clip-path=\"url(#pe0ee96cef9)\">\n     <use xlink:href=\"#C1_0_7e753a81ad\" x=\"22.502715\" y=\"378.083778\" style=\"fill: #72b2d8\"/>\n    </g>\n    <g clip-path=\"url(#pe0ee96cef9)\">\n     <use xlink:href=\"#C1_0_7e753a81ad\" x=\"22.502715\" y=\"366.202786\" style=\"fill: #6aaed6\"/>\n    </g>\n    <g clip-path=\"url(#pe0ee96cef9)\">\n     <use xlink:href=\"#C1_0_7e753a81ad\" x=\"22.502715\" y=\"354.321794\" style=\"fill: #125da6\"/>\n    </g>\n    <g clip-path=\"url(#pe0ee96cef9)\">\n     <use xlink:href=\"#C1_0_7e753a81ad\" x=\"22.502715\" y=\"342.440802\" style=\"fill: #edf4fc\"/>\n    </g>\n    <g clip-path=\"url(#pe0ee96cef9)\">\n     <use xlink:href=\"#C1_0_7e753a81ad\" x=\"22.502715\" y=\"330.559811\" style=\"fill: #f7fbff\"/>\n    </g>\n    <g clip-path=\"url(#pe0ee96cef9)\">\n     <use xlink:href=\"#C1_0_7e753a81ad\" x=\"22.502715\" y=\"318.678819\" style=\"fill: #f7fbff\"/>\n    </g>\n    <g clip-path=\"url(#pe0ee96cef9)\">\n     <use xlink:href=\"#C1_0_7e753a81ad\" x=\"22.502715\" y=\"306.797827\" style=\"fill: #f7fbff\"/>\n    </g>\n    <g clip-path=\"url(#pe0ee96cef9)\">\n     <use xlink:href=\"#C1_0_7e753a81ad\" x=\"22.502715\" y=\"294.916835\" style=\"fill: #f7fbff\"/>\n    </g>\n    <g clip-path=\"url(#pe0ee96cef9)\">\n     <use xlink:href=\"#C1_0_7e753a81ad\" x=\"29.353624\" y=\"425.607745\" style=\"fill: #f7fbff\"/>\n    </g>\n    <g clip-path=\"url(#pe0ee96cef9)\">\n     <use xlink:href=\"#C1_0_7e753a81ad\" x=\"29.353624\" y=\"413.726753\" style=\"fill: #f7fbff\"/>\n    </g>\n    <g clip-path=\"url(#pe0ee96cef9)\">\n     <use xlink:href=\"#C1_0_7e753a81ad\" x=\"29.353624\" y=\"401.845761\" style=\"fill: #6aaed6\"/>\n    </g>\n    <g clip-path=\"url(#pe0ee96cef9)\">\n     <use xlink:href=\"#C1_0_7e753a81ad\" x=\"29.353624\" y=\"389.964769\" style=\"fill: #eaf2fb\"/>\n    </g>\n    <g clip-path=\"url(#pe0ee96cef9)\">\n     <use xlink:href=\"#C1_0_7e753a81ad\" x=\"29.353624\" y=\"378.083778\" style=\"fill: #c3daee\"/>\n    </g>\n    <g clip-path=\"url(#pe0ee96cef9)\">\n     <use xlink:href=\"#C1_0_7e753a81ad\" x=\"29.353624\" y=\"366.202786\" style=\"fill: #79b5d9\"/>\n    </g>\n    <g clip-path=\"url(#pe0ee96cef9)\">\n     <use xlink:href=\"#C1_0_7e753a81ad\" x=\"29.353624\" y=\"354.321794\" style=\"fill: #6aaed6\"/>\n    </g>\n    <g clip-path=\"url(#pe0ee96cef9)\">\n     <use xlink:href=\"#C1_0_7e753a81ad\" x=\"29.353624\" y=\"342.440802\" style=\"fill: #cfe1f2\"/>\n    </g>\n    <g clip-path=\"url(#pe0ee96cef9)\">\n     <use xlink:href=\"#C1_0_7e753a81ad\" x=\"29.353624\" y=\"330.559811\" style=\"fill: #f7fbff\"/>\n    </g>\n    <g clip-path=\"url(#pe0ee96cef9)\">\n     <use xlink:href=\"#C1_0_7e753a81ad\" x=\"29.353624\" y=\"318.678819\" style=\"fill: #f7fbff\"/>\n    </g>\n    <g clip-path=\"url(#pe0ee96cef9)\">\n     <use xlink:href=\"#C1_0_7e753a81ad\" x=\"29.353624\" y=\"306.797827\" style=\"fill: #f7fbff\"/>\n    </g>\n    <g clip-path=\"url(#pe0ee96cef9)\">\n     <use xlink:href=\"#C1_0_7e753a81ad\" x=\"29.353624\" y=\"294.916835\" style=\"fill: #f7fbff\"/>\n    </g>\n    <g clip-path=\"url(#pe0ee96cef9)\">\n     <use xlink:href=\"#C1_0_7e753a81ad\" x=\"36.204533\" y=\"425.607745\" style=\"fill: #f7fbff\"/>\n    </g>\n    <g clip-path=\"url(#pe0ee96cef9)\">\n     <use xlink:href=\"#C1_0_7e753a81ad\" x=\"36.204533\" y=\"413.726753\" style=\"fill: #f7fbff\"/>\n    </g>\n    <g clip-path=\"url(#pe0ee96cef9)\">\n     <use xlink:href=\"#C1_0_7e753a81ad\" x=\"36.204533\" y=\"401.845761\" style=\"fill: #eaf2fb\"/>\n    </g>\n    <g clip-path=\"url(#pe0ee96cef9)\">\n     <use xlink:href=\"#C1_0_7e753a81ad\" x=\"36.204533\" y=\"389.964769\" style=\"fill: #e3eef8\"/>\n    </g>\n    <g clip-path=\"url(#pe0ee96cef9)\">\n     <use xlink:href=\"#C1_0_7e753a81ad\" x=\"36.204533\" y=\"378.083778\" style=\"fill: #d2e3f3\"/>\n    </g>\n    <g clip-path=\"url(#pe0ee96cef9)\">\n     <use xlink:href=\"#C1_0_7e753a81ad\" x=\"36.204533\" y=\"366.202786\" style=\"fill: #b8d5ea\"/>\n    </g>\n    <g clip-path=\"url(#pe0ee96cef9)\">\n     <use xlink:href=\"#C1_0_7e753a81ad\" x=\"36.204533\" y=\"354.321794\" style=\"fill: #79b5d9\"/>\n    </g>\n    <g clip-path=\"url(#pe0ee96cef9)\">\n     <use xlink:href=\"#C1_0_7e753a81ad\" x=\"36.204533\" y=\"342.440802\" style=\"fill: #8fc2de\"/>\n    </g>\n    <g clip-path=\"url(#pe0ee96cef9)\">\n     <use xlink:href=\"#C1_0_7e753a81ad\" x=\"36.204533\" y=\"330.559811\" style=\"fill: #e3eef8\"/>\n    </g>\n    <g clip-path=\"url(#pe0ee96cef9)\">\n     <use xlink:href=\"#C1_0_7e753a81ad\" x=\"36.204533\" y=\"318.678819\" style=\"fill: #f7fbff\"/>\n    </g>\n    <g clip-path=\"url(#pe0ee96cef9)\">\n     <use xlink:href=\"#C1_0_7e753a81ad\" x=\"36.204533\" y=\"306.797827\" style=\"fill: #f7fbff\"/>\n    </g>\n    <g clip-path=\"url(#pe0ee96cef9)\">\n     <use xlink:href=\"#C1_0_7e753a81ad\" x=\"36.204533\" y=\"294.916835\" style=\"fill: #f7fbff\"/>\n    </g>\n    <g clip-path=\"url(#pe0ee96cef9)\">\n     <use xlink:href=\"#C1_0_7e753a81ad\" x=\"43.055442\" y=\"425.607745\" style=\"fill: #f7fbff\"/>\n    </g>\n    <g clip-path=\"url(#pe0ee96cef9)\">\n     <use xlink:href=\"#C1_0_7e753a81ad\" x=\"43.055442\" y=\"413.726753\" style=\"fill: #f7fbff\"/>\n    </g>\n    <g clip-path=\"url(#pe0ee96cef9)\">\n     <use xlink:href=\"#C1_0_7e753a81ad\" x=\"43.055442\" y=\"401.845761\" style=\"fill: #e6f0f9\"/>\n    </g>\n    <g clip-path=\"url(#pe0ee96cef9)\">\n     <use xlink:href=\"#C1_0_7e753a81ad\" x=\"43.055442\" y=\"389.964769\" style=\"fill: #d2e3f3\"/>\n    </g>\n    <g clip-path=\"url(#pe0ee96cef9)\">\n     <use xlink:href=\"#C1_0_7e753a81ad\" x=\"43.055442\" y=\"378.083778\" style=\"fill: #c8dcf0\"/>\n    </g>\n    <g clip-path=\"url(#pe0ee96cef9)\">\n     <use xlink:href=\"#C1_0_7e753a81ad\" x=\"43.055442\" y=\"366.202786\" style=\"fill: #c8dcf0\"/>\n    </g>\n    <g clip-path=\"url(#pe0ee96cef9)\">\n     <use xlink:href=\"#C1_0_7e753a81ad\" x=\"43.055442\" y=\"354.321794\" style=\"fill: #a8cee4\"/>\n    </g>\n    <g clip-path=\"url(#pe0ee96cef9)\">\n     <use xlink:href=\"#C1_0_7e753a81ad\" x=\"43.055442\" y=\"342.440802\" style=\"fill: #b8d5ea\"/>\n    </g>\n    <g clip-path=\"url(#pe0ee96cef9)\">\n     <use xlink:href=\"#C1_0_7e753a81ad\" x=\"43.055442\" y=\"330.559811\" style=\"fill: #d2e3f3\"/>\n    </g>\n    <g clip-path=\"url(#pe0ee96cef9)\">\n     <use xlink:href=\"#C1_0_7e753a81ad\" x=\"43.055442\" y=\"318.678819\" style=\"fill: #edf4fc\"/>\n    </g>\n    <g clip-path=\"url(#pe0ee96cef9)\">\n     <use xlink:href=\"#C1_0_7e753a81ad\" x=\"43.055442\" y=\"306.797827\" style=\"fill: #3a8ac2\"/>\n    </g>\n    <g clip-path=\"url(#pe0ee96cef9)\">\n     <use xlink:href=\"#C1_0_7e753a81ad\" x=\"43.055442\" y=\"294.916835\" style=\"fill: #e6f0f9\"/>\n    </g>\n    <g clip-path=\"url(#pe0ee96cef9)\">\n     <use xlink:href=\"#C1_0_7e753a81ad\" x=\"49.906352\" y=\"425.607745\" style=\"fill: #f7fbff\"/>\n    </g>\n    <g clip-path=\"url(#pe0ee96cef9)\">\n     <use xlink:href=\"#C1_0_7e753a81ad\" x=\"49.906352\" y=\"413.726753\" style=\"fill: #f4f9fe\"/>\n    </g>\n    <g clip-path=\"url(#pe0ee96cef9)\">\n     <use xlink:href=\"#C1_0_7e753a81ad\" x=\"49.906352\" y=\"401.845761\" style=\"fill: #e6f0f9\"/>\n    </g>\n    <g clip-path=\"url(#pe0ee96cef9)\">\n     <use xlink:href=\"#C1_0_7e753a81ad\" x=\"49.906352\" y=\"389.964769\" style=\"fill: #b3d3e8\"/>\n    </g>\n    <g clip-path=\"url(#pe0ee96cef9)\">\n     <use xlink:href=\"#C1_0_7e753a81ad\" x=\"49.906352\" y=\"378.083778\" style=\"fill: #a8cee4\"/>\n    </g>\n    <g clip-path=\"url(#pe0ee96cef9)\">\n     <use xlink:href=\"#C1_0_7e753a81ad\" x=\"49.906352\" y=\"366.202786\" style=\"fill: #084f99\"/>\n    </g>\n    <g clip-path=\"url(#pe0ee96cef9)\">\n     <use xlink:href=\"#C1_0_7e753a81ad\" x=\"49.906352\" y=\"354.321794\" style=\"fill: #cfe1f2\"/>\n    </g>\n    <g clip-path=\"url(#pe0ee96cef9)\">\n     <use xlink:href=\"#C1_0_7e753a81ad\" x=\"49.906352\" y=\"342.440802\" style=\"fill: #d9e7f5\"/>\n    </g>\n    <g clip-path=\"url(#pe0ee96cef9)\">\n     <use xlink:href=\"#C1_0_7e753a81ad\" x=\"49.906352\" y=\"330.559811\" style=\"fill: #c8dcf0\"/>\n    </g>\n    <g clip-path=\"url(#pe0ee96cef9)\">\n     <use xlink:href=\"#C1_0_7e753a81ad\" x=\"49.906352\" y=\"318.678819\" style=\"fill: #e6f0f9\"/>\n    </g>\n    <g clip-path=\"url(#pe0ee96cef9)\">\n     <use xlink:href=\"#C1_0_7e753a81ad\" x=\"49.906352\" y=\"306.797827\" style=\"fill: #79b5d9\"/>\n    </g>\n    <g clip-path=\"url(#pe0ee96cef9)\">\n     <use xlink:href=\"#C1_0_7e753a81ad\" x=\"49.906352\" y=\"294.916835\" style=\"fill: #f7fbff\"/>\n    </g>\n    <g clip-path=\"url(#pe0ee96cef9)\">\n     <use xlink:href=\"#C1_0_7e753a81ad\" x=\"56.757261\" y=\"425.607745\" style=\"fill: #f7fbff\"/>\n    </g>\n    <g clip-path=\"url(#pe0ee96cef9)\">\n     <use xlink:href=\"#C1_0_7e753a81ad\" x=\"56.757261\" y=\"413.726753\" style=\"fill: #cbdef1\"/>\n    </g>\n    <g clip-path=\"url(#pe0ee96cef9)\">\n     <use xlink:href=\"#C1_0_7e753a81ad\" x=\"56.757261\" y=\"401.845761\" style=\"fill: #cfe1f2\"/>\n    </g>\n    <g clip-path=\"url(#pe0ee96cef9)\">\n     <use xlink:href=\"#C1_0_7e753a81ad\" x=\"56.757261\" y=\"389.964769\" style=\"fill: #bed8ec\"/>\n    </g>\n    <g clip-path=\"url(#pe0ee96cef9)\">\n     <use xlink:href=\"#C1_0_7e753a81ad\" x=\"56.757261\" y=\"378.083778\" style=\"fill: #8fc2de\"/>\n    </g>\n    <g clip-path=\"url(#pe0ee96cef9)\">\n     <use xlink:href=\"#C1_0_7e753a81ad\" x=\"56.757261\" y=\"366.202786\" style=\"fill: #72b2d8\"/>\n    </g>\n    <g clip-path=\"url(#pe0ee96cef9)\">\n     <use xlink:href=\"#C1_0_7e753a81ad\" x=\"56.757261\" y=\"354.321794\" style=\"fill: #cbdef1\"/>\n    </g>\n    <g clip-path=\"url(#pe0ee96cef9)\">\n     <use xlink:href=\"#C1_0_7e753a81ad\" x=\"56.757261\" y=\"342.440802\" style=\"fill: #a3cce3\"/>\n    </g>\n    <g clip-path=\"url(#pe0ee96cef9)\">\n     <use xlink:href=\"#C1_0_7e753a81ad\" x=\"56.757261\" y=\"330.559811\" style=\"fill: #dce9f6\"/>\n    </g>\n    <g clip-path=\"url(#pe0ee96cef9)\">\n     <use xlink:href=\"#C1_0_7e753a81ad\" x=\"56.757261\" y=\"318.678819\" style=\"fill: #e6f0f9\"/>\n    </g>\n    <g clip-path=\"url(#pe0ee96cef9)\">\n     <use xlink:href=\"#C1_0_7e753a81ad\" x=\"56.757261\" y=\"306.797827\" style=\"fill: #f7fbff\"/>\n    </g>\n    <g clip-path=\"url(#pe0ee96cef9)\">\n     <use xlink:href=\"#C1_0_7e753a81ad\" x=\"56.757261\" y=\"294.916835\" style=\"fill: #f7fbff\"/>\n    </g>\n    <g clip-path=\"url(#pe0ee96cef9)\">\n     <use xlink:href=\"#C1_0_7e753a81ad\" x=\"63.60817\" y=\"425.607745\" style=\"fill: #f7fbff\"/>\n    </g>\n    <g clip-path=\"url(#pe0ee96cef9)\">\n     <use xlink:href=\"#C1_0_7e753a81ad\" x=\"63.60817\" y=\"413.726753\" style=\"fill: #f7fbff\"/>\n    </g>\n    <g clip-path=\"url(#pe0ee96cef9)\">\n     <use xlink:href=\"#C1_0_7e753a81ad\" x=\"63.60817\" y=\"401.845761\" style=\"fill: #cbdef1\"/>\n    </g>\n    <g clip-path=\"url(#pe0ee96cef9)\">\n     <use xlink:href=\"#C1_0_7e753a81ad\" x=\"63.60817\" y=\"389.964769\" style=\"fill: #65aad4\"/>\n    </g>\n    <g clip-path=\"url(#pe0ee96cef9)\">\n     <use xlink:href=\"#C1_0_7e753a81ad\" x=\"63.60817\" y=\"378.083778\" style=\"fill: #81badb\"/>\n    </g>\n    <g clip-path=\"url(#pe0ee96cef9)\">\n     <use xlink:href=\"#C1_0_7e753a81ad\" x=\"63.60817\" y=\"366.202786\" style=\"fill: #bed8ec\"/>\n    </g>\n    <g clip-path=\"url(#pe0ee96cef9)\">\n     <use xlink:href=\"#C1_0_7e753a81ad\" x=\"63.60817\" y=\"354.321794\" style=\"fill: #cbdef1\"/>\n    </g>\n    <g clip-path=\"url(#pe0ee96cef9)\">\n     <use xlink:href=\"#C1_0_7e753a81ad\" x=\"63.60817\" y=\"342.440802\" style=\"fill: #9cc9e1\"/>\n    </g>\n    <g clip-path=\"url(#pe0ee96cef9)\">\n     <use xlink:href=\"#C1_0_7e753a81ad\" x=\"63.60817\" y=\"330.559811\" style=\"fill: #a8cee4\"/>\n    </g>\n    <g clip-path=\"url(#pe0ee96cef9)\">\n     <use xlink:href=\"#C1_0_7e753a81ad\" x=\"63.60817\" y=\"318.678819\" style=\"fill: #f4f9fe\"/>\n    </g>\n    <g clip-path=\"url(#pe0ee96cef9)\">\n     <use xlink:href=\"#C1_0_7e753a81ad\" x=\"63.60817\" y=\"306.797827\" style=\"fill: #f7fbff\"/>\n    </g>\n    <g clip-path=\"url(#pe0ee96cef9)\">\n     <use xlink:href=\"#C1_0_7e753a81ad\" x=\"63.60817\" y=\"294.916835\" style=\"fill: #f7fbff\"/>\n    </g>\n    <g clip-path=\"url(#pe0ee96cef9)\">\n     <use xlink:href=\"#C1_0_7e753a81ad\" x=\"70.459079\" y=\"425.607745\" style=\"fill: #f7fbff\"/>\n    </g>\n    <g clip-path=\"url(#pe0ee96cef9)\">\n     <use xlink:href=\"#C1_0_7e753a81ad\" x=\"70.459079\" y=\"413.726753\" style=\"fill: #f7fbff\"/>\n    </g>\n    <g clip-path=\"url(#pe0ee96cef9)\">\n     <use xlink:href=\"#C1_0_7e753a81ad\" x=\"70.459079\" y=\"401.845761\" style=\"fill: #72b2d8\"/>\n    </g>\n    <g clip-path=\"url(#pe0ee96cef9)\">\n     <use xlink:href=\"#C1_0_7e753a81ad\" x=\"70.459079\" y=\"389.964769\" style=\"fill: #b3d3e8\"/>\n    </g>\n    <g clip-path=\"url(#pe0ee96cef9)\">\n     <use xlink:href=\"#C1_0_7e753a81ad\" x=\"70.459079\" y=\"378.083778\" style=\"fill: #95c5df\"/>\n    </g>\n    <g clip-path=\"url(#pe0ee96cef9)\">\n     <use xlink:href=\"#C1_0_7e753a81ad\" x=\"70.459079\" y=\"366.202786\" style=\"fill: #c8dcf0\"/>\n    </g>\n    <g clip-path=\"url(#pe0ee96cef9)\">\n     <use xlink:href=\"#C1_0_7e753a81ad\" x=\"70.459079\" y=\"354.321794\" style=\"fill: #95c5df\"/>\n    </g>\n    <g clip-path=\"url(#pe0ee96cef9)\">\n     <use xlink:href=\"#C1_0_7e753a81ad\" x=\"70.459079\" y=\"342.440802\" style=\"fill: #bed8ec\"/>\n    </g>\n    <g clip-path=\"url(#pe0ee96cef9)\">\n     <use xlink:href=\"#C1_0_7e753a81ad\" x=\"70.459079\" y=\"330.559811\" style=\"fill: #cbdef1\"/>\n    </g>\n    <g clip-path=\"url(#pe0ee96cef9)\">\n     <use xlink:href=\"#C1_0_7e753a81ad\" x=\"70.459079\" y=\"318.678819\" style=\"fill: #f7fbff\"/>\n    </g>\n    <g clip-path=\"url(#pe0ee96cef9)\">\n     <use xlink:href=\"#C1_0_7e753a81ad\" x=\"70.459079\" y=\"306.797827\" style=\"fill: #f7fbff\"/>\n    </g>\n    <g clip-path=\"url(#pe0ee96cef9)\">\n     <use xlink:href=\"#C1_0_7e753a81ad\" x=\"70.459079\" y=\"294.916835\" style=\"fill: #f7fbff\"/>\n    </g>\n    <g clip-path=\"url(#pe0ee96cef9)\">\n     <use xlink:href=\"#C1_0_7e753a81ad\" x=\"77.309988\" y=\"425.607745\" style=\"fill: #f7fbff\"/>\n    </g>\n    <g clip-path=\"url(#pe0ee96cef9)\">\n     <use xlink:href=\"#C1_0_7e753a81ad\" x=\"77.309988\" y=\"413.726753\" style=\"fill: #f7fbff\"/>\n    </g>\n    <g clip-path=\"url(#pe0ee96cef9)\">\n     <use xlink:href=\"#C1_0_7e753a81ad\" x=\"77.309988\" y=\"401.845761\" style=\"fill: #c8dcf0\"/>\n    </g>\n    <g clip-path=\"url(#pe0ee96cef9)\">\n     <use xlink:href=\"#C1_0_7e753a81ad\" x=\"77.309988\" y=\"389.964769\" style=\"fill: #bed8ec\"/>\n    </g>\n    <g clip-path=\"url(#pe0ee96cef9)\">\n     <use xlink:href=\"#C1_0_7e753a81ad\" x=\"77.309988\" y=\"378.083778\" style=\"fill: #8fc2de\"/>\n    </g>\n    <g clip-path=\"url(#pe0ee96cef9)\">\n     <use xlink:href=\"#C1_0_7e753a81ad\" x=\"77.309988\" y=\"366.202786\" style=\"fill: #bed8ec\"/>\n    </g>\n    <g clip-path=\"url(#pe0ee96cef9)\">\n     <use xlink:href=\"#C1_0_7e753a81ad\" x=\"77.309988\" y=\"354.321794\" style=\"fill: #a8cee4\"/>\n    </g>\n    <g clip-path=\"url(#pe0ee96cef9)\">\n     <use xlink:href=\"#C1_0_7e753a81ad\" x=\"77.309988\" y=\"342.440802\" style=\"fill: #b8d5ea\"/>\n    </g>\n    <g clip-path=\"url(#pe0ee96cef9)\">\n     <use xlink:href=\"#C1_0_7e753a81ad\" x=\"77.309988\" y=\"330.559811\" style=\"fill: #a8cee4\"/>\n    </g>\n    <g clip-path=\"url(#pe0ee96cef9)\">\n     <use xlink:href=\"#C1_0_7e753a81ad\" x=\"77.309988\" y=\"318.678819\" style=\"fill: #f7fbff\"/>\n    </g>\n    <g clip-path=\"url(#pe0ee96cef9)\">\n     <use xlink:href=\"#C1_0_7e753a81ad\" x=\"77.309988\" y=\"306.797827\" style=\"fill: #f7fbff\"/>\n    </g>\n    <g clip-path=\"url(#pe0ee96cef9)\">\n     <use xlink:href=\"#C1_0_7e753a81ad\" x=\"77.309988\" y=\"294.916835\" style=\"fill: #cbdef1\"/>\n    </g>\n    <g clip-path=\"url(#pe0ee96cef9)\">\n     <use xlink:href=\"#C1_0_7e753a81ad\" x=\"84.160897\" y=\"425.607745\" style=\"fill: #dfecf7\"/>\n    </g>\n    <g clip-path=\"url(#pe0ee96cef9)\">\n     <use xlink:href=\"#C1_0_7e753a81ad\" x=\"84.160897\" y=\"413.726753\" style=\"fill: #a3cce3\"/>\n    </g>\n    <g clip-path=\"url(#pe0ee96cef9)\">\n     <use xlink:href=\"#C1_0_7e753a81ad\" x=\"84.160897\" y=\"401.845761\" style=\"fill: #b3d3e8\"/>\n    </g>\n    <g clip-path=\"url(#pe0ee96cef9)\">\n     <use xlink:href=\"#C1_0_7e753a81ad\" x=\"84.160897\" y=\"389.964769\" style=\"fill: #cfe1f2\"/>\n    </g>\n    <g clip-path=\"url(#pe0ee96cef9)\">\n     <use xlink:href=\"#C1_0_7e753a81ad\" x=\"84.160897\" y=\"378.083778\" style=\"fill: #cbdef1\"/>\n    </g>\n    <g clip-path=\"url(#pe0ee96cef9)\">\n     <use xlink:href=\"#C1_0_7e753a81ad\" x=\"84.160897\" y=\"366.202786\" style=\"fill: #b8d5ea\"/>\n    </g>\n    <g clip-path=\"url(#pe0ee96cef9)\">\n     <use xlink:href=\"#C1_0_7e753a81ad\" x=\"84.160897\" y=\"354.321794\" style=\"fill: #cfe1f2\"/>\n    </g>\n    <g clip-path=\"url(#pe0ee96cef9)\">\n     <use xlink:href=\"#C1_0_7e753a81ad\" x=\"84.160897\" y=\"342.440802\" style=\"fill: #d2e3f3\"/>\n    </g>\n    <g clip-path=\"url(#pe0ee96cef9)\">\n     <use xlink:href=\"#C1_0_7e753a81ad\" x=\"84.160897\" y=\"330.559811\" style=\"fill: #d5e5f4\"/>\n    </g>\n    <g clip-path=\"url(#pe0ee96cef9)\">\n     <use xlink:href=\"#C1_0_7e753a81ad\" x=\"84.160897\" y=\"318.678819\" style=\"fill: #dce9f6\"/>\n    </g>\n    <g clip-path=\"url(#pe0ee96cef9)\">\n     <use xlink:href=\"#C1_0_7e753a81ad\" x=\"84.160897\" y=\"306.797827\" style=\"fill: #f7fbff\"/>\n    </g>\n    <g clip-path=\"url(#pe0ee96cef9)\">\n     <use xlink:href=\"#C1_0_7e753a81ad\" x=\"84.160897\" y=\"294.916835\" style=\"fill: #f7fbff\"/>\n    </g>\n    <g clip-path=\"url(#pe0ee96cef9)\">\n     <use xlink:href=\"#C1_0_7e753a81ad\" x=\"91.011806\" y=\"425.607745\" style=\"fill: #f1f7fd\"/>\n    </g>\n    <g clip-path=\"url(#pe0ee96cef9)\">\n     <use xlink:href=\"#C1_0_7e753a81ad\" x=\"91.011806\" y=\"413.726753\" style=\"fill: #95c5df\"/>\n    </g>\n    <g clip-path=\"url(#pe0ee96cef9)\">\n     <use xlink:href=\"#C1_0_7e753a81ad\" x=\"91.011806\" y=\"401.845761\" style=\"fill: #d9e7f5\"/>\n    </g>\n    <g clip-path=\"url(#pe0ee96cef9)\">\n     <use xlink:href=\"#C1_0_7e753a81ad\" x=\"91.011806\" y=\"389.964769\" style=\"fill: #c3daee\"/>\n    </g>\n    <g clip-path=\"url(#pe0ee96cef9)\">\n     <use xlink:href=\"#C1_0_7e753a81ad\" x=\"91.011806\" y=\"378.083778\" style=\"fill: #c3daee\"/>\n    </g>\n    <g clip-path=\"url(#pe0ee96cef9)\">\n     <use xlink:href=\"#C1_0_7e753a81ad\" x=\"91.011806\" y=\"366.202786\" style=\"fill: #81badb\"/>\n    </g>\n    <g clip-path=\"url(#pe0ee96cef9)\">\n     <use xlink:href=\"#C1_0_7e753a81ad\" x=\"91.011806\" y=\"354.321794\" style=\"fill: #9cc9e1\"/>\n    </g>\n    <g clip-path=\"url(#pe0ee96cef9)\">\n     <use xlink:href=\"#C1_0_7e753a81ad\" x=\"91.011806\" y=\"342.440802\" style=\"fill: #b3d3e8\"/>\n    </g>\n    <g clip-path=\"url(#pe0ee96cef9)\">\n     <use xlink:href=\"#C1_0_7e753a81ad\" x=\"91.011806\" y=\"330.559811\" style=\"fill: #d2e3f3\"/>\n    </g>\n    <g clip-path=\"url(#pe0ee96cef9)\">\n     <use xlink:href=\"#C1_0_7e753a81ad\" x=\"91.011806\" y=\"318.678819\" style=\"fill: #f4f9fe\"/>\n    </g>\n    <g clip-path=\"url(#pe0ee96cef9)\">\n     <use xlink:href=\"#C1_0_7e753a81ad\" x=\"91.011806\" y=\"306.797827\" style=\"fill: #f7fbff\"/>\n    </g>\n    <g clip-path=\"url(#pe0ee96cef9)\">\n     <use xlink:href=\"#C1_0_7e753a81ad\" x=\"91.011806\" y=\"294.916835\" style=\"fill: #f7fbff\"/>\n    </g>\n    <g clip-path=\"url(#pe0ee96cef9)\">\n     <use xlink:href=\"#C1_0_7e753a81ad\" x=\"97.862715\" y=\"425.607745\" style=\"fill: #f7fbff\"/>\n    </g>\n    <g clip-path=\"url(#pe0ee96cef9)\">\n     <use xlink:href=\"#C1_0_7e753a81ad\" x=\"97.862715\" y=\"413.726753\" style=\"fill: #cbdef1\"/>\n    </g>\n    <g clip-path=\"url(#pe0ee96cef9)\">\n     <use xlink:href=\"#C1_0_7e753a81ad\" x=\"97.862715\" y=\"401.845761\" style=\"fill: #bed8ec\"/>\n    </g>\n    <g clip-path=\"url(#pe0ee96cef9)\">\n     <use xlink:href=\"#C1_0_7e753a81ad\" x=\"97.862715\" y=\"389.964769\" style=\"fill: #9cc9e1\"/>\n    </g>\n    <g clip-path=\"url(#pe0ee96cef9)\">\n     <use xlink:href=\"#C1_0_7e753a81ad\" x=\"97.862715\" y=\"378.083778\" style=\"fill: #8fc2de\"/>\n    </g>\n    <g clip-path=\"url(#pe0ee96cef9)\">\n     <use xlink:href=\"#C1_0_7e753a81ad\" x=\"97.862715\" y=\"366.202786\" style=\"fill: #87bddc\"/>\n    </g>\n    <g clip-path=\"url(#pe0ee96cef9)\">\n     <use xlink:href=\"#C1_0_7e753a81ad\" x=\"97.862715\" y=\"354.321794\" style=\"fill: #a8cee4\"/>\n    </g>\n    <g clip-path=\"url(#pe0ee96cef9)\">\n     <use xlink:href=\"#C1_0_7e753a81ad\" x=\"97.862715\" y=\"342.440802\" style=\"fill: #d5e5f4\"/>\n    </g>\n    <g clip-path=\"url(#pe0ee96cef9)\">\n     <use xlink:href=\"#C1_0_7e753a81ad\" x=\"97.862715\" y=\"330.559811\" style=\"fill: #bed8ec\"/>\n    </g>\n    <g clip-path=\"url(#pe0ee96cef9)\">\n     <use xlink:href=\"#C1_0_7e753a81ad\" x=\"97.862715\" y=\"318.678819\" style=\"fill: #f4f9fe\"/>\n    </g>\n    <g clip-path=\"url(#pe0ee96cef9)\">\n     <use xlink:href=\"#C1_0_7e753a81ad\" x=\"97.862715\" y=\"306.797827\" style=\"fill: #f7fbff\"/>\n    </g>\n    <g clip-path=\"url(#pe0ee96cef9)\">\n     <use xlink:href=\"#C1_0_7e753a81ad\" x=\"97.862715\" y=\"294.916835\" style=\"fill: #f7fbff\"/>\n    </g>\n    <g clip-path=\"url(#pe0ee96cef9)\">\n     <use xlink:href=\"#C1_0_7e753a81ad\" x=\"104.713624\" y=\"425.607745\" style=\"fill: #f7fbff\"/>\n    </g>\n    <g clip-path=\"url(#pe0ee96cef9)\">\n     <use xlink:href=\"#C1_0_7e753a81ad\" x=\"104.713624\" y=\"413.726753\" style=\"fill: #f1f7fd\"/>\n    </g>\n    <g clip-path=\"url(#pe0ee96cef9)\">\n     <use xlink:href=\"#C1_0_7e753a81ad\" x=\"104.713624\" y=\"401.845761\" style=\"fill: #cbdef1\"/>\n    </g>\n    <g clip-path=\"url(#pe0ee96cef9)\">\n     <use xlink:href=\"#C1_0_7e753a81ad\" x=\"104.713624\" y=\"389.964769\" style=\"fill: #b8d5ea\"/>\n    </g>\n    <g clip-path=\"url(#pe0ee96cef9)\">\n     <use xlink:href=\"#C1_0_7e753a81ad\" x=\"104.713624\" y=\"378.083778\" style=\"fill: #87bddc\"/>\n    </g>\n    <g clip-path=\"url(#pe0ee96cef9)\">\n     <use xlink:href=\"#C1_0_7e753a81ad\" x=\"104.713624\" y=\"366.202786\" style=\"fill: #9cc9e1\"/>\n    </g>\n    <g clip-path=\"url(#pe0ee96cef9)\">\n     <use xlink:href=\"#C1_0_7e753a81ad\" x=\"104.713624\" y=\"354.321794\" style=\"fill: #60a7d2\"/>\n    </g>\n    <g clip-path=\"url(#pe0ee96cef9)\">\n     <use xlink:href=\"#C1_0_7e753a81ad\" x=\"104.713624\" y=\"342.440802\" style=\"fill: #60a7d2\"/>\n    </g>\n    <g clip-path=\"url(#pe0ee96cef9)\">\n     <use xlink:href=\"#C1_0_7e753a81ad\" x=\"104.713624\" y=\"330.559811\" style=\"fill: #9cc9e1\"/>\n    </g>\n    <g clip-path=\"url(#pe0ee96cef9)\">\n     <use xlink:href=\"#C1_0_7e753a81ad\" x=\"104.713624\" y=\"318.678819\" style=\"fill: #dce9f6\"/>\n    </g>\n    <g clip-path=\"url(#pe0ee96cef9)\">\n     <use xlink:href=\"#C1_0_7e753a81ad\" x=\"104.713624\" y=\"306.797827\" style=\"fill: #f7fbff\"/>\n    </g>\n    <g clip-path=\"url(#pe0ee96cef9)\">\n     <use xlink:href=\"#C1_0_7e753a81ad\" x=\"104.713624\" y=\"294.916835\" style=\"fill: #f7fbff\"/>\n    </g>\n    <g clip-path=\"url(#pe0ee96cef9)\">\n     <use xlink:href=\"#C1_0_7e753a81ad\" x=\"111.564533\" y=\"425.607745\" style=\"fill: #f7fbff\"/>\n    </g>\n    <g clip-path=\"url(#pe0ee96cef9)\">\n     <use xlink:href=\"#C1_0_7e753a81ad\" x=\"111.564533\" y=\"413.726753\" style=\"fill: #f7fbff\"/>\n    </g>\n    <g clip-path=\"url(#pe0ee96cef9)\">\n     <use xlink:href=\"#C1_0_7e753a81ad\" x=\"111.564533\" y=\"401.845761\" style=\"fill: #bed8ec\"/>\n    </g>\n    <g clip-path=\"url(#pe0ee96cef9)\">\n     <use xlink:href=\"#C1_0_7e753a81ad\" x=\"111.564533\" y=\"389.964769\" style=\"fill: #72b2d8\"/>\n    </g>\n    <g clip-path=\"url(#pe0ee96cef9)\">\n     <use xlink:href=\"#C1_0_7e753a81ad\" x=\"111.564533\" y=\"378.083778\" style=\"fill: #95c5df\"/>\n    </g>\n    <g clip-path=\"url(#pe0ee96cef9)\">\n     <use xlink:href=\"#C1_0_7e753a81ad\" x=\"111.564533\" y=\"366.202786\" style=\"fill: #a3cce3\"/>\n    </g>\n    <g clip-path=\"url(#pe0ee96cef9)\">\n     <use xlink:href=\"#C1_0_7e753a81ad\" x=\"111.564533\" y=\"354.321794\" style=\"fill: #c3daee\"/>\n    </g>\n    <g clip-path=\"url(#pe0ee96cef9)\">\n     <use xlink:href=\"#C1_0_7e753a81ad\" x=\"111.564533\" y=\"342.440802\" style=\"fill: #4e9acb\"/>\n    </g>\n    <g clip-path=\"url(#pe0ee96cef9)\">\n     <use xlink:href=\"#C1_0_7e753a81ad\" x=\"111.564533\" y=\"330.559811\" style=\"fill: #95c5df\"/>\n    </g>\n    <g clip-path=\"url(#pe0ee96cef9)\">\n     <use xlink:href=\"#C1_0_7e753a81ad\" x=\"111.564533\" y=\"318.678819\" style=\"fill: #f7fbff\"/>\n    </g>\n    <g clip-path=\"url(#pe0ee96cef9)\">\n     <use xlink:href=\"#C1_0_7e753a81ad\" x=\"111.564533\" y=\"306.797827\" style=\"fill: #f7fbff\"/>\n    </g>\n    <g clip-path=\"url(#pe0ee96cef9)\">\n     <use xlink:href=\"#C1_0_7e753a81ad\" x=\"111.564533\" y=\"294.916835\" style=\"fill: #f7fbff\"/>\n    </g>\n    <g clip-path=\"url(#pe0ee96cef9)\">\n     <use xlink:href=\"#C1_0_7e753a81ad\" x=\"118.415442\" y=\"425.607745\" style=\"fill: #f7fbff\"/>\n    </g>\n    <g clip-path=\"url(#pe0ee96cef9)\">\n     <use xlink:href=\"#C1_0_7e753a81ad\" x=\"118.415442\" y=\"413.726753\" style=\"fill: #f7fbff\"/>\n    </g>\n    <g clip-path=\"url(#pe0ee96cef9)\">\n     <use xlink:href=\"#C1_0_7e753a81ad\" x=\"118.415442\" y=\"401.845761\" style=\"fill: #d2e3f3\"/>\n    </g>\n    <g clip-path=\"url(#pe0ee96cef9)\">\n     <use xlink:href=\"#C1_0_7e753a81ad\" x=\"118.415442\" y=\"389.964769\" style=\"fill: #aed1e7\"/>\n    </g>\n    <g clip-path=\"url(#pe0ee96cef9)\">\n     <use xlink:href=\"#C1_0_7e753a81ad\" x=\"118.415442\" y=\"378.083778\" style=\"fill: #549fcd\"/>\n    </g>\n    <g clip-path=\"url(#pe0ee96cef9)\">\n     <use xlink:href=\"#C1_0_7e753a81ad\" x=\"118.415442\" y=\"366.202786\" style=\"fill: #a3cce3\"/>\n    </g>\n    <g clip-path=\"url(#pe0ee96cef9)\">\n     <use xlink:href=\"#C1_0_7e753a81ad\" x=\"118.415442\" y=\"354.321794\" style=\"fill: #b8d5ea\"/>\n    </g>\n    <g clip-path=\"url(#pe0ee96cef9)\">\n     <use xlink:href=\"#C1_0_7e753a81ad\" x=\"118.415442\" y=\"342.440802\" style=\"fill: #a3cce3\"/>\n    </g>\n    <g clip-path=\"url(#pe0ee96cef9)\">\n     <use xlink:href=\"#C1_0_7e753a81ad\" x=\"118.415442\" y=\"330.559811\" style=\"fill: #a3cce3\"/>\n    </g>\n    <g clip-path=\"url(#pe0ee96cef9)\">\n     <use xlink:href=\"#C1_0_7e753a81ad\" x=\"118.415442\" y=\"318.678819\" style=\"fill: #f7fbff\"/>\n    </g>\n    <g clip-path=\"url(#pe0ee96cef9)\">\n     <use xlink:href=\"#C1_0_7e753a81ad\" x=\"118.415442\" y=\"306.797827\" style=\"fill: #f7fbff\"/>\n    </g>\n    <g clip-path=\"url(#pe0ee96cef9)\">\n     <use xlink:href=\"#C1_0_7e753a81ad\" x=\"118.415442\" y=\"294.916835\" style=\"fill: #f7fbff\"/>\n    </g>\n    <g clip-path=\"url(#pe0ee96cef9)\">\n     <use xlink:href=\"#C1_0_7e753a81ad\" x=\"125.266352\" y=\"425.607745\" style=\"fill: #f7fbff\"/>\n    </g>\n    <g clip-path=\"url(#pe0ee96cef9)\">\n     <use xlink:href=\"#C1_0_7e753a81ad\" x=\"125.266352\" y=\"413.726753\" style=\"fill: #e3eef8\"/>\n    </g>\n    <g clip-path=\"url(#pe0ee96cef9)\">\n     <use xlink:href=\"#C1_0_7e753a81ad\" x=\"125.266352\" y=\"401.845761\" style=\"fill: #e3eef8\"/>\n    </g>\n    <g clip-path=\"url(#pe0ee96cef9)\">\n     <use xlink:href=\"#C1_0_7e753a81ad\" x=\"125.266352\" y=\"389.964769\" style=\"fill: #b3d3e8\"/>\n    </g>\n    <g clip-path=\"url(#pe0ee96cef9)\">\n     <use xlink:href=\"#C1_0_7e753a81ad\" x=\"125.266352\" y=\"378.083778\" style=\"fill: #79b5d9\"/>\n    </g>\n    <g clip-path=\"url(#pe0ee96cef9)\">\n     <use xlink:href=\"#C1_0_7e753a81ad\" x=\"125.266352\" y=\"366.202786\" style=\"fill: #87bddc\"/>\n    </g>\n    <g clip-path=\"url(#pe0ee96cef9)\">\n     <use xlink:href=\"#C1_0_7e753a81ad\" x=\"125.266352\" y=\"354.321794\" style=\"fill: #4997c9\"/>\n    </g>\n    <g clip-path=\"url(#pe0ee96cef9)\">\n     <use xlink:href=\"#C1_0_7e753a81ad\" x=\"125.266352\" y=\"342.440802\" style=\"fill: #60a7d2\"/>\n    </g>\n    <g clip-path=\"url(#pe0ee96cef9)\">\n     <use xlink:href=\"#C1_0_7e753a81ad\" x=\"125.266352\" y=\"330.559811\" style=\"fill: #95c5df\"/>\n    </g>\n    <g clip-path=\"url(#pe0ee96cef9)\">\n     <use xlink:href=\"#C1_0_7e753a81ad\" x=\"125.266352\" y=\"318.678819\" style=\"fill: #f7fbff\"/>\n    </g>\n    <g clip-path=\"url(#pe0ee96cef9)\">\n     <use xlink:href=\"#C1_0_7e753a81ad\" x=\"125.266352\" y=\"306.797827\" style=\"fill: #f7fbff\"/>\n    </g>\n    <g clip-path=\"url(#pe0ee96cef9)\">\n     <use xlink:href=\"#C1_0_7e753a81ad\" x=\"125.266352\" y=\"294.916835\" style=\"fill: #f7fbff\"/>\n    </g>\n    <g clip-path=\"url(#pe0ee96cef9)\">\n     <use xlink:href=\"#C1_0_7e753a81ad\" x=\"132.117261\" y=\"425.607745\" style=\"fill: #f7fbff\"/>\n    </g>\n    <g clip-path=\"url(#pe0ee96cef9)\">\n     <use xlink:href=\"#C1_0_7e753a81ad\" x=\"132.117261\" y=\"413.726753\" style=\"fill: #f7fbff\"/>\n    </g>\n    <g clip-path=\"url(#pe0ee96cef9)\">\n     <use xlink:href=\"#C1_0_7e753a81ad\" x=\"132.117261\" y=\"401.845761\" style=\"fill: #cfe1f2\"/>\n    </g>\n    <g clip-path=\"url(#pe0ee96cef9)\">\n     <use xlink:href=\"#C1_0_7e753a81ad\" x=\"132.117261\" y=\"389.964769\" style=\"fill: #87bddc\"/>\n    </g>\n    <g clip-path=\"url(#pe0ee96cef9)\">\n     <use xlink:href=\"#C1_0_7e753a81ad\" x=\"132.117261\" y=\"378.083778\" style=\"fill: #4493c7\"/>\n    </g>\n    <g clip-path=\"url(#pe0ee96cef9)\">\n     <use xlink:href=\"#C1_0_7e753a81ad\" x=\"132.117261\" y=\"366.202786\" style=\"fill: #72b2d8\"/>\n    </g>\n    <g clip-path=\"url(#pe0ee96cef9)\">\n     <use xlink:href=\"#C1_0_7e753a81ad\" x=\"132.117261\" y=\"354.321794\" style=\"fill: #2d7dbb\"/>\n    </g>\n    <g clip-path=\"url(#pe0ee96cef9)\">\n     <use xlink:href=\"#C1_0_7e753a81ad\" x=\"132.117261\" y=\"342.440802\" style=\"fill: #08306b\"/>\n    </g>\n    <g clip-path=\"url(#pe0ee96cef9)\">\n     <use xlink:href=\"#C1_0_7e753a81ad\" x=\"132.117261\" y=\"330.559811\" style=\"fill: #87bddc\"/>\n    </g>\n    <g clip-path=\"url(#pe0ee96cef9)\">\n     <use xlink:href=\"#C1_0_7e753a81ad\" x=\"132.117261\" y=\"318.678819\" style=\"fill: #f7fbff\"/>\n    </g>\n    <g clip-path=\"url(#pe0ee96cef9)\">\n     <use xlink:href=\"#C1_0_7e753a81ad\" x=\"132.117261\" y=\"306.797827\" style=\"fill: #f7fbff\"/>\n    </g>\n    <g clip-path=\"url(#pe0ee96cef9)\">\n     <use xlink:href=\"#C1_0_7e753a81ad\" x=\"132.117261\" y=\"294.916835\" style=\"fill: #f7fbff\"/>\n    </g>\n    <g clip-path=\"url(#pe0ee96cef9)\">\n     <use xlink:href=\"#C1_0_7e753a81ad\" x=\"138.96817\" y=\"425.607745\" style=\"fill: #f7fbff\"/>\n    </g>\n    <g clip-path=\"url(#pe0ee96cef9)\">\n     <use xlink:href=\"#C1_0_7e753a81ad\" x=\"138.96817\" y=\"413.726753\" style=\"fill: #f7fbff\"/>\n    </g>\n    <g clip-path=\"url(#pe0ee96cef9)\">\n     <use xlink:href=\"#C1_0_7e753a81ad\" x=\"138.96817\" y=\"401.845761\" style=\"fill: #eaf2fb\"/>\n    </g>\n    <g clip-path=\"url(#pe0ee96cef9)\">\n     <use xlink:href=\"#C1_0_7e753a81ad\" x=\"138.96817\" y=\"389.964769\" style=\"fill: #b8d5ea\"/>\n    </g>\n    <g clip-path=\"url(#pe0ee96cef9)\">\n     <use xlink:href=\"#C1_0_7e753a81ad\" x=\"138.96817\" y=\"378.083778\" style=\"fill: #87bddc\"/>\n    </g>\n    <g clip-path=\"url(#pe0ee96cef9)\">\n     <use xlink:href=\"#C1_0_7e753a81ad\" x=\"138.96817\" y=\"366.202786\" style=\"fill: #bed8ec\"/>\n    </g>\n    <g clip-path=\"url(#pe0ee96cef9)\">\n     <use xlink:href=\"#C1_0_7e753a81ad\" x=\"138.96817\" y=\"354.321794\" style=\"fill: #eaf2fb\"/>\n    </g>\n    <g clip-path=\"url(#pe0ee96cef9)\">\n     <use xlink:href=\"#C1_0_7e753a81ad\" x=\"138.96817\" y=\"342.440802\" style=\"fill: #87bddc\"/>\n    </g>\n    <g clip-path=\"url(#pe0ee96cef9)\">\n     <use xlink:href=\"#C1_0_7e753a81ad\" x=\"138.96817\" y=\"330.559811\" style=\"fill: #084285\"/>\n    </g>\n    <g clip-path=\"url(#pe0ee96cef9)\">\n     <use xlink:href=\"#C1_0_7e753a81ad\" x=\"138.96817\" y=\"318.678819\" style=\"fill: #f7fbff\"/>\n    </g>\n    <g clip-path=\"url(#pe0ee96cef9)\">\n     <use xlink:href=\"#C1_0_7e753a81ad\" x=\"138.96817\" y=\"306.797827\" style=\"fill: #f7fbff\"/>\n    </g>\n    <g clip-path=\"url(#pe0ee96cef9)\">\n     <use xlink:href=\"#C1_0_7e753a81ad\" x=\"138.96817\" y=\"294.916835\" style=\"fill: #f7fbff\"/>\n    </g>\n    <g clip-path=\"url(#pe0ee96cef9)\">\n     <use xlink:href=\"#C1_0_7e753a81ad\" x=\"145.819079\" y=\"425.607745\" style=\"fill: #f7fbff\"/>\n    </g>\n    <g clip-path=\"url(#pe0ee96cef9)\">\n     <use xlink:href=\"#C1_0_7e753a81ad\" x=\"145.819079\" y=\"413.726753\" style=\"fill: #f7fbff\"/>\n    </g>\n    <g clip-path=\"url(#pe0ee96cef9)\">\n     <use xlink:href=\"#C1_0_7e753a81ad\" x=\"145.819079\" y=\"401.845761\" style=\"fill: #f7fbff\"/>\n    </g>\n    <g clip-path=\"url(#pe0ee96cef9)\">\n     <use xlink:href=\"#C1_0_7e753a81ad\" x=\"145.819079\" y=\"389.964769\" style=\"fill: #c8dcf0\"/>\n    </g>\n    <g clip-path=\"url(#pe0ee96cef9)\">\n     <use xlink:href=\"#C1_0_7e753a81ad\" x=\"145.819079\" y=\"378.083778\" style=\"fill: #edf4fc\"/>\n    </g>\n    <g clip-path=\"url(#pe0ee96cef9)\">\n     <use xlink:href=\"#C1_0_7e753a81ad\" x=\"145.819079\" y=\"366.202786\" style=\"fill: #f7fbff\"/>\n    </g>\n    <g clip-path=\"url(#pe0ee96cef9)\">\n     <use xlink:href=\"#C1_0_7e753a81ad\" x=\"145.819079\" y=\"354.321794\" style=\"fill: #f7fbff\"/>\n    </g>\n    <g clip-path=\"url(#pe0ee96cef9)\">\n     <use xlink:href=\"#C1_0_7e753a81ad\" x=\"145.819079\" y=\"342.440802\" style=\"fill: #f7fbff\"/>\n    </g>\n    <g clip-path=\"url(#pe0ee96cef9)\">\n     <use xlink:href=\"#C1_0_7e753a81ad\" x=\"145.819079\" y=\"330.559811\" style=\"fill: #f7fbff\"/>\n    </g>\n    <g clip-path=\"url(#pe0ee96cef9)\">\n     <use xlink:href=\"#C1_0_7e753a81ad\" x=\"145.819079\" y=\"318.678819\" style=\"fill: #f7fbff\"/>\n    </g>\n    <g clip-path=\"url(#pe0ee96cef9)\">\n     <use xlink:href=\"#C1_0_7e753a81ad\" x=\"145.819079\" y=\"306.797827\" style=\"fill: #f7fbff\"/>\n    </g>\n    <g clip-path=\"url(#pe0ee96cef9)\">\n     <use xlink:href=\"#C1_0_7e753a81ad\" x=\"145.819079\" y=\"294.916835\" style=\"fill: #f7fbff\"/>\n    </g>\n    <g clip-path=\"url(#pe0ee96cef9)\">\n     <use xlink:href=\"#C1_0_7e753a81ad\" x=\"152.669988\" y=\"425.607745\" style=\"fill: #f7fbff\"/>\n    </g>\n    <g clip-path=\"url(#pe0ee96cef9)\">\n     <use xlink:href=\"#C1_0_7e753a81ad\" x=\"152.669988\" y=\"413.726753\" style=\"fill: #f7fbff\"/>\n    </g>\n    <g clip-path=\"url(#pe0ee96cef9)\">\n     <use xlink:href=\"#C1_0_7e753a81ad\" x=\"152.669988\" y=\"401.845761\" style=\"fill: #f7fbff\"/>\n    </g>\n    <g clip-path=\"url(#pe0ee96cef9)\">\n     <use xlink:href=\"#C1_0_7e753a81ad\" x=\"152.669988\" y=\"389.964769\" style=\"fill: #d5e5f4\"/>\n    </g>\n    <g clip-path=\"url(#pe0ee96cef9)\">\n     <use xlink:href=\"#C1_0_7e753a81ad\" x=\"152.669988\" y=\"378.083778\" style=\"fill: #f7fbff\"/>\n    </g>\n    <g clip-path=\"url(#pe0ee96cef9)\">\n     <use xlink:href=\"#C1_0_7e753a81ad\" x=\"152.669988\" y=\"366.202786\" style=\"fill: #f7fbff\"/>\n    </g>\n    <g clip-path=\"url(#pe0ee96cef9)\">\n     <use xlink:href=\"#C1_0_7e753a81ad\" x=\"152.669988\" y=\"354.321794\" style=\"fill: #f7fbff\"/>\n    </g>\n    <g clip-path=\"url(#pe0ee96cef9)\">\n     <use xlink:href=\"#C1_0_7e753a81ad\" x=\"152.669988\" y=\"342.440802\" style=\"fill: #f7fbff\"/>\n    </g>\n    <g clip-path=\"url(#pe0ee96cef9)\">\n     <use xlink:href=\"#C1_0_7e753a81ad\" x=\"152.669988\" y=\"330.559811\" style=\"fill: #f7fbff\"/>\n    </g>\n    <g clip-path=\"url(#pe0ee96cef9)\">\n     <use xlink:href=\"#C1_0_7e753a81ad\" x=\"152.669988\" y=\"318.678819\" style=\"fill: #f7fbff\"/>\n    </g>\n    <g clip-path=\"url(#pe0ee96cef9)\">\n     <use xlink:href=\"#C1_0_7e753a81ad\" x=\"152.669988\" y=\"306.797827\" style=\"fill: #f7fbff\"/>\n    </g>\n    <g clip-path=\"url(#pe0ee96cef9)\">\n     <use xlink:href=\"#C1_0_7e753a81ad\" x=\"152.669988\" y=\"294.916835\" style=\"fill: #f7fbff\"/>\n    </g>\n    <g clip-path=\"url(#pe0ee96cef9)\">\n     <use xlink:href=\"#C1_0_7e753a81ad\" x=\"19.077261\" y=\"419.667249\" style=\"fill: #f7fbff\"/>\n    </g>\n    <g clip-path=\"url(#pe0ee96cef9)\">\n     <use xlink:href=\"#C1_0_7e753a81ad\" x=\"19.077261\" y=\"407.786257\" style=\"fill: #aed1e7\"/>\n    </g>\n    <g clip-path=\"url(#pe0ee96cef9)\">\n     <use xlink:href=\"#C1_0_7e753a81ad\" x=\"19.077261\" y=\"395.905265\" style=\"fill: #f7fbff\"/>\n    </g>\n    <g clip-path=\"url(#pe0ee96cef9)\">\n     <use xlink:href=\"#C1_0_7e753a81ad\" x=\"19.077261\" y=\"384.024274\" style=\"fill: #f4f9fe\"/>\n    </g>\n    <g clip-path=\"url(#pe0ee96cef9)\">\n     <use xlink:href=\"#C1_0_7e753a81ad\" x=\"19.077261\" y=\"372.143282\" style=\"fill: #3181bd\"/>\n    </g>\n    <g clip-path=\"url(#pe0ee96cef9)\">\n     <use xlink:href=\"#C1_0_7e753a81ad\" x=\"19.077261\" y=\"360.26229\" style=\"fill: #6aaed6\"/>\n    </g>\n    <g clip-path=\"url(#pe0ee96cef9)\">\n     <use xlink:href=\"#C1_0_7e753a81ad\" x=\"19.077261\" y=\"348.381298\" style=\"fill: #d5e5f4\"/>\n    </g>\n    <g clip-path=\"url(#pe0ee96cef9)\">\n     <use xlink:href=\"#C1_0_7e753a81ad\" x=\"19.077261\" y=\"336.500307\" style=\"fill: #aed1e7\"/>\n    </g>\n    <g clip-path=\"url(#pe0ee96cef9)\">\n     <use xlink:href=\"#C1_0_7e753a81ad\" x=\"19.077261\" y=\"324.619315\" style=\"fill: #f7fbff\"/>\n    </g>\n    <g clip-path=\"url(#pe0ee96cef9)\">\n     <use xlink:href=\"#C1_0_7e753a81ad\" x=\"19.077261\" y=\"312.738323\" style=\"fill: #f7fbff\"/>\n    </g>\n    <g clip-path=\"url(#pe0ee96cef9)\">\n     <use xlink:href=\"#C1_0_7e753a81ad\" x=\"19.077261\" y=\"300.857331\" style=\"fill: #f7fbff\"/>\n    </g>\n    <g clip-path=\"url(#pe0ee96cef9)\">\n     <use xlink:href=\"#C1_0_7e753a81ad\" x=\"25.92817\" y=\"419.667249\" style=\"fill: #f7fbff\"/>\n    </g>\n    <g clip-path=\"url(#pe0ee96cef9)\">\n     <use xlink:href=\"#C1_0_7e753a81ad\" x=\"25.92817\" y=\"407.786257\" style=\"fill: #f1f7fd\"/>\n    </g>\n    <g clip-path=\"url(#pe0ee96cef9)\">\n     <use xlink:href=\"#C1_0_7e753a81ad\" x=\"25.92817\" y=\"395.905265\" style=\"fill: #e3eef8\"/>\n    </g>\n    <g clip-path=\"url(#pe0ee96cef9)\">\n     <use xlink:href=\"#C1_0_7e753a81ad\" x=\"25.92817\" y=\"384.024274\" style=\"fill: #f1f7fd\"/>\n    </g>\n    <g clip-path=\"url(#pe0ee96cef9)\">\n     <use xlink:href=\"#C1_0_7e753a81ad\" x=\"25.92817\" y=\"372.143282\" style=\"fill: #4e9acb\"/>\n    </g>\n    <g clip-path=\"url(#pe0ee96cef9)\">\n     <use xlink:href=\"#C1_0_7e753a81ad\" x=\"25.92817\" y=\"360.26229\" style=\"fill: #3585bf\"/>\n    </g>\n    <g clip-path=\"url(#pe0ee96cef9)\">\n     <use xlink:href=\"#C1_0_7e753a81ad\" x=\"25.92817\" y=\"348.381298\" style=\"fill: #2777b8\"/>\n    </g>\n    <g clip-path=\"url(#pe0ee96cef9)\">\n     <use xlink:href=\"#C1_0_7e753a81ad\" x=\"25.92817\" y=\"336.500307\" style=\"fill: #f7fbff\"/>\n    </g>\n    <g clip-path=\"url(#pe0ee96cef9)\">\n     <use xlink:href=\"#C1_0_7e753a81ad\" x=\"25.92817\" y=\"324.619315\" style=\"fill: #f7fbff\"/>\n    </g>\n    <g clip-path=\"url(#pe0ee96cef9)\">\n     <use xlink:href=\"#C1_0_7e753a81ad\" x=\"25.92817\" y=\"312.738323\" style=\"fill: #f7fbff\"/>\n    </g>\n    <g clip-path=\"url(#pe0ee96cef9)\">\n     <use xlink:href=\"#C1_0_7e753a81ad\" x=\"25.92817\" y=\"300.857331\" style=\"fill: #f7fbff\"/>\n    </g>\n    <g clip-path=\"url(#pe0ee96cef9)\">\n     <use xlink:href=\"#C1_0_7e753a81ad\" x=\"32.779079\" y=\"419.667249\" style=\"fill: #f7fbff\"/>\n    </g>\n    <g clip-path=\"url(#pe0ee96cef9)\">\n     <use xlink:href=\"#C1_0_7e753a81ad\" x=\"32.779079\" y=\"407.786257\" style=\"fill: #f7fbff\"/>\n    </g>\n    <g clip-path=\"url(#pe0ee96cef9)\">\n     <use xlink:href=\"#C1_0_7e753a81ad\" x=\"32.779079\" y=\"395.905265\" style=\"fill: #dfecf7\"/>\n    </g>\n    <g clip-path=\"url(#pe0ee96cef9)\">\n     <use xlink:href=\"#C1_0_7e753a81ad\" x=\"32.779079\" y=\"384.024274\" style=\"fill: #e3eef8\"/>\n    </g>\n    <g clip-path=\"url(#pe0ee96cef9)\">\n     <use xlink:href=\"#C1_0_7e753a81ad\" x=\"32.779079\" y=\"372.143282\" style=\"fill: #c8dcf0\"/>\n    </g>\n    <g clip-path=\"url(#pe0ee96cef9)\">\n     <use xlink:href=\"#C1_0_7e753a81ad\" x=\"32.779079\" y=\"360.26229\" style=\"fill: #cbdef1\"/>\n    </g>\n    <g clip-path=\"url(#pe0ee96cef9)\">\n     <use xlink:href=\"#C1_0_7e753a81ad\" x=\"32.779079\" y=\"348.381298\" style=\"fill: #60a7d2\"/>\n    </g>\n    <g clip-path=\"url(#pe0ee96cef9)\">\n     <use xlink:href=\"#C1_0_7e753a81ad\" x=\"32.779079\" y=\"336.500307\" style=\"fill: #d9e7f5\"/>\n    </g>\n    <g clip-path=\"url(#pe0ee96cef9)\">\n     <use xlink:href=\"#C1_0_7e753a81ad\" x=\"32.779079\" y=\"324.619315\" style=\"fill: #f7fbff\"/>\n    </g>\n    <g clip-path=\"url(#pe0ee96cef9)\">\n     <use xlink:href=\"#C1_0_7e753a81ad\" x=\"32.779079\" y=\"312.738323\" style=\"fill: #f7fbff\"/>\n    </g>\n    <g clip-path=\"url(#pe0ee96cef9)\">\n     <use xlink:href=\"#C1_0_7e753a81ad\" x=\"32.779079\" y=\"300.857331\" style=\"fill: #f7fbff\"/>\n    </g>\n    <g clip-path=\"url(#pe0ee96cef9)\">\n     <use xlink:href=\"#C1_0_7e753a81ad\" x=\"39.629988\" y=\"419.667249\" style=\"fill: #f7fbff\"/>\n    </g>\n    <g clip-path=\"url(#pe0ee96cef9)\">\n     <use xlink:href=\"#C1_0_7e753a81ad\" x=\"39.629988\" y=\"407.786257\" style=\"fill: #f7fbff\"/>\n    </g>\n    <g clip-path=\"url(#pe0ee96cef9)\">\n     <use xlink:href=\"#C1_0_7e753a81ad\" x=\"39.629988\" y=\"395.905265\" style=\"fill: #a8cee4\"/>\n    </g>\n    <g clip-path=\"url(#pe0ee96cef9)\">\n     <use xlink:href=\"#C1_0_7e753a81ad\" x=\"39.629988\" y=\"384.024274\" style=\"fill: #cbdef1\"/>\n    </g>\n    <g clip-path=\"url(#pe0ee96cef9)\">\n     <use xlink:href=\"#C1_0_7e753a81ad\" x=\"39.629988\" y=\"372.143282\" style=\"fill: #cbdef1\"/>\n    </g>\n    <g clip-path=\"url(#pe0ee96cef9)\">\n     <use xlink:href=\"#C1_0_7e753a81ad\" x=\"39.629988\" y=\"360.26229\" style=\"fill: #79b5d9\"/>\n    </g>\n    <g clip-path=\"url(#pe0ee96cef9)\">\n     <use xlink:href=\"#C1_0_7e753a81ad\" x=\"39.629988\" y=\"348.381298\" style=\"fill: #b8d5ea\"/>\n    </g>\n    <g clip-path=\"url(#pe0ee96cef9)\">\n     <use xlink:href=\"#C1_0_7e753a81ad\" x=\"39.629988\" y=\"336.500307\" style=\"fill: #aed1e7\"/>\n    </g>\n    <g clip-path=\"url(#pe0ee96cef9)\">\n     <use xlink:href=\"#C1_0_7e753a81ad\" x=\"39.629988\" y=\"324.619315\" style=\"fill: #f4f9fe\"/>\n    </g>\n    <g clip-path=\"url(#pe0ee96cef9)\">\n     <use xlink:href=\"#C1_0_7e753a81ad\" x=\"39.629988\" y=\"312.738323\" style=\"fill: #f4f9fe\"/>\n    </g>\n    <g clip-path=\"url(#pe0ee96cef9)\">\n     <use xlink:href=\"#C1_0_7e753a81ad\" x=\"39.629988\" y=\"300.857331\" style=\"fill: #f7fbff\"/>\n    </g>\n    <g clip-path=\"url(#pe0ee96cef9)\">\n     <use xlink:href=\"#C1_0_7e753a81ad\" x=\"46.480897\" y=\"419.667249\" style=\"fill: #f7fbff\"/>\n    </g>\n    <g clip-path=\"url(#pe0ee96cef9)\">\n     <use xlink:href=\"#C1_0_7e753a81ad\" x=\"46.480897\" y=\"407.786257\" style=\"fill: #f7fbff\"/>\n    </g>\n    <g clip-path=\"url(#pe0ee96cef9)\">\n     <use xlink:href=\"#C1_0_7e753a81ad\" x=\"46.480897\" y=\"395.905265\" style=\"fill: #c3daee\"/>\n    </g>\n    <g clip-path=\"url(#pe0ee96cef9)\">\n     <use xlink:href=\"#C1_0_7e753a81ad\" x=\"46.480897\" y=\"384.024274\" style=\"fill: #c3daee\"/>\n    </g>\n    <g clip-path=\"url(#pe0ee96cef9)\">\n     <use xlink:href=\"#C1_0_7e753a81ad\" x=\"46.480897\" y=\"372.143282\" style=\"fill: #c3daee\"/>\n    </g>\n    <g clip-path=\"url(#pe0ee96cef9)\">\n     <use xlink:href=\"#C1_0_7e753a81ad\" x=\"46.480897\" y=\"360.26229\" style=\"fill: #87bddc\"/>\n    </g>\n    <g clip-path=\"url(#pe0ee96cef9)\">\n     <use xlink:href=\"#C1_0_7e753a81ad\" x=\"46.480897\" y=\"348.381298\" style=\"fill: #b3d3e8\"/>\n    </g>\n    <g clip-path=\"url(#pe0ee96cef9)\">\n     <use xlink:href=\"#C1_0_7e753a81ad\" x=\"46.480897\" y=\"336.500307\" style=\"fill: #87bddc\"/>\n    </g>\n    <g clip-path=\"url(#pe0ee96cef9)\">\n     <use xlink:href=\"#C1_0_7e753a81ad\" x=\"46.480897\" y=\"324.619315\" style=\"fill: #d9e7f5\"/>\n    </g>\n    <g clip-path=\"url(#pe0ee96cef9)\">\n     <use xlink:href=\"#C1_0_7e753a81ad\" x=\"46.480897\" y=\"312.738323\" style=\"fill: #e3eef8\"/>\n    </g>\n    <g clip-path=\"url(#pe0ee96cef9)\">\n     <use xlink:href=\"#C1_0_7e753a81ad\" x=\"46.480897\" y=\"300.857331\" style=\"fill: #f7fbff\"/>\n    </g>\n    <g clip-path=\"url(#pe0ee96cef9)\">\n     <use xlink:href=\"#C1_0_7e753a81ad\" x=\"53.331806\" y=\"419.667249\" style=\"fill: #d5e5f4\"/>\n    </g>\n    <g clip-path=\"url(#pe0ee96cef9)\">\n     <use xlink:href=\"#C1_0_7e753a81ad\" x=\"53.331806\" y=\"407.786257\" style=\"fill: #eaf2fb\"/>\n    </g>\n    <g clip-path=\"url(#pe0ee96cef9)\">\n     <use xlink:href=\"#C1_0_7e753a81ad\" x=\"53.331806\" y=\"395.905265\" style=\"fill: #bed8ec\"/>\n    </g>\n    <g clip-path=\"url(#pe0ee96cef9)\">\n     <use xlink:href=\"#C1_0_7e753a81ad\" x=\"53.331806\" y=\"384.024274\" style=\"fill: #cbdef1\"/>\n    </g>\n    <g clip-path=\"url(#pe0ee96cef9)\">\n     <use xlink:href=\"#C1_0_7e753a81ad\" x=\"53.331806\" y=\"372.143282\" style=\"fill: #6aaed6\"/>\n    </g>\n    <g clip-path=\"url(#pe0ee96cef9)\">\n     <use xlink:href=\"#C1_0_7e753a81ad\" x=\"53.331806\" y=\"360.26229\" style=\"fill: #c3daee\"/>\n    </g>\n    <g clip-path=\"url(#pe0ee96cef9)\">\n     <use xlink:href=\"#C1_0_7e753a81ad\" x=\"53.331806\" y=\"348.381298\" style=\"fill: #b8d5ea\"/>\n    </g>\n    <g clip-path=\"url(#pe0ee96cef9)\">\n     <use xlink:href=\"#C1_0_7e753a81ad\" x=\"53.331806\" y=\"336.500307\" style=\"fill: #d5e5f4\"/>\n    </g>\n    <g clip-path=\"url(#pe0ee96cef9)\">\n     <use xlink:href=\"#C1_0_7e753a81ad\" x=\"53.331806\" y=\"324.619315\" style=\"fill: #c3daee\"/>\n    </g>\n    <g clip-path=\"url(#pe0ee96cef9)\">\n     <use xlink:href=\"#C1_0_7e753a81ad\" x=\"53.331806\" y=\"312.738323\" style=\"fill: #dce9f6\"/>\n    </g>\n    <g clip-path=\"url(#pe0ee96cef9)\">\n     <use xlink:href=\"#C1_0_7e753a81ad\" x=\"53.331806\" y=\"300.857331\" style=\"fill: #f7fbff\"/>\n    </g>\n    <g clip-path=\"url(#pe0ee96cef9)\">\n     <use xlink:href=\"#C1_0_7e753a81ad\" x=\"60.182715\" y=\"419.667249\" style=\"fill: #f7fbff\"/>\n    </g>\n    <g clip-path=\"url(#pe0ee96cef9)\">\n     <use xlink:href=\"#C1_0_7e753a81ad\" x=\"60.182715\" y=\"407.786257\" style=\"fill: #dfecf7\"/>\n    </g>\n    <g clip-path=\"url(#pe0ee96cef9)\">\n     <use xlink:href=\"#C1_0_7e753a81ad\" x=\"60.182715\" y=\"395.905265\" style=\"fill: #c8dcf0\"/>\n    </g>\n    <g clip-path=\"url(#pe0ee96cef9)\">\n     <use xlink:href=\"#C1_0_7e753a81ad\" x=\"60.182715\" y=\"384.024274\" style=\"fill: #3a8ac2\"/>\n    </g>\n    <g clip-path=\"url(#pe0ee96cef9)\">\n     <use xlink:href=\"#C1_0_7e753a81ad\" x=\"60.182715\" y=\"372.143282\" style=\"fill: #d2e3f3\"/>\n    </g>\n    <g clip-path=\"url(#pe0ee96cef9)\">\n     <use xlink:href=\"#C1_0_7e753a81ad\" x=\"60.182715\" y=\"360.26229\" style=\"fill: #c3daee\"/>\n    </g>\n    <g clip-path=\"url(#pe0ee96cef9)\">\n     <use xlink:href=\"#C1_0_7e753a81ad\" x=\"60.182715\" y=\"348.381298\" style=\"fill: #87bddc\"/>\n    </g>\n    <g clip-path=\"url(#pe0ee96cef9)\">\n     <use xlink:href=\"#C1_0_7e753a81ad\" x=\"60.182715\" y=\"336.500307\" style=\"fill: #bed8ec\"/>\n    </g>\n    <g clip-path=\"url(#pe0ee96cef9)\">\n     <use xlink:href=\"#C1_0_7e753a81ad\" x=\"60.182715\" y=\"324.619315\" style=\"fill: #9cc9e1\"/>\n    </g>\n    <g clip-path=\"url(#pe0ee96cef9)\">\n     <use xlink:href=\"#C1_0_7e753a81ad\" x=\"60.182715\" y=\"312.738323\" style=\"fill: #f7fbff\"/>\n    </g>\n    <g clip-path=\"url(#pe0ee96cef9)\">\n     <use xlink:href=\"#C1_0_7e753a81ad\" x=\"60.182715\" y=\"300.857331\" style=\"fill: #f7fbff\"/>\n    </g>\n    <g clip-path=\"url(#pe0ee96cef9)\">\n     <use xlink:href=\"#C1_0_7e753a81ad\" x=\"67.033624\" y=\"419.667249\" style=\"fill: #f7fbff\"/>\n    </g>\n    <g clip-path=\"url(#pe0ee96cef9)\">\n     <use xlink:href=\"#C1_0_7e753a81ad\" x=\"67.033624\" y=\"407.786257\" style=\"fill: #60a7d2\"/>\n    </g>\n    <g clip-path=\"url(#pe0ee96cef9)\">\n     <use xlink:href=\"#C1_0_7e753a81ad\" x=\"67.033624\" y=\"395.905265\" style=\"fill: #a8cee4\"/>\n    </g>\n    <g clip-path=\"url(#pe0ee96cef9)\">\n     <use xlink:href=\"#C1_0_7e753a81ad\" x=\"67.033624\" y=\"384.024274\" style=\"fill: #c8dcf0\"/>\n    </g>\n    <g clip-path=\"url(#pe0ee96cef9)\">\n     <use xlink:href=\"#C1_0_7e753a81ad\" x=\"67.033624\" y=\"372.143282\" style=\"fill: #bed8ec\"/>\n    </g>\n    <g clip-path=\"url(#pe0ee96cef9)\">\n     <use xlink:href=\"#C1_0_7e753a81ad\" x=\"67.033624\" y=\"360.26229\" style=\"fill: #a8cee4\"/>\n    </g>\n    <g clip-path=\"url(#pe0ee96cef9)\">\n     <use xlink:href=\"#C1_0_7e753a81ad\" x=\"67.033624\" y=\"348.381298\" style=\"fill: #87bddc\"/>\n    </g>\n    <g clip-path=\"url(#pe0ee96cef9)\">\n     <use xlink:href=\"#C1_0_7e753a81ad\" x=\"67.033624\" y=\"336.500307\" style=\"fill: #b8d5ea\"/>\n    </g>\n    <g clip-path=\"url(#pe0ee96cef9)\">\n     <use xlink:href=\"#C1_0_7e753a81ad\" x=\"67.033624\" y=\"324.619315\" style=\"fill: #eaf2fb\"/>\n    </g>\n    <g clip-path=\"url(#pe0ee96cef9)\">\n     <use xlink:href=\"#C1_0_7e753a81ad\" x=\"67.033624\" y=\"312.738323\" style=\"fill: #f7fbff\"/>\n    </g>\n    <g clip-path=\"url(#pe0ee96cef9)\">\n     <use xlink:href=\"#C1_0_7e753a81ad\" x=\"67.033624\" y=\"300.857331\" style=\"fill: #f7fbff\"/>\n    </g>\n    <g clip-path=\"url(#pe0ee96cef9)\">\n     <use xlink:href=\"#C1_0_7e753a81ad\" x=\"73.884533\" y=\"419.667249\" style=\"fill: #f7fbff\"/>\n    </g>\n    <g clip-path=\"url(#pe0ee96cef9)\">\n     <use xlink:href=\"#C1_0_7e753a81ad\" x=\"73.884533\" y=\"407.786257\" style=\"fill: #cbdef1\"/>\n    </g>\n    <g clip-path=\"url(#pe0ee96cef9)\">\n     <use xlink:href=\"#C1_0_7e753a81ad\" x=\"73.884533\" y=\"395.905265\" style=\"fill: #c3daee\"/>\n    </g>\n    <g clip-path=\"url(#pe0ee96cef9)\">\n     <use xlink:href=\"#C1_0_7e753a81ad\" x=\"73.884533\" y=\"384.024274\" style=\"fill: #d2e3f3\"/>\n    </g>\n    <g clip-path=\"url(#pe0ee96cef9)\">\n     <use xlink:href=\"#C1_0_7e753a81ad\" x=\"73.884533\" y=\"372.143282\" style=\"fill: #87bddc\"/>\n    </g>\n    <g clip-path=\"url(#pe0ee96cef9)\">\n     <use xlink:href=\"#C1_0_7e753a81ad\" x=\"73.884533\" y=\"360.26229\" style=\"fill: #c8dcf0\"/>\n    </g>\n    <g clip-path=\"url(#pe0ee96cef9)\">\n     <use xlink:href=\"#C1_0_7e753a81ad\" x=\"73.884533\" y=\"348.381298\" style=\"fill: #95c5df\"/>\n    </g>\n    <g clip-path=\"url(#pe0ee96cef9)\">\n     <use xlink:href=\"#C1_0_7e753a81ad\" x=\"73.884533\" y=\"336.500307\" style=\"fill: #d9e7f5\"/>\n    </g>\n    <g clip-path=\"url(#pe0ee96cef9)\">\n     <use xlink:href=\"#C1_0_7e753a81ad\" x=\"73.884533\" y=\"324.619315\" style=\"fill: #c3daee\"/>\n    </g>\n    <g clip-path=\"url(#pe0ee96cef9)\">\n     <use xlink:href=\"#C1_0_7e753a81ad\" x=\"73.884533\" y=\"312.738323\" style=\"fill: #f7fbff\"/>\n    </g>\n    <g clip-path=\"url(#pe0ee96cef9)\">\n     <use xlink:href=\"#C1_0_7e753a81ad\" x=\"73.884533\" y=\"300.857331\" style=\"fill: #f7fbff\"/>\n    </g>\n    <g clip-path=\"url(#pe0ee96cef9)\">\n     <use xlink:href=\"#C1_0_7e753a81ad\" x=\"80.735442\" y=\"419.667249\" style=\"fill: #dfecf7\"/>\n    </g>\n    <g clip-path=\"url(#pe0ee96cef9)\">\n     <use xlink:href=\"#C1_0_7e753a81ad\" x=\"80.735442\" y=\"407.786257\" style=\"fill: #dfecf7\"/>\n    </g>\n    <g clip-path=\"url(#pe0ee96cef9)\">\n     <use xlink:href=\"#C1_0_7e753a81ad\" x=\"80.735442\" y=\"395.905265\" style=\"fill: #87bddc\"/>\n    </g>\n    <g clip-path=\"url(#pe0ee96cef9)\">\n     <use xlink:href=\"#C1_0_7e753a81ad\" x=\"80.735442\" y=\"384.024274\" style=\"fill: #95c5df\"/>\n    </g>\n    <g clip-path=\"url(#pe0ee96cef9)\">\n     <use xlink:href=\"#C1_0_7e753a81ad\" x=\"80.735442\" y=\"372.143282\" style=\"fill: #65aad4\"/>\n    </g>\n    <g clip-path=\"url(#pe0ee96cef9)\">\n     <use xlink:href=\"#C1_0_7e753a81ad\" x=\"80.735442\" y=\"360.26229\" style=\"fill: #b3d3e8\"/>\n    </g>\n    <g clip-path=\"url(#pe0ee96cef9)\">\n     <use xlink:href=\"#C1_0_7e753a81ad\" x=\"80.735442\" y=\"348.381298\" style=\"fill: #e3eef8\"/>\n    </g>\n    <g clip-path=\"url(#pe0ee96cef9)\">\n     <use xlink:href=\"#C1_0_7e753a81ad\" x=\"80.735442\" y=\"336.500307\" style=\"fill: #bed8ec\"/>\n    </g>\n    <g clip-path=\"url(#pe0ee96cef9)\">\n     <use xlink:href=\"#C1_0_7e753a81ad\" x=\"80.735442\" y=\"324.619315\" style=\"fill: #dfecf7\"/>\n    </g>\n    <g clip-path=\"url(#pe0ee96cef9)\">\n     <use xlink:href=\"#C1_0_7e753a81ad\" x=\"80.735442\" y=\"312.738323\" style=\"fill: #f4f9fe\"/>\n    </g>\n    <g clip-path=\"url(#pe0ee96cef9)\">\n     <use xlink:href=\"#C1_0_7e753a81ad\" x=\"80.735442\" y=\"300.857331\" style=\"fill: #f1f7fd\"/>\n    </g>\n    <g clip-path=\"url(#pe0ee96cef9)\">\n     <use xlink:href=\"#C1_0_7e753a81ad\" x=\"87.586352\" y=\"419.667249\" style=\"fill: #dfecf7\"/>\n    </g>\n    <g clip-path=\"url(#pe0ee96cef9)\">\n     <use xlink:href=\"#C1_0_7e753a81ad\" x=\"87.586352\" y=\"407.786257\" style=\"fill: #b3d3e8\"/>\n    </g>\n    <g clip-path=\"url(#pe0ee96cef9)\">\n     <use xlink:href=\"#C1_0_7e753a81ad\" x=\"87.586352\" y=\"395.905265\" style=\"fill: #c8dcf0\"/>\n    </g>\n    <g clip-path=\"url(#pe0ee96cef9)\">\n     <use xlink:href=\"#C1_0_7e753a81ad\" x=\"87.586352\" y=\"384.024274\" style=\"fill: #cbdef1\"/>\n    </g>\n    <g clip-path=\"url(#pe0ee96cef9)\">\n     <use xlink:href=\"#C1_0_7e753a81ad\" x=\"87.586352\" y=\"372.143282\" style=\"fill: #cbdef1\"/>\n    </g>\n    <g clip-path=\"url(#pe0ee96cef9)\">\n     <use xlink:href=\"#C1_0_7e753a81ad\" x=\"87.586352\" y=\"360.26229\" style=\"fill: #b3d3e8\"/>\n    </g>\n    <g clip-path=\"url(#pe0ee96cef9)\">\n     <use xlink:href=\"#C1_0_7e753a81ad\" x=\"87.586352\" y=\"348.381298\" style=\"fill: #aed1e7\"/>\n    </g>\n    <g clip-path=\"url(#pe0ee96cef9)\">\n     <use xlink:href=\"#C1_0_7e753a81ad\" x=\"87.586352\" y=\"336.500307\" style=\"fill: #d5e5f4\"/>\n    </g>\n    <g clip-path=\"url(#pe0ee96cef9)\">\n     <use xlink:href=\"#C1_0_7e753a81ad\" x=\"87.586352\" y=\"324.619315\" style=\"fill: #d2e3f3\"/>\n    </g>\n    <g clip-path=\"url(#pe0ee96cef9)\">\n     <use xlink:href=\"#C1_0_7e753a81ad\" x=\"87.586352\" y=\"312.738323\" style=\"fill: #d2e3f3\"/>\n    </g>\n    <g clip-path=\"url(#pe0ee96cef9)\">\n     <use xlink:href=\"#C1_0_7e753a81ad\" x=\"87.586352\" y=\"300.857331\" style=\"fill: #f7fbff\"/>\n    </g>\n    <g clip-path=\"url(#pe0ee96cef9)\">\n     <use xlink:href=\"#C1_0_7e753a81ad\" x=\"94.437261\" y=\"419.667249\" style=\"fill: #e6f0f9\"/>\n    </g>\n    <g clip-path=\"url(#pe0ee96cef9)\">\n     <use xlink:href=\"#C1_0_7e753a81ad\" x=\"94.437261\" y=\"407.786257\" style=\"fill: #c8dcf0\"/>\n    </g>\n    <g clip-path=\"url(#pe0ee96cef9)\">\n     <use xlink:href=\"#C1_0_7e753a81ad\" x=\"94.437261\" y=\"395.905265\" style=\"fill: #87bddc\"/>\n    </g>\n    <g clip-path=\"url(#pe0ee96cef9)\">\n     <use xlink:href=\"#C1_0_7e753a81ad\" x=\"94.437261\" y=\"384.024274\" style=\"fill: #d5e5f4\"/>\n    </g>\n    <g clip-path=\"url(#pe0ee96cef9)\">\n     <use xlink:href=\"#C1_0_7e753a81ad\" x=\"94.437261\" y=\"372.143282\" style=\"fill: #a3cce3\"/>\n    </g>\n    <g clip-path=\"url(#pe0ee96cef9)\">\n     <use xlink:href=\"#C1_0_7e753a81ad\" x=\"94.437261\" y=\"360.26229\" style=\"fill: #a3cce3\"/>\n    </g>\n    <g clip-path=\"url(#pe0ee96cef9)\">\n     <use xlink:href=\"#C1_0_7e753a81ad\" x=\"94.437261\" y=\"348.381298\" style=\"fill: #79b5d9\"/>\n    </g>\n    <g clip-path=\"url(#pe0ee96cef9)\">\n     <use xlink:href=\"#C1_0_7e753a81ad\" x=\"94.437261\" y=\"336.500307\" style=\"fill: #b8d5ea\"/>\n    </g>\n    <g clip-path=\"url(#pe0ee96cef9)\">\n     <use xlink:href=\"#C1_0_7e753a81ad\" x=\"94.437261\" y=\"324.619315\" style=\"fill: #eaf2fb\"/>\n    </g>\n    <g clip-path=\"url(#pe0ee96cef9)\">\n     <use xlink:href=\"#C1_0_7e753a81ad\" x=\"94.437261\" y=\"312.738323\" style=\"fill: #f7fbff\"/>\n    </g>\n    <g clip-path=\"url(#pe0ee96cef9)\">\n     <use xlink:href=\"#C1_0_7e753a81ad\" x=\"94.437261\" y=\"300.857331\" style=\"fill: #f7fbff\"/>\n    </g>\n    <g clip-path=\"url(#pe0ee96cef9)\">\n     <use xlink:href=\"#C1_0_7e753a81ad\" x=\"101.28817\" y=\"419.667249\" style=\"fill: #f4f9fe\"/>\n    </g>\n    <g clip-path=\"url(#pe0ee96cef9)\">\n     <use xlink:href=\"#C1_0_7e753a81ad\" x=\"101.28817\" y=\"407.786257\" style=\"fill: #cbdef1\"/>\n    </g>\n    <g clip-path=\"url(#pe0ee96cef9)\">\n     <use xlink:href=\"#C1_0_7e753a81ad\" x=\"101.28817\" y=\"395.905265\" style=\"fill: #c8dcf0\"/>\n    </g>\n    <g clip-path=\"url(#pe0ee96cef9)\">\n     <use xlink:href=\"#C1_0_7e753a81ad\" x=\"101.28817\" y=\"384.024274\" style=\"fill: #b8d5ea\"/>\n    </g>\n    <g clip-path=\"url(#pe0ee96cef9)\">\n     <use xlink:href=\"#C1_0_7e753a81ad\" x=\"101.28817\" y=\"372.143282\" style=\"fill: #87bddc\"/>\n    </g>\n    <g clip-path=\"url(#pe0ee96cef9)\">\n     <use xlink:href=\"#C1_0_7e753a81ad\" x=\"101.28817\" y=\"360.26229\" style=\"fill: #87bddc\"/>\n    </g>\n    <g clip-path=\"url(#pe0ee96cef9)\">\n     <use xlink:href=\"#C1_0_7e753a81ad\" x=\"101.28817\" y=\"348.381298\" style=\"fill: #a8cee4\"/>\n    </g>\n    <g clip-path=\"url(#pe0ee96cef9)\">\n     <use xlink:href=\"#C1_0_7e753a81ad\" x=\"101.28817\" y=\"336.500307\" style=\"fill: #8fc2de\"/>\n    </g>\n    <g clip-path=\"url(#pe0ee96cef9)\">\n     <use xlink:href=\"#C1_0_7e753a81ad\" x=\"101.28817\" y=\"324.619315\" style=\"fill: #dfecf7\"/>\n    </g>\n    <g clip-path=\"url(#pe0ee96cef9)\">\n     <use xlink:href=\"#C1_0_7e753a81ad\" x=\"101.28817\" y=\"312.738323\" style=\"fill: #f7fbff\"/>\n    </g>\n    <g clip-path=\"url(#pe0ee96cef9)\">\n     <use xlink:href=\"#C1_0_7e753a81ad\" x=\"101.28817\" y=\"300.857331\" style=\"fill: #f7fbff\"/>\n    </g>\n    <g clip-path=\"url(#pe0ee96cef9)\">\n     <use xlink:href=\"#C1_0_7e753a81ad\" x=\"108.139079\" y=\"419.667249\" style=\"fill: #f7fbff\"/>\n    </g>\n    <g clip-path=\"url(#pe0ee96cef9)\">\n     <use xlink:href=\"#C1_0_7e753a81ad\" x=\"108.139079\" y=\"407.786257\" style=\"fill: #a8cee4\"/>\n    </g>\n    <g clip-path=\"url(#pe0ee96cef9)\">\n     <use xlink:href=\"#C1_0_7e753a81ad\" x=\"108.139079\" y=\"395.905265\" style=\"fill: #9cc9e1\"/>\n    </g>\n    <g clip-path=\"url(#pe0ee96cef9)\">\n     <use xlink:href=\"#C1_0_7e753a81ad\" x=\"108.139079\" y=\"384.024274\" style=\"fill: #8fc2de\"/>\n    </g>\n    <g clip-path=\"url(#pe0ee96cef9)\">\n     <use xlink:href=\"#C1_0_7e753a81ad\" x=\"108.139079\" y=\"372.143282\" style=\"fill: #6aaed6\"/>\n    </g>\n    <g clip-path=\"url(#pe0ee96cef9)\">\n     <use xlink:href=\"#C1_0_7e753a81ad\" x=\"108.139079\" y=\"360.26229\" style=\"fill: #bed8ec\"/>\n    </g>\n    <g clip-path=\"url(#pe0ee96cef9)\">\n     <use xlink:href=\"#C1_0_7e753a81ad\" x=\"108.139079\" y=\"348.381298\" style=\"fill: #6aaed6\"/>\n    </g>\n    <g clip-path=\"url(#pe0ee96cef9)\">\n     <use xlink:href=\"#C1_0_7e753a81ad\" x=\"108.139079\" y=\"336.500307\" style=\"fill: #bed8ec\"/>\n    </g>\n    <g clip-path=\"url(#pe0ee96cef9)\">\n     <use xlink:href=\"#C1_0_7e753a81ad\" x=\"108.139079\" y=\"324.619315\" style=\"fill: #3e8ec4\"/>\n    </g>\n    <g clip-path=\"url(#pe0ee96cef9)\">\n     <use xlink:href=\"#C1_0_7e753a81ad\" x=\"108.139079\" y=\"312.738323\" style=\"fill: #f7fbff\"/>\n    </g>\n    <g clip-path=\"url(#pe0ee96cef9)\">\n     <use xlink:href=\"#C1_0_7e753a81ad\" x=\"108.139079\" y=\"300.857331\" style=\"fill: #f7fbff\"/>\n    </g>\n    <g clip-path=\"url(#pe0ee96cef9)\">\n     <use xlink:href=\"#C1_0_7e753a81ad\" x=\"114.989988\" y=\"419.667249\" style=\"fill: #f7fbff\"/>\n    </g>\n    <g clip-path=\"url(#pe0ee96cef9)\">\n     <use xlink:href=\"#C1_0_7e753a81ad\" x=\"114.989988\" y=\"407.786257\" style=\"fill: #d2e3f3\"/>\n    </g>\n    <g clip-path=\"url(#pe0ee96cef9)\">\n     <use xlink:href=\"#C1_0_7e753a81ad\" x=\"114.989988\" y=\"395.905265\" style=\"fill: #8fc2de\"/>\n    </g>\n    <g clip-path=\"url(#pe0ee96cef9)\">\n     <use xlink:href=\"#C1_0_7e753a81ad\" x=\"114.989988\" y=\"384.024274\" style=\"fill: #aed1e7\"/>\n    </g>\n    <g clip-path=\"url(#pe0ee96cef9)\">\n     <use xlink:href=\"#C1_0_7e753a81ad\" x=\"114.989988\" y=\"372.143282\" style=\"fill: #79b5d9\"/>\n    </g>\n    <g clip-path=\"url(#pe0ee96cef9)\">\n     <use xlink:href=\"#C1_0_7e753a81ad\" x=\"114.989988\" y=\"360.26229\" style=\"fill: #b3d3e8\"/>\n    </g>\n    <g clip-path=\"url(#pe0ee96cef9)\">\n     <use xlink:href=\"#C1_0_7e753a81ad\" x=\"114.989988\" y=\"348.381298\" style=\"fill: #b8d5ea\"/>\n    </g>\n    <g clip-path=\"url(#pe0ee96cef9)\">\n     <use xlink:href=\"#C1_0_7e753a81ad\" x=\"114.989988\" y=\"336.500307\" style=\"fill: #8fc2de\"/>\n    </g>\n    <g clip-path=\"url(#pe0ee96cef9)\">\n     <use xlink:href=\"#C1_0_7e753a81ad\" x=\"114.989988\" y=\"324.619315\" style=\"fill: #d9e7f5\"/>\n    </g>\n    <g clip-path=\"url(#pe0ee96cef9)\">\n     <use xlink:href=\"#C1_0_7e753a81ad\" x=\"114.989988\" y=\"312.738323\" style=\"fill: #f7fbff\"/>\n    </g>\n    <g clip-path=\"url(#pe0ee96cef9)\">\n     <use xlink:href=\"#C1_0_7e753a81ad\" x=\"114.989988\" y=\"300.857331\" style=\"fill: #f7fbff\"/>\n    </g>\n    <g clip-path=\"url(#pe0ee96cef9)\">\n     <use xlink:href=\"#C1_0_7e753a81ad\" x=\"121.840897\" y=\"419.667249\" style=\"fill: #f7fbff\"/>\n    </g>\n    <g clip-path=\"url(#pe0ee96cef9)\">\n     <use xlink:href=\"#C1_0_7e753a81ad\" x=\"121.840897\" y=\"407.786257\" style=\"fill: #eaf2fb\"/>\n    </g>\n    <g clip-path=\"url(#pe0ee96cef9)\">\n     <use xlink:href=\"#C1_0_7e753a81ad\" x=\"121.840897\" y=\"395.905265\" style=\"fill: #cbdef1\"/>\n    </g>\n    <g clip-path=\"url(#pe0ee96cef9)\">\n     <use xlink:href=\"#C1_0_7e753a81ad\" x=\"121.840897\" y=\"384.024274\" style=\"fill: #9cc9e1\"/>\n    </g>\n    <g clip-path=\"url(#pe0ee96cef9)\">\n     <use xlink:href=\"#C1_0_7e753a81ad\" x=\"121.840897\" y=\"372.143282\" style=\"fill: #60a7d2\"/>\n    </g>\n    <g clip-path=\"url(#pe0ee96cef9)\">\n     <use xlink:href=\"#C1_0_7e753a81ad\" x=\"121.840897\" y=\"360.26229\" style=\"fill: #9cc9e1\"/>\n    </g>\n    <g clip-path=\"url(#pe0ee96cef9)\">\n     <use xlink:href=\"#C1_0_7e753a81ad\" x=\"121.840897\" y=\"348.381298\" style=\"fill: #72b2d8\"/>\n    </g>\n    <g clip-path=\"url(#pe0ee96cef9)\">\n     <use xlink:href=\"#C1_0_7e753a81ad\" x=\"121.840897\" y=\"336.500307\" style=\"fill: #a8cee4\"/>\n    </g>\n    <g clip-path=\"url(#pe0ee96cef9)\">\n     <use xlink:href=\"#C1_0_7e753a81ad\" x=\"121.840897\" y=\"324.619315\" style=\"fill: #dfecf7\"/>\n    </g>\n    <g clip-path=\"url(#pe0ee96cef9)\">\n     <use xlink:href=\"#C1_0_7e753a81ad\" x=\"121.840897\" y=\"312.738323\" style=\"fill: #f7fbff\"/>\n    </g>\n    <g clip-path=\"url(#pe0ee96cef9)\">\n     <use xlink:href=\"#C1_0_7e753a81ad\" x=\"121.840897\" y=\"300.857331\" style=\"fill: #f7fbff\"/>\n    </g>\n    <g clip-path=\"url(#pe0ee96cef9)\">\n     <use xlink:href=\"#C1_0_7e753a81ad\" x=\"128.691806\" y=\"419.667249\" style=\"fill: #f7fbff\"/>\n    </g>\n    <g clip-path=\"url(#pe0ee96cef9)\">\n     <use xlink:href=\"#C1_0_7e753a81ad\" x=\"128.691806\" y=\"407.786257\" style=\"fill: #eaf2fb\"/>\n    </g>\n    <g clip-path=\"url(#pe0ee96cef9)\">\n     <use xlink:href=\"#C1_0_7e753a81ad\" x=\"128.691806\" y=\"395.905265\" style=\"fill: #d9e7f5\"/>\n    </g>\n    <g clip-path=\"url(#pe0ee96cef9)\">\n     <use xlink:href=\"#C1_0_7e753a81ad\" x=\"128.691806\" y=\"384.024274\" style=\"fill: #4e9acb\"/>\n    </g>\n    <g clip-path=\"url(#pe0ee96cef9)\">\n     <use xlink:href=\"#C1_0_7e753a81ad\" x=\"128.691806\" y=\"372.143282\" style=\"fill: #a3cce3\"/>\n    </g>\n    <g clip-path=\"url(#pe0ee96cef9)\">\n     <use xlink:href=\"#C1_0_7e753a81ad\" x=\"128.691806\" y=\"360.26229\" style=\"fill: #3a8ac2\"/>\n    </g>\n    <g clip-path=\"url(#pe0ee96cef9)\">\n     <use xlink:href=\"#C1_0_7e753a81ad\" x=\"128.691806\" y=\"348.381298\" style=\"fill: #1f6eb3\"/>\n    </g>\n    <g clip-path=\"url(#pe0ee96cef9)\">\n     <use xlink:href=\"#C1_0_7e753a81ad\" x=\"128.691806\" y=\"336.500307\" style=\"fill: #2777b8\"/>\n    </g>\n    <g clip-path=\"url(#pe0ee96cef9)\">\n     <use xlink:href=\"#C1_0_7e753a81ad\" x=\"128.691806\" y=\"324.619315\" style=\"fill: #d5e5f4\"/>\n    </g>\n    <g clip-path=\"url(#pe0ee96cef9)\">\n     <use xlink:href=\"#C1_0_7e753a81ad\" x=\"128.691806\" y=\"312.738323\" style=\"fill: #f7fbff\"/>\n    </g>\n    <g clip-path=\"url(#pe0ee96cef9)\">\n     <use xlink:href=\"#C1_0_7e753a81ad\" x=\"128.691806\" y=\"300.857331\" style=\"fill: #f7fbff\"/>\n    </g>\n    <g clip-path=\"url(#pe0ee96cef9)\">\n     <use xlink:href=\"#C1_0_7e753a81ad\" x=\"135.542715\" y=\"419.667249\" style=\"fill: #f7fbff\"/>\n    </g>\n    <g clip-path=\"url(#pe0ee96cef9)\">\n     <use xlink:href=\"#C1_0_7e753a81ad\" x=\"135.542715\" y=\"407.786257\" style=\"fill: #f7fbff\"/>\n    </g>\n    <g clip-path=\"url(#pe0ee96cef9)\">\n     <use xlink:href=\"#C1_0_7e753a81ad\" x=\"135.542715\" y=\"395.905265\" style=\"fill: #cfe1f2\"/>\n    </g>\n    <g clip-path=\"url(#pe0ee96cef9)\">\n     <use xlink:href=\"#C1_0_7e753a81ad\" x=\"135.542715\" y=\"384.024274\" style=\"fill: #083471\"/>\n    </g>\n    <g clip-path=\"url(#pe0ee96cef9)\">\n     <use xlink:href=\"#C1_0_7e753a81ad\" x=\"135.542715\" y=\"372.143282\" style=\"fill: #2373b6\"/>\n    </g>\n    <g clip-path=\"url(#pe0ee96cef9)\">\n     <use xlink:href=\"#C1_0_7e753a81ad\" x=\"135.542715\" y=\"360.26229\" style=\"fill: #65aad4\"/>\n    </g>\n    <g clip-path=\"url(#pe0ee96cef9)\">\n     <use xlink:href=\"#C1_0_7e753a81ad\" x=\"135.542715\" y=\"348.381298\" style=\"fill: #3e8ec4\"/>\n    </g>\n    <g clip-path=\"url(#pe0ee96cef9)\">\n     <use xlink:href=\"#C1_0_7e753a81ad\" x=\"135.542715\" y=\"336.500307\" style=\"fill: #0a549e\"/>\n    </g>\n    <g clip-path=\"url(#pe0ee96cef9)\">\n     <use xlink:href=\"#C1_0_7e753a81ad\" x=\"135.542715\" y=\"324.619315\" style=\"fill: #f1f7fd\"/>\n    </g>\n    <g clip-path=\"url(#pe0ee96cef9)\">\n     <use xlink:href=\"#C1_0_7e753a81ad\" x=\"135.542715\" y=\"312.738323\" style=\"fill: #f7fbff\"/>\n    </g>\n    <g clip-path=\"url(#pe0ee96cef9)\">\n     <use xlink:href=\"#C1_0_7e753a81ad\" x=\"135.542715\" y=\"300.857331\" style=\"fill: #f7fbff\"/>\n    </g>\n    <g clip-path=\"url(#pe0ee96cef9)\">\n     <use xlink:href=\"#C1_0_7e753a81ad\" x=\"142.393624\" y=\"419.667249\" style=\"fill: #f7fbff\"/>\n    </g>\n    <g clip-path=\"url(#pe0ee96cef9)\">\n     <use xlink:href=\"#C1_0_7e753a81ad\" x=\"142.393624\" y=\"407.786257\" style=\"fill: #f7fbff\"/>\n    </g>\n    <g clip-path=\"url(#pe0ee96cef9)\">\n     <use xlink:href=\"#C1_0_7e753a81ad\" x=\"142.393624\" y=\"395.905265\" style=\"fill: #eaf2fb\"/>\n    </g>\n    <g clip-path=\"url(#pe0ee96cef9)\">\n     <use xlink:href=\"#C1_0_7e753a81ad\" x=\"142.393624\" y=\"384.024274\" style=\"fill: #cbdef1\"/>\n    </g>\n    <g clip-path=\"url(#pe0ee96cef9)\">\n     <use xlink:href=\"#C1_0_7e753a81ad\" x=\"142.393624\" y=\"372.143282\" style=\"fill: #f7fbff\"/>\n    </g>\n    <g clip-path=\"url(#pe0ee96cef9)\">\n     <use xlink:href=\"#C1_0_7e753a81ad\" x=\"142.393624\" y=\"360.26229\" style=\"fill: #f7fbff\"/>\n    </g>\n    <g clip-path=\"url(#pe0ee96cef9)\">\n     <use xlink:href=\"#C1_0_7e753a81ad\" x=\"142.393624\" y=\"348.381298\" style=\"fill: #eaf2fb\"/>\n    </g>\n    <g clip-path=\"url(#pe0ee96cef9)\">\n     <use xlink:href=\"#C1_0_7e753a81ad\" x=\"142.393624\" y=\"336.500307\" style=\"fill: #a8cee4\"/>\n    </g>\n    <g clip-path=\"url(#pe0ee96cef9)\">\n     <use xlink:href=\"#C1_0_7e753a81ad\" x=\"142.393624\" y=\"324.619315\" style=\"fill: #f7fbff\"/>\n    </g>\n    <g clip-path=\"url(#pe0ee96cef9)\">\n     <use xlink:href=\"#C1_0_7e753a81ad\" x=\"142.393624\" y=\"312.738323\" style=\"fill: #f7fbff\"/>\n    </g>\n    <g clip-path=\"url(#pe0ee96cef9)\">\n     <use xlink:href=\"#C1_0_7e753a81ad\" x=\"142.393624\" y=\"300.857331\" style=\"fill: #f7fbff\"/>\n    </g>\n    <g clip-path=\"url(#pe0ee96cef9)\">\n     <use xlink:href=\"#C1_0_7e753a81ad\" x=\"149.244533\" y=\"419.667249\" style=\"fill: #f7fbff\"/>\n    </g>\n    <g clip-path=\"url(#pe0ee96cef9)\">\n     <use xlink:href=\"#C1_0_7e753a81ad\" x=\"149.244533\" y=\"407.786257\" style=\"fill: #f7fbff\"/>\n    </g>\n    <g clip-path=\"url(#pe0ee96cef9)\">\n     <use xlink:href=\"#C1_0_7e753a81ad\" x=\"149.244533\" y=\"395.905265\" style=\"fill: #f4f9fe\"/>\n    </g>\n    <g clip-path=\"url(#pe0ee96cef9)\">\n     <use xlink:href=\"#C1_0_7e753a81ad\" x=\"149.244533\" y=\"384.024274\" style=\"fill: #72b2d8\"/>\n    </g>\n    <g clip-path=\"url(#pe0ee96cef9)\">\n     <use xlink:href=\"#C1_0_7e753a81ad\" x=\"149.244533\" y=\"372.143282\" style=\"fill: #f7fbff\"/>\n    </g>\n    <g clip-path=\"url(#pe0ee96cef9)\">\n     <use xlink:href=\"#C1_0_7e753a81ad\" x=\"149.244533\" y=\"360.26229\" style=\"fill: #f7fbff\"/>\n    </g>\n    <g clip-path=\"url(#pe0ee96cef9)\">\n     <use xlink:href=\"#C1_0_7e753a81ad\" x=\"149.244533\" y=\"348.381298\" style=\"fill: #f7fbff\"/>\n    </g>\n    <g clip-path=\"url(#pe0ee96cef9)\">\n     <use xlink:href=\"#C1_0_7e753a81ad\" x=\"149.244533\" y=\"336.500307\" style=\"fill: #f7fbff\"/>\n    </g>\n    <g clip-path=\"url(#pe0ee96cef9)\">\n     <use xlink:href=\"#C1_0_7e753a81ad\" x=\"149.244533\" y=\"324.619315\" style=\"fill: #f7fbff\"/>\n    </g>\n    <g clip-path=\"url(#pe0ee96cef9)\">\n     <use xlink:href=\"#C1_0_7e753a81ad\" x=\"149.244533\" y=\"312.738323\" style=\"fill: #f7fbff\"/>\n    </g>\n    <g clip-path=\"url(#pe0ee96cef9)\">\n     <use xlink:href=\"#C1_0_7e753a81ad\" x=\"149.244533\" y=\"300.857331\" style=\"fill: #f7fbff\"/>\n    </g>\n   </g>\n   <g id=\"matplotlib.axis_3\"/>\n   <g id=\"matplotlib.axis_4\"/>\n   <g id=\"patch_8\">\n    <path d=\"M 170.88 167.90175 \nL 170.88 24.14175 \n\" style=\"fill: none; stroke: #000000; stroke-width: 0.8; stroke-linejoin: miter; stroke-linecap: square\"/>\n   </g>\n   <g id=\"patch_9\">\n    <path d=\"M 321.6 167.90175 \nL 321.6 24.14175 \n\" style=\"fill: none; stroke: #000000; stroke-width: 0.8; stroke-linejoin: miter; stroke-linecap: square\"/>\n   </g>\n   <g id=\"patch_10\">\n    <path d=\"M 170.88 167.90175 \nL 321.6 167.90175 \n\" style=\"fill: none; stroke: #000000; stroke-width: 0.8; stroke-linejoin: miter; stroke-linecap: square\"/>\n   </g>\n   <g id=\"patch_11\">\n    <path d=\"M 170.88 24.14175 \nL 321.6 24.14175 \n\" style=\"fill: none; stroke: #000000; stroke-width: 0.8; stroke-linejoin: miter; stroke-linecap: square\"/>\n   </g>\n   <g id=\"text_2\">\n    <!-- joy -->\n    <g transform=\"translate(235.57275 18.14175) scale(0.144 -0.144)\">\n     <defs>\n      <path id=\"DejaVuSans-6a\" d=\"M 603 3500 \nL 1178 3500 \nL 1178 -63 \nQ 1178 -731 923 -1031 \nQ 669 -1331 103 -1331 \nL -116 -1331 \nL -116 -844 \nL 38 -844 \nQ 366 -844 484 -692 \nQ 603 -541 603 -63 \nL 603 3500 \nz\nM 603 4863 \nL 1178 4863 \nL 1178 4134 \nL 603 4134 \nL 603 4863 \nz\n\" transform=\"scale(0.015625)\"/>\n      <path id=\"DejaVuSans-6f\" d=\"M 1959 3097 \nQ 1497 3097 1228 2736 \nQ 959 2375 959 1747 \nQ 959 1119 1226 758 \nQ 1494 397 1959 397 \nQ 2419 397 2687 759 \nQ 2956 1122 2956 1747 \nQ 2956 2369 2687 2733 \nQ 2419 3097 1959 3097 \nz\nM 1959 3584 \nQ 2709 3584 3137 3096 \nQ 3566 2609 3566 1747 \nQ 3566 888 3137 398 \nQ 2709 -91 1959 -91 \nQ 1206 -91 779 398 \nQ 353 888 353 1747 \nQ 353 2609 779 3096 \nQ 1206 3584 1959 3584 \nz\n\" transform=\"scale(0.015625)\"/>\n      <path id=\"DejaVuSans-79\" d=\"M 2059 -325 \nQ 1816 -950 1584 -1140 \nQ 1353 -1331 966 -1331 \nL 506 -1331 \nL 506 -850 \nL 844 -850 \nQ 1081 -850 1212 -737 \nQ 1344 -625 1503 -206 \nL 1606 56 \nL 191 3500 \nL 800 3500 \nL 1894 763 \nL 2988 3500 \nL 3597 3500 \nL 2059 -325 \nz\n\" transform=\"scale(0.015625)\"/>\n     </defs>\n     <use xlink:href=\"#DejaVuSans-6a\"/>\n     <use xlink:href=\"#DejaVuSans-6f\" x=\"27.783203\"/>\n     <use xlink:href=\"#DejaVuSans-79\" x=\"88.964844\"/>\n    </g>\n   </g>\n  </g>\n  <g id=\"axes_3\">\n   <g id=\"patch_12\">\n    <path d=\"M 334.56 167.90175 \nL 485.28 167.90175 \nL 485.28 24.14175 \nL 334.56 24.14175 \nz\n\" style=\"fill: #ffffff\"/>\n   </g>\n   <g id=\"PolyCollection_3\">\n    <defs>\n     <path id=\"C2_0_1b12fb748d\" d=\"M 328.549226 -262.829934 \nL 328.549226 -266.790265 \nL 325.123771 -268.77043 \nL 321.698317 -266.790265 \nL 321.698317 -262.829934 \nL 325.123771 -260.849769 \nz\n\"/>\n    </defs>\n    <g clip-path=\"url(#p224a05b2c5)\">\n     <use xlink:href=\"#C2_0_1b12fb748d\" x=\"16.287138\" y=\"426.177304\" style=\"fill: #fff5eb\"/>\n    </g>\n    <g clip-path=\"url(#p224a05b2c5)\">\n     <use xlink:href=\"#C2_0_1b12fb748d\" x=\"16.287138\" y=\"414.296312\" style=\"fill: #fff5eb\"/>\n    </g>\n    <g clip-path=\"url(#p224a05b2c5)\">\n     <use xlink:href=\"#C2_0_1b12fb748d\" x=\"16.287138\" y=\"402.415321\" style=\"fill: #fff5eb\"/>\n    </g>\n    <g clip-path=\"url(#p224a05b2c5)\">\n     <use xlink:href=\"#C2_0_1b12fb748d\" x=\"16.287138\" y=\"390.534329\" style=\"fill: #fff5eb\"/>\n    </g>\n    <g clip-path=\"url(#p224a05b2c5)\">\n     <use xlink:href=\"#C2_0_1b12fb748d\" x=\"16.287138\" y=\"378.653337\" style=\"fill: #fff5eb\"/>\n    </g>\n    <g clip-path=\"url(#p224a05b2c5)\">\n     <use xlink:href=\"#C2_0_1b12fb748d\" x=\"16.287138\" y=\"366.772345\" style=\"fill: #feeddc\"/>\n    </g>\n    <g clip-path=\"url(#p224a05b2c5)\">\n     <use xlink:href=\"#C2_0_1b12fb748d\" x=\"16.287138\" y=\"354.891354\" style=\"fill: #fdd9b4\"/>\n    </g>\n    <g clip-path=\"url(#p224a05b2c5)\">\n     <use xlink:href=\"#C2_0_1b12fb748d\" x=\"16.287138\" y=\"343.010362\" style=\"fill: #fda762\"/>\n    </g>\n    <g clip-path=\"url(#p224a05b2c5)\">\n     <use xlink:href=\"#C2_0_1b12fb748d\" x=\"16.287138\" y=\"331.12937\" style=\"fill: #fee5cb\"/>\n    </g>\n    <g clip-path=\"url(#p224a05b2c5)\">\n     <use xlink:href=\"#C2_0_1b12fb748d\" x=\"16.287138\" y=\"319.248379\" style=\"fill: #fff5eb\"/>\n    </g>\n    <g clip-path=\"url(#p224a05b2c5)\">\n     <use xlink:href=\"#C2_0_1b12fb748d\" x=\"16.287138\" y=\"307.367387\" style=\"fill: #fff5eb\"/>\n    </g>\n    <g clip-path=\"url(#p224a05b2c5)\">\n     <use xlink:href=\"#C2_0_1b12fb748d\" x=\"16.287138\" y=\"295.486395\" style=\"fill: #fff5eb\"/>\n    </g>\n    <g clip-path=\"url(#p224a05b2c5)\">\n     <use xlink:href=\"#C2_0_1b12fb748d\" x=\"23.138047\" y=\"426.177304\" style=\"fill: #fff5eb\"/>\n    </g>\n    <g clip-path=\"url(#p224a05b2c5)\">\n     <use xlink:href=\"#C2_0_1b12fb748d\" x=\"23.138047\" y=\"414.296312\" style=\"fill: #fff5eb\"/>\n    </g>\n    <g clip-path=\"url(#p224a05b2c5)\">\n     <use xlink:href=\"#C2_0_1b12fb748d\" x=\"23.138047\" y=\"402.415321\" style=\"fill: #fdb97d\"/>\n    </g>\n    <g clip-path=\"url(#p224a05b2c5)\">\n     <use xlink:href=\"#C2_0_1b12fb748d\" x=\"23.138047\" y=\"390.534329\" style=\"fill: #fff5eb\"/>\n    </g>\n    <g clip-path=\"url(#p224a05b2c5)\">\n     <use xlink:href=\"#C2_0_1b12fb748d\" x=\"23.138047\" y=\"378.653337\" style=\"fill: #fdb97d\"/>\n    </g>\n    <g clip-path=\"url(#p224a05b2c5)\">\n     <use xlink:href=\"#C2_0_1b12fb748d\" x=\"23.138047\" y=\"366.772345\" style=\"fill: #fa8331\"/>\n    </g>\n    <g clip-path=\"url(#p224a05b2c5)\">\n     <use xlink:href=\"#C2_0_1b12fb748d\" x=\"23.138047\" y=\"354.891354\" style=\"fill: #fd9649\"/>\n    </g>\n    <g clip-path=\"url(#p224a05b2c5)\">\n     <use xlink:href=\"#C2_0_1b12fb748d\" x=\"23.138047\" y=\"343.010362\" style=\"fill: #feeddc\"/>\n    </g>\n    <g clip-path=\"url(#p224a05b2c5)\">\n     <use xlink:href=\"#C2_0_1b12fb748d\" x=\"23.138047\" y=\"331.12937\" style=\"fill: #fff5eb\"/>\n    </g>\n    <g clip-path=\"url(#p224a05b2c5)\">\n     <use xlink:href=\"#C2_0_1b12fb748d\" x=\"23.138047\" y=\"319.248379\" style=\"fill: #fff5eb\"/>\n    </g>\n    <g clip-path=\"url(#p224a05b2c5)\">\n     <use xlink:href=\"#C2_0_1b12fb748d\" x=\"23.138047\" y=\"307.367387\" style=\"fill: #fff5eb\"/>\n    </g>\n    <g clip-path=\"url(#p224a05b2c5)\">\n     <use xlink:href=\"#C2_0_1b12fb748d\" x=\"23.138047\" y=\"295.486395\" style=\"fill: #fff5eb\"/>\n    </g>\n    <g clip-path=\"url(#p224a05b2c5)\">\n     <use xlink:href=\"#C2_0_1b12fb748d\" x=\"29.988956\" y=\"426.177304\" style=\"fill: #fff5eb\"/>\n    </g>\n    <g clip-path=\"url(#p224a05b2c5)\">\n     <use xlink:href=\"#C2_0_1b12fb748d\" x=\"29.988956\" y=\"414.296312\" style=\"fill: #fff5eb\"/>\n    </g>\n    <g clip-path=\"url(#p224a05b2c5)\">\n     <use xlink:href=\"#C2_0_1b12fb748d\" x=\"29.988956\" y=\"402.415321\" style=\"fill: #fd9649\"/>\n    </g>\n    <g clip-path=\"url(#p224a05b2c5)\">\n     <use xlink:href=\"#C2_0_1b12fb748d\" x=\"29.988956\" y=\"390.534329\" style=\"fill: #fff5eb\"/>\n    </g>\n    <g clip-path=\"url(#p224a05b2c5)\">\n     <use xlink:href=\"#C2_0_1b12fb748d\" x=\"29.988956\" y=\"378.653337\" style=\"fill: #fa8331\"/>\n    </g>\n    <g clip-path=\"url(#p224a05b2c5)\">\n     <use xlink:href=\"#C2_0_1b12fb748d\" x=\"29.988956\" y=\"366.772345\" style=\"fill: #fda762\"/>\n    </g>\n    <g clip-path=\"url(#p224a05b2c5)\">\n     <use xlink:href=\"#C2_0_1b12fb748d\" x=\"29.988956\" y=\"354.891354\" style=\"fill: #dc4c03\"/>\n    </g>\n    <g clip-path=\"url(#p224a05b2c5)\">\n     <use xlink:href=\"#C2_0_1b12fb748d\" x=\"29.988956\" y=\"343.010362\" style=\"fill: #fdcb9b\"/>\n    </g>\n    <g clip-path=\"url(#p224a05b2c5)\">\n     <use xlink:href=\"#C2_0_1b12fb748d\" x=\"29.988956\" y=\"331.12937\" style=\"fill: #fff5eb\"/>\n    </g>\n    <g clip-path=\"url(#p224a05b2c5)\">\n     <use xlink:href=\"#C2_0_1b12fb748d\" x=\"29.988956\" y=\"319.248379\" style=\"fill: #fff5eb\"/>\n    </g>\n    <g clip-path=\"url(#p224a05b2c5)\">\n     <use xlink:href=\"#C2_0_1b12fb748d\" x=\"29.988956\" y=\"307.367387\" style=\"fill: #fff5eb\"/>\n    </g>\n    <g clip-path=\"url(#p224a05b2c5)\">\n     <use xlink:href=\"#C2_0_1b12fb748d\" x=\"29.988956\" y=\"295.486395\" style=\"fill: #fff5eb\"/>\n    </g>\n    <g clip-path=\"url(#p224a05b2c5)\">\n     <use xlink:href=\"#C2_0_1b12fb748d\" x=\"36.839865\" y=\"426.177304\" style=\"fill: #fff5eb\"/>\n    </g>\n    <g clip-path=\"url(#p224a05b2c5)\">\n     <use xlink:href=\"#C2_0_1b12fb748d\" x=\"36.839865\" y=\"414.296312\" style=\"fill: #fff5eb\"/>\n    </g>\n    <g clip-path=\"url(#p224a05b2c5)\">\n     <use xlink:href=\"#C2_0_1b12fb748d\" x=\"36.839865\" y=\"402.415321\" style=\"fill: #feeddc\"/>\n    </g>\n    <g clip-path=\"url(#p224a05b2c5)\">\n     <use xlink:href=\"#C2_0_1b12fb748d\" x=\"36.839865\" y=\"390.534329\" style=\"fill: #fee5cb\"/>\n    </g>\n    <g clip-path=\"url(#p224a05b2c5)\">\n     <use xlink:href=\"#C2_0_1b12fb748d\" x=\"36.839865\" y=\"378.653337\" style=\"fill: #fdcb9b\"/>\n    </g>\n    <g clip-path=\"url(#p224a05b2c5)\">\n     <use xlink:href=\"#C2_0_1b12fb748d\" x=\"36.839865\" y=\"366.772345\" style=\"fill: #fdb97d\"/>\n    </g>\n    <g clip-path=\"url(#p224a05b2c5)\">\n     <use xlink:href=\"#C2_0_1b12fb748d\" x=\"36.839865\" y=\"354.891354\" style=\"fill: #fd9649\"/>\n    </g>\n    <g clip-path=\"url(#p224a05b2c5)\">\n     <use xlink:href=\"#C2_0_1b12fb748d\" x=\"36.839865\" y=\"343.010362\" style=\"fill: #fdd9b4\"/>\n    </g>\n    <g clip-path=\"url(#p224a05b2c5)\">\n     <use xlink:href=\"#C2_0_1b12fb748d\" x=\"36.839865\" y=\"331.12937\" style=\"fill: #fdb97d\"/>\n    </g>\n    <g clip-path=\"url(#p224a05b2c5)\">\n     <use xlink:href=\"#C2_0_1b12fb748d\" x=\"36.839865\" y=\"319.248379\" style=\"fill: #fff5eb\"/>\n    </g>\n    <g clip-path=\"url(#p224a05b2c5)\">\n     <use xlink:href=\"#C2_0_1b12fb748d\" x=\"36.839865\" y=\"307.367387\" style=\"fill: #fff5eb\"/>\n    </g>\n    <g clip-path=\"url(#p224a05b2c5)\">\n     <use xlink:href=\"#C2_0_1b12fb748d\" x=\"36.839865\" y=\"295.486395\" style=\"fill: #fff5eb\"/>\n    </g>\n    <g clip-path=\"url(#p224a05b2c5)\">\n     <use xlink:href=\"#C2_0_1b12fb748d\" x=\"43.690774\" y=\"426.177304\" style=\"fill: #fff5eb\"/>\n    </g>\n    <g clip-path=\"url(#p224a05b2c5)\">\n     <use xlink:href=\"#C2_0_1b12fb748d\" x=\"43.690774\" y=\"414.296312\" style=\"fill: #fff5eb\"/>\n    </g>\n    <g clip-path=\"url(#p224a05b2c5)\">\n     <use xlink:href=\"#C2_0_1b12fb748d\" x=\"43.690774\" y=\"402.415321\" style=\"fill: #fdcb9b\"/>\n    </g>\n    <g clip-path=\"url(#p224a05b2c5)\">\n     <use xlink:href=\"#C2_0_1b12fb748d\" x=\"43.690774\" y=\"390.534329\" style=\"fill: #fdd9b4\"/>\n    </g>\n    <g clip-path=\"url(#p224a05b2c5)\">\n     <use xlink:href=\"#C2_0_1b12fb748d\" x=\"43.690774\" y=\"378.653337\" style=\"fill: #fff5eb\"/>\n    </g>\n    <g clip-path=\"url(#p224a05b2c5)\">\n     <use xlink:href=\"#C2_0_1b12fb748d\" x=\"43.690774\" y=\"366.772345\" style=\"fill: #fd9649\"/>\n    </g>\n    <g clip-path=\"url(#p224a05b2c5)\">\n     <use xlink:href=\"#C2_0_1b12fb748d\" x=\"43.690774\" y=\"354.891354\" style=\"fill: #fee5cb\"/>\n    </g>\n    <g clip-path=\"url(#p224a05b2c5)\">\n     <use xlink:href=\"#C2_0_1b12fb748d\" x=\"43.690774\" y=\"343.010362\" style=\"fill: #fdb97d\"/>\n    </g>\n    <g clip-path=\"url(#p224a05b2c5)\">\n     <use xlink:href=\"#C2_0_1b12fb748d\" x=\"43.690774\" y=\"331.12937\" style=\"fill: #fee5cb\"/>\n    </g>\n    <g clip-path=\"url(#p224a05b2c5)\">\n     <use xlink:href=\"#C2_0_1b12fb748d\" x=\"43.690774\" y=\"319.248379\" style=\"fill: #feeddc\"/>\n    </g>\n    <g clip-path=\"url(#p224a05b2c5)\">\n     <use xlink:href=\"#C2_0_1b12fb748d\" x=\"43.690774\" y=\"307.367387\" style=\"fill: #fee5cb\"/>\n    </g>\n    <g clip-path=\"url(#p224a05b2c5)\">\n     <use xlink:href=\"#C2_0_1b12fb748d\" x=\"43.690774\" y=\"295.486395\" style=\"fill: #fff5eb\"/>\n    </g>\n    <g clip-path=\"url(#p224a05b2c5)\">\n     <use xlink:href=\"#C2_0_1b12fb748d\" x=\"50.541683\" y=\"426.177304\" style=\"fill: #fff5eb\"/>\n    </g>\n    <g clip-path=\"url(#p224a05b2c5)\">\n     <use xlink:href=\"#C2_0_1b12fb748d\" x=\"50.541683\" y=\"414.296312\" style=\"fill: #fff5eb\"/>\n    </g>\n    <g clip-path=\"url(#p224a05b2c5)\">\n     <use xlink:href=\"#C2_0_1b12fb748d\" x=\"50.541683\" y=\"402.415321\" style=\"fill: #feeddc\"/>\n    </g>\n    <g clip-path=\"url(#p224a05b2c5)\">\n     <use xlink:href=\"#C2_0_1b12fb748d\" x=\"50.541683\" y=\"390.534329\" style=\"fill: #feeddc\"/>\n    </g>\n    <g clip-path=\"url(#p224a05b2c5)\">\n     <use xlink:href=\"#C2_0_1b12fb748d\" x=\"50.541683\" y=\"378.653337\" style=\"fill: #fda762\"/>\n    </g>\n    <g clip-path=\"url(#p224a05b2c5)\">\n     <use xlink:href=\"#C2_0_1b12fb748d\" x=\"50.541683\" y=\"366.772345\" style=\"fill: #fdb97d\"/>\n    </g>\n    <g clip-path=\"url(#p224a05b2c5)\">\n     <use xlink:href=\"#C2_0_1b12fb748d\" x=\"50.541683\" y=\"354.891354\" style=\"fill: #fff5eb\"/>\n    </g>\n    <g clip-path=\"url(#p224a05b2c5)\">\n     <use xlink:href=\"#C2_0_1b12fb748d\" x=\"50.541683\" y=\"343.010362\" style=\"fill: #fdd9b4\"/>\n    </g>\n    <g clip-path=\"url(#p224a05b2c5)\">\n     <use xlink:href=\"#C2_0_1b12fb748d\" x=\"50.541683\" y=\"331.12937\" style=\"fill: #fee5cb\"/>\n    </g>\n    <g clip-path=\"url(#p224a05b2c5)\">\n     <use xlink:href=\"#C2_0_1b12fb748d\" x=\"50.541683\" y=\"319.248379\" style=\"fill: #fff5eb\"/>\n    </g>\n    <g clip-path=\"url(#p224a05b2c5)\">\n     <use xlink:href=\"#C2_0_1b12fb748d\" x=\"50.541683\" y=\"307.367387\" style=\"fill: #fdb97d\"/>\n    </g>\n    <g clip-path=\"url(#p224a05b2c5)\">\n     <use xlink:href=\"#C2_0_1b12fb748d\" x=\"50.541683\" y=\"295.486395\" style=\"fill: #fff5eb\"/>\n    </g>\n    <g clip-path=\"url(#p224a05b2c5)\">\n     <use xlink:href=\"#C2_0_1b12fb748d\" x=\"57.392592\" y=\"426.177304\" style=\"fill: #fff5eb\"/>\n    </g>\n    <g clip-path=\"url(#p224a05b2c5)\">\n     <use xlink:href=\"#C2_0_1b12fb748d\" x=\"57.392592\" y=\"414.296312\" style=\"fill: #fff5eb\"/>\n    </g>\n    <g clip-path=\"url(#p224a05b2c5)\">\n     <use xlink:href=\"#C2_0_1b12fb748d\" x=\"57.392592\" y=\"402.415321\" style=\"fill: #fdb97d\"/>\n    </g>\n    <g clip-path=\"url(#p224a05b2c5)\">\n     <use xlink:href=\"#C2_0_1b12fb748d\" x=\"57.392592\" y=\"390.534329\" style=\"fill: #f3701b\"/>\n    </g>\n    <g clip-path=\"url(#p224a05b2c5)\">\n     <use xlink:href=\"#C2_0_1b12fb748d\" x=\"57.392592\" y=\"378.653337\" style=\"fill: #fdd9b4\"/>\n    </g>\n    <g clip-path=\"url(#p224a05b2c5)\">\n     <use xlink:href=\"#C2_0_1b12fb748d\" x=\"57.392592\" y=\"366.772345\" style=\"fill: #fa8331\"/>\n    </g>\n    <g clip-path=\"url(#p224a05b2c5)\">\n     <use xlink:href=\"#C2_0_1b12fb748d\" x=\"57.392592\" y=\"354.891354\" style=\"fill: #fdd9b4\"/>\n    </g>\n    <g clip-path=\"url(#p224a05b2c5)\">\n     <use xlink:href=\"#C2_0_1b12fb748d\" x=\"57.392592\" y=\"343.010362\" style=\"fill: #fda762\"/>\n    </g>\n    <g clip-path=\"url(#p224a05b2c5)\">\n     <use xlink:href=\"#C2_0_1b12fb748d\" x=\"57.392592\" y=\"331.12937\" style=\"fill: #fd9649\"/>\n    </g>\n    <g clip-path=\"url(#p224a05b2c5)\">\n     <use xlink:href=\"#C2_0_1b12fb748d\" x=\"57.392592\" y=\"319.248379\" style=\"fill: #fdb97d\"/>\n    </g>\n    <g clip-path=\"url(#p224a05b2c5)\">\n     <use xlink:href=\"#C2_0_1b12fb748d\" x=\"57.392592\" y=\"307.367387\" style=\"fill: #fff5eb\"/>\n    </g>\n    <g clip-path=\"url(#p224a05b2c5)\">\n     <use xlink:href=\"#C2_0_1b12fb748d\" x=\"57.392592\" y=\"295.486395\" style=\"fill: #fff5eb\"/>\n    </g>\n    <g clip-path=\"url(#p224a05b2c5)\">\n     <use xlink:href=\"#C2_0_1b12fb748d\" x=\"64.243502\" y=\"426.177304\" style=\"fill: #fff5eb\"/>\n    </g>\n    <g clip-path=\"url(#p224a05b2c5)\">\n     <use xlink:href=\"#C2_0_1b12fb748d\" x=\"64.243502\" y=\"414.296312\" style=\"fill: #feeddc\"/>\n    </g>\n    <g clip-path=\"url(#p224a05b2c5)\">\n     <use xlink:href=\"#C2_0_1b12fb748d\" x=\"64.243502\" y=\"402.415321\" style=\"fill: #fee5cb\"/>\n    </g>\n    <g clip-path=\"url(#p224a05b2c5)\">\n     <use xlink:href=\"#C2_0_1b12fb748d\" x=\"64.243502\" y=\"390.534329\" style=\"fill: #f3701b\"/>\n    </g>\n    <g clip-path=\"url(#p224a05b2c5)\">\n     <use xlink:href=\"#C2_0_1b12fb748d\" x=\"64.243502\" y=\"378.653337\" style=\"fill: #fdd9b4\"/>\n    </g>\n    <g clip-path=\"url(#p224a05b2c5)\">\n     <use xlink:href=\"#C2_0_1b12fb748d\" x=\"64.243502\" y=\"366.772345\" style=\"fill: #fdcb9b\"/>\n    </g>\n    <g clip-path=\"url(#p224a05b2c5)\">\n     <use xlink:href=\"#C2_0_1b12fb748d\" x=\"64.243502\" y=\"354.891354\" style=\"fill: #fd9649\"/>\n    </g>\n    <g clip-path=\"url(#p224a05b2c5)\">\n     <use xlink:href=\"#C2_0_1b12fb748d\" x=\"64.243502\" y=\"343.010362\" style=\"fill: #f3701b\"/>\n    </g>\n    <g clip-path=\"url(#p224a05b2c5)\">\n     <use xlink:href=\"#C2_0_1b12fb748d\" x=\"64.243502\" y=\"331.12937\" style=\"fill: #fdcb9b\"/>\n    </g>\n    <g clip-path=\"url(#p224a05b2c5)\">\n     <use xlink:href=\"#C2_0_1b12fb748d\" x=\"64.243502\" y=\"319.248379\" style=\"fill: #fee5cb\"/>\n    </g>\n    <g clip-path=\"url(#p224a05b2c5)\">\n     <use xlink:href=\"#C2_0_1b12fb748d\" x=\"64.243502\" y=\"307.367387\" style=\"fill: #fff5eb\"/>\n    </g>\n    <g clip-path=\"url(#p224a05b2c5)\">\n     <use xlink:href=\"#C2_0_1b12fb748d\" x=\"64.243502\" y=\"295.486395\" style=\"fill: #fff5eb\"/>\n    </g>\n    <g clip-path=\"url(#p224a05b2c5)\">\n     <use xlink:href=\"#C2_0_1b12fb748d\" x=\"71.094411\" y=\"426.177304\" style=\"fill: #fff5eb\"/>\n    </g>\n    <g clip-path=\"url(#p224a05b2c5)\">\n     <use xlink:href=\"#C2_0_1b12fb748d\" x=\"71.094411\" y=\"414.296312\" style=\"fill: #fff5eb\"/>\n    </g>\n    <g clip-path=\"url(#p224a05b2c5)\">\n     <use xlink:href=\"#C2_0_1b12fb748d\" x=\"71.094411\" y=\"402.415321\" style=\"fill: #fdd9b4\"/>\n    </g>\n    <g clip-path=\"url(#p224a05b2c5)\">\n     <use xlink:href=\"#C2_0_1b12fb748d\" x=\"71.094411\" y=\"390.534329\" style=\"fill: #fdb97d\"/>\n    </g>\n    <g clip-path=\"url(#p224a05b2c5)\">\n     <use xlink:href=\"#C2_0_1b12fb748d\" x=\"71.094411\" y=\"378.653337\" style=\"fill: #fd9649\"/>\n    </g>\n    <g clip-path=\"url(#p224a05b2c5)\">\n     <use xlink:href=\"#C2_0_1b12fb748d\" x=\"71.094411\" y=\"366.772345\" style=\"fill: #fda762\"/>\n    </g>\n    <g clip-path=\"url(#p224a05b2c5)\">\n     <use xlink:href=\"#C2_0_1b12fb748d\" x=\"71.094411\" y=\"354.891354\" style=\"fill: #fee5cb\"/>\n    </g>\n    <g clip-path=\"url(#p224a05b2c5)\">\n     <use xlink:href=\"#C2_0_1b12fb748d\" x=\"71.094411\" y=\"343.010362\" style=\"fill: #fdcb9b\"/>\n    </g>\n    <g clip-path=\"url(#p224a05b2c5)\">\n     <use xlink:href=\"#C2_0_1b12fb748d\" x=\"71.094411\" y=\"331.12937\" style=\"fill: #fdcb9b\"/>\n    </g>\n    <g clip-path=\"url(#p224a05b2c5)\">\n     <use xlink:href=\"#C2_0_1b12fb748d\" x=\"71.094411\" y=\"319.248379\" style=\"fill: #fff5eb\"/>\n    </g>\n    <g clip-path=\"url(#p224a05b2c5)\">\n     <use xlink:href=\"#C2_0_1b12fb748d\" x=\"71.094411\" y=\"307.367387\" style=\"fill: #fff5eb\"/>\n    </g>\n    <g clip-path=\"url(#p224a05b2c5)\">\n     <use xlink:href=\"#C2_0_1b12fb748d\" x=\"71.094411\" y=\"295.486395\" style=\"fill: #fff5eb\"/>\n    </g>\n    <g clip-path=\"url(#p224a05b2c5)\">\n     <use xlink:href=\"#C2_0_1b12fb748d\" x=\"77.94532\" y=\"426.177304\" style=\"fill: #fff5eb\"/>\n    </g>\n    <g clip-path=\"url(#p224a05b2c5)\">\n     <use xlink:href=\"#C2_0_1b12fb748d\" x=\"77.94532\" y=\"414.296312\" style=\"fill: #fff5eb\"/>\n    </g>\n    <g clip-path=\"url(#p224a05b2c5)\">\n     <use xlink:href=\"#C2_0_1b12fb748d\" x=\"77.94532\" y=\"402.415321\" style=\"fill: #fdcb9b\"/>\n    </g>\n    <g clip-path=\"url(#p224a05b2c5)\">\n     <use xlink:href=\"#C2_0_1b12fb748d\" x=\"77.94532\" y=\"390.534329\" style=\"fill: #f3701b\"/>\n    </g>\n    <g clip-path=\"url(#p224a05b2c5)\">\n     <use xlink:href=\"#C2_0_1b12fb748d\" x=\"77.94532\" y=\"378.653337\" style=\"fill: #fa8331\"/>\n    </g>\n    <g clip-path=\"url(#p224a05b2c5)\">\n     <use xlink:href=\"#C2_0_1b12fb748d\" x=\"77.94532\" y=\"366.772345\" style=\"fill: #fa8331\"/>\n    </g>\n    <g clip-path=\"url(#p224a05b2c5)\">\n     <use xlink:href=\"#C2_0_1b12fb748d\" x=\"77.94532\" y=\"354.891354\" style=\"fill: #fdcb9b\"/>\n    </g>\n    <g clip-path=\"url(#p224a05b2c5)\">\n     <use xlink:href=\"#C2_0_1b12fb748d\" x=\"77.94532\" y=\"343.010362\" style=\"fill: #fd9649\"/>\n    </g>\n    <g clip-path=\"url(#p224a05b2c5)\">\n     <use xlink:href=\"#C2_0_1b12fb748d\" x=\"77.94532\" y=\"331.12937\" style=\"fill: #fdcb9b\"/>\n    </g>\n    <g clip-path=\"url(#p224a05b2c5)\">\n     <use xlink:href=\"#C2_0_1b12fb748d\" x=\"77.94532\" y=\"319.248379\" style=\"fill: #fff5eb\"/>\n    </g>\n    <g clip-path=\"url(#p224a05b2c5)\">\n     <use xlink:href=\"#C2_0_1b12fb748d\" x=\"77.94532\" y=\"307.367387\" style=\"fill: #fff5eb\"/>\n    </g>\n    <g clip-path=\"url(#p224a05b2c5)\">\n     <use xlink:href=\"#C2_0_1b12fb748d\" x=\"77.94532\" y=\"295.486395\" style=\"fill: #fee5cb\"/>\n    </g>\n    <g clip-path=\"url(#p224a05b2c5)\">\n     <use xlink:href=\"#C2_0_1b12fb748d\" x=\"84.796229\" y=\"426.177304\" style=\"fill: #feeddc\"/>\n    </g>\n    <g clip-path=\"url(#p224a05b2c5)\">\n     <use xlink:href=\"#C2_0_1b12fb748d\" x=\"84.796229\" y=\"414.296312\" style=\"fill: #fdd9b4\"/>\n    </g>\n    <g clip-path=\"url(#p224a05b2c5)\">\n     <use xlink:href=\"#C2_0_1b12fb748d\" x=\"84.796229\" y=\"402.415321\" style=\"fill: #fdd9b4\"/>\n    </g>\n    <g clip-path=\"url(#p224a05b2c5)\">\n     <use xlink:href=\"#C2_0_1b12fb748d\" x=\"84.796229\" y=\"390.534329\" style=\"fill: #fdcb9b\"/>\n    </g>\n    <g clip-path=\"url(#p224a05b2c5)\">\n     <use xlink:href=\"#C2_0_1b12fb748d\" x=\"84.796229\" y=\"378.653337\" style=\"fill: #f3701b\"/>\n    </g>\n    <g clip-path=\"url(#p224a05b2c5)\">\n     <use xlink:href=\"#C2_0_1b12fb748d\" x=\"84.796229\" y=\"366.772345\" style=\"fill: #fdcb9b\"/>\n    </g>\n    <g clip-path=\"url(#p224a05b2c5)\">\n     <use xlink:href=\"#C2_0_1b12fb748d\" x=\"84.796229\" y=\"354.891354\" style=\"fill: #fda762\"/>\n    </g>\n    <g clip-path=\"url(#p224a05b2c5)\">\n     <use xlink:href=\"#C2_0_1b12fb748d\" x=\"84.796229\" y=\"343.010362\" style=\"fill: #feeddc\"/>\n    </g>\n    <g clip-path=\"url(#p224a05b2c5)\">\n     <use xlink:href=\"#C2_0_1b12fb748d\" x=\"84.796229\" y=\"331.12937\" style=\"fill: #fdb97d\"/>\n    </g>\n    <g clip-path=\"url(#p224a05b2c5)\">\n     <use xlink:href=\"#C2_0_1b12fb748d\" x=\"84.796229\" y=\"319.248379\" style=\"fill: #feeddc\"/>\n    </g>\n    <g clip-path=\"url(#p224a05b2c5)\">\n     <use xlink:href=\"#C2_0_1b12fb748d\" x=\"84.796229\" y=\"307.367387\" style=\"fill: #fff5eb\"/>\n    </g>\n    <g clip-path=\"url(#p224a05b2c5)\">\n     <use xlink:href=\"#C2_0_1b12fb748d\" x=\"84.796229\" y=\"295.486395\" style=\"fill: #fff5eb\"/>\n    </g>\n    <g clip-path=\"url(#p224a05b2c5)\">\n     <use xlink:href=\"#C2_0_1b12fb748d\" x=\"91.647138\" y=\"426.177304\" style=\"fill: #fff5eb\"/>\n    </g>\n    <g clip-path=\"url(#p224a05b2c5)\">\n     <use xlink:href=\"#C2_0_1b12fb748d\" x=\"91.647138\" y=\"414.296312\" style=\"fill: #fff5eb\"/>\n    </g>\n    <g clip-path=\"url(#p224a05b2c5)\">\n     <use xlink:href=\"#C2_0_1b12fb748d\" x=\"91.647138\" y=\"402.415321\" style=\"fill: #fdb97d\"/>\n    </g>\n    <g clip-path=\"url(#p224a05b2c5)\">\n     <use xlink:href=\"#C2_0_1b12fb748d\" x=\"91.647138\" y=\"390.534329\" style=\"fill: #fdcb9b\"/>\n    </g>\n    <g clip-path=\"url(#p224a05b2c5)\">\n     <use xlink:href=\"#C2_0_1b12fb748d\" x=\"91.647138\" y=\"378.653337\" style=\"fill: #fd9649\"/>\n    </g>\n    <g clip-path=\"url(#p224a05b2c5)\">\n     <use xlink:href=\"#C2_0_1b12fb748d\" x=\"91.647138\" y=\"366.772345\" style=\"fill: #fdcb9b\"/>\n    </g>\n    <g clip-path=\"url(#p224a05b2c5)\">\n     <use xlink:href=\"#C2_0_1b12fb748d\" x=\"91.647138\" y=\"354.891354\" style=\"fill: #fdd9b4\"/>\n    </g>\n    <g clip-path=\"url(#p224a05b2c5)\">\n     <use xlink:href=\"#C2_0_1b12fb748d\" x=\"91.647138\" y=\"343.010362\" style=\"fill: #fee5cb\"/>\n    </g>\n    <g clip-path=\"url(#p224a05b2c5)\">\n     <use xlink:href=\"#C2_0_1b12fb748d\" x=\"91.647138\" y=\"331.12937\" style=\"fill: #feeddc\"/>\n    </g>\n    <g clip-path=\"url(#p224a05b2c5)\">\n     <use xlink:href=\"#C2_0_1b12fb748d\" x=\"91.647138\" y=\"319.248379\" style=\"fill: #fff5eb\"/>\n    </g>\n    <g clip-path=\"url(#p224a05b2c5)\">\n     <use xlink:href=\"#C2_0_1b12fb748d\" x=\"91.647138\" y=\"307.367387\" style=\"fill: #fff5eb\"/>\n    </g>\n    <g clip-path=\"url(#p224a05b2c5)\">\n     <use xlink:href=\"#C2_0_1b12fb748d\" x=\"91.647138\" y=\"295.486395\" style=\"fill: #fff5eb\"/>\n    </g>\n    <g clip-path=\"url(#p224a05b2c5)\">\n     <use xlink:href=\"#C2_0_1b12fb748d\" x=\"98.498047\" y=\"426.177304\" style=\"fill: #fff5eb\"/>\n    </g>\n    <g clip-path=\"url(#p224a05b2c5)\">\n     <use xlink:href=\"#C2_0_1b12fb748d\" x=\"98.498047\" y=\"414.296312\" style=\"fill: #feeddc\"/>\n    </g>\n    <g clip-path=\"url(#p224a05b2c5)\">\n     <use xlink:href=\"#C2_0_1b12fb748d\" x=\"98.498047\" y=\"402.415321\" style=\"fill: #fdd9b4\"/>\n    </g>\n    <g clip-path=\"url(#p224a05b2c5)\">\n     <use xlink:href=\"#C2_0_1b12fb748d\" x=\"98.498047\" y=\"390.534329\" style=\"fill: #fda762\"/>\n    </g>\n    <g clip-path=\"url(#p224a05b2c5)\">\n     <use xlink:href=\"#C2_0_1b12fb748d\" x=\"98.498047\" y=\"378.653337\" style=\"fill: #fda762\"/>\n    </g>\n    <g clip-path=\"url(#p224a05b2c5)\">\n     <use xlink:href=\"#C2_0_1b12fb748d\" x=\"98.498047\" y=\"366.772345\" style=\"fill: #fa8331\"/>\n    </g>\n    <g clip-path=\"url(#p224a05b2c5)\">\n     <use xlink:href=\"#C2_0_1b12fb748d\" x=\"98.498047\" y=\"354.891354\" style=\"fill: #fa8331\"/>\n    </g>\n    <g clip-path=\"url(#p224a05b2c5)\">\n     <use xlink:href=\"#C2_0_1b12fb748d\" x=\"98.498047\" y=\"343.010362\" style=\"fill: #fdcb9b\"/>\n    </g>\n    <g clip-path=\"url(#p224a05b2c5)\">\n     <use xlink:href=\"#C2_0_1b12fb748d\" x=\"98.498047\" y=\"331.12937\" style=\"fill: #fdd9b4\"/>\n    </g>\n    <g clip-path=\"url(#p224a05b2c5)\">\n     <use xlink:href=\"#C2_0_1b12fb748d\" x=\"98.498047\" y=\"319.248379\" style=\"fill: #fff5eb\"/>\n    </g>\n    <g clip-path=\"url(#p224a05b2c5)\">\n     <use xlink:href=\"#C2_0_1b12fb748d\" x=\"98.498047\" y=\"307.367387\" style=\"fill: #fff5eb\"/>\n    </g>\n    <g clip-path=\"url(#p224a05b2c5)\">\n     <use xlink:href=\"#C2_0_1b12fb748d\" x=\"98.498047\" y=\"295.486395\" style=\"fill: #fff5eb\"/>\n    </g>\n    <g clip-path=\"url(#p224a05b2c5)\">\n     <use xlink:href=\"#C2_0_1b12fb748d\" x=\"105.348956\" y=\"426.177304\" style=\"fill: #fff5eb\"/>\n    </g>\n    <g clip-path=\"url(#p224a05b2c5)\">\n     <use xlink:href=\"#C2_0_1b12fb748d\" x=\"105.348956\" y=\"414.296312\" style=\"fill: #feeddc\"/>\n    </g>\n    <g clip-path=\"url(#p224a05b2c5)\">\n     <use xlink:href=\"#C2_0_1b12fb748d\" x=\"105.348956\" y=\"402.415321\" style=\"fill: #fdd9b4\"/>\n    </g>\n    <g clip-path=\"url(#p224a05b2c5)\">\n     <use xlink:href=\"#C2_0_1b12fb748d\" x=\"105.348956\" y=\"390.534329\" style=\"fill: #fdb97d\"/>\n    </g>\n    <g clip-path=\"url(#p224a05b2c5)\">\n     <use xlink:href=\"#C2_0_1b12fb748d\" x=\"105.348956\" y=\"378.653337\" style=\"fill: #fdcb9b\"/>\n    </g>\n    <g clip-path=\"url(#p224a05b2c5)\">\n     <use xlink:href=\"#C2_0_1b12fb748d\" x=\"105.348956\" y=\"366.772345\" style=\"fill: #fee5cb\"/>\n    </g>\n    <g clip-path=\"url(#p224a05b2c5)\">\n     <use xlink:href=\"#C2_0_1b12fb748d\" x=\"105.348956\" y=\"354.891354\" style=\"fill: #fd9649\"/>\n    </g>\n    <g clip-path=\"url(#p224a05b2c5)\">\n     <use xlink:href=\"#C2_0_1b12fb748d\" x=\"105.348956\" y=\"343.010362\" style=\"fill: #fdb97d\"/>\n    </g>\n    <g clip-path=\"url(#p224a05b2c5)\">\n     <use xlink:href=\"#C2_0_1b12fb748d\" x=\"105.348956\" y=\"331.12937\" style=\"fill: #fda762\"/>\n    </g>\n    <g clip-path=\"url(#p224a05b2c5)\">\n     <use xlink:href=\"#C2_0_1b12fb748d\" x=\"105.348956\" y=\"319.248379\" style=\"fill: #fee5cb\"/>\n    </g>\n    <g clip-path=\"url(#p224a05b2c5)\">\n     <use xlink:href=\"#C2_0_1b12fb748d\" x=\"105.348956\" y=\"307.367387\" style=\"fill: #fff5eb\"/>\n    </g>\n    <g clip-path=\"url(#p224a05b2c5)\">\n     <use xlink:href=\"#C2_0_1b12fb748d\" x=\"105.348956\" y=\"295.486395\" style=\"fill: #fff5eb\"/>\n    </g>\n    <g clip-path=\"url(#p224a05b2c5)\">\n     <use xlink:href=\"#C2_0_1b12fb748d\" x=\"112.199865\" y=\"426.177304\" style=\"fill: #fff5eb\"/>\n    </g>\n    <g clip-path=\"url(#p224a05b2c5)\">\n     <use xlink:href=\"#C2_0_1b12fb748d\" x=\"112.199865\" y=\"414.296312\" style=\"fill: #feeddc\"/>\n    </g>\n    <g clip-path=\"url(#p224a05b2c5)\">\n     <use xlink:href=\"#C2_0_1b12fb748d\" x=\"112.199865\" y=\"402.415321\" style=\"fill: #fee5cb\"/>\n    </g>\n    <g clip-path=\"url(#p224a05b2c5)\">\n     <use xlink:href=\"#C2_0_1b12fb748d\" x=\"112.199865\" y=\"390.534329\" style=\"fill: #fd9649\"/>\n    </g>\n    <g clip-path=\"url(#p224a05b2c5)\">\n     <use xlink:href=\"#C2_0_1b12fb748d\" x=\"112.199865\" y=\"378.653337\" style=\"fill: #fdcb9b\"/>\n    </g>\n    <g clip-path=\"url(#p224a05b2c5)\">\n     <use xlink:href=\"#C2_0_1b12fb748d\" x=\"112.199865\" y=\"366.772345\" style=\"fill: #fdb97d\"/>\n    </g>\n    <g clip-path=\"url(#p224a05b2c5)\">\n     <use xlink:href=\"#C2_0_1b12fb748d\" x=\"112.199865\" y=\"354.891354\" style=\"fill: #fda762\"/>\n    </g>\n    <g clip-path=\"url(#p224a05b2c5)\">\n     <use xlink:href=\"#C2_0_1b12fb748d\" x=\"112.199865\" y=\"343.010362\" style=\"fill: #fda762\"/>\n    </g>\n    <g clip-path=\"url(#p224a05b2c5)\">\n     <use xlink:href=\"#C2_0_1b12fb748d\" x=\"112.199865\" y=\"331.12937\" style=\"fill: #fdd9b4\"/>\n    </g>\n    <g clip-path=\"url(#p224a05b2c5)\">\n     <use xlink:href=\"#C2_0_1b12fb748d\" x=\"112.199865\" y=\"319.248379\" style=\"fill: #fff5eb\"/>\n    </g>\n    <g clip-path=\"url(#p224a05b2c5)\">\n     <use xlink:href=\"#C2_0_1b12fb748d\" x=\"112.199865\" y=\"307.367387\" style=\"fill: #fff5eb\"/>\n    </g>\n    <g clip-path=\"url(#p224a05b2c5)\">\n     <use xlink:href=\"#C2_0_1b12fb748d\" x=\"112.199865\" y=\"295.486395\" style=\"fill: #fff5eb\"/>\n    </g>\n    <g clip-path=\"url(#p224a05b2c5)\">\n     <use xlink:href=\"#C2_0_1b12fb748d\" x=\"119.050774\" y=\"426.177304\" style=\"fill: #fff5eb\"/>\n    </g>\n    <g clip-path=\"url(#p224a05b2c5)\">\n     <use xlink:href=\"#C2_0_1b12fb748d\" x=\"119.050774\" y=\"414.296312\" style=\"fill: #fff5eb\"/>\n    </g>\n    <g clip-path=\"url(#p224a05b2c5)\">\n     <use xlink:href=\"#C2_0_1b12fb748d\" x=\"119.050774\" y=\"402.415321\" style=\"fill: #fee5cb\"/>\n    </g>\n    <g clip-path=\"url(#p224a05b2c5)\">\n     <use xlink:href=\"#C2_0_1b12fb748d\" x=\"119.050774\" y=\"390.534329\" style=\"fill: #fee5cb\"/>\n    </g>\n    <g clip-path=\"url(#p224a05b2c5)\">\n     <use xlink:href=\"#C2_0_1b12fb748d\" x=\"119.050774\" y=\"378.653337\" style=\"fill: #f3701b\"/>\n    </g>\n    <g clip-path=\"url(#p224a05b2c5)\">\n     <use xlink:href=\"#C2_0_1b12fb748d\" x=\"119.050774\" y=\"366.772345\" style=\"fill: #fdb97d\"/>\n    </g>\n    <g clip-path=\"url(#p224a05b2c5)\">\n     <use xlink:href=\"#C2_0_1b12fb748d\" x=\"119.050774\" y=\"354.891354\" style=\"fill: #fdcb9b\"/>\n    </g>\n    <g clip-path=\"url(#p224a05b2c5)\">\n     <use xlink:href=\"#C2_0_1b12fb748d\" x=\"119.050774\" y=\"343.010362\" style=\"fill: #fda762\"/>\n    </g>\n    <g clip-path=\"url(#p224a05b2c5)\">\n     <use xlink:href=\"#C2_0_1b12fb748d\" x=\"119.050774\" y=\"331.12937\" style=\"fill: #fdcb9b\"/>\n    </g>\n    <g clip-path=\"url(#p224a05b2c5)\">\n     <use xlink:href=\"#C2_0_1b12fb748d\" x=\"119.050774\" y=\"319.248379\" style=\"fill: #fff5eb\"/>\n    </g>\n    <g clip-path=\"url(#p224a05b2c5)\">\n     <use xlink:href=\"#C2_0_1b12fb748d\" x=\"119.050774\" y=\"307.367387\" style=\"fill: #fff5eb\"/>\n    </g>\n    <g clip-path=\"url(#p224a05b2c5)\">\n     <use xlink:href=\"#C2_0_1b12fb748d\" x=\"119.050774\" y=\"295.486395\" style=\"fill: #fff5eb\"/>\n    </g>\n    <g clip-path=\"url(#p224a05b2c5)\">\n     <use xlink:href=\"#C2_0_1b12fb748d\" x=\"125.901683\" y=\"426.177304\" style=\"fill: #fff5eb\"/>\n    </g>\n    <g clip-path=\"url(#p224a05b2c5)\">\n     <use xlink:href=\"#C2_0_1b12fb748d\" x=\"125.901683\" y=\"414.296312\" style=\"fill: #feeddc\"/>\n    </g>\n    <g clip-path=\"url(#p224a05b2c5)\">\n     <use xlink:href=\"#C2_0_1b12fb748d\" x=\"125.901683\" y=\"402.415321\" style=\"fill: #fee5cb\"/>\n    </g>\n    <g clip-path=\"url(#p224a05b2c5)\">\n     <use xlink:href=\"#C2_0_1b12fb748d\" x=\"125.901683\" y=\"390.534329\" style=\"fill: #fdcb9b\"/>\n    </g>\n    <g clip-path=\"url(#p224a05b2c5)\">\n     <use xlink:href=\"#C2_0_1b12fb748d\" x=\"125.901683\" y=\"378.653337\" style=\"fill: #fdd9b4\"/>\n    </g>\n    <g clip-path=\"url(#p224a05b2c5)\">\n     <use xlink:href=\"#C2_0_1b12fb748d\" x=\"125.901683\" y=\"366.772345\" style=\"fill: #fdd9b4\"/>\n    </g>\n    <g clip-path=\"url(#p224a05b2c5)\">\n     <use xlink:href=\"#C2_0_1b12fb748d\" x=\"125.901683\" y=\"354.891354\" style=\"fill: #e95e0d\"/>\n    </g>\n    <g clip-path=\"url(#p224a05b2c5)\">\n     <use xlink:href=\"#C2_0_1b12fb748d\" x=\"125.901683\" y=\"343.010362\" style=\"fill: #fdcb9b\"/>\n    </g>\n    <g clip-path=\"url(#p224a05b2c5)\">\n     <use xlink:href=\"#C2_0_1b12fb748d\" x=\"125.901683\" y=\"331.12937\" style=\"fill: #fdd9b4\"/>\n    </g>\n    <g clip-path=\"url(#p224a05b2c5)\">\n     <use xlink:href=\"#C2_0_1b12fb748d\" x=\"125.901683\" y=\"319.248379\" style=\"fill: #fff5eb\"/>\n    </g>\n    <g clip-path=\"url(#p224a05b2c5)\">\n     <use xlink:href=\"#C2_0_1b12fb748d\" x=\"125.901683\" y=\"307.367387\" style=\"fill: #fff5eb\"/>\n    </g>\n    <g clip-path=\"url(#p224a05b2c5)\">\n     <use xlink:href=\"#C2_0_1b12fb748d\" x=\"125.901683\" y=\"295.486395\" style=\"fill: #fff5eb\"/>\n    </g>\n    <g clip-path=\"url(#p224a05b2c5)\">\n     <use xlink:href=\"#C2_0_1b12fb748d\" x=\"132.752592\" y=\"426.177304\" style=\"fill: #fff5eb\"/>\n    </g>\n    <g clip-path=\"url(#p224a05b2c5)\">\n     <use xlink:href=\"#C2_0_1b12fb748d\" x=\"132.752592\" y=\"414.296312\" style=\"fill: #feeddc\"/>\n    </g>\n    <g clip-path=\"url(#p224a05b2c5)\">\n     <use xlink:href=\"#C2_0_1b12fb748d\" x=\"132.752592\" y=\"402.415321\" style=\"fill: #fff5eb\"/>\n    </g>\n    <g clip-path=\"url(#p224a05b2c5)\">\n     <use xlink:href=\"#C2_0_1b12fb748d\" x=\"132.752592\" y=\"390.534329\" style=\"fill: #fdd9b4\"/>\n    </g>\n    <g clip-path=\"url(#p224a05b2c5)\">\n     <use xlink:href=\"#C2_0_1b12fb748d\" x=\"132.752592\" y=\"378.653337\" style=\"fill: #fda762\"/>\n    </g>\n    <g clip-path=\"url(#p224a05b2c5)\">\n     <use xlink:href=\"#C2_0_1b12fb748d\" x=\"132.752592\" y=\"366.772345\" style=\"fill: #fdb97d\"/>\n    </g>\n    <g clip-path=\"url(#p224a05b2c5)\">\n     <use xlink:href=\"#C2_0_1b12fb748d\" x=\"132.752592\" y=\"354.891354\" style=\"fill: #e95e0d\"/>\n    </g>\n    <g clip-path=\"url(#p224a05b2c5)\">\n     <use xlink:href=\"#C2_0_1b12fb748d\" x=\"132.752592\" y=\"343.010362\" style=\"fill: #942f03\"/>\n    </g>\n    <g clip-path=\"url(#p224a05b2c5)\">\n     <use xlink:href=\"#C2_0_1b12fb748d\" x=\"132.752592\" y=\"331.12937\" style=\"fill: #fd9649\"/>\n    </g>\n    <g clip-path=\"url(#p224a05b2c5)\">\n     <use xlink:href=\"#C2_0_1b12fb748d\" x=\"132.752592\" y=\"319.248379\" style=\"fill: #fff5eb\"/>\n    </g>\n    <g clip-path=\"url(#p224a05b2c5)\">\n     <use xlink:href=\"#C2_0_1b12fb748d\" x=\"132.752592\" y=\"307.367387\" style=\"fill: #fff5eb\"/>\n    </g>\n    <g clip-path=\"url(#p224a05b2c5)\">\n     <use xlink:href=\"#C2_0_1b12fb748d\" x=\"132.752592\" y=\"295.486395\" style=\"fill: #fff5eb\"/>\n    </g>\n    <g clip-path=\"url(#p224a05b2c5)\">\n     <use xlink:href=\"#C2_0_1b12fb748d\" x=\"139.603502\" y=\"426.177304\" style=\"fill: #fff5eb\"/>\n    </g>\n    <g clip-path=\"url(#p224a05b2c5)\">\n     <use xlink:href=\"#C2_0_1b12fb748d\" x=\"139.603502\" y=\"414.296312\" style=\"fill: #fff5eb\"/>\n    </g>\n    <g clip-path=\"url(#p224a05b2c5)\">\n     <use xlink:href=\"#C2_0_1b12fb748d\" x=\"139.603502\" y=\"402.415321\" style=\"fill: #fdd9b4\"/>\n    </g>\n    <g clip-path=\"url(#p224a05b2c5)\">\n     <use xlink:href=\"#C2_0_1b12fb748d\" x=\"139.603502\" y=\"390.534329\" style=\"fill: #fee5cb\"/>\n    </g>\n    <g clip-path=\"url(#p224a05b2c5)\">\n     <use xlink:href=\"#C2_0_1b12fb748d\" x=\"139.603502\" y=\"378.653337\" style=\"fill: #fdb97d\"/>\n    </g>\n    <g clip-path=\"url(#p224a05b2c5)\">\n     <use xlink:href=\"#C2_0_1b12fb748d\" x=\"139.603502\" y=\"366.772345\" style=\"fill: #feeddc\"/>\n    </g>\n    <g clip-path=\"url(#p224a05b2c5)\">\n     <use xlink:href=\"#C2_0_1b12fb748d\" x=\"139.603502\" y=\"354.891354\" style=\"fill: #fee5cb\"/>\n    </g>\n    <g clip-path=\"url(#p224a05b2c5)\">\n     <use xlink:href=\"#C2_0_1b12fb748d\" x=\"139.603502\" y=\"343.010362\" style=\"fill: #f3701b\"/>\n    </g>\n    <g clip-path=\"url(#p224a05b2c5)\">\n     <use xlink:href=\"#C2_0_1b12fb748d\" x=\"139.603502\" y=\"331.12937\" style=\"fill: #7f2704\"/>\n    </g>\n    <g clip-path=\"url(#p224a05b2c5)\">\n     <use xlink:href=\"#C2_0_1b12fb748d\" x=\"139.603502\" y=\"319.248379\" style=\"fill: #fff5eb\"/>\n    </g>\n    <g clip-path=\"url(#p224a05b2c5)\">\n     <use xlink:href=\"#C2_0_1b12fb748d\" x=\"139.603502\" y=\"307.367387\" style=\"fill: #fff5eb\"/>\n    </g>\n    <g clip-path=\"url(#p224a05b2c5)\">\n     <use xlink:href=\"#C2_0_1b12fb748d\" x=\"139.603502\" y=\"295.486395\" style=\"fill: #fff5eb\"/>\n    </g>\n    <g clip-path=\"url(#p224a05b2c5)\">\n     <use xlink:href=\"#C2_0_1b12fb748d\" x=\"146.454411\" y=\"426.177304\" style=\"fill: #fff5eb\"/>\n    </g>\n    <g clip-path=\"url(#p224a05b2c5)\">\n     <use xlink:href=\"#C2_0_1b12fb748d\" x=\"146.454411\" y=\"414.296312\" style=\"fill: #fff5eb\"/>\n    </g>\n    <g clip-path=\"url(#p224a05b2c5)\">\n     <use xlink:href=\"#C2_0_1b12fb748d\" x=\"146.454411\" y=\"402.415321\" style=\"fill: #fff5eb\"/>\n    </g>\n    <g clip-path=\"url(#p224a05b2c5)\">\n     <use xlink:href=\"#C2_0_1b12fb748d\" x=\"146.454411\" y=\"390.534329\" style=\"fill: #fee5cb\"/>\n    </g>\n    <g clip-path=\"url(#p224a05b2c5)\">\n     <use xlink:href=\"#C2_0_1b12fb748d\" x=\"146.454411\" y=\"378.653337\" style=\"fill: #fee5cb\"/>\n    </g>\n    <g clip-path=\"url(#p224a05b2c5)\">\n     <use xlink:href=\"#C2_0_1b12fb748d\" x=\"146.454411\" y=\"366.772345\" style=\"fill: #fff5eb\"/>\n    </g>\n    <g clip-path=\"url(#p224a05b2c5)\">\n     <use xlink:href=\"#C2_0_1b12fb748d\" x=\"146.454411\" y=\"354.891354\" style=\"fill: #fff5eb\"/>\n    </g>\n    <g clip-path=\"url(#p224a05b2c5)\">\n     <use xlink:href=\"#C2_0_1b12fb748d\" x=\"146.454411\" y=\"343.010362\" style=\"fill: #fff5eb\"/>\n    </g>\n    <g clip-path=\"url(#p224a05b2c5)\">\n     <use xlink:href=\"#C2_0_1b12fb748d\" x=\"146.454411\" y=\"331.12937\" style=\"fill: #fff5eb\"/>\n    </g>\n    <g clip-path=\"url(#p224a05b2c5)\">\n     <use xlink:href=\"#C2_0_1b12fb748d\" x=\"146.454411\" y=\"319.248379\" style=\"fill: #fff5eb\"/>\n    </g>\n    <g clip-path=\"url(#p224a05b2c5)\">\n     <use xlink:href=\"#C2_0_1b12fb748d\" x=\"146.454411\" y=\"307.367387\" style=\"fill: #fff5eb\"/>\n    </g>\n    <g clip-path=\"url(#p224a05b2c5)\">\n     <use xlink:href=\"#C2_0_1b12fb748d\" x=\"146.454411\" y=\"295.486395\" style=\"fill: #fff5eb\"/>\n    </g>\n    <g clip-path=\"url(#p224a05b2c5)\">\n     <use xlink:href=\"#C2_0_1b12fb748d\" x=\"153.30532\" y=\"426.177304\" style=\"fill: #fff5eb\"/>\n    </g>\n    <g clip-path=\"url(#p224a05b2c5)\">\n     <use xlink:href=\"#C2_0_1b12fb748d\" x=\"153.30532\" y=\"414.296312\" style=\"fill: #fff5eb\"/>\n    </g>\n    <g clip-path=\"url(#p224a05b2c5)\">\n     <use xlink:href=\"#C2_0_1b12fb748d\" x=\"153.30532\" y=\"402.415321\" style=\"fill: #fff5eb\"/>\n    </g>\n    <g clip-path=\"url(#p224a05b2c5)\">\n     <use xlink:href=\"#C2_0_1b12fb748d\" x=\"153.30532\" y=\"390.534329\" style=\"fill: #fee5cb\"/>\n    </g>\n    <g clip-path=\"url(#p224a05b2c5)\">\n     <use xlink:href=\"#C2_0_1b12fb748d\" x=\"153.30532\" y=\"378.653337\" style=\"fill: #fff5eb\"/>\n    </g>\n    <g clip-path=\"url(#p224a05b2c5)\">\n     <use xlink:href=\"#C2_0_1b12fb748d\" x=\"153.30532\" y=\"366.772345\" style=\"fill: #fff5eb\"/>\n    </g>\n    <g clip-path=\"url(#p224a05b2c5)\">\n     <use xlink:href=\"#C2_0_1b12fb748d\" x=\"153.30532\" y=\"354.891354\" style=\"fill: #fff5eb\"/>\n    </g>\n    <g clip-path=\"url(#p224a05b2c5)\">\n     <use xlink:href=\"#C2_0_1b12fb748d\" x=\"153.30532\" y=\"343.010362\" style=\"fill: #fff5eb\"/>\n    </g>\n    <g clip-path=\"url(#p224a05b2c5)\">\n     <use xlink:href=\"#C2_0_1b12fb748d\" x=\"153.30532\" y=\"331.12937\" style=\"fill: #fff5eb\"/>\n    </g>\n    <g clip-path=\"url(#p224a05b2c5)\">\n     <use xlink:href=\"#C2_0_1b12fb748d\" x=\"153.30532\" y=\"319.248379\" style=\"fill: #fff5eb\"/>\n    </g>\n    <g clip-path=\"url(#p224a05b2c5)\">\n     <use xlink:href=\"#C2_0_1b12fb748d\" x=\"153.30532\" y=\"307.367387\" style=\"fill: #fff5eb\"/>\n    </g>\n    <g clip-path=\"url(#p224a05b2c5)\">\n     <use xlink:href=\"#C2_0_1b12fb748d\" x=\"153.30532\" y=\"295.486395\" style=\"fill: #fff5eb\"/>\n    </g>\n    <g clip-path=\"url(#p224a05b2c5)\">\n     <use xlink:href=\"#C2_0_1b12fb748d\" x=\"19.712592\" y=\"420.236808\" style=\"fill: #fff5eb\"/>\n    </g>\n    <g clip-path=\"url(#p224a05b2c5)\">\n     <use xlink:href=\"#C2_0_1b12fb748d\" x=\"19.712592\" y=\"408.355817\" style=\"fill: #f3701b\"/>\n    </g>\n    <g clip-path=\"url(#p224a05b2c5)\">\n     <use xlink:href=\"#C2_0_1b12fb748d\" x=\"19.712592\" y=\"396.474825\" style=\"fill: #fff5eb\"/>\n    </g>\n    <g clip-path=\"url(#p224a05b2c5)\">\n     <use xlink:href=\"#C2_0_1b12fb748d\" x=\"19.712592\" y=\"384.593833\" style=\"fill: #fff5eb\"/>\n    </g>\n    <g clip-path=\"url(#p224a05b2c5)\">\n     <use xlink:href=\"#C2_0_1b12fb748d\" x=\"19.712592\" y=\"372.712841\" style=\"fill: #fa8331\"/>\n    </g>\n    <g clip-path=\"url(#p224a05b2c5)\">\n     <use xlink:href=\"#C2_0_1b12fb748d\" x=\"19.712592\" y=\"360.83185\" style=\"fill: #f3701b\"/>\n    </g>\n    <g clip-path=\"url(#p224a05b2c5)\">\n     <use xlink:href=\"#C2_0_1b12fb748d\" x=\"19.712592\" y=\"348.950858\" style=\"fill: #fee5cb\"/>\n    </g>\n    <g clip-path=\"url(#p224a05b2c5)\">\n     <use xlink:href=\"#C2_0_1b12fb748d\" x=\"19.712592\" y=\"337.069866\" style=\"fill: #7f2704\"/>\n    </g>\n    <g clip-path=\"url(#p224a05b2c5)\">\n     <use xlink:href=\"#C2_0_1b12fb748d\" x=\"19.712592\" y=\"325.188874\" style=\"fill: #fff5eb\"/>\n    </g>\n    <g clip-path=\"url(#p224a05b2c5)\">\n     <use xlink:href=\"#C2_0_1b12fb748d\" x=\"19.712592\" y=\"313.307883\" style=\"fill: #fff5eb\"/>\n    </g>\n    <g clip-path=\"url(#p224a05b2c5)\">\n     <use xlink:href=\"#C2_0_1b12fb748d\" x=\"19.712592\" y=\"301.426891\" style=\"fill: #fff5eb\"/>\n    </g>\n    <g clip-path=\"url(#p224a05b2c5)\">\n     <use xlink:href=\"#C2_0_1b12fb748d\" x=\"26.563502\" y=\"420.236808\" style=\"fill: #fff5eb\"/>\n    </g>\n    <g clip-path=\"url(#p224a05b2c5)\">\n     <use xlink:href=\"#C2_0_1b12fb748d\" x=\"26.563502\" y=\"408.355817\" style=\"fill: #feeddc\"/>\n    </g>\n    <g clip-path=\"url(#p224a05b2c5)\">\n     <use xlink:href=\"#C2_0_1b12fb748d\" x=\"26.563502\" y=\"396.474825\" style=\"fill: #fff5eb\"/>\n    </g>\n    <g clip-path=\"url(#p224a05b2c5)\">\n     <use xlink:href=\"#C2_0_1b12fb748d\" x=\"26.563502\" y=\"384.593833\" style=\"fill: #fee5cb\"/>\n    </g>\n    <g clip-path=\"url(#p224a05b2c5)\">\n     <use xlink:href=\"#C2_0_1b12fb748d\" x=\"26.563502\" y=\"372.712841\" style=\"fill: #f3701b\"/>\n    </g>\n    <g clip-path=\"url(#p224a05b2c5)\">\n     <use xlink:href=\"#C2_0_1b12fb748d\" x=\"26.563502\" y=\"360.83185\" style=\"fill: #f3701b\"/>\n    </g>\n    <g clip-path=\"url(#p224a05b2c5)\">\n     <use xlink:href=\"#C2_0_1b12fb748d\" x=\"26.563502\" y=\"348.950858\" style=\"fill: #f3701b\"/>\n    </g>\n    <g clip-path=\"url(#p224a05b2c5)\">\n     <use xlink:href=\"#C2_0_1b12fb748d\" x=\"26.563502\" y=\"337.069866\" style=\"fill: #feeddc\"/>\n    </g>\n    <g clip-path=\"url(#p224a05b2c5)\">\n     <use xlink:href=\"#C2_0_1b12fb748d\" x=\"26.563502\" y=\"325.188874\" style=\"fill: #fff5eb\"/>\n    </g>\n    <g clip-path=\"url(#p224a05b2c5)\">\n     <use xlink:href=\"#C2_0_1b12fb748d\" x=\"26.563502\" y=\"313.307883\" style=\"fill: #fff5eb\"/>\n    </g>\n    <g clip-path=\"url(#p224a05b2c5)\">\n     <use xlink:href=\"#C2_0_1b12fb748d\" x=\"26.563502\" y=\"301.426891\" style=\"fill: #fff5eb\"/>\n    </g>\n    <g clip-path=\"url(#p224a05b2c5)\">\n     <use xlink:href=\"#C2_0_1b12fb748d\" x=\"33.414411\" y=\"420.236808\" style=\"fill: #fff5eb\"/>\n    </g>\n    <g clip-path=\"url(#p224a05b2c5)\">\n     <use xlink:href=\"#C2_0_1b12fb748d\" x=\"33.414411\" y=\"408.355817\" style=\"fill: #fff5eb\"/>\n    </g>\n    <g clip-path=\"url(#p224a05b2c5)\">\n     <use xlink:href=\"#C2_0_1b12fb748d\" x=\"33.414411\" y=\"396.474825\" style=\"fill: #fff5eb\"/>\n    </g>\n    <g clip-path=\"url(#p224a05b2c5)\">\n     <use xlink:href=\"#C2_0_1b12fb748d\" x=\"33.414411\" y=\"384.593833\" style=\"fill: #fdcb9b\"/>\n    </g>\n    <g clip-path=\"url(#p224a05b2c5)\">\n     <use xlink:href=\"#C2_0_1b12fb748d\" x=\"33.414411\" y=\"372.712841\" style=\"fill: #fda762\"/>\n    </g>\n    <g clip-path=\"url(#p224a05b2c5)\">\n     <use xlink:href=\"#C2_0_1b12fb748d\" x=\"33.414411\" y=\"360.83185\" style=\"fill: #fd9649\"/>\n    </g>\n    <g clip-path=\"url(#p224a05b2c5)\">\n     <use xlink:href=\"#C2_0_1b12fb748d\" x=\"33.414411\" y=\"348.950858\" style=\"fill: #e95e0d\"/>\n    </g>\n    <g clip-path=\"url(#p224a05b2c5)\">\n     <use xlink:href=\"#C2_0_1b12fb748d\" x=\"33.414411\" y=\"337.069866\" style=\"fill: #fee5cb\"/>\n    </g>\n    <g clip-path=\"url(#p224a05b2c5)\">\n     <use xlink:href=\"#C2_0_1b12fb748d\" x=\"33.414411\" y=\"325.188874\" style=\"fill: #fff5eb\"/>\n    </g>\n    <g clip-path=\"url(#p224a05b2c5)\">\n     <use xlink:href=\"#C2_0_1b12fb748d\" x=\"33.414411\" y=\"313.307883\" style=\"fill: #fff5eb\"/>\n    </g>\n    <g clip-path=\"url(#p224a05b2c5)\">\n     <use xlink:href=\"#C2_0_1b12fb748d\" x=\"33.414411\" y=\"301.426891\" style=\"fill: #fff5eb\"/>\n    </g>\n    <g clip-path=\"url(#p224a05b2c5)\">\n     <use xlink:href=\"#C2_0_1b12fb748d\" x=\"40.26532\" y=\"420.236808\" style=\"fill: #fff5eb\"/>\n    </g>\n    <g clip-path=\"url(#p224a05b2c5)\">\n     <use xlink:href=\"#C2_0_1b12fb748d\" x=\"40.26532\" y=\"408.355817\" style=\"fill: #fff5eb\"/>\n    </g>\n    <g clip-path=\"url(#p224a05b2c5)\">\n     <use xlink:href=\"#C2_0_1b12fb748d\" x=\"40.26532\" y=\"396.474825\" style=\"fill: #fdcb9b\"/>\n    </g>\n    <g clip-path=\"url(#p224a05b2c5)\">\n     <use xlink:href=\"#C2_0_1b12fb748d\" x=\"40.26532\" y=\"384.593833\" style=\"fill: #fff5eb\"/>\n    </g>\n    <g clip-path=\"url(#p224a05b2c5)\">\n     <use xlink:href=\"#C2_0_1b12fb748d\" x=\"40.26532\" y=\"372.712841\" style=\"fill: #fda762\"/>\n    </g>\n    <g clip-path=\"url(#p224a05b2c5)\">\n     <use xlink:href=\"#C2_0_1b12fb748d\" x=\"40.26532\" y=\"360.83185\" style=\"fill: #fdd9b4\"/>\n    </g>\n    <g clip-path=\"url(#p224a05b2c5)\">\n     <use xlink:href=\"#C2_0_1b12fb748d\" x=\"40.26532\" y=\"348.950858\" style=\"fill: #fee5cb\"/>\n    </g>\n    <g clip-path=\"url(#p224a05b2c5)\">\n     <use xlink:href=\"#C2_0_1b12fb748d\" x=\"40.26532\" y=\"337.069866\" style=\"fill: #fdcb9b\"/>\n    </g>\n    <g clip-path=\"url(#p224a05b2c5)\">\n     <use xlink:href=\"#C2_0_1b12fb748d\" x=\"40.26532\" y=\"325.188874\" style=\"fill: #feeddc\"/>\n    </g>\n    <g clip-path=\"url(#p224a05b2c5)\">\n     <use xlink:href=\"#C2_0_1b12fb748d\" x=\"40.26532\" y=\"313.307883\" style=\"fill: #fff5eb\"/>\n    </g>\n    <g clip-path=\"url(#p224a05b2c5)\">\n     <use xlink:href=\"#C2_0_1b12fb748d\" x=\"40.26532\" y=\"301.426891\" style=\"fill: #fee5cb\"/>\n    </g>\n    <g clip-path=\"url(#p224a05b2c5)\">\n     <use xlink:href=\"#C2_0_1b12fb748d\" x=\"47.116229\" y=\"420.236808\" style=\"fill: #fff5eb\"/>\n    </g>\n    <g clip-path=\"url(#p224a05b2c5)\">\n     <use xlink:href=\"#C2_0_1b12fb748d\" x=\"47.116229\" y=\"408.355817\" style=\"fill: #fff5eb\"/>\n    </g>\n    <g clip-path=\"url(#p224a05b2c5)\">\n     <use xlink:href=\"#C2_0_1b12fb748d\" x=\"47.116229\" y=\"396.474825\" style=\"fill: #fff5eb\"/>\n    </g>\n    <g clip-path=\"url(#p224a05b2c5)\">\n     <use xlink:href=\"#C2_0_1b12fb748d\" x=\"47.116229\" y=\"384.593833\" style=\"fill: #fda762\"/>\n    </g>\n    <g clip-path=\"url(#p224a05b2c5)\">\n     <use xlink:href=\"#C2_0_1b12fb748d\" x=\"47.116229\" y=\"372.712841\" style=\"fill: #fdd9b4\"/>\n    </g>\n    <g clip-path=\"url(#p224a05b2c5)\">\n     <use xlink:href=\"#C2_0_1b12fb748d\" x=\"47.116229\" y=\"360.83185\" style=\"fill: #feeddc\"/>\n    </g>\n    <g clip-path=\"url(#p224a05b2c5)\">\n     <use xlink:href=\"#C2_0_1b12fb748d\" x=\"47.116229\" y=\"348.950858\" style=\"fill: #fdb97d\"/>\n    </g>\n    <g clip-path=\"url(#p224a05b2c5)\">\n     <use xlink:href=\"#C2_0_1b12fb748d\" x=\"47.116229\" y=\"337.069866\" style=\"fill: #fff5eb\"/>\n    </g>\n    <g clip-path=\"url(#p224a05b2c5)\">\n     <use xlink:href=\"#C2_0_1b12fb748d\" x=\"47.116229\" y=\"325.188874\" style=\"fill: #fee5cb\"/>\n    </g>\n    <g clip-path=\"url(#p224a05b2c5)\">\n     <use xlink:href=\"#C2_0_1b12fb748d\" x=\"47.116229\" y=\"313.307883\" style=\"fill: #feeddc\"/>\n    </g>\n    <g clip-path=\"url(#p224a05b2c5)\">\n     <use xlink:href=\"#C2_0_1b12fb748d\" x=\"47.116229\" y=\"301.426891\" style=\"fill: #fdcb9b\"/>\n    </g>\n    <g clip-path=\"url(#p224a05b2c5)\">\n     <use xlink:href=\"#C2_0_1b12fb748d\" x=\"53.967138\" y=\"420.236808\" style=\"fill: #fee5cb\"/>\n    </g>\n    <g clip-path=\"url(#p224a05b2c5)\">\n     <use xlink:href=\"#C2_0_1b12fb748d\" x=\"53.967138\" y=\"408.355817\" style=\"fill: #fff5eb\"/>\n    </g>\n    <g clip-path=\"url(#p224a05b2c5)\">\n     <use xlink:href=\"#C2_0_1b12fb748d\" x=\"53.967138\" y=\"396.474825\" style=\"fill: #fee5cb\"/>\n    </g>\n    <g clip-path=\"url(#p224a05b2c5)\">\n     <use xlink:href=\"#C2_0_1b12fb748d\" x=\"53.967138\" y=\"384.593833\" style=\"fill: #fdd9b4\"/>\n    </g>\n    <g clip-path=\"url(#p224a05b2c5)\">\n     <use xlink:href=\"#C2_0_1b12fb748d\" x=\"53.967138\" y=\"372.712841\" style=\"fill: #c54102\"/>\n    </g>\n    <g clip-path=\"url(#p224a05b2c5)\">\n     <use xlink:href=\"#C2_0_1b12fb748d\" x=\"53.967138\" y=\"360.83185\" style=\"fill: #fd9649\"/>\n    </g>\n    <g clip-path=\"url(#p224a05b2c5)\">\n     <use xlink:href=\"#C2_0_1b12fb748d\" x=\"53.967138\" y=\"348.950858\" style=\"fill: #fdd9b4\"/>\n    </g>\n    <g clip-path=\"url(#p224a05b2c5)\">\n     <use xlink:href=\"#C2_0_1b12fb748d\" x=\"53.967138\" y=\"337.069866\" style=\"fill: #fff5eb\"/>\n    </g>\n    <g clip-path=\"url(#p224a05b2c5)\">\n     <use xlink:href=\"#C2_0_1b12fb748d\" x=\"53.967138\" y=\"325.188874\" style=\"fill: #fdcb9b\"/>\n    </g>\n    <g clip-path=\"url(#p224a05b2c5)\">\n     <use xlink:href=\"#C2_0_1b12fb748d\" x=\"53.967138\" y=\"313.307883\" style=\"fill: #fdd9b4\"/>\n    </g>\n    <g clip-path=\"url(#p224a05b2c5)\">\n     <use xlink:href=\"#C2_0_1b12fb748d\" x=\"53.967138\" y=\"301.426891\" style=\"fill: #fff5eb\"/>\n    </g>\n    <g clip-path=\"url(#p224a05b2c5)\">\n     <use xlink:href=\"#C2_0_1b12fb748d\" x=\"60.818047\" y=\"420.236808\" style=\"fill: #fff5eb\"/>\n    </g>\n    <g clip-path=\"url(#p224a05b2c5)\">\n     <use xlink:href=\"#C2_0_1b12fb748d\" x=\"60.818047\" y=\"408.355817\" style=\"fill: #feeddc\"/>\n    </g>\n    <g clip-path=\"url(#p224a05b2c5)\">\n     <use xlink:href=\"#C2_0_1b12fb748d\" x=\"60.818047\" y=\"396.474825\" style=\"fill: #fee5cb\"/>\n    </g>\n    <g clip-path=\"url(#p224a05b2c5)\">\n     <use xlink:href=\"#C2_0_1b12fb748d\" x=\"60.818047\" y=\"384.593833\" style=\"fill: #fa8331\"/>\n    </g>\n    <g clip-path=\"url(#p224a05b2c5)\">\n     <use xlink:href=\"#C2_0_1b12fb748d\" x=\"60.818047\" y=\"372.712841\" style=\"fill: #fdb97d\"/>\n    </g>\n    <g clip-path=\"url(#p224a05b2c5)\">\n     <use xlink:href=\"#C2_0_1b12fb748d\" x=\"60.818047\" y=\"360.83185\" style=\"fill: #fd9649\"/>\n    </g>\n    <g clip-path=\"url(#p224a05b2c5)\">\n     <use xlink:href=\"#C2_0_1b12fb748d\" x=\"60.818047\" y=\"348.950858\" style=\"fill: #fdb97d\"/>\n    </g>\n    <g clip-path=\"url(#p224a05b2c5)\">\n     <use xlink:href=\"#C2_0_1b12fb748d\" x=\"60.818047\" y=\"337.069866\" style=\"fill: #fee5cb\"/>\n    </g>\n    <g clip-path=\"url(#p224a05b2c5)\">\n     <use xlink:href=\"#C2_0_1b12fb748d\" x=\"60.818047\" y=\"325.188874\" style=\"fill: #fa8331\"/>\n    </g>\n    <g clip-path=\"url(#p224a05b2c5)\">\n     <use xlink:href=\"#C2_0_1b12fb748d\" x=\"60.818047\" y=\"313.307883\" style=\"fill: #fff5eb\"/>\n    </g>\n    <g clip-path=\"url(#p224a05b2c5)\">\n     <use xlink:href=\"#C2_0_1b12fb748d\" x=\"60.818047\" y=\"301.426891\" style=\"fill: #fff5eb\"/>\n    </g>\n    <g clip-path=\"url(#p224a05b2c5)\">\n     <use xlink:href=\"#C2_0_1b12fb748d\" x=\"67.668956\" y=\"420.236808\" style=\"fill: #fff5eb\"/>\n    </g>\n    <g clip-path=\"url(#p224a05b2c5)\">\n     <use xlink:href=\"#C2_0_1b12fb748d\" x=\"67.668956\" y=\"408.355817\" style=\"fill: #fdd9b4\"/>\n    </g>\n    <g clip-path=\"url(#p224a05b2c5)\">\n     <use xlink:href=\"#C2_0_1b12fb748d\" x=\"67.668956\" y=\"396.474825\" style=\"fill: #fdcb9b\"/>\n    </g>\n    <g clip-path=\"url(#p224a05b2c5)\">\n     <use xlink:href=\"#C2_0_1b12fb748d\" x=\"67.668956\" y=\"384.593833\" style=\"fill: #fdb97d\"/>\n    </g>\n    <g clip-path=\"url(#p224a05b2c5)\">\n     <use xlink:href=\"#C2_0_1b12fb748d\" x=\"67.668956\" y=\"372.712841\" style=\"fill: #fda762\"/>\n    </g>\n    <g clip-path=\"url(#p224a05b2c5)\">\n     <use xlink:href=\"#C2_0_1b12fb748d\" x=\"67.668956\" y=\"360.83185\" style=\"fill: #fda762\"/>\n    </g>\n    <g clip-path=\"url(#p224a05b2c5)\">\n     <use xlink:href=\"#C2_0_1b12fb748d\" x=\"67.668956\" y=\"348.950858\" style=\"fill: #fdb97d\"/>\n    </g>\n    <g clip-path=\"url(#p224a05b2c5)\">\n     <use xlink:href=\"#C2_0_1b12fb748d\" x=\"67.668956\" y=\"337.069866\" style=\"fill: #fda762\"/>\n    </g>\n    <g clip-path=\"url(#p224a05b2c5)\">\n     <use xlink:href=\"#C2_0_1b12fb748d\" x=\"67.668956\" y=\"325.188874\" style=\"fill: #fdcb9b\"/>\n    </g>\n    <g clip-path=\"url(#p224a05b2c5)\">\n     <use xlink:href=\"#C2_0_1b12fb748d\" x=\"67.668956\" y=\"313.307883\" style=\"fill: #fff5eb\"/>\n    </g>\n    <g clip-path=\"url(#p224a05b2c5)\">\n     <use xlink:href=\"#C2_0_1b12fb748d\" x=\"67.668956\" y=\"301.426891\" style=\"fill: #fff5eb\"/>\n    </g>\n    <g clip-path=\"url(#p224a05b2c5)\">\n     <use xlink:href=\"#C2_0_1b12fb748d\" x=\"74.519865\" y=\"420.236808\" style=\"fill: #fff5eb\"/>\n    </g>\n    <g clip-path=\"url(#p224a05b2c5)\">\n     <use xlink:href=\"#C2_0_1b12fb748d\" x=\"74.519865\" y=\"408.355817\" style=\"fill: #fd9649\"/>\n    </g>\n    <g clip-path=\"url(#p224a05b2c5)\">\n     <use xlink:href=\"#C2_0_1b12fb748d\" x=\"74.519865\" y=\"396.474825\" style=\"fill: #fdb97d\"/>\n    </g>\n    <g clip-path=\"url(#p224a05b2c5)\">\n     <use xlink:href=\"#C2_0_1b12fb748d\" x=\"74.519865\" y=\"384.593833\" style=\"fill: #fd9649\"/>\n    </g>\n    <g clip-path=\"url(#p224a05b2c5)\">\n     <use xlink:href=\"#C2_0_1b12fb748d\" x=\"74.519865\" y=\"372.712841\" style=\"fill: #fda762\"/>\n    </g>\n    <g clip-path=\"url(#p224a05b2c5)\">\n     <use xlink:href=\"#C2_0_1b12fb748d\" x=\"74.519865\" y=\"360.83185\" style=\"fill: #fda762\"/>\n    </g>\n    <g clip-path=\"url(#p224a05b2c5)\">\n     <use xlink:href=\"#C2_0_1b12fb748d\" x=\"74.519865\" y=\"348.950858\" style=\"fill: #fdd9b4\"/>\n    </g>\n    <g clip-path=\"url(#p224a05b2c5)\">\n     <use xlink:href=\"#C2_0_1b12fb748d\" x=\"74.519865\" y=\"337.069866\" style=\"fill: #fee5cb\"/>\n    </g>\n    <g clip-path=\"url(#p224a05b2c5)\">\n     <use xlink:href=\"#C2_0_1b12fb748d\" x=\"74.519865\" y=\"325.188874\" style=\"fill: #feeddc\"/>\n    </g>\n    <g clip-path=\"url(#p224a05b2c5)\">\n     <use xlink:href=\"#C2_0_1b12fb748d\" x=\"74.519865\" y=\"313.307883\" style=\"fill: #fff5eb\"/>\n    </g>\n    <g clip-path=\"url(#p224a05b2c5)\">\n     <use xlink:href=\"#C2_0_1b12fb748d\" x=\"74.519865\" y=\"301.426891\" style=\"fill: #fff5eb\"/>\n    </g>\n    <g clip-path=\"url(#p224a05b2c5)\">\n     <use xlink:href=\"#C2_0_1b12fb748d\" x=\"81.370774\" y=\"420.236808\" style=\"fill: #fff5eb\"/>\n    </g>\n    <g clip-path=\"url(#p224a05b2c5)\">\n     <use xlink:href=\"#C2_0_1b12fb748d\" x=\"81.370774\" y=\"408.355817\" style=\"fill: #fdcb9b\"/>\n    </g>\n    <g clip-path=\"url(#p224a05b2c5)\">\n     <use xlink:href=\"#C2_0_1b12fb748d\" x=\"81.370774\" y=\"396.474825\" style=\"fill: #fdcb9b\"/>\n    </g>\n    <g clip-path=\"url(#p224a05b2c5)\">\n     <use xlink:href=\"#C2_0_1b12fb748d\" x=\"81.370774\" y=\"384.593833\" style=\"fill: #fdb97d\"/>\n    </g>\n    <g clip-path=\"url(#p224a05b2c5)\">\n     <use xlink:href=\"#C2_0_1b12fb748d\" x=\"81.370774\" y=\"372.712841\" style=\"fill: #7f2704\"/>\n    </g>\n    <g clip-path=\"url(#p224a05b2c5)\">\n     <use xlink:href=\"#C2_0_1b12fb748d\" x=\"81.370774\" y=\"360.83185\" style=\"fill: #fdb97d\"/>\n    </g>\n    <g clip-path=\"url(#p224a05b2c5)\">\n     <use xlink:href=\"#C2_0_1b12fb748d\" x=\"81.370774\" y=\"348.950858\" style=\"fill: #fdd9b4\"/>\n    </g>\n    <g clip-path=\"url(#p224a05b2c5)\">\n     <use xlink:href=\"#C2_0_1b12fb748d\" x=\"81.370774\" y=\"337.069866\" style=\"fill: #fdcb9b\"/>\n    </g>\n    <g clip-path=\"url(#p224a05b2c5)\">\n     <use xlink:href=\"#C2_0_1b12fb748d\" x=\"81.370774\" y=\"325.188874\" style=\"fill: #fdcb9b\"/>\n    </g>\n    <g clip-path=\"url(#p224a05b2c5)\">\n     <use xlink:href=\"#C2_0_1b12fb748d\" x=\"81.370774\" y=\"313.307883\" style=\"fill: #feeddc\"/>\n    </g>\n    <g clip-path=\"url(#p224a05b2c5)\">\n     <use xlink:href=\"#C2_0_1b12fb748d\" x=\"81.370774\" y=\"301.426891\" style=\"fill: #fff5eb\"/>\n    </g>\n    <g clip-path=\"url(#p224a05b2c5)\">\n     <use xlink:href=\"#C2_0_1b12fb748d\" x=\"88.221683\" y=\"420.236808\" style=\"fill: #fdcb9b\"/>\n    </g>\n    <g clip-path=\"url(#p224a05b2c5)\">\n     <use xlink:href=\"#C2_0_1b12fb748d\" x=\"88.221683\" y=\"408.355817\" style=\"fill: #fdb97d\"/>\n    </g>\n    <g clip-path=\"url(#p224a05b2c5)\">\n     <use xlink:href=\"#C2_0_1b12fb748d\" x=\"88.221683\" y=\"396.474825\" style=\"fill: #fdb97d\"/>\n    </g>\n    <g clip-path=\"url(#p224a05b2c5)\">\n     <use xlink:href=\"#C2_0_1b12fb748d\" x=\"88.221683\" y=\"384.593833\" style=\"fill: #fda762\"/>\n    </g>\n    <g clip-path=\"url(#p224a05b2c5)\">\n     <use xlink:href=\"#C2_0_1b12fb748d\" x=\"88.221683\" y=\"372.712841\" style=\"fill: #fd9649\"/>\n    </g>\n    <g clip-path=\"url(#p224a05b2c5)\">\n     <use xlink:href=\"#C2_0_1b12fb748d\" x=\"88.221683\" y=\"360.83185\" style=\"fill: #fda762\"/>\n    </g>\n    <g clip-path=\"url(#p224a05b2c5)\">\n     <use xlink:href=\"#C2_0_1b12fb748d\" x=\"88.221683\" y=\"348.950858\" style=\"fill: #fee5cb\"/>\n    </g>\n    <g clip-path=\"url(#p224a05b2c5)\">\n     <use xlink:href=\"#C2_0_1b12fb748d\" x=\"88.221683\" y=\"337.069866\" style=\"fill: #fdcb9b\"/>\n    </g>\n    <g clip-path=\"url(#p224a05b2c5)\">\n     <use xlink:href=\"#C2_0_1b12fb748d\" x=\"88.221683\" y=\"325.188874\" style=\"fill: #fff5eb\"/>\n    </g>\n    <g clip-path=\"url(#p224a05b2c5)\">\n     <use xlink:href=\"#C2_0_1b12fb748d\" x=\"88.221683\" y=\"313.307883\" style=\"fill: #feeddc\"/>\n    </g>\n    <g clip-path=\"url(#p224a05b2c5)\">\n     <use xlink:href=\"#C2_0_1b12fb748d\" x=\"88.221683\" y=\"301.426891\" style=\"fill: #fff5eb\"/>\n    </g>\n    <g clip-path=\"url(#p224a05b2c5)\">\n     <use xlink:href=\"#C2_0_1b12fb748d\" x=\"95.072592\" y=\"420.236808\" style=\"fill: #fee5cb\"/>\n    </g>\n    <g clip-path=\"url(#p224a05b2c5)\">\n     <use xlink:href=\"#C2_0_1b12fb748d\" x=\"95.072592\" y=\"408.355817\" style=\"fill: #fdb97d\"/>\n    </g>\n    <g clip-path=\"url(#p224a05b2c5)\">\n     <use xlink:href=\"#C2_0_1b12fb748d\" x=\"95.072592\" y=\"396.474825\" style=\"fill: #fda762\"/>\n    </g>\n    <g clip-path=\"url(#p224a05b2c5)\">\n     <use xlink:href=\"#C2_0_1b12fb748d\" x=\"95.072592\" y=\"384.593833\" style=\"fill: #fd9649\"/>\n    </g>\n    <g clip-path=\"url(#p224a05b2c5)\">\n     <use xlink:href=\"#C2_0_1b12fb748d\" x=\"95.072592\" y=\"372.712841\" style=\"fill: #fa8331\"/>\n    </g>\n    <g clip-path=\"url(#p224a05b2c5)\">\n     <use xlink:href=\"#C2_0_1b12fb748d\" x=\"95.072592\" y=\"360.83185\" style=\"fill: #fdcb9b\"/>\n    </g>\n    <g clip-path=\"url(#p224a05b2c5)\">\n     <use xlink:href=\"#C2_0_1b12fb748d\" x=\"95.072592\" y=\"348.950858\" style=\"fill: #fda762\"/>\n    </g>\n    <g clip-path=\"url(#p224a05b2c5)\">\n     <use xlink:href=\"#C2_0_1b12fb748d\" x=\"95.072592\" y=\"337.069866\" style=\"fill: #fdcb9b\"/>\n    </g>\n    <g clip-path=\"url(#p224a05b2c5)\">\n     <use xlink:href=\"#C2_0_1b12fb748d\" x=\"95.072592\" y=\"325.188874\" style=\"fill: #fff5eb\"/>\n    </g>\n    <g clip-path=\"url(#p224a05b2c5)\">\n     <use xlink:href=\"#C2_0_1b12fb748d\" x=\"95.072592\" y=\"313.307883\" style=\"fill: #fff5eb\"/>\n    </g>\n    <g clip-path=\"url(#p224a05b2c5)\">\n     <use xlink:href=\"#C2_0_1b12fb748d\" x=\"95.072592\" y=\"301.426891\" style=\"fill: #fff5eb\"/>\n    </g>\n    <g clip-path=\"url(#p224a05b2c5)\">\n     <use xlink:href=\"#C2_0_1b12fb748d\" x=\"101.923502\" y=\"420.236808\" style=\"fill: #fff5eb\"/>\n    </g>\n    <g clip-path=\"url(#p224a05b2c5)\">\n     <use xlink:href=\"#C2_0_1b12fb748d\" x=\"101.923502\" y=\"408.355817\" style=\"fill: #fdcb9b\"/>\n    </g>\n    <g clip-path=\"url(#p224a05b2c5)\">\n     <use xlink:href=\"#C2_0_1b12fb748d\" x=\"101.923502\" y=\"396.474825\" style=\"fill: #fee5cb\"/>\n    </g>\n    <g clip-path=\"url(#p224a05b2c5)\">\n     <use xlink:href=\"#C2_0_1b12fb748d\" x=\"101.923502\" y=\"384.593833\" style=\"fill: #fdd9b4\"/>\n    </g>\n    <g clip-path=\"url(#p224a05b2c5)\">\n     <use xlink:href=\"#C2_0_1b12fb748d\" x=\"101.923502\" y=\"372.712841\" style=\"fill: #fda762\"/>\n    </g>\n    <g clip-path=\"url(#p224a05b2c5)\">\n     <use xlink:href=\"#C2_0_1b12fb748d\" x=\"101.923502\" y=\"360.83185\" style=\"fill: #fd9649\"/>\n    </g>\n    <g clip-path=\"url(#p224a05b2c5)\">\n     <use xlink:href=\"#C2_0_1b12fb748d\" x=\"101.923502\" y=\"348.950858\" style=\"fill: #fdcb9b\"/>\n    </g>\n    <g clip-path=\"url(#p224a05b2c5)\">\n     <use xlink:href=\"#C2_0_1b12fb748d\" x=\"101.923502\" y=\"337.069866\" style=\"fill: #fdd9b4\"/>\n    </g>\n    <g clip-path=\"url(#p224a05b2c5)\">\n     <use xlink:href=\"#C2_0_1b12fb748d\" x=\"101.923502\" y=\"325.188874\" style=\"fill: #feeddc\"/>\n    </g>\n    <g clip-path=\"url(#p224a05b2c5)\">\n     <use xlink:href=\"#C2_0_1b12fb748d\" x=\"101.923502\" y=\"313.307883\" style=\"fill: #fff5eb\"/>\n    </g>\n    <g clip-path=\"url(#p224a05b2c5)\">\n     <use xlink:href=\"#C2_0_1b12fb748d\" x=\"101.923502\" y=\"301.426891\" style=\"fill: #fff5eb\"/>\n    </g>\n    <g clip-path=\"url(#p224a05b2c5)\">\n     <use xlink:href=\"#C2_0_1b12fb748d\" x=\"108.774411\" y=\"420.236808\" style=\"fill: #fff5eb\"/>\n    </g>\n    <g clip-path=\"url(#p224a05b2c5)\">\n     <use xlink:href=\"#C2_0_1b12fb748d\" x=\"108.774411\" y=\"408.355817\" style=\"fill: #fee5cb\"/>\n    </g>\n    <g clip-path=\"url(#p224a05b2c5)\">\n     <use xlink:href=\"#C2_0_1b12fb748d\" x=\"108.774411\" y=\"396.474825\" style=\"fill: #fdd9b4\"/>\n    </g>\n    <g clip-path=\"url(#p224a05b2c5)\">\n     <use xlink:href=\"#C2_0_1b12fb748d\" x=\"108.774411\" y=\"384.593833\" style=\"fill: #fd9649\"/>\n    </g>\n    <g clip-path=\"url(#p224a05b2c5)\">\n     <use xlink:href=\"#C2_0_1b12fb748d\" x=\"108.774411\" y=\"372.712841\" style=\"fill: #fee5cb\"/>\n    </g>\n    <g clip-path=\"url(#p224a05b2c5)\">\n     <use xlink:href=\"#C2_0_1b12fb748d\" x=\"108.774411\" y=\"360.83185\" style=\"fill: #fdd9b4\"/>\n    </g>\n    <g clip-path=\"url(#p224a05b2c5)\">\n     <use xlink:href=\"#C2_0_1b12fb748d\" x=\"108.774411\" y=\"348.950858\" style=\"fill: #fda762\"/>\n    </g>\n    <g clip-path=\"url(#p224a05b2c5)\">\n     <use xlink:href=\"#C2_0_1b12fb748d\" x=\"108.774411\" y=\"337.069866\" style=\"fill: #fdb97d\"/>\n    </g>\n    <g clip-path=\"url(#p224a05b2c5)\">\n     <use xlink:href=\"#C2_0_1b12fb748d\" x=\"108.774411\" y=\"325.188874\" style=\"fill: #fda762\"/>\n    </g>\n    <g clip-path=\"url(#p224a05b2c5)\">\n     <use xlink:href=\"#C2_0_1b12fb748d\" x=\"108.774411\" y=\"313.307883\" style=\"fill: #fff5eb\"/>\n    </g>\n    <g clip-path=\"url(#p224a05b2c5)\">\n     <use xlink:href=\"#C2_0_1b12fb748d\" x=\"108.774411\" y=\"301.426891\" style=\"fill: #fff5eb\"/>\n    </g>\n    <g clip-path=\"url(#p224a05b2c5)\">\n     <use xlink:href=\"#C2_0_1b12fb748d\" x=\"115.62532\" y=\"420.236808\" style=\"fill: #fff5eb\"/>\n    </g>\n    <g clip-path=\"url(#p224a05b2c5)\">\n     <use xlink:href=\"#C2_0_1b12fb748d\" x=\"115.62532\" y=\"408.355817\" style=\"fill: #fdd9b4\"/>\n    </g>\n    <g clip-path=\"url(#p224a05b2c5)\">\n     <use xlink:href=\"#C2_0_1b12fb748d\" x=\"115.62532\" y=\"396.474825\" style=\"fill: #fdd9b4\"/>\n    </g>\n    <g clip-path=\"url(#p224a05b2c5)\">\n     <use xlink:href=\"#C2_0_1b12fb748d\" x=\"115.62532\" y=\"384.593833\" style=\"fill: #fdd9b4\"/>\n    </g>\n    <g clip-path=\"url(#p224a05b2c5)\">\n     <use xlink:href=\"#C2_0_1b12fb748d\" x=\"115.62532\" y=\"372.712841\" style=\"fill: #fda762\"/>\n    </g>\n    <g clip-path=\"url(#p224a05b2c5)\">\n     <use xlink:href=\"#C2_0_1b12fb748d\" x=\"115.62532\" y=\"360.83185\" style=\"fill: #fdcb9b\"/>\n    </g>\n    <g clip-path=\"url(#p224a05b2c5)\">\n     <use xlink:href=\"#C2_0_1b12fb748d\" x=\"115.62532\" y=\"348.950858\" style=\"fill: #fd9649\"/>\n    </g>\n    <g clip-path=\"url(#p224a05b2c5)\">\n     <use xlink:href=\"#C2_0_1b12fb748d\" x=\"115.62532\" y=\"337.069866\" style=\"fill: #fdb97d\"/>\n    </g>\n    <g clip-path=\"url(#p224a05b2c5)\">\n     <use xlink:href=\"#C2_0_1b12fb748d\" x=\"115.62532\" y=\"325.188874\" style=\"fill: #fdd9b4\"/>\n    </g>\n    <g clip-path=\"url(#p224a05b2c5)\">\n     <use xlink:href=\"#C2_0_1b12fb748d\" x=\"115.62532\" y=\"313.307883\" style=\"fill: #fff5eb\"/>\n    </g>\n    <g clip-path=\"url(#p224a05b2c5)\">\n     <use xlink:href=\"#C2_0_1b12fb748d\" x=\"115.62532\" y=\"301.426891\" style=\"fill: #fff5eb\"/>\n    </g>\n    <g clip-path=\"url(#p224a05b2c5)\">\n     <use xlink:href=\"#C2_0_1b12fb748d\" x=\"122.476229\" y=\"420.236808\" style=\"fill: #fff5eb\"/>\n    </g>\n    <g clip-path=\"url(#p224a05b2c5)\">\n     <use xlink:href=\"#C2_0_1b12fb748d\" x=\"122.476229\" y=\"408.355817\" style=\"fill: #fee5cb\"/>\n    </g>\n    <g clip-path=\"url(#p224a05b2c5)\">\n     <use xlink:href=\"#C2_0_1b12fb748d\" x=\"122.476229\" y=\"396.474825\" style=\"fill: #fa8331\"/>\n    </g>\n    <g clip-path=\"url(#p224a05b2c5)\">\n     <use xlink:href=\"#C2_0_1b12fb748d\" x=\"122.476229\" y=\"384.593833\" style=\"fill: #fee5cb\"/>\n    </g>\n    <g clip-path=\"url(#p224a05b2c5)\">\n     <use xlink:href=\"#C2_0_1b12fb748d\" x=\"122.476229\" y=\"372.712841\" style=\"fill: #fa8331\"/>\n    </g>\n    <g clip-path=\"url(#p224a05b2c5)\">\n     <use xlink:href=\"#C2_0_1b12fb748d\" x=\"122.476229\" y=\"360.83185\" style=\"fill: #fd9649\"/>\n    </g>\n    <g clip-path=\"url(#p224a05b2c5)\">\n     <use xlink:href=\"#C2_0_1b12fb748d\" x=\"122.476229\" y=\"348.950858\" style=\"fill: #fa8331\"/>\n    </g>\n    <g clip-path=\"url(#p224a05b2c5)\">\n     <use xlink:href=\"#C2_0_1b12fb748d\" x=\"122.476229\" y=\"337.069866\" style=\"fill: #fdb97d\"/>\n    </g>\n    <g clip-path=\"url(#p224a05b2c5)\">\n     <use xlink:href=\"#C2_0_1b12fb748d\" x=\"122.476229\" y=\"325.188874\" style=\"fill: #fdcb9b\"/>\n    </g>\n    <g clip-path=\"url(#p224a05b2c5)\">\n     <use xlink:href=\"#C2_0_1b12fb748d\" x=\"122.476229\" y=\"313.307883\" style=\"fill: #fff5eb\"/>\n    </g>\n    <g clip-path=\"url(#p224a05b2c5)\">\n     <use xlink:href=\"#C2_0_1b12fb748d\" x=\"122.476229\" y=\"301.426891\" style=\"fill: #fff5eb\"/>\n    </g>\n    <g clip-path=\"url(#p224a05b2c5)\">\n     <use xlink:href=\"#C2_0_1b12fb748d\" x=\"129.327138\" y=\"420.236808\" style=\"fill: #fff5eb\"/>\n    </g>\n    <g clip-path=\"url(#p224a05b2c5)\">\n     <use xlink:href=\"#C2_0_1b12fb748d\" x=\"129.327138\" y=\"408.355817\" style=\"fill: #fff5eb\"/>\n    </g>\n    <g clip-path=\"url(#p224a05b2c5)\">\n     <use xlink:href=\"#C2_0_1b12fb748d\" x=\"129.327138\" y=\"396.474825\" style=\"fill: #fdb97d\"/>\n    </g>\n    <g clip-path=\"url(#p224a05b2c5)\">\n     <use xlink:href=\"#C2_0_1b12fb748d\" x=\"129.327138\" y=\"384.593833\" style=\"fill: #fdb97d\"/>\n    </g>\n    <g clip-path=\"url(#p224a05b2c5)\">\n     <use xlink:href=\"#C2_0_1b12fb748d\" x=\"129.327138\" y=\"372.712841\" style=\"fill: #fd9649\"/>\n    </g>\n    <g clip-path=\"url(#p224a05b2c5)\">\n     <use xlink:href=\"#C2_0_1b12fb748d\" x=\"129.327138\" y=\"360.83185\" style=\"fill: #fa8331\"/>\n    </g>\n    <g clip-path=\"url(#p224a05b2c5)\">\n     <use xlink:href=\"#C2_0_1b12fb748d\" x=\"129.327138\" y=\"348.950858\" style=\"fill: #f3701b\"/>\n    </g>\n    <g clip-path=\"url(#p224a05b2c5)\">\n     <use xlink:href=\"#C2_0_1b12fb748d\" x=\"129.327138\" y=\"337.069866\" style=\"fill: #fa8331\"/>\n    </g>\n    <g clip-path=\"url(#p224a05b2c5)\">\n     <use xlink:href=\"#C2_0_1b12fb748d\" x=\"129.327138\" y=\"325.188874\" style=\"fill: #fdb97d\"/>\n    </g>\n    <g clip-path=\"url(#p224a05b2c5)\">\n     <use xlink:href=\"#C2_0_1b12fb748d\" x=\"129.327138\" y=\"313.307883\" style=\"fill: #fff5eb\"/>\n    </g>\n    <g clip-path=\"url(#p224a05b2c5)\">\n     <use xlink:href=\"#C2_0_1b12fb748d\" x=\"129.327138\" y=\"301.426891\" style=\"fill: #fff5eb\"/>\n    </g>\n    <g clip-path=\"url(#p224a05b2c5)\">\n     <use xlink:href=\"#C2_0_1b12fb748d\" x=\"136.178047\" y=\"420.236808\" style=\"fill: #fff5eb\"/>\n    </g>\n    <g clip-path=\"url(#p224a05b2c5)\">\n     <use xlink:href=\"#C2_0_1b12fb748d\" x=\"136.178047\" y=\"408.355817\" style=\"fill: #feeddc\"/>\n    </g>\n    <g clip-path=\"url(#p224a05b2c5)\">\n     <use xlink:href=\"#C2_0_1b12fb748d\" x=\"136.178047\" y=\"396.474825\" style=\"fill: #fdd9b4\"/>\n    </g>\n    <g clip-path=\"url(#p224a05b2c5)\">\n     <use xlink:href=\"#C2_0_1b12fb748d\" x=\"136.178047\" y=\"384.593833\" style=\"fill: #feeddc\"/>\n    </g>\n    <g clip-path=\"url(#p224a05b2c5)\">\n     <use xlink:href=\"#C2_0_1b12fb748d\" x=\"136.178047\" y=\"372.712841\" style=\"fill: #fdcb9b\"/>\n    </g>\n    <g clip-path=\"url(#p224a05b2c5)\">\n     <use xlink:href=\"#C2_0_1b12fb748d\" x=\"136.178047\" y=\"360.83185\" style=\"fill: #fdb97d\"/>\n    </g>\n    <g clip-path=\"url(#p224a05b2c5)\">\n     <use xlink:href=\"#C2_0_1b12fb748d\" x=\"136.178047\" y=\"348.950858\" style=\"fill: #a93703\"/>\n    </g>\n    <g clip-path=\"url(#p224a05b2c5)\">\n     <use xlink:href=\"#C2_0_1b12fb748d\" x=\"136.178047\" y=\"337.069866\" style=\"fill: #e95e0d\"/>\n    </g>\n    <g clip-path=\"url(#p224a05b2c5)\">\n     <use xlink:href=\"#C2_0_1b12fb748d\" x=\"136.178047\" y=\"325.188874\" style=\"fill: #fee5cb\"/>\n    </g>\n    <g clip-path=\"url(#p224a05b2c5)\">\n     <use xlink:href=\"#C2_0_1b12fb748d\" x=\"136.178047\" y=\"313.307883\" style=\"fill: #fff5eb\"/>\n    </g>\n    <g clip-path=\"url(#p224a05b2c5)\">\n     <use xlink:href=\"#C2_0_1b12fb748d\" x=\"136.178047\" y=\"301.426891\" style=\"fill: #fff5eb\"/>\n    </g>\n    <g clip-path=\"url(#p224a05b2c5)\">\n     <use xlink:href=\"#C2_0_1b12fb748d\" x=\"143.028956\" y=\"420.236808\" style=\"fill: #fff5eb\"/>\n    </g>\n    <g clip-path=\"url(#p224a05b2c5)\">\n     <use xlink:href=\"#C2_0_1b12fb748d\" x=\"143.028956\" y=\"408.355817\" style=\"fill: #fff5eb\"/>\n    </g>\n    <g clip-path=\"url(#p224a05b2c5)\">\n     <use xlink:href=\"#C2_0_1b12fb748d\" x=\"143.028956\" y=\"396.474825\" style=\"fill: #fff5eb\"/>\n    </g>\n    <g clip-path=\"url(#p224a05b2c5)\">\n     <use xlink:href=\"#C2_0_1b12fb748d\" x=\"143.028956\" y=\"384.593833\" style=\"fill: #feeddc\"/>\n    </g>\n    <g clip-path=\"url(#p224a05b2c5)\">\n     <use xlink:href=\"#C2_0_1b12fb748d\" x=\"143.028956\" y=\"372.712841\" style=\"fill: #fee5cb\"/>\n    </g>\n    <g clip-path=\"url(#p224a05b2c5)\">\n     <use xlink:href=\"#C2_0_1b12fb748d\" x=\"143.028956\" y=\"360.83185\" style=\"fill: #feeddc\"/>\n    </g>\n    <g clip-path=\"url(#p224a05b2c5)\">\n     <use xlink:href=\"#C2_0_1b12fb748d\" x=\"143.028956\" y=\"348.950858\" style=\"fill: #fff5eb\"/>\n    </g>\n    <g clip-path=\"url(#p224a05b2c5)\">\n     <use xlink:href=\"#C2_0_1b12fb748d\" x=\"143.028956\" y=\"337.069866\" style=\"fill: #fda762\"/>\n    </g>\n    <g clip-path=\"url(#p224a05b2c5)\">\n     <use xlink:href=\"#C2_0_1b12fb748d\" x=\"143.028956\" y=\"325.188874\" style=\"fill: #fff5eb\"/>\n    </g>\n    <g clip-path=\"url(#p224a05b2c5)\">\n     <use xlink:href=\"#C2_0_1b12fb748d\" x=\"143.028956\" y=\"313.307883\" style=\"fill: #fff5eb\"/>\n    </g>\n    <g clip-path=\"url(#p224a05b2c5)\">\n     <use xlink:href=\"#C2_0_1b12fb748d\" x=\"143.028956\" y=\"301.426891\" style=\"fill: #fff5eb\"/>\n    </g>\n    <g clip-path=\"url(#p224a05b2c5)\">\n     <use xlink:href=\"#C2_0_1b12fb748d\" x=\"149.879865\" y=\"420.236808\" style=\"fill: #fff5eb\"/>\n    </g>\n    <g clip-path=\"url(#p224a05b2c5)\">\n     <use xlink:href=\"#C2_0_1b12fb748d\" x=\"149.879865\" y=\"408.355817\" style=\"fill: #fff5eb\"/>\n    </g>\n    <g clip-path=\"url(#p224a05b2c5)\">\n     <use xlink:href=\"#C2_0_1b12fb748d\" x=\"149.879865\" y=\"396.474825\" style=\"fill: #feeddc\"/>\n    </g>\n    <g clip-path=\"url(#p224a05b2c5)\">\n     <use xlink:href=\"#C2_0_1b12fb748d\" x=\"149.879865\" y=\"384.593833\" style=\"fill: #fdb97d\"/>\n    </g>\n    <g clip-path=\"url(#p224a05b2c5)\">\n     <use xlink:href=\"#C2_0_1b12fb748d\" x=\"149.879865\" y=\"372.712841\" style=\"fill: #fff5eb\"/>\n    </g>\n    <g clip-path=\"url(#p224a05b2c5)\">\n     <use xlink:href=\"#C2_0_1b12fb748d\" x=\"149.879865\" y=\"360.83185\" style=\"fill: #fff5eb\"/>\n    </g>\n    <g clip-path=\"url(#p224a05b2c5)\">\n     <use xlink:href=\"#C2_0_1b12fb748d\" x=\"149.879865\" y=\"348.950858\" style=\"fill: #fff5eb\"/>\n    </g>\n    <g clip-path=\"url(#p224a05b2c5)\">\n     <use xlink:href=\"#C2_0_1b12fb748d\" x=\"149.879865\" y=\"337.069866\" style=\"fill: #fff5eb\"/>\n    </g>\n    <g clip-path=\"url(#p224a05b2c5)\">\n     <use xlink:href=\"#C2_0_1b12fb748d\" x=\"149.879865\" y=\"325.188874\" style=\"fill: #fff5eb\"/>\n    </g>\n    <g clip-path=\"url(#p224a05b2c5)\">\n     <use xlink:href=\"#C2_0_1b12fb748d\" x=\"149.879865\" y=\"313.307883\" style=\"fill: #fff5eb\"/>\n    </g>\n    <g clip-path=\"url(#p224a05b2c5)\">\n     <use xlink:href=\"#C2_0_1b12fb748d\" x=\"149.879865\" y=\"301.426891\" style=\"fill: #fff5eb\"/>\n    </g>\n   </g>\n   <g id=\"matplotlib.axis_5\"/>\n   <g id=\"matplotlib.axis_6\"/>\n   <g id=\"patch_13\">\n    <path d=\"M 334.56 167.90175 \nL 334.56 24.14175 \n\" style=\"fill: none; stroke: #000000; stroke-width: 0.8; stroke-linejoin: miter; stroke-linecap: square\"/>\n   </g>\n   <g id=\"patch_14\">\n    <path d=\"M 485.28 167.90175 \nL 485.28 24.14175 \n\" style=\"fill: none; stroke: #000000; stroke-width: 0.8; stroke-linejoin: miter; stroke-linecap: square\"/>\n   </g>\n   <g id=\"patch_15\">\n    <path d=\"M 334.56 167.90175 \nL 485.28 167.90175 \n\" style=\"fill: none; stroke: #000000; stroke-width: 0.8; stroke-linejoin: miter; stroke-linecap: square\"/>\n   </g>\n   <g id=\"patch_16\">\n    <path d=\"M 334.56 24.14175 \nL 485.28 24.14175 \n\" style=\"fill: none; stroke: #000000; stroke-width: 0.8; stroke-linejoin: miter; stroke-linecap: square\"/>\n   </g>\n   <g id=\"text_3\">\n    <!-- love -->\n    <g transform=\"translate(394.8225 18.14175) scale(0.144 -0.144)\">\n     <defs>\n      <path id=\"DejaVuSans-6c\" d=\"M 603 4863 \nL 1178 4863 \nL 1178 0 \nL 603 0 \nL 603 4863 \nz\n\" transform=\"scale(0.015625)\"/>\n      <path id=\"DejaVuSans-76\" d=\"M 191 3500 \nL 800 3500 \nL 1894 563 \nL 2988 3500 \nL 3597 3500 \nL 2284 0 \nL 1503 0 \nL 191 3500 \nz\n\" transform=\"scale(0.015625)\"/>\n     </defs>\n     <use xlink:href=\"#DejaVuSans-6c\"/>\n     <use xlink:href=\"#DejaVuSans-6f\" x=\"27.783203\"/>\n     <use xlink:href=\"#DejaVuSans-76\" x=\"88.964844\"/>\n     <use xlink:href=\"#DejaVuSans-65\" x=\"148.144531\"/>\n    </g>\n   </g>\n  </g>\n  <g id=\"axes_4\">\n   <g id=\"patch_17\">\n    <path d=\"M 7.2 341.42175 \nL 157.92 341.42175 \nL 157.92 197.66175 \nL 7.2 197.66175 \nz\n\" style=\"fill: #ffffff\"/>\n   </g>\n   <g id=\"PolyCollection_4\">\n    <defs>\n     <path id=\"C3_0_a24eed0beb\" d=\"M 1.326786 -86.380911 \nL 1.326786 -90.341241 \nL -2.098669 -92.321407 \nL -5.524123 -90.341241 \nL -5.524123 -86.380911 \nL -2.098669 -84.400746 \nz\n\"/>\n    </defs>\n    <g clip-path=\"url(#p25bdc0a5a9)\">\n     <use xlink:href=\"#C3_0_a24eed0beb\" x=\"16.149578\" y=\"423.248281\" style=\"fill: #fff5f0\"/>\n    </g>\n    <g clip-path=\"url(#p25bdc0a5a9)\">\n     <use xlink:href=\"#C3_0_a24eed0beb\" x=\"16.149578\" y=\"411.367289\" style=\"fill: #fee5d8\"/>\n    </g>\n    <g clip-path=\"url(#p25bdc0a5a9)\">\n     <use xlink:href=\"#C3_0_a24eed0beb\" x=\"16.149578\" y=\"399.486297\" style=\"fill: #fff5f0\"/>\n    </g>\n    <g clip-path=\"url(#p25bdc0a5a9)\">\n     <use xlink:href=\"#C3_0_a24eed0beb\" x=\"16.149578\" y=\"387.605305\" style=\"fill: #fff5f0\"/>\n    </g>\n    <g clip-path=\"url(#p25bdc0a5a9)\">\n     <use xlink:href=\"#C3_0_a24eed0beb\" x=\"16.149578\" y=\"375.724314\" style=\"fill: #fed9c9\"/>\n    </g>\n    <g clip-path=\"url(#p25bdc0a5a9)\">\n     <use xlink:href=\"#C3_0_a24eed0beb\" x=\"16.149578\" y=\"363.843322\" style=\"fill: #ffede5\"/>\n    </g>\n    <g clip-path=\"url(#p25bdc0a5a9)\">\n     <use xlink:href=\"#C3_0_a24eed0beb\" x=\"16.149578\" y=\"351.96233\" style=\"fill: #fed9c9\"/>\n    </g>\n    <g clip-path=\"url(#p25bdc0a5a9)\">\n     <use xlink:href=\"#C3_0_a24eed0beb\" x=\"16.149578\" y=\"340.081339\" style=\"fill: #fcab8f\"/>\n    </g>\n    <g clip-path=\"url(#p25bdc0a5a9)\">\n     <use xlink:href=\"#C3_0_a24eed0beb\" x=\"16.149578\" y=\"328.200347\" style=\"fill: #fff5f0\"/>\n    </g>\n    <g clip-path=\"url(#p25bdc0a5a9)\">\n     <use xlink:href=\"#C3_0_a24eed0beb\" x=\"16.149578\" y=\"316.319355\" style=\"fill: #fff5f0\"/>\n    </g>\n    <g clip-path=\"url(#p25bdc0a5a9)\">\n     <use xlink:href=\"#C3_0_a24eed0beb\" x=\"16.149578\" y=\"304.438363\" style=\"fill: #fff5f0\"/>\n    </g>\n    <g clip-path=\"url(#p25bdc0a5a9)\">\n     <use xlink:href=\"#C3_0_a24eed0beb\" x=\"16.149578\" y=\"292.557372\" style=\"fill: #fff5f0\"/>\n    </g>\n    <g clip-path=\"url(#p25bdc0a5a9)\">\n     <use xlink:href=\"#C3_0_a24eed0beb\" x=\"23.000487\" y=\"423.248281\" style=\"fill: #fff5f0\"/>\n    </g>\n    <g clip-path=\"url(#p25bdc0a5a9)\">\n     <use xlink:href=\"#C3_0_a24eed0beb\" x=\"23.000487\" y=\"411.367289\" style=\"fill: #fff5f0\"/>\n    </g>\n    <g clip-path=\"url(#p25bdc0a5a9)\">\n     <use xlink:href=\"#C3_0_a24eed0beb\" x=\"23.000487\" y=\"399.486297\" style=\"fill: #fff5f0\"/>\n    </g>\n    <g clip-path=\"url(#p25bdc0a5a9)\">\n     <use xlink:href=\"#C3_0_a24eed0beb\" x=\"23.000487\" y=\"387.605305\" style=\"fill: #fed9c9\"/>\n    </g>\n    <g clip-path=\"url(#p25bdc0a5a9)\">\n     <use xlink:href=\"#C3_0_a24eed0beb\" x=\"23.000487\" y=\"375.724314\" style=\"fill: #ac1117\"/>\n    </g>\n    <g clip-path=\"url(#p25bdc0a5a9)\">\n     <use xlink:href=\"#C3_0_a24eed0beb\" x=\"23.000487\" y=\"363.843322\" style=\"fill: #e83429\"/>\n    </g>\n    <g clip-path=\"url(#p25bdc0a5a9)\">\n     <use xlink:href=\"#C3_0_a24eed0beb\" x=\"23.000487\" y=\"351.96233\" style=\"fill: #e83429\"/>\n    </g>\n    <g clip-path=\"url(#p25bdc0a5a9)\">\n     <use xlink:href=\"#C3_0_a24eed0beb\" x=\"23.000487\" y=\"340.081339\" style=\"fill: #fff5f0\"/>\n    </g>\n    <g clip-path=\"url(#p25bdc0a5a9)\">\n     <use xlink:href=\"#C3_0_a24eed0beb\" x=\"23.000487\" y=\"328.200347\" style=\"fill: #fff5f0\"/>\n    </g>\n    <g clip-path=\"url(#p25bdc0a5a9)\">\n     <use xlink:href=\"#C3_0_a24eed0beb\" x=\"23.000487\" y=\"316.319355\" style=\"fill: #fff5f0\"/>\n    </g>\n    <g clip-path=\"url(#p25bdc0a5a9)\">\n     <use xlink:href=\"#C3_0_a24eed0beb\" x=\"23.000487\" y=\"304.438363\" style=\"fill: #fff5f0\"/>\n    </g>\n    <g clip-path=\"url(#p25bdc0a5a9)\">\n     <use xlink:href=\"#C3_0_a24eed0beb\" x=\"23.000487\" y=\"292.557372\" style=\"fill: #fff5f0\"/>\n    </g>\n    <g clip-path=\"url(#p25bdc0a5a9)\">\n     <use xlink:href=\"#C3_0_a24eed0beb\" x=\"29.851396\" y=\"423.248281\" style=\"fill: #fff5f0\"/>\n    </g>\n    <g clip-path=\"url(#p25bdc0a5a9)\">\n     <use xlink:href=\"#C3_0_a24eed0beb\" x=\"29.851396\" y=\"411.367289\" style=\"fill: #fff5f0\"/>\n    </g>\n    <g clip-path=\"url(#p25bdc0a5a9)\">\n     <use xlink:href=\"#C3_0_a24eed0beb\" x=\"29.851396\" y=\"399.486297\" style=\"fill: #fdcab5\"/>\n    </g>\n    <g clip-path=\"url(#p25bdc0a5a9)\">\n     <use xlink:href=\"#C3_0_a24eed0beb\" x=\"29.851396\" y=\"387.605305\" style=\"fill: #fff5f0\"/>\n    </g>\n    <g clip-path=\"url(#p25bdc0a5a9)\">\n     <use xlink:href=\"#C3_0_a24eed0beb\" x=\"29.851396\" y=\"375.724314\" style=\"fill: #f14432\"/>\n    </g>\n    <g clip-path=\"url(#p25bdc0a5a9)\">\n     <use xlink:href=\"#C3_0_a24eed0beb\" x=\"29.851396\" y=\"363.843322\" style=\"fill: #fb7a5a\"/>\n    </g>\n    <g clip-path=\"url(#p25bdc0a5a9)\">\n     <use xlink:href=\"#C3_0_a24eed0beb\" x=\"29.851396\" y=\"351.96233\" style=\"fill: #ca181d\"/>\n    </g>\n    <g clip-path=\"url(#p25bdc0a5a9)\">\n     <use xlink:href=\"#C3_0_a24eed0beb\" x=\"29.851396\" y=\"340.081339\" style=\"fill: #fee5d8\"/>\n    </g>\n    <g clip-path=\"url(#p25bdc0a5a9)\">\n     <use xlink:href=\"#C3_0_a24eed0beb\" x=\"29.851396\" y=\"328.200347\" style=\"fill: #fff5f0\"/>\n    </g>\n    <g clip-path=\"url(#p25bdc0a5a9)\">\n     <use xlink:href=\"#C3_0_a24eed0beb\" x=\"29.851396\" y=\"316.319355\" style=\"fill: #fff5f0\"/>\n    </g>\n    <g clip-path=\"url(#p25bdc0a5a9)\">\n     <use xlink:href=\"#C3_0_a24eed0beb\" x=\"29.851396\" y=\"304.438363\" style=\"fill: #fff5f0\"/>\n    </g>\n    <g clip-path=\"url(#p25bdc0a5a9)\">\n     <use xlink:href=\"#C3_0_a24eed0beb\" x=\"29.851396\" y=\"292.557372\" style=\"fill: #fff5f0\"/>\n    </g>\n    <g clip-path=\"url(#p25bdc0a5a9)\">\n     <use xlink:href=\"#C3_0_a24eed0beb\" x=\"36.702305\" y=\"423.248281\" style=\"fill: #fff5f0\"/>\n    </g>\n    <g clip-path=\"url(#p25bdc0a5a9)\">\n     <use xlink:href=\"#C3_0_a24eed0beb\" x=\"36.702305\" y=\"411.367289\" style=\"fill: #fff5f0\"/>\n    </g>\n    <g clip-path=\"url(#p25bdc0a5a9)\">\n     <use xlink:href=\"#C3_0_a24eed0beb\" x=\"36.702305\" y=\"399.486297\" style=\"fill: #fed9c9\"/>\n    </g>\n    <g clip-path=\"url(#p25bdc0a5a9)\">\n     <use xlink:href=\"#C3_0_a24eed0beb\" x=\"36.702305\" y=\"387.605305\" style=\"fill: #ffede5\"/>\n    </g>\n    <g clip-path=\"url(#p25bdc0a5a9)\">\n     <use xlink:href=\"#C3_0_a24eed0beb\" x=\"36.702305\" y=\"375.724314\" style=\"fill: #fcbba1\"/>\n    </g>\n    <g clip-path=\"url(#p25bdc0a5a9)\">\n     <use xlink:href=\"#C3_0_a24eed0beb\" x=\"36.702305\" y=\"363.843322\" style=\"fill: #fcbba1\"/>\n    </g>\n    <g clip-path=\"url(#p25bdc0a5a9)\">\n     <use xlink:href=\"#C3_0_a24eed0beb\" x=\"36.702305\" y=\"351.96233\" style=\"fill: #fb7a5a\"/>\n    </g>\n    <g clip-path=\"url(#p25bdc0a5a9)\">\n     <use xlink:href=\"#C3_0_a24eed0beb\" x=\"36.702305\" y=\"340.081339\" style=\"fill: #f6583e\"/>\n    </g>\n    <g clip-path=\"url(#p25bdc0a5a9)\">\n     <use xlink:href=\"#C3_0_a24eed0beb\" x=\"36.702305\" y=\"328.200347\" style=\"fill: #fcbba1\"/>\n    </g>\n    <g clip-path=\"url(#p25bdc0a5a9)\">\n     <use xlink:href=\"#C3_0_a24eed0beb\" x=\"36.702305\" y=\"316.319355\" style=\"fill: #fff5f0\"/>\n    </g>\n    <g clip-path=\"url(#p25bdc0a5a9)\">\n     <use xlink:href=\"#C3_0_a24eed0beb\" x=\"36.702305\" y=\"304.438363\" style=\"fill: #fff5f0\"/>\n    </g>\n    <g clip-path=\"url(#p25bdc0a5a9)\">\n     <use xlink:href=\"#C3_0_a24eed0beb\" x=\"36.702305\" y=\"292.557372\" style=\"fill: #fff5f0\"/>\n    </g>\n    <g clip-path=\"url(#p25bdc0a5a9)\">\n     <use xlink:href=\"#C3_0_a24eed0beb\" x=\"43.553214\" y=\"423.248281\" style=\"fill: #fff5f0\"/>\n    </g>\n    <g clip-path=\"url(#p25bdc0a5a9)\">\n     <use xlink:href=\"#C3_0_a24eed0beb\" x=\"43.553214\" y=\"411.367289\" style=\"fill: #fff5f0\"/>\n    </g>\n    <g clip-path=\"url(#p25bdc0a5a9)\">\n     <use xlink:href=\"#C3_0_a24eed0beb\" x=\"43.553214\" y=\"399.486297\" style=\"fill: #fb7a5a\"/>\n    </g>\n    <g clip-path=\"url(#p25bdc0a5a9)\">\n     <use xlink:href=\"#C3_0_a24eed0beb\" x=\"43.553214\" y=\"387.605305\" style=\"fill: #f6583e\"/>\n    </g>\n    <g clip-path=\"url(#p25bdc0a5a9)\">\n     <use xlink:href=\"#C3_0_a24eed0beb\" x=\"43.553214\" y=\"375.724314\" style=\"fill: #fb7a5a\"/>\n    </g>\n    <g clip-path=\"url(#p25bdc0a5a9)\">\n     <use xlink:href=\"#C3_0_a24eed0beb\" x=\"43.553214\" y=\"363.843322\" style=\"fill: #fc9b7c\"/>\n    </g>\n    <g clip-path=\"url(#p25bdc0a5a9)\">\n     <use xlink:href=\"#C3_0_a24eed0beb\" x=\"43.553214\" y=\"351.96233\" style=\"fill: #fc8a6a\"/>\n    </g>\n    <g clip-path=\"url(#p25bdc0a5a9)\">\n     <use xlink:href=\"#C3_0_a24eed0beb\" x=\"43.553214\" y=\"340.081339\" style=\"fill: #fb694a\"/>\n    </g>\n    <g clip-path=\"url(#p25bdc0a5a9)\">\n     <use xlink:href=\"#C3_0_a24eed0beb\" x=\"43.553214\" y=\"328.200347\" style=\"fill: #fcbba1\"/>\n    </g>\n    <g clip-path=\"url(#p25bdc0a5a9)\">\n     <use xlink:href=\"#C3_0_a24eed0beb\" x=\"43.553214\" y=\"316.319355\" style=\"fill: #ffede5\"/>\n    </g>\n    <g clip-path=\"url(#p25bdc0a5a9)\">\n     <use xlink:href=\"#C3_0_a24eed0beb\" x=\"43.553214\" y=\"304.438363\" style=\"fill: #7e0610\"/>\n    </g>\n    <g clip-path=\"url(#p25bdc0a5a9)\">\n     <use xlink:href=\"#C3_0_a24eed0beb\" x=\"43.553214\" y=\"292.557372\" style=\"fill: #fcab8f\"/>\n    </g>\n    <g clip-path=\"url(#p25bdc0a5a9)\">\n     <use xlink:href=\"#C3_0_a24eed0beb\" x=\"50.404123\" y=\"423.248281\" style=\"fill: #fff5f0\"/>\n    </g>\n    <g clip-path=\"url(#p25bdc0a5a9)\">\n     <use xlink:href=\"#C3_0_a24eed0beb\" x=\"50.404123\" y=\"411.367289\" style=\"fill: #fff5f0\"/>\n    </g>\n    <g clip-path=\"url(#p25bdc0a5a9)\">\n     <use xlink:href=\"#C3_0_a24eed0beb\" x=\"50.404123\" y=\"399.486297\" style=\"fill: #fc9b7c\"/>\n    </g>\n    <g clip-path=\"url(#p25bdc0a5a9)\">\n     <use xlink:href=\"#C3_0_a24eed0beb\" x=\"50.404123\" y=\"387.605305\" style=\"fill: #fcab8f\"/>\n    </g>\n    <g clip-path=\"url(#p25bdc0a5a9)\">\n     <use xlink:href=\"#C3_0_a24eed0beb\" x=\"50.404123\" y=\"375.724314\" style=\"fill: #ca181d\"/>\n    </g>\n    <g clip-path=\"url(#p25bdc0a5a9)\">\n     <use xlink:href=\"#C3_0_a24eed0beb\" x=\"50.404123\" y=\"363.843322\" style=\"fill: #fee5d8\"/>\n    </g>\n    <g clip-path=\"url(#p25bdc0a5a9)\">\n     <use xlink:href=\"#C3_0_a24eed0beb\" x=\"50.404123\" y=\"351.96233\" style=\"fill: #fee5d8\"/>\n    </g>\n    <g clip-path=\"url(#p25bdc0a5a9)\">\n     <use xlink:href=\"#C3_0_a24eed0beb\" x=\"50.404123\" y=\"340.081339\" style=\"fill: #fdcab5\"/>\n    </g>\n    <g clip-path=\"url(#p25bdc0a5a9)\">\n     <use xlink:href=\"#C3_0_a24eed0beb\" x=\"50.404123\" y=\"328.200347\" style=\"fill: #fc9b7c\"/>\n    </g>\n    <g clip-path=\"url(#p25bdc0a5a9)\">\n     <use xlink:href=\"#C3_0_a24eed0beb\" x=\"50.404123\" y=\"316.319355\" style=\"fill: #ffede5\"/>\n    </g>\n    <g clip-path=\"url(#p25bdc0a5a9)\">\n     <use xlink:href=\"#C3_0_a24eed0beb\" x=\"50.404123\" y=\"304.438363\" style=\"fill: #f6583e\"/>\n    </g>\n    <g clip-path=\"url(#p25bdc0a5a9)\">\n     <use xlink:href=\"#C3_0_a24eed0beb\" x=\"50.404123\" y=\"292.557372\" style=\"fill: #fff5f0\"/>\n    </g>\n    <g clip-path=\"url(#p25bdc0a5a9)\">\n     <use xlink:href=\"#C3_0_a24eed0beb\" x=\"57.255032\" y=\"423.248281\" style=\"fill: #fff5f0\"/>\n    </g>\n    <g clip-path=\"url(#p25bdc0a5a9)\">\n     <use xlink:href=\"#C3_0_a24eed0beb\" x=\"57.255032\" y=\"411.367289\" style=\"fill: #fc8a6a\"/>\n    </g>\n    <g clip-path=\"url(#p25bdc0a5a9)\">\n     <use xlink:href=\"#C3_0_a24eed0beb\" x=\"57.255032\" y=\"399.486297\" style=\"fill: #fb7a5a\"/>\n    </g>\n    <g clip-path=\"url(#p25bdc0a5a9)\">\n     <use xlink:href=\"#C3_0_a24eed0beb\" x=\"57.255032\" y=\"387.605305\" style=\"fill: #fc9b7c\"/>\n    </g>\n    <g clip-path=\"url(#p25bdc0a5a9)\">\n     <use xlink:href=\"#C3_0_a24eed0beb\" x=\"57.255032\" y=\"375.724314\" style=\"fill: #f6583e\"/>\n    </g>\n    <g clip-path=\"url(#p25bdc0a5a9)\">\n     <use xlink:href=\"#C3_0_a24eed0beb\" x=\"57.255032\" y=\"363.843322\" style=\"fill: #e83429\"/>\n    </g>\n    <g clip-path=\"url(#p25bdc0a5a9)\">\n     <use xlink:href=\"#C3_0_a24eed0beb\" x=\"57.255032\" y=\"351.96233\" style=\"fill: #fc8a6a\"/>\n    </g>\n    <g clip-path=\"url(#p25bdc0a5a9)\">\n     <use xlink:href=\"#C3_0_a24eed0beb\" x=\"57.255032\" y=\"340.081339\" style=\"fill: #fc9b7c\"/>\n    </g>\n    <g clip-path=\"url(#p25bdc0a5a9)\">\n     <use xlink:href=\"#C3_0_a24eed0beb\" x=\"57.255032\" y=\"328.200347\" style=\"fill: #e83429\"/>\n    </g>\n    <g clip-path=\"url(#p25bdc0a5a9)\">\n     <use xlink:href=\"#C3_0_a24eed0beb\" x=\"57.255032\" y=\"316.319355\" style=\"fill: #fee5d8\"/>\n    </g>\n    <g clip-path=\"url(#p25bdc0a5a9)\">\n     <use xlink:href=\"#C3_0_a24eed0beb\" x=\"57.255032\" y=\"304.438363\" style=\"fill: #fff5f0\"/>\n    </g>\n    <g clip-path=\"url(#p25bdc0a5a9)\">\n     <use xlink:href=\"#C3_0_a24eed0beb\" x=\"57.255032\" y=\"292.557372\" style=\"fill: #fff5f0\"/>\n    </g>\n    <g clip-path=\"url(#p25bdc0a5a9)\">\n     <use xlink:href=\"#C3_0_a24eed0beb\" x=\"64.105941\" y=\"423.248281\" style=\"fill: #fff5f0\"/>\n    </g>\n    <g clip-path=\"url(#p25bdc0a5a9)\">\n     <use xlink:href=\"#C3_0_a24eed0beb\" x=\"64.105941\" y=\"411.367289\" style=\"fill: #fcbba1\"/>\n    </g>\n    <g clip-path=\"url(#p25bdc0a5a9)\">\n     <use xlink:href=\"#C3_0_a24eed0beb\" x=\"64.105941\" y=\"399.486297\" style=\"fill: #fb694a\"/>\n    </g>\n    <g clip-path=\"url(#p25bdc0a5a9)\">\n     <use xlink:href=\"#C3_0_a24eed0beb\" x=\"64.105941\" y=\"387.605305\" style=\"fill: #e83429\"/>\n    </g>\n    <g clip-path=\"url(#p25bdc0a5a9)\">\n     <use xlink:href=\"#C3_0_a24eed0beb\" x=\"64.105941\" y=\"375.724314\" style=\"fill: #fcab8f\"/>\n    </g>\n    <g clip-path=\"url(#p25bdc0a5a9)\">\n     <use xlink:href=\"#C3_0_a24eed0beb\" x=\"64.105941\" y=\"363.843322\" style=\"fill: #e83429\"/>\n    </g>\n    <g clip-path=\"url(#p25bdc0a5a9)\">\n     <use xlink:href=\"#C3_0_a24eed0beb\" x=\"64.105941\" y=\"351.96233\" style=\"fill: #ac1117\"/>\n    </g>\n    <g clip-path=\"url(#p25bdc0a5a9)\">\n     <use xlink:href=\"#C3_0_a24eed0beb\" x=\"64.105941\" y=\"340.081339\" style=\"fill: #e83429\"/>\n    </g>\n    <g clip-path=\"url(#p25bdc0a5a9)\">\n     <use xlink:href=\"#C3_0_a24eed0beb\" x=\"64.105941\" y=\"328.200347\" style=\"fill: #fc8a6a\"/>\n    </g>\n    <g clip-path=\"url(#p25bdc0a5a9)\">\n     <use xlink:href=\"#C3_0_a24eed0beb\" x=\"64.105941\" y=\"316.319355\" style=\"fill: #ffede5\"/>\n    </g>\n    <g clip-path=\"url(#p25bdc0a5a9)\">\n     <use xlink:href=\"#C3_0_a24eed0beb\" x=\"64.105941\" y=\"304.438363\" style=\"fill: #fff5f0\"/>\n    </g>\n    <g clip-path=\"url(#p25bdc0a5a9)\">\n     <use xlink:href=\"#C3_0_a24eed0beb\" x=\"64.105941\" y=\"292.557372\" style=\"fill: #fff5f0\"/>\n    </g>\n    <g clip-path=\"url(#p25bdc0a5a9)\">\n     <use xlink:href=\"#C3_0_a24eed0beb\" x=\"70.956851\" y=\"423.248281\" style=\"fill: #fff5f0\"/>\n    </g>\n    <g clip-path=\"url(#p25bdc0a5a9)\">\n     <use xlink:href=\"#C3_0_a24eed0beb\" x=\"70.956851\" y=\"411.367289\" style=\"fill: #fc8a6a\"/>\n    </g>\n    <g clip-path=\"url(#p25bdc0a5a9)\">\n     <use xlink:href=\"#C3_0_a24eed0beb\" x=\"70.956851\" y=\"399.486297\" style=\"fill: #fb694a\"/>\n    </g>\n    <g clip-path=\"url(#p25bdc0a5a9)\">\n     <use xlink:href=\"#C3_0_a24eed0beb\" x=\"70.956851\" y=\"387.605305\" style=\"fill: #fc8a6a\"/>\n    </g>\n    <g clip-path=\"url(#p25bdc0a5a9)\">\n     <use xlink:href=\"#C3_0_a24eed0beb\" x=\"70.956851\" y=\"375.724314\" style=\"fill: #ac1117\"/>\n    </g>\n    <g clip-path=\"url(#p25bdc0a5a9)\">\n     <use xlink:href=\"#C3_0_a24eed0beb\" x=\"70.956851\" y=\"363.843322\" style=\"fill: #d92523\"/>\n    </g>\n    <g clip-path=\"url(#p25bdc0a5a9)\">\n     <use xlink:href=\"#C3_0_a24eed0beb\" x=\"70.956851\" y=\"351.96233\" style=\"fill: #fcab8f\"/>\n    </g>\n    <g clip-path=\"url(#p25bdc0a5a9)\">\n     <use xlink:href=\"#C3_0_a24eed0beb\" x=\"70.956851\" y=\"340.081339\" style=\"fill: #fcbba1\"/>\n    </g>\n    <g clip-path=\"url(#p25bdc0a5a9)\">\n     <use xlink:href=\"#C3_0_a24eed0beb\" x=\"70.956851\" y=\"328.200347\" style=\"fill: #fc9b7c\"/>\n    </g>\n    <g clip-path=\"url(#p25bdc0a5a9)\">\n     <use xlink:href=\"#C3_0_a24eed0beb\" x=\"70.956851\" y=\"316.319355\" style=\"fill: #fff5f0\"/>\n    </g>\n    <g clip-path=\"url(#p25bdc0a5a9)\">\n     <use xlink:href=\"#C3_0_a24eed0beb\" x=\"70.956851\" y=\"304.438363\" style=\"fill: #fff5f0\"/>\n    </g>\n    <g clip-path=\"url(#p25bdc0a5a9)\">\n     <use xlink:href=\"#C3_0_a24eed0beb\" x=\"70.956851\" y=\"292.557372\" style=\"fill: #fff5f0\"/>\n    </g>\n    <g clip-path=\"url(#p25bdc0a5a9)\">\n     <use xlink:href=\"#C3_0_a24eed0beb\" x=\"77.80776\" y=\"423.248281\" style=\"fill: #fff5f0\"/>\n    </g>\n    <g clip-path=\"url(#p25bdc0a5a9)\">\n     <use xlink:href=\"#C3_0_a24eed0beb\" x=\"77.80776\" y=\"411.367289\" style=\"fill: #fc8a6a\"/>\n    </g>\n    <g clip-path=\"url(#p25bdc0a5a9)\">\n     <use xlink:href=\"#C3_0_a24eed0beb\" x=\"77.80776\" y=\"399.486297\" style=\"fill: #fcab8f\"/>\n    </g>\n    <g clip-path=\"url(#p25bdc0a5a9)\">\n     <use xlink:href=\"#C3_0_a24eed0beb\" x=\"77.80776\" y=\"387.605305\" style=\"fill: #f6583e\"/>\n    </g>\n    <g clip-path=\"url(#p25bdc0a5a9)\">\n     <use xlink:href=\"#C3_0_a24eed0beb\" x=\"77.80776\" y=\"375.724314\" style=\"fill: #fc8a6a\"/>\n    </g>\n    <g clip-path=\"url(#p25bdc0a5a9)\">\n     <use xlink:href=\"#C3_0_a24eed0beb\" x=\"77.80776\" y=\"363.843322\" style=\"fill: #fcbba1\"/>\n    </g>\n    <g clip-path=\"url(#p25bdc0a5a9)\">\n     <use xlink:href=\"#C3_0_a24eed0beb\" x=\"77.80776\" y=\"351.96233\" style=\"fill: #fcbba1\"/>\n    </g>\n    <g clip-path=\"url(#p25bdc0a5a9)\">\n     <use xlink:href=\"#C3_0_a24eed0beb\" x=\"77.80776\" y=\"340.081339\" style=\"fill: #fc8a6a\"/>\n    </g>\n    <g clip-path=\"url(#p25bdc0a5a9)\">\n     <use xlink:href=\"#C3_0_a24eed0beb\" x=\"77.80776\" y=\"328.200347\" style=\"fill: #fc9b7c\"/>\n    </g>\n    <g clip-path=\"url(#p25bdc0a5a9)\">\n     <use xlink:href=\"#C3_0_a24eed0beb\" x=\"77.80776\" y=\"316.319355\" style=\"fill: #fff5f0\"/>\n    </g>\n    <g clip-path=\"url(#p25bdc0a5a9)\">\n     <use xlink:href=\"#C3_0_a24eed0beb\" x=\"77.80776\" y=\"304.438363\" style=\"fill: #fff5f0\"/>\n    </g>\n    <g clip-path=\"url(#p25bdc0a5a9)\">\n     <use xlink:href=\"#C3_0_a24eed0beb\" x=\"77.80776\" y=\"292.557372\" style=\"fill: #fee5d8\"/>\n    </g>\n    <g clip-path=\"url(#p25bdc0a5a9)\">\n     <use xlink:href=\"#C3_0_a24eed0beb\" x=\"84.658669\" y=\"423.248281\" style=\"fill: #fed9c9\"/>\n    </g>\n    <g clip-path=\"url(#p25bdc0a5a9)\">\n     <use xlink:href=\"#C3_0_a24eed0beb\" x=\"84.658669\" y=\"411.367289\" style=\"fill: #fed9c9\"/>\n    </g>\n    <g clip-path=\"url(#p25bdc0a5a9)\">\n     <use xlink:href=\"#C3_0_a24eed0beb\" x=\"84.658669\" y=\"399.486297\" style=\"fill: #fcab8f\"/>\n    </g>\n    <g clip-path=\"url(#p25bdc0a5a9)\">\n     <use xlink:href=\"#C3_0_a24eed0beb\" x=\"84.658669\" y=\"387.605305\" style=\"fill: #fc9b7c\"/>\n    </g>\n    <g clip-path=\"url(#p25bdc0a5a9)\">\n     <use xlink:href=\"#C3_0_a24eed0beb\" x=\"84.658669\" y=\"375.724314\" style=\"fill: #fb7a5a\"/>\n    </g>\n    <g clip-path=\"url(#p25bdc0a5a9)\">\n     <use xlink:href=\"#C3_0_a24eed0beb\" x=\"84.658669\" y=\"363.843322\" style=\"fill: #fdcab5\"/>\n    </g>\n    <g clip-path=\"url(#p25bdc0a5a9)\">\n     <use xlink:href=\"#C3_0_a24eed0beb\" x=\"84.658669\" y=\"351.96233\" style=\"fill: #fdcab5\"/>\n    </g>\n    <g clip-path=\"url(#p25bdc0a5a9)\">\n     <use xlink:href=\"#C3_0_a24eed0beb\" x=\"84.658669\" y=\"340.081339\" style=\"fill: #fdcab5\"/>\n    </g>\n    <g clip-path=\"url(#p25bdc0a5a9)\">\n     <use xlink:href=\"#C3_0_a24eed0beb\" x=\"84.658669\" y=\"328.200347\" style=\"fill: #fcab8f\"/>\n    </g>\n    <g clip-path=\"url(#p25bdc0a5a9)\">\n     <use xlink:href=\"#C3_0_a24eed0beb\" x=\"84.658669\" y=\"316.319355\" style=\"fill: #fcab8f\"/>\n    </g>\n    <g clip-path=\"url(#p25bdc0a5a9)\">\n     <use xlink:href=\"#C3_0_a24eed0beb\" x=\"84.658669\" y=\"304.438363\" style=\"fill: #fff5f0\"/>\n    </g>\n    <g clip-path=\"url(#p25bdc0a5a9)\">\n     <use xlink:href=\"#C3_0_a24eed0beb\" x=\"84.658669\" y=\"292.557372\" style=\"fill: #fff5f0\"/>\n    </g>\n    <g clip-path=\"url(#p25bdc0a5a9)\">\n     <use xlink:href=\"#C3_0_a24eed0beb\" x=\"91.509578\" y=\"423.248281\" style=\"fill: #fee5d8\"/>\n    </g>\n    <g clip-path=\"url(#p25bdc0a5a9)\">\n     <use xlink:href=\"#C3_0_a24eed0beb\" x=\"91.509578\" y=\"411.367289\" style=\"fill: #fcbba1\"/>\n    </g>\n    <g clip-path=\"url(#p25bdc0a5a9)\">\n     <use xlink:href=\"#C3_0_a24eed0beb\" x=\"91.509578\" y=\"399.486297\" style=\"fill: #fc8a6a\"/>\n    </g>\n    <g clip-path=\"url(#p25bdc0a5a9)\">\n     <use xlink:href=\"#C3_0_a24eed0beb\" x=\"91.509578\" y=\"387.605305\" style=\"fill: #fc8a6a\"/>\n    </g>\n    <g clip-path=\"url(#p25bdc0a5a9)\">\n     <use xlink:href=\"#C3_0_a24eed0beb\" x=\"91.509578\" y=\"375.724314\" style=\"fill: #fcbba1\"/>\n    </g>\n    <g clip-path=\"url(#p25bdc0a5a9)\">\n     <use xlink:href=\"#C3_0_a24eed0beb\" x=\"91.509578\" y=\"363.843322\" style=\"fill: #fcbba1\"/>\n    </g>\n    <g clip-path=\"url(#p25bdc0a5a9)\">\n     <use xlink:href=\"#C3_0_a24eed0beb\" x=\"91.509578\" y=\"351.96233\" style=\"fill: #fb7a5a\"/>\n    </g>\n    <g clip-path=\"url(#p25bdc0a5a9)\">\n     <use xlink:href=\"#C3_0_a24eed0beb\" x=\"91.509578\" y=\"340.081339\" style=\"fill: #fc9b7c\"/>\n    </g>\n    <g clip-path=\"url(#p25bdc0a5a9)\">\n     <use xlink:href=\"#C3_0_a24eed0beb\" x=\"91.509578\" y=\"328.200347\" style=\"fill: #fdcab5\"/>\n    </g>\n    <g clip-path=\"url(#p25bdc0a5a9)\">\n     <use xlink:href=\"#C3_0_a24eed0beb\" x=\"91.509578\" y=\"316.319355\" style=\"fill: #fff5f0\"/>\n    </g>\n    <g clip-path=\"url(#p25bdc0a5a9)\">\n     <use xlink:href=\"#C3_0_a24eed0beb\" x=\"91.509578\" y=\"304.438363\" style=\"fill: #fff5f0\"/>\n    </g>\n    <g clip-path=\"url(#p25bdc0a5a9)\">\n     <use xlink:href=\"#C3_0_a24eed0beb\" x=\"91.509578\" y=\"292.557372\" style=\"fill: #fff5f0\"/>\n    </g>\n    <g clip-path=\"url(#p25bdc0a5a9)\">\n     <use xlink:href=\"#C3_0_a24eed0beb\" x=\"98.360487\" y=\"423.248281\" style=\"fill: #fff5f0\"/>\n    </g>\n    <g clip-path=\"url(#p25bdc0a5a9)\">\n     <use xlink:href=\"#C3_0_a24eed0beb\" x=\"98.360487\" y=\"411.367289\" style=\"fill: #fcab8f\"/>\n    </g>\n    <g clip-path=\"url(#p25bdc0a5a9)\">\n     <use xlink:href=\"#C3_0_a24eed0beb\" x=\"98.360487\" y=\"399.486297\" style=\"fill: #e83429\"/>\n    </g>\n    <g clip-path=\"url(#p25bdc0a5a9)\">\n     <use xlink:href=\"#C3_0_a24eed0beb\" x=\"98.360487\" y=\"387.605305\" style=\"fill: #fb694a\"/>\n    </g>\n    <g clip-path=\"url(#p25bdc0a5a9)\">\n     <use xlink:href=\"#C3_0_a24eed0beb\" x=\"98.360487\" y=\"375.724314\" style=\"fill: #fcbba1\"/>\n    </g>\n    <g clip-path=\"url(#p25bdc0a5a9)\">\n     <use xlink:href=\"#C3_0_a24eed0beb\" x=\"98.360487\" y=\"363.843322\" style=\"fill: #f14432\"/>\n    </g>\n    <g clip-path=\"url(#p25bdc0a5a9)\">\n     <use xlink:href=\"#C3_0_a24eed0beb\" x=\"98.360487\" y=\"351.96233\" style=\"fill: #fc9b7c\"/>\n    </g>\n    <g clip-path=\"url(#p25bdc0a5a9)\">\n     <use xlink:href=\"#C3_0_a24eed0beb\" x=\"98.360487\" y=\"340.081339\" style=\"fill: #fed9c9\"/>\n    </g>\n    <g clip-path=\"url(#p25bdc0a5a9)\">\n     <use xlink:href=\"#C3_0_a24eed0beb\" x=\"98.360487\" y=\"328.200347\" style=\"fill: #fed9c9\"/>\n    </g>\n    <g clip-path=\"url(#p25bdc0a5a9)\">\n     <use xlink:href=\"#C3_0_a24eed0beb\" x=\"98.360487\" y=\"316.319355\" style=\"fill: #fff5f0\"/>\n    </g>\n    <g clip-path=\"url(#p25bdc0a5a9)\">\n     <use xlink:href=\"#C3_0_a24eed0beb\" x=\"98.360487\" y=\"304.438363\" style=\"fill: #fff5f0\"/>\n    </g>\n    <g clip-path=\"url(#p25bdc0a5a9)\">\n     <use xlink:href=\"#C3_0_a24eed0beb\" x=\"98.360487\" y=\"292.557372\" style=\"fill: #fff5f0\"/>\n    </g>\n    <g clip-path=\"url(#p25bdc0a5a9)\">\n     <use xlink:href=\"#C3_0_a24eed0beb\" x=\"105.211396\" y=\"423.248281\" style=\"fill: #fff5f0\"/>\n    </g>\n    <g clip-path=\"url(#p25bdc0a5a9)\">\n     <use xlink:href=\"#C3_0_a24eed0beb\" x=\"105.211396\" y=\"411.367289\" style=\"fill: #fc8a6a\"/>\n    </g>\n    <g clip-path=\"url(#p25bdc0a5a9)\">\n     <use xlink:href=\"#C3_0_a24eed0beb\" x=\"105.211396\" y=\"399.486297\" style=\"fill: #fc9b7c\"/>\n    </g>\n    <g clip-path=\"url(#p25bdc0a5a9)\">\n     <use xlink:href=\"#C3_0_a24eed0beb\" x=\"105.211396\" y=\"387.605305\" style=\"fill: #fed9c9\"/>\n    </g>\n    <g clip-path=\"url(#p25bdc0a5a9)\">\n     <use xlink:href=\"#C3_0_a24eed0beb\" x=\"105.211396\" y=\"375.724314\" style=\"fill: #fc9b7c\"/>\n    </g>\n    <g clip-path=\"url(#p25bdc0a5a9)\">\n     <use xlink:href=\"#C3_0_a24eed0beb\" x=\"105.211396\" y=\"363.843322\" style=\"fill: #fc8a6a\"/>\n    </g>\n    <g clip-path=\"url(#p25bdc0a5a9)\">\n     <use xlink:href=\"#C3_0_a24eed0beb\" x=\"105.211396\" y=\"351.96233\" style=\"fill: #fc8a6a\"/>\n    </g>\n    <g clip-path=\"url(#p25bdc0a5a9)\">\n     <use xlink:href=\"#C3_0_a24eed0beb\" x=\"105.211396\" y=\"340.081339\" style=\"fill: #fdcab5\"/>\n    </g>\n    <g clip-path=\"url(#p25bdc0a5a9)\">\n     <use xlink:href=\"#C3_0_a24eed0beb\" x=\"105.211396\" y=\"328.200347\" style=\"fill: #fc9b7c\"/>\n    </g>\n    <g clip-path=\"url(#p25bdc0a5a9)\">\n     <use xlink:href=\"#C3_0_a24eed0beb\" x=\"105.211396\" y=\"316.319355\" style=\"fill: #fff5f0\"/>\n    </g>\n    <g clip-path=\"url(#p25bdc0a5a9)\">\n     <use xlink:href=\"#C3_0_a24eed0beb\" x=\"105.211396\" y=\"304.438363\" style=\"fill: #fff5f0\"/>\n    </g>\n    <g clip-path=\"url(#p25bdc0a5a9)\">\n     <use xlink:href=\"#C3_0_a24eed0beb\" x=\"105.211396\" y=\"292.557372\" style=\"fill: #fff5f0\"/>\n    </g>\n    <g clip-path=\"url(#p25bdc0a5a9)\">\n     <use xlink:href=\"#C3_0_a24eed0beb\" x=\"112.062305\" y=\"423.248281\" style=\"fill: #fff5f0\"/>\n    </g>\n    <g clip-path=\"url(#p25bdc0a5a9)\">\n     <use xlink:href=\"#C3_0_a24eed0beb\" x=\"112.062305\" y=\"411.367289\" style=\"fill: #fc8a6a\"/>\n    </g>\n    <g clip-path=\"url(#p25bdc0a5a9)\">\n     <use xlink:href=\"#C3_0_a24eed0beb\" x=\"112.062305\" y=\"399.486297\" style=\"fill: #fc9b7c\"/>\n    </g>\n    <g clip-path=\"url(#p25bdc0a5a9)\">\n     <use xlink:href=\"#C3_0_a24eed0beb\" x=\"112.062305\" y=\"387.605305\" style=\"fill: #fcab8f\"/>\n    </g>\n    <g clip-path=\"url(#p25bdc0a5a9)\">\n     <use xlink:href=\"#C3_0_a24eed0beb\" x=\"112.062305\" y=\"375.724314\" style=\"fill: #fc8a6a\"/>\n    </g>\n    <g clip-path=\"url(#p25bdc0a5a9)\">\n     <use xlink:href=\"#C3_0_a24eed0beb\" x=\"112.062305\" y=\"363.843322\" style=\"fill: #fcbba1\"/>\n    </g>\n    <g clip-path=\"url(#p25bdc0a5a9)\">\n     <use xlink:href=\"#C3_0_a24eed0beb\" x=\"112.062305\" y=\"351.96233\" style=\"fill: #fcbba1\"/>\n    </g>\n    <g clip-path=\"url(#p25bdc0a5a9)\">\n     <use xlink:href=\"#C3_0_a24eed0beb\" x=\"112.062305\" y=\"340.081339\" style=\"fill: #fcbba1\"/>\n    </g>\n    <g clip-path=\"url(#p25bdc0a5a9)\">\n     <use xlink:href=\"#C3_0_a24eed0beb\" x=\"112.062305\" y=\"328.200347\" style=\"fill: #fee5d8\"/>\n    </g>\n    <g clip-path=\"url(#p25bdc0a5a9)\">\n     <use xlink:href=\"#C3_0_a24eed0beb\" x=\"112.062305\" y=\"316.319355\" style=\"fill: #fff5f0\"/>\n    </g>\n    <g clip-path=\"url(#p25bdc0a5a9)\">\n     <use xlink:href=\"#C3_0_a24eed0beb\" x=\"112.062305\" y=\"304.438363\" style=\"fill: #fff5f0\"/>\n    </g>\n    <g clip-path=\"url(#p25bdc0a5a9)\">\n     <use xlink:href=\"#C3_0_a24eed0beb\" x=\"112.062305\" y=\"292.557372\" style=\"fill: #fff5f0\"/>\n    </g>\n    <g clip-path=\"url(#p25bdc0a5a9)\">\n     <use xlink:href=\"#C3_0_a24eed0beb\" x=\"118.913214\" y=\"423.248281\" style=\"fill: #fff5f0\"/>\n    </g>\n    <g clip-path=\"url(#p25bdc0a5a9)\">\n     <use xlink:href=\"#C3_0_a24eed0beb\" x=\"118.913214\" y=\"411.367289\" style=\"fill: #ffede5\"/>\n    </g>\n    <g clip-path=\"url(#p25bdc0a5a9)\">\n     <use xlink:href=\"#C3_0_a24eed0beb\" x=\"118.913214\" y=\"399.486297\" style=\"fill: #e83429\"/>\n    </g>\n    <g clip-path=\"url(#p25bdc0a5a9)\">\n     <use xlink:href=\"#C3_0_a24eed0beb\" x=\"118.913214\" y=\"387.605305\" style=\"fill: #f14432\"/>\n    </g>\n    <g clip-path=\"url(#p25bdc0a5a9)\">\n     <use xlink:href=\"#C3_0_a24eed0beb\" x=\"118.913214\" y=\"375.724314\" style=\"fill: #fb7a5a\"/>\n    </g>\n    <g clip-path=\"url(#p25bdc0a5a9)\">\n     <use xlink:href=\"#C3_0_a24eed0beb\" x=\"118.913214\" y=\"363.843322\" style=\"fill: #fb694a\"/>\n    </g>\n    <g clip-path=\"url(#p25bdc0a5a9)\">\n     <use xlink:href=\"#C3_0_a24eed0beb\" x=\"118.913214\" y=\"351.96233\" style=\"fill: #fed9c9\"/>\n    </g>\n    <g clip-path=\"url(#p25bdc0a5a9)\">\n     <use xlink:href=\"#C3_0_a24eed0beb\" x=\"118.913214\" y=\"340.081339\" style=\"fill: #fdcab5\"/>\n    </g>\n    <g clip-path=\"url(#p25bdc0a5a9)\">\n     <use xlink:href=\"#C3_0_a24eed0beb\" x=\"118.913214\" y=\"328.200347\" style=\"fill: #ffede5\"/>\n    </g>\n    <g clip-path=\"url(#p25bdc0a5a9)\">\n     <use xlink:href=\"#C3_0_a24eed0beb\" x=\"118.913214\" y=\"316.319355\" style=\"fill: #fff5f0\"/>\n    </g>\n    <g clip-path=\"url(#p25bdc0a5a9)\">\n     <use xlink:href=\"#C3_0_a24eed0beb\" x=\"118.913214\" y=\"304.438363\" style=\"fill: #fff5f0\"/>\n    </g>\n    <g clip-path=\"url(#p25bdc0a5a9)\">\n     <use xlink:href=\"#C3_0_a24eed0beb\" x=\"118.913214\" y=\"292.557372\" style=\"fill: #fff5f0\"/>\n    </g>\n    <g clip-path=\"url(#p25bdc0a5a9)\">\n     <use xlink:href=\"#C3_0_a24eed0beb\" x=\"125.764123\" y=\"423.248281\" style=\"fill: #fff5f0\"/>\n    </g>\n    <g clip-path=\"url(#p25bdc0a5a9)\">\n     <use xlink:href=\"#C3_0_a24eed0beb\" x=\"125.764123\" y=\"411.367289\" style=\"fill: #fff5f0\"/>\n    </g>\n    <g clip-path=\"url(#p25bdc0a5a9)\">\n     <use xlink:href=\"#C3_0_a24eed0beb\" x=\"125.764123\" y=\"399.486297\" style=\"fill: #fee5d8\"/>\n    </g>\n    <g clip-path=\"url(#p25bdc0a5a9)\">\n     <use xlink:href=\"#C3_0_a24eed0beb\" x=\"125.764123\" y=\"387.605305\" style=\"fill: #f14432\"/>\n    </g>\n    <g clip-path=\"url(#p25bdc0a5a9)\">\n     <use xlink:href=\"#C3_0_a24eed0beb\" x=\"125.764123\" y=\"375.724314\" style=\"fill: #fcab8f\"/>\n    </g>\n    <g clip-path=\"url(#p25bdc0a5a9)\">\n     <use xlink:href=\"#C3_0_a24eed0beb\" x=\"125.764123\" y=\"363.843322\" style=\"fill: #f6583e\"/>\n    </g>\n    <g clip-path=\"url(#p25bdc0a5a9)\">\n     <use xlink:href=\"#C3_0_a24eed0beb\" x=\"125.764123\" y=\"351.96233\" style=\"fill: #fcbba1\"/>\n    </g>\n    <g clip-path=\"url(#p25bdc0a5a9)\">\n     <use xlink:href=\"#C3_0_a24eed0beb\" x=\"125.764123\" y=\"340.081339\" style=\"fill: #fc9b7c\"/>\n    </g>\n    <g clip-path=\"url(#p25bdc0a5a9)\">\n     <use xlink:href=\"#C3_0_a24eed0beb\" x=\"125.764123\" y=\"328.200347\" style=\"fill: #fc9b7c\"/>\n    </g>\n    <g clip-path=\"url(#p25bdc0a5a9)\">\n     <use xlink:href=\"#C3_0_a24eed0beb\" x=\"125.764123\" y=\"316.319355\" style=\"fill: #fff5f0\"/>\n    </g>\n    <g clip-path=\"url(#p25bdc0a5a9)\">\n     <use xlink:href=\"#C3_0_a24eed0beb\" x=\"125.764123\" y=\"304.438363\" style=\"fill: #fff5f0\"/>\n    </g>\n    <g clip-path=\"url(#p25bdc0a5a9)\">\n     <use xlink:href=\"#C3_0_a24eed0beb\" x=\"125.764123\" y=\"292.557372\" style=\"fill: #fff5f0\"/>\n    </g>\n    <g clip-path=\"url(#p25bdc0a5a9)\">\n     <use xlink:href=\"#C3_0_a24eed0beb\" x=\"132.615032\" y=\"423.248281\" style=\"fill: #fff5f0\"/>\n    </g>\n    <g clip-path=\"url(#p25bdc0a5a9)\">\n     <use xlink:href=\"#C3_0_a24eed0beb\" x=\"132.615032\" y=\"411.367289\" style=\"fill: #fff5f0\"/>\n    </g>\n    <g clip-path=\"url(#p25bdc0a5a9)\">\n     <use xlink:href=\"#C3_0_a24eed0beb\" x=\"132.615032\" y=\"399.486297\" style=\"fill: #fb7a5a\"/>\n    </g>\n    <g clip-path=\"url(#p25bdc0a5a9)\">\n     <use xlink:href=\"#C3_0_a24eed0beb\" x=\"132.615032\" y=\"387.605305\" style=\"fill: #fb694a\"/>\n    </g>\n    <g clip-path=\"url(#p25bdc0a5a9)\">\n     <use xlink:href=\"#C3_0_a24eed0beb\" x=\"132.615032\" y=\"375.724314\" style=\"fill: #fc8a6a\"/>\n    </g>\n    <g clip-path=\"url(#p25bdc0a5a9)\">\n     <use xlink:href=\"#C3_0_a24eed0beb\" x=\"132.615032\" y=\"363.843322\" style=\"fill: #fc9b7c\"/>\n    </g>\n    <g clip-path=\"url(#p25bdc0a5a9)\">\n     <use xlink:href=\"#C3_0_a24eed0beb\" x=\"132.615032\" y=\"351.96233\" style=\"fill: #67000d\"/>\n    </g>\n    <g clip-path=\"url(#p25bdc0a5a9)\">\n     <use xlink:href=\"#C3_0_a24eed0beb\" x=\"132.615032\" y=\"340.081339\" style=\"fill: #fb694a\"/>\n    </g>\n    <g clip-path=\"url(#p25bdc0a5a9)\">\n     <use xlink:href=\"#C3_0_a24eed0beb\" x=\"132.615032\" y=\"328.200347\" style=\"fill: #fdcab5\"/>\n    </g>\n    <g clip-path=\"url(#p25bdc0a5a9)\">\n     <use xlink:href=\"#C3_0_a24eed0beb\" x=\"132.615032\" y=\"316.319355\" style=\"fill: #fff5f0\"/>\n    </g>\n    <g clip-path=\"url(#p25bdc0a5a9)\">\n     <use xlink:href=\"#C3_0_a24eed0beb\" x=\"132.615032\" y=\"304.438363\" style=\"fill: #fff5f0\"/>\n    </g>\n    <g clip-path=\"url(#p25bdc0a5a9)\">\n     <use xlink:href=\"#C3_0_a24eed0beb\" x=\"132.615032\" y=\"292.557372\" style=\"fill: #fff5f0\"/>\n    </g>\n    <g clip-path=\"url(#p25bdc0a5a9)\">\n     <use xlink:href=\"#C3_0_a24eed0beb\" x=\"139.465941\" y=\"423.248281\" style=\"fill: #fff5f0\"/>\n    </g>\n    <g clip-path=\"url(#p25bdc0a5a9)\">\n     <use xlink:href=\"#C3_0_a24eed0beb\" x=\"139.465941\" y=\"411.367289\" style=\"fill: #fff5f0\"/>\n    </g>\n    <g clip-path=\"url(#p25bdc0a5a9)\">\n     <use xlink:href=\"#C3_0_a24eed0beb\" x=\"139.465941\" y=\"399.486297\" style=\"fill: #fc8a6a\"/>\n    </g>\n    <g clip-path=\"url(#p25bdc0a5a9)\">\n     <use xlink:href=\"#C3_0_a24eed0beb\" x=\"139.465941\" y=\"387.605305\" style=\"fill: #fb694a\"/>\n    </g>\n    <g clip-path=\"url(#p25bdc0a5a9)\">\n     <use xlink:href=\"#C3_0_a24eed0beb\" x=\"139.465941\" y=\"375.724314\" style=\"fill: #fee5d8\"/>\n    </g>\n    <g clip-path=\"url(#p25bdc0a5a9)\">\n     <use xlink:href=\"#C3_0_a24eed0beb\" x=\"139.465941\" y=\"363.843322\" style=\"fill: #ffede5\"/>\n    </g>\n    <g clip-path=\"url(#p25bdc0a5a9)\">\n     <use xlink:href=\"#C3_0_a24eed0beb\" x=\"139.465941\" y=\"351.96233\" style=\"fill: #ffede5\"/>\n    </g>\n    <g clip-path=\"url(#p25bdc0a5a9)\">\n     <use xlink:href=\"#C3_0_a24eed0beb\" x=\"139.465941\" y=\"340.081339\" style=\"fill: #ca181d\"/>\n    </g>\n    <g clip-path=\"url(#p25bdc0a5a9)\">\n     <use xlink:href=\"#C3_0_a24eed0beb\" x=\"139.465941\" y=\"328.200347\" style=\"fill: #fc9b7c\"/>\n    </g>\n    <g clip-path=\"url(#p25bdc0a5a9)\">\n     <use xlink:href=\"#C3_0_a24eed0beb\" x=\"139.465941\" y=\"316.319355\" style=\"fill: #fff5f0\"/>\n    </g>\n    <g clip-path=\"url(#p25bdc0a5a9)\">\n     <use xlink:href=\"#C3_0_a24eed0beb\" x=\"139.465941\" y=\"304.438363\" style=\"fill: #fff5f0\"/>\n    </g>\n    <g clip-path=\"url(#p25bdc0a5a9)\">\n     <use xlink:href=\"#C3_0_a24eed0beb\" x=\"139.465941\" y=\"292.557372\" style=\"fill: #fff5f0\"/>\n    </g>\n    <g clip-path=\"url(#p25bdc0a5a9)\">\n     <use xlink:href=\"#C3_0_a24eed0beb\" x=\"146.316851\" y=\"423.248281\" style=\"fill: #fff5f0\"/>\n    </g>\n    <g clip-path=\"url(#p25bdc0a5a9)\">\n     <use xlink:href=\"#C3_0_a24eed0beb\" x=\"146.316851\" y=\"411.367289\" style=\"fill: #fff5f0\"/>\n    </g>\n    <g clip-path=\"url(#p25bdc0a5a9)\">\n     <use xlink:href=\"#C3_0_a24eed0beb\" x=\"146.316851\" y=\"399.486297\" style=\"fill: #ffede5\"/>\n    </g>\n    <g clip-path=\"url(#p25bdc0a5a9)\">\n     <use xlink:href=\"#C3_0_a24eed0beb\" x=\"146.316851\" y=\"387.605305\" style=\"fill: #fdcab5\"/>\n    </g>\n    <g clip-path=\"url(#p25bdc0a5a9)\">\n     <use xlink:href=\"#C3_0_a24eed0beb\" x=\"146.316851\" y=\"375.724314\" style=\"fill: #fff5f0\"/>\n    </g>\n    <g clip-path=\"url(#p25bdc0a5a9)\">\n     <use xlink:href=\"#C3_0_a24eed0beb\" x=\"146.316851\" y=\"363.843322\" style=\"fill: #fff5f0\"/>\n    </g>\n    <g clip-path=\"url(#p25bdc0a5a9)\">\n     <use xlink:href=\"#C3_0_a24eed0beb\" x=\"146.316851\" y=\"351.96233\" style=\"fill: #fff5f0\"/>\n    </g>\n    <g clip-path=\"url(#p25bdc0a5a9)\">\n     <use xlink:href=\"#C3_0_a24eed0beb\" x=\"146.316851\" y=\"340.081339\" style=\"fill: #fff5f0\"/>\n    </g>\n    <g clip-path=\"url(#p25bdc0a5a9)\">\n     <use xlink:href=\"#C3_0_a24eed0beb\" x=\"146.316851\" y=\"328.200347\" style=\"fill: #fff5f0\"/>\n    </g>\n    <g clip-path=\"url(#p25bdc0a5a9)\">\n     <use xlink:href=\"#C3_0_a24eed0beb\" x=\"146.316851\" y=\"316.319355\" style=\"fill: #fff5f0\"/>\n    </g>\n    <g clip-path=\"url(#p25bdc0a5a9)\">\n     <use xlink:href=\"#C3_0_a24eed0beb\" x=\"146.316851\" y=\"304.438363\" style=\"fill: #fff5f0\"/>\n    </g>\n    <g clip-path=\"url(#p25bdc0a5a9)\">\n     <use xlink:href=\"#C3_0_a24eed0beb\" x=\"146.316851\" y=\"292.557372\" style=\"fill: #fff5f0\"/>\n    </g>\n    <g clip-path=\"url(#p25bdc0a5a9)\">\n     <use xlink:href=\"#C3_0_a24eed0beb\" x=\"153.16776\" y=\"423.248281\" style=\"fill: #fff5f0\"/>\n    </g>\n    <g clip-path=\"url(#p25bdc0a5a9)\">\n     <use xlink:href=\"#C3_0_a24eed0beb\" x=\"153.16776\" y=\"411.367289\" style=\"fill: #fff5f0\"/>\n    </g>\n    <g clip-path=\"url(#p25bdc0a5a9)\">\n     <use xlink:href=\"#C3_0_a24eed0beb\" x=\"153.16776\" y=\"399.486297\" style=\"fill: #fff5f0\"/>\n    </g>\n    <g clip-path=\"url(#p25bdc0a5a9)\">\n     <use xlink:href=\"#C3_0_a24eed0beb\" x=\"153.16776\" y=\"387.605305\" style=\"fill: #f6583e\"/>\n    </g>\n    <g clip-path=\"url(#p25bdc0a5a9)\">\n     <use xlink:href=\"#C3_0_a24eed0beb\" x=\"153.16776\" y=\"375.724314\" style=\"fill: #fff5f0\"/>\n    </g>\n    <g clip-path=\"url(#p25bdc0a5a9)\">\n     <use xlink:href=\"#C3_0_a24eed0beb\" x=\"153.16776\" y=\"363.843322\" style=\"fill: #fff5f0\"/>\n    </g>\n    <g clip-path=\"url(#p25bdc0a5a9)\">\n     <use xlink:href=\"#C3_0_a24eed0beb\" x=\"153.16776\" y=\"351.96233\" style=\"fill: #fff5f0\"/>\n    </g>\n    <g clip-path=\"url(#p25bdc0a5a9)\">\n     <use xlink:href=\"#C3_0_a24eed0beb\" x=\"153.16776\" y=\"340.081339\" style=\"fill: #fff5f0\"/>\n    </g>\n    <g clip-path=\"url(#p25bdc0a5a9)\">\n     <use xlink:href=\"#C3_0_a24eed0beb\" x=\"153.16776\" y=\"328.200347\" style=\"fill: #fff5f0\"/>\n    </g>\n    <g clip-path=\"url(#p25bdc0a5a9)\">\n     <use xlink:href=\"#C3_0_a24eed0beb\" x=\"153.16776\" y=\"316.319355\" style=\"fill: #fff5f0\"/>\n    </g>\n    <g clip-path=\"url(#p25bdc0a5a9)\">\n     <use xlink:href=\"#C3_0_a24eed0beb\" x=\"153.16776\" y=\"304.438363\" style=\"fill: #fff5f0\"/>\n    </g>\n    <g clip-path=\"url(#p25bdc0a5a9)\">\n     <use xlink:href=\"#C3_0_a24eed0beb\" x=\"153.16776\" y=\"292.557372\" style=\"fill: #fff5f0\"/>\n    </g>\n    <g clip-path=\"url(#p25bdc0a5a9)\">\n     <use xlink:href=\"#C3_0_a24eed0beb\" x=\"19.575032\" y=\"417.307785\" style=\"fill: #fff5f0\"/>\n    </g>\n    <g clip-path=\"url(#p25bdc0a5a9)\">\n     <use xlink:href=\"#C3_0_a24eed0beb\" x=\"19.575032\" y=\"405.426793\" style=\"fill: #fee5d8\"/>\n    </g>\n    <g clip-path=\"url(#p25bdc0a5a9)\">\n     <use xlink:href=\"#C3_0_a24eed0beb\" x=\"19.575032\" y=\"393.545801\" style=\"fill: #fff5f0\"/>\n    </g>\n    <g clip-path=\"url(#p25bdc0a5a9)\">\n     <use xlink:href=\"#C3_0_a24eed0beb\" x=\"19.575032\" y=\"381.66481\" style=\"fill: #f6583e\"/>\n    </g>\n    <g clip-path=\"url(#p25bdc0a5a9)\">\n     <use xlink:href=\"#C3_0_a24eed0beb\" x=\"19.575032\" y=\"369.783818\" style=\"fill: #fc8a6a\"/>\n    </g>\n    <g clip-path=\"url(#p25bdc0a5a9)\">\n     <use xlink:href=\"#C3_0_a24eed0beb\" x=\"19.575032\" y=\"357.902826\" style=\"fill: #f14432\"/>\n    </g>\n    <g clip-path=\"url(#p25bdc0a5a9)\">\n     <use xlink:href=\"#C3_0_a24eed0beb\" x=\"19.575032\" y=\"346.021834\" style=\"fill: #fed9c9\"/>\n    </g>\n    <g clip-path=\"url(#p25bdc0a5a9)\">\n     <use xlink:href=\"#C3_0_a24eed0beb\" x=\"19.575032\" y=\"334.140843\" style=\"fill: #fee5d8\"/>\n    </g>\n    <g clip-path=\"url(#p25bdc0a5a9)\">\n     <use xlink:href=\"#C3_0_a24eed0beb\" x=\"19.575032\" y=\"322.259851\" style=\"fill: #fff5f0\"/>\n    </g>\n    <g clip-path=\"url(#p25bdc0a5a9)\">\n     <use xlink:href=\"#C3_0_a24eed0beb\" x=\"19.575032\" y=\"310.378859\" style=\"fill: #fff5f0\"/>\n    </g>\n    <g clip-path=\"url(#p25bdc0a5a9)\">\n     <use xlink:href=\"#C3_0_a24eed0beb\" x=\"19.575032\" y=\"298.497867\" style=\"fill: #fff5f0\"/>\n    </g>\n    <g clip-path=\"url(#p25bdc0a5a9)\">\n     <use xlink:href=\"#C3_0_a24eed0beb\" x=\"26.425941\" y=\"417.307785\" style=\"fill: #fff5f0\"/>\n    </g>\n    <g clip-path=\"url(#p25bdc0a5a9)\">\n     <use xlink:href=\"#C3_0_a24eed0beb\" x=\"26.425941\" y=\"405.426793\" style=\"fill: #fc8a6a\"/>\n    </g>\n    <g clip-path=\"url(#p25bdc0a5a9)\">\n     <use xlink:href=\"#C3_0_a24eed0beb\" x=\"26.425941\" y=\"393.545801\" style=\"fill: #fff5f0\"/>\n    </g>\n    <g clip-path=\"url(#p25bdc0a5a9)\">\n     <use xlink:href=\"#C3_0_a24eed0beb\" x=\"26.425941\" y=\"381.66481\" style=\"fill: #fed9c9\"/>\n    </g>\n    <g clip-path=\"url(#p25bdc0a5a9)\">\n     <use xlink:href=\"#C3_0_a24eed0beb\" x=\"26.425941\" y=\"369.783818\" style=\"fill: #d92523\"/>\n    </g>\n    <g clip-path=\"url(#p25bdc0a5a9)\">\n     <use xlink:href=\"#C3_0_a24eed0beb\" x=\"26.425941\" y=\"357.902826\" style=\"fill: #bc141a\"/>\n    </g>\n    <g clip-path=\"url(#p25bdc0a5a9)\">\n     <use xlink:href=\"#C3_0_a24eed0beb\" x=\"26.425941\" y=\"346.021834\" style=\"fill: #bc141a\"/>\n    </g>\n    <g clip-path=\"url(#p25bdc0a5a9)\">\n     <use xlink:href=\"#C3_0_a24eed0beb\" x=\"26.425941\" y=\"334.140843\" style=\"fill: #ffede5\"/>\n    </g>\n    <g clip-path=\"url(#p25bdc0a5a9)\">\n     <use xlink:href=\"#C3_0_a24eed0beb\" x=\"26.425941\" y=\"322.259851\" style=\"fill: #fff5f0\"/>\n    </g>\n    <g clip-path=\"url(#p25bdc0a5a9)\">\n     <use xlink:href=\"#C3_0_a24eed0beb\" x=\"26.425941\" y=\"310.378859\" style=\"fill: #fff5f0\"/>\n    </g>\n    <g clip-path=\"url(#p25bdc0a5a9)\">\n     <use xlink:href=\"#C3_0_a24eed0beb\" x=\"26.425941\" y=\"298.497867\" style=\"fill: #fff5f0\"/>\n    </g>\n    <g clip-path=\"url(#p25bdc0a5a9)\">\n     <use xlink:href=\"#C3_0_a24eed0beb\" x=\"33.276851\" y=\"417.307785\" style=\"fill: #fff5f0\"/>\n    </g>\n    <g clip-path=\"url(#p25bdc0a5a9)\">\n     <use xlink:href=\"#C3_0_a24eed0beb\" x=\"33.276851\" y=\"405.426793\" style=\"fill: #fff5f0\"/>\n    </g>\n    <g clip-path=\"url(#p25bdc0a5a9)\">\n     <use xlink:href=\"#C3_0_a24eed0beb\" x=\"33.276851\" y=\"393.545801\" style=\"fill: #fee5d8\"/>\n    </g>\n    <g clip-path=\"url(#p25bdc0a5a9)\">\n     <use xlink:href=\"#C3_0_a24eed0beb\" x=\"33.276851\" y=\"381.66481\" style=\"fill: #fed9c9\"/>\n    </g>\n    <g clip-path=\"url(#p25bdc0a5a9)\">\n     <use xlink:href=\"#C3_0_a24eed0beb\" x=\"33.276851\" y=\"369.783818\" style=\"fill: #fb694a\"/>\n    </g>\n    <g clip-path=\"url(#p25bdc0a5a9)\">\n     <use xlink:href=\"#C3_0_a24eed0beb\" x=\"33.276851\" y=\"357.902826\" style=\"fill: #fed9c9\"/>\n    </g>\n    <g clip-path=\"url(#p25bdc0a5a9)\">\n     <use xlink:href=\"#C3_0_a24eed0beb\" x=\"33.276851\" y=\"346.021834\" style=\"fill: #67000d\"/>\n    </g>\n    <g clip-path=\"url(#p25bdc0a5a9)\">\n     <use xlink:href=\"#C3_0_a24eed0beb\" x=\"33.276851\" y=\"334.140843\" style=\"fill: #f6583e\"/>\n    </g>\n    <g clip-path=\"url(#p25bdc0a5a9)\">\n     <use xlink:href=\"#C3_0_a24eed0beb\" x=\"33.276851\" y=\"322.259851\" style=\"fill: #fff5f0\"/>\n    </g>\n    <g clip-path=\"url(#p25bdc0a5a9)\">\n     <use xlink:href=\"#C3_0_a24eed0beb\" x=\"33.276851\" y=\"310.378859\" style=\"fill: #fff5f0\"/>\n    </g>\n    <g clip-path=\"url(#p25bdc0a5a9)\">\n     <use xlink:href=\"#C3_0_a24eed0beb\" x=\"33.276851\" y=\"298.497867\" style=\"fill: #fff5f0\"/>\n    </g>\n    <g clip-path=\"url(#p25bdc0a5a9)\">\n     <use xlink:href=\"#C3_0_a24eed0beb\" x=\"40.12776\" y=\"417.307785\" style=\"fill: #fff5f0\"/>\n    </g>\n    <g clip-path=\"url(#p25bdc0a5a9)\">\n     <use xlink:href=\"#C3_0_a24eed0beb\" x=\"40.12776\" y=\"405.426793\" style=\"fill: #ffede5\"/>\n    </g>\n    <g clip-path=\"url(#p25bdc0a5a9)\">\n     <use xlink:href=\"#C3_0_a24eed0beb\" x=\"40.12776\" y=\"393.545801\" style=\"fill: #fff5f0\"/>\n    </g>\n    <g clip-path=\"url(#p25bdc0a5a9)\">\n     <use xlink:href=\"#C3_0_a24eed0beb\" x=\"40.12776\" y=\"381.66481\" style=\"fill: #fc9b7c\"/>\n    </g>\n    <g clip-path=\"url(#p25bdc0a5a9)\">\n     <use xlink:href=\"#C3_0_a24eed0beb\" x=\"40.12776\" y=\"369.783818\" style=\"fill: #fc8a6a\"/>\n    </g>\n    <g clip-path=\"url(#p25bdc0a5a9)\">\n     <use xlink:href=\"#C3_0_a24eed0beb\" x=\"40.12776\" y=\"357.902826\" style=\"fill: #fed9c9\"/>\n    </g>\n    <g clip-path=\"url(#p25bdc0a5a9)\">\n     <use xlink:href=\"#C3_0_a24eed0beb\" x=\"40.12776\" y=\"346.021834\" style=\"fill: #f6583e\"/>\n    </g>\n    <g clip-path=\"url(#p25bdc0a5a9)\">\n     <use xlink:href=\"#C3_0_a24eed0beb\" x=\"40.12776\" y=\"334.140843\" style=\"fill: #fcab8f\"/>\n    </g>\n    <g clip-path=\"url(#p25bdc0a5a9)\">\n     <use xlink:href=\"#C3_0_a24eed0beb\" x=\"40.12776\" y=\"322.259851\" style=\"fill: #fee5d8\"/>\n    </g>\n    <g clip-path=\"url(#p25bdc0a5a9)\">\n     <use xlink:href=\"#C3_0_a24eed0beb\" x=\"40.12776\" y=\"310.378859\" style=\"fill: #fff5f0\"/>\n    </g>\n    <g clip-path=\"url(#p25bdc0a5a9)\">\n     <use xlink:href=\"#C3_0_a24eed0beb\" x=\"40.12776\" y=\"298.497867\" style=\"fill: #fff5f0\"/>\n    </g>\n    <g clip-path=\"url(#p25bdc0a5a9)\">\n     <use xlink:href=\"#C3_0_a24eed0beb\" x=\"46.978669\" y=\"417.307785\" style=\"fill: #fff5f0\"/>\n    </g>\n    <g clip-path=\"url(#p25bdc0a5a9)\">\n     <use xlink:href=\"#C3_0_a24eed0beb\" x=\"46.978669\" y=\"405.426793\" style=\"fill: #ffede5\"/>\n    </g>\n    <g clip-path=\"url(#p25bdc0a5a9)\">\n     <use xlink:href=\"#C3_0_a24eed0beb\" x=\"46.978669\" y=\"393.545801\" style=\"fill: #fdcab5\"/>\n    </g>\n    <g clip-path=\"url(#p25bdc0a5a9)\">\n     <use xlink:href=\"#C3_0_a24eed0beb\" x=\"46.978669\" y=\"381.66481\" style=\"fill: #fc9b7c\"/>\n    </g>\n    <g clip-path=\"url(#p25bdc0a5a9)\">\n     <use xlink:href=\"#C3_0_a24eed0beb\" x=\"46.978669\" y=\"369.783818\" style=\"fill: #d92523\"/>\n    </g>\n    <g clip-path=\"url(#p25bdc0a5a9)\">\n     <use xlink:href=\"#C3_0_a24eed0beb\" x=\"46.978669\" y=\"357.902826\" style=\"fill: #fcab8f\"/>\n    </g>\n    <g clip-path=\"url(#p25bdc0a5a9)\">\n     <use xlink:href=\"#C3_0_a24eed0beb\" x=\"46.978669\" y=\"346.021834\" style=\"fill: #fc9b7c\"/>\n    </g>\n    <g clip-path=\"url(#p25bdc0a5a9)\">\n     <use xlink:href=\"#C3_0_a24eed0beb\" x=\"46.978669\" y=\"334.140843\" style=\"fill: #fc8a6a\"/>\n    </g>\n    <g clip-path=\"url(#p25bdc0a5a9)\">\n     <use xlink:href=\"#C3_0_a24eed0beb\" x=\"46.978669\" y=\"322.259851\" style=\"fill: #fcbba1\"/>\n    </g>\n    <g clip-path=\"url(#p25bdc0a5a9)\">\n     <use xlink:href=\"#C3_0_a24eed0beb\" x=\"46.978669\" y=\"310.378859\" style=\"fill: #fdcab5\"/>\n    </g>\n    <g clip-path=\"url(#p25bdc0a5a9)\">\n     <use xlink:href=\"#C3_0_a24eed0beb\" x=\"46.978669\" y=\"298.497867\" style=\"fill: #fff5f0\"/>\n    </g>\n    <g clip-path=\"url(#p25bdc0a5a9)\">\n     <use xlink:href=\"#C3_0_a24eed0beb\" x=\"53.829578\" y=\"417.307785\" style=\"fill: #fc8a6a\"/>\n    </g>\n    <g clip-path=\"url(#p25bdc0a5a9)\">\n     <use xlink:href=\"#C3_0_a24eed0beb\" x=\"53.829578\" y=\"405.426793\" style=\"fill: #fc9b7c\"/>\n    </g>\n    <g clip-path=\"url(#p25bdc0a5a9)\">\n     <use xlink:href=\"#C3_0_a24eed0beb\" x=\"53.829578\" y=\"393.545801\" style=\"fill: #fdcab5\"/>\n    </g>\n    <g clip-path=\"url(#p25bdc0a5a9)\">\n     <use xlink:href=\"#C3_0_a24eed0beb\" x=\"53.829578\" y=\"381.66481\" style=\"fill: #f6583e\"/>\n    </g>\n    <g clip-path=\"url(#p25bdc0a5a9)\">\n     <use xlink:href=\"#C3_0_a24eed0beb\" x=\"53.829578\" y=\"369.783818\" style=\"fill: #fb694a\"/>\n    </g>\n    <g clip-path=\"url(#p25bdc0a5a9)\">\n     <use xlink:href=\"#C3_0_a24eed0beb\" x=\"53.829578\" y=\"357.902826\" style=\"fill: #fdcab5\"/>\n    </g>\n    <g clip-path=\"url(#p25bdc0a5a9)\">\n     <use xlink:href=\"#C3_0_a24eed0beb\" x=\"53.829578\" y=\"346.021834\" style=\"fill: #fc9b7c\"/>\n    </g>\n    <g clip-path=\"url(#p25bdc0a5a9)\">\n     <use xlink:href=\"#C3_0_a24eed0beb\" x=\"53.829578\" y=\"334.140843\" style=\"fill: #fc9b7c\"/>\n    </g>\n    <g clip-path=\"url(#p25bdc0a5a9)\">\n     <use xlink:href=\"#C3_0_a24eed0beb\" x=\"53.829578\" y=\"322.259851\" style=\"fill: #fed9c9\"/>\n    </g>\n    <g clip-path=\"url(#p25bdc0a5a9)\">\n     <use xlink:href=\"#C3_0_a24eed0beb\" x=\"53.829578\" y=\"310.378859\" style=\"fill: #fcab8f\"/>\n    </g>\n    <g clip-path=\"url(#p25bdc0a5a9)\">\n     <use xlink:href=\"#C3_0_a24eed0beb\" x=\"53.829578\" y=\"298.497867\" style=\"fill: #fff5f0\"/>\n    </g>\n    <g clip-path=\"url(#p25bdc0a5a9)\">\n     <use xlink:href=\"#C3_0_a24eed0beb\" x=\"60.680487\" y=\"417.307785\" style=\"fill: #fdcab5\"/>\n    </g>\n    <g clip-path=\"url(#p25bdc0a5a9)\">\n     <use xlink:href=\"#C3_0_a24eed0beb\" x=\"60.680487\" y=\"405.426793\" style=\"fill: #d92523\"/>\n    </g>\n    <g clip-path=\"url(#p25bdc0a5a9)\">\n     <use xlink:href=\"#C3_0_a24eed0beb\" x=\"60.680487\" y=\"393.545801\" style=\"fill: #fb7a5a\"/>\n    </g>\n    <g clip-path=\"url(#p25bdc0a5a9)\">\n     <use xlink:href=\"#C3_0_a24eed0beb\" x=\"60.680487\" y=\"381.66481\" style=\"fill: #fb694a\"/>\n    </g>\n    <g clip-path=\"url(#p25bdc0a5a9)\">\n     <use xlink:href=\"#C3_0_a24eed0beb\" x=\"60.680487\" y=\"369.783818\" style=\"fill: #d92523\"/>\n    </g>\n    <g clip-path=\"url(#p25bdc0a5a9)\">\n     <use xlink:href=\"#C3_0_a24eed0beb\" x=\"60.680487\" y=\"357.902826\" style=\"fill: #e83429\"/>\n    </g>\n    <g clip-path=\"url(#p25bdc0a5a9)\">\n     <use xlink:href=\"#C3_0_a24eed0beb\" x=\"60.680487\" y=\"346.021834\" style=\"fill: #fcab8f\"/>\n    </g>\n    <g clip-path=\"url(#p25bdc0a5a9)\">\n     <use xlink:href=\"#C3_0_a24eed0beb\" x=\"60.680487\" y=\"334.140843\" style=\"fill: #f14432\"/>\n    </g>\n    <g clip-path=\"url(#p25bdc0a5a9)\">\n     <use xlink:href=\"#C3_0_a24eed0beb\" x=\"60.680487\" y=\"322.259851\" style=\"fill: #f6583e\"/>\n    </g>\n    <g clip-path=\"url(#p25bdc0a5a9)\">\n     <use xlink:href=\"#C3_0_a24eed0beb\" x=\"60.680487\" y=\"310.378859\" style=\"fill: #fff5f0\"/>\n    </g>\n    <g clip-path=\"url(#p25bdc0a5a9)\">\n     <use xlink:href=\"#C3_0_a24eed0beb\" x=\"60.680487\" y=\"298.497867\" style=\"fill: #fff5f0\"/>\n    </g>\n    <g clip-path=\"url(#p25bdc0a5a9)\">\n     <use xlink:href=\"#C3_0_a24eed0beb\" x=\"67.531396\" y=\"417.307785\" style=\"fill: #fff5f0\"/>\n    </g>\n    <g clip-path=\"url(#p25bdc0a5a9)\">\n     <use xlink:href=\"#C3_0_a24eed0beb\" x=\"67.531396\" y=\"405.426793\" style=\"fill: #fb694a\"/>\n    </g>\n    <g clip-path=\"url(#p25bdc0a5a9)\">\n     <use xlink:href=\"#C3_0_a24eed0beb\" x=\"67.531396\" y=\"393.545801\" style=\"fill: #fed9c9\"/>\n    </g>\n    <g clip-path=\"url(#p25bdc0a5a9)\">\n     <use xlink:href=\"#C3_0_a24eed0beb\" x=\"67.531396\" y=\"381.66481\" style=\"fill: #fc8a6a\"/>\n    </g>\n    <g clip-path=\"url(#p25bdc0a5a9)\">\n     <use xlink:href=\"#C3_0_a24eed0beb\" x=\"67.531396\" y=\"369.783818\" style=\"fill: #fb694a\"/>\n    </g>\n    <g clip-path=\"url(#p25bdc0a5a9)\">\n     <use xlink:href=\"#C3_0_a24eed0beb\" x=\"67.531396\" y=\"357.902826\" style=\"fill: #fdcab5\"/>\n    </g>\n    <g clip-path=\"url(#p25bdc0a5a9)\">\n     <use xlink:href=\"#C3_0_a24eed0beb\" x=\"67.531396\" y=\"346.021834\" style=\"fill: #d92523\"/>\n    </g>\n    <g clip-path=\"url(#p25bdc0a5a9)\">\n     <use xlink:href=\"#C3_0_a24eed0beb\" x=\"67.531396\" y=\"334.140843\" style=\"fill: #fcbba1\"/>\n    </g>\n    <g clip-path=\"url(#p25bdc0a5a9)\">\n     <use xlink:href=\"#C3_0_a24eed0beb\" x=\"67.531396\" y=\"322.259851\" style=\"fill: #fcab8f\"/>\n    </g>\n    <g clip-path=\"url(#p25bdc0a5a9)\">\n     <use xlink:href=\"#C3_0_a24eed0beb\" x=\"67.531396\" y=\"310.378859\" style=\"fill: #fff5f0\"/>\n    </g>\n    <g clip-path=\"url(#p25bdc0a5a9)\">\n     <use xlink:href=\"#C3_0_a24eed0beb\" x=\"67.531396\" y=\"298.497867\" style=\"fill: #fff5f0\"/>\n    </g>\n    <g clip-path=\"url(#p25bdc0a5a9)\">\n     <use xlink:href=\"#C3_0_a24eed0beb\" x=\"74.382305\" y=\"417.307785\" style=\"fill: #fff5f0\"/>\n    </g>\n    <g clip-path=\"url(#p25bdc0a5a9)\">\n     <use xlink:href=\"#C3_0_a24eed0beb\" x=\"74.382305\" y=\"405.426793\" style=\"fill: #fcab8f\"/>\n    </g>\n    <g clip-path=\"url(#p25bdc0a5a9)\">\n     <use xlink:href=\"#C3_0_a24eed0beb\" x=\"74.382305\" y=\"393.545801\" style=\"fill: #f6583e\"/>\n    </g>\n    <g clip-path=\"url(#p25bdc0a5a9)\">\n     <use xlink:href=\"#C3_0_a24eed0beb\" x=\"74.382305\" y=\"381.66481\" style=\"fill: #e83429\"/>\n    </g>\n    <g clip-path=\"url(#p25bdc0a5a9)\">\n     <use xlink:href=\"#C3_0_a24eed0beb\" x=\"74.382305\" y=\"369.783818\" style=\"fill: #d92523\"/>\n    </g>\n    <g clip-path=\"url(#p25bdc0a5a9)\">\n     <use xlink:href=\"#C3_0_a24eed0beb\" x=\"74.382305\" y=\"357.902826\" style=\"fill: #f14432\"/>\n    </g>\n    <g clip-path=\"url(#p25bdc0a5a9)\">\n     <use xlink:href=\"#C3_0_a24eed0beb\" x=\"74.382305\" y=\"346.021834\" style=\"fill: #fc9b7c\"/>\n    </g>\n    <g clip-path=\"url(#p25bdc0a5a9)\">\n     <use xlink:href=\"#C3_0_a24eed0beb\" x=\"74.382305\" y=\"334.140843\" style=\"fill: #fc8a6a\"/>\n    </g>\n    <g clip-path=\"url(#p25bdc0a5a9)\">\n     <use xlink:href=\"#C3_0_a24eed0beb\" x=\"74.382305\" y=\"322.259851\" style=\"fill: #fdcab5\"/>\n    </g>\n    <g clip-path=\"url(#p25bdc0a5a9)\">\n     <use xlink:href=\"#C3_0_a24eed0beb\" x=\"74.382305\" y=\"310.378859\" style=\"fill: #fff5f0\"/>\n    </g>\n    <g clip-path=\"url(#p25bdc0a5a9)\">\n     <use xlink:href=\"#C3_0_a24eed0beb\" x=\"74.382305\" y=\"298.497867\" style=\"fill: #fff5f0\"/>\n    </g>\n    <g clip-path=\"url(#p25bdc0a5a9)\">\n     <use xlink:href=\"#C3_0_a24eed0beb\" x=\"81.233214\" y=\"417.307785\" style=\"fill: #fdcab5\"/>\n    </g>\n    <g clip-path=\"url(#p25bdc0a5a9)\">\n     <use xlink:href=\"#C3_0_a24eed0beb\" x=\"81.233214\" y=\"405.426793\" style=\"fill: #fc8a6a\"/>\n    </g>\n    <g clip-path=\"url(#p25bdc0a5a9)\">\n     <use xlink:href=\"#C3_0_a24eed0beb\" x=\"81.233214\" y=\"393.545801\" style=\"fill: #fc9b7c\"/>\n    </g>\n    <g clip-path=\"url(#p25bdc0a5a9)\">\n     <use xlink:href=\"#C3_0_a24eed0beb\" x=\"81.233214\" y=\"381.66481\" style=\"fill: #fb7a5a\"/>\n    </g>\n    <g clip-path=\"url(#p25bdc0a5a9)\">\n     <use xlink:href=\"#C3_0_a24eed0beb\" x=\"81.233214\" y=\"369.783818\" style=\"fill: #fc9b7c\"/>\n    </g>\n    <g clip-path=\"url(#p25bdc0a5a9)\">\n     <use xlink:href=\"#C3_0_a24eed0beb\" x=\"81.233214\" y=\"357.902826\" style=\"fill: #ffede5\"/>\n    </g>\n    <g clip-path=\"url(#p25bdc0a5a9)\">\n     <use xlink:href=\"#C3_0_a24eed0beb\" x=\"81.233214\" y=\"346.021834\" style=\"fill: #fb694a\"/>\n    </g>\n    <g clip-path=\"url(#p25bdc0a5a9)\">\n     <use xlink:href=\"#C3_0_a24eed0beb\" x=\"81.233214\" y=\"334.140843\" style=\"fill: #fcab8f\"/>\n    </g>\n    <g clip-path=\"url(#p25bdc0a5a9)\">\n     <use xlink:href=\"#C3_0_a24eed0beb\" x=\"81.233214\" y=\"322.259851\" style=\"fill: #fff5f0\"/>\n    </g>\n    <g clip-path=\"url(#p25bdc0a5a9)\">\n     <use xlink:href=\"#C3_0_a24eed0beb\" x=\"81.233214\" y=\"310.378859\" style=\"fill: #ffede5\"/>\n    </g>\n    <g clip-path=\"url(#p25bdc0a5a9)\">\n     <use xlink:href=\"#C3_0_a24eed0beb\" x=\"81.233214\" y=\"298.497867\" style=\"fill: #fff5f0\"/>\n    </g>\n    <g clip-path=\"url(#p25bdc0a5a9)\">\n     <use xlink:href=\"#C3_0_a24eed0beb\" x=\"88.084123\" y=\"417.307785\" style=\"fill: #bc141a\"/>\n    </g>\n    <g clip-path=\"url(#p25bdc0a5a9)\">\n     <use xlink:href=\"#C3_0_a24eed0beb\" x=\"88.084123\" y=\"405.426793\" style=\"fill: #fcbba1\"/>\n    </g>\n    <g clip-path=\"url(#p25bdc0a5a9)\">\n     <use xlink:href=\"#C3_0_a24eed0beb\" x=\"88.084123\" y=\"393.545801\" style=\"fill: #fc8a6a\"/>\n    </g>\n    <g clip-path=\"url(#p25bdc0a5a9)\">\n     <use xlink:href=\"#C3_0_a24eed0beb\" x=\"88.084123\" y=\"381.66481\" style=\"fill: #fcab8f\"/>\n    </g>\n    <g clip-path=\"url(#p25bdc0a5a9)\">\n     <use xlink:href=\"#C3_0_a24eed0beb\" x=\"88.084123\" y=\"369.783818\" style=\"fill: #fcab8f\"/>\n    </g>\n    <g clip-path=\"url(#p25bdc0a5a9)\">\n     <use xlink:href=\"#C3_0_a24eed0beb\" x=\"88.084123\" y=\"357.902826\" style=\"fill: #fb694a\"/>\n    </g>\n    <g clip-path=\"url(#p25bdc0a5a9)\">\n     <use xlink:href=\"#C3_0_a24eed0beb\" x=\"88.084123\" y=\"346.021834\" style=\"fill: #fdcab5\"/>\n    </g>\n    <g clip-path=\"url(#p25bdc0a5a9)\">\n     <use xlink:href=\"#C3_0_a24eed0beb\" x=\"88.084123\" y=\"334.140843\" style=\"fill: #fee5d8\"/>\n    </g>\n    <g clip-path=\"url(#p25bdc0a5a9)\">\n     <use xlink:href=\"#C3_0_a24eed0beb\" x=\"88.084123\" y=\"322.259851\" style=\"fill: #fff5f0\"/>\n    </g>\n    <g clip-path=\"url(#p25bdc0a5a9)\">\n     <use xlink:href=\"#C3_0_a24eed0beb\" x=\"88.084123\" y=\"310.378859\" style=\"fill: #fc9b7c\"/>\n    </g>\n    <g clip-path=\"url(#p25bdc0a5a9)\">\n     <use xlink:href=\"#C3_0_a24eed0beb\" x=\"88.084123\" y=\"298.497867\" style=\"fill: #fff5f0\"/>\n    </g>\n    <g clip-path=\"url(#p25bdc0a5a9)\">\n     <use xlink:href=\"#C3_0_a24eed0beb\" x=\"94.935032\" y=\"417.307785\" style=\"fill: #fb694a\"/>\n    </g>\n    <g clip-path=\"url(#p25bdc0a5a9)\">\n     <use xlink:href=\"#C3_0_a24eed0beb\" x=\"94.935032\" y=\"405.426793\" style=\"fill: #fcbba1\"/>\n    </g>\n    <g clip-path=\"url(#p25bdc0a5a9)\">\n     <use xlink:href=\"#C3_0_a24eed0beb\" x=\"94.935032\" y=\"393.545801\" style=\"fill: #fcab8f\"/>\n    </g>\n    <g clip-path=\"url(#p25bdc0a5a9)\">\n     <use xlink:href=\"#C3_0_a24eed0beb\" x=\"94.935032\" y=\"381.66481\" style=\"fill: #fcbba1\"/>\n    </g>\n    <g clip-path=\"url(#p25bdc0a5a9)\">\n     <use xlink:href=\"#C3_0_a24eed0beb\" x=\"94.935032\" y=\"369.783818\" style=\"fill: #fc8a6a\"/>\n    </g>\n    <g clip-path=\"url(#p25bdc0a5a9)\">\n     <use xlink:href=\"#C3_0_a24eed0beb\" x=\"94.935032\" y=\"357.902826\" style=\"fill: #fc9b7c\"/>\n    </g>\n    <g clip-path=\"url(#p25bdc0a5a9)\">\n     <use xlink:href=\"#C3_0_a24eed0beb\" x=\"94.935032\" y=\"346.021834\" style=\"fill: #fed9c9\"/>\n    </g>\n    <g clip-path=\"url(#p25bdc0a5a9)\">\n     <use xlink:href=\"#C3_0_a24eed0beb\" x=\"94.935032\" y=\"334.140843\" style=\"fill: #fcab8f\"/>\n    </g>\n    <g clip-path=\"url(#p25bdc0a5a9)\">\n     <use xlink:href=\"#C3_0_a24eed0beb\" x=\"94.935032\" y=\"322.259851\" style=\"fill: #fff5f0\"/>\n    </g>\n    <g clip-path=\"url(#p25bdc0a5a9)\">\n     <use xlink:href=\"#C3_0_a24eed0beb\" x=\"94.935032\" y=\"310.378859\" style=\"fill: #fff5f0\"/>\n    </g>\n    <g clip-path=\"url(#p25bdc0a5a9)\">\n     <use xlink:href=\"#C3_0_a24eed0beb\" x=\"94.935032\" y=\"298.497867\" style=\"fill: #fff5f0\"/>\n    </g>\n    <g clip-path=\"url(#p25bdc0a5a9)\">\n     <use xlink:href=\"#C3_0_a24eed0beb\" x=\"101.785941\" y=\"417.307785\" style=\"fill: #fee5d8\"/>\n    </g>\n    <g clip-path=\"url(#p25bdc0a5a9)\">\n     <use xlink:href=\"#C3_0_a24eed0beb\" x=\"101.785941\" y=\"405.426793\" style=\"fill: #fcbba1\"/>\n    </g>\n    <g clip-path=\"url(#p25bdc0a5a9)\">\n     <use xlink:href=\"#C3_0_a24eed0beb\" x=\"101.785941\" y=\"393.545801\" style=\"fill: #fc8a6a\"/>\n    </g>\n    <g clip-path=\"url(#p25bdc0a5a9)\">\n     <use xlink:href=\"#C3_0_a24eed0beb\" x=\"101.785941\" y=\"381.66481\" style=\"fill: #fdcab5\"/>\n    </g>\n    <g clip-path=\"url(#p25bdc0a5a9)\">\n     <use xlink:href=\"#C3_0_a24eed0beb\" x=\"101.785941\" y=\"369.783818\" style=\"fill: #fc9b7c\"/>\n    </g>\n    <g clip-path=\"url(#p25bdc0a5a9)\">\n     <use xlink:href=\"#C3_0_a24eed0beb\" x=\"101.785941\" y=\"357.902826\" style=\"fill: #fc9b7c\"/>\n    </g>\n    <g clip-path=\"url(#p25bdc0a5a9)\">\n     <use xlink:href=\"#C3_0_a24eed0beb\" x=\"101.785941\" y=\"346.021834\" style=\"fill: #f14432\"/>\n    </g>\n    <g clip-path=\"url(#p25bdc0a5a9)\">\n     <use xlink:href=\"#C3_0_a24eed0beb\" x=\"101.785941\" y=\"334.140843\" style=\"fill: #f6583e\"/>\n    </g>\n    <g clip-path=\"url(#p25bdc0a5a9)\">\n     <use xlink:href=\"#C3_0_a24eed0beb\" x=\"101.785941\" y=\"322.259851\" style=\"fill: #fed9c9\"/>\n    </g>\n    <g clip-path=\"url(#p25bdc0a5a9)\">\n     <use xlink:href=\"#C3_0_a24eed0beb\" x=\"101.785941\" y=\"310.378859\" style=\"fill: #fff5f0\"/>\n    </g>\n    <g clip-path=\"url(#p25bdc0a5a9)\">\n     <use xlink:href=\"#C3_0_a24eed0beb\" x=\"101.785941\" y=\"298.497867\" style=\"fill: #fff5f0\"/>\n    </g>\n    <g clip-path=\"url(#p25bdc0a5a9)\">\n     <use xlink:href=\"#C3_0_a24eed0beb\" x=\"108.636851\" y=\"417.307785\" style=\"fill: #fff5f0\"/>\n    </g>\n    <g clip-path=\"url(#p25bdc0a5a9)\">\n     <use xlink:href=\"#C3_0_a24eed0beb\" x=\"108.636851\" y=\"405.426793\" style=\"fill: #fdcab5\"/>\n    </g>\n    <g clip-path=\"url(#p25bdc0a5a9)\">\n     <use xlink:href=\"#C3_0_a24eed0beb\" x=\"108.636851\" y=\"393.545801\" style=\"fill: #fcab8f\"/>\n    </g>\n    <g clip-path=\"url(#p25bdc0a5a9)\">\n     <use xlink:href=\"#C3_0_a24eed0beb\" x=\"108.636851\" y=\"381.66481\" style=\"fill: #fdcab5\"/>\n    </g>\n    <g clip-path=\"url(#p25bdc0a5a9)\">\n     <use xlink:href=\"#C3_0_a24eed0beb\" x=\"108.636851\" y=\"369.783818\" style=\"fill: #fb7a5a\"/>\n    </g>\n    <g clip-path=\"url(#p25bdc0a5a9)\">\n     <use xlink:href=\"#C3_0_a24eed0beb\" x=\"108.636851\" y=\"357.902826\" style=\"fill: #fcbba1\"/>\n    </g>\n    <g clip-path=\"url(#p25bdc0a5a9)\">\n     <use xlink:href=\"#C3_0_a24eed0beb\" x=\"108.636851\" y=\"346.021834\" style=\"fill: #fed9c9\"/>\n    </g>\n    <g clip-path=\"url(#p25bdc0a5a9)\">\n     <use xlink:href=\"#C3_0_a24eed0beb\" x=\"108.636851\" y=\"334.140843\" style=\"fill: #fed9c9\"/>\n    </g>\n    <g clip-path=\"url(#p25bdc0a5a9)\">\n     <use xlink:href=\"#C3_0_a24eed0beb\" x=\"108.636851\" y=\"322.259851\" style=\"fill: #fcab8f\"/>\n    </g>\n    <g clip-path=\"url(#p25bdc0a5a9)\">\n     <use xlink:href=\"#C3_0_a24eed0beb\" x=\"108.636851\" y=\"310.378859\" style=\"fill: #fff5f0\"/>\n    </g>\n    <g clip-path=\"url(#p25bdc0a5a9)\">\n     <use xlink:href=\"#C3_0_a24eed0beb\" x=\"108.636851\" y=\"298.497867\" style=\"fill: #fff5f0\"/>\n    </g>\n    <g clip-path=\"url(#p25bdc0a5a9)\">\n     <use xlink:href=\"#C3_0_a24eed0beb\" x=\"115.48776\" y=\"417.307785\" style=\"fill: #fff5f0\"/>\n    </g>\n    <g clip-path=\"url(#p25bdc0a5a9)\">\n     <use xlink:href=\"#C3_0_a24eed0beb\" x=\"115.48776\" y=\"405.426793\" style=\"fill: #f6583e\"/>\n    </g>\n    <g clip-path=\"url(#p25bdc0a5a9)\">\n     <use xlink:href=\"#C3_0_a24eed0beb\" x=\"115.48776\" y=\"393.545801\" style=\"fill: #f6583e\"/>\n    </g>\n    <g clip-path=\"url(#p25bdc0a5a9)\">\n     <use xlink:href=\"#C3_0_a24eed0beb\" x=\"115.48776\" y=\"381.66481\" style=\"fill: #fb694a\"/>\n    </g>\n    <g clip-path=\"url(#p25bdc0a5a9)\">\n     <use xlink:href=\"#C3_0_a24eed0beb\" x=\"115.48776\" y=\"369.783818\" style=\"fill: #fb7a5a\"/>\n    </g>\n    <g clip-path=\"url(#p25bdc0a5a9)\">\n     <use xlink:href=\"#C3_0_a24eed0beb\" x=\"115.48776\" y=\"357.902826\" style=\"fill: #fc9b7c\"/>\n    </g>\n    <g clip-path=\"url(#p25bdc0a5a9)\">\n     <use xlink:href=\"#C3_0_a24eed0beb\" x=\"115.48776\" y=\"346.021834\" style=\"fill: #fc9b7c\"/>\n    </g>\n    <g clip-path=\"url(#p25bdc0a5a9)\">\n     <use xlink:href=\"#C3_0_a24eed0beb\" x=\"115.48776\" y=\"334.140843\" style=\"fill: #fed9c9\"/>\n    </g>\n    <g clip-path=\"url(#p25bdc0a5a9)\">\n     <use xlink:href=\"#C3_0_a24eed0beb\" x=\"115.48776\" y=\"322.259851\" style=\"fill: #ffede5\"/>\n    </g>\n    <g clip-path=\"url(#p25bdc0a5a9)\">\n     <use xlink:href=\"#C3_0_a24eed0beb\" x=\"115.48776\" y=\"310.378859\" style=\"fill: #fff5f0\"/>\n    </g>\n    <g clip-path=\"url(#p25bdc0a5a9)\">\n     <use xlink:href=\"#C3_0_a24eed0beb\" x=\"115.48776\" y=\"298.497867\" style=\"fill: #fff5f0\"/>\n    </g>\n    <g clip-path=\"url(#p25bdc0a5a9)\">\n     <use xlink:href=\"#C3_0_a24eed0beb\" x=\"122.338669\" y=\"417.307785\" style=\"fill: #fff5f0\"/>\n    </g>\n    <g clip-path=\"url(#p25bdc0a5a9)\">\n     <use xlink:href=\"#C3_0_a24eed0beb\" x=\"122.338669\" y=\"405.426793\" style=\"fill: #fed9c9\"/>\n    </g>\n    <g clip-path=\"url(#p25bdc0a5a9)\">\n     <use xlink:href=\"#C3_0_a24eed0beb\" x=\"122.338669\" y=\"393.545801\" style=\"fill: #e83429\"/>\n    </g>\n    <g clip-path=\"url(#p25bdc0a5a9)\">\n     <use xlink:href=\"#C3_0_a24eed0beb\" x=\"122.338669\" y=\"381.66481\" style=\"fill: #fc9b7c\"/>\n    </g>\n    <g clip-path=\"url(#p25bdc0a5a9)\">\n     <use xlink:href=\"#C3_0_a24eed0beb\" x=\"122.338669\" y=\"369.783818\" style=\"fill: #fb7a5a\"/>\n    </g>\n    <g clip-path=\"url(#p25bdc0a5a9)\">\n     <use xlink:href=\"#C3_0_a24eed0beb\" x=\"122.338669\" y=\"357.902826\" style=\"fill: #e83429\"/>\n    </g>\n    <g clip-path=\"url(#p25bdc0a5a9)\">\n     <use xlink:href=\"#C3_0_a24eed0beb\" x=\"122.338669\" y=\"346.021834\" style=\"fill: #fb7a5a\"/>\n    </g>\n    <g clip-path=\"url(#p25bdc0a5a9)\">\n     <use xlink:href=\"#C3_0_a24eed0beb\" x=\"122.338669\" y=\"334.140843\" style=\"fill: #fcbba1\"/>\n    </g>\n    <g clip-path=\"url(#p25bdc0a5a9)\">\n     <use xlink:href=\"#C3_0_a24eed0beb\" x=\"122.338669\" y=\"322.259851\" style=\"fill: #fee5d8\"/>\n    </g>\n    <g clip-path=\"url(#p25bdc0a5a9)\">\n     <use xlink:href=\"#C3_0_a24eed0beb\" x=\"122.338669\" y=\"310.378859\" style=\"fill: #fff5f0\"/>\n    </g>\n    <g clip-path=\"url(#p25bdc0a5a9)\">\n     <use xlink:href=\"#C3_0_a24eed0beb\" x=\"122.338669\" y=\"298.497867\" style=\"fill: #fff5f0\"/>\n    </g>\n    <g clip-path=\"url(#p25bdc0a5a9)\">\n     <use xlink:href=\"#C3_0_a24eed0beb\" x=\"129.189578\" y=\"417.307785\" style=\"fill: #fee5d8\"/>\n    </g>\n    <g clip-path=\"url(#p25bdc0a5a9)\">\n     <use xlink:href=\"#C3_0_a24eed0beb\" x=\"129.189578\" y=\"405.426793\" style=\"fill: #fff5f0\"/>\n    </g>\n    <g clip-path=\"url(#p25bdc0a5a9)\">\n     <use xlink:href=\"#C3_0_a24eed0beb\" x=\"129.189578\" y=\"393.545801\" style=\"fill: #e83429\"/>\n    </g>\n    <g clip-path=\"url(#p25bdc0a5a9)\">\n     <use xlink:href=\"#C3_0_a24eed0beb\" x=\"129.189578\" y=\"381.66481\" style=\"fill: #fcab8f\"/>\n    </g>\n    <g clip-path=\"url(#p25bdc0a5a9)\">\n     <use xlink:href=\"#C3_0_a24eed0beb\" x=\"129.189578\" y=\"369.783818\" style=\"fill: #fb7a5a\"/>\n    </g>\n    <g clip-path=\"url(#p25bdc0a5a9)\">\n     <use xlink:href=\"#C3_0_a24eed0beb\" x=\"129.189578\" y=\"357.902826\" style=\"fill: #ac1117\"/>\n    </g>\n    <g clip-path=\"url(#p25bdc0a5a9)\">\n     <use xlink:href=\"#C3_0_a24eed0beb\" x=\"129.189578\" y=\"346.021834\" style=\"fill: #fb7a5a\"/>\n    </g>\n    <g clip-path=\"url(#p25bdc0a5a9)\">\n     <use xlink:href=\"#C3_0_a24eed0beb\" x=\"129.189578\" y=\"334.140843\" style=\"fill: #fcab8f\"/>\n    </g>\n    <g clip-path=\"url(#p25bdc0a5a9)\">\n     <use xlink:href=\"#C3_0_a24eed0beb\" x=\"129.189578\" y=\"322.259851\" style=\"fill: #fee5d8\"/>\n    </g>\n    <g clip-path=\"url(#p25bdc0a5a9)\">\n     <use xlink:href=\"#C3_0_a24eed0beb\" x=\"129.189578\" y=\"310.378859\" style=\"fill: #fff5f0\"/>\n    </g>\n    <g clip-path=\"url(#p25bdc0a5a9)\">\n     <use xlink:href=\"#C3_0_a24eed0beb\" x=\"129.189578\" y=\"298.497867\" style=\"fill: #fff5f0\"/>\n    </g>\n    <g clip-path=\"url(#p25bdc0a5a9)\">\n     <use xlink:href=\"#C3_0_a24eed0beb\" x=\"136.040487\" y=\"417.307785\" style=\"fill: #fff5f0\"/>\n    </g>\n    <g clip-path=\"url(#p25bdc0a5a9)\">\n     <use xlink:href=\"#C3_0_a24eed0beb\" x=\"136.040487\" y=\"405.426793\" style=\"fill: #fcbba1\"/>\n    </g>\n    <g clip-path=\"url(#p25bdc0a5a9)\">\n     <use xlink:href=\"#C3_0_a24eed0beb\" x=\"136.040487\" y=\"393.545801\" style=\"fill: #ac1117\"/>\n    </g>\n    <g clip-path=\"url(#p25bdc0a5a9)\">\n     <use xlink:href=\"#C3_0_a24eed0beb\" x=\"136.040487\" y=\"381.66481\" style=\"fill: #fc9b7c\"/>\n    </g>\n    <g clip-path=\"url(#p25bdc0a5a9)\">\n     <use xlink:href=\"#C3_0_a24eed0beb\" x=\"136.040487\" y=\"369.783818\" style=\"fill: #fdcab5\"/>\n    </g>\n    <g clip-path=\"url(#p25bdc0a5a9)\">\n     <use xlink:href=\"#C3_0_a24eed0beb\" x=\"136.040487\" y=\"357.902826\" style=\"fill: #fc8a6a\"/>\n    </g>\n    <g clip-path=\"url(#p25bdc0a5a9)\">\n     <use xlink:href=\"#C3_0_a24eed0beb\" x=\"136.040487\" y=\"346.021834\" style=\"fill: #e83429\"/>\n    </g>\n    <g clip-path=\"url(#p25bdc0a5a9)\">\n     <use xlink:href=\"#C3_0_a24eed0beb\" x=\"136.040487\" y=\"334.140843\" style=\"fill: #f14432\"/>\n    </g>\n    <g clip-path=\"url(#p25bdc0a5a9)\">\n     <use xlink:href=\"#C3_0_a24eed0beb\" x=\"136.040487\" y=\"322.259851\" style=\"fill: #fff5f0\"/>\n    </g>\n    <g clip-path=\"url(#p25bdc0a5a9)\">\n     <use xlink:href=\"#C3_0_a24eed0beb\" x=\"136.040487\" y=\"310.378859\" style=\"fill: #fff5f0\"/>\n    </g>\n    <g clip-path=\"url(#p25bdc0a5a9)\">\n     <use xlink:href=\"#C3_0_a24eed0beb\" x=\"136.040487\" y=\"298.497867\" style=\"fill: #fff5f0\"/>\n    </g>\n    <g clip-path=\"url(#p25bdc0a5a9)\">\n     <use xlink:href=\"#C3_0_a24eed0beb\" x=\"142.891396\" y=\"417.307785\" style=\"fill: #fff5f0\"/>\n    </g>\n    <g clip-path=\"url(#p25bdc0a5a9)\">\n     <use xlink:href=\"#C3_0_a24eed0beb\" x=\"142.891396\" y=\"405.426793\" style=\"fill: #fff5f0\"/>\n    </g>\n    <g clip-path=\"url(#p25bdc0a5a9)\">\n     <use xlink:href=\"#C3_0_a24eed0beb\" x=\"142.891396\" y=\"393.545801\" style=\"fill: #fee5d8\"/>\n    </g>\n    <g clip-path=\"url(#p25bdc0a5a9)\">\n     <use xlink:href=\"#C3_0_a24eed0beb\" x=\"142.891396\" y=\"381.66481\" style=\"fill: #fc9b7c\"/>\n    </g>\n    <g clip-path=\"url(#p25bdc0a5a9)\">\n     <use xlink:href=\"#C3_0_a24eed0beb\" x=\"142.891396\" y=\"369.783818\" style=\"fill: #fff5f0\"/>\n    </g>\n    <g clip-path=\"url(#p25bdc0a5a9)\">\n     <use xlink:href=\"#C3_0_a24eed0beb\" x=\"142.891396\" y=\"357.902826\" style=\"fill: #ffede5\"/>\n    </g>\n    <g clip-path=\"url(#p25bdc0a5a9)\">\n     <use xlink:href=\"#C3_0_a24eed0beb\" x=\"142.891396\" y=\"346.021834\" style=\"fill: #ffede5\"/>\n    </g>\n    <g clip-path=\"url(#p25bdc0a5a9)\">\n     <use xlink:href=\"#C3_0_a24eed0beb\" x=\"142.891396\" y=\"334.140843\" style=\"fill: #fb7a5a\"/>\n    </g>\n    <g clip-path=\"url(#p25bdc0a5a9)\">\n     <use xlink:href=\"#C3_0_a24eed0beb\" x=\"142.891396\" y=\"322.259851\" style=\"fill: #fff5f0\"/>\n    </g>\n    <g clip-path=\"url(#p25bdc0a5a9)\">\n     <use xlink:href=\"#C3_0_a24eed0beb\" x=\"142.891396\" y=\"310.378859\" style=\"fill: #fff5f0\"/>\n    </g>\n    <g clip-path=\"url(#p25bdc0a5a9)\">\n     <use xlink:href=\"#C3_0_a24eed0beb\" x=\"142.891396\" y=\"298.497867\" style=\"fill: #fff5f0\"/>\n    </g>\n    <g clip-path=\"url(#p25bdc0a5a9)\">\n     <use xlink:href=\"#C3_0_a24eed0beb\" x=\"149.742305\" y=\"417.307785\" style=\"fill: #fff5f0\"/>\n    </g>\n    <g clip-path=\"url(#p25bdc0a5a9)\">\n     <use xlink:href=\"#C3_0_a24eed0beb\" x=\"149.742305\" y=\"405.426793\" style=\"fill: #fff5f0\"/>\n    </g>\n    <g clip-path=\"url(#p25bdc0a5a9)\">\n     <use xlink:href=\"#C3_0_a24eed0beb\" x=\"149.742305\" y=\"393.545801\" style=\"fill: #fb7a5a\"/>\n    </g>\n    <g clip-path=\"url(#p25bdc0a5a9)\">\n     <use xlink:href=\"#C3_0_a24eed0beb\" x=\"149.742305\" y=\"381.66481\" style=\"fill: #fcab8f\"/>\n    </g>\n    <g clip-path=\"url(#p25bdc0a5a9)\">\n     <use xlink:href=\"#C3_0_a24eed0beb\" x=\"149.742305\" y=\"369.783818\" style=\"fill: #fff5f0\"/>\n    </g>\n    <g clip-path=\"url(#p25bdc0a5a9)\">\n     <use xlink:href=\"#C3_0_a24eed0beb\" x=\"149.742305\" y=\"357.902826\" style=\"fill: #fff5f0\"/>\n    </g>\n    <g clip-path=\"url(#p25bdc0a5a9)\">\n     <use xlink:href=\"#C3_0_a24eed0beb\" x=\"149.742305\" y=\"346.021834\" style=\"fill: #fff5f0\"/>\n    </g>\n    <g clip-path=\"url(#p25bdc0a5a9)\">\n     <use xlink:href=\"#C3_0_a24eed0beb\" x=\"149.742305\" y=\"334.140843\" style=\"fill: #fff5f0\"/>\n    </g>\n    <g clip-path=\"url(#p25bdc0a5a9)\">\n     <use xlink:href=\"#C3_0_a24eed0beb\" x=\"149.742305\" y=\"322.259851\" style=\"fill: #fff5f0\"/>\n    </g>\n    <g clip-path=\"url(#p25bdc0a5a9)\">\n     <use xlink:href=\"#C3_0_a24eed0beb\" x=\"149.742305\" y=\"310.378859\" style=\"fill: #fff5f0\"/>\n    </g>\n    <g clip-path=\"url(#p25bdc0a5a9)\">\n     <use xlink:href=\"#C3_0_a24eed0beb\" x=\"149.742305\" y=\"298.497867\" style=\"fill: #fff5f0\"/>\n    </g>\n   </g>\n   <g id=\"matplotlib.axis_7\"/>\n   <g id=\"matplotlib.axis_8\"/>\n   <g id=\"patch_18\">\n    <path d=\"M 7.2 341.42175 \nL 7.2 197.66175 \n\" style=\"fill: none; stroke: #000000; stroke-width: 0.8; stroke-linejoin: miter; stroke-linecap: square\"/>\n   </g>\n   <g id=\"patch_19\">\n    <path d=\"M 157.92 341.42175 \nL 157.92 197.66175 \n\" style=\"fill: none; stroke: #000000; stroke-width: 0.8; stroke-linejoin: miter; stroke-linecap: square\"/>\n   </g>\n   <g id=\"patch_20\">\n    <path d=\"M 7.2 341.42175 \nL 157.92 341.42175 \n\" style=\"fill: none; stroke: #000000; stroke-width: 0.8; stroke-linejoin: miter; stroke-linecap: square\"/>\n   </g>\n   <g id=\"patch_21\">\n    <path d=\"M 7.2 197.66175 \nL 157.92 197.66175 \n\" style=\"fill: none; stroke: #000000; stroke-width: 0.8; stroke-linejoin: miter; stroke-linecap: square\"/>\n   </g>\n   <g id=\"text_4\">\n    <!-- anger -->\n    <g transform=\"translate(61.62375 191.66175) scale(0.144 -0.144)\">\n     <defs>\n      <path id=\"DejaVuSans-67\" d=\"M 2906 1791 \nQ 2906 2416 2648 2759 \nQ 2391 3103 1925 3103 \nQ 1463 3103 1205 2759 \nQ 947 2416 947 1791 \nQ 947 1169 1205 825 \nQ 1463 481 1925 481 \nQ 2391 481 2648 825 \nQ 2906 1169 2906 1791 \nz\nM 3481 434 \nQ 3481 -459 3084 -895 \nQ 2688 -1331 1869 -1331 \nQ 1566 -1331 1297 -1286 \nQ 1028 -1241 775 -1147 \nL 775 -588 \nQ 1028 -725 1275 -790 \nQ 1522 -856 1778 -856 \nQ 2344 -856 2625 -561 \nQ 2906 -266 2906 331 \nL 2906 616 \nQ 2728 306 2450 153 \nQ 2172 0 1784 0 \nQ 1141 0 747 490 \nQ 353 981 353 1791 \nQ 353 2603 747 3093 \nQ 1141 3584 1784 3584 \nQ 2172 3584 2450 3431 \nQ 2728 3278 2906 2969 \nL 2906 3500 \nL 3481 3500 \nL 3481 434 \nz\n\" transform=\"scale(0.015625)\"/>\n      <path id=\"DejaVuSans-72\" d=\"M 2631 2963 \nQ 2534 3019 2420 3045 \nQ 2306 3072 2169 3072 \nQ 1681 3072 1420 2755 \nQ 1159 2438 1159 1844 \nL 1159 0 \nL 581 0 \nL 581 3500 \nL 1159 3500 \nL 1159 2956 \nQ 1341 3275 1631 3429 \nQ 1922 3584 2338 3584 \nQ 2397 3584 2469 3576 \nQ 2541 3569 2628 3553 \nL 2631 2963 \nz\n\" transform=\"scale(0.015625)\"/>\n     </defs>\n     <use xlink:href=\"#DejaVuSans-61\"/>\n     <use xlink:href=\"#DejaVuSans-6e\" x=\"61.279297\"/>\n     <use xlink:href=\"#DejaVuSans-67\" x=\"124.658203\"/>\n     <use xlink:href=\"#DejaVuSans-65\" x=\"188.134766\"/>\n     <use xlink:href=\"#DejaVuSans-72\" x=\"249.658203\"/>\n    </g>\n   </g>\n  </g>\n  <g id=\"axes_5\">\n   <g id=\"patch_22\">\n    <path d=\"M 170.88 341.42175 \nL 321.6 341.42175 \nL 321.6 197.66175 \nL 170.88 197.66175 \nz\n\" style=\"fill: #ffffff\"/>\n   </g>\n   <g id=\"PolyCollection_5\">\n    <defs>\n     <path id=\"C4_0_4cb7ff9d9f\" d=\"M 164.298265 -88.788849 \nL 164.298265 -92.74918 \nL 160.872811 -94.729345 \nL 157.447356 -92.74918 \nL 157.447356 -88.788849 \nL 160.872811 -86.808684 \nz\n\"/>\n    </defs>\n    <g clip-path=\"url(#p32418f42b1)\">\n     <use xlink:href=\"#C4_0_4cb7ff9d9f\" x=\"16.858098\" y=\"425.656219\" style=\"fill: #fcfbfd\"/>\n    </g>\n    <g clip-path=\"url(#p32418f42b1)\">\n     <use xlink:href=\"#C4_0_4cb7ff9d9f\" x=\"16.858098\" y=\"413.775227\" style=\"fill: #fcfbfd\"/>\n    </g>\n    <g clip-path=\"url(#p32418f42b1)\">\n     <use xlink:href=\"#C4_0_4cb7ff9d9f\" x=\"16.858098\" y=\"401.894235\" style=\"fill: #fcfbfd\"/>\n    </g>\n    <g clip-path=\"url(#p32418f42b1)\">\n     <use xlink:href=\"#C4_0_4cb7ff9d9f\" x=\"16.858098\" y=\"390.013244\" style=\"fill: #fcfbfd\"/>\n    </g>\n    <g clip-path=\"url(#p32418f42b1)\">\n     <use xlink:href=\"#C4_0_4cb7ff9d9f\" x=\"16.858098\" y=\"378.132252\" style=\"fill: #eeecf5\"/>\n    </g>\n    <g clip-path=\"url(#p32418f42b1)\">\n     <use xlink:href=\"#C4_0_4cb7ff9d9f\" x=\"16.858098\" y=\"366.25126\" style=\"fill: #f3f1f7\"/>\n    </g>\n    <g clip-path=\"url(#p32418f42b1)\">\n     <use xlink:href=\"#C4_0_4cb7ff9d9f\" x=\"16.858098\" y=\"354.370268\" style=\"fill: #e7e6f1\"/>\n    </g>\n    <g clip-path=\"url(#p32418f42b1)\">\n     <use xlink:href=\"#C4_0_4cb7ff9d9f\" x=\"16.858098\" y=\"342.489277\" style=\"fill: #eeecf5\"/>\n    </g>\n    <g clip-path=\"url(#p32418f42b1)\">\n     <use xlink:href=\"#C4_0_4cb7ff9d9f\" x=\"16.858098\" y=\"330.608285\" style=\"fill: #fcfbfd\"/>\n    </g>\n    <g clip-path=\"url(#p32418f42b1)\">\n     <use xlink:href=\"#C4_0_4cb7ff9d9f\" x=\"16.858098\" y=\"318.727293\" style=\"fill: #fcfbfd\"/>\n    </g>\n    <g clip-path=\"url(#p32418f42b1)\">\n     <use xlink:href=\"#C4_0_4cb7ff9d9f\" x=\"16.858098\" y=\"306.846301\" style=\"fill: #fcfbfd\"/>\n    </g>\n    <g clip-path=\"url(#p32418f42b1)\">\n     <use xlink:href=\"#C4_0_4cb7ff9d9f\" x=\"16.858098\" y=\"294.96531\" style=\"fill: #fcfbfd\"/>\n    </g>\n    <g clip-path=\"url(#p32418f42b1)\">\n     <use xlink:href=\"#C4_0_4cb7ff9d9f\" x=\"23.709008\" y=\"425.656219\" style=\"fill: #fcfbfd\"/>\n    </g>\n    <g clip-path=\"url(#p32418f42b1)\">\n     <use xlink:href=\"#C4_0_4cb7ff9d9f\" x=\"23.709008\" y=\"413.775227\" style=\"fill: #fcfbfd\"/>\n    </g>\n    <g clip-path=\"url(#p32418f42b1)\">\n     <use xlink:href=\"#C4_0_4cb7ff9d9f\" x=\"23.709008\" y=\"401.894235\" style=\"fill: #f3f1f7\"/>\n    </g>\n    <g clip-path=\"url(#p32418f42b1)\">\n     <use xlink:href=\"#C4_0_4cb7ff9d9f\" x=\"23.709008\" y=\"390.013244\" style=\"fill: #fcfbfd\"/>\n    </g>\n    <g clip-path=\"url(#p32418f42b1)\">\n     <use xlink:href=\"#C4_0_4cb7ff9d9f\" x=\"23.709008\" y=\"378.132252\" style=\"fill: #aeacd2\"/>\n    </g>\n    <g clip-path=\"url(#p32418f42b1)\">\n     <use xlink:href=\"#C4_0_4cb7ff9d9f\" x=\"23.709008\" y=\"366.25126\" style=\"fill: #64459e\"/>\n    </g>\n    <g clip-path=\"url(#p32418f42b1)\">\n     <use xlink:href=\"#C4_0_4cb7ff9d9f\" x=\"23.709008\" y=\"354.370268\" style=\"fill: #7b74b5\"/>\n    </g>\n    <g clip-path=\"url(#p32418f42b1)\">\n     <use xlink:href=\"#C4_0_4cb7ff9d9f\" x=\"23.709008\" y=\"342.489277\" style=\"fill: #f3f1f7\"/>\n    </g>\n    <g clip-path=\"url(#p32418f42b1)\">\n     <use xlink:href=\"#C4_0_4cb7ff9d9f\" x=\"23.709008\" y=\"330.608285\" style=\"fill: #fcfbfd\"/>\n    </g>\n    <g clip-path=\"url(#p32418f42b1)\">\n     <use xlink:href=\"#C4_0_4cb7ff9d9f\" x=\"23.709008\" y=\"318.727293\" style=\"fill: #fcfbfd\"/>\n    </g>\n    <g clip-path=\"url(#p32418f42b1)\">\n     <use xlink:href=\"#C4_0_4cb7ff9d9f\" x=\"23.709008\" y=\"306.846301\" style=\"fill: #fcfbfd\"/>\n    </g>\n    <g clip-path=\"url(#p32418f42b1)\">\n     <use xlink:href=\"#C4_0_4cb7ff9d9f\" x=\"23.709008\" y=\"294.96531\" style=\"fill: #fcfbfd\"/>\n    </g>\n    <g clip-path=\"url(#p32418f42b1)\">\n     <use xlink:href=\"#C4_0_4cb7ff9d9f\" x=\"30.559917\" y=\"425.656219\" style=\"fill: #fcfbfd\"/>\n    </g>\n    <g clip-path=\"url(#p32418f42b1)\">\n     <use xlink:href=\"#C4_0_4cb7ff9d9f\" x=\"30.559917\" y=\"413.775227\" style=\"fill: #fcfbfd\"/>\n    </g>\n    <g clip-path=\"url(#p32418f42b1)\">\n     <use xlink:href=\"#C4_0_4cb7ff9d9f\" x=\"30.559917\" y=\"401.894235\" style=\"fill: #d8d8ea\"/>\n    </g>\n    <g clip-path=\"url(#p32418f42b1)\">\n     <use xlink:href=\"#C4_0_4cb7ff9d9f\" x=\"30.559917\" y=\"390.013244\" style=\"fill: #f8f6fa\"/>\n    </g>\n    <g clip-path=\"url(#p32418f42b1)\">\n     <use xlink:href=\"#C4_0_4cb7ff9d9f\" x=\"30.559917\" y=\"378.132252\" style=\"fill: #aeacd2\"/>\n    </g>\n    <g clip-path=\"url(#p32418f42b1)\">\n     <use xlink:href=\"#C4_0_4cb7ff9d9f\" x=\"30.559917\" y=\"366.25126\" style=\"fill: #8e8bc1\"/>\n    </g>\n    <g clip-path=\"url(#p32418f42b1)\">\n     <use xlink:href=\"#C4_0_4cb7ff9d9f\" x=\"30.559917\" y=\"354.370268\" style=\"fill: #c2c3df\"/>\n    </g>\n    <g clip-path=\"url(#p32418f42b1)\">\n     <use xlink:href=\"#C4_0_4cb7ff9d9f\" x=\"30.559917\" y=\"342.489277\" style=\"fill: #e0dfee\"/>\n    </g>\n    <g clip-path=\"url(#p32418f42b1)\">\n     <use xlink:href=\"#C4_0_4cb7ff9d9f\" x=\"30.559917\" y=\"330.608285\" style=\"fill: #fcfbfd\"/>\n    </g>\n    <g clip-path=\"url(#p32418f42b1)\">\n     <use xlink:href=\"#C4_0_4cb7ff9d9f\" x=\"30.559917\" y=\"318.727293\" style=\"fill: #fcfbfd\"/>\n    </g>\n    <g clip-path=\"url(#p32418f42b1)\">\n     <use xlink:href=\"#C4_0_4cb7ff9d9f\" x=\"30.559917\" y=\"306.846301\" style=\"fill: #fcfbfd\"/>\n    </g>\n    <g clip-path=\"url(#p32418f42b1)\">\n     <use xlink:href=\"#C4_0_4cb7ff9d9f\" x=\"30.559917\" y=\"294.96531\" style=\"fill: #fcfbfd\"/>\n    </g>\n    <g clip-path=\"url(#p32418f42b1)\">\n     <use xlink:href=\"#C4_0_4cb7ff9d9f\" x=\"37.410826\" y=\"425.656219\" style=\"fill: #fcfbfd\"/>\n    </g>\n    <g clip-path=\"url(#p32418f42b1)\">\n     <use xlink:href=\"#C4_0_4cb7ff9d9f\" x=\"37.410826\" y=\"413.775227\" style=\"fill: #fcfbfd\"/>\n    </g>\n    <g clip-path=\"url(#p32418f42b1)\">\n     <use xlink:href=\"#C4_0_4cb7ff9d9f\" x=\"37.410826\" y=\"401.894235\" style=\"fill: #f8f6fa\"/>\n    </g>\n    <g clip-path=\"url(#p32418f42b1)\">\n     <use xlink:href=\"#C4_0_4cb7ff9d9f\" x=\"37.410826\" y=\"390.013244\" style=\"fill: #f3f1f7\"/>\n    </g>\n    <g clip-path=\"url(#p32418f42b1)\">\n     <use xlink:href=\"#C4_0_4cb7ff9d9f\" x=\"37.410826\" y=\"378.132252\" style=\"fill: #e7e6f1\"/>\n    </g>\n    <g clip-path=\"url(#p32418f42b1)\">\n     <use xlink:href=\"#C4_0_4cb7ff9d9f\" x=\"37.410826\" y=\"366.25126\" style=\"fill: #c2c3df\"/>\n    </g>\n    <g clip-path=\"url(#p32418f42b1)\">\n     <use xlink:href=\"#C4_0_4cb7ff9d9f\" x=\"37.410826\" y=\"354.370268\" style=\"fill: #d8d8ea\"/>\n    </g>\n    <g clip-path=\"url(#p32418f42b1)\">\n     <use xlink:href=\"#C4_0_4cb7ff9d9f\" x=\"37.410826\" y=\"342.489277\" style=\"fill: #a3a0cb\"/>\n    </g>\n    <g clip-path=\"url(#p32418f42b1)\">\n     <use xlink:href=\"#C4_0_4cb7ff9d9f\" x=\"37.410826\" y=\"330.608285\" style=\"fill: #d8d8ea\"/>\n    </g>\n    <g clip-path=\"url(#p32418f42b1)\">\n     <use xlink:href=\"#C4_0_4cb7ff9d9f\" x=\"37.410826\" y=\"318.727293\" style=\"fill: #fcfbfd\"/>\n    </g>\n    <g clip-path=\"url(#p32418f42b1)\">\n     <use xlink:href=\"#C4_0_4cb7ff9d9f\" x=\"37.410826\" y=\"306.846301\" style=\"fill: #fcfbfd\"/>\n    </g>\n    <g clip-path=\"url(#p32418f42b1)\">\n     <use xlink:href=\"#C4_0_4cb7ff9d9f\" x=\"37.410826\" y=\"294.96531\" style=\"fill: #eeecf5\"/>\n    </g>\n    <g clip-path=\"url(#p32418f42b1)\">\n     <use xlink:href=\"#C4_0_4cb7ff9d9f\" x=\"44.261735\" y=\"425.656219\" style=\"fill: #fcfbfd\"/>\n    </g>\n    <g clip-path=\"url(#p32418f42b1)\">\n     <use xlink:href=\"#C4_0_4cb7ff9d9f\" x=\"44.261735\" y=\"413.775227\" style=\"fill: #fcfbfd\"/>\n    </g>\n    <g clip-path=\"url(#p32418f42b1)\">\n     <use xlink:href=\"#C4_0_4cb7ff9d9f\" x=\"44.261735\" y=\"401.894235\" style=\"fill: #e7e6f1\"/>\n    </g>\n    <g clip-path=\"url(#p32418f42b1)\">\n     <use xlink:href=\"#C4_0_4cb7ff9d9f\" x=\"44.261735\" y=\"390.013244\" style=\"fill: #e0dfee\"/>\n    </g>\n    <g clip-path=\"url(#p32418f42b1)\">\n     <use xlink:href=\"#C4_0_4cb7ff9d9f\" x=\"44.261735\" y=\"378.132252\" style=\"fill: #cecee5\"/>\n    </g>\n    <g clip-path=\"url(#p32418f42b1)\">\n     <use xlink:href=\"#C4_0_4cb7ff9d9f\" x=\"44.261735\" y=\"366.25126\" style=\"fill: #aeacd2\"/>\n    </g>\n    <g clip-path=\"url(#p32418f42b1)\">\n     <use xlink:href=\"#C4_0_4cb7ff9d9f\" x=\"44.261735\" y=\"354.370268\" style=\"fill: #c2c3df\"/>\n    </g>\n    <g clip-path=\"url(#p32418f42b1)\">\n     <use xlink:href=\"#C4_0_4cb7ff9d9f\" x=\"44.261735\" y=\"342.489277\" style=\"fill: #eeecf5\"/>\n    </g>\n    <g clip-path=\"url(#p32418f42b1)\">\n     <use xlink:href=\"#C4_0_4cb7ff9d9f\" x=\"44.261735\" y=\"330.608285\" style=\"fill: #d8d8ea\"/>\n    </g>\n    <g clip-path=\"url(#p32418f42b1)\">\n     <use xlink:href=\"#C4_0_4cb7ff9d9f\" x=\"44.261735\" y=\"318.727293\" style=\"fill: #f8f6fa\"/>\n    </g>\n    <g clip-path=\"url(#p32418f42b1)\">\n     <use xlink:href=\"#C4_0_4cb7ff9d9f\" x=\"44.261735\" y=\"306.846301\" style=\"fill: #cecee5\"/>\n    </g>\n    <g clip-path=\"url(#p32418f42b1)\">\n     <use xlink:href=\"#C4_0_4cb7ff9d9f\" x=\"44.261735\" y=\"294.96531\" style=\"fill: #fcfbfd\"/>\n    </g>\n    <g clip-path=\"url(#p32418f42b1)\">\n     <use xlink:href=\"#C4_0_4cb7ff9d9f\" x=\"51.112644\" y=\"425.656219\" style=\"fill: #fcfbfd\"/>\n    </g>\n    <g clip-path=\"url(#p32418f42b1)\">\n     <use xlink:href=\"#C4_0_4cb7ff9d9f\" x=\"51.112644\" y=\"413.775227\" style=\"fill: #fcfbfd\"/>\n    </g>\n    <g clip-path=\"url(#p32418f42b1)\">\n     <use xlink:href=\"#C4_0_4cb7ff9d9f\" x=\"51.112644\" y=\"401.894235\" style=\"fill: #eeecf5\"/>\n    </g>\n    <g clip-path=\"url(#p32418f42b1)\">\n     <use xlink:href=\"#C4_0_4cb7ff9d9f\" x=\"51.112644\" y=\"390.013244\" style=\"fill: #aeacd2\"/>\n    </g>\n    <g clip-path=\"url(#p32418f42b1)\">\n     <use xlink:href=\"#C4_0_4cb7ff9d9f\" x=\"51.112644\" y=\"378.132252\" style=\"fill: #6c54a5\"/>\n    </g>\n    <g clip-path=\"url(#p32418f42b1)\">\n     <use xlink:href=\"#C4_0_4cb7ff9d9f\" x=\"51.112644\" y=\"366.25126\" style=\"fill: #e0dfee\"/>\n    </g>\n    <g clip-path=\"url(#p32418f42b1)\">\n     <use xlink:href=\"#C4_0_4cb7ff9d9f\" x=\"51.112644\" y=\"354.370268\" style=\"fill: #b8b8d9\"/>\n    </g>\n    <g clip-path=\"url(#p32418f42b1)\">\n     <use xlink:href=\"#C4_0_4cb7ff9d9f\" x=\"51.112644\" y=\"342.489277\" style=\"fill: #f3f1f7\"/>\n    </g>\n    <g clip-path=\"url(#p32418f42b1)\">\n     <use xlink:href=\"#C4_0_4cb7ff9d9f\" x=\"51.112644\" y=\"330.608285\" style=\"fill: #f3f1f7\"/>\n    </g>\n    <g clip-path=\"url(#p32418f42b1)\">\n     <use xlink:href=\"#C4_0_4cb7ff9d9f\" x=\"51.112644\" y=\"318.727293\" style=\"fill: #f3f1f7\"/>\n    </g>\n    <g clip-path=\"url(#p32418f42b1)\">\n     <use xlink:href=\"#C4_0_4cb7ff9d9f\" x=\"51.112644\" y=\"306.846301\" style=\"fill: #c2c3df\"/>\n    </g>\n    <g clip-path=\"url(#p32418f42b1)\">\n     <use xlink:href=\"#C4_0_4cb7ff9d9f\" x=\"51.112644\" y=\"294.96531\" style=\"fill: #fcfbfd\"/>\n    </g>\n    <g clip-path=\"url(#p32418f42b1)\">\n     <use xlink:href=\"#C4_0_4cb7ff9d9f\" x=\"57.963553\" y=\"425.656219\" style=\"fill: #fcfbfd\"/>\n    </g>\n    <g clip-path=\"url(#p32418f42b1)\">\n     <use xlink:href=\"#C4_0_4cb7ff9d9f\" x=\"57.963553\" y=\"413.775227\" style=\"fill: #e0dfee\"/>\n    </g>\n    <g clip-path=\"url(#p32418f42b1)\">\n     <use xlink:href=\"#C4_0_4cb7ff9d9f\" x=\"57.963553\" y=\"401.894235\" style=\"fill: #f8f6fa\"/>\n    </g>\n    <g clip-path=\"url(#p32418f42b1)\">\n     <use xlink:href=\"#C4_0_4cb7ff9d9f\" x=\"57.963553\" y=\"390.013244\" style=\"fill: #e7e6f1\"/>\n    </g>\n    <g clip-path=\"url(#p32418f42b1)\">\n     <use xlink:href=\"#C4_0_4cb7ff9d9f\" x=\"57.963553\" y=\"378.132252\" style=\"fill: #8e8bc1\"/>\n    </g>\n    <g clip-path=\"url(#p32418f42b1)\">\n     <use xlink:href=\"#C4_0_4cb7ff9d9f\" x=\"57.963553\" y=\"366.25126\" style=\"fill: #e0dfee\"/>\n    </g>\n    <g clip-path=\"url(#p32418f42b1)\">\n     <use xlink:href=\"#C4_0_4cb7ff9d9f\" x=\"57.963553\" y=\"354.370268\" style=\"fill: #d8d8ea\"/>\n    </g>\n    <g clip-path=\"url(#p32418f42b1)\">\n     <use xlink:href=\"#C4_0_4cb7ff9d9f\" x=\"57.963553\" y=\"342.489277\" style=\"fill: #c2c3df\"/>\n    </g>\n    <g clip-path=\"url(#p32418f42b1)\">\n     <use xlink:href=\"#C4_0_4cb7ff9d9f\" x=\"57.963553\" y=\"330.608285\" style=\"fill: #c2c3df\"/>\n    </g>\n    <g clip-path=\"url(#p32418f42b1)\">\n     <use xlink:href=\"#C4_0_4cb7ff9d9f\" x=\"57.963553\" y=\"318.727293\" style=\"fill: #f8f6fa\"/>\n    </g>\n    <g clip-path=\"url(#p32418f42b1)\">\n     <use xlink:href=\"#C4_0_4cb7ff9d9f\" x=\"57.963553\" y=\"306.846301\" style=\"fill: #fcfbfd\"/>\n    </g>\n    <g clip-path=\"url(#p32418f42b1)\">\n     <use xlink:href=\"#C4_0_4cb7ff9d9f\" x=\"57.963553\" y=\"294.96531\" style=\"fill: #fcfbfd\"/>\n    </g>\n    <g clip-path=\"url(#p32418f42b1)\">\n     <use xlink:href=\"#C4_0_4cb7ff9d9f\" x=\"64.814462\" y=\"425.656219\" style=\"fill: #fcfbfd\"/>\n    </g>\n    <g clip-path=\"url(#p32418f42b1)\">\n     <use xlink:href=\"#C4_0_4cb7ff9d9f\" x=\"64.814462\" y=\"413.775227\" style=\"fill: #f3f1f7\"/>\n    </g>\n    <g clip-path=\"url(#p32418f42b1)\">\n     <use xlink:href=\"#C4_0_4cb7ff9d9f\" x=\"64.814462\" y=\"401.894235\" style=\"fill: #e0dfee\"/>\n    </g>\n    <g clip-path=\"url(#p32418f42b1)\">\n     <use xlink:href=\"#C4_0_4cb7ff9d9f\" x=\"64.814462\" y=\"390.013244\" style=\"fill: #c2c3df\"/>\n    </g>\n    <g clip-path=\"url(#p32418f42b1)\">\n     <use xlink:href=\"#C4_0_4cb7ff9d9f\" x=\"64.814462\" y=\"378.132252\" style=\"fill: #cecee5\"/>\n    </g>\n    <g clip-path=\"url(#p32418f42b1)\">\n     <use xlink:href=\"#C4_0_4cb7ff9d9f\" x=\"64.814462\" y=\"366.25126\" style=\"fill: #eeecf5\"/>\n    </g>\n    <g clip-path=\"url(#p32418f42b1)\">\n     <use xlink:href=\"#C4_0_4cb7ff9d9f\" x=\"64.814462\" y=\"354.370268\" style=\"fill: #d8d8ea\"/>\n    </g>\n    <g clip-path=\"url(#p32418f42b1)\">\n     <use xlink:href=\"#C4_0_4cb7ff9d9f\" x=\"64.814462\" y=\"342.489277\" style=\"fill: #a3a0cb\"/>\n    </g>\n    <g clip-path=\"url(#p32418f42b1)\">\n     <use xlink:href=\"#C4_0_4cb7ff9d9f\" x=\"64.814462\" y=\"330.608285\" style=\"fill: #f3f1f7\"/>\n    </g>\n    <g clip-path=\"url(#p32418f42b1)\">\n     <use xlink:href=\"#C4_0_4cb7ff9d9f\" x=\"64.814462\" y=\"318.727293\" style=\"fill: #fcfbfd\"/>\n    </g>\n    <g clip-path=\"url(#p32418f42b1)\">\n     <use xlink:href=\"#C4_0_4cb7ff9d9f\" x=\"64.814462\" y=\"306.846301\" style=\"fill: #fcfbfd\"/>\n    </g>\n    <g clip-path=\"url(#p32418f42b1)\">\n     <use xlink:href=\"#C4_0_4cb7ff9d9f\" x=\"64.814462\" y=\"294.96531\" style=\"fill: #fcfbfd\"/>\n    </g>\n    <g clip-path=\"url(#p32418f42b1)\">\n     <use xlink:href=\"#C4_0_4cb7ff9d9f\" x=\"71.665371\" y=\"425.656219\" style=\"fill: #fcfbfd\"/>\n    </g>\n    <g clip-path=\"url(#p32418f42b1)\">\n     <use xlink:href=\"#C4_0_4cb7ff9d9f\" x=\"71.665371\" y=\"413.775227\" style=\"fill: #fcfbfd\"/>\n    </g>\n    <g clip-path=\"url(#p32418f42b1)\">\n     <use xlink:href=\"#C4_0_4cb7ff9d9f\" x=\"71.665371\" y=\"401.894235\" style=\"fill: #b8b8d9\"/>\n    </g>\n    <g clip-path=\"url(#p32418f42b1)\">\n     <use xlink:href=\"#C4_0_4cb7ff9d9f\" x=\"71.665371\" y=\"390.013244\" style=\"fill: #d8d8ea\"/>\n    </g>\n    <g clip-path=\"url(#p32418f42b1)\">\n     <use xlink:href=\"#C4_0_4cb7ff9d9f\" x=\"71.665371\" y=\"378.132252\" style=\"fill: #b8b8d9\"/>\n    </g>\n    <g clip-path=\"url(#p32418f42b1)\">\n     <use xlink:href=\"#C4_0_4cb7ff9d9f\" x=\"71.665371\" y=\"366.25126\" style=\"fill: #cecee5\"/>\n    </g>\n    <g clip-path=\"url(#p32418f42b1)\">\n     <use xlink:href=\"#C4_0_4cb7ff9d9f\" x=\"71.665371\" y=\"354.370268\" style=\"fill: #aeacd2\"/>\n    </g>\n    <g clip-path=\"url(#p32418f42b1)\">\n     <use xlink:href=\"#C4_0_4cb7ff9d9f\" x=\"71.665371\" y=\"342.489277\" style=\"fill: #cecee5\"/>\n    </g>\n    <g clip-path=\"url(#p32418f42b1)\">\n     <use xlink:href=\"#C4_0_4cb7ff9d9f\" x=\"71.665371\" y=\"330.608285\" style=\"fill: #eeecf5\"/>\n    </g>\n    <g clip-path=\"url(#p32418f42b1)\">\n     <use xlink:href=\"#C4_0_4cb7ff9d9f\" x=\"71.665371\" y=\"318.727293\" style=\"fill: #fcfbfd\"/>\n    </g>\n    <g clip-path=\"url(#p32418f42b1)\">\n     <use xlink:href=\"#C4_0_4cb7ff9d9f\" x=\"71.665371\" y=\"306.846301\" style=\"fill: #fcfbfd\"/>\n    </g>\n    <g clip-path=\"url(#p32418f42b1)\">\n     <use xlink:href=\"#C4_0_4cb7ff9d9f\" x=\"71.665371\" y=\"294.96531\" style=\"fill: #fcfbfd\"/>\n    </g>\n    <g clip-path=\"url(#p32418f42b1)\">\n     <use xlink:href=\"#C4_0_4cb7ff9d9f\" x=\"78.51628\" y=\"425.656219\" style=\"fill: #fcfbfd\"/>\n    </g>\n    <g clip-path=\"url(#p32418f42b1)\">\n     <use xlink:href=\"#C4_0_4cb7ff9d9f\" x=\"78.51628\" y=\"413.775227\" style=\"fill: #f8f6fa\"/>\n    </g>\n    <g clip-path=\"url(#p32418f42b1)\">\n     <use xlink:href=\"#C4_0_4cb7ff9d9f\" x=\"78.51628\" y=\"401.894235\" style=\"fill: #b8b8d9\"/>\n    </g>\n    <g clip-path=\"url(#p32418f42b1)\">\n     <use xlink:href=\"#C4_0_4cb7ff9d9f\" x=\"78.51628\" y=\"390.013244\" style=\"fill: #a3a0cb\"/>\n    </g>\n    <g clip-path=\"url(#p32418f42b1)\">\n     <use xlink:href=\"#C4_0_4cb7ff9d9f\" x=\"78.51628\" y=\"378.132252\" style=\"fill: #9995c6\"/>\n    </g>\n    <g clip-path=\"url(#p32418f42b1)\">\n     <use xlink:href=\"#C4_0_4cb7ff9d9f\" x=\"78.51628\" y=\"366.25126\" style=\"fill: #a3a0cb\"/>\n    </g>\n    <g clip-path=\"url(#p32418f42b1)\">\n     <use xlink:href=\"#C4_0_4cb7ff9d9f\" x=\"78.51628\" y=\"354.370268\" style=\"fill: #f3f1f7\"/>\n    </g>\n    <g clip-path=\"url(#p32418f42b1)\">\n     <use xlink:href=\"#C4_0_4cb7ff9d9f\" x=\"78.51628\" y=\"342.489277\" style=\"fill: #d8d8ea\"/>\n    </g>\n    <g clip-path=\"url(#p32418f42b1)\">\n     <use xlink:href=\"#C4_0_4cb7ff9d9f\" x=\"78.51628\" y=\"330.608285\" style=\"fill: #a3a0cb\"/>\n    </g>\n    <g clip-path=\"url(#p32418f42b1)\">\n     <use xlink:href=\"#C4_0_4cb7ff9d9f\" x=\"78.51628\" y=\"318.727293\" style=\"fill: #fcfbfd\"/>\n    </g>\n    <g clip-path=\"url(#p32418f42b1)\">\n     <use xlink:href=\"#C4_0_4cb7ff9d9f\" x=\"78.51628\" y=\"306.846301\" style=\"fill: #fcfbfd\"/>\n    </g>\n    <g clip-path=\"url(#p32418f42b1)\">\n     <use xlink:href=\"#C4_0_4cb7ff9d9f\" x=\"78.51628\" y=\"294.96531\" style=\"fill: #f3f1f7\"/>\n    </g>\n    <g clip-path=\"url(#p32418f42b1)\">\n     <use xlink:href=\"#C4_0_4cb7ff9d9f\" x=\"85.367189\" y=\"425.656219\" style=\"fill: #f3f1f7\"/>\n    </g>\n    <g clip-path=\"url(#p32418f42b1)\">\n     <use xlink:href=\"#C4_0_4cb7ff9d9f\" x=\"85.367189\" y=\"413.775227\" style=\"fill: #cecee5\"/>\n    </g>\n    <g clip-path=\"url(#p32418f42b1)\">\n     <use xlink:href=\"#C4_0_4cb7ff9d9f\" x=\"85.367189\" y=\"401.894235\" style=\"fill: #eeecf5\"/>\n    </g>\n    <g clip-path=\"url(#p32418f42b1)\">\n     <use xlink:href=\"#C4_0_4cb7ff9d9f\" x=\"85.367189\" y=\"390.013244\" style=\"fill: #aeacd2\"/>\n    </g>\n    <g clip-path=\"url(#p32418f42b1)\">\n     <use xlink:href=\"#C4_0_4cb7ff9d9f\" x=\"85.367189\" y=\"378.132252\" style=\"fill: #cecee5\"/>\n    </g>\n    <g clip-path=\"url(#p32418f42b1)\">\n     <use xlink:href=\"#C4_0_4cb7ff9d9f\" x=\"85.367189\" y=\"366.25126\" style=\"fill: #e7e6f1\"/>\n    </g>\n    <g clip-path=\"url(#p32418f42b1)\">\n     <use xlink:href=\"#C4_0_4cb7ff9d9f\" x=\"85.367189\" y=\"354.370268\" style=\"fill: #d8d8ea\"/>\n    </g>\n    <g clip-path=\"url(#p32418f42b1)\">\n     <use xlink:href=\"#C4_0_4cb7ff9d9f\" x=\"85.367189\" y=\"342.489277\" style=\"fill: #8e8bc1\"/>\n    </g>\n    <g clip-path=\"url(#p32418f42b1)\">\n     <use xlink:href=\"#C4_0_4cb7ff9d9f\" x=\"85.367189\" y=\"330.608285\" style=\"fill: #f3f1f7\"/>\n    </g>\n    <g clip-path=\"url(#p32418f42b1)\">\n     <use xlink:href=\"#C4_0_4cb7ff9d9f\" x=\"85.367189\" y=\"318.727293\" style=\"fill: #f8f6fa\"/>\n    </g>\n    <g clip-path=\"url(#p32418f42b1)\">\n     <use xlink:href=\"#C4_0_4cb7ff9d9f\" x=\"85.367189\" y=\"306.846301\" style=\"fill: #fcfbfd\"/>\n    </g>\n    <g clip-path=\"url(#p32418f42b1)\">\n     <use xlink:href=\"#C4_0_4cb7ff9d9f\" x=\"85.367189\" y=\"294.96531\" style=\"fill: #fcfbfd\"/>\n    </g>\n    <g clip-path=\"url(#p32418f42b1)\">\n     <use xlink:href=\"#C4_0_4cb7ff9d9f\" x=\"92.218098\" y=\"425.656219\" style=\"fill: #f8f6fa\"/>\n    </g>\n    <g clip-path=\"url(#p32418f42b1)\">\n     <use xlink:href=\"#C4_0_4cb7ff9d9f\" x=\"92.218098\" y=\"413.775227\" style=\"fill: #9995c6\"/>\n    </g>\n    <g clip-path=\"url(#p32418f42b1)\">\n     <use xlink:href=\"#C4_0_4cb7ff9d9f\" x=\"92.218098\" y=\"401.894235\" style=\"fill: #aeacd2\"/>\n    </g>\n    <g clip-path=\"url(#p32418f42b1)\">\n     <use xlink:href=\"#C4_0_4cb7ff9d9f\" x=\"92.218098\" y=\"390.013244\" style=\"fill: #b8b8d9\"/>\n    </g>\n    <g clip-path=\"url(#p32418f42b1)\">\n     <use xlink:href=\"#C4_0_4cb7ff9d9f\" x=\"92.218098\" y=\"378.132252\" style=\"fill: #e0dfee\"/>\n    </g>\n    <g clip-path=\"url(#p32418f42b1)\">\n     <use xlink:href=\"#C4_0_4cb7ff9d9f\" x=\"92.218098\" y=\"366.25126\" style=\"fill: #f8f6fa\"/>\n    </g>\n    <g clip-path=\"url(#p32418f42b1)\">\n     <use xlink:href=\"#C4_0_4cb7ff9d9f\" x=\"92.218098\" y=\"354.370268\" style=\"fill: #cecee5\"/>\n    </g>\n    <g clip-path=\"url(#p32418f42b1)\">\n     <use xlink:href=\"#C4_0_4cb7ff9d9f\" x=\"92.218098\" y=\"342.489277\" style=\"fill: #f3f1f7\"/>\n    </g>\n    <g clip-path=\"url(#p32418f42b1)\">\n     <use xlink:href=\"#C4_0_4cb7ff9d9f\" x=\"92.218098\" y=\"330.608285\" style=\"fill: #f3f1f7\"/>\n    </g>\n    <g clip-path=\"url(#p32418f42b1)\">\n     <use xlink:href=\"#C4_0_4cb7ff9d9f\" x=\"92.218098\" y=\"318.727293\" style=\"fill: #fcfbfd\"/>\n    </g>\n    <g clip-path=\"url(#p32418f42b1)\">\n     <use xlink:href=\"#C4_0_4cb7ff9d9f\" x=\"92.218098\" y=\"306.846301\" style=\"fill: #fcfbfd\"/>\n    </g>\n    <g clip-path=\"url(#p32418f42b1)\">\n     <use xlink:href=\"#C4_0_4cb7ff9d9f\" x=\"92.218098\" y=\"294.96531\" style=\"fill: #fcfbfd\"/>\n    </g>\n    <g clip-path=\"url(#p32418f42b1)\">\n     <use xlink:href=\"#C4_0_4cb7ff9d9f\" x=\"99.069008\" y=\"425.656219\" style=\"fill: #fcfbfd\"/>\n    </g>\n    <g clip-path=\"url(#p32418f42b1)\">\n     <use xlink:href=\"#C4_0_4cb7ff9d9f\" x=\"99.069008\" y=\"413.775227\" style=\"fill: #b8b8d9\"/>\n    </g>\n    <g clip-path=\"url(#p32418f42b1)\">\n     <use xlink:href=\"#C4_0_4cb7ff9d9f\" x=\"99.069008\" y=\"401.894235\" style=\"fill: #cecee5\"/>\n    </g>\n    <g clip-path=\"url(#p32418f42b1)\">\n     <use xlink:href=\"#C4_0_4cb7ff9d9f\" x=\"99.069008\" y=\"390.013244\" style=\"fill: #8e8bc1\"/>\n    </g>\n    <g clip-path=\"url(#p32418f42b1)\">\n     <use xlink:href=\"#C4_0_4cb7ff9d9f\" x=\"99.069008\" y=\"378.132252\" style=\"fill: #8481bc\"/>\n    </g>\n    <g clip-path=\"url(#p32418f42b1)\">\n     <use xlink:href=\"#C4_0_4cb7ff9d9f\" x=\"99.069008\" y=\"366.25126\" style=\"fill: #eeecf5\"/>\n    </g>\n    <g clip-path=\"url(#p32418f42b1)\">\n     <use xlink:href=\"#C4_0_4cb7ff9d9f\" x=\"99.069008\" y=\"354.370268\" style=\"fill: #cecee5\"/>\n    </g>\n    <g clip-path=\"url(#p32418f42b1)\">\n     <use xlink:href=\"#C4_0_4cb7ff9d9f\" x=\"99.069008\" y=\"342.489277\" style=\"fill: #f3f1f7\"/>\n    </g>\n    <g clip-path=\"url(#p32418f42b1)\">\n     <use xlink:href=\"#C4_0_4cb7ff9d9f\" x=\"99.069008\" y=\"330.608285\" style=\"fill: #b8b8d9\"/>\n    </g>\n    <g clip-path=\"url(#p32418f42b1)\">\n     <use xlink:href=\"#C4_0_4cb7ff9d9f\" x=\"99.069008\" y=\"318.727293\" style=\"fill: #fcfbfd\"/>\n    </g>\n    <g clip-path=\"url(#p32418f42b1)\">\n     <use xlink:href=\"#C4_0_4cb7ff9d9f\" x=\"99.069008\" y=\"306.846301\" style=\"fill: #fcfbfd\"/>\n    </g>\n    <g clip-path=\"url(#p32418f42b1)\">\n     <use xlink:href=\"#C4_0_4cb7ff9d9f\" x=\"99.069008\" y=\"294.96531\" style=\"fill: #fcfbfd\"/>\n    </g>\n    <g clip-path=\"url(#p32418f42b1)\">\n     <use xlink:href=\"#C4_0_4cb7ff9d9f\" x=\"105.919917\" y=\"425.656219\" style=\"fill: #fcfbfd\"/>\n    </g>\n    <g clip-path=\"url(#p32418f42b1)\">\n     <use xlink:href=\"#C4_0_4cb7ff9d9f\" x=\"105.919917\" y=\"413.775227\" style=\"fill: #f3f1f7\"/>\n    </g>\n    <g clip-path=\"url(#p32418f42b1)\">\n     <use xlink:href=\"#C4_0_4cb7ff9d9f\" x=\"105.919917\" y=\"401.894235\" style=\"fill: #c2c3df\"/>\n    </g>\n    <g clip-path=\"url(#p32418f42b1)\">\n     <use xlink:href=\"#C4_0_4cb7ff9d9f\" x=\"105.919917\" y=\"390.013244\" style=\"fill: #7b74b5\"/>\n    </g>\n    <g clip-path=\"url(#p32418f42b1)\">\n     <use xlink:href=\"#C4_0_4cb7ff9d9f\" x=\"105.919917\" y=\"378.132252\" style=\"fill: #cecee5\"/>\n    </g>\n    <g clip-path=\"url(#p32418f42b1)\">\n     <use xlink:href=\"#C4_0_4cb7ff9d9f\" x=\"105.919917\" y=\"366.25126\" style=\"fill: #b8b8d9\"/>\n    </g>\n    <g clip-path=\"url(#p32418f42b1)\">\n     <use xlink:href=\"#C4_0_4cb7ff9d9f\" x=\"105.919917\" y=\"354.370268\" style=\"fill: #eeecf5\"/>\n    </g>\n    <g clip-path=\"url(#p32418f42b1)\">\n     <use xlink:href=\"#C4_0_4cb7ff9d9f\" x=\"105.919917\" y=\"342.489277\" style=\"fill: #eeecf5\"/>\n    </g>\n    <g clip-path=\"url(#p32418f42b1)\">\n     <use xlink:href=\"#C4_0_4cb7ff9d9f\" x=\"105.919917\" y=\"330.608285\" style=\"fill: #c2c3df\"/>\n    </g>\n    <g clip-path=\"url(#p32418f42b1)\">\n     <use xlink:href=\"#C4_0_4cb7ff9d9f\" x=\"105.919917\" y=\"318.727293\" style=\"fill: #f8f6fa\"/>\n    </g>\n    <g clip-path=\"url(#p32418f42b1)\">\n     <use xlink:href=\"#C4_0_4cb7ff9d9f\" x=\"105.919917\" y=\"306.846301\" style=\"fill: #fcfbfd\"/>\n    </g>\n    <g clip-path=\"url(#p32418f42b1)\">\n     <use xlink:href=\"#C4_0_4cb7ff9d9f\" x=\"105.919917\" y=\"294.96531\" style=\"fill: #fcfbfd\"/>\n    </g>\n    <g clip-path=\"url(#p32418f42b1)\">\n     <use xlink:href=\"#C4_0_4cb7ff9d9f\" x=\"112.770826\" y=\"425.656219\" style=\"fill: #fcfbfd\"/>\n    </g>\n    <g clip-path=\"url(#p32418f42b1)\">\n     <use xlink:href=\"#C4_0_4cb7ff9d9f\" x=\"112.770826\" y=\"413.775227\" style=\"fill: #fcfbfd\"/>\n    </g>\n    <g clip-path=\"url(#p32418f42b1)\">\n     <use xlink:href=\"#C4_0_4cb7ff9d9f\" x=\"112.770826\" y=\"401.894235\" style=\"fill: #b8b8d9\"/>\n    </g>\n    <g clip-path=\"url(#p32418f42b1)\">\n     <use xlink:href=\"#C4_0_4cb7ff9d9f\" x=\"112.770826\" y=\"390.013244\" style=\"fill: #64459e\"/>\n    </g>\n    <g clip-path=\"url(#p32418f42b1)\">\n     <use xlink:href=\"#C4_0_4cb7ff9d9f\" x=\"112.770826\" y=\"378.132252\" style=\"fill: #cecee5\"/>\n    </g>\n    <g clip-path=\"url(#p32418f42b1)\">\n     <use xlink:href=\"#C4_0_4cb7ff9d9f\" x=\"112.770826\" y=\"366.25126\" style=\"fill: #9995c6\"/>\n    </g>\n    <g clip-path=\"url(#p32418f42b1)\">\n     <use xlink:href=\"#C4_0_4cb7ff9d9f\" x=\"112.770826\" y=\"354.370268\" style=\"fill: #f8f6fa\"/>\n    </g>\n    <g clip-path=\"url(#p32418f42b1)\">\n     <use xlink:href=\"#C4_0_4cb7ff9d9f\" x=\"112.770826\" y=\"342.489277\" style=\"fill: #d8d8ea\"/>\n    </g>\n    <g clip-path=\"url(#p32418f42b1)\">\n     <use xlink:href=\"#C4_0_4cb7ff9d9f\" x=\"112.770826\" y=\"330.608285\" style=\"fill: #c2c3df\"/>\n    </g>\n    <g clip-path=\"url(#p32418f42b1)\">\n     <use xlink:href=\"#C4_0_4cb7ff9d9f\" x=\"112.770826\" y=\"318.727293\" style=\"fill: #fcfbfd\"/>\n    </g>\n    <g clip-path=\"url(#p32418f42b1)\">\n     <use xlink:href=\"#C4_0_4cb7ff9d9f\" x=\"112.770826\" y=\"306.846301\" style=\"fill: #fcfbfd\"/>\n    </g>\n    <g clip-path=\"url(#p32418f42b1)\">\n     <use xlink:href=\"#C4_0_4cb7ff9d9f\" x=\"112.770826\" y=\"294.96531\" style=\"fill: #fcfbfd\"/>\n    </g>\n    <g clip-path=\"url(#p32418f42b1)\">\n     <use xlink:href=\"#C4_0_4cb7ff9d9f\" x=\"119.621735\" y=\"425.656219\" style=\"fill: #fcfbfd\"/>\n    </g>\n    <g clip-path=\"url(#p32418f42b1)\">\n     <use xlink:href=\"#C4_0_4cb7ff9d9f\" x=\"119.621735\" y=\"413.775227\" style=\"fill: #f8f6fa\"/>\n    </g>\n    <g clip-path=\"url(#p32418f42b1)\">\n     <use xlink:href=\"#C4_0_4cb7ff9d9f\" x=\"119.621735\" y=\"401.894235\" style=\"fill: #f3f1f7\"/>\n    </g>\n    <g clip-path=\"url(#p32418f42b1)\">\n     <use xlink:href=\"#C4_0_4cb7ff9d9f\" x=\"119.621735\" y=\"390.013244\" style=\"fill: #a3a0cb\"/>\n    </g>\n    <g clip-path=\"url(#p32418f42b1)\">\n     <use xlink:href=\"#C4_0_4cb7ff9d9f\" x=\"119.621735\" y=\"378.132252\" style=\"fill: #8481bc\"/>\n    </g>\n    <g clip-path=\"url(#p32418f42b1)\">\n     <use xlink:href=\"#C4_0_4cb7ff9d9f\" x=\"119.621735\" y=\"366.25126\" style=\"fill: #b8b8d9\"/>\n    </g>\n    <g clip-path=\"url(#p32418f42b1)\">\n     <use xlink:href=\"#C4_0_4cb7ff9d9f\" x=\"119.621735\" y=\"354.370268\" style=\"fill: #b8b8d9\"/>\n    </g>\n    <g clip-path=\"url(#p32418f42b1)\">\n     <use xlink:href=\"#C4_0_4cb7ff9d9f\" x=\"119.621735\" y=\"342.489277\" style=\"fill: #d8d8ea\"/>\n    </g>\n    <g clip-path=\"url(#p32418f42b1)\">\n     <use xlink:href=\"#C4_0_4cb7ff9d9f\" x=\"119.621735\" y=\"330.608285\" style=\"fill: #e7e6f1\"/>\n    </g>\n    <g clip-path=\"url(#p32418f42b1)\">\n     <use xlink:href=\"#C4_0_4cb7ff9d9f\" x=\"119.621735\" y=\"318.727293\" style=\"fill: #fcfbfd\"/>\n    </g>\n    <g clip-path=\"url(#p32418f42b1)\">\n     <use xlink:href=\"#C4_0_4cb7ff9d9f\" x=\"119.621735\" y=\"306.846301\" style=\"fill: #fcfbfd\"/>\n    </g>\n    <g clip-path=\"url(#p32418f42b1)\">\n     <use xlink:href=\"#C4_0_4cb7ff9d9f\" x=\"119.621735\" y=\"294.96531\" style=\"fill: #fcfbfd\"/>\n    </g>\n    <g clip-path=\"url(#p32418f42b1)\">\n     <use xlink:href=\"#C4_0_4cb7ff9d9f\" x=\"126.472644\" y=\"425.656219\" style=\"fill: #fcfbfd\"/>\n    </g>\n    <g clip-path=\"url(#p32418f42b1)\">\n     <use xlink:href=\"#C4_0_4cb7ff9d9f\" x=\"126.472644\" y=\"413.775227\" style=\"fill: #f3f1f7\"/>\n    </g>\n    <g clip-path=\"url(#p32418f42b1)\">\n     <use xlink:href=\"#C4_0_4cb7ff9d9f\" x=\"126.472644\" y=\"401.894235\" style=\"fill: #f8f6fa\"/>\n    </g>\n    <g clip-path=\"url(#p32418f42b1)\">\n     <use xlink:href=\"#C4_0_4cb7ff9d9f\" x=\"126.472644\" y=\"390.013244\" style=\"fill: #9995c6\"/>\n    </g>\n    <g clip-path=\"url(#p32418f42b1)\">\n     <use xlink:href=\"#C4_0_4cb7ff9d9f\" x=\"126.472644\" y=\"378.132252\" style=\"fill: #cecee5\"/>\n    </g>\n    <g clip-path=\"url(#p32418f42b1)\">\n     <use xlink:href=\"#C4_0_4cb7ff9d9f\" x=\"126.472644\" y=\"366.25126\" style=\"fill: #cecee5\"/>\n    </g>\n    <g clip-path=\"url(#p32418f42b1)\">\n     <use xlink:href=\"#C4_0_4cb7ff9d9f\" x=\"126.472644\" y=\"354.370268\" style=\"fill: #a3a0cb\"/>\n    </g>\n    <g clip-path=\"url(#p32418f42b1)\">\n     <use xlink:href=\"#C4_0_4cb7ff9d9f\" x=\"126.472644\" y=\"342.489277\" style=\"fill: #aeacd2\"/>\n    </g>\n    <g clip-path=\"url(#p32418f42b1)\">\n     <use xlink:href=\"#C4_0_4cb7ff9d9f\" x=\"126.472644\" y=\"330.608285\" style=\"fill: #b8b8d9\"/>\n    </g>\n    <g clip-path=\"url(#p32418f42b1)\">\n     <use xlink:href=\"#C4_0_4cb7ff9d9f\" x=\"126.472644\" y=\"318.727293\" style=\"fill: #fcfbfd\"/>\n    </g>\n    <g clip-path=\"url(#p32418f42b1)\">\n     <use xlink:href=\"#C4_0_4cb7ff9d9f\" x=\"126.472644\" y=\"306.846301\" style=\"fill: #fcfbfd\"/>\n    </g>\n    <g clip-path=\"url(#p32418f42b1)\">\n     <use xlink:href=\"#C4_0_4cb7ff9d9f\" x=\"126.472644\" y=\"294.96531\" style=\"fill: #fcfbfd\"/>\n    </g>\n    <g clip-path=\"url(#p32418f42b1)\">\n     <use xlink:href=\"#C4_0_4cb7ff9d9f\" x=\"133.323553\" y=\"425.656219\" style=\"fill: #fcfbfd\"/>\n    </g>\n    <g clip-path=\"url(#p32418f42b1)\">\n     <use xlink:href=\"#C4_0_4cb7ff9d9f\" x=\"133.323553\" y=\"413.775227\" style=\"fill: #fcfbfd\"/>\n    </g>\n    <g clip-path=\"url(#p32418f42b1)\">\n     <use xlink:href=\"#C4_0_4cb7ff9d9f\" x=\"133.323553\" y=\"401.894235\" style=\"fill: #eeecf5\"/>\n    </g>\n    <g clip-path=\"url(#p32418f42b1)\">\n     <use xlink:href=\"#C4_0_4cb7ff9d9f\" x=\"133.323553\" y=\"390.013244\" style=\"fill: #8e8bc1\"/>\n    </g>\n    <g clip-path=\"url(#p32418f42b1)\">\n     <use xlink:href=\"#C4_0_4cb7ff9d9f\" x=\"133.323553\" y=\"378.132252\" style=\"fill: #b8b8d9\"/>\n    </g>\n    <g clip-path=\"url(#p32418f42b1)\">\n     <use xlink:href=\"#C4_0_4cb7ff9d9f\" x=\"133.323553\" y=\"366.25126\" style=\"fill: #b8b8d9\"/>\n    </g>\n    <g clip-path=\"url(#p32418f42b1)\">\n     <use xlink:href=\"#C4_0_4cb7ff9d9f\" x=\"133.323553\" y=\"354.370268\" style=\"fill: #7363ad\"/>\n    </g>\n    <g clip-path=\"url(#p32418f42b1)\">\n     <use xlink:href=\"#C4_0_4cb7ff9d9f\" x=\"133.323553\" y=\"342.489277\" style=\"fill: #aeacd2\"/>\n    </g>\n    <g clip-path=\"url(#p32418f42b1)\">\n     <use xlink:href=\"#C4_0_4cb7ff9d9f\" x=\"133.323553\" y=\"330.608285\" style=\"fill: #f3f1f7\"/>\n    </g>\n    <g clip-path=\"url(#p32418f42b1)\">\n     <use xlink:href=\"#C4_0_4cb7ff9d9f\" x=\"133.323553\" y=\"318.727293\" style=\"fill: #fcfbfd\"/>\n    </g>\n    <g clip-path=\"url(#p32418f42b1)\">\n     <use xlink:href=\"#C4_0_4cb7ff9d9f\" x=\"133.323553\" y=\"306.846301\" style=\"fill: #fcfbfd\"/>\n    </g>\n    <g clip-path=\"url(#p32418f42b1)\">\n     <use xlink:href=\"#C4_0_4cb7ff9d9f\" x=\"133.323553\" y=\"294.96531\" style=\"fill: #fcfbfd\"/>\n    </g>\n    <g clip-path=\"url(#p32418f42b1)\">\n     <use xlink:href=\"#C4_0_4cb7ff9d9f\" x=\"140.174462\" y=\"425.656219\" style=\"fill: #fcfbfd\"/>\n    </g>\n    <g clip-path=\"url(#p32418f42b1)\">\n     <use xlink:href=\"#C4_0_4cb7ff9d9f\" x=\"140.174462\" y=\"413.775227\" style=\"fill: #fcfbfd\"/>\n    </g>\n    <g clip-path=\"url(#p32418f42b1)\">\n     <use xlink:href=\"#C4_0_4cb7ff9d9f\" x=\"140.174462\" y=\"401.894235\" style=\"fill: #e7e6f1\"/>\n    </g>\n    <g clip-path=\"url(#p32418f42b1)\">\n     <use xlink:href=\"#C4_0_4cb7ff9d9f\" x=\"140.174462\" y=\"390.013244\" style=\"fill: #c2c3df\"/>\n    </g>\n    <g clip-path=\"url(#p32418f42b1)\">\n     <use xlink:href=\"#C4_0_4cb7ff9d9f\" x=\"140.174462\" y=\"378.132252\" style=\"fill: #eeecf5\"/>\n    </g>\n    <g clip-path=\"url(#p32418f42b1)\">\n     <use xlink:href=\"#C4_0_4cb7ff9d9f\" x=\"140.174462\" y=\"366.25126\" style=\"fill: #fcfbfd\"/>\n    </g>\n    <g clip-path=\"url(#p32418f42b1)\">\n     <use xlink:href=\"#C4_0_4cb7ff9d9f\" x=\"140.174462\" y=\"354.370268\" style=\"fill: #f8f6fa\"/>\n    </g>\n    <g clip-path=\"url(#p32418f42b1)\">\n     <use xlink:href=\"#C4_0_4cb7ff9d9f\" x=\"140.174462\" y=\"342.489277\" style=\"fill: #eeecf5\"/>\n    </g>\n    <g clip-path=\"url(#p32418f42b1)\">\n     <use xlink:href=\"#C4_0_4cb7ff9d9f\" x=\"140.174462\" y=\"330.608285\" style=\"fill: #cecee5\"/>\n    </g>\n    <g clip-path=\"url(#p32418f42b1)\">\n     <use xlink:href=\"#C4_0_4cb7ff9d9f\" x=\"140.174462\" y=\"318.727293\" style=\"fill: #fcfbfd\"/>\n    </g>\n    <g clip-path=\"url(#p32418f42b1)\">\n     <use xlink:href=\"#C4_0_4cb7ff9d9f\" x=\"140.174462\" y=\"306.846301\" style=\"fill: #fcfbfd\"/>\n    </g>\n    <g clip-path=\"url(#p32418f42b1)\">\n     <use xlink:href=\"#C4_0_4cb7ff9d9f\" x=\"140.174462\" y=\"294.96531\" style=\"fill: #fcfbfd\"/>\n    </g>\n    <g clip-path=\"url(#p32418f42b1)\">\n     <use xlink:href=\"#C4_0_4cb7ff9d9f\" x=\"147.025371\" y=\"425.656219\" style=\"fill: #fcfbfd\"/>\n    </g>\n    <g clip-path=\"url(#p32418f42b1)\">\n     <use xlink:href=\"#C4_0_4cb7ff9d9f\" x=\"147.025371\" y=\"413.775227\" style=\"fill: #fcfbfd\"/>\n    </g>\n    <g clip-path=\"url(#p32418f42b1)\">\n     <use xlink:href=\"#C4_0_4cb7ff9d9f\" x=\"147.025371\" y=\"401.894235\" style=\"fill: #fcfbfd\"/>\n    </g>\n    <g clip-path=\"url(#p32418f42b1)\">\n     <use xlink:href=\"#C4_0_4cb7ff9d9f\" x=\"147.025371\" y=\"390.013244\" style=\"fill: #aeacd2\"/>\n    </g>\n    <g clip-path=\"url(#p32418f42b1)\">\n     <use xlink:href=\"#C4_0_4cb7ff9d9f\" x=\"147.025371\" y=\"378.132252\" style=\"fill: #f8f6fa\"/>\n    </g>\n    <g clip-path=\"url(#p32418f42b1)\">\n     <use xlink:href=\"#C4_0_4cb7ff9d9f\" x=\"147.025371\" y=\"366.25126\" style=\"fill: #fcfbfd\"/>\n    </g>\n    <g clip-path=\"url(#p32418f42b1)\">\n     <use xlink:href=\"#C4_0_4cb7ff9d9f\" x=\"147.025371\" y=\"354.370268\" style=\"fill: #fcfbfd\"/>\n    </g>\n    <g clip-path=\"url(#p32418f42b1)\">\n     <use xlink:href=\"#C4_0_4cb7ff9d9f\" x=\"147.025371\" y=\"342.489277\" style=\"fill: #fcfbfd\"/>\n    </g>\n    <g clip-path=\"url(#p32418f42b1)\">\n     <use xlink:href=\"#C4_0_4cb7ff9d9f\" x=\"147.025371\" y=\"330.608285\" style=\"fill: #fcfbfd\"/>\n    </g>\n    <g clip-path=\"url(#p32418f42b1)\">\n     <use xlink:href=\"#C4_0_4cb7ff9d9f\" x=\"147.025371\" y=\"318.727293\" style=\"fill: #fcfbfd\"/>\n    </g>\n    <g clip-path=\"url(#p32418f42b1)\">\n     <use xlink:href=\"#C4_0_4cb7ff9d9f\" x=\"147.025371\" y=\"306.846301\" style=\"fill: #fcfbfd\"/>\n    </g>\n    <g clip-path=\"url(#p32418f42b1)\">\n     <use xlink:href=\"#C4_0_4cb7ff9d9f\" x=\"147.025371\" y=\"294.96531\" style=\"fill: #fcfbfd\"/>\n    </g>\n    <g clip-path=\"url(#p32418f42b1)\">\n     <use xlink:href=\"#C4_0_4cb7ff9d9f\" x=\"153.87628\" y=\"425.656219\" style=\"fill: #fcfbfd\"/>\n    </g>\n    <g clip-path=\"url(#p32418f42b1)\">\n     <use xlink:href=\"#C4_0_4cb7ff9d9f\" x=\"153.87628\" y=\"413.775227\" style=\"fill: #fcfbfd\"/>\n    </g>\n    <g clip-path=\"url(#p32418f42b1)\">\n     <use xlink:href=\"#C4_0_4cb7ff9d9f\" x=\"153.87628\" y=\"401.894235\" style=\"fill: #fcfbfd\"/>\n    </g>\n    <g clip-path=\"url(#p32418f42b1)\">\n     <use xlink:href=\"#C4_0_4cb7ff9d9f\" x=\"153.87628\" y=\"390.013244\" style=\"fill: #fcfbfd\"/>\n    </g>\n    <g clip-path=\"url(#p32418f42b1)\">\n     <use xlink:href=\"#C4_0_4cb7ff9d9f\" x=\"153.87628\" y=\"378.132252\" style=\"fill: #fcfbfd\"/>\n    </g>\n    <g clip-path=\"url(#p32418f42b1)\">\n     <use xlink:href=\"#C4_0_4cb7ff9d9f\" x=\"153.87628\" y=\"366.25126\" style=\"fill: #fcfbfd\"/>\n    </g>\n    <g clip-path=\"url(#p32418f42b1)\">\n     <use xlink:href=\"#C4_0_4cb7ff9d9f\" x=\"153.87628\" y=\"354.370268\" style=\"fill: #fcfbfd\"/>\n    </g>\n    <g clip-path=\"url(#p32418f42b1)\">\n     <use xlink:href=\"#C4_0_4cb7ff9d9f\" x=\"153.87628\" y=\"342.489277\" style=\"fill: #fcfbfd\"/>\n    </g>\n    <g clip-path=\"url(#p32418f42b1)\">\n     <use xlink:href=\"#C4_0_4cb7ff9d9f\" x=\"153.87628\" y=\"330.608285\" style=\"fill: #fcfbfd\"/>\n    </g>\n    <g clip-path=\"url(#p32418f42b1)\">\n     <use xlink:href=\"#C4_0_4cb7ff9d9f\" x=\"153.87628\" y=\"318.727293\" style=\"fill: #fcfbfd\"/>\n    </g>\n    <g clip-path=\"url(#p32418f42b1)\">\n     <use xlink:href=\"#C4_0_4cb7ff9d9f\" x=\"153.87628\" y=\"306.846301\" style=\"fill: #fcfbfd\"/>\n    </g>\n    <g clip-path=\"url(#p32418f42b1)\">\n     <use xlink:href=\"#C4_0_4cb7ff9d9f\" x=\"153.87628\" y=\"294.96531\" style=\"fill: #fcfbfd\"/>\n    </g>\n    <g clip-path=\"url(#p32418f42b1)\">\n     <use xlink:href=\"#C4_0_4cb7ff9d9f\" x=\"20.283553\" y=\"419.715723\" style=\"fill: #fcfbfd\"/>\n    </g>\n    <g clip-path=\"url(#p32418f42b1)\">\n     <use xlink:href=\"#C4_0_4cb7ff9d9f\" x=\"20.283553\" y=\"407.834731\" style=\"fill: #fcfbfd\"/>\n    </g>\n    <g clip-path=\"url(#p32418f42b1)\">\n     <use xlink:href=\"#C4_0_4cb7ff9d9f\" x=\"20.283553\" y=\"395.95374\" style=\"fill: #fcfbfd\"/>\n    </g>\n    <g clip-path=\"url(#p32418f42b1)\">\n     <use xlink:href=\"#C4_0_4cb7ff9d9f\" x=\"20.283553\" y=\"384.072748\" style=\"fill: #e7e6f1\"/>\n    </g>\n    <g clip-path=\"url(#p32418f42b1)\">\n     <use xlink:href=\"#C4_0_4cb7ff9d9f\" x=\"20.283553\" y=\"372.191756\" style=\"fill: #9995c6\"/>\n    </g>\n    <g clip-path=\"url(#p32418f42b1)\">\n     <use xlink:href=\"#C4_0_4cb7ff9d9f\" x=\"20.283553\" y=\"360.310764\" style=\"fill: #9995c6\"/>\n    </g>\n    <g clip-path=\"url(#p32418f42b1)\">\n     <use xlink:href=\"#C4_0_4cb7ff9d9f\" x=\"20.283553\" y=\"348.429773\" style=\"fill: #e0dfee\"/>\n    </g>\n    <g clip-path=\"url(#p32418f42b1)\">\n     <use xlink:href=\"#C4_0_4cb7ff9d9f\" x=\"20.283553\" y=\"336.548781\" style=\"fill: #b8b8d9\"/>\n    </g>\n    <g clip-path=\"url(#p32418f42b1)\">\n     <use xlink:href=\"#C4_0_4cb7ff9d9f\" x=\"20.283553\" y=\"324.667789\" style=\"fill: #fcfbfd\"/>\n    </g>\n    <g clip-path=\"url(#p32418f42b1)\">\n     <use xlink:href=\"#C4_0_4cb7ff9d9f\" x=\"20.283553\" y=\"312.786797\" style=\"fill: #fcfbfd\"/>\n    </g>\n    <g clip-path=\"url(#p32418f42b1)\">\n     <use xlink:href=\"#C4_0_4cb7ff9d9f\" x=\"20.283553\" y=\"300.905806\" style=\"fill: #fcfbfd\"/>\n    </g>\n    <g clip-path=\"url(#p32418f42b1)\">\n     <use xlink:href=\"#C4_0_4cb7ff9d9f\" x=\"27.134462\" y=\"419.715723\" style=\"fill: #fcfbfd\"/>\n    </g>\n    <g clip-path=\"url(#p32418f42b1)\">\n     <use xlink:href=\"#C4_0_4cb7ff9d9f\" x=\"27.134462\" y=\"407.834731\" style=\"fill: #fcfbfd\"/>\n    </g>\n    <g clip-path=\"url(#p32418f42b1)\">\n     <use xlink:href=\"#C4_0_4cb7ff9d9f\" x=\"27.134462\" y=\"395.95374\" style=\"fill: #fcfbfd\"/>\n    </g>\n    <g clip-path=\"url(#p32418f42b1)\">\n     <use xlink:href=\"#C4_0_4cb7ff9d9f\" x=\"27.134462\" y=\"384.072748\" style=\"fill: #fcfbfd\"/>\n    </g>\n    <g clip-path=\"url(#p32418f42b1)\">\n     <use xlink:href=\"#C4_0_4cb7ff9d9f\" x=\"27.134462\" y=\"372.191756\" style=\"fill: #aeacd2\"/>\n    </g>\n    <g clip-path=\"url(#p32418f42b1)\">\n     <use xlink:href=\"#C4_0_4cb7ff9d9f\" x=\"27.134462\" y=\"360.310764\" style=\"fill: #9995c6\"/>\n    </g>\n    <g clip-path=\"url(#p32418f42b1)\">\n     <use xlink:href=\"#C4_0_4cb7ff9d9f\" x=\"27.134462\" y=\"348.429773\" style=\"fill: #7b74b5\"/>\n    </g>\n    <g clip-path=\"url(#p32418f42b1)\">\n     <use xlink:href=\"#C4_0_4cb7ff9d9f\" x=\"27.134462\" y=\"336.548781\" style=\"fill: #f3f1f7\"/>\n    </g>\n    <g clip-path=\"url(#p32418f42b1)\">\n     <use xlink:href=\"#C4_0_4cb7ff9d9f\" x=\"27.134462\" y=\"324.667789\" style=\"fill: #fcfbfd\"/>\n    </g>\n    <g clip-path=\"url(#p32418f42b1)\">\n     <use xlink:href=\"#C4_0_4cb7ff9d9f\" x=\"27.134462\" y=\"312.786797\" style=\"fill: #fcfbfd\"/>\n    </g>\n    <g clip-path=\"url(#p32418f42b1)\">\n     <use xlink:href=\"#C4_0_4cb7ff9d9f\" x=\"27.134462\" y=\"300.905806\" style=\"fill: #fcfbfd\"/>\n    </g>\n    <g clip-path=\"url(#p32418f42b1)\">\n     <use xlink:href=\"#C4_0_4cb7ff9d9f\" x=\"33.985371\" y=\"419.715723\" style=\"fill: #fcfbfd\"/>\n    </g>\n    <g clip-path=\"url(#p32418f42b1)\">\n     <use xlink:href=\"#C4_0_4cb7ff9d9f\" x=\"33.985371\" y=\"407.834731\" style=\"fill: #fcfbfd\"/>\n    </g>\n    <g clip-path=\"url(#p32418f42b1)\">\n     <use xlink:href=\"#C4_0_4cb7ff9d9f\" x=\"33.985371\" y=\"395.95374\" style=\"fill: #f8f6fa\"/>\n    </g>\n    <g clip-path=\"url(#p32418f42b1)\">\n     <use xlink:href=\"#C4_0_4cb7ff9d9f\" x=\"33.985371\" y=\"384.072748\" style=\"fill: #fcfbfd\"/>\n    </g>\n    <g clip-path=\"url(#p32418f42b1)\">\n     <use xlink:href=\"#C4_0_4cb7ff9d9f\" x=\"33.985371\" y=\"372.191756\" style=\"fill: #8481bc\"/>\n    </g>\n    <g clip-path=\"url(#p32418f42b1)\">\n     <use xlink:href=\"#C4_0_4cb7ff9d9f\" x=\"33.985371\" y=\"360.310764\" style=\"fill: #e7e6f1\"/>\n    </g>\n    <g clip-path=\"url(#p32418f42b1)\">\n     <use xlink:href=\"#C4_0_4cb7ff9d9f\" x=\"33.985371\" y=\"348.429773\" style=\"fill: #8e8bc1\"/>\n    </g>\n    <g clip-path=\"url(#p32418f42b1)\">\n     <use xlink:href=\"#C4_0_4cb7ff9d9f\" x=\"33.985371\" y=\"336.548781\" style=\"fill: #b8b8d9\"/>\n    </g>\n    <g clip-path=\"url(#p32418f42b1)\">\n     <use xlink:href=\"#C4_0_4cb7ff9d9f\" x=\"33.985371\" y=\"324.667789\" style=\"fill: #fcfbfd\"/>\n    </g>\n    <g clip-path=\"url(#p32418f42b1)\">\n     <use xlink:href=\"#C4_0_4cb7ff9d9f\" x=\"33.985371\" y=\"312.786797\" style=\"fill: #fcfbfd\"/>\n    </g>\n    <g clip-path=\"url(#p32418f42b1)\">\n     <use xlink:href=\"#C4_0_4cb7ff9d9f\" x=\"33.985371\" y=\"300.905806\" style=\"fill: #fcfbfd\"/>\n    </g>\n    <g clip-path=\"url(#p32418f42b1)\">\n     <use xlink:href=\"#C4_0_4cb7ff9d9f\" x=\"40.83628\" y=\"419.715723\" style=\"fill: #fcfbfd\"/>\n    </g>\n    <g clip-path=\"url(#p32418f42b1)\">\n     <use xlink:href=\"#C4_0_4cb7ff9d9f\" x=\"40.83628\" y=\"407.834731\" style=\"fill: #fcfbfd\"/>\n    </g>\n    <g clip-path=\"url(#p32418f42b1)\">\n     <use xlink:href=\"#C4_0_4cb7ff9d9f\" x=\"40.83628\" y=\"395.95374\" style=\"fill: #eeecf5\"/>\n    </g>\n    <g clip-path=\"url(#p32418f42b1)\">\n     <use xlink:href=\"#C4_0_4cb7ff9d9f\" x=\"40.83628\" y=\"384.072748\" style=\"fill: #aeacd2\"/>\n    </g>\n    <g clip-path=\"url(#p32418f42b1)\">\n     <use xlink:href=\"#C4_0_4cb7ff9d9f\" x=\"40.83628\" y=\"372.191756\" style=\"fill: #e0dfee\"/>\n    </g>\n    <g clip-path=\"url(#p32418f42b1)\">\n     <use xlink:href=\"#C4_0_4cb7ff9d9f\" x=\"40.83628\" y=\"360.310764\" style=\"fill: #e0dfee\"/>\n    </g>\n    <g clip-path=\"url(#p32418f42b1)\">\n     <use xlink:href=\"#C4_0_4cb7ff9d9f\" x=\"40.83628\" y=\"348.429773\" style=\"fill: #cecee5\"/>\n    </g>\n    <g clip-path=\"url(#p32418f42b1)\">\n     <use xlink:href=\"#C4_0_4cb7ff9d9f\" x=\"40.83628\" y=\"336.548781\" style=\"fill: #d8d8ea\"/>\n    </g>\n    <g clip-path=\"url(#p32418f42b1)\">\n     <use xlink:href=\"#C4_0_4cb7ff9d9f\" x=\"40.83628\" y=\"324.667789\" style=\"fill: #f3f1f7\"/>\n    </g>\n    <g clip-path=\"url(#p32418f42b1)\">\n     <use xlink:href=\"#C4_0_4cb7ff9d9f\" x=\"40.83628\" y=\"312.786797\" style=\"fill: #f8f6fa\"/>\n    </g>\n    <g clip-path=\"url(#p32418f42b1)\">\n     <use xlink:href=\"#C4_0_4cb7ff9d9f\" x=\"40.83628\" y=\"300.905806\" style=\"fill: #f8f6fa\"/>\n    </g>\n    <g clip-path=\"url(#p32418f42b1)\">\n     <use xlink:href=\"#C4_0_4cb7ff9d9f\" x=\"47.687189\" y=\"419.715723\" style=\"fill: #fcfbfd\"/>\n    </g>\n    <g clip-path=\"url(#p32418f42b1)\">\n     <use xlink:href=\"#C4_0_4cb7ff9d9f\" x=\"47.687189\" y=\"407.834731\" style=\"fill: #fcfbfd\"/>\n    </g>\n    <g clip-path=\"url(#p32418f42b1)\">\n     <use xlink:href=\"#C4_0_4cb7ff9d9f\" x=\"47.687189\" y=\"395.95374\" style=\"fill: #f8f6fa\"/>\n    </g>\n    <g clip-path=\"url(#p32418f42b1)\">\n     <use xlink:href=\"#C4_0_4cb7ff9d9f\" x=\"47.687189\" y=\"384.072748\" style=\"fill: #b8b8d9\"/>\n    </g>\n    <g clip-path=\"url(#p32418f42b1)\">\n     <use xlink:href=\"#C4_0_4cb7ff9d9f\" x=\"47.687189\" y=\"372.191756\" style=\"fill: #6c54a5\"/>\n    </g>\n    <g clip-path=\"url(#p32418f42b1)\">\n     <use xlink:href=\"#C4_0_4cb7ff9d9f\" x=\"47.687189\" y=\"360.310764\" style=\"fill: #d8d8ea\"/>\n    </g>\n    <g clip-path=\"url(#p32418f42b1)\">\n     <use xlink:href=\"#C4_0_4cb7ff9d9f\" x=\"47.687189\" y=\"348.429773\" style=\"fill: #d8d8ea\"/>\n    </g>\n    <g clip-path=\"url(#p32418f42b1)\">\n     <use xlink:href=\"#C4_0_4cb7ff9d9f\" x=\"47.687189\" y=\"336.548781\" style=\"fill: #cecee5\"/>\n    </g>\n    <g clip-path=\"url(#p32418f42b1)\">\n     <use xlink:href=\"#C4_0_4cb7ff9d9f\" x=\"47.687189\" y=\"324.667789\" style=\"fill: #eeecf5\"/>\n    </g>\n    <g clip-path=\"url(#p32418f42b1)\">\n     <use xlink:href=\"#C4_0_4cb7ff9d9f\" x=\"47.687189\" y=\"312.786797\" style=\"fill: #f3f1f7\"/>\n    </g>\n    <g clip-path=\"url(#p32418f42b1)\">\n     <use xlink:href=\"#C4_0_4cb7ff9d9f\" x=\"47.687189\" y=\"300.905806\" style=\"fill: #fcfbfd\"/>\n    </g>\n    <g clip-path=\"url(#p32418f42b1)\">\n     <use xlink:href=\"#C4_0_4cb7ff9d9f\" x=\"54.538098\" y=\"419.715723\" style=\"fill: #eeecf5\"/>\n    </g>\n    <g clip-path=\"url(#p32418f42b1)\">\n     <use xlink:href=\"#C4_0_4cb7ff9d9f\" x=\"54.538098\" y=\"407.834731\" style=\"fill: #eeecf5\"/>\n    </g>\n    <g clip-path=\"url(#p32418f42b1)\">\n     <use xlink:href=\"#C4_0_4cb7ff9d9f\" x=\"54.538098\" y=\"395.95374\" style=\"fill: #cecee5\"/>\n    </g>\n    <g clip-path=\"url(#p32418f42b1)\">\n     <use xlink:href=\"#C4_0_4cb7ff9d9f\" x=\"54.538098\" y=\"384.072748\" style=\"fill: #cecee5\"/>\n    </g>\n    <g clip-path=\"url(#p32418f42b1)\">\n     <use xlink:href=\"#C4_0_4cb7ff9d9f\" x=\"54.538098\" y=\"372.191756\" style=\"fill: #c2c3df\"/>\n    </g>\n    <g clip-path=\"url(#p32418f42b1)\">\n     <use xlink:href=\"#C4_0_4cb7ff9d9f\" x=\"54.538098\" y=\"360.310764\" style=\"fill: #cecee5\"/>\n    </g>\n    <g clip-path=\"url(#p32418f42b1)\">\n     <use xlink:href=\"#C4_0_4cb7ff9d9f\" x=\"54.538098\" y=\"348.429773\" style=\"fill: #e7e6f1\"/>\n    </g>\n    <g clip-path=\"url(#p32418f42b1)\">\n     <use xlink:href=\"#C4_0_4cb7ff9d9f\" x=\"54.538098\" y=\"336.548781\" style=\"fill: #9995c6\"/>\n    </g>\n    <g clip-path=\"url(#p32418f42b1)\">\n     <use xlink:href=\"#C4_0_4cb7ff9d9f\" x=\"54.538098\" y=\"324.667789\" style=\"fill: #f3f1f7\"/>\n    </g>\n    <g clip-path=\"url(#p32418f42b1)\">\n     <use xlink:href=\"#C4_0_4cb7ff9d9f\" x=\"54.538098\" y=\"312.786797\" style=\"fill: #fcfbfd\"/>\n    </g>\n    <g clip-path=\"url(#p32418f42b1)\">\n     <use xlink:href=\"#C4_0_4cb7ff9d9f\" x=\"54.538098\" y=\"300.905806\" style=\"fill: #fcfbfd\"/>\n    </g>\n    <g clip-path=\"url(#p32418f42b1)\">\n     <use xlink:href=\"#C4_0_4cb7ff9d9f\" x=\"61.389008\" y=\"419.715723\" style=\"fill: #fcfbfd\"/>\n    </g>\n    <g clip-path=\"url(#p32418f42b1)\">\n     <use xlink:href=\"#C4_0_4cb7ff9d9f\" x=\"61.389008\" y=\"407.834731\" style=\"fill: #e7e6f1\"/>\n    </g>\n    <g clip-path=\"url(#p32418f42b1)\">\n     <use xlink:href=\"#C4_0_4cb7ff9d9f\" x=\"61.389008\" y=\"395.95374\" style=\"fill: #cecee5\"/>\n    </g>\n    <g clip-path=\"url(#p32418f42b1)\">\n     <use xlink:href=\"#C4_0_4cb7ff9d9f\" x=\"61.389008\" y=\"384.072748\" style=\"fill: #b8b8d9\"/>\n    </g>\n    <g clip-path=\"url(#p32418f42b1)\">\n     <use xlink:href=\"#C4_0_4cb7ff9d9f\" x=\"61.389008\" y=\"372.191756\" style=\"fill: #a3a0cb\"/>\n    </g>\n    <g clip-path=\"url(#p32418f42b1)\">\n     <use xlink:href=\"#C4_0_4cb7ff9d9f\" x=\"61.389008\" y=\"360.310764\" style=\"fill: #e0dfee\"/>\n    </g>\n    <g clip-path=\"url(#p32418f42b1)\">\n     <use xlink:href=\"#C4_0_4cb7ff9d9f\" x=\"61.389008\" y=\"348.429773\" style=\"fill: #a3a0cb\"/>\n    </g>\n    <g clip-path=\"url(#p32418f42b1)\">\n     <use xlink:href=\"#C4_0_4cb7ff9d9f\" x=\"61.389008\" y=\"336.548781\" style=\"fill: #c2c3df\"/>\n    </g>\n    <g clip-path=\"url(#p32418f42b1)\">\n     <use xlink:href=\"#C4_0_4cb7ff9d9f\" x=\"61.389008\" y=\"324.667789\" style=\"fill: #d8d8ea\"/>\n    </g>\n    <g clip-path=\"url(#p32418f42b1)\">\n     <use xlink:href=\"#C4_0_4cb7ff9d9f\" x=\"61.389008\" y=\"312.786797\" style=\"fill: #fcfbfd\"/>\n    </g>\n    <g clip-path=\"url(#p32418f42b1)\">\n     <use xlink:href=\"#C4_0_4cb7ff9d9f\" x=\"61.389008\" y=\"300.905806\" style=\"fill: #fcfbfd\"/>\n    </g>\n    <g clip-path=\"url(#p32418f42b1)\">\n     <use xlink:href=\"#C4_0_4cb7ff9d9f\" x=\"68.239917\" y=\"419.715723\" style=\"fill: #fcfbfd\"/>\n    </g>\n    <g clip-path=\"url(#p32418f42b1)\">\n     <use xlink:href=\"#C4_0_4cb7ff9d9f\" x=\"68.239917\" y=\"407.834731\" style=\"fill: #552890\"/>\n    </g>\n    <g clip-path=\"url(#p32418f42b1)\">\n     <use xlink:href=\"#C4_0_4cb7ff9d9f\" x=\"68.239917\" y=\"395.95374\" style=\"fill: #a3a0cb\"/>\n    </g>\n    <g clip-path=\"url(#p32418f42b1)\">\n     <use xlink:href=\"#C4_0_4cb7ff9d9f\" x=\"68.239917\" y=\"384.072748\" style=\"fill: #3f007d\"/>\n    </g>\n    <g clip-path=\"url(#p32418f42b1)\">\n     <use xlink:href=\"#C4_0_4cb7ff9d9f\" x=\"68.239917\" y=\"372.191756\" style=\"fill: #c2c3df\"/>\n    </g>\n    <g clip-path=\"url(#p32418f42b1)\">\n     <use xlink:href=\"#C4_0_4cb7ff9d9f\" x=\"68.239917\" y=\"360.310764\" style=\"fill: #7b74b5\"/>\n    </g>\n    <g clip-path=\"url(#p32418f42b1)\">\n     <use xlink:href=\"#C4_0_4cb7ff9d9f\" x=\"68.239917\" y=\"348.429773\" style=\"fill: #e0dfee\"/>\n    </g>\n    <g clip-path=\"url(#p32418f42b1)\">\n     <use xlink:href=\"#C4_0_4cb7ff9d9f\" x=\"68.239917\" y=\"336.548781\" style=\"fill: #d8d8ea\"/>\n    </g>\n    <g clip-path=\"url(#p32418f42b1)\">\n     <use xlink:href=\"#C4_0_4cb7ff9d9f\" x=\"68.239917\" y=\"324.667789\" style=\"fill: #d8d8ea\"/>\n    </g>\n    <g clip-path=\"url(#p32418f42b1)\">\n     <use xlink:href=\"#C4_0_4cb7ff9d9f\" x=\"68.239917\" y=\"312.786797\" style=\"fill: #fcfbfd\"/>\n    </g>\n    <g clip-path=\"url(#p32418f42b1)\">\n     <use xlink:href=\"#C4_0_4cb7ff9d9f\" x=\"68.239917\" y=\"300.905806\" style=\"fill: #fcfbfd\"/>\n    </g>\n    <g clip-path=\"url(#p32418f42b1)\">\n     <use xlink:href=\"#C4_0_4cb7ff9d9f\" x=\"75.090826\" y=\"419.715723\" style=\"fill: #fcfbfd\"/>\n    </g>\n    <g clip-path=\"url(#p32418f42b1)\">\n     <use xlink:href=\"#C4_0_4cb7ff9d9f\" x=\"75.090826\" y=\"407.834731\" style=\"fill: #e7e6f1\"/>\n    </g>\n    <g clip-path=\"url(#p32418f42b1)\">\n     <use xlink:href=\"#C4_0_4cb7ff9d9f\" x=\"75.090826\" y=\"395.95374\" style=\"fill: #b8b8d9\"/>\n    </g>\n    <g clip-path=\"url(#p32418f42b1)\">\n     <use xlink:href=\"#C4_0_4cb7ff9d9f\" x=\"75.090826\" y=\"384.072748\" style=\"fill: #eeecf5\"/>\n    </g>\n    <g clip-path=\"url(#p32418f42b1)\">\n     <use xlink:href=\"#C4_0_4cb7ff9d9f\" x=\"75.090826\" y=\"372.191756\" style=\"fill: #8e8bc1\"/>\n    </g>\n    <g clip-path=\"url(#p32418f42b1)\">\n     <use xlink:href=\"#C4_0_4cb7ff9d9f\" x=\"75.090826\" y=\"360.310764\" style=\"fill: #e0dfee\"/>\n    </g>\n    <g clip-path=\"url(#p32418f42b1)\">\n     <use xlink:href=\"#C4_0_4cb7ff9d9f\" x=\"75.090826\" y=\"348.429773\" style=\"fill: #b8b8d9\"/>\n    </g>\n    <g clip-path=\"url(#p32418f42b1)\">\n     <use xlink:href=\"#C4_0_4cb7ff9d9f\" x=\"75.090826\" y=\"336.548781\" style=\"fill: #e7e6f1\"/>\n    </g>\n    <g clip-path=\"url(#p32418f42b1)\">\n     <use xlink:href=\"#C4_0_4cb7ff9d9f\" x=\"75.090826\" y=\"324.667789\" style=\"fill: #e0dfee\"/>\n    </g>\n    <g clip-path=\"url(#p32418f42b1)\">\n     <use xlink:href=\"#C4_0_4cb7ff9d9f\" x=\"75.090826\" y=\"312.786797\" style=\"fill: #fcfbfd\"/>\n    </g>\n    <g clip-path=\"url(#p32418f42b1)\">\n     <use xlink:href=\"#C4_0_4cb7ff9d9f\" x=\"75.090826\" y=\"300.905806\" style=\"fill: #fcfbfd\"/>\n    </g>\n    <g clip-path=\"url(#p32418f42b1)\">\n     <use xlink:href=\"#C4_0_4cb7ff9d9f\" x=\"81.941735\" y=\"419.715723\" style=\"fill: #e0dfee\"/>\n    </g>\n    <g clip-path=\"url(#p32418f42b1)\">\n     <use xlink:href=\"#C4_0_4cb7ff9d9f\" x=\"81.941735\" y=\"407.834731\" style=\"fill: #d8d8ea\"/>\n    </g>\n    <g clip-path=\"url(#p32418f42b1)\">\n     <use xlink:href=\"#C4_0_4cb7ff9d9f\" x=\"81.941735\" y=\"395.95374\" style=\"fill: #e0dfee\"/>\n    </g>\n    <g clip-path=\"url(#p32418f42b1)\">\n     <use xlink:href=\"#C4_0_4cb7ff9d9f\" x=\"81.941735\" y=\"384.072748\" style=\"fill: #c2c3df\"/>\n    </g>\n    <g clip-path=\"url(#p32418f42b1)\">\n     <use xlink:href=\"#C4_0_4cb7ff9d9f\" x=\"81.941735\" y=\"372.191756\" style=\"fill: #e7e6f1\"/>\n    </g>\n    <g clip-path=\"url(#p32418f42b1)\">\n     <use xlink:href=\"#C4_0_4cb7ff9d9f\" x=\"81.941735\" y=\"360.310764\" style=\"fill: #eeecf5\"/>\n    </g>\n    <g clip-path=\"url(#p32418f42b1)\">\n     <use xlink:href=\"#C4_0_4cb7ff9d9f\" x=\"81.941735\" y=\"348.429773\" style=\"fill: #e7e6f1\"/>\n    </g>\n    <g clip-path=\"url(#p32418f42b1)\">\n     <use xlink:href=\"#C4_0_4cb7ff9d9f\" x=\"81.941735\" y=\"336.548781\" style=\"fill: #e0dfee\"/>\n    </g>\n    <g clip-path=\"url(#p32418f42b1)\">\n     <use xlink:href=\"#C4_0_4cb7ff9d9f\" x=\"81.941735\" y=\"324.667789\" style=\"fill: #f3f1f7\"/>\n    </g>\n    <g clip-path=\"url(#p32418f42b1)\">\n     <use xlink:href=\"#C4_0_4cb7ff9d9f\" x=\"81.941735\" y=\"312.786797\" style=\"fill: #f8f6fa\"/>\n    </g>\n    <g clip-path=\"url(#p32418f42b1)\">\n     <use xlink:href=\"#C4_0_4cb7ff9d9f\" x=\"81.941735\" y=\"300.905806\" style=\"fill: #fcfbfd\"/>\n    </g>\n    <g clip-path=\"url(#p32418f42b1)\">\n     <use xlink:href=\"#C4_0_4cb7ff9d9f\" x=\"88.792644\" y=\"419.715723\" style=\"fill: #eeecf5\"/>\n    </g>\n    <g clip-path=\"url(#p32418f42b1)\">\n     <use xlink:href=\"#C4_0_4cb7ff9d9f\" x=\"88.792644\" y=\"407.834731\" style=\"fill: #9995c6\"/>\n    </g>\n    <g clip-path=\"url(#p32418f42b1)\">\n     <use xlink:href=\"#C4_0_4cb7ff9d9f\" x=\"88.792644\" y=\"395.95374\" style=\"fill: #aeacd2\"/>\n    </g>\n    <g clip-path=\"url(#p32418f42b1)\">\n     <use xlink:href=\"#C4_0_4cb7ff9d9f\" x=\"88.792644\" y=\"384.072748\" style=\"fill: #8e8bc1\"/>\n    </g>\n    <g clip-path=\"url(#p32418f42b1)\">\n     <use xlink:href=\"#C4_0_4cb7ff9d9f\" x=\"88.792644\" y=\"372.191756\" style=\"fill: #d8d8ea\"/>\n    </g>\n    <g clip-path=\"url(#p32418f42b1)\">\n     <use xlink:href=\"#C4_0_4cb7ff9d9f\" x=\"88.792644\" y=\"360.310764\" style=\"fill: #c2c3df\"/>\n    </g>\n    <g clip-path=\"url(#p32418f42b1)\">\n     <use xlink:href=\"#C4_0_4cb7ff9d9f\" x=\"88.792644\" y=\"348.429773\" style=\"fill: #d8d8ea\"/>\n    </g>\n    <g clip-path=\"url(#p32418f42b1)\">\n     <use xlink:href=\"#C4_0_4cb7ff9d9f\" x=\"88.792644\" y=\"336.548781\" style=\"fill: #eeecf5\"/>\n    </g>\n    <g clip-path=\"url(#p32418f42b1)\">\n     <use xlink:href=\"#C4_0_4cb7ff9d9f\" x=\"88.792644\" y=\"324.667789\" style=\"fill: #fcfbfd\"/>\n    </g>\n    <g clip-path=\"url(#p32418f42b1)\">\n     <use xlink:href=\"#C4_0_4cb7ff9d9f\" x=\"88.792644\" y=\"312.786797\" style=\"fill: #cecee5\"/>\n    </g>\n    <g clip-path=\"url(#p32418f42b1)\">\n     <use xlink:href=\"#C4_0_4cb7ff9d9f\" x=\"88.792644\" y=\"300.905806\" style=\"fill: #fcfbfd\"/>\n    </g>\n    <g clip-path=\"url(#p32418f42b1)\">\n     <use xlink:href=\"#C4_0_4cb7ff9d9f\" x=\"95.643553\" y=\"419.715723\" style=\"fill: #f8f6fa\"/>\n    </g>\n    <g clip-path=\"url(#p32418f42b1)\">\n     <use xlink:href=\"#C4_0_4cb7ff9d9f\" x=\"95.643553\" y=\"407.834731\" style=\"fill: #9995c6\"/>\n    </g>\n    <g clip-path=\"url(#p32418f42b1)\">\n     <use xlink:href=\"#C4_0_4cb7ff9d9f\" x=\"95.643553\" y=\"395.95374\" style=\"fill: #b8b8d9\"/>\n    </g>\n    <g clip-path=\"url(#p32418f42b1)\">\n     <use xlink:href=\"#C4_0_4cb7ff9d9f\" x=\"95.643553\" y=\"384.072748\" style=\"fill: #d8d8ea\"/>\n    </g>\n    <g clip-path=\"url(#p32418f42b1)\">\n     <use xlink:href=\"#C4_0_4cb7ff9d9f\" x=\"95.643553\" y=\"372.191756\" style=\"fill: #eeecf5\"/>\n    </g>\n    <g clip-path=\"url(#p32418f42b1)\">\n     <use xlink:href=\"#C4_0_4cb7ff9d9f\" x=\"95.643553\" y=\"360.310764\" style=\"fill: #cecee5\"/>\n    </g>\n    <g clip-path=\"url(#p32418f42b1)\">\n     <use xlink:href=\"#C4_0_4cb7ff9d9f\" x=\"95.643553\" y=\"348.429773\" style=\"fill: #e7e6f1\"/>\n    </g>\n    <g clip-path=\"url(#p32418f42b1)\">\n     <use xlink:href=\"#C4_0_4cb7ff9d9f\" x=\"95.643553\" y=\"336.548781\" style=\"fill: #e7e6f1\"/>\n    </g>\n    <g clip-path=\"url(#p32418f42b1)\">\n     <use xlink:href=\"#C4_0_4cb7ff9d9f\" x=\"95.643553\" y=\"324.667789\" style=\"fill: #f8f6fa\"/>\n    </g>\n    <g clip-path=\"url(#p32418f42b1)\">\n     <use xlink:href=\"#C4_0_4cb7ff9d9f\" x=\"95.643553\" y=\"312.786797\" style=\"fill: #fcfbfd\"/>\n    </g>\n    <g clip-path=\"url(#p32418f42b1)\">\n     <use xlink:href=\"#C4_0_4cb7ff9d9f\" x=\"95.643553\" y=\"300.905806\" style=\"fill: #fcfbfd\"/>\n    </g>\n    <g clip-path=\"url(#p32418f42b1)\">\n     <use xlink:href=\"#C4_0_4cb7ff9d9f\" x=\"102.494462\" y=\"419.715723\" style=\"fill: #fcfbfd\"/>\n    </g>\n    <g clip-path=\"url(#p32418f42b1)\">\n     <use xlink:href=\"#C4_0_4cb7ff9d9f\" x=\"102.494462\" y=\"407.834731\" style=\"fill: #e7e6f1\"/>\n    </g>\n    <g clip-path=\"url(#p32418f42b1)\">\n     <use xlink:href=\"#C4_0_4cb7ff9d9f\" x=\"102.494462\" y=\"395.95374\" style=\"fill: #cecee5\"/>\n    </g>\n    <g clip-path=\"url(#p32418f42b1)\">\n     <use xlink:href=\"#C4_0_4cb7ff9d9f\" x=\"102.494462\" y=\"384.072748\" style=\"fill: #aeacd2\"/>\n    </g>\n    <g clip-path=\"url(#p32418f42b1)\">\n     <use xlink:href=\"#C4_0_4cb7ff9d9f\" x=\"102.494462\" y=\"372.191756\" style=\"fill: #b8b8d9\"/>\n    </g>\n    <g clip-path=\"url(#p32418f42b1)\">\n     <use xlink:href=\"#C4_0_4cb7ff9d9f\" x=\"102.494462\" y=\"360.310764\" style=\"fill: #d8d8ea\"/>\n    </g>\n    <g clip-path=\"url(#p32418f42b1)\">\n     <use xlink:href=\"#C4_0_4cb7ff9d9f\" x=\"102.494462\" y=\"348.429773\" style=\"fill: #e7e6f1\"/>\n    </g>\n    <g clip-path=\"url(#p32418f42b1)\">\n     <use xlink:href=\"#C4_0_4cb7ff9d9f\" x=\"102.494462\" y=\"336.548781\" style=\"fill: #e7e6f1\"/>\n    </g>\n    <g clip-path=\"url(#p32418f42b1)\">\n     <use xlink:href=\"#C4_0_4cb7ff9d9f\" x=\"102.494462\" y=\"324.667789\" style=\"fill: #f3f1f7\"/>\n    </g>\n    <g clip-path=\"url(#p32418f42b1)\">\n     <use xlink:href=\"#C4_0_4cb7ff9d9f\" x=\"102.494462\" y=\"312.786797\" style=\"fill: #fcfbfd\"/>\n    </g>\n    <g clip-path=\"url(#p32418f42b1)\">\n     <use xlink:href=\"#C4_0_4cb7ff9d9f\" x=\"102.494462\" y=\"300.905806\" style=\"fill: #fcfbfd\"/>\n    </g>\n    <g clip-path=\"url(#p32418f42b1)\">\n     <use xlink:href=\"#C4_0_4cb7ff9d9f\" x=\"109.345371\" y=\"419.715723\" style=\"fill: #fcfbfd\"/>\n    </g>\n    <g clip-path=\"url(#p32418f42b1)\">\n     <use xlink:href=\"#C4_0_4cb7ff9d9f\" x=\"109.345371\" y=\"407.834731\" style=\"fill: #cecee5\"/>\n    </g>\n    <g clip-path=\"url(#p32418f42b1)\">\n     <use xlink:href=\"#C4_0_4cb7ff9d9f\" x=\"109.345371\" y=\"395.95374\" style=\"fill: #c2c3df\"/>\n    </g>\n    <g clip-path=\"url(#p32418f42b1)\">\n     <use xlink:href=\"#C4_0_4cb7ff9d9f\" x=\"109.345371\" y=\"384.072748\" style=\"fill: #7b74b5\"/>\n    </g>\n    <g clip-path=\"url(#p32418f42b1)\">\n     <use xlink:href=\"#C4_0_4cb7ff9d9f\" x=\"109.345371\" y=\"372.191756\" style=\"fill: #8e8bc1\"/>\n    </g>\n    <g clip-path=\"url(#p32418f42b1)\">\n     <use xlink:href=\"#C4_0_4cb7ff9d9f\" x=\"109.345371\" y=\"360.310764\" style=\"fill: #e7e6f1\"/>\n    </g>\n    <g clip-path=\"url(#p32418f42b1)\">\n     <use xlink:href=\"#C4_0_4cb7ff9d9f\" x=\"109.345371\" y=\"348.429773\" style=\"fill: #c2c3df\"/>\n    </g>\n    <g clip-path=\"url(#p32418f42b1)\">\n     <use xlink:href=\"#C4_0_4cb7ff9d9f\" x=\"109.345371\" y=\"336.548781\" style=\"fill: #eeecf5\"/>\n    </g>\n    <g clip-path=\"url(#p32418f42b1)\">\n     <use xlink:href=\"#C4_0_4cb7ff9d9f\" x=\"109.345371\" y=\"324.667789\" style=\"fill: #9995c6\"/>\n    </g>\n    <g clip-path=\"url(#p32418f42b1)\">\n     <use xlink:href=\"#C4_0_4cb7ff9d9f\" x=\"109.345371\" y=\"312.786797\" style=\"fill: #fcfbfd\"/>\n    </g>\n    <g clip-path=\"url(#p32418f42b1)\">\n     <use xlink:href=\"#C4_0_4cb7ff9d9f\" x=\"109.345371\" y=\"300.905806\" style=\"fill: #fcfbfd\"/>\n    </g>\n    <g clip-path=\"url(#p32418f42b1)\">\n     <use xlink:href=\"#C4_0_4cb7ff9d9f\" x=\"116.19628\" y=\"419.715723\" style=\"fill: #fcfbfd\"/>\n    </g>\n    <g clip-path=\"url(#p32418f42b1)\">\n     <use xlink:href=\"#C4_0_4cb7ff9d9f\" x=\"116.19628\" y=\"407.834731\" style=\"fill: #eeecf5\"/>\n    </g>\n    <g clip-path=\"url(#p32418f42b1)\">\n     <use xlink:href=\"#C4_0_4cb7ff9d9f\" x=\"116.19628\" y=\"395.95374\" style=\"fill: #c2c3df\"/>\n    </g>\n    <g clip-path=\"url(#p32418f42b1)\">\n     <use xlink:href=\"#C4_0_4cb7ff9d9f\" x=\"116.19628\" y=\"384.072748\" style=\"fill: #8e8bc1\"/>\n    </g>\n    <g clip-path=\"url(#p32418f42b1)\">\n     <use xlink:href=\"#C4_0_4cb7ff9d9f\" x=\"116.19628\" y=\"372.191756\" style=\"fill: #6c54a5\"/>\n    </g>\n    <g clip-path=\"url(#p32418f42b1)\">\n     <use xlink:href=\"#C4_0_4cb7ff9d9f\" x=\"116.19628\" y=\"360.310764\" style=\"fill: #cecee5\"/>\n    </g>\n    <g clip-path=\"url(#p32418f42b1)\">\n     <use xlink:href=\"#C4_0_4cb7ff9d9f\" x=\"116.19628\" y=\"348.429773\" style=\"fill: #e0dfee\"/>\n    </g>\n    <g clip-path=\"url(#p32418f42b1)\">\n     <use xlink:href=\"#C4_0_4cb7ff9d9f\" x=\"116.19628\" y=\"336.548781\" style=\"fill: #cecee5\"/>\n    </g>\n    <g clip-path=\"url(#p32418f42b1)\">\n     <use xlink:href=\"#C4_0_4cb7ff9d9f\" x=\"116.19628\" y=\"324.667789\" style=\"fill: #eeecf5\"/>\n    </g>\n    <g clip-path=\"url(#p32418f42b1)\">\n     <use xlink:href=\"#C4_0_4cb7ff9d9f\" x=\"116.19628\" y=\"312.786797\" style=\"fill: #fcfbfd\"/>\n    </g>\n    <g clip-path=\"url(#p32418f42b1)\">\n     <use xlink:href=\"#C4_0_4cb7ff9d9f\" x=\"116.19628\" y=\"300.905806\" style=\"fill: #fcfbfd\"/>\n    </g>\n    <g clip-path=\"url(#p32418f42b1)\">\n     <use xlink:href=\"#C4_0_4cb7ff9d9f\" x=\"123.047189\" y=\"419.715723\" style=\"fill: #fcfbfd\"/>\n    </g>\n    <g clip-path=\"url(#p32418f42b1)\">\n     <use xlink:href=\"#C4_0_4cb7ff9d9f\" x=\"123.047189\" y=\"407.834731\" style=\"fill: #f8f6fa\"/>\n    </g>\n    <g clip-path=\"url(#p32418f42b1)\">\n     <use xlink:href=\"#C4_0_4cb7ff9d9f\" x=\"123.047189\" y=\"395.95374\" style=\"fill: #c2c3df\"/>\n    </g>\n    <g clip-path=\"url(#p32418f42b1)\">\n     <use xlink:href=\"#C4_0_4cb7ff9d9f\" x=\"123.047189\" y=\"384.072748\" style=\"fill: #aeacd2\"/>\n    </g>\n    <g clip-path=\"url(#p32418f42b1)\">\n     <use xlink:href=\"#C4_0_4cb7ff9d9f\" x=\"123.047189\" y=\"372.191756\" style=\"fill: #7363ad\"/>\n    </g>\n    <g clip-path=\"url(#p32418f42b1)\">\n     <use xlink:href=\"#C4_0_4cb7ff9d9f\" x=\"123.047189\" y=\"360.310764\" style=\"fill: #d8d8ea\"/>\n    </g>\n    <g clip-path=\"url(#p32418f42b1)\">\n     <use xlink:href=\"#C4_0_4cb7ff9d9f\" x=\"123.047189\" y=\"348.429773\" style=\"fill: #cecee5\"/>\n    </g>\n    <g clip-path=\"url(#p32418f42b1)\">\n     <use xlink:href=\"#C4_0_4cb7ff9d9f\" x=\"123.047189\" y=\"336.548781\" style=\"fill: #d8d8ea\"/>\n    </g>\n    <g clip-path=\"url(#p32418f42b1)\">\n     <use xlink:href=\"#C4_0_4cb7ff9d9f\" x=\"123.047189\" y=\"324.667789\" style=\"fill: #fcfbfd\"/>\n    </g>\n    <g clip-path=\"url(#p32418f42b1)\">\n     <use xlink:href=\"#C4_0_4cb7ff9d9f\" x=\"123.047189\" y=\"312.786797\" style=\"fill: #fcfbfd\"/>\n    </g>\n    <g clip-path=\"url(#p32418f42b1)\">\n     <use xlink:href=\"#C4_0_4cb7ff9d9f\" x=\"123.047189\" y=\"300.905806\" style=\"fill: #fcfbfd\"/>\n    </g>\n    <g clip-path=\"url(#p32418f42b1)\">\n     <use xlink:href=\"#C4_0_4cb7ff9d9f\" x=\"129.898098\" y=\"419.715723\" style=\"fill: #fcfbfd\"/>\n    </g>\n    <g clip-path=\"url(#p32418f42b1)\">\n     <use xlink:href=\"#C4_0_4cb7ff9d9f\" x=\"129.898098\" y=\"407.834731\" style=\"fill: #fcfbfd\"/>\n    </g>\n    <g clip-path=\"url(#p32418f42b1)\">\n     <use xlink:href=\"#C4_0_4cb7ff9d9f\" x=\"129.898098\" y=\"395.95374\" style=\"fill: #eeecf5\"/>\n    </g>\n    <g clip-path=\"url(#p32418f42b1)\">\n     <use xlink:href=\"#C4_0_4cb7ff9d9f\" x=\"129.898098\" y=\"384.072748\" style=\"fill: #b8b8d9\"/>\n    </g>\n    <g clip-path=\"url(#p32418f42b1)\">\n     <use xlink:href=\"#C4_0_4cb7ff9d9f\" x=\"129.898098\" y=\"372.191756\" style=\"fill: #7363ad\"/>\n    </g>\n    <g clip-path=\"url(#p32418f42b1)\">\n     <use xlink:href=\"#C4_0_4cb7ff9d9f\" x=\"129.898098\" y=\"360.310764\" style=\"fill: #d8d8ea\"/>\n    </g>\n    <g clip-path=\"url(#p32418f42b1)\">\n     <use xlink:href=\"#C4_0_4cb7ff9d9f\" x=\"129.898098\" y=\"348.429773\" style=\"fill: #8e8bc1\"/>\n    </g>\n    <g clip-path=\"url(#p32418f42b1)\">\n     <use xlink:href=\"#C4_0_4cb7ff9d9f\" x=\"129.898098\" y=\"336.548781\" style=\"fill: #f3f1f7\"/>\n    </g>\n    <g clip-path=\"url(#p32418f42b1)\">\n     <use xlink:href=\"#C4_0_4cb7ff9d9f\" x=\"129.898098\" y=\"324.667789\" style=\"fill: #fcfbfd\"/>\n    </g>\n    <g clip-path=\"url(#p32418f42b1)\">\n     <use xlink:href=\"#C4_0_4cb7ff9d9f\" x=\"129.898098\" y=\"312.786797\" style=\"fill: #fcfbfd\"/>\n    </g>\n    <g clip-path=\"url(#p32418f42b1)\">\n     <use xlink:href=\"#C4_0_4cb7ff9d9f\" x=\"129.898098\" y=\"300.905806\" style=\"fill: #fcfbfd\"/>\n    </g>\n    <g clip-path=\"url(#p32418f42b1)\">\n     <use xlink:href=\"#C4_0_4cb7ff9d9f\" x=\"136.749008\" y=\"419.715723\" style=\"fill: #fcfbfd\"/>\n    </g>\n    <g clip-path=\"url(#p32418f42b1)\">\n     <use xlink:href=\"#C4_0_4cb7ff9d9f\" x=\"136.749008\" y=\"407.834731\" style=\"fill: #fcfbfd\"/>\n    </g>\n    <g clip-path=\"url(#p32418f42b1)\">\n     <use xlink:href=\"#C4_0_4cb7ff9d9f\" x=\"136.749008\" y=\"395.95374\" style=\"fill: #b8b8d9\"/>\n    </g>\n    <g clip-path=\"url(#p32418f42b1)\">\n     <use xlink:href=\"#C4_0_4cb7ff9d9f\" x=\"136.749008\" y=\"384.072748\" style=\"fill: #eeecf5\"/>\n    </g>\n    <g clip-path=\"url(#p32418f42b1)\">\n     <use xlink:href=\"#C4_0_4cb7ff9d9f\" x=\"136.749008\" y=\"372.191756\" style=\"fill: #e0dfee\"/>\n    </g>\n    <g clip-path=\"url(#p32418f42b1)\">\n     <use xlink:href=\"#C4_0_4cb7ff9d9f\" x=\"136.749008\" y=\"360.310764\" style=\"fill: #fcfbfd\"/>\n    </g>\n    <g clip-path=\"url(#p32418f42b1)\">\n     <use xlink:href=\"#C4_0_4cb7ff9d9f\" x=\"136.749008\" y=\"348.429773\" style=\"fill: #cecee5\"/>\n    </g>\n    <g clip-path=\"url(#p32418f42b1)\">\n     <use xlink:href=\"#C4_0_4cb7ff9d9f\" x=\"136.749008\" y=\"336.548781\" style=\"fill: #c2c3df\"/>\n    </g>\n    <g clip-path=\"url(#p32418f42b1)\">\n     <use xlink:href=\"#C4_0_4cb7ff9d9f\" x=\"136.749008\" y=\"324.667789\" style=\"fill: #f8f6fa\"/>\n    </g>\n    <g clip-path=\"url(#p32418f42b1)\">\n     <use xlink:href=\"#C4_0_4cb7ff9d9f\" x=\"136.749008\" y=\"312.786797\" style=\"fill: #fcfbfd\"/>\n    </g>\n    <g clip-path=\"url(#p32418f42b1)\">\n     <use xlink:href=\"#C4_0_4cb7ff9d9f\" x=\"136.749008\" y=\"300.905806\" style=\"fill: #fcfbfd\"/>\n    </g>\n    <g clip-path=\"url(#p32418f42b1)\">\n     <use xlink:href=\"#C4_0_4cb7ff9d9f\" x=\"143.599917\" y=\"419.715723\" style=\"fill: #fcfbfd\"/>\n    </g>\n    <g clip-path=\"url(#p32418f42b1)\">\n     <use xlink:href=\"#C4_0_4cb7ff9d9f\" x=\"143.599917\" y=\"407.834731\" style=\"fill: #fcfbfd\"/>\n    </g>\n    <g clip-path=\"url(#p32418f42b1)\">\n     <use xlink:href=\"#C4_0_4cb7ff9d9f\" x=\"143.599917\" y=\"395.95374\" style=\"fill: #eeecf5\"/>\n    </g>\n    <g clip-path=\"url(#p32418f42b1)\">\n     <use xlink:href=\"#C4_0_4cb7ff9d9f\" x=\"143.599917\" y=\"384.072748\" style=\"fill: #d8d8ea\"/>\n    </g>\n    <g clip-path=\"url(#p32418f42b1)\">\n     <use xlink:href=\"#C4_0_4cb7ff9d9f\" x=\"143.599917\" y=\"372.191756\" style=\"fill: #f8f6fa\"/>\n    </g>\n    <g clip-path=\"url(#p32418f42b1)\">\n     <use xlink:href=\"#C4_0_4cb7ff9d9f\" x=\"143.599917\" y=\"360.310764\" style=\"fill: #fcfbfd\"/>\n    </g>\n    <g clip-path=\"url(#p32418f42b1)\">\n     <use xlink:href=\"#C4_0_4cb7ff9d9f\" x=\"143.599917\" y=\"348.429773\" style=\"fill: #fcfbfd\"/>\n    </g>\n    <g clip-path=\"url(#p32418f42b1)\">\n     <use xlink:href=\"#C4_0_4cb7ff9d9f\" x=\"143.599917\" y=\"336.548781\" style=\"fill: #e0dfee\"/>\n    </g>\n    <g clip-path=\"url(#p32418f42b1)\">\n     <use xlink:href=\"#C4_0_4cb7ff9d9f\" x=\"143.599917\" y=\"324.667789\" style=\"fill: #fcfbfd\"/>\n    </g>\n    <g clip-path=\"url(#p32418f42b1)\">\n     <use xlink:href=\"#C4_0_4cb7ff9d9f\" x=\"143.599917\" y=\"312.786797\" style=\"fill: #fcfbfd\"/>\n    </g>\n    <g clip-path=\"url(#p32418f42b1)\">\n     <use xlink:href=\"#C4_0_4cb7ff9d9f\" x=\"143.599917\" y=\"300.905806\" style=\"fill: #fcfbfd\"/>\n    </g>\n    <g clip-path=\"url(#p32418f42b1)\">\n     <use xlink:href=\"#C4_0_4cb7ff9d9f\" x=\"150.450826\" y=\"419.715723\" style=\"fill: #fcfbfd\"/>\n    </g>\n    <g clip-path=\"url(#p32418f42b1)\">\n     <use xlink:href=\"#C4_0_4cb7ff9d9f\" x=\"150.450826\" y=\"407.834731\" style=\"fill: #fcfbfd\"/>\n    </g>\n    <g clip-path=\"url(#p32418f42b1)\">\n     <use xlink:href=\"#C4_0_4cb7ff9d9f\" x=\"150.450826\" y=\"395.95374\" style=\"fill: #f3f1f7\"/>\n    </g>\n    <g clip-path=\"url(#p32418f42b1)\">\n     <use xlink:href=\"#C4_0_4cb7ff9d9f\" x=\"150.450826\" y=\"384.072748\" style=\"fill: #9995c6\"/>\n    </g>\n    <g clip-path=\"url(#p32418f42b1)\">\n     <use xlink:href=\"#C4_0_4cb7ff9d9f\" x=\"150.450826\" y=\"372.191756\" style=\"fill: #fcfbfd\"/>\n    </g>\n    <g clip-path=\"url(#p32418f42b1)\">\n     <use xlink:href=\"#C4_0_4cb7ff9d9f\" x=\"150.450826\" y=\"360.310764\" style=\"fill: #fcfbfd\"/>\n    </g>\n    <g clip-path=\"url(#p32418f42b1)\">\n     <use xlink:href=\"#C4_0_4cb7ff9d9f\" x=\"150.450826\" y=\"348.429773\" style=\"fill: #fcfbfd\"/>\n    </g>\n    <g clip-path=\"url(#p32418f42b1)\">\n     <use xlink:href=\"#C4_0_4cb7ff9d9f\" x=\"150.450826\" y=\"336.548781\" style=\"fill: #fcfbfd\"/>\n    </g>\n    <g clip-path=\"url(#p32418f42b1)\">\n     <use xlink:href=\"#C4_0_4cb7ff9d9f\" x=\"150.450826\" y=\"324.667789\" style=\"fill: #fcfbfd\"/>\n    </g>\n    <g clip-path=\"url(#p32418f42b1)\">\n     <use xlink:href=\"#C4_0_4cb7ff9d9f\" x=\"150.450826\" y=\"312.786797\" style=\"fill: #fcfbfd\"/>\n    </g>\n    <g clip-path=\"url(#p32418f42b1)\">\n     <use xlink:href=\"#C4_0_4cb7ff9d9f\" x=\"150.450826\" y=\"300.905806\" style=\"fill: #fcfbfd\"/>\n    </g>\n   </g>\n   <g id=\"matplotlib.axis_9\"/>\n   <g id=\"matplotlib.axis_10\"/>\n   <g id=\"patch_23\">\n    <path d=\"M 170.88 341.42175 \nL 170.88 197.66175 \n\" style=\"fill: none; stroke: #000000; stroke-width: 0.8; stroke-linejoin: miter; stroke-linecap: square\"/>\n   </g>\n   <g id=\"patch_24\">\n    <path d=\"M 321.6 341.42175 \nL 321.6 197.66175 \n\" style=\"fill: none; stroke: #000000; stroke-width: 0.8; stroke-linejoin: miter; stroke-linecap: square\"/>\n   </g>\n   <g id=\"patch_25\">\n    <path d=\"M 170.88 341.42175 \nL 321.6 341.42175 \n\" style=\"fill: none; stroke: #000000; stroke-width: 0.8; stroke-linejoin: miter; stroke-linecap: square\"/>\n   </g>\n   <g id=\"patch_26\">\n    <path d=\"M 170.88 197.66175 \nL 321.6 197.66175 \n\" style=\"fill: none; stroke: #000000; stroke-width: 0.8; stroke-linejoin: miter; stroke-linecap: square\"/>\n   </g>\n   <g id=\"text_5\">\n    <!-- fear -->\n    <g transform=\"translate(231.903 191.66175) scale(0.144 -0.144)\">\n     <defs>\n      <path id=\"DejaVuSans-66\" d=\"M 2375 4863 \nL 2375 4384 \nL 1825 4384 \nQ 1516 4384 1395 4259 \nQ 1275 4134 1275 3809 \nL 1275 3500 \nL 2222 3500 \nL 2222 3053 \nL 1275 3053 \nL 1275 0 \nL 697 0 \nL 697 3053 \nL 147 3053 \nL 147 3500 \nL 697 3500 \nL 697 3744 \nQ 697 4328 969 4595 \nQ 1241 4863 1831 4863 \nL 2375 4863 \nz\n\" transform=\"scale(0.015625)\"/>\n     </defs>\n     <use xlink:href=\"#DejaVuSans-66\"/>\n     <use xlink:href=\"#DejaVuSans-65\" x=\"35.205078\"/>\n     <use xlink:href=\"#DejaVuSans-61\" x=\"96.728516\"/>\n     <use xlink:href=\"#DejaVuSans-72\" x=\"158.007812\"/>\n    </g>\n   </g>\n  </g>\n  <g id=\"axes_6\">\n   <g id=\"patch_27\">\n    <path d=\"M 334.56 341.42175 \nL 485.28 341.42175 \nL 485.28 197.66175 \nL 334.56 197.66175 \nz\n\" style=\"fill: #ffffff\"/>\n   </g>\n   <g id=\"PolyCollection_6\">\n    <defs>\n     <path id=\"C5_0_9644e6fae3\" d=\"M 327.974661 -89.534003 \nL 327.974661 -93.494333 \nL 324.549206 -95.474498 \nL 321.123752 -93.494333 \nL 321.123752 -89.534003 \nL 324.549206 -87.553837 \nz\n\"/>\n    </defs>\n    <g clip-path=\"url(#p8b75668329)\">\n     <use xlink:href=\"#C5_0_9644e6fae3\" x=\"16.861703\" y=\"426.401372\" style=\"fill: #f7fcf5\"/>\n    </g>\n    <g clip-path=\"url(#p8b75668329)\">\n     <use xlink:href=\"#C5_0_9644e6fae3\" x=\"16.861703\" y=\"414.520381\" style=\"fill: #f7fcf5\"/>\n    </g>\n    <g clip-path=\"url(#p8b75668329)\">\n     <use xlink:href=\"#C5_0_9644e6fae3\" x=\"16.861703\" y=\"402.639389\" style=\"fill: #f7fcf5\"/>\n    </g>\n    <g clip-path=\"url(#p8b75668329)\">\n     <use xlink:href=\"#C5_0_9644e6fae3\" x=\"16.861703\" y=\"390.758397\" style=\"fill: #f7fcf5\"/>\n    </g>\n    <g clip-path=\"url(#p8b75668329)\">\n     <use xlink:href=\"#C5_0_9644e6fae3\" x=\"16.861703\" y=\"378.877406\" style=\"fill: #f7fcf5\"/>\n    </g>\n    <g clip-path=\"url(#p8b75668329)\">\n     <use xlink:href=\"#C5_0_9644e6fae3\" x=\"16.861703\" y=\"366.996414\" style=\"fill: #c7e9c0\"/>\n    </g>\n    <g clip-path=\"url(#p8b75668329)\">\n     <use xlink:href=\"#C5_0_9644e6fae3\" x=\"16.861703\" y=\"355.115422\" style=\"fill: #f7fcf5\"/>\n    </g>\n    <g clip-path=\"url(#p8b75668329)\">\n     <use xlink:href=\"#C5_0_9644e6fae3\" x=\"16.861703\" y=\"343.23443\" style=\"fill: #f7fcf5\"/>\n    </g>\n    <g clip-path=\"url(#p8b75668329)\">\n     <use xlink:href=\"#C5_0_9644e6fae3\" x=\"16.861703\" y=\"331.353439\" style=\"fill: #f7fcf5\"/>\n    </g>\n    <g clip-path=\"url(#p8b75668329)\">\n     <use xlink:href=\"#C5_0_9644e6fae3\" x=\"16.861703\" y=\"319.472447\" style=\"fill: #f7fcf5\"/>\n    </g>\n    <g clip-path=\"url(#p8b75668329)\">\n     <use xlink:href=\"#C5_0_9644e6fae3\" x=\"16.861703\" y=\"307.591455\" style=\"fill: #f7fcf5\"/>\n    </g>\n    <g clip-path=\"url(#p8b75668329)\">\n     <use xlink:href=\"#C5_0_9644e6fae3\" x=\"16.861703\" y=\"295.710463\" style=\"fill: #f7fcf5\"/>\n    </g>\n    <g clip-path=\"url(#p8b75668329)\">\n     <use xlink:href=\"#C5_0_9644e6fae3\" x=\"23.712612\" y=\"426.401372\" style=\"fill: #f7fcf5\"/>\n    </g>\n    <g clip-path=\"url(#p8b75668329)\">\n     <use xlink:href=\"#C5_0_9644e6fae3\" x=\"23.712612\" y=\"414.520381\" style=\"fill: #f7fcf5\"/>\n    </g>\n    <g clip-path=\"url(#p8b75668329)\">\n     <use xlink:href=\"#C5_0_9644e6fae3\" x=\"23.712612\" y=\"402.639389\" style=\"fill: #f7fcf5\"/>\n    </g>\n    <g clip-path=\"url(#p8b75668329)\">\n     <use xlink:href=\"#C5_0_9644e6fae3\" x=\"23.712612\" y=\"390.758397\" style=\"fill: #f7fcf5\"/>\n    </g>\n    <g clip-path=\"url(#p8b75668329)\">\n     <use xlink:href=\"#C5_0_9644e6fae3\" x=\"23.712612\" y=\"378.877406\" style=\"fill: #a0d99b\"/>\n    </g>\n    <g clip-path=\"url(#p8b75668329)\">\n     <use xlink:href=\"#C5_0_9644e6fae3\" x=\"23.712612\" y=\"366.996414\" style=\"fill: #006c2c\"/>\n    </g>\n    <g clip-path=\"url(#p8b75668329)\">\n     <use xlink:href=\"#C5_0_9644e6fae3\" x=\"23.712612\" y=\"355.115422\" style=\"fill: #73c476\"/>\n    </g>\n    <g clip-path=\"url(#p8b75668329)\">\n     <use xlink:href=\"#C5_0_9644e6fae3\" x=\"23.712612\" y=\"343.23443\" style=\"fill: #e5f5e0\"/>\n    </g>\n    <g clip-path=\"url(#p8b75668329)\">\n     <use xlink:href=\"#C5_0_9644e6fae3\" x=\"23.712612\" y=\"331.353439\" style=\"fill: #f7fcf5\"/>\n    </g>\n    <g clip-path=\"url(#p8b75668329)\">\n     <use xlink:href=\"#C5_0_9644e6fae3\" x=\"23.712612\" y=\"319.472447\" style=\"fill: #f7fcf5\"/>\n    </g>\n    <g clip-path=\"url(#p8b75668329)\">\n     <use xlink:href=\"#C5_0_9644e6fae3\" x=\"23.712612\" y=\"307.591455\" style=\"fill: #f7fcf5\"/>\n    </g>\n    <g clip-path=\"url(#p8b75668329)\">\n     <use xlink:href=\"#C5_0_9644e6fae3\" x=\"23.712612\" y=\"295.710463\" style=\"fill: #f7fcf5\"/>\n    </g>\n    <g clip-path=\"url(#p8b75668329)\">\n     <use xlink:href=\"#C5_0_9644e6fae3\" x=\"30.563521\" y=\"426.401372\" style=\"fill: #f7fcf5\"/>\n    </g>\n    <g clip-path=\"url(#p8b75668329)\">\n     <use xlink:href=\"#C5_0_9644e6fae3\" x=\"30.563521\" y=\"414.520381\" style=\"fill: #f7fcf5\"/>\n    </g>\n    <g clip-path=\"url(#p8b75668329)\">\n     <use xlink:href=\"#C5_0_9644e6fae3\" x=\"30.563521\" y=\"402.639389\" style=\"fill: #e5f5e0\"/>\n    </g>\n    <g clip-path=\"url(#p8b75668329)\">\n     <use xlink:href=\"#C5_0_9644e6fae3\" x=\"30.563521\" y=\"390.758397\" style=\"fill: #f7fcf5\"/>\n    </g>\n    <g clip-path=\"url(#p8b75668329)\">\n     <use xlink:href=\"#C5_0_9644e6fae3\" x=\"30.563521\" y=\"378.877406\" style=\"fill: #e5f5e0\"/>\n    </g>\n    <g clip-path=\"url(#p8b75668329)\">\n     <use xlink:href=\"#C5_0_9644e6fae3\" x=\"30.563521\" y=\"366.996414\" style=\"fill: #40aa5d\"/>\n    </g>\n    <g clip-path=\"url(#p8b75668329)\">\n     <use xlink:href=\"#C5_0_9644e6fae3\" x=\"30.563521\" y=\"355.115422\" style=\"fill: #c7e9c0\"/>\n    </g>\n    <g clip-path=\"url(#p8b75668329)\">\n     <use xlink:href=\"#C5_0_9644e6fae3\" x=\"30.563521\" y=\"343.23443\" style=\"fill: #c7e9c0\"/>\n    </g>\n    <g clip-path=\"url(#p8b75668329)\">\n     <use xlink:href=\"#C5_0_9644e6fae3\" x=\"30.563521\" y=\"331.353439\" style=\"fill: #f7fcf5\"/>\n    </g>\n    <g clip-path=\"url(#p8b75668329)\">\n     <use xlink:href=\"#C5_0_9644e6fae3\" x=\"30.563521\" y=\"319.472447\" style=\"fill: #f7fcf5\"/>\n    </g>\n    <g clip-path=\"url(#p8b75668329)\">\n     <use xlink:href=\"#C5_0_9644e6fae3\" x=\"30.563521\" y=\"307.591455\" style=\"fill: #f7fcf5\"/>\n    </g>\n    <g clip-path=\"url(#p8b75668329)\">\n     <use xlink:href=\"#C5_0_9644e6fae3\" x=\"30.563521\" y=\"295.710463\" style=\"fill: #f7fcf5\"/>\n    </g>\n    <g clip-path=\"url(#p8b75668329)\">\n     <use xlink:href=\"#C5_0_9644e6fae3\" x=\"37.41443\" y=\"426.401372\" style=\"fill: #f7fcf5\"/>\n    </g>\n    <g clip-path=\"url(#p8b75668329)\">\n     <use xlink:href=\"#C5_0_9644e6fae3\" x=\"37.41443\" y=\"414.520381\" style=\"fill: #f7fcf5\"/>\n    </g>\n    <g clip-path=\"url(#p8b75668329)\">\n     <use xlink:href=\"#C5_0_9644e6fae3\" x=\"37.41443\" y=\"402.639389\" style=\"fill: #e5f5e0\"/>\n    </g>\n    <g clip-path=\"url(#p8b75668329)\">\n     <use xlink:href=\"#C5_0_9644e6fae3\" x=\"37.41443\" y=\"390.758397\" style=\"fill: #e5f5e0\"/>\n    </g>\n    <g clip-path=\"url(#p8b75668329)\">\n     <use xlink:href=\"#C5_0_9644e6fae3\" x=\"37.41443\" y=\"378.877406\" style=\"fill: #e5f5e0\"/>\n    </g>\n    <g clip-path=\"url(#p8b75668329)\">\n     <use xlink:href=\"#C5_0_9644e6fae3\" x=\"37.41443\" y=\"366.996414\" style=\"fill: #f7fcf5\"/>\n    </g>\n    <g clip-path=\"url(#p8b75668329)\">\n     <use xlink:href=\"#C5_0_9644e6fae3\" x=\"37.41443\" y=\"355.115422\" style=\"fill: #c7e9c0\"/>\n    </g>\n    <g clip-path=\"url(#p8b75668329)\">\n     <use xlink:href=\"#C5_0_9644e6fae3\" x=\"37.41443\" y=\"343.23443\" style=\"fill: #e5f5e0\"/>\n    </g>\n    <g clip-path=\"url(#p8b75668329)\">\n     <use xlink:href=\"#C5_0_9644e6fae3\" x=\"37.41443\" y=\"331.353439\" style=\"fill: #f7fcf5\"/>\n    </g>\n    <g clip-path=\"url(#p8b75668329)\">\n     <use xlink:href=\"#C5_0_9644e6fae3\" x=\"37.41443\" y=\"319.472447\" style=\"fill: #e5f5e0\"/>\n    </g>\n    <g clip-path=\"url(#p8b75668329)\">\n     <use xlink:href=\"#C5_0_9644e6fae3\" x=\"37.41443\" y=\"307.591455\" style=\"fill: #f7fcf5\"/>\n    </g>\n    <g clip-path=\"url(#p8b75668329)\">\n     <use xlink:href=\"#C5_0_9644e6fae3\" x=\"37.41443\" y=\"295.710463\" style=\"fill: #f7fcf5\"/>\n    </g>\n    <g clip-path=\"url(#p8b75668329)\">\n     <use xlink:href=\"#C5_0_9644e6fae3\" x=\"44.265339\" y=\"426.401372\" style=\"fill: #f7fcf5\"/>\n    </g>\n    <g clip-path=\"url(#p8b75668329)\">\n     <use xlink:href=\"#C5_0_9644e6fae3\" x=\"44.265339\" y=\"414.520381\" style=\"fill: #f7fcf5\"/>\n    </g>\n    <g clip-path=\"url(#p8b75668329)\">\n     <use xlink:href=\"#C5_0_9644e6fae3\" x=\"44.265339\" y=\"402.639389\" style=\"fill: #f7fcf5\"/>\n    </g>\n    <g clip-path=\"url(#p8b75668329)\">\n     <use xlink:href=\"#C5_0_9644e6fae3\" x=\"44.265339\" y=\"390.758397\" style=\"fill: #a0d99b\"/>\n    </g>\n    <g clip-path=\"url(#p8b75668329)\">\n     <use xlink:href=\"#C5_0_9644e6fae3\" x=\"44.265339\" y=\"378.877406\" style=\"fill: #f7fcf5\"/>\n    </g>\n    <g clip-path=\"url(#p8b75668329)\">\n     <use xlink:href=\"#C5_0_9644e6fae3\" x=\"44.265339\" y=\"366.996414\" style=\"fill: #e5f5e0\"/>\n    </g>\n    <g clip-path=\"url(#p8b75668329)\">\n     <use xlink:href=\"#C5_0_9644e6fae3\" x=\"44.265339\" y=\"355.115422\" style=\"fill: #e5f5e0\"/>\n    </g>\n    <g clip-path=\"url(#p8b75668329)\">\n     <use xlink:href=\"#C5_0_9644e6fae3\" x=\"44.265339\" y=\"343.23443\" style=\"fill: #73c476\"/>\n    </g>\n    <g clip-path=\"url(#p8b75668329)\">\n     <use xlink:href=\"#C5_0_9644e6fae3\" x=\"44.265339\" y=\"331.353439\" style=\"fill: #c7e9c0\"/>\n    </g>\n    <g clip-path=\"url(#p8b75668329)\">\n     <use xlink:href=\"#C5_0_9644e6fae3\" x=\"44.265339\" y=\"319.472447\" style=\"fill: #e5f5e0\"/>\n    </g>\n    <g clip-path=\"url(#p8b75668329)\">\n     <use xlink:href=\"#C5_0_9644e6fae3\" x=\"44.265339\" y=\"307.591455\" style=\"fill: #a0d99b\"/>\n    </g>\n    <g clip-path=\"url(#p8b75668329)\">\n     <use xlink:href=\"#C5_0_9644e6fae3\" x=\"44.265339\" y=\"295.710463\" style=\"fill: #f7fcf5\"/>\n    </g>\n    <g clip-path=\"url(#p8b75668329)\">\n     <use xlink:href=\"#C5_0_9644e6fae3\" x=\"51.116248\" y=\"426.401372\" style=\"fill: #f7fcf5\"/>\n    </g>\n    <g clip-path=\"url(#p8b75668329)\">\n     <use xlink:href=\"#C5_0_9644e6fae3\" x=\"51.116248\" y=\"414.520381\" style=\"fill: #f7fcf5\"/>\n    </g>\n    <g clip-path=\"url(#p8b75668329)\">\n     <use xlink:href=\"#C5_0_9644e6fae3\" x=\"51.116248\" y=\"402.639389\" style=\"fill: #e5f5e0\"/>\n    </g>\n    <g clip-path=\"url(#p8b75668329)\">\n     <use xlink:href=\"#C5_0_9644e6fae3\" x=\"51.116248\" y=\"390.758397\" style=\"fill: #c7e9c0\"/>\n    </g>\n    <g clip-path=\"url(#p8b75668329)\">\n     <use xlink:href=\"#C5_0_9644e6fae3\" x=\"51.116248\" y=\"378.877406\" style=\"fill: #73c476\"/>\n    </g>\n    <g clip-path=\"url(#p8b75668329)\">\n     <use xlink:href=\"#C5_0_9644e6fae3\" x=\"51.116248\" y=\"366.996414\" style=\"fill: #c7e9c0\"/>\n    </g>\n    <g clip-path=\"url(#p8b75668329)\">\n     <use xlink:href=\"#C5_0_9644e6fae3\" x=\"51.116248\" y=\"355.115422\" style=\"fill: #e5f5e0\"/>\n    </g>\n    <g clip-path=\"url(#p8b75668329)\">\n     <use xlink:href=\"#C5_0_9644e6fae3\" x=\"51.116248\" y=\"343.23443\" style=\"fill: #e5f5e0\"/>\n    </g>\n    <g clip-path=\"url(#p8b75668329)\">\n     <use xlink:href=\"#C5_0_9644e6fae3\" x=\"51.116248\" y=\"331.353439\" style=\"fill: #f7fcf5\"/>\n    </g>\n    <g clip-path=\"url(#p8b75668329)\">\n     <use xlink:href=\"#C5_0_9644e6fae3\" x=\"51.116248\" y=\"319.472447\" style=\"fill: #e5f5e0\"/>\n    </g>\n    <g clip-path=\"url(#p8b75668329)\">\n     <use xlink:href=\"#C5_0_9644e6fae3\" x=\"51.116248\" y=\"307.591455\" style=\"fill: #c7e9c0\"/>\n    </g>\n    <g clip-path=\"url(#p8b75668329)\">\n     <use xlink:href=\"#C5_0_9644e6fae3\" x=\"51.116248\" y=\"295.710463\" style=\"fill: #f7fcf5\"/>\n    </g>\n    <g clip-path=\"url(#p8b75668329)\">\n     <use xlink:href=\"#C5_0_9644e6fae3\" x=\"57.967158\" y=\"426.401372\" style=\"fill: #f7fcf5\"/>\n    </g>\n    <g clip-path=\"url(#p8b75668329)\">\n     <use xlink:href=\"#C5_0_9644e6fae3\" x=\"57.967158\" y=\"414.520381\" style=\"fill: #c7e9c0\"/>\n    </g>\n    <g clip-path=\"url(#p8b75668329)\">\n     <use xlink:href=\"#C5_0_9644e6fae3\" x=\"57.967158\" y=\"402.639389\" style=\"fill: #e5f5e0\"/>\n    </g>\n    <g clip-path=\"url(#p8b75668329)\">\n     <use xlink:href=\"#C5_0_9644e6fae3\" x=\"57.967158\" y=\"390.758397\" style=\"fill: #c7e9c0\"/>\n    </g>\n    <g clip-path=\"url(#p8b75668329)\">\n     <use xlink:href=\"#C5_0_9644e6fae3\" x=\"57.967158\" y=\"378.877406\" style=\"fill: #c7e9c0\"/>\n    </g>\n    <g clip-path=\"url(#p8b75668329)\">\n     <use xlink:href=\"#C5_0_9644e6fae3\" x=\"57.967158\" y=\"366.996414\" style=\"fill: #e5f5e0\"/>\n    </g>\n    <g clip-path=\"url(#p8b75668329)\">\n     <use xlink:href=\"#C5_0_9644e6fae3\" x=\"57.967158\" y=\"355.115422\" style=\"fill: #e5f5e0\"/>\n    </g>\n    <g clip-path=\"url(#p8b75668329)\">\n     <use xlink:href=\"#C5_0_9644e6fae3\" x=\"57.967158\" y=\"343.23443\" style=\"fill: #f7fcf5\"/>\n    </g>\n    <g clip-path=\"url(#p8b75668329)\">\n     <use xlink:href=\"#C5_0_9644e6fae3\" x=\"57.967158\" y=\"331.353439\" style=\"fill: #c7e9c0\"/>\n    </g>\n    <g clip-path=\"url(#p8b75668329)\">\n     <use xlink:href=\"#C5_0_9644e6fae3\" x=\"57.967158\" y=\"319.472447\" style=\"fill: #f7fcf5\"/>\n    </g>\n    <g clip-path=\"url(#p8b75668329)\">\n     <use xlink:href=\"#C5_0_9644e6fae3\" x=\"57.967158\" y=\"307.591455\" style=\"fill: #f7fcf5\"/>\n    </g>\n    <g clip-path=\"url(#p8b75668329)\">\n     <use xlink:href=\"#C5_0_9644e6fae3\" x=\"57.967158\" y=\"295.710463\" style=\"fill: #f7fcf5\"/>\n    </g>\n    <g clip-path=\"url(#p8b75668329)\">\n     <use xlink:href=\"#C5_0_9644e6fae3\" x=\"64.818067\" y=\"426.401372\" style=\"fill: #f7fcf5\"/>\n    </g>\n    <g clip-path=\"url(#p8b75668329)\">\n     <use xlink:href=\"#C5_0_9644e6fae3\" x=\"64.818067\" y=\"414.520381\" style=\"fill: #f7fcf5\"/>\n    </g>\n    <g clip-path=\"url(#p8b75668329)\">\n     <use xlink:href=\"#C5_0_9644e6fae3\" x=\"64.818067\" y=\"402.639389\" style=\"fill: #c7e9c0\"/>\n    </g>\n    <g clip-path=\"url(#p8b75668329)\">\n     <use xlink:href=\"#C5_0_9644e6fae3\" x=\"64.818067\" y=\"390.758397\" style=\"fill: #e5f5e0\"/>\n    </g>\n    <g clip-path=\"url(#p8b75668329)\">\n     <use xlink:href=\"#C5_0_9644e6fae3\" x=\"64.818067\" y=\"378.877406\" style=\"fill: #c7e9c0\"/>\n    </g>\n    <g clip-path=\"url(#p8b75668329)\">\n     <use xlink:href=\"#C5_0_9644e6fae3\" x=\"64.818067\" y=\"366.996414\" style=\"fill: #73c476\"/>\n    </g>\n    <g clip-path=\"url(#p8b75668329)\">\n     <use xlink:href=\"#C5_0_9644e6fae3\" x=\"64.818067\" y=\"355.115422\" style=\"fill: #e5f5e0\"/>\n    </g>\n    <g clip-path=\"url(#p8b75668329)\">\n     <use xlink:href=\"#C5_0_9644e6fae3\" x=\"64.818067\" y=\"343.23443\" style=\"fill: #a0d99b\"/>\n    </g>\n    <g clip-path=\"url(#p8b75668329)\">\n     <use xlink:href=\"#C5_0_9644e6fae3\" x=\"64.818067\" y=\"331.353439\" style=\"fill: #f7fcf5\"/>\n    </g>\n    <g clip-path=\"url(#p8b75668329)\">\n     <use xlink:href=\"#C5_0_9644e6fae3\" x=\"64.818067\" y=\"319.472447\" style=\"fill: #f7fcf5\"/>\n    </g>\n    <g clip-path=\"url(#p8b75668329)\">\n     <use xlink:href=\"#C5_0_9644e6fae3\" x=\"64.818067\" y=\"307.591455\" style=\"fill: #f7fcf5\"/>\n    </g>\n    <g clip-path=\"url(#p8b75668329)\">\n     <use xlink:href=\"#C5_0_9644e6fae3\" x=\"64.818067\" y=\"295.710463\" style=\"fill: #f7fcf5\"/>\n    </g>\n    <g clip-path=\"url(#p8b75668329)\">\n     <use xlink:href=\"#C5_0_9644e6fae3\" x=\"71.668976\" y=\"426.401372\" style=\"fill: #f7fcf5\"/>\n    </g>\n    <g clip-path=\"url(#p8b75668329)\">\n     <use xlink:href=\"#C5_0_9644e6fae3\" x=\"71.668976\" y=\"414.520381\" style=\"fill: #f7fcf5\"/>\n    </g>\n    <g clip-path=\"url(#p8b75668329)\">\n     <use xlink:href=\"#C5_0_9644e6fae3\" x=\"71.668976\" y=\"402.639389\" style=\"fill: #e5f5e0\"/>\n    </g>\n    <g clip-path=\"url(#p8b75668329)\">\n     <use xlink:href=\"#C5_0_9644e6fae3\" x=\"71.668976\" y=\"390.758397\" style=\"fill: #a0d99b\"/>\n    </g>\n    <g clip-path=\"url(#p8b75668329)\">\n     <use xlink:href=\"#C5_0_9644e6fae3\" x=\"71.668976\" y=\"378.877406\" style=\"fill: #c7e9c0\"/>\n    </g>\n    <g clip-path=\"url(#p8b75668329)\">\n     <use xlink:href=\"#C5_0_9644e6fae3\" x=\"71.668976\" y=\"366.996414\" style=\"fill: #73c476\"/>\n    </g>\n    <g clip-path=\"url(#p8b75668329)\">\n     <use xlink:href=\"#C5_0_9644e6fae3\" x=\"71.668976\" y=\"355.115422\" style=\"fill: #228a44\"/>\n    </g>\n    <g clip-path=\"url(#p8b75668329)\">\n     <use xlink:href=\"#C5_0_9644e6fae3\" x=\"71.668976\" y=\"343.23443\" style=\"fill: #f7fcf5\"/>\n    </g>\n    <g clip-path=\"url(#p8b75668329)\">\n     <use xlink:href=\"#C5_0_9644e6fae3\" x=\"71.668976\" y=\"331.353439\" style=\"fill: #e5f5e0\"/>\n    </g>\n    <g clip-path=\"url(#p8b75668329)\">\n     <use xlink:href=\"#C5_0_9644e6fae3\" x=\"71.668976\" y=\"319.472447\" style=\"fill: #f7fcf5\"/>\n    </g>\n    <g clip-path=\"url(#p8b75668329)\">\n     <use xlink:href=\"#C5_0_9644e6fae3\" x=\"71.668976\" y=\"307.591455\" style=\"fill: #f7fcf5\"/>\n    </g>\n    <g clip-path=\"url(#p8b75668329)\">\n     <use xlink:href=\"#C5_0_9644e6fae3\" x=\"71.668976\" y=\"295.710463\" style=\"fill: #f7fcf5\"/>\n    </g>\n    <g clip-path=\"url(#p8b75668329)\">\n     <use xlink:href=\"#C5_0_9644e6fae3\" x=\"78.519885\" y=\"426.401372\" style=\"fill: #f7fcf5\"/>\n    </g>\n    <g clip-path=\"url(#p8b75668329)\">\n     <use xlink:href=\"#C5_0_9644e6fae3\" x=\"78.519885\" y=\"414.520381\" style=\"fill: #f7fcf5\"/>\n    </g>\n    <g clip-path=\"url(#p8b75668329)\">\n     <use xlink:href=\"#C5_0_9644e6fae3\" x=\"78.519885\" y=\"402.639389\" style=\"fill: #f7fcf5\"/>\n    </g>\n    <g clip-path=\"url(#p8b75668329)\">\n     <use xlink:href=\"#C5_0_9644e6fae3\" x=\"78.519885\" y=\"390.758397\" style=\"fill: #f7fcf5\"/>\n    </g>\n    <g clip-path=\"url(#p8b75668329)\">\n     <use xlink:href=\"#C5_0_9644e6fae3\" x=\"78.519885\" y=\"378.877406\" style=\"fill: #73c476\"/>\n    </g>\n    <g clip-path=\"url(#p8b75668329)\">\n     <use xlink:href=\"#C5_0_9644e6fae3\" x=\"78.519885\" y=\"366.996414\" style=\"fill: #73c476\"/>\n    </g>\n    <g clip-path=\"url(#p8b75668329)\">\n     <use xlink:href=\"#C5_0_9644e6fae3\" x=\"78.519885\" y=\"355.115422\" style=\"fill: #c7e9c0\"/>\n    </g>\n    <g clip-path=\"url(#p8b75668329)\">\n     <use xlink:href=\"#C5_0_9644e6fae3\" x=\"78.519885\" y=\"343.23443\" style=\"fill: #e5f5e0\"/>\n    </g>\n    <g clip-path=\"url(#p8b75668329)\">\n     <use xlink:href=\"#C5_0_9644e6fae3\" x=\"78.519885\" y=\"331.353439\" style=\"fill: #c7e9c0\"/>\n    </g>\n    <g clip-path=\"url(#p8b75668329)\">\n     <use xlink:href=\"#C5_0_9644e6fae3\" x=\"78.519885\" y=\"319.472447\" style=\"fill: #f7fcf5\"/>\n    </g>\n    <g clip-path=\"url(#p8b75668329)\">\n     <use xlink:href=\"#C5_0_9644e6fae3\" x=\"78.519885\" y=\"307.591455\" style=\"fill: #f7fcf5\"/>\n    </g>\n    <g clip-path=\"url(#p8b75668329)\">\n     <use xlink:href=\"#C5_0_9644e6fae3\" x=\"78.519885\" y=\"295.710463\" style=\"fill: #a0d99b\"/>\n    </g>\n    <g clip-path=\"url(#p8b75668329)\">\n     <use xlink:href=\"#C5_0_9644e6fae3\" x=\"85.370794\" y=\"426.401372\" style=\"fill: #a0d99b\"/>\n    </g>\n    <g clip-path=\"url(#p8b75668329)\">\n     <use xlink:href=\"#C5_0_9644e6fae3\" x=\"85.370794\" y=\"414.520381\" style=\"fill: #e5f5e0\"/>\n    </g>\n    <g clip-path=\"url(#p8b75668329)\">\n     <use xlink:href=\"#C5_0_9644e6fae3\" x=\"85.370794\" y=\"402.639389\" style=\"fill: #e5f5e0\"/>\n    </g>\n    <g clip-path=\"url(#p8b75668329)\">\n     <use xlink:href=\"#C5_0_9644e6fae3\" x=\"85.370794\" y=\"390.758397\" style=\"fill: #c7e9c0\"/>\n    </g>\n    <g clip-path=\"url(#p8b75668329)\">\n     <use xlink:href=\"#C5_0_9644e6fae3\" x=\"85.370794\" y=\"378.877406\" style=\"fill: #73c476\"/>\n    </g>\n    <g clip-path=\"url(#p8b75668329)\">\n     <use xlink:href=\"#C5_0_9644e6fae3\" x=\"85.370794\" y=\"366.996414\" style=\"fill: #006c2c\"/>\n    </g>\n    <g clip-path=\"url(#p8b75668329)\">\n     <use xlink:href=\"#C5_0_9644e6fae3\" x=\"85.370794\" y=\"355.115422\" style=\"fill: #f7fcf5\"/>\n    </g>\n    <g clip-path=\"url(#p8b75668329)\">\n     <use xlink:href=\"#C5_0_9644e6fae3\" x=\"85.370794\" y=\"343.23443\" style=\"fill: #f7fcf5\"/>\n    </g>\n    <g clip-path=\"url(#p8b75668329)\">\n     <use xlink:href=\"#C5_0_9644e6fae3\" x=\"85.370794\" y=\"331.353439\" style=\"fill: #c7e9c0\"/>\n    </g>\n    <g clip-path=\"url(#p8b75668329)\">\n     <use xlink:href=\"#C5_0_9644e6fae3\" x=\"85.370794\" y=\"319.472447\" style=\"fill: #f7fcf5\"/>\n    </g>\n    <g clip-path=\"url(#p8b75668329)\">\n     <use xlink:href=\"#C5_0_9644e6fae3\" x=\"85.370794\" y=\"307.591455\" style=\"fill: #f7fcf5\"/>\n    </g>\n    <g clip-path=\"url(#p8b75668329)\">\n     <use xlink:href=\"#C5_0_9644e6fae3\" x=\"85.370794\" y=\"295.710463\" style=\"fill: #f7fcf5\"/>\n    </g>\n    <g clip-path=\"url(#p8b75668329)\">\n     <use xlink:href=\"#C5_0_9644e6fae3\" x=\"92.221703\" y=\"426.401372\" style=\"fill: #f7fcf5\"/>\n    </g>\n    <g clip-path=\"url(#p8b75668329)\">\n     <use xlink:href=\"#C5_0_9644e6fae3\" x=\"92.221703\" y=\"414.520381\" style=\"fill: #c7e9c0\"/>\n    </g>\n    <g clip-path=\"url(#p8b75668329)\">\n     <use xlink:href=\"#C5_0_9644e6fae3\" x=\"92.221703\" y=\"402.639389\" style=\"fill: #228a44\"/>\n    </g>\n    <g clip-path=\"url(#p8b75668329)\">\n     <use xlink:href=\"#C5_0_9644e6fae3\" x=\"92.221703\" y=\"390.758397\" style=\"fill: #40aa5d\"/>\n    </g>\n    <g clip-path=\"url(#p8b75668329)\">\n     <use xlink:href=\"#C5_0_9644e6fae3\" x=\"92.221703\" y=\"378.877406\" style=\"fill: #a0d99b\"/>\n    </g>\n    <g clip-path=\"url(#p8b75668329)\">\n     <use xlink:href=\"#C5_0_9644e6fae3\" x=\"92.221703\" y=\"366.996414\" style=\"fill: #e5f5e0\"/>\n    </g>\n    <g clip-path=\"url(#p8b75668329)\">\n     <use xlink:href=\"#C5_0_9644e6fae3\" x=\"92.221703\" y=\"355.115422\" style=\"fill: #c7e9c0\"/>\n    </g>\n    <g clip-path=\"url(#p8b75668329)\">\n     <use xlink:href=\"#C5_0_9644e6fae3\" x=\"92.221703\" y=\"343.23443\" style=\"fill: #f7fcf5\"/>\n    </g>\n    <g clip-path=\"url(#p8b75668329)\">\n     <use xlink:href=\"#C5_0_9644e6fae3\" x=\"92.221703\" y=\"331.353439\" style=\"fill: #f7fcf5\"/>\n    </g>\n    <g clip-path=\"url(#p8b75668329)\">\n     <use xlink:href=\"#C5_0_9644e6fae3\" x=\"92.221703\" y=\"319.472447\" style=\"fill: #f7fcf5\"/>\n    </g>\n    <g clip-path=\"url(#p8b75668329)\">\n     <use xlink:href=\"#C5_0_9644e6fae3\" x=\"92.221703\" y=\"307.591455\" style=\"fill: #f7fcf5\"/>\n    </g>\n    <g clip-path=\"url(#p8b75668329)\">\n     <use xlink:href=\"#C5_0_9644e6fae3\" x=\"92.221703\" y=\"295.710463\" style=\"fill: #f7fcf5\"/>\n    </g>\n    <g clip-path=\"url(#p8b75668329)\">\n     <use xlink:href=\"#C5_0_9644e6fae3\" x=\"99.072612\" y=\"426.401372\" style=\"fill: #f7fcf5\"/>\n    </g>\n    <g clip-path=\"url(#p8b75668329)\">\n     <use xlink:href=\"#C5_0_9644e6fae3\" x=\"99.072612\" y=\"414.520381\" style=\"fill: #a0d99b\"/>\n    </g>\n    <g clip-path=\"url(#p8b75668329)\">\n     <use xlink:href=\"#C5_0_9644e6fae3\" x=\"99.072612\" y=\"402.639389\" style=\"fill: #c7e9c0\"/>\n    </g>\n    <g clip-path=\"url(#p8b75668329)\">\n     <use xlink:href=\"#C5_0_9644e6fae3\" x=\"99.072612\" y=\"390.758397\" style=\"fill: #73c476\"/>\n    </g>\n    <g clip-path=\"url(#p8b75668329)\">\n     <use xlink:href=\"#C5_0_9644e6fae3\" x=\"99.072612\" y=\"378.877406\" style=\"fill: #c7e9c0\"/>\n    </g>\n    <g clip-path=\"url(#p8b75668329)\">\n     <use xlink:href=\"#C5_0_9644e6fae3\" x=\"99.072612\" y=\"366.996414\" style=\"fill: #f7fcf5\"/>\n    </g>\n    <g clip-path=\"url(#p8b75668329)\">\n     <use xlink:href=\"#C5_0_9644e6fae3\" x=\"99.072612\" y=\"355.115422\" style=\"fill: #c7e9c0\"/>\n    </g>\n    <g clip-path=\"url(#p8b75668329)\">\n     <use xlink:href=\"#C5_0_9644e6fae3\" x=\"99.072612\" y=\"343.23443\" style=\"fill: #e5f5e0\"/>\n    </g>\n    <g clip-path=\"url(#p8b75668329)\">\n     <use xlink:href=\"#C5_0_9644e6fae3\" x=\"99.072612\" y=\"331.353439\" style=\"fill: #e5f5e0\"/>\n    </g>\n    <g clip-path=\"url(#p8b75668329)\">\n     <use xlink:href=\"#C5_0_9644e6fae3\" x=\"99.072612\" y=\"319.472447\" style=\"fill: #f7fcf5\"/>\n    </g>\n    <g clip-path=\"url(#p8b75668329)\">\n     <use xlink:href=\"#C5_0_9644e6fae3\" x=\"99.072612\" y=\"307.591455\" style=\"fill: #f7fcf5\"/>\n    </g>\n    <g clip-path=\"url(#p8b75668329)\">\n     <use xlink:href=\"#C5_0_9644e6fae3\" x=\"99.072612\" y=\"295.710463\" style=\"fill: #f7fcf5\"/>\n    </g>\n    <g clip-path=\"url(#p8b75668329)\">\n     <use xlink:href=\"#C5_0_9644e6fae3\" x=\"105.923521\" y=\"426.401372\" style=\"fill: #f7fcf5\"/>\n    </g>\n    <g clip-path=\"url(#p8b75668329)\">\n     <use xlink:href=\"#C5_0_9644e6fae3\" x=\"105.923521\" y=\"414.520381\" style=\"fill: #e5f5e0\"/>\n    </g>\n    <g clip-path=\"url(#p8b75668329)\">\n     <use xlink:href=\"#C5_0_9644e6fae3\" x=\"105.923521\" y=\"402.639389\" style=\"fill: #a0d99b\"/>\n    </g>\n    <g clip-path=\"url(#p8b75668329)\">\n     <use xlink:href=\"#C5_0_9644e6fae3\" x=\"105.923521\" y=\"390.758397\" style=\"fill: #e5f5e0\"/>\n    </g>\n    <g clip-path=\"url(#p8b75668329)\">\n     <use xlink:href=\"#C5_0_9644e6fae3\" x=\"105.923521\" y=\"378.877406\" style=\"fill: #e5f5e0\"/>\n    </g>\n    <g clip-path=\"url(#p8b75668329)\">\n     <use xlink:href=\"#C5_0_9644e6fae3\" x=\"105.923521\" y=\"366.996414\" style=\"fill: #a0d99b\"/>\n    </g>\n    <g clip-path=\"url(#p8b75668329)\">\n     <use xlink:href=\"#C5_0_9644e6fae3\" x=\"105.923521\" y=\"355.115422\" style=\"fill: #e5f5e0\"/>\n    </g>\n    <g clip-path=\"url(#p8b75668329)\">\n     <use xlink:href=\"#C5_0_9644e6fae3\" x=\"105.923521\" y=\"343.23443\" style=\"fill: #e5f5e0\"/>\n    </g>\n    <g clip-path=\"url(#p8b75668329)\">\n     <use xlink:href=\"#C5_0_9644e6fae3\" x=\"105.923521\" y=\"331.353439\" style=\"fill: #a0d99b\"/>\n    </g>\n    <g clip-path=\"url(#p8b75668329)\">\n     <use xlink:href=\"#C5_0_9644e6fae3\" x=\"105.923521\" y=\"319.472447\" style=\"fill: #f7fcf5\"/>\n    </g>\n    <g clip-path=\"url(#p8b75668329)\">\n     <use xlink:href=\"#C5_0_9644e6fae3\" x=\"105.923521\" y=\"307.591455\" style=\"fill: #f7fcf5\"/>\n    </g>\n    <g clip-path=\"url(#p8b75668329)\">\n     <use xlink:href=\"#C5_0_9644e6fae3\" x=\"105.923521\" y=\"295.710463\" style=\"fill: #f7fcf5\"/>\n    </g>\n    <g clip-path=\"url(#p8b75668329)\">\n     <use xlink:href=\"#C5_0_9644e6fae3\" x=\"112.77443\" y=\"426.401372\" style=\"fill: #f7fcf5\"/>\n    </g>\n    <g clip-path=\"url(#p8b75668329)\">\n     <use xlink:href=\"#C5_0_9644e6fae3\" x=\"112.77443\" y=\"414.520381\" style=\"fill: #f7fcf5\"/>\n    </g>\n    <g clip-path=\"url(#p8b75668329)\">\n     <use xlink:href=\"#C5_0_9644e6fae3\" x=\"112.77443\" y=\"402.639389\" style=\"fill: #c7e9c0\"/>\n    </g>\n    <g clip-path=\"url(#p8b75668329)\">\n     <use xlink:href=\"#C5_0_9644e6fae3\" x=\"112.77443\" y=\"390.758397\" style=\"fill: #40aa5d\"/>\n    </g>\n    <g clip-path=\"url(#p8b75668329)\">\n     <use xlink:href=\"#C5_0_9644e6fae3\" x=\"112.77443\" y=\"378.877406\" style=\"fill: #c7e9c0\"/>\n    </g>\n    <g clip-path=\"url(#p8b75668329)\">\n     <use xlink:href=\"#C5_0_9644e6fae3\" x=\"112.77443\" y=\"366.996414\" style=\"fill: #c7e9c0\"/>\n    </g>\n    <g clip-path=\"url(#p8b75668329)\">\n     <use xlink:href=\"#C5_0_9644e6fae3\" x=\"112.77443\" y=\"355.115422\" style=\"fill: #c7e9c0\"/>\n    </g>\n    <g clip-path=\"url(#p8b75668329)\">\n     <use xlink:href=\"#C5_0_9644e6fae3\" x=\"112.77443\" y=\"343.23443\" style=\"fill: #73c476\"/>\n    </g>\n    <g clip-path=\"url(#p8b75668329)\">\n     <use xlink:href=\"#C5_0_9644e6fae3\" x=\"112.77443\" y=\"331.353439\" style=\"fill: #f7fcf5\"/>\n    </g>\n    <g clip-path=\"url(#p8b75668329)\">\n     <use xlink:href=\"#C5_0_9644e6fae3\" x=\"112.77443\" y=\"319.472447\" style=\"fill: #f7fcf5\"/>\n    </g>\n    <g clip-path=\"url(#p8b75668329)\">\n     <use xlink:href=\"#C5_0_9644e6fae3\" x=\"112.77443\" y=\"307.591455\" style=\"fill: #f7fcf5\"/>\n    </g>\n    <g clip-path=\"url(#p8b75668329)\">\n     <use xlink:href=\"#C5_0_9644e6fae3\" x=\"112.77443\" y=\"295.710463\" style=\"fill: #f7fcf5\"/>\n    </g>\n    <g clip-path=\"url(#p8b75668329)\">\n     <use xlink:href=\"#C5_0_9644e6fae3\" x=\"119.625339\" y=\"426.401372\" style=\"fill: #f7fcf5\"/>\n    </g>\n    <g clip-path=\"url(#p8b75668329)\">\n     <use xlink:href=\"#C5_0_9644e6fae3\" x=\"119.625339\" y=\"414.520381\" style=\"fill: #f7fcf5\"/>\n    </g>\n    <g clip-path=\"url(#p8b75668329)\">\n     <use xlink:href=\"#C5_0_9644e6fae3\" x=\"119.625339\" y=\"402.639389\" style=\"fill: #e5f5e0\"/>\n    </g>\n    <g clip-path=\"url(#p8b75668329)\">\n     <use xlink:href=\"#C5_0_9644e6fae3\" x=\"119.625339\" y=\"390.758397\" style=\"fill: #a0d99b\"/>\n    </g>\n    <g clip-path=\"url(#p8b75668329)\">\n     <use xlink:href=\"#C5_0_9644e6fae3\" x=\"119.625339\" y=\"378.877406\" style=\"fill: #a0d99b\"/>\n    </g>\n    <g clip-path=\"url(#p8b75668329)\">\n     <use xlink:href=\"#C5_0_9644e6fae3\" x=\"119.625339\" y=\"366.996414\" style=\"fill: #73c476\"/>\n    </g>\n    <g clip-path=\"url(#p8b75668329)\">\n     <use xlink:href=\"#C5_0_9644e6fae3\" x=\"119.625339\" y=\"355.115422\" style=\"fill: #e5f5e0\"/>\n    </g>\n    <g clip-path=\"url(#p8b75668329)\">\n     <use xlink:href=\"#C5_0_9644e6fae3\" x=\"119.625339\" y=\"343.23443\" style=\"fill: #c7e9c0\"/>\n    </g>\n    <g clip-path=\"url(#p8b75668329)\">\n     <use xlink:href=\"#C5_0_9644e6fae3\" x=\"119.625339\" y=\"331.353439\" style=\"fill: #e5f5e0\"/>\n    </g>\n    <g clip-path=\"url(#p8b75668329)\">\n     <use xlink:href=\"#C5_0_9644e6fae3\" x=\"119.625339\" y=\"319.472447\" style=\"fill: #f7fcf5\"/>\n    </g>\n    <g clip-path=\"url(#p8b75668329)\">\n     <use xlink:href=\"#C5_0_9644e6fae3\" x=\"119.625339\" y=\"307.591455\" style=\"fill: #f7fcf5\"/>\n    </g>\n    <g clip-path=\"url(#p8b75668329)\">\n     <use xlink:href=\"#C5_0_9644e6fae3\" x=\"119.625339\" y=\"295.710463\" style=\"fill: #f7fcf5\"/>\n    </g>\n    <g clip-path=\"url(#p8b75668329)\">\n     <use xlink:href=\"#C5_0_9644e6fae3\" x=\"126.476248\" y=\"426.401372\" style=\"fill: #f7fcf5\"/>\n    </g>\n    <g clip-path=\"url(#p8b75668329)\">\n     <use xlink:href=\"#C5_0_9644e6fae3\" x=\"126.476248\" y=\"414.520381\" style=\"fill: #f7fcf5\"/>\n    </g>\n    <g clip-path=\"url(#p8b75668329)\">\n     <use xlink:href=\"#C5_0_9644e6fae3\" x=\"126.476248\" y=\"402.639389\" style=\"fill: #e5f5e0\"/>\n    </g>\n    <g clip-path=\"url(#p8b75668329)\">\n     <use xlink:href=\"#C5_0_9644e6fae3\" x=\"126.476248\" y=\"390.758397\" style=\"fill: #c7e9c0\"/>\n    </g>\n    <g clip-path=\"url(#p8b75668329)\">\n     <use xlink:href=\"#C5_0_9644e6fae3\" x=\"126.476248\" y=\"378.877406\" style=\"fill: #a0d99b\"/>\n    </g>\n    <g clip-path=\"url(#p8b75668329)\">\n     <use xlink:href=\"#C5_0_9644e6fae3\" x=\"126.476248\" y=\"366.996414\" style=\"fill: #c7e9c0\"/>\n    </g>\n    <g clip-path=\"url(#p8b75668329)\">\n     <use xlink:href=\"#C5_0_9644e6fae3\" x=\"126.476248\" y=\"355.115422\" style=\"fill: #40aa5d\"/>\n    </g>\n    <g clip-path=\"url(#p8b75668329)\">\n     <use xlink:href=\"#C5_0_9644e6fae3\" x=\"126.476248\" y=\"343.23443\" style=\"fill: #c7e9c0\"/>\n    </g>\n    <g clip-path=\"url(#p8b75668329)\">\n     <use xlink:href=\"#C5_0_9644e6fae3\" x=\"126.476248\" y=\"331.353439\" style=\"fill: #c7e9c0\"/>\n    </g>\n    <g clip-path=\"url(#p8b75668329)\">\n     <use xlink:href=\"#C5_0_9644e6fae3\" x=\"126.476248\" y=\"319.472447\" style=\"fill: #f7fcf5\"/>\n    </g>\n    <g clip-path=\"url(#p8b75668329)\">\n     <use xlink:href=\"#C5_0_9644e6fae3\" x=\"126.476248\" y=\"307.591455\" style=\"fill: #f7fcf5\"/>\n    </g>\n    <g clip-path=\"url(#p8b75668329)\">\n     <use xlink:href=\"#C5_0_9644e6fae3\" x=\"126.476248\" y=\"295.710463\" style=\"fill: #f7fcf5\"/>\n    </g>\n    <g clip-path=\"url(#p8b75668329)\">\n     <use xlink:href=\"#C5_0_9644e6fae3\" x=\"133.327158\" y=\"426.401372\" style=\"fill: #f7fcf5\"/>\n    </g>\n    <g clip-path=\"url(#p8b75668329)\">\n     <use xlink:href=\"#C5_0_9644e6fae3\" x=\"133.327158\" y=\"414.520381\" style=\"fill: #f7fcf5\"/>\n    </g>\n    <g clip-path=\"url(#p8b75668329)\">\n     <use xlink:href=\"#C5_0_9644e6fae3\" x=\"133.327158\" y=\"402.639389\" style=\"fill: #c7e9c0\"/>\n    </g>\n    <g clip-path=\"url(#p8b75668329)\">\n     <use xlink:href=\"#C5_0_9644e6fae3\" x=\"133.327158\" y=\"390.758397\" style=\"fill: #228a44\"/>\n    </g>\n    <g clip-path=\"url(#p8b75668329)\">\n     <use xlink:href=\"#C5_0_9644e6fae3\" x=\"133.327158\" y=\"378.877406\" style=\"fill: #006c2c\"/>\n    </g>\n    <g clip-path=\"url(#p8b75668329)\">\n     <use xlink:href=\"#C5_0_9644e6fae3\" x=\"133.327158\" y=\"366.996414\" style=\"fill: #00441b\"/>\n    </g>\n    <g clip-path=\"url(#p8b75668329)\">\n     <use xlink:href=\"#C5_0_9644e6fae3\" x=\"133.327158\" y=\"355.115422\" style=\"fill: #228a44\"/>\n    </g>\n    <g clip-path=\"url(#p8b75668329)\">\n     <use xlink:href=\"#C5_0_9644e6fae3\" x=\"133.327158\" y=\"343.23443\" style=\"fill: #f7fcf5\"/>\n    </g>\n    <g clip-path=\"url(#p8b75668329)\">\n     <use xlink:href=\"#C5_0_9644e6fae3\" x=\"133.327158\" y=\"331.353439\" style=\"fill: #e5f5e0\"/>\n    </g>\n    <g clip-path=\"url(#p8b75668329)\">\n     <use xlink:href=\"#C5_0_9644e6fae3\" x=\"133.327158\" y=\"319.472447\" style=\"fill: #f7fcf5\"/>\n    </g>\n    <g clip-path=\"url(#p8b75668329)\">\n     <use xlink:href=\"#C5_0_9644e6fae3\" x=\"133.327158\" y=\"307.591455\" style=\"fill: #f7fcf5\"/>\n    </g>\n    <g clip-path=\"url(#p8b75668329)\">\n     <use xlink:href=\"#C5_0_9644e6fae3\" x=\"133.327158\" y=\"295.710463\" style=\"fill: #f7fcf5\"/>\n    </g>\n    <g clip-path=\"url(#p8b75668329)\">\n     <use xlink:href=\"#C5_0_9644e6fae3\" x=\"140.178067\" y=\"426.401372\" style=\"fill: #f7fcf5\"/>\n    </g>\n    <g clip-path=\"url(#p8b75668329)\">\n     <use xlink:href=\"#C5_0_9644e6fae3\" x=\"140.178067\" y=\"414.520381\" style=\"fill: #f7fcf5\"/>\n    </g>\n    <g clip-path=\"url(#p8b75668329)\">\n     <use xlink:href=\"#C5_0_9644e6fae3\" x=\"140.178067\" y=\"402.639389\" style=\"fill: #a0d99b\"/>\n    </g>\n    <g clip-path=\"url(#p8b75668329)\">\n     <use xlink:href=\"#C5_0_9644e6fae3\" x=\"140.178067\" y=\"390.758397\" style=\"fill: #a0d99b\"/>\n    </g>\n    <g clip-path=\"url(#p8b75668329)\">\n     <use xlink:href=\"#C5_0_9644e6fae3\" x=\"140.178067\" y=\"378.877406\" style=\"fill: #e5f5e0\"/>\n    </g>\n    <g clip-path=\"url(#p8b75668329)\">\n     <use xlink:href=\"#C5_0_9644e6fae3\" x=\"140.178067\" y=\"366.996414\" style=\"fill: #e5f5e0\"/>\n    </g>\n    <g clip-path=\"url(#p8b75668329)\">\n     <use xlink:href=\"#C5_0_9644e6fae3\" x=\"140.178067\" y=\"355.115422\" style=\"fill: #e5f5e0\"/>\n    </g>\n    <g clip-path=\"url(#p8b75668329)\">\n     <use xlink:href=\"#C5_0_9644e6fae3\" x=\"140.178067\" y=\"343.23443\" style=\"fill: #73c476\"/>\n    </g>\n    <g clip-path=\"url(#p8b75668329)\">\n     <use xlink:href=\"#C5_0_9644e6fae3\" x=\"140.178067\" y=\"331.353439\" style=\"fill: #006c2c\"/>\n    </g>\n    <g clip-path=\"url(#p8b75668329)\">\n     <use xlink:href=\"#C5_0_9644e6fae3\" x=\"140.178067\" y=\"319.472447\" style=\"fill: #f7fcf5\"/>\n    </g>\n    <g clip-path=\"url(#p8b75668329)\">\n     <use xlink:href=\"#C5_0_9644e6fae3\" x=\"140.178067\" y=\"307.591455\" style=\"fill: #f7fcf5\"/>\n    </g>\n    <g clip-path=\"url(#p8b75668329)\">\n     <use xlink:href=\"#C5_0_9644e6fae3\" x=\"140.178067\" y=\"295.710463\" style=\"fill: #f7fcf5\"/>\n    </g>\n    <g clip-path=\"url(#p8b75668329)\">\n     <use xlink:href=\"#C5_0_9644e6fae3\" x=\"147.028976\" y=\"426.401372\" style=\"fill: #f7fcf5\"/>\n    </g>\n    <g clip-path=\"url(#p8b75668329)\">\n     <use xlink:href=\"#C5_0_9644e6fae3\" x=\"147.028976\" y=\"414.520381\" style=\"fill: #f7fcf5\"/>\n    </g>\n    <g clip-path=\"url(#p8b75668329)\">\n     <use xlink:href=\"#C5_0_9644e6fae3\" x=\"147.028976\" y=\"402.639389\" style=\"fill: #f7fcf5\"/>\n    </g>\n    <g clip-path=\"url(#p8b75668329)\">\n     <use xlink:href=\"#C5_0_9644e6fae3\" x=\"147.028976\" y=\"390.758397\" style=\"fill: #e5f5e0\"/>\n    </g>\n    <g clip-path=\"url(#p8b75668329)\">\n     <use xlink:href=\"#C5_0_9644e6fae3\" x=\"147.028976\" y=\"378.877406\" style=\"fill: #f7fcf5\"/>\n    </g>\n    <g clip-path=\"url(#p8b75668329)\">\n     <use xlink:href=\"#C5_0_9644e6fae3\" x=\"147.028976\" y=\"366.996414\" style=\"fill: #f7fcf5\"/>\n    </g>\n    <g clip-path=\"url(#p8b75668329)\">\n     <use xlink:href=\"#C5_0_9644e6fae3\" x=\"147.028976\" y=\"355.115422\" style=\"fill: #f7fcf5\"/>\n    </g>\n    <g clip-path=\"url(#p8b75668329)\">\n     <use xlink:href=\"#C5_0_9644e6fae3\" x=\"147.028976\" y=\"343.23443\" style=\"fill: #f7fcf5\"/>\n    </g>\n    <g clip-path=\"url(#p8b75668329)\">\n     <use xlink:href=\"#C5_0_9644e6fae3\" x=\"147.028976\" y=\"331.353439\" style=\"fill: #f7fcf5\"/>\n    </g>\n    <g clip-path=\"url(#p8b75668329)\">\n     <use xlink:href=\"#C5_0_9644e6fae3\" x=\"147.028976\" y=\"319.472447\" style=\"fill: #f7fcf5\"/>\n    </g>\n    <g clip-path=\"url(#p8b75668329)\">\n     <use xlink:href=\"#C5_0_9644e6fae3\" x=\"147.028976\" y=\"307.591455\" style=\"fill: #f7fcf5\"/>\n    </g>\n    <g clip-path=\"url(#p8b75668329)\">\n     <use xlink:href=\"#C5_0_9644e6fae3\" x=\"147.028976\" y=\"295.710463\" style=\"fill: #f7fcf5\"/>\n    </g>\n    <g clip-path=\"url(#p8b75668329)\">\n     <use xlink:href=\"#C5_0_9644e6fae3\" x=\"153.879885\" y=\"426.401372\" style=\"fill: #f7fcf5\"/>\n    </g>\n    <g clip-path=\"url(#p8b75668329)\">\n     <use xlink:href=\"#C5_0_9644e6fae3\" x=\"153.879885\" y=\"414.520381\" style=\"fill: #f7fcf5\"/>\n    </g>\n    <g clip-path=\"url(#p8b75668329)\">\n     <use xlink:href=\"#C5_0_9644e6fae3\" x=\"153.879885\" y=\"402.639389\" style=\"fill: #f7fcf5\"/>\n    </g>\n    <g clip-path=\"url(#p8b75668329)\">\n     <use xlink:href=\"#C5_0_9644e6fae3\" x=\"153.879885\" y=\"390.758397\" style=\"fill: #a0d99b\"/>\n    </g>\n    <g clip-path=\"url(#p8b75668329)\">\n     <use xlink:href=\"#C5_0_9644e6fae3\" x=\"153.879885\" y=\"378.877406\" style=\"fill: #f7fcf5\"/>\n    </g>\n    <g clip-path=\"url(#p8b75668329)\">\n     <use xlink:href=\"#C5_0_9644e6fae3\" x=\"153.879885\" y=\"366.996414\" style=\"fill: #f7fcf5\"/>\n    </g>\n    <g clip-path=\"url(#p8b75668329)\">\n     <use xlink:href=\"#C5_0_9644e6fae3\" x=\"153.879885\" y=\"355.115422\" style=\"fill: #f7fcf5\"/>\n    </g>\n    <g clip-path=\"url(#p8b75668329)\">\n     <use xlink:href=\"#C5_0_9644e6fae3\" x=\"153.879885\" y=\"343.23443\" style=\"fill: #f7fcf5\"/>\n    </g>\n    <g clip-path=\"url(#p8b75668329)\">\n     <use xlink:href=\"#C5_0_9644e6fae3\" x=\"153.879885\" y=\"331.353439\" style=\"fill: #f7fcf5\"/>\n    </g>\n    <g clip-path=\"url(#p8b75668329)\">\n     <use xlink:href=\"#C5_0_9644e6fae3\" x=\"153.879885\" y=\"319.472447\" style=\"fill: #f7fcf5\"/>\n    </g>\n    <g clip-path=\"url(#p8b75668329)\">\n     <use xlink:href=\"#C5_0_9644e6fae3\" x=\"153.879885\" y=\"307.591455\" style=\"fill: #f7fcf5\"/>\n    </g>\n    <g clip-path=\"url(#p8b75668329)\">\n     <use xlink:href=\"#C5_0_9644e6fae3\" x=\"153.879885\" y=\"295.710463\" style=\"fill: #f7fcf5\"/>\n    </g>\n    <g clip-path=\"url(#p8b75668329)\">\n     <use xlink:href=\"#C5_0_9644e6fae3\" x=\"20.287158\" y=\"420.460877\" style=\"fill: #f7fcf5\"/>\n    </g>\n    <g clip-path=\"url(#p8b75668329)\">\n     <use xlink:href=\"#C5_0_9644e6fae3\" x=\"20.287158\" y=\"408.579885\" style=\"fill: #e5f5e0\"/>\n    </g>\n    <g clip-path=\"url(#p8b75668329)\">\n     <use xlink:href=\"#C5_0_9644e6fae3\" x=\"20.287158\" y=\"396.698893\" style=\"fill: #f7fcf5\"/>\n    </g>\n    <g clip-path=\"url(#p8b75668329)\">\n     <use xlink:href=\"#C5_0_9644e6fae3\" x=\"20.287158\" y=\"384.817901\" style=\"fill: #f7fcf5\"/>\n    </g>\n    <g clip-path=\"url(#p8b75668329)\">\n     <use xlink:href=\"#C5_0_9644e6fae3\" x=\"20.287158\" y=\"372.93691\" style=\"fill: #f7fcf5\"/>\n    </g>\n    <g clip-path=\"url(#p8b75668329)\">\n     <use xlink:href=\"#C5_0_9644e6fae3\" x=\"20.287158\" y=\"361.055918\" style=\"fill: #228a44\"/>\n    </g>\n    <g clip-path=\"url(#p8b75668329)\">\n     <use xlink:href=\"#C5_0_9644e6fae3\" x=\"20.287158\" y=\"349.174926\" style=\"fill: #f7fcf5\"/>\n    </g>\n    <g clip-path=\"url(#p8b75668329)\">\n     <use xlink:href=\"#C5_0_9644e6fae3\" x=\"20.287158\" y=\"337.293934\" style=\"fill: #e5f5e0\"/>\n    </g>\n    <g clip-path=\"url(#p8b75668329)\">\n     <use xlink:href=\"#C5_0_9644e6fae3\" x=\"20.287158\" y=\"325.412943\" style=\"fill: #f7fcf5\"/>\n    </g>\n    <g clip-path=\"url(#p8b75668329)\">\n     <use xlink:href=\"#C5_0_9644e6fae3\" x=\"20.287158\" y=\"313.531951\" style=\"fill: #f7fcf5\"/>\n    </g>\n    <g clip-path=\"url(#p8b75668329)\">\n     <use xlink:href=\"#C5_0_9644e6fae3\" x=\"20.287158\" y=\"301.650959\" style=\"fill: #f7fcf5\"/>\n    </g>\n    <g clip-path=\"url(#p8b75668329)\">\n     <use xlink:href=\"#C5_0_9644e6fae3\" x=\"27.138067\" y=\"420.460877\" style=\"fill: #f7fcf5\"/>\n    </g>\n    <g clip-path=\"url(#p8b75668329)\">\n     <use xlink:href=\"#C5_0_9644e6fae3\" x=\"27.138067\" y=\"408.579885\" style=\"fill: #e5f5e0\"/>\n    </g>\n    <g clip-path=\"url(#p8b75668329)\">\n     <use xlink:href=\"#C5_0_9644e6fae3\" x=\"27.138067\" y=\"396.698893\" style=\"fill: #e5f5e0\"/>\n    </g>\n    <g clip-path=\"url(#p8b75668329)\">\n     <use xlink:href=\"#C5_0_9644e6fae3\" x=\"27.138067\" y=\"384.817901\" style=\"fill: #f7fcf5\"/>\n    </g>\n    <g clip-path=\"url(#p8b75668329)\">\n     <use xlink:href=\"#C5_0_9644e6fae3\" x=\"27.138067\" y=\"372.93691\" style=\"fill: #c7e9c0\"/>\n    </g>\n    <g clip-path=\"url(#p8b75668329)\">\n     <use xlink:href=\"#C5_0_9644e6fae3\" x=\"27.138067\" y=\"361.055918\" style=\"fill: #73c476\"/>\n    </g>\n    <g clip-path=\"url(#p8b75668329)\">\n     <use xlink:href=\"#C5_0_9644e6fae3\" x=\"27.138067\" y=\"349.174926\" style=\"fill: #73c476\"/>\n    </g>\n    <g clip-path=\"url(#p8b75668329)\">\n     <use xlink:href=\"#C5_0_9644e6fae3\" x=\"27.138067\" y=\"337.293934\" style=\"fill: #f7fcf5\"/>\n    </g>\n    <g clip-path=\"url(#p8b75668329)\">\n     <use xlink:href=\"#C5_0_9644e6fae3\" x=\"27.138067\" y=\"325.412943\" style=\"fill: #f7fcf5\"/>\n    </g>\n    <g clip-path=\"url(#p8b75668329)\">\n     <use xlink:href=\"#C5_0_9644e6fae3\" x=\"27.138067\" y=\"313.531951\" style=\"fill: #f7fcf5\"/>\n    </g>\n    <g clip-path=\"url(#p8b75668329)\">\n     <use xlink:href=\"#C5_0_9644e6fae3\" x=\"27.138067\" y=\"301.650959\" style=\"fill: #f7fcf5\"/>\n    </g>\n    <g clip-path=\"url(#p8b75668329)\">\n     <use xlink:href=\"#C5_0_9644e6fae3\" x=\"33.988976\" y=\"420.460877\" style=\"fill: #f7fcf5\"/>\n    </g>\n    <g clip-path=\"url(#p8b75668329)\">\n     <use xlink:href=\"#C5_0_9644e6fae3\" x=\"33.988976\" y=\"408.579885\" style=\"fill: #f7fcf5\"/>\n    </g>\n    <g clip-path=\"url(#p8b75668329)\">\n     <use xlink:href=\"#C5_0_9644e6fae3\" x=\"33.988976\" y=\"396.698893\" style=\"fill: #e5f5e0\"/>\n    </g>\n    <g clip-path=\"url(#p8b75668329)\">\n     <use xlink:href=\"#C5_0_9644e6fae3\" x=\"33.988976\" y=\"384.817901\" style=\"fill: #f7fcf5\"/>\n    </g>\n    <g clip-path=\"url(#p8b75668329)\">\n     <use xlink:href=\"#C5_0_9644e6fae3\" x=\"33.988976\" y=\"372.93691\" style=\"fill: #a0d99b\"/>\n    </g>\n    <g clip-path=\"url(#p8b75668329)\">\n     <use xlink:href=\"#C5_0_9644e6fae3\" x=\"33.988976\" y=\"361.055918\" style=\"fill: #a0d99b\"/>\n    </g>\n    <g clip-path=\"url(#p8b75668329)\">\n     <use xlink:href=\"#C5_0_9644e6fae3\" x=\"33.988976\" y=\"349.174926\" style=\"fill: #73c476\"/>\n    </g>\n    <g clip-path=\"url(#p8b75668329)\">\n     <use xlink:href=\"#C5_0_9644e6fae3\" x=\"33.988976\" y=\"337.293934\" style=\"fill: #e5f5e0\"/>\n    </g>\n    <g clip-path=\"url(#p8b75668329)\">\n     <use xlink:href=\"#C5_0_9644e6fae3\" x=\"33.988976\" y=\"325.412943\" style=\"fill: #f7fcf5\"/>\n    </g>\n    <g clip-path=\"url(#p8b75668329)\">\n     <use xlink:href=\"#C5_0_9644e6fae3\" x=\"33.988976\" y=\"313.531951\" style=\"fill: #f7fcf5\"/>\n    </g>\n    <g clip-path=\"url(#p8b75668329)\">\n     <use xlink:href=\"#C5_0_9644e6fae3\" x=\"33.988976\" y=\"301.650959\" style=\"fill: #f7fcf5\"/>\n    </g>\n    <g clip-path=\"url(#p8b75668329)\">\n     <use xlink:href=\"#C5_0_9644e6fae3\" x=\"40.839885\" y=\"420.460877\" style=\"fill: #f7fcf5\"/>\n    </g>\n    <g clip-path=\"url(#p8b75668329)\">\n     <use xlink:href=\"#C5_0_9644e6fae3\" x=\"40.839885\" y=\"408.579885\" style=\"fill: #f7fcf5\"/>\n    </g>\n    <g clip-path=\"url(#p8b75668329)\">\n     <use xlink:href=\"#C5_0_9644e6fae3\" x=\"40.839885\" y=\"396.698893\" style=\"fill: #f7fcf5\"/>\n    </g>\n    <g clip-path=\"url(#p8b75668329)\">\n     <use xlink:href=\"#C5_0_9644e6fae3\" x=\"40.839885\" y=\"384.817901\" style=\"fill: #e5f5e0\"/>\n    </g>\n    <g clip-path=\"url(#p8b75668329)\">\n     <use xlink:href=\"#C5_0_9644e6fae3\" x=\"40.839885\" y=\"372.93691\" style=\"fill: #e5f5e0\"/>\n    </g>\n    <g clip-path=\"url(#p8b75668329)\">\n     <use xlink:href=\"#C5_0_9644e6fae3\" x=\"40.839885\" y=\"361.055918\" style=\"fill: #c7e9c0\"/>\n    </g>\n    <g clip-path=\"url(#p8b75668329)\">\n     <use xlink:href=\"#C5_0_9644e6fae3\" x=\"40.839885\" y=\"349.174926\" style=\"fill: #e5f5e0\"/>\n    </g>\n    <g clip-path=\"url(#p8b75668329)\">\n     <use xlink:href=\"#C5_0_9644e6fae3\" x=\"40.839885\" y=\"337.293934\" style=\"fill: #e5f5e0\"/>\n    </g>\n    <g clip-path=\"url(#p8b75668329)\">\n     <use xlink:href=\"#C5_0_9644e6fae3\" x=\"40.839885\" y=\"325.412943\" style=\"fill: #f7fcf5\"/>\n    </g>\n    <g clip-path=\"url(#p8b75668329)\">\n     <use xlink:href=\"#C5_0_9644e6fae3\" x=\"40.839885\" y=\"313.531951\" style=\"fill: #f7fcf5\"/>\n    </g>\n    <g clip-path=\"url(#p8b75668329)\">\n     <use xlink:href=\"#C5_0_9644e6fae3\" x=\"40.839885\" y=\"301.650959\" style=\"fill: #f7fcf5\"/>\n    </g>\n    <g clip-path=\"url(#p8b75668329)\">\n     <use xlink:href=\"#C5_0_9644e6fae3\" x=\"47.690794\" y=\"420.460877\" style=\"fill: #f7fcf5\"/>\n    </g>\n    <g clip-path=\"url(#p8b75668329)\">\n     <use xlink:href=\"#C5_0_9644e6fae3\" x=\"47.690794\" y=\"408.579885\" style=\"fill: #f7fcf5\"/>\n    </g>\n    <g clip-path=\"url(#p8b75668329)\">\n     <use xlink:href=\"#C5_0_9644e6fae3\" x=\"47.690794\" y=\"396.698893\" style=\"fill: #c7e9c0\"/>\n    </g>\n    <g clip-path=\"url(#p8b75668329)\">\n     <use xlink:href=\"#C5_0_9644e6fae3\" x=\"47.690794\" y=\"384.817901\" style=\"fill: #c7e9c0\"/>\n    </g>\n    <g clip-path=\"url(#p8b75668329)\">\n     <use xlink:href=\"#C5_0_9644e6fae3\" x=\"47.690794\" y=\"372.93691\" style=\"fill: #a0d99b\"/>\n    </g>\n    <g clip-path=\"url(#p8b75668329)\">\n     <use xlink:href=\"#C5_0_9644e6fae3\" x=\"47.690794\" y=\"361.055918\" style=\"fill: #e5f5e0\"/>\n    </g>\n    <g clip-path=\"url(#p8b75668329)\">\n     <use xlink:href=\"#C5_0_9644e6fae3\" x=\"47.690794\" y=\"349.174926\" style=\"fill: #c7e9c0\"/>\n    </g>\n    <g clip-path=\"url(#p8b75668329)\">\n     <use xlink:href=\"#C5_0_9644e6fae3\" x=\"47.690794\" y=\"337.293934\" style=\"fill: #e5f5e0\"/>\n    </g>\n    <g clip-path=\"url(#p8b75668329)\">\n     <use xlink:href=\"#C5_0_9644e6fae3\" x=\"47.690794\" y=\"325.412943\" style=\"fill: #e5f5e0\"/>\n    </g>\n    <g clip-path=\"url(#p8b75668329)\">\n     <use xlink:href=\"#C5_0_9644e6fae3\" x=\"47.690794\" y=\"313.531951\" style=\"fill: #e5f5e0\"/>\n    </g>\n    <g clip-path=\"url(#p8b75668329)\">\n     <use xlink:href=\"#C5_0_9644e6fae3\" x=\"47.690794\" y=\"301.650959\" style=\"fill: #c7e9c0\"/>\n    </g>\n    <g clip-path=\"url(#p8b75668329)\">\n     <use xlink:href=\"#C5_0_9644e6fae3\" x=\"54.541703\" y=\"420.460877\" style=\"fill: #e5f5e0\"/>\n    </g>\n    <g clip-path=\"url(#p8b75668329)\">\n     <use xlink:href=\"#C5_0_9644e6fae3\" x=\"54.541703\" y=\"408.579885\" style=\"fill: #e5f5e0\"/>\n    </g>\n    <g clip-path=\"url(#p8b75668329)\">\n     <use xlink:href=\"#C5_0_9644e6fae3\" x=\"54.541703\" y=\"396.698893\" style=\"fill: #f7fcf5\"/>\n    </g>\n    <g clip-path=\"url(#p8b75668329)\">\n     <use xlink:href=\"#C5_0_9644e6fae3\" x=\"54.541703\" y=\"384.817901\" style=\"fill: #f7fcf5\"/>\n    </g>\n    <g clip-path=\"url(#p8b75668329)\">\n     <use xlink:href=\"#C5_0_9644e6fae3\" x=\"54.541703\" y=\"372.93691\" style=\"fill: #73c476\"/>\n    </g>\n    <g clip-path=\"url(#p8b75668329)\">\n     <use xlink:href=\"#C5_0_9644e6fae3\" x=\"54.541703\" y=\"361.055918\" style=\"fill: #f7fcf5\"/>\n    </g>\n    <g clip-path=\"url(#p8b75668329)\">\n     <use xlink:href=\"#C5_0_9644e6fae3\" x=\"54.541703\" y=\"349.174926\" style=\"fill: #e5f5e0\"/>\n    </g>\n    <g clip-path=\"url(#p8b75668329)\">\n     <use xlink:href=\"#C5_0_9644e6fae3\" x=\"54.541703\" y=\"337.293934\" style=\"fill: #a0d99b\"/>\n    </g>\n    <g clip-path=\"url(#p8b75668329)\">\n     <use xlink:href=\"#C5_0_9644e6fae3\" x=\"54.541703\" y=\"325.412943\" style=\"fill: #a0d99b\"/>\n    </g>\n    <g clip-path=\"url(#p8b75668329)\">\n     <use xlink:href=\"#C5_0_9644e6fae3\" x=\"54.541703\" y=\"313.531951\" style=\"fill: #a0d99b\"/>\n    </g>\n    <g clip-path=\"url(#p8b75668329)\">\n     <use xlink:href=\"#C5_0_9644e6fae3\" x=\"54.541703\" y=\"301.650959\" style=\"fill: #f7fcf5\"/>\n    </g>\n    <g clip-path=\"url(#p8b75668329)\">\n     <use xlink:href=\"#C5_0_9644e6fae3\" x=\"61.392612\" y=\"420.460877\" style=\"fill: #f7fcf5\"/>\n    </g>\n    <g clip-path=\"url(#p8b75668329)\">\n     <use xlink:href=\"#C5_0_9644e6fae3\" x=\"61.392612\" y=\"408.579885\" style=\"fill: #a0d99b\"/>\n    </g>\n    <g clip-path=\"url(#p8b75668329)\">\n     <use xlink:href=\"#C5_0_9644e6fae3\" x=\"61.392612\" y=\"396.698893\" style=\"fill: #73c476\"/>\n    </g>\n    <g clip-path=\"url(#p8b75668329)\">\n     <use xlink:href=\"#C5_0_9644e6fae3\" x=\"61.392612\" y=\"384.817901\" style=\"fill: #c7e9c0\"/>\n    </g>\n    <g clip-path=\"url(#p8b75668329)\">\n     <use xlink:href=\"#C5_0_9644e6fae3\" x=\"61.392612\" y=\"372.93691\" style=\"fill: #e5f5e0\"/>\n    </g>\n    <g clip-path=\"url(#p8b75668329)\">\n     <use xlink:href=\"#C5_0_9644e6fae3\" x=\"61.392612\" y=\"361.055918\" style=\"fill: #c7e9c0\"/>\n    </g>\n    <g clip-path=\"url(#p8b75668329)\">\n     <use xlink:href=\"#C5_0_9644e6fae3\" x=\"61.392612\" y=\"349.174926\" style=\"fill: #c7e9c0\"/>\n    </g>\n    <g clip-path=\"url(#p8b75668329)\">\n     <use xlink:href=\"#C5_0_9644e6fae3\" x=\"61.392612\" y=\"337.293934\" style=\"fill: #c7e9c0\"/>\n    </g>\n    <g clip-path=\"url(#p8b75668329)\">\n     <use xlink:href=\"#C5_0_9644e6fae3\" x=\"61.392612\" y=\"325.412943\" style=\"fill: #73c476\"/>\n    </g>\n    <g clip-path=\"url(#p8b75668329)\">\n     <use xlink:href=\"#C5_0_9644e6fae3\" x=\"61.392612\" y=\"313.531951\" style=\"fill: #f7fcf5\"/>\n    </g>\n    <g clip-path=\"url(#p8b75668329)\">\n     <use xlink:href=\"#C5_0_9644e6fae3\" x=\"61.392612\" y=\"301.650959\" style=\"fill: #f7fcf5\"/>\n    </g>\n    <g clip-path=\"url(#p8b75668329)\">\n     <use xlink:href=\"#C5_0_9644e6fae3\" x=\"68.243521\" y=\"420.460877\" style=\"fill: #f7fcf5\"/>\n    </g>\n    <g clip-path=\"url(#p8b75668329)\">\n     <use xlink:href=\"#C5_0_9644e6fae3\" x=\"68.243521\" y=\"408.579885\" style=\"fill: #40aa5d\"/>\n    </g>\n    <g clip-path=\"url(#p8b75668329)\">\n     <use xlink:href=\"#C5_0_9644e6fae3\" x=\"68.243521\" y=\"396.698893\" style=\"fill: #c7e9c0\"/>\n    </g>\n    <g clip-path=\"url(#p8b75668329)\">\n     <use xlink:href=\"#C5_0_9644e6fae3\" x=\"68.243521\" y=\"384.817901\" style=\"fill: #a0d99b\"/>\n    </g>\n    <g clip-path=\"url(#p8b75668329)\">\n     <use xlink:href=\"#C5_0_9644e6fae3\" x=\"68.243521\" y=\"372.93691\" style=\"fill: #73c476\"/>\n    </g>\n    <g clip-path=\"url(#p8b75668329)\">\n     <use xlink:href=\"#C5_0_9644e6fae3\" x=\"68.243521\" y=\"361.055918\" style=\"fill: #40aa5d\"/>\n    </g>\n    <g clip-path=\"url(#p8b75668329)\">\n     <use xlink:href=\"#C5_0_9644e6fae3\" x=\"68.243521\" y=\"349.174926\" style=\"fill: #a0d99b\"/>\n    </g>\n    <g clip-path=\"url(#p8b75668329)\">\n     <use xlink:href=\"#C5_0_9644e6fae3\" x=\"68.243521\" y=\"337.293934\" style=\"fill: #f7fcf5\"/>\n    </g>\n    <g clip-path=\"url(#p8b75668329)\">\n     <use xlink:href=\"#C5_0_9644e6fae3\" x=\"68.243521\" y=\"325.412943\" style=\"fill: #f7fcf5\"/>\n    </g>\n    <g clip-path=\"url(#p8b75668329)\">\n     <use xlink:href=\"#C5_0_9644e6fae3\" x=\"68.243521\" y=\"313.531951\" style=\"fill: #f7fcf5\"/>\n    </g>\n    <g clip-path=\"url(#p8b75668329)\">\n     <use xlink:href=\"#C5_0_9644e6fae3\" x=\"68.243521\" y=\"301.650959\" style=\"fill: #f7fcf5\"/>\n    </g>\n    <g clip-path=\"url(#p8b75668329)\">\n     <use xlink:href=\"#C5_0_9644e6fae3\" x=\"75.09443\" y=\"420.460877\" style=\"fill: #f7fcf5\"/>\n    </g>\n    <g clip-path=\"url(#p8b75668329)\">\n     <use xlink:href=\"#C5_0_9644e6fae3\" x=\"75.09443\" y=\"408.579885\" style=\"fill: #f7fcf5\"/>\n    </g>\n    <g clip-path=\"url(#p8b75668329)\">\n     <use xlink:href=\"#C5_0_9644e6fae3\" x=\"75.09443\" y=\"396.698893\" style=\"fill: #a0d99b\"/>\n    </g>\n    <g clip-path=\"url(#p8b75668329)\">\n     <use xlink:href=\"#C5_0_9644e6fae3\" x=\"75.09443\" y=\"384.817901\" style=\"fill: #c7e9c0\"/>\n    </g>\n    <g clip-path=\"url(#p8b75668329)\">\n     <use xlink:href=\"#C5_0_9644e6fae3\" x=\"75.09443\" y=\"372.93691\" style=\"fill: #a0d99b\"/>\n    </g>\n    <g clip-path=\"url(#p8b75668329)\">\n     <use xlink:href=\"#C5_0_9644e6fae3\" x=\"75.09443\" y=\"361.055918\" style=\"fill: #f7fcf5\"/>\n    </g>\n    <g clip-path=\"url(#p8b75668329)\">\n     <use xlink:href=\"#C5_0_9644e6fae3\" x=\"75.09443\" y=\"349.174926\" style=\"fill: #c7e9c0\"/>\n    </g>\n    <g clip-path=\"url(#p8b75668329)\">\n     <use xlink:href=\"#C5_0_9644e6fae3\" x=\"75.09443\" y=\"337.293934\" style=\"fill: #e5f5e0\"/>\n    </g>\n    <g clip-path=\"url(#p8b75668329)\">\n     <use xlink:href=\"#C5_0_9644e6fae3\" x=\"75.09443\" y=\"325.412943\" style=\"fill: #e5f5e0\"/>\n    </g>\n    <g clip-path=\"url(#p8b75668329)\">\n     <use xlink:href=\"#C5_0_9644e6fae3\" x=\"75.09443\" y=\"313.531951\" style=\"fill: #f7fcf5\"/>\n    </g>\n    <g clip-path=\"url(#p8b75668329)\">\n     <use xlink:href=\"#C5_0_9644e6fae3\" x=\"75.09443\" y=\"301.650959\" style=\"fill: #f7fcf5\"/>\n    </g>\n    <g clip-path=\"url(#p8b75668329)\">\n     <use xlink:href=\"#C5_0_9644e6fae3\" x=\"81.945339\" y=\"420.460877\" style=\"fill: #f7fcf5\"/>\n    </g>\n    <g clip-path=\"url(#p8b75668329)\">\n     <use xlink:href=\"#C5_0_9644e6fae3\" x=\"81.945339\" y=\"408.579885\" style=\"fill: #f7fcf5\"/>\n    </g>\n    <g clip-path=\"url(#p8b75668329)\">\n     <use xlink:href=\"#C5_0_9644e6fae3\" x=\"81.945339\" y=\"396.698893\" style=\"fill: #228a44\"/>\n    </g>\n    <g clip-path=\"url(#p8b75668329)\">\n     <use xlink:href=\"#C5_0_9644e6fae3\" x=\"81.945339\" y=\"384.817901\" style=\"fill: #40aa5d\"/>\n    </g>\n    <g clip-path=\"url(#p8b75668329)\">\n     <use xlink:href=\"#C5_0_9644e6fae3\" x=\"81.945339\" y=\"372.93691\" style=\"fill: #e5f5e0\"/>\n    </g>\n    <g clip-path=\"url(#p8b75668329)\">\n     <use xlink:href=\"#C5_0_9644e6fae3\" x=\"81.945339\" y=\"361.055918\" style=\"fill: #e5f5e0\"/>\n    </g>\n    <g clip-path=\"url(#p8b75668329)\">\n     <use xlink:href=\"#C5_0_9644e6fae3\" x=\"81.945339\" y=\"349.174926\" style=\"fill: #a0d99b\"/>\n    </g>\n    <g clip-path=\"url(#p8b75668329)\">\n     <use xlink:href=\"#C5_0_9644e6fae3\" x=\"81.945339\" y=\"337.293934\" style=\"fill: #f7fcf5\"/>\n    </g>\n    <g clip-path=\"url(#p8b75668329)\">\n     <use xlink:href=\"#C5_0_9644e6fae3\" x=\"81.945339\" y=\"325.412943\" style=\"fill: #e5f5e0\"/>\n    </g>\n    <g clip-path=\"url(#p8b75668329)\">\n     <use xlink:href=\"#C5_0_9644e6fae3\" x=\"81.945339\" y=\"313.531951\" style=\"fill: #f7fcf5\"/>\n    </g>\n    <g clip-path=\"url(#p8b75668329)\">\n     <use xlink:href=\"#C5_0_9644e6fae3\" x=\"81.945339\" y=\"301.650959\" style=\"fill: #f7fcf5\"/>\n    </g>\n    <g clip-path=\"url(#p8b75668329)\">\n     <use xlink:href=\"#C5_0_9644e6fae3\" x=\"88.796248\" y=\"420.460877\" style=\"fill: #a0d99b\"/>\n    </g>\n    <g clip-path=\"url(#p8b75668329)\">\n     <use xlink:href=\"#C5_0_9644e6fae3\" x=\"88.796248\" y=\"408.579885\" style=\"fill: #e5f5e0\"/>\n    </g>\n    <g clip-path=\"url(#p8b75668329)\">\n     <use xlink:href=\"#C5_0_9644e6fae3\" x=\"88.796248\" y=\"396.698893\" style=\"fill: #e5f5e0\"/>\n    </g>\n    <g clip-path=\"url(#p8b75668329)\">\n     <use xlink:href=\"#C5_0_9644e6fae3\" x=\"88.796248\" y=\"384.817901\" style=\"fill: #f7fcf5\"/>\n    </g>\n    <g clip-path=\"url(#p8b75668329)\">\n     <use xlink:href=\"#C5_0_9644e6fae3\" x=\"88.796248\" y=\"372.93691\" style=\"fill: #c7e9c0\"/>\n    </g>\n    <g clip-path=\"url(#p8b75668329)\">\n     <use xlink:href=\"#C5_0_9644e6fae3\" x=\"88.796248\" y=\"361.055918\" style=\"fill: #73c476\"/>\n    </g>\n    <g clip-path=\"url(#p8b75668329)\">\n     <use xlink:href=\"#C5_0_9644e6fae3\" x=\"88.796248\" y=\"349.174926\" style=\"fill: #c7e9c0\"/>\n    </g>\n    <g clip-path=\"url(#p8b75668329)\">\n     <use xlink:href=\"#C5_0_9644e6fae3\" x=\"88.796248\" y=\"337.293934\" style=\"fill: #a0d99b\"/>\n    </g>\n    <g clip-path=\"url(#p8b75668329)\">\n     <use xlink:href=\"#C5_0_9644e6fae3\" x=\"88.796248\" y=\"325.412943\" style=\"fill: #f7fcf5\"/>\n    </g>\n    <g clip-path=\"url(#p8b75668329)\">\n     <use xlink:href=\"#C5_0_9644e6fae3\" x=\"88.796248\" y=\"313.531951\" style=\"fill: #f7fcf5\"/>\n    </g>\n    <g clip-path=\"url(#p8b75668329)\">\n     <use xlink:href=\"#C5_0_9644e6fae3\" x=\"88.796248\" y=\"301.650959\" style=\"fill: #f7fcf5\"/>\n    </g>\n    <g clip-path=\"url(#p8b75668329)\">\n     <use xlink:href=\"#C5_0_9644e6fae3\" x=\"95.647158\" y=\"420.460877\" style=\"fill: #e5f5e0\"/>\n    </g>\n    <g clip-path=\"url(#p8b75668329)\">\n     <use xlink:href=\"#C5_0_9644e6fae3\" x=\"95.647158\" y=\"408.579885\" style=\"fill: #228a44\"/>\n    </g>\n    <g clip-path=\"url(#p8b75668329)\">\n     <use xlink:href=\"#C5_0_9644e6fae3\" x=\"95.647158\" y=\"396.698893\" style=\"fill: #228a44\"/>\n    </g>\n    <g clip-path=\"url(#p8b75668329)\">\n     <use xlink:href=\"#C5_0_9644e6fae3\" x=\"95.647158\" y=\"384.817901\" style=\"fill: #c7e9c0\"/>\n    </g>\n    <g clip-path=\"url(#p8b75668329)\">\n     <use xlink:href=\"#C5_0_9644e6fae3\" x=\"95.647158\" y=\"372.93691\" style=\"fill: #c7e9c0\"/>\n    </g>\n    <g clip-path=\"url(#p8b75668329)\">\n     <use xlink:href=\"#C5_0_9644e6fae3\" x=\"95.647158\" y=\"361.055918\" style=\"fill: #c7e9c0\"/>\n    </g>\n    <g clip-path=\"url(#p8b75668329)\">\n     <use xlink:href=\"#C5_0_9644e6fae3\" x=\"95.647158\" y=\"349.174926\" style=\"fill: #a0d99b\"/>\n    </g>\n    <g clip-path=\"url(#p8b75668329)\">\n     <use xlink:href=\"#C5_0_9644e6fae3\" x=\"95.647158\" y=\"337.293934\" style=\"fill: #e5f5e0\"/>\n    </g>\n    <g clip-path=\"url(#p8b75668329)\">\n     <use xlink:href=\"#C5_0_9644e6fae3\" x=\"95.647158\" y=\"325.412943\" style=\"fill: #f7fcf5\"/>\n    </g>\n    <g clip-path=\"url(#p8b75668329)\">\n     <use xlink:href=\"#C5_0_9644e6fae3\" x=\"95.647158\" y=\"313.531951\" style=\"fill: #f7fcf5\"/>\n    </g>\n    <g clip-path=\"url(#p8b75668329)\">\n     <use xlink:href=\"#C5_0_9644e6fae3\" x=\"95.647158\" y=\"301.650959\" style=\"fill: #f7fcf5\"/>\n    </g>\n    <g clip-path=\"url(#p8b75668329)\">\n     <use xlink:href=\"#C5_0_9644e6fae3\" x=\"102.498067\" y=\"420.460877\" style=\"fill: #f7fcf5\"/>\n    </g>\n    <g clip-path=\"url(#p8b75668329)\">\n     <use xlink:href=\"#C5_0_9644e6fae3\" x=\"102.498067\" y=\"408.579885\" style=\"fill: #73c476\"/>\n    </g>\n    <g clip-path=\"url(#p8b75668329)\">\n     <use xlink:href=\"#C5_0_9644e6fae3\" x=\"102.498067\" y=\"396.698893\" style=\"fill: #e5f5e0\"/>\n    </g>\n    <g clip-path=\"url(#p8b75668329)\">\n     <use xlink:href=\"#C5_0_9644e6fae3\" x=\"102.498067\" y=\"384.817901\" style=\"fill: #c7e9c0\"/>\n    </g>\n    <g clip-path=\"url(#p8b75668329)\">\n     <use xlink:href=\"#C5_0_9644e6fae3\" x=\"102.498067\" y=\"372.93691\" style=\"fill: #f7fcf5\"/>\n    </g>\n    <g clip-path=\"url(#p8b75668329)\">\n     <use xlink:href=\"#C5_0_9644e6fae3\" x=\"102.498067\" y=\"361.055918\" style=\"fill: #a0d99b\"/>\n    </g>\n    <g clip-path=\"url(#p8b75668329)\">\n     <use xlink:href=\"#C5_0_9644e6fae3\" x=\"102.498067\" y=\"349.174926\" style=\"fill: #73c476\"/>\n    </g>\n    <g clip-path=\"url(#p8b75668329)\">\n     <use xlink:href=\"#C5_0_9644e6fae3\" x=\"102.498067\" y=\"337.293934\" style=\"fill: #e5f5e0\"/>\n    </g>\n    <g clip-path=\"url(#p8b75668329)\">\n     <use xlink:href=\"#C5_0_9644e6fae3\" x=\"102.498067\" y=\"325.412943\" style=\"fill: #f7fcf5\"/>\n    </g>\n    <g clip-path=\"url(#p8b75668329)\">\n     <use xlink:href=\"#C5_0_9644e6fae3\" x=\"102.498067\" y=\"313.531951\" style=\"fill: #f7fcf5\"/>\n    </g>\n    <g clip-path=\"url(#p8b75668329)\">\n     <use xlink:href=\"#C5_0_9644e6fae3\" x=\"102.498067\" y=\"301.650959\" style=\"fill: #f7fcf5\"/>\n    </g>\n    <g clip-path=\"url(#p8b75668329)\">\n     <use xlink:href=\"#C5_0_9644e6fae3\" x=\"109.348976\" y=\"420.460877\" style=\"fill: #f7fcf5\"/>\n    </g>\n    <g clip-path=\"url(#p8b75668329)\">\n     <use xlink:href=\"#C5_0_9644e6fae3\" x=\"109.348976\" y=\"408.579885\" style=\"fill: #c7e9c0\"/>\n    </g>\n    <g clip-path=\"url(#p8b75668329)\">\n     <use xlink:href=\"#C5_0_9644e6fae3\" x=\"109.348976\" y=\"396.698893\" style=\"fill: #c7e9c0\"/>\n    </g>\n    <g clip-path=\"url(#p8b75668329)\">\n     <use xlink:href=\"#C5_0_9644e6fae3\" x=\"109.348976\" y=\"384.817901\" style=\"fill: #e5f5e0\"/>\n    </g>\n    <g clip-path=\"url(#p8b75668329)\">\n     <use xlink:href=\"#C5_0_9644e6fae3\" x=\"109.348976\" y=\"372.93691\" style=\"fill: #c7e9c0\"/>\n    </g>\n    <g clip-path=\"url(#p8b75668329)\">\n     <use xlink:href=\"#C5_0_9644e6fae3\" x=\"109.348976\" y=\"361.055918\" style=\"fill: #40aa5d\"/>\n    </g>\n    <g clip-path=\"url(#p8b75668329)\">\n     <use xlink:href=\"#C5_0_9644e6fae3\" x=\"109.348976\" y=\"349.174926\" style=\"fill: #f7fcf5\"/>\n    </g>\n    <g clip-path=\"url(#p8b75668329)\">\n     <use xlink:href=\"#C5_0_9644e6fae3\" x=\"109.348976\" y=\"337.293934\" style=\"fill: #f7fcf5\"/>\n    </g>\n    <g clip-path=\"url(#p8b75668329)\">\n     <use xlink:href=\"#C5_0_9644e6fae3\" x=\"109.348976\" y=\"325.412943\" style=\"fill: #a0d99b\"/>\n    </g>\n    <g clip-path=\"url(#p8b75668329)\">\n     <use xlink:href=\"#C5_0_9644e6fae3\" x=\"109.348976\" y=\"313.531951\" style=\"fill: #f7fcf5\"/>\n    </g>\n    <g clip-path=\"url(#p8b75668329)\">\n     <use xlink:href=\"#C5_0_9644e6fae3\" x=\"109.348976\" y=\"301.650959\" style=\"fill: #f7fcf5\"/>\n    </g>\n    <g clip-path=\"url(#p8b75668329)\">\n     <use xlink:href=\"#C5_0_9644e6fae3\" x=\"116.199885\" y=\"420.460877\" style=\"fill: #f7fcf5\"/>\n    </g>\n    <g clip-path=\"url(#p8b75668329)\">\n     <use xlink:href=\"#C5_0_9644e6fae3\" x=\"116.199885\" y=\"408.579885\" style=\"fill: #e5f5e0\"/>\n    </g>\n    <g clip-path=\"url(#p8b75668329)\">\n     <use xlink:href=\"#C5_0_9644e6fae3\" x=\"116.199885\" y=\"396.698893\" style=\"fill: #006c2c\"/>\n    </g>\n    <g clip-path=\"url(#p8b75668329)\">\n     <use xlink:href=\"#C5_0_9644e6fae3\" x=\"116.199885\" y=\"384.817901\" style=\"fill: #40aa5d\"/>\n    </g>\n    <g clip-path=\"url(#p8b75668329)\">\n     <use xlink:href=\"#C5_0_9644e6fae3\" x=\"116.199885\" y=\"372.93691\" style=\"fill: #228a44\"/>\n    </g>\n    <g clip-path=\"url(#p8b75668329)\">\n     <use xlink:href=\"#C5_0_9644e6fae3\" x=\"116.199885\" y=\"361.055918\" style=\"fill: #c7e9c0\"/>\n    </g>\n    <g clip-path=\"url(#p8b75668329)\">\n     <use xlink:href=\"#C5_0_9644e6fae3\" x=\"116.199885\" y=\"349.174926\" style=\"fill: #e5f5e0\"/>\n    </g>\n    <g clip-path=\"url(#p8b75668329)\">\n     <use xlink:href=\"#C5_0_9644e6fae3\" x=\"116.199885\" y=\"337.293934\" style=\"fill: #f7fcf5\"/>\n    </g>\n    <g clip-path=\"url(#p8b75668329)\">\n     <use xlink:href=\"#C5_0_9644e6fae3\" x=\"116.199885\" y=\"325.412943\" style=\"fill: #e5f5e0\"/>\n    </g>\n    <g clip-path=\"url(#p8b75668329)\">\n     <use xlink:href=\"#C5_0_9644e6fae3\" x=\"116.199885\" y=\"313.531951\" style=\"fill: #f7fcf5\"/>\n    </g>\n    <g clip-path=\"url(#p8b75668329)\">\n     <use xlink:href=\"#C5_0_9644e6fae3\" x=\"116.199885\" y=\"301.650959\" style=\"fill: #f7fcf5\"/>\n    </g>\n    <g clip-path=\"url(#p8b75668329)\">\n     <use xlink:href=\"#C5_0_9644e6fae3\" x=\"123.050794\" y=\"420.460877\" style=\"fill: #f7fcf5\"/>\n    </g>\n    <g clip-path=\"url(#p8b75668329)\">\n     <use xlink:href=\"#C5_0_9644e6fae3\" x=\"123.050794\" y=\"408.579885\" style=\"fill: #f7fcf5\"/>\n    </g>\n    <g clip-path=\"url(#p8b75668329)\">\n     <use xlink:href=\"#C5_0_9644e6fae3\" x=\"123.050794\" y=\"396.698893\" style=\"fill: #f7fcf5\"/>\n    </g>\n    <g clip-path=\"url(#p8b75668329)\">\n     <use xlink:href=\"#C5_0_9644e6fae3\" x=\"123.050794\" y=\"384.817901\" style=\"fill: #006c2c\"/>\n    </g>\n    <g clip-path=\"url(#p8b75668329)\">\n     <use xlink:href=\"#C5_0_9644e6fae3\" x=\"123.050794\" y=\"372.93691\" style=\"fill: #a0d99b\"/>\n    </g>\n    <g clip-path=\"url(#p8b75668329)\">\n     <use xlink:href=\"#C5_0_9644e6fae3\" x=\"123.050794\" y=\"361.055918\" style=\"fill: #e5f5e0\"/>\n    </g>\n    <g clip-path=\"url(#p8b75668329)\">\n     <use xlink:href=\"#C5_0_9644e6fae3\" x=\"123.050794\" y=\"349.174926\" style=\"fill: #a0d99b\"/>\n    </g>\n    <g clip-path=\"url(#p8b75668329)\">\n     <use xlink:href=\"#C5_0_9644e6fae3\" x=\"123.050794\" y=\"337.293934\" style=\"fill: #c7e9c0\"/>\n    </g>\n    <g clip-path=\"url(#p8b75668329)\">\n     <use xlink:href=\"#C5_0_9644e6fae3\" x=\"123.050794\" y=\"325.412943\" style=\"fill: #f7fcf5\"/>\n    </g>\n    <g clip-path=\"url(#p8b75668329)\">\n     <use xlink:href=\"#C5_0_9644e6fae3\" x=\"123.050794\" y=\"313.531951\" style=\"fill: #f7fcf5\"/>\n    </g>\n    <g clip-path=\"url(#p8b75668329)\">\n     <use xlink:href=\"#C5_0_9644e6fae3\" x=\"123.050794\" y=\"301.650959\" style=\"fill: #f7fcf5\"/>\n    </g>\n    <g clip-path=\"url(#p8b75668329)\">\n     <use xlink:href=\"#C5_0_9644e6fae3\" x=\"129.901703\" y=\"420.460877\" style=\"fill: #f7fcf5\"/>\n    </g>\n    <g clip-path=\"url(#p8b75668329)\">\n     <use xlink:href=\"#C5_0_9644e6fae3\" x=\"129.901703\" y=\"408.579885\" style=\"fill: #f7fcf5\"/>\n    </g>\n    <g clip-path=\"url(#p8b75668329)\">\n     <use xlink:href=\"#C5_0_9644e6fae3\" x=\"129.901703\" y=\"396.698893\" style=\"fill: #e5f5e0\"/>\n    </g>\n    <g clip-path=\"url(#p8b75668329)\">\n     <use xlink:href=\"#C5_0_9644e6fae3\" x=\"129.901703\" y=\"384.817901\" style=\"fill: #73c476\"/>\n    </g>\n    <g clip-path=\"url(#p8b75668329)\">\n     <use xlink:href=\"#C5_0_9644e6fae3\" x=\"129.901703\" y=\"372.93691\" style=\"fill: #c7e9c0\"/>\n    </g>\n    <g clip-path=\"url(#p8b75668329)\">\n     <use xlink:href=\"#C5_0_9644e6fae3\" x=\"129.901703\" y=\"361.055918\" style=\"fill: #c7e9c0\"/>\n    </g>\n    <g clip-path=\"url(#p8b75668329)\">\n     <use xlink:href=\"#C5_0_9644e6fae3\" x=\"129.901703\" y=\"349.174926\" style=\"fill: #a0d99b\"/>\n    </g>\n    <g clip-path=\"url(#p8b75668329)\">\n     <use xlink:href=\"#C5_0_9644e6fae3\" x=\"129.901703\" y=\"337.293934\" style=\"fill: #c7e9c0\"/>\n    </g>\n    <g clip-path=\"url(#p8b75668329)\">\n     <use xlink:href=\"#C5_0_9644e6fae3\" x=\"129.901703\" y=\"325.412943\" style=\"fill: #c7e9c0\"/>\n    </g>\n    <g clip-path=\"url(#p8b75668329)\">\n     <use xlink:href=\"#C5_0_9644e6fae3\" x=\"129.901703\" y=\"313.531951\" style=\"fill: #f7fcf5\"/>\n    </g>\n    <g clip-path=\"url(#p8b75668329)\">\n     <use xlink:href=\"#C5_0_9644e6fae3\" x=\"129.901703\" y=\"301.650959\" style=\"fill: #f7fcf5\"/>\n    </g>\n    <g clip-path=\"url(#p8b75668329)\">\n     <use xlink:href=\"#C5_0_9644e6fae3\" x=\"136.752612\" y=\"420.460877\" style=\"fill: #f7fcf5\"/>\n    </g>\n    <g clip-path=\"url(#p8b75668329)\">\n     <use xlink:href=\"#C5_0_9644e6fae3\" x=\"136.752612\" y=\"408.579885\" style=\"fill: #f7fcf5\"/>\n    </g>\n    <g clip-path=\"url(#p8b75668329)\">\n     <use xlink:href=\"#C5_0_9644e6fae3\" x=\"136.752612\" y=\"396.698893\" style=\"fill: #a0d99b\"/>\n    </g>\n    <g clip-path=\"url(#p8b75668329)\">\n     <use xlink:href=\"#C5_0_9644e6fae3\" x=\"136.752612\" y=\"384.817901\" style=\"fill: #e5f5e0\"/>\n    </g>\n    <g clip-path=\"url(#p8b75668329)\">\n     <use xlink:href=\"#C5_0_9644e6fae3\" x=\"136.752612\" y=\"372.93691\" style=\"fill: #f7fcf5\"/>\n    </g>\n    <g clip-path=\"url(#p8b75668329)\">\n     <use xlink:href=\"#C5_0_9644e6fae3\" x=\"136.752612\" y=\"361.055918\" style=\"fill: #c7e9c0\"/>\n    </g>\n    <g clip-path=\"url(#p8b75668329)\">\n     <use xlink:href=\"#C5_0_9644e6fae3\" x=\"136.752612\" y=\"349.174926\" style=\"fill: #f7fcf5\"/>\n    </g>\n    <g clip-path=\"url(#p8b75668329)\">\n     <use xlink:href=\"#C5_0_9644e6fae3\" x=\"136.752612\" y=\"337.293934\" style=\"fill: #c7e9c0\"/>\n    </g>\n    <g clip-path=\"url(#p8b75668329)\">\n     <use xlink:href=\"#C5_0_9644e6fae3\" x=\"136.752612\" y=\"325.412943\" style=\"fill: #c7e9c0\"/>\n    </g>\n    <g clip-path=\"url(#p8b75668329)\">\n     <use xlink:href=\"#C5_0_9644e6fae3\" x=\"136.752612\" y=\"313.531951\" style=\"fill: #f7fcf5\"/>\n    </g>\n    <g clip-path=\"url(#p8b75668329)\">\n     <use xlink:href=\"#C5_0_9644e6fae3\" x=\"136.752612\" y=\"301.650959\" style=\"fill: #f7fcf5\"/>\n    </g>\n    <g clip-path=\"url(#p8b75668329)\">\n     <use xlink:href=\"#C5_0_9644e6fae3\" x=\"143.603521\" y=\"420.460877\" style=\"fill: #f7fcf5\"/>\n    </g>\n    <g clip-path=\"url(#p8b75668329)\">\n     <use xlink:href=\"#C5_0_9644e6fae3\" x=\"143.603521\" y=\"408.579885\" style=\"fill: #f7fcf5\"/>\n    </g>\n    <g clip-path=\"url(#p8b75668329)\">\n     <use xlink:href=\"#C5_0_9644e6fae3\" x=\"143.603521\" y=\"396.698893\" style=\"fill: #e5f5e0\"/>\n    </g>\n    <g clip-path=\"url(#p8b75668329)\">\n     <use xlink:href=\"#C5_0_9644e6fae3\" x=\"143.603521\" y=\"384.817901\" style=\"fill: #f7fcf5\"/>\n    </g>\n    <g clip-path=\"url(#p8b75668329)\">\n     <use xlink:href=\"#C5_0_9644e6fae3\" x=\"143.603521\" y=\"372.93691\" style=\"fill: #f7fcf5\"/>\n    </g>\n    <g clip-path=\"url(#p8b75668329)\">\n     <use xlink:href=\"#C5_0_9644e6fae3\" x=\"143.603521\" y=\"361.055918\" style=\"fill: #e5f5e0\"/>\n    </g>\n    <g clip-path=\"url(#p8b75668329)\">\n     <use xlink:href=\"#C5_0_9644e6fae3\" x=\"143.603521\" y=\"349.174926\" style=\"fill: #f7fcf5\"/>\n    </g>\n    <g clip-path=\"url(#p8b75668329)\">\n     <use xlink:href=\"#C5_0_9644e6fae3\" x=\"143.603521\" y=\"337.293934\" style=\"fill: #e5f5e0\"/>\n    </g>\n    <g clip-path=\"url(#p8b75668329)\">\n     <use xlink:href=\"#C5_0_9644e6fae3\" x=\"143.603521\" y=\"325.412943\" style=\"fill: #f7fcf5\"/>\n    </g>\n    <g clip-path=\"url(#p8b75668329)\">\n     <use xlink:href=\"#C5_0_9644e6fae3\" x=\"143.603521\" y=\"313.531951\" style=\"fill: #f7fcf5\"/>\n    </g>\n    <g clip-path=\"url(#p8b75668329)\">\n     <use xlink:href=\"#C5_0_9644e6fae3\" x=\"143.603521\" y=\"301.650959\" style=\"fill: #f7fcf5\"/>\n    </g>\n    <g clip-path=\"url(#p8b75668329)\">\n     <use xlink:href=\"#C5_0_9644e6fae3\" x=\"150.45443\" y=\"420.460877\" style=\"fill: #f7fcf5\"/>\n    </g>\n    <g clip-path=\"url(#p8b75668329)\">\n     <use xlink:href=\"#C5_0_9644e6fae3\" x=\"150.45443\" y=\"408.579885\" style=\"fill: #f7fcf5\"/>\n    </g>\n    <g clip-path=\"url(#p8b75668329)\">\n     <use xlink:href=\"#C5_0_9644e6fae3\" x=\"150.45443\" y=\"396.698893\" style=\"fill: #f7fcf5\"/>\n    </g>\n    <g clip-path=\"url(#p8b75668329)\">\n     <use xlink:href=\"#C5_0_9644e6fae3\" x=\"150.45443\" y=\"384.817901\" style=\"fill: #a0d99b\"/>\n    </g>\n    <g clip-path=\"url(#p8b75668329)\">\n     <use xlink:href=\"#C5_0_9644e6fae3\" x=\"150.45443\" y=\"372.93691\" style=\"fill: #f7fcf5\"/>\n    </g>\n    <g clip-path=\"url(#p8b75668329)\">\n     <use xlink:href=\"#C5_0_9644e6fae3\" x=\"150.45443\" y=\"361.055918\" style=\"fill: #f7fcf5\"/>\n    </g>\n    <g clip-path=\"url(#p8b75668329)\">\n     <use xlink:href=\"#C5_0_9644e6fae3\" x=\"150.45443\" y=\"349.174926\" style=\"fill: #f7fcf5\"/>\n    </g>\n    <g clip-path=\"url(#p8b75668329)\">\n     <use xlink:href=\"#C5_0_9644e6fae3\" x=\"150.45443\" y=\"337.293934\" style=\"fill: #f7fcf5\"/>\n    </g>\n    <g clip-path=\"url(#p8b75668329)\">\n     <use xlink:href=\"#C5_0_9644e6fae3\" x=\"150.45443\" y=\"325.412943\" style=\"fill: #f7fcf5\"/>\n    </g>\n    <g clip-path=\"url(#p8b75668329)\">\n     <use xlink:href=\"#C5_0_9644e6fae3\" x=\"150.45443\" y=\"313.531951\" style=\"fill: #f7fcf5\"/>\n    </g>\n    <g clip-path=\"url(#p8b75668329)\">\n     <use xlink:href=\"#C5_0_9644e6fae3\" x=\"150.45443\" y=\"301.650959\" style=\"fill: #f7fcf5\"/>\n    </g>\n   </g>\n   <g id=\"matplotlib.axis_11\"/>\n   <g id=\"matplotlib.axis_12\"/>\n   <g id=\"patch_28\">\n    <path d=\"M 334.56 341.42175 \nL 334.56 197.66175 \n\" style=\"fill: none; stroke: #000000; stroke-width: 0.8; stroke-linejoin: miter; stroke-linecap: square\"/>\n   </g>\n   <g id=\"patch_29\">\n    <path d=\"M 485.28 341.42175 \nL 485.28 197.66175 \n\" style=\"fill: none; stroke: #000000; stroke-width: 0.8; stroke-linejoin: miter; stroke-linecap: square\"/>\n   </g>\n   <g id=\"patch_30\">\n    <path d=\"M 334.56 341.42175 \nL 485.28 341.42175 \n\" style=\"fill: none; stroke: #000000; stroke-width: 0.8; stroke-linejoin: miter; stroke-linecap: square\"/>\n   </g>\n   <g id=\"patch_31\">\n    <path d=\"M 334.56 197.66175 \nL 485.28 197.66175 \n\" style=\"fill: none; stroke: #000000; stroke-width: 0.8; stroke-linejoin: miter; stroke-linecap: square\"/>\n   </g>\n   <g id=\"text_6\">\n    <!-- surprise -->\n    <g transform=\"translate(380.934375 191.66175) scale(0.144 -0.144)\">\n     <defs>\n      <path id=\"DejaVuSans-75\" d=\"M 544 1381 \nL 544 3500 \nL 1119 3500 \nL 1119 1403 \nQ 1119 906 1312 657 \nQ 1506 409 1894 409 \nQ 2359 409 2629 706 \nQ 2900 1003 2900 1516 \nL 2900 3500 \nL 3475 3500 \nL 3475 0 \nL 2900 0 \nL 2900 538 \nQ 2691 219 2414 64 \nQ 2138 -91 1772 -91 \nQ 1169 -91 856 284 \nQ 544 659 544 1381 \nz\nM 1991 3584 \nL 1991 3584 \nz\n\" transform=\"scale(0.015625)\"/>\n      <path id=\"DejaVuSans-70\" d=\"M 1159 525 \nL 1159 -1331 \nL 581 -1331 \nL 581 3500 \nL 1159 3500 \nL 1159 2969 \nQ 1341 3281 1617 3432 \nQ 1894 3584 2278 3584 \nQ 2916 3584 3314 3078 \nQ 3713 2572 3713 1747 \nQ 3713 922 3314 415 \nQ 2916 -91 2278 -91 \nQ 1894 -91 1617 61 \nQ 1341 213 1159 525 \nz\nM 3116 1747 \nQ 3116 2381 2855 2742 \nQ 2594 3103 2138 3103 \nQ 1681 3103 1420 2742 \nQ 1159 2381 1159 1747 \nQ 1159 1113 1420 752 \nQ 1681 391 2138 391 \nQ 2594 391 2855 752 \nQ 3116 1113 3116 1747 \nz\n\" transform=\"scale(0.015625)\"/>\n      <path id=\"DejaVuSans-69\" d=\"M 603 3500 \nL 1178 3500 \nL 1178 0 \nL 603 0 \nL 603 3500 \nz\nM 603 4863 \nL 1178 4863 \nL 1178 4134 \nL 603 4134 \nL 603 4863 \nz\n\" transform=\"scale(0.015625)\"/>\n     </defs>\n     <use xlink:href=\"#DejaVuSans-73\"/>\n     <use xlink:href=\"#DejaVuSans-75\" x=\"52.099609\"/>\n     <use xlink:href=\"#DejaVuSans-72\" x=\"115.478516\"/>\n     <use xlink:href=\"#DejaVuSans-70\" x=\"156.591797\"/>\n     <use xlink:href=\"#DejaVuSans-72\" x=\"220.068359\"/>\n     <use xlink:href=\"#DejaVuSans-69\" x=\"261.181641\"/>\n     <use xlink:href=\"#DejaVuSans-73\" x=\"288.964844\"/>\n     <use xlink:href=\"#DejaVuSans-65\" x=\"341.064453\"/>\n    </g>\n   </g>\n  </g>\n </g>\n <defs>\n  <clipPath id=\"p32c297f63c\">\n   <rect x=\"7.2\" y=\"24.14175\" width=\"150.72\" height=\"143.76\"/>\n  </clipPath>\n  <clipPath id=\"pe0ee96cef9\">\n   <rect x=\"170.88\" y=\"24.14175\" width=\"150.72\" height=\"143.76\"/>\n  </clipPath>\n  <clipPath id=\"p224a05b2c5\">\n   <rect x=\"334.56\" y=\"24.14175\" width=\"150.72\" height=\"143.76\"/>\n  </clipPath>\n  <clipPath id=\"p25bdc0a5a9\">\n   <rect x=\"7.2\" y=\"197.66175\" width=\"150.72\" height=\"143.76\"/>\n  </clipPath>\n  <clipPath id=\"p32418f42b1\">\n   <rect x=\"170.88\" y=\"197.66175\" width=\"150.72\" height=\"143.76\"/>\n  </clipPath>\n  <clipPath id=\"p8b75668329\">\n   <rect x=\"334.56\" y=\"197.66175\" width=\"150.72\" height=\"143.76\"/>\n  </clipPath>\n </defs>\n</svg>\n",
            "application/pdf": "[encoded data removed]"
          },
          "metadata": {}
        }
      ],
      "source": [
        "fig, axes = plt.subplots(2, 3, figsize=(7,5))\n",
        "axes = axes.flatten()\n",
        "cmaps = [\"Greys\", \"Blues\", \"Oranges\", \"Reds\", \"Purples\", \"Greens\"]\n",
        "labels = emotions[\"train\"].features[\"label\"].names\n",
        "\n",
        "for i, (label, cmap) in enumerate(zip(labels, cmaps)):\n",
        "    df_emb_sub = df_emb.query(f\"label == {i}\")\n",
        "    axes[i].hexbin(df_emb_sub[\"X\"], df_emb_sub[\"Y\"], cmap=cmap,\n",
        "                   gridsize=20, linewidths=(0,))\n",
        "    axes[i].set_title(label)\n",
        "    axes[i].set_xticks([]), axes[i].set_yticks([])\n",
        "\n",
        "plt.tight_layout()\n",
        "plt.show()"
      ]
    },
    {
      "cell_type": "markdown",
      "metadata": {
        "id": "jGCV0g2VYHZp"
      },
      "source": [
        "\n",
        ">note: These are only projections onto a lower-dimensional space. Just because some categories overlap does not mean that they are not separable in the original space. Conversely, if they are separable in the projected space they will be separable in the original space.\n",
        "\n",
        "From this plot we can see some clear patterns: the negative feelings such as `sadness`, `anger`, and `fear` all occupy similar regions with slightly varying distributions. On the other hand, `joy` and `love` are well separated from the negative emotions and also share a similar space. Finally, `surprise` is scattered all over the place. Although we may have hoped for some separation, this is in no way guaranteed since the model was not trained to know the difference between these emotions. It only learned them implicitly by guessing the masked words in texts.\n",
        "\n",
        "Now that we've gained some insight into the features of our dataset, let's finally train a model on it!"
      ]
    },
    {
      "cell_type": "markdown",
      "metadata": {
        "id": "owRtbr8ZYHZp"
      },
      "source": [
        "#### Training a simple classifier\n"
      ]
    },
    {
      "cell_type": "markdown",
      "metadata": {
        "id": "XE_N9ZiXYHZp"
      },
      "source": [
        "We've seen that the hidden states are somewhat different between the emotions, although for several of them there is no obvious boundary. Let's use these hidden states to train a logistic regression model with Scikit-Learn. Training such a simple model is fast and does not require a GPU:"
      ]
    },
    {
      "cell_type": "code",
      "execution_count": null,
      "metadata": {
        "id": "s1m9mOXIYHZp"
      },
      "outputs": [],
      "source": [
        "#hide_output\n",
        "# We increase `max_iter` to guarantee convergence\n",
        "from sklearn.linear_model import LogisticRegression\n",
        "\n",
        "lr_clf = LogisticRegression(max_iter=3000)\n",
        "lr_clf.fit(X_train, y_train)"
      ]
    },
    {
      "cell_type": "code",
      "execution_count": null,
      "metadata": {
        "id": "DzGTU7lcYHZp"
      },
      "outputs": [],
      "source": [
        "lr_clf.score(X_valid, y_valid)"
      ]
    },
    {
      "cell_type": "markdown",
      "metadata": {
        "id": "B9weol45YHZq"
      },
      "source": [
        "Looking at the accuracy, it might appear that our model is just a bit better than random—but since we are dealing with an unbalanced multiclass dataset, it's actually significantly better. We can examine whether our model is any good by comparing it against a simple baseline. In Scikit-Learn there is a `DummyClassifier` that can be used to build a classifier with simple heuristics such as always choosing the majority class or always drawing a random class. In this case the best-performing heuristic is to always choose the most frequent class, which yields an accuracy of about 35%:"
      ]
    },
    {
      "cell_type": "code",
      "execution_count": null,
      "metadata": {
        "id": "DUAroofNYHZq"
      },
      "outputs": [],
      "source": [
        "from sklearn.dummy import DummyClassifier\n",
        "\n",
        "dummy_clf = DummyClassifier(strategy=\"most_frequent\")\n",
        "dummy_clf.fit(X_train, y_train)\n",
        "dummy_clf.score(X_valid, y_valid)"
      ]
    },
    {
      "cell_type": "markdown",
      "metadata": {
        "id": "vg8K9EZmYHZq"
      },
      "source": [
        "So, our simple classifier with DistilBERT embeddings is significantly better than our baseline. We can further investigate the performance of the model by looking at the confusion matrix of the classifier, which tells us the relationship between the true and predicted labels:"
      ]
    },
    {
      "cell_type": "code",
      "execution_count": null,
      "metadata": {
        "id": "NOIA8_tKYHZq"
      },
      "outputs": [],
      "source": [
        "from sklearn.metrics import ConfusionMatrixDisplay, confusion_matrix\n",
        "\n",
        "def plot_confusion_matrix(y_preds, y_true, labels):\n",
        "    cm = confusion_matrix(y_true, y_preds, normalize=\"true\")\n",
        "    fig, ax = plt.subplots(figsize=(6, 6))\n",
        "    disp = ConfusionMatrixDisplay(confusion_matrix=cm, display_labels=labels)\n",
        "    disp.plot(cmap=\"Blues\", values_format=\".2f\", ax=ax, colorbar=False)\n",
        "    plt.title(\"Normalized confusion matrix\")\n",
        "    plt.show()\n",
        "\n",
        "y_preds = lr_clf.predict(X_valid)\n",
        "plot_confusion_matrix(y_preds, y_valid, labels)"
      ]
    },
    {
      "cell_type": "markdown",
      "metadata": {
        "id": "kKKoY7wsYHZq"
      },
      "source": [
        "We can see that `anger` and `fear` are most often confused with `sadness`, which agrees with the observation we made when visualizing the embeddings. Also, `love` and `surprise` are frequently mistaken for `joy`."
      ]
    },
    {
      "cell_type": "markdown",
      "metadata": {
        "id": "Va06uCGWYHZq"
      },
      "source": [
        "In the next section we will explore the fine-tuning approach, which leads to superior classification performance. It is, however, important to note that doing this requires more computational resources, such as GPUs, that might not be available in your organization. In cases like these, a feature-based approach can be a good compromise between doing traditional machine learning and deep learning."
      ]
    },
    {
      "cell_type": "markdown",
      "metadata": {
        "id": "9po3YY14YHZq"
      },
      "source": [
        "### Fine-Tuning Transformers"
      ]
    },
    {
      "cell_type": "markdown",
      "metadata": {
        "id": "BRMmvwPpYHZq"
      },
      "source": [
        "\n",
        "Let's now explore what it takes to fine-tune a transformer end-to-end. With the fine-tuning approach we do not use the hidden states as fixed features, but instead train them as shown in <<encoder-tuning>>. This requires the classification head to be differentiable, which is why this method usually uses a neural network for classification.\n",
        "\n",
        "<img alt=\"encoder-tuning\" caption=\"When using the fine-tuning approach the whole DistilBERT model is trained along with the classification head\" src=\"https://github.com/nlp-with-transformers/notebooks/blob/main/images/chapter02_encoder-fine-tuning.png?raw=1\" id=\"encoder-tuning\"/>"
      ]
    },
    {
      "cell_type": "markdown",
      "metadata": {
        "id": "6D83BrpcYHZr"
      },
      "source": [
        "Training the hidden states that serve as inputs to the classification model will help us avoid the problem of working with data that may not be well suited for the classification task. Instead, the initial hidden states adapt during training to decrease the model loss and thus increase its performance.\n",
        "\n",
        "We'll be using the `Trainer` API from image:images/logo.png[hf,13,13] Transformers to simplify the training loop. Let's look at the ingredients we need to set one up!"
      ]
    },
    {
      "cell_type": "markdown",
      "metadata": {
        "id": "22o5RmRGYHZr"
      },
      "source": [
        "#### Loading a pretrained model"
      ]
    },
    {
      "cell_type": "markdown",
      "metadata": {
        "id": "TG2KaelrYHZr"
      },
      "source": [
        "The first thing we need is a pretrained DistilBERT model like the one we used in the feature-based approach. The only slight modification is that we use the `AutoModelForSequenceClassification` model instead of `AutoModel`. The difference is that the `AutoModelForSequenceClassification` model has a classification head on top of the pretrained model outputs, which can be easily trained with the base model. We just need to specify how many labels the model has to predict (six in our case), since this dictates the number of outputs the classification head has:"
      ]
    },
    {
      "cell_type": "code",
      "execution_count": null,
      "metadata": {
        "id": "U5AecdTvYHZr"
      },
      "outputs": [],
      "source": [
        "# hide_output\n",
        "from transformers import AutoModelForSequenceClassification\n",
        "\n",
        "num_labels = 6\n",
        "model = (AutoModelForSequenceClassification\n",
        "         .from_pretrained(model_ckpt, num_labels=num_labels)\n",
        "         .to(device))"
      ]
    },
    {
      "cell_type": "markdown",
      "metadata": {
        "id": "tMfv5H4MYHZr"
      },
      "source": [
        "You will see a warning that some parts of the model are randomly initialized. This is normal since the classification head has not yet been trained. The next step is to define the metrics that we'll use to evaluate our model's performance during fine-tuning."
      ]
    },
    {
      "cell_type": "markdown",
      "metadata": {
        "id": "GMZfOX4-YHZr"
      },
      "source": [
        "#### Defining the performance metrics"
      ]
    },
    {
      "cell_type": "markdown",
      "metadata": {
        "id": "i1DTcYEIYHZr"
      },
      "source": [
        "\n",
        "To monitor metrics during training, we need to define a `compute_metrics()` function for the `Trainer`.  This function receives an `EvalPrediction` object (which is a named tuple with `predictions` and `label_ids` attributes) and needs to return a dictionary that maps each metric's name to its value. For our application, we'll compute the $F_1$-score and the accuracy of the model as follows:"
      ]
    },
    {
      "cell_type": "code",
      "execution_count": null,
      "metadata": {
        "id": "_hqulHJcYHZr"
      },
      "outputs": [],
      "source": [
        "from sklearn.metrics import accuracy_score, f1_score\n",
        "\n",
        "def compute_metrics(pred):\n",
        "    labels = pred.label_ids\n",
        "    preds = pred.predictions.argmax(-1)\n",
        "    f1 = f1_score(labels, preds, average=\"weighted\")\n",
        "    acc = accuracy_score(labels, preds)\n",
        "    return {\"accuracy\": acc, \"f1\": f1}"
      ]
    },
    {
      "cell_type": "markdown",
      "metadata": {
        "id": "MTdFE1SdYHZr"
      },
      "source": [
        "With the dataset and metrics ready, we just have two final things to take care of before we define the `Trainer` class:\n",
        "\n",
        "1. Log in to our account on the Hugging Face Hub. This will allow us to push our fine-tuned model to our account on the Hub and share it with the community.\n",
        "2. Define all the hyperparameters for the training run.\n",
        "\n",
        "We'll tackle these steps in the next section."
      ]
    },
    {
      "cell_type": "markdown",
      "metadata": {
        "id": "AGjz7aAyYHZs"
      },
      "source": [
        "#### Training the model"
      ]
    },
    {
      "cell_type": "markdown",
      "metadata": {
        "id": "uPneJkQ1YHZs"
      },
      "source": [
        "If you're running this code in a Jupyter notebook, you can log in to the Hub with the following helper function:"
      ]
    },
    {
      "cell_type": "code",
      "execution_count": null,
      "metadata": {
        "id": "nYBCECLFYHZs"
      },
      "outputs": [],
      "source": [
        "from huggingface_hub import notebook_login\n",
        "\n",
        "notebook_login()"
      ]
    },
    {
      "cell_type": "markdown",
      "metadata": {
        "id": "TlStxwfxYHZs"
      },
      "source": [
        "This will display a widget in which you can enter your username and password, or an access token with write privileges. You can find details on how to create access tokens in the [Hub documentation](https://huggingface.co/docs/hub/security#user-access-tokens). If you're working in the terminal, you can log in by running the following command:\n",
        "\n",
        "```bash\n",
        "$ huggingface-cli login\n",
        "```"
      ]
    },
    {
      "cell_type": "markdown",
      "metadata": {
        "id": "qDmGzJZ_YHZs"
      },
      "source": [
        "To define the training parameters, we use the `TrainingArguments` class. This class stores a lot of information and gives you fine-grained control over the training and evaluation. The most important argument to specify is `output_dir`, which is where all the artifacts from training are stored. Here is an example of `TrainingArguments` in all its glory:"
      ]
    },
    {
      "cell_type": "code",
      "execution_count": null,
      "metadata": {
        "id": "5oSMsAUGYHZs"
      },
      "outputs": [],
      "source": [
        "from transformers import Trainer, TrainingArguments\n",
        "\n",
        "batch_size = 64\n",
        "logging_steps = len(emotions_encoded[\"train\"]) // batch_size\n",
        "model_name = f\"{model_ckpt}-finetuned-emotion\"\n",
        "training_args = TrainingArguments(output_dir=model_name,\n",
        "                                  num_train_epochs=2,\n",
        "                                  learning_rate=2e-5,\n",
        "                                  per_device_train_batch_size=batch_size,\n",
        "                                  per_device_eval_batch_size=batch_size,\n",
        "                                  weight_decay=0.01,\n",
        "                                  evaluation_strategy=\"epoch\",\n",
        "                                  disable_tqdm=False,\n",
        "                                  logging_steps=logging_steps,\n",
        "                                  push_to_hub=True,\n",
        "                                  log_level=\"error\")"
      ]
    },
    {
      "cell_type": "markdown",
      "metadata": {
        "id": "M6Avn1tUYHZs"
      },
      "source": [
        "Here we also set the batch size, learning rate, and number of epochs, and specify to load the best model at the end of the training run. With this final ingredient, we can instantiate and fine-tune our model with the `Trainer`:"
      ]
    },
    {
      "cell_type": "code",
      "execution_count": null,
      "metadata": {
        "id": "IPab78EjYHZt"
      },
      "outputs": [],
      "source": [
        "from transformers import Trainer\n",
        "\n",
        "trainer = Trainer(model=model, args=training_args,\n",
        "                  compute_metrics=compute_metrics,\n",
        "                  train_dataset=emotions_encoded[\"train\"],\n",
        "                  eval_dataset=emotions_encoded[\"validation\"],\n",
        "                  tokenizer=tokenizer)\n",
        "trainer.train();"
      ]
    },
    {
      "cell_type": "markdown",
      "metadata": {
        "id": "FVTp7EMlYHZt"
      },
      "source": [
        "Looking at the logs, we can see that our model has an $F_1$-score on the validation set of around 92% - this is a significant improvement over the feature-based approach!\n",
        "\n",
        "We can take a more detailed look at the training metrics by calculating the confusion matrix. To visualize the confusion matrix, we first need to get the predictions on the validation set. The `predict()` method of the `Trainer` class returns several useful objects we can use for evaluation:"
      ]
    },
    {
      "cell_type": "code",
      "execution_count": null,
      "metadata": {
        "id": "80C4Ag8BYHZt"
      },
      "outputs": [],
      "source": [
        "# hide_output\n",
        "preds_output = trainer.predict(emotions_encoded[\"validation\"])"
      ]
    },
    {
      "cell_type": "markdown",
      "metadata": {
        "id": "zLyiD7mcYHZt"
      },
      "source": [
        "The output of the `predict()` method is a `PredictionOutput` object that contains arrays of `predictions` and `label_ids`, along with the metrics we passed to the trainer. For example, the metrics on the validation set can be accessed as follows:"
      ]
    },
    {
      "cell_type": "code",
      "execution_count": null,
      "metadata": {
        "id": "2iYMm8hDYHZt"
      },
      "outputs": [],
      "source": [
        "preds_output.metrics"
      ]
    },
    {
      "cell_type": "markdown",
      "metadata": {
        "id": "Uyr0k7NVYHZt"
      },
      "source": [
        "It also contains the raw predictions for each class. We can decode the predictions greedily using `np.argmax()`. This yields the predicted labels and has the same format as the labels returned by the Scikit-Learn models in the feature-based approach:"
      ]
    },
    {
      "cell_type": "code",
      "execution_count": null,
      "metadata": {
        "id": "I5HTrSmqYHZt"
      },
      "outputs": [],
      "source": [
        "y_preds = np.argmax(preds_output.predictions, axis=1)"
      ]
    },
    {
      "cell_type": "markdown",
      "metadata": {
        "id": "woGFjc1DYHZu"
      },
      "source": [
        "With the predictions, we can plot the confusion matrix again:"
      ]
    },
    {
      "cell_type": "code",
      "execution_count": null,
      "metadata": {
        "id": "YkWeB5huYHZu"
      },
      "outputs": [],
      "source": [
        "plot_confusion_matrix(y_preds, y_valid, labels)"
      ]
    },
    {
      "cell_type": "markdown",
      "metadata": {
        "id": "JZraZ1WUYHZu"
      },
      "source": [
        "This is much closer to the ideal diagonal confusion matrix.  The `love` category is still often confused with `joy`, which seems natural. `surprise` is also frequently mistaken for `joy`, or confused with `fear`. Overall the performance of the model seems quite good, but before we call it a day, let's dive a little deeper into the types of errors our model is likely to make."
      ]
    },
    {
      "cell_type": "markdown",
      "metadata": {
        "id": "Qvjzbgd6YHZv"
      },
      "source": [
        "#### Error analysis"
      ]
    },
    {
      "cell_type": "markdown",
      "metadata": {
        "id": "5Jgyp_KBYHZv"
      },
      "source": [
        "Before moving on, we should investigate our model's predictions a little bit further. A simple yet powerful technique is to sort the validation samples by the model loss. When we pass the label during the forward pass, the loss is automatically calculated and returned. Here's a function that returns the loss along with the predicted label:"
      ]
    },
    {
      "cell_type": "code",
      "execution_count": null,
      "metadata": {
        "id": "xJqOAUS9YHZv"
      },
      "outputs": [],
      "source": [
        "from torch.nn.functional import cross_entropy\n",
        "\n",
        "def forward_pass_with_label(batch):\n",
        "    # Place all input tensors on the same device as the model\n",
        "    inputs = {k:v.to(device) for k,v in batch.items()\n",
        "              if k in tokenizer.model_input_names}\n",
        "\n",
        "    with torch.no_grad():\n",
        "        output = model(**inputs)\n",
        "        pred_label = torch.argmax(output.logits, axis=-1)\n",
        "        loss = cross_entropy(output.logits, batch[\"label\"].to(device),\n",
        "                             reduction=\"none\")\n",
        "\n",
        "    # Place outputs on CPU for compatibility with other dataset columns\n",
        "    return {\"loss\": loss.cpu().numpy(),\n",
        "            \"predicted_label\": pred_label.cpu().numpy()}"
      ]
    },
    {
      "cell_type": "markdown",
      "metadata": {
        "id": "glNWB28pYHZv"
      },
      "source": [
        "Using the `map()` method once more, we can apply this function to get the losses for all the samples:"
      ]
    },
    {
      "cell_type": "code",
      "execution_count": null,
      "metadata": {
        "id": "Aer9Mt7nYHZw"
      },
      "outputs": [],
      "source": [
        "#hide_output\n",
        "# Convert our dataset back to PyTorch tensors\n",
        "emotions_encoded.set_format(\"torch\",\n",
        "                            columns=[\"input_ids\", \"attention_mask\", \"label\"])\n",
        "# Compute loss values\n",
        "emotions_encoded[\"validation\"] = emotions_encoded[\"validation\"].map(\n",
        "    forward_pass_with_label, batched=True, batch_size=16)"
      ]
    },
    {
      "cell_type": "markdown",
      "metadata": {
        "id": "AvolYiFLYHZw"
      },
      "source": [
        "Finally, we create a `DataFrame` with the texts, losses, and predicted/true labels:"
      ]
    },
    {
      "cell_type": "code",
      "execution_count": null,
      "metadata": {
        "id": "5x1aGi-qYHZw"
      },
      "outputs": [],
      "source": [
        "emotions_encoded.set_format(\"pandas\")\n",
        "cols = [\"text\", \"label\", \"predicted_label\", \"loss\"]\n",
        "df_test = emotions_encoded[\"validation\"][:][cols]\n",
        "df_test[\"label\"] = df_test[\"label\"].apply(label_int2str)\n",
        "df_test[\"predicted_label\"] = (df_test[\"predicted_label\"]\n",
        "                              .apply(label_int2str))"
      ]
    },
    {
      "cell_type": "markdown",
      "metadata": {
        "id": "fGLpjMX_YHZw"
      },
      "source": [
        "We can now easily sort `emotions_encoded` by the losses in either ascending or descending order. The goal of this exercise is to detect one of the following:\n",
        "\n",
        "- _Wrong labels_:: Every process that adds labels to data can be flawed. Annotators can make mistakes or disagree, while labels that are inferred from other features can be wrong. If it was easy to automatically annotate data, then we would not need a model to do it. Thus, it is normal that there are some wrongly labeled examples. With this approach, we can quickly find and correct them.\n",
        "\n",
        "- _Quirks of the dataset_:: Datasets in the real world are always a bit messy. When working with text, special characters or strings in the inputs can have a big impact on the model's predictions. Inspecting the model's weakest predictions can help identify such features, and cleaning the data or injecting similar examples can make the model more robust.\n",
        "\n",
        "Let's first have a look at the data samples with the highest losses:"
      ]
    },
    {
      "cell_type": "code",
      "execution_count": null,
      "metadata": {
        "id": "Fz4mrCWYYHZw"
      },
      "outputs": [],
      "source": [
        "#hide_output\n",
        "df_test.sort_values(\"loss\", ascending=False).head(10)"
      ]
    },
    {
      "cell_type": "markdown",
      "metadata": {
        "id": "APgmhdPhYHZw"
      },
      "source": [
        "We can clearly see that the model predicted some of the labels incorrectly. On the other hand, it seems that there are quite a few examples with no clear class, which might be either mislabeled or require a new class altogether. In particular, `joy` seems to be mislabeled several times. With this information we can refine the dataset, which often can lead to as big a performance gain (or more) as having more data or larger models!"
      ]
    },
    {
      "cell_type": "markdown",
      "metadata": {
        "id": "4ByyDxi1YHZw"
      },
      "source": [
        "When looking at the samples with the lowest losses, we observe that the model seems to be most confident when predicting the `sadness` class. Deep learning models are exceptionally good at finding and exploiting shortcuts to get to a prediction. For this reason, it is also worth investing time into looking at the examples that the model is most confident about, so that we can be confident that the model does not improperly exploit certain features of the text. So, let's also look at the predictions with the smallest loss:"
      ]
    },
    {
      "cell_type": "code",
      "execution_count": null,
      "metadata": {
        "id": "5xDbm5LmYHZw"
      },
      "outputs": [],
      "source": [
        "#hide_output\n",
        "df_test.sort_values(\"loss\", ascending=True).head(10)"
      ]
    },
    {
      "cell_type": "markdown",
      "metadata": {
        "id": "xcaRCEBkYHZx"
      },
      "source": [
        "We now know that the `joy` is sometimes mislabeled and that the model is most confident about predicting the label `sadness`. With this information we can make targeted improvements to our dataset, and also keep an eye on the class the model seems to be very confident about.\n",
        "\n",
        "The last step before serving the trained model is to save it for later usage. image:images/logo.png[hf,13,13] Transformers allows us to do this in a few steps, which we'll show you in the next section."
      ]
    },
    {
      "cell_type": "markdown",
      "metadata": {
        "id": "Vy6o5jWFYHZx"
      },
      "source": [
        "#### Saving and sharing the model"
      ]
    },
    {
      "cell_type": "markdown",
      "metadata": {
        "id": "glNUBTRyYHZx"
      },
      "source": [
        "\n",
        "The NLP community benefits greatly from sharing pretrained and fine-tuned models, and everybody can share their models with others via the Hugging Face Hub. Any community-generated model can be downloaded from the Hub just like we downloaded the DistilBERT model. With the `Trainer` API, saving and sharing a model is simple:"
      ]
    },
    {
      "cell_type": "code",
      "execution_count": null,
      "metadata": {
        "id": "LYKoiSDZYHZx"
      },
      "outputs": [],
      "source": [
        "#hide_output\n",
        "trainer.push_to_hub(commit_message=\"Training completed!\")"
      ]
    },
    {
      "cell_type": "markdown",
      "metadata": {
        "id": "YNYIHvRCYHZx"
      },
      "source": [
        "We can also use the fine-tuned model to make predictions on new tweets. Since we've pushed our model to the Hub, we can now use it with the `pipeline()` function, just like we did in <<chapter_introduction>>. First, let's load the pipeline:"
      ]
    },
    {
      "cell_type": "code",
      "execution_count": null,
      "metadata": {
        "id": "e5gEijHAYHZx"
      },
      "outputs": [],
      "source": [
        "#hide_output\n",
        "from transformers import pipeline\n",
        "\n",
        "# Change `transformersbook` to your Hub username\n",
        "model_id = \"transformersbook/distilbert-base-uncased-finetuned-emotion\"\n",
        "classifier = pipeline(\"text-classification\", model=model_id)"
      ]
    },
    {
      "cell_type": "markdown",
      "metadata": {
        "id": "6aIlu2EdYHZx"
      },
      "source": [
        "Then let's test the pipeline with a sample tweet:"
      ]
    },
    {
      "cell_type": "code",
      "execution_count": null,
      "metadata": {
        "id": "jzh8kfqFYHZx"
      },
      "outputs": [],
      "source": [
        "custom_tweet = \"What the hell!\"\n",
        "preds = classifier(custom_tweet, return_all_scores=True)"
      ]
    },
    {
      "cell_type": "markdown",
      "metadata": {
        "id": "Ju2dYxiAYHZy"
      },
      "source": [
        "Finally, we can plot the probability for each class in a bar plot. Clearly, the model estimates that the most likely class is `joy`, which appears to be reasonable given the tweet:"
      ]
    },
    {
      "cell_type": "code",
      "execution_count": null,
      "metadata": {
        "id": "JFuVj6ZtYHZy"
      },
      "outputs": [],
      "source": [
        "preds_df = pd.DataFrame(preds[0])\n",
        "plt.bar(labels, 100 * preds_df[\"score\"], color='C0')\n",
        "plt.title(f'\"{custom_tweet}\"')\n",
        "plt.ylabel(\"Class probability (%)\")\n",
        "plt.show()"
      ]
    },
    {
      "cell_type": "markdown",
      "metadata": {
        "id": "m3yCdQ0XYHZy"
      },
      "source": [
        "## Conclusion"
      ]
    },
    {
      "cell_type": "markdown",
      "metadata": {
        "id": "HwIlUvGUYHZy"
      },
      "source": [
        "Congratulations, you now know how to train a transformer model to classify the emotions in tweets! We have seen two complementary approaches based on features and fine-tuning, and investigated their strengths and weaknesses.\n",
        "\n",
        "However, this is just the first step in building a real-world application with transformer models, and we have a lot more ground to cover. Here's a list of challenges you're likely to experience in your NLP journey:\n",
        "\n",
        "My boss wants my model in production yesterday!::\n",
        "In most applications, your model doesn't just sit somewhere gathering dust - you want to make sure it's serving predictions! When a model is pushed to the Hub, an inference endpoint is automatically created that can be called with HTTP requests. We recommend checking out the [documentation](https://api-inference.huggingface.co/docs/python/html/index.html) of the Inference API if you want to learn more.\n",
        "\n",
        "My users want faster predictions!::\n",
        "We've already seen one approach to this problem: using DistilBERT. In <<chapter_compression>> we'll dive into knowledge distillation (the process by which DistilBERT was created), along with other tricks to speed up your transformer models.\n",
        "\n",
        "\n",
        "Can your model also do X?::\n",
        "As we've alluded to in this chapter, transformers are extremely versatile. In the rest of the book we will be exploring a range of tasks, like question answering and named entity recognition, all using the same basic architecture.\n",
        "\n",
        "None of my texts are in English!::\n",
        "It turns out that transformers also come in a multilingual variety, and we'll use them in <<chapter_ner>> to tackle several languages at once.\n",
        "\n",
        "I don't have any labels!::\n",
        "If there is very little labeled data available, fine-tuning may not be an option. In <<chapter_fewlabels>>, we'll explore some techniques to deal with this situation.\n",
        "\n",
        "Now that we've seen what's involved in training and sharing a transformer, in the next chapter we'll explore implementing our very own transformer model from scratch."
      ]
    }
  ],
  "metadata": {
    "kernelspec": {
      "display_name": "book",
      "language": "python",
      "name": "python3"
    },
    "colab": {
      "provenance": [],
      "gpuType": "T4",
      "include_colab_link": true
    },
    "accelerator": "GPU",
    "gpuClass": "standard",
    "widgets": {
      "application/vnd.jupyter.widget-state+json": {
        "ebc9eea587e54ab4afbe25c582953b57": {
          "model_module": "@jupyter-widgets/controls",
          "model_name": "HBoxModel",
          "model_module_version": "1.5.0",
          "state": {
            "_dom_classes": [],
            "_model_module": "@jupyter-widgets/controls",
            "_model_module_version": "1.5.0",
            "_model_name": "HBoxModel",
            "_view_count": null,
            "_view_module": "@jupyter-widgets/controls",
            "_view_module_version": "1.5.0",
            "_view_name": "HBoxView",
            "box_style": "",
            "children": [
              "IPY_MODEL_dd20043a373d41e58deca37dca34a22b",
              "IPY_MODEL_167e859638f14ef0b1da7fd3ba2bcc02",
              "IPY_MODEL_026ec53b032945ea8d7d54bff4d01ae9"
            ],
            "layout": "IPY_MODEL_00bbcd7c267748cd8e04217569c340f6"
          }
        },
        "dd20043a373d41e58deca37dca34a22b": {
          "model_module": "@jupyter-widgets/controls",
          "model_name": "HTMLModel",
          "model_module_version": "1.5.0",
          "state": {
            "_dom_classes": [],
            "_model_module": "@jupyter-widgets/controls",
            "_model_module_version": "1.5.0",
            "_model_name": "HTMLModel",
            "_view_count": null,
            "_view_module": "@jupyter-widgets/controls",
            "_view_module_version": "1.5.0",
            "_view_name": "HTMLView",
            "description": "",
            "description_tooltip": null,
            "layout": "IPY_MODEL_f6c630f7f6c7424f8eaa27a048ae732a",
            "placeholder": "​",
            "style": "IPY_MODEL_e217d70abdf04e89b19719789988ed7c",
            "value": "Downloading builder script: 100%"
          }
        },
        "167e859638f14ef0b1da7fd3ba2bcc02": {
          "model_module": "@jupyter-widgets/controls",
          "model_name": "FloatProgressModel",
          "model_module_version": "1.5.0",
          "state": {
            "_dom_classes": [],
            "_model_module": "@jupyter-widgets/controls",
            "_model_module_version": "1.5.0",
            "_model_name": "FloatProgressModel",
            "_view_count": null,
            "_view_module": "@jupyter-widgets/controls",
            "_view_module_version": "1.5.0",
            "_view_name": "ProgressView",
            "bar_style": "success",
            "description": "",
            "description_tooltip": null,
            "layout": "IPY_MODEL_56a589b63c2a4492a778865686b04c2b",
            "max": 3968,
            "min": 0,
            "orientation": "horizontal",
            "style": "IPY_MODEL_951defaad0c245e5aa50331fb6d60621",
            "value": 3968
          }
        },
        "026ec53b032945ea8d7d54bff4d01ae9": {
          "model_module": "@jupyter-widgets/controls",
          "model_name": "HTMLModel",
          "model_module_version": "1.5.0",
          "state": {
            "_dom_classes": [],
            "_model_module": "@jupyter-widgets/controls",
            "_model_module_version": "1.5.0",
            "_model_name": "HTMLModel",
            "_view_count": null,
            "_view_module": "@jupyter-widgets/controls",
            "_view_module_version": "1.5.0",
            "_view_name": "HTMLView",
            "description": "",
            "description_tooltip": null,
            "layout": "IPY_MODEL_c8011da7a2fa46619ca7681bca2eee84",
            "placeholder": "​",
            "style": "IPY_MODEL_344c5ce780034680926ddca4b14ca53d",
            "value": " 3.97k/3.97k [00:00&lt;00:00, 256kB/s]"
          }
        },
        "00bbcd7c267748cd8e04217569c340f6": {
          "model_module": "@jupyter-widgets/base",
          "model_name": "LayoutModel",
          "model_module_version": "1.2.0",
          "state": {
            "_model_module": "@jupyter-widgets/base",
            "_model_module_version": "1.2.0",
            "_model_name": "LayoutModel",
            "_view_count": null,
            "_view_module": "@jupyter-widgets/base",
            "_view_module_version": "1.2.0",
            "_view_name": "LayoutView",
            "align_content": null,
            "align_items": null,
            "align_self": null,
            "border": null,
            "bottom": null,
            "display": null,
            "flex": null,
            "flex_flow": null,
            "grid_area": null,
            "grid_auto_columns": null,
            "grid_auto_flow": null,
            "grid_auto_rows": null,
            "grid_column": null,
            "grid_gap": null,
            "grid_row": null,
            "grid_template_areas": null,
            "grid_template_columns": null,
            "grid_template_rows": null,
            "height": null,
            "justify_content": null,
            "justify_items": null,
            "left": null,
            "margin": null,
            "max_height": null,
            "max_width": null,
            "min_height": null,
            "min_width": null,
            "object_fit": null,
            "object_position": null,
            "order": null,
            "overflow": null,
            "overflow_x": null,
            "overflow_y": null,
            "padding": null,
            "right": null,
            "top": null,
            "visibility": null,
            "width": null
          }
        },
        "f6c630f7f6c7424f8eaa27a048ae732a": {
          "model_module": "@jupyter-widgets/base",
          "model_name": "LayoutModel",
          "model_module_version": "1.2.0",
          "state": {
            "_model_module": "@jupyter-widgets/base",
            "_model_module_version": "1.2.0",
            "_model_name": "LayoutModel",
            "_view_count": null,
            "_view_module": "@jupyter-widgets/base",
            "_view_module_version": "1.2.0",
            "_view_name": "LayoutView",
            "align_content": null,
            "align_items": null,
            "align_self": null,
            "border": null,
            "bottom": null,
            "display": null,
            "flex": null,
            "flex_flow": null,
            "grid_area": null,
            "grid_auto_columns": null,
            "grid_auto_flow": null,
            "grid_auto_rows": null,
            "grid_column": null,
            "grid_gap": null,
            "grid_row": null,
            "grid_template_areas": null,
            "grid_template_columns": null,
            "grid_template_rows": null,
            "height": null,
            "justify_content": null,
            "justify_items": null,
            "left": null,
            "margin": null,
            "max_height": null,
            "max_width": null,
            "min_height": null,
            "min_width": null,
            "object_fit": null,
            "object_position": null,
            "order": null,
            "overflow": null,
            "overflow_x": null,
            "overflow_y": null,
            "padding": null,
            "right": null,
            "top": null,
            "visibility": null,
            "width": null
          }
        },
        "e217d70abdf04e89b19719789988ed7c": {
          "model_module": "@jupyter-widgets/controls",
          "model_name": "DescriptionStyleModel",
          "model_module_version": "1.5.0",
          "state": {
            "_model_module": "@jupyter-widgets/controls",
            "_model_module_version": "1.5.0",
            "_model_name": "DescriptionStyleModel",
            "_view_count": null,
            "_view_module": "@jupyter-widgets/base",
            "_view_module_version": "1.2.0",
            "_view_name": "StyleView",
            "description_width": ""
          }
        },
        "56a589b63c2a4492a778865686b04c2b": {
          "model_module": "@jupyter-widgets/base",
          "model_name": "LayoutModel",
          "model_module_version": "1.2.0",
          "state": {
            "_model_module": "@jupyter-widgets/base",
            "_model_module_version": "1.2.0",
            "_model_name": "LayoutModel",
            "_view_count": null,
            "_view_module": "@jupyter-widgets/base",
            "_view_module_version": "1.2.0",
            "_view_name": "LayoutView",
            "align_content": null,
            "align_items": null,
            "align_self": null,
            "border": null,
            "bottom": null,
            "display": null,
            "flex": null,
            "flex_flow": null,
            "grid_area": null,
            "grid_auto_columns": null,
            "grid_auto_flow": null,
            "grid_auto_rows": null,
            "grid_column": null,
            "grid_gap": null,
            "grid_row": null,
            "grid_template_areas": null,
            "grid_template_columns": null,
            "grid_template_rows": null,
            "height": null,
            "justify_content": null,
            "justify_items": null,
            "left": null,
            "margin": null,
            "max_height": null,
            "max_width": null,
            "min_height": null,
            "min_width": null,
            "object_fit": null,
            "object_position": null,
            "order": null,
            "overflow": null,
            "overflow_x": null,
            "overflow_y": null,
            "padding": null,
            "right": null,
            "top": null,
            "visibility": null,
            "width": null
          }
        },
        "951defaad0c245e5aa50331fb6d60621": {
          "model_module": "@jupyter-widgets/controls",
          "model_name": "ProgressStyleModel",
          "model_module_version": "1.5.0",
          "state": {
            "_model_module": "@jupyter-widgets/controls",
            "_model_module_version": "1.5.0",
            "_model_name": "ProgressStyleModel",
            "_view_count": null,
            "_view_module": "@jupyter-widgets/base",
            "_view_module_version": "1.2.0",
            "_view_name": "StyleView",
            "bar_color": null,
            "description_width": ""
          }
        },
        "c8011da7a2fa46619ca7681bca2eee84": {
          "model_module": "@jupyter-widgets/base",
          "model_name": "LayoutModel",
          "model_module_version": "1.2.0",
          "state": {
            "_model_module": "@jupyter-widgets/base",
            "_model_module_version": "1.2.0",
            "_model_name": "LayoutModel",
            "_view_count": null,
            "_view_module": "@jupyter-widgets/base",
            "_view_module_version": "1.2.0",
            "_view_name": "LayoutView",
            "align_content": null,
            "align_items": null,
            "align_self": null,
            "border": null,
            "bottom": null,
            "display": null,
            "flex": null,
            "flex_flow": null,
            "grid_area": null,
            "grid_auto_columns": null,
            "grid_auto_flow": null,
            "grid_auto_rows": null,
            "grid_column": null,
            "grid_gap": null,
            "grid_row": null,
            "grid_template_areas": null,
            "grid_template_columns": null,
            "grid_template_rows": null,
            "height": null,
            "justify_content": null,
            "justify_items": null,
            "left": null,
            "margin": null,
            "max_height": null,
            "max_width": null,
            "min_height": null,
            "min_width": null,
            "object_fit": null,
            "object_position": null,
            "order": null,
            "overflow": null,
            "overflow_x": null,
            "overflow_y": null,
            "padding": null,
            "right": null,
            "top": null,
            "visibility": null,
            "width": null
          }
        },
        "344c5ce780034680926ddca4b14ca53d": {
          "model_module": "@jupyter-widgets/controls",
          "model_name": "DescriptionStyleModel",
          "model_module_version": "1.5.0",
          "state": {
            "_model_module": "@jupyter-widgets/controls",
            "_model_module_version": "1.5.0",
            "_model_name": "DescriptionStyleModel",
            "_view_count": null,
            "_view_module": "@jupyter-widgets/base",
            "_view_module_version": "1.2.0",
            "_view_name": "StyleView",
            "description_width": ""
          }
        },
        "16041ef8b5f746ec98ef2237b1d75857": {
          "model_module": "@jupyter-widgets/controls",
          "model_name": "HBoxModel",
          "model_module_version": "1.5.0",
          "state": {
            "_dom_classes": [],
            "_model_module": "@jupyter-widgets/controls",
            "_model_module_version": "1.5.0",
            "_model_name": "HBoxModel",
            "_view_count": null,
            "_view_module": "@jupyter-widgets/controls",
            "_view_module_version": "1.5.0",
            "_view_name": "HBoxView",
            "box_style": "",
            "children": [
              "IPY_MODEL_8eea02b8e13740f7945c7f055bdbe3bc",
              "IPY_MODEL_5d064a9f0b29474d9c0e5f073102c6e8",
              "IPY_MODEL_19e5723ff1c542be8750c71e856375bf"
            ],
            "layout": "IPY_MODEL_34f8d56259584b689fcd746f4431f179"
          }
        },
        "8eea02b8e13740f7945c7f055bdbe3bc": {
          "model_module": "@jupyter-widgets/controls",
          "model_name": "HTMLModel",
          "model_module_version": "1.5.0",
          "state": {
            "_dom_classes": [],
            "_model_module": "@jupyter-widgets/controls",
            "_model_module_version": "1.5.0",
            "_model_name": "HTMLModel",
            "_view_count": null,
            "_view_module": "@jupyter-widgets/controls",
            "_view_module_version": "1.5.0",
            "_view_name": "HTMLView",
            "description": "",
            "description_tooltip": null,
            "layout": "IPY_MODEL_72e189ac67cd41b59877ec32dc220e3b",
            "placeholder": "​",
            "style": "IPY_MODEL_b1754007c9e64e0f8d2b8aa8d5695728",
            "value": "Downloading metadata: 100%"
          }
        },
        "5d064a9f0b29474d9c0e5f073102c6e8": {
          "model_module": "@jupyter-widgets/controls",
          "model_name": "FloatProgressModel",
          "model_module_version": "1.5.0",
          "state": {
            "_dom_classes": [],
            "_model_module": "@jupyter-widgets/controls",
            "_model_module_version": "1.5.0",
            "_model_name": "FloatProgressModel",
            "_view_count": null,
            "_view_module": "@jupyter-widgets/controls",
            "_view_module_version": "1.5.0",
            "_view_name": "ProgressView",
            "bar_style": "success",
            "description": "",
            "description_tooltip": null,
            "layout": "IPY_MODEL_4dca406958b84124932304535c3c2d9b",
            "max": 3280,
            "min": 0,
            "orientation": "horizontal",
            "style": "IPY_MODEL_86bf624b4ac9464cb558faf610d11ffc",
            "value": 3280
          }
        },
        "19e5723ff1c542be8750c71e856375bf": {
          "model_module": "@jupyter-widgets/controls",
          "model_name": "HTMLModel",
          "model_module_version": "1.5.0",
          "state": {
            "_dom_classes": [],
            "_model_module": "@jupyter-widgets/controls",
            "_model_module_version": "1.5.0",
            "_model_name": "HTMLModel",
            "_view_count": null,
            "_view_module": "@jupyter-widgets/controls",
            "_view_module_version": "1.5.0",
            "_view_name": "HTMLView",
            "description": "",
            "description_tooltip": null,
            "layout": "IPY_MODEL_2e24b15429d54926ad4bcadae0113a11",
            "placeholder": "​",
            "style": "IPY_MODEL_66962cb886214fcd9441de7b5ee38a1f",
            "value": " 3.28k/3.28k [00:00&lt;00:00, 196kB/s]"
          }
        },
        "34f8d56259584b689fcd746f4431f179": {
          "model_module": "@jupyter-widgets/base",
          "model_name": "LayoutModel",
          "model_module_version": "1.2.0",
          "state": {
            "_model_module": "@jupyter-widgets/base",
            "_model_module_version": "1.2.0",
            "_model_name": "LayoutModel",
            "_view_count": null,
            "_view_module": "@jupyter-widgets/base",
            "_view_module_version": "1.2.0",
            "_view_name": "LayoutView",
            "align_content": null,
            "align_items": null,
            "align_self": null,
            "border": null,
            "bottom": null,
            "display": null,
            "flex": null,
            "flex_flow": null,
            "grid_area": null,
            "grid_auto_columns": null,
            "grid_auto_flow": null,
            "grid_auto_rows": null,
            "grid_column": null,
            "grid_gap": null,
            "grid_row": null,
            "grid_template_areas": null,
            "grid_template_columns": null,
            "grid_template_rows": null,
            "height": null,
            "justify_content": null,
            "justify_items": null,
            "left": null,
            "margin": null,
            "max_height": null,
            "max_width": null,
            "min_height": null,
            "min_width": null,
            "object_fit": null,
            "object_position": null,
            "order": null,
            "overflow": null,
            "overflow_x": null,
            "overflow_y": null,
            "padding": null,
            "right": null,
            "top": null,
            "visibility": null,
            "width": null
          }
        },
        "72e189ac67cd41b59877ec32dc220e3b": {
          "model_module": "@jupyter-widgets/base",
          "model_name": "LayoutModel",
          "model_module_version": "1.2.0",
          "state": {
            "_model_module": "@jupyter-widgets/base",
            "_model_module_version": "1.2.0",
            "_model_name": "LayoutModel",
            "_view_count": null,
            "_view_module": "@jupyter-widgets/base",
            "_view_module_version": "1.2.0",
            "_view_name": "LayoutView",
            "align_content": null,
            "align_items": null,
            "align_self": null,
            "border": null,
            "bottom": null,
            "display": null,
            "flex": null,
            "flex_flow": null,
            "grid_area": null,
            "grid_auto_columns": null,
            "grid_auto_flow": null,
            "grid_auto_rows": null,
            "grid_column": null,
            "grid_gap": null,
            "grid_row": null,
            "grid_template_areas": null,
            "grid_template_columns": null,
            "grid_template_rows": null,
            "height": null,
            "justify_content": null,
            "justify_items": null,
            "left": null,
            "margin": null,
            "max_height": null,
            "max_width": null,
            "min_height": null,
            "min_width": null,
            "object_fit": null,
            "object_position": null,
            "order": null,
            "overflow": null,
            "overflow_x": null,
            "overflow_y": null,
            "padding": null,
            "right": null,
            "top": null,
            "visibility": null,
            "width": null
          }
        },
        "b1754007c9e64e0f8d2b8aa8d5695728": {
          "model_module": "@jupyter-widgets/controls",
          "model_name": "DescriptionStyleModel",
          "model_module_version": "1.5.0",
          "state": {
            "_model_module": "@jupyter-widgets/controls",
            "_model_module_version": "1.5.0",
            "_model_name": "DescriptionStyleModel",
            "_view_count": null,
            "_view_module": "@jupyter-widgets/base",
            "_view_module_version": "1.2.0",
            "_view_name": "StyleView",
            "description_width": ""
          }
        },
        "4dca406958b84124932304535c3c2d9b": {
          "model_module": "@jupyter-widgets/base",
          "model_name": "LayoutModel",
          "model_module_version": "1.2.0",
          "state": {
            "_model_module": "@jupyter-widgets/base",
            "_model_module_version": "1.2.0",
            "_model_name": "LayoutModel",
            "_view_count": null,
            "_view_module": "@jupyter-widgets/base",
            "_view_module_version": "1.2.0",
            "_view_name": "LayoutView",
            "align_content": null,
            "align_items": null,
            "align_self": null,
            "border": null,
            "bottom": null,
            "display": null,
            "flex": null,
            "flex_flow": null,
            "grid_area": null,
            "grid_auto_columns": null,
            "grid_auto_flow": null,
            "grid_auto_rows": null,
            "grid_column": null,
            "grid_gap": null,
            "grid_row": null,
            "grid_template_areas": null,
            "grid_template_columns": null,
            "grid_template_rows": null,
            "height": null,
            "justify_content": null,
            "justify_items": null,
            "left": null,
            "margin": null,
            "max_height": null,
            "max_width": null,
            "min_height": null,
            "min_width": null,
            "object_fit": null,
            "object_position": null,
            "order": null,
            "overflow": null,
            "overflow_x": null,
            "overflow_y": null,
            "padding": null,
            "right": null,
            "top": null,
            "visibility": null,
            "width": null
          }
        },
        "86bf624b4ac9464cb558faf610d11ffc": {
          "model_module": "@jupyter-widgets/controls",
          "model_name": "ProgressStyleModel",
          "model_module_version": "1.5.0",
          "state": {
            "_model_module": "@jupyter-widgets/controls",
            "_model_module_version": "1.5.0",
            "_model_name": "ProgressStyleModel",
            "_view_count": null,
            "_view_module": "@jupyter-widgets/base",
            "_view_module_version": "1.2.0",
            "_view_name": "StyleView",
            "bar_color": null,
            "description_width": ""
          }
        },
        "2e24b15429d54926ad4bcadae0113a11": {
          "model_module": "@jupyter-widgets/base",
          "model_name": "LayoutModel",
          "model_module_version": "1.2.0",
          "state": {
            "_model_module": "@jupyter-widgets/base",
            "_model_module_version": "1.2.0",
            "_model_name": "LayoutModel",
            "_view_count": null,
            "_view_module": "@jupyter-widgets/base",
            "_view_module_version": "1.2.0",
            "_view_name": "LayoutView",
            "align_content": null,
            "align_items": null,
            "align_self": null,
            "border": null,
            "bottom": null,
            "display": null,
            "flex": null,
            "flex_flow": null,
            "grid_area": null,
            "grid_auto_columns": null,
            "grid_auto_flow": null,
            "grid_auto_rows": null,
            "grid_column": null,
            "grid_gap": null,
            "grid_row": null,
            "grid_template_areas": null,
            "grid_template_columns": null,
            "grid_template_rows": null,
            "height": null,
            "justify_content": null,
            "justify_items": null,
            "left": null,
            "margin": null,
            "max_height": null,
            "max_width": null,
            "min_height": null,
            "min_width": null,
            "object_fit": null,
            "object_position": null,
            "order": null,
            "overflow": null,
            "overflow_x": null,
            "overflow_y": null,
            "padding": null,
            "right": null,
            "top": null,
            "visibility": null,
            "width": null
          }
        },
        "66962cb886214fcd9441de7b5ee38a1f": {
          "model_module": "@jupyter-widgets/controls",
          "model_name": "DescriptionStyleModel",
          "model_module_version": "1.5.0",
          "state": {
            "_model_module": "@jupyter-widgets/controls",
            "_model_module_version": "1.5.0",
            "_model_name": "DescriptionStyleModel",
            "_view_count": null,
            "_view_module": "@jupyter-widgets/base",
            "_view_module_version": "1.2.0",
            "_view_name": "StyleView",
            "description_width": ""
          }
        },
        "ec59bcfa2f7e4ddd977e2871ee363cbb": {
          "model_module": "@jupyter-widgets/controls",
          "model_name": "HBoxModel",
          "model_module_version": "1.5.0",
          "state": {
            "_dom_classes": [],
            "_model_module": "@jupyter-widgets/controls",
            "_model_module_version": "1.5.0",
            "_model_name": "HBoxModel",
            "_view_count": null,
            "_view_module": "@jupyter-widgets/controls",
            "_view_module_version": "1.5.0",
            "_view_name": "HBoxView",
            "box_style": "",
            "children": [
              "IPY_MODEL_245e9f835b344edd84bb052c7a9867fd",
              "IPY_MODEL_20800cc037d44f03b47cdbf1f9976664",
              "IPY_MODEL_06af01a3a60b4fa48efc242fc90388e4"
            ],
            "layout": "IPY_MODEL_c78d838c077c4e338384bd8ffc6d1dfa"
          }
        },
        "245e9f835b344edd84bb052c7a9867fd": {
          "model_module": "@jupyter-widgets/controls",
          "model_name": "HTMLModel",
          "model_module_version": "1.5.0",
          "state": {
            "_dom_classes": [],
            "_model_module": "@jupyter-widgets/controls",
            "_model_module_version": "1.5.0",
            "_model_name": "HTMLModel",
            "_view_count": null,
            "_view_module": "@jupyter-widgets/controls",
            "_view_module_version": "1.5.0",
            "_view_name": "HTMLView",
            "description": "",
            "description_tooltip": null,
            "layout": "IPY_MODEL_dfa440c4719d4c798b68ef4f9de6df9d",
            "placeholder": "​",
            "style": "IPY_MODEL_7ae5fcbbad7843f682cc9bd5dcceb0a2",
            "value": "Downloading readme: 100%"
          }
        },
        "20800cc037d44f03b47cdbf1f9976664": {
          "model_module": "@jupyter-widgets/controls",
          "model_name": "FloatProgressModel",
          "model_module_version": "1.5.0",
          "state": {
            "_dom_classes": [],
            "_model_module": "@jupyter-widgets/controls",
            "_model_module_version": "1.5.0",
            "_model_name": "FloatProgressModel",
            "_view_count": null,
            "_view_module": "@jupyter-widgets/controls",
            "_view_module_version": "1.5.0",
            "_view_name": "ProgressView",
            "bar_style": "success",
            "description": "",
            "description_tooltip": null,
            "layout": "IPY_MODEL_468f5790d71f42eb9cc38974dc8dc7f5",
            "max": 8780,
            "min": 0,
            "orientation": "horizontal",
            "style": "IPY_MODEL_52aa8c5dd7784fd2933f756bb9441041",
            "value": 8780
          }
        },
        "06af01a3a60b4fa48efc242fc90388e4": {
          "model_module": "@jupyter-widgets/controls",
          "model_name": "HTMLModel",
          "model_module_version": "1.5.0",
          "state": {
            "_dom_classes": [],
            "_model_module": "@jupyter-widgets/controls",
            "_model_module_version": "1.5.0",
            "_model_name": "HTMLModel",
            "_view_count": null,
            "_view_module": "@jupyter-widgets/controls",
            "_view_module_version": "1.5.0",
            "_view_name": "HTMLView",
            "description": "",
            "description_tooltip": null,
            "layout": "IPY_MODEL_cabbcf4004254503a702c524cc001c8a",
            "placeholder": "​",
            "style": "IPY_MODEL_763ba24313e04be39326dd99af6b9092",
            "value": " 8.78k/8.78k [00:00&lt;00:00, 540kB/s]"
          }
        },
        "c78d838c077c4e338384bd8ffc6d1dfa": {
          "model_module": "@jupyter-widgets/base",
          "model_name": "LayoutModel",
          "model_module_version": "1.2.0",
          "state": {
            "_model_module": "@jupyter-widgets/base",
            "_model_module_version": "1.2.0",
            "_model_name": "LayoutModel",
            "_view_count": null,
            "_view_module": "@jupyter-widgets/base",
            "_view_module_version": "1.2.0",
            "_view_name": "LayoutView",
            "align_content": null,
            "align_items": null,
            "align_self": null,
            "border": null,
            "bottom": null,
            "display": null,
            "flex": null,
            "flex_flow": null,
            "grid_area": null,
            "grid_auto_columns": null,
            "grid_auto_flow": null,
            "grid_auto_rows": null,
            "grid_column": null,
            "grid_gap": null,
            "grid_row": null,
            "grid_template_areas": null,
            "grid_template_columns": null,
            "grid_template_rows": null,
            "height": null,
            "justify_content": null,
            "justify_items": null,
            "left": null,
            "margin": null,
            "max_height": null,
            "max_width": null,
            "min_height": null,
            "min_width": null,
            "object_fit": null,
            "object_position": null,
            "order": null,
            "overflow": null,
            "overflow_x": null,
            "overflow_y": null,
            "padding": null,
            "right": null,
            "top": null,
            "visibility": null,
            "width": null
          }
        },
        "dfa440c4719d4c798b68ef4f9de6df9d": {
          "model_module": "@jupyter-widgets/base",
          "model_name": "LayoutModel",
          "model_module_version": "1.2.0",
          "state": {
            "_model_module": "@jupyter-widgets/base",
            "_model_module_version": "1.2.0",
            "_model_name": "LayoutModel",
            "_view_count": null,
            "_view_module": "@jupyter-widgets/base",
            "_view_module_version": "1.2.0",
            "_view_name": "LayoutView",
            "align_content": null,
            "align_items": null,
            "align_self": null,
            "border": null,
            "bottom": null,
            "display": null,
            "flex": null,
            "flex_flow": null,
            "grid_area": null,
            "grid_auto_columns": null,
            "grid_auto_flow": null,
            "grid_auto_rows": null,
            "grid_column": null,
            "grid_gap": null,
            "grid_row": null,
            "grid_template_areas": null,
            "grid_template_columns": null,
            "grid_template_rows": null,
            "height": null,
            "justify_content": null,
            "justify_items": null,
            "left": null,
            "margin": null,
            "max_height": null,
            "max_width": null,
            "min_height": null,
            "min_width": null,
            "object_fit": null,
            "object_position": null,
            "order": null,
            "overflow": null,
            "overflow_x": null,
            "overflow_y": null,
            "padding": null,
            "right": null,
            "top": null,
            "visibility": null,
            "width": null
          }
        },
        "7ae5fcbbad7843f682cc9bd5dcceb0a2": {
          "model_module": "@jupyter-widgets/controls",
          "model_name": "DescriptionStyleModel",
          "model_module_version": "1.5.0",
          "state": {
            "_model_module": "@jupyter-widgets/controls",
            "_model_module_version": "1.5.0",
            "_model_name": "DescriptionStyleModel",
            "_view_count": null,
            "_view_module": "@jupyter-widgets/base",
            "_view_module_version": "1.2.0",
            "_view_name": "StyleView",
            "description_width": ""
          }
        },
        "468f5790d71f42eb9cc38974dc8dc7f5": {
          "model_module": "@jupyter-widgets/base",
          "model_name": "LayoutModel",
          "model_module_version": "1.2.0",
          "state": {
            "_model_module": "@jupyter-widgets/base",
            "_model_module_version": "1.2.0",
            "_model_name": "LayoutModel",
            "_view_count": null,
            "_view_module": "@jupyter-widgets/base",
            "_view_module_version": "1.2.0",
            "_view_name": "LayoutView",
            "align_content": null,
            "align_items": null,
            "align_self": null,
            "border": null,
            "bottom": null,
            "display": null,
            "flex": null,
            "flex_flow": null,
            "grid_area": null,
            "grid_auto_columns": null,
            "grid_auto_flow": null,
            "grid_auto_rows": null,
            "grid_column": null,
            "grid_gap": null,
            "grid_row": null,
            "grid_template_areas": null,
            "grid_template_columns": null,
            "grid_template_rows": null,
            "height": null,
            "justify_content": null,
            "justify_items": null,
            "left": null,
            "margin": null,
            "max_height": null,
            "max_width": null,
            "min_height": null,
            "min_width": null,
            "object_fit": null,
            "object_position": null,
            "order": null,
            "overflow": null,
            "overflow_x": null,
            "overflow_y": null,
            "padding": null,
            "right": null,
            "top": null,
            "visibility": null,
            "width": null
          }
        },
        "52aa8c5dd7784fd2933f756bb9441041": {
          "model_module": "@jupyter-widgets/controls",
          "model_name": "ProgressStyleModel",
          "model_module_version": "1.5.0",
          "state": {
            "_model_module": "@jupyter-widgets/controls",
            "_model_module_version": "1.5.0",
            "_model_name": "ProgressStyleModel",
            "_view_count": null,
            "_view_module": "@jupyter-widgets/base",
            "_view_module_version": "1.2.0",
            "_view_name": "StyleView",
            "bar_color": null,
            "description_width": ""
          }
        },
        "cabbcf4004254503a702c524cc001c8a": {
          "model_module": "@jupyter-widgets/base",
          "model_name": "LayoutModel",
          "model_module_version": "1.2.0",
          "state": {
            "_model_module": "@jupyter-widgets/base",
            "_model_module_version": "1.2.0",
            "_model_name": "LayoutModel",
            "_view_count": null,
            "_view_module": "@jupyter-widgets/base",
            "_view_module_version": "1.2.0",
            "_view_name": "LayoutView",
            "align_content": null,
            "align_items": null,
            "align_self": null,
            "border": null,
            "bottom": null,
            "display": null,
            "flex": null,
            "flex_flow": null,
            "grid_area": null,
            "grid_auto_columns": null,
            "grid_auto_flow": null,
            "grid_auto_rows": null,
            "grid_column": null,
            "grid_gap": null,
            "grid_row": null,
            "grid_template_areas": null,
            "grid_template_columns": null,
            "grid_template_rows": null,
            "height": null,
            "justify_content": null,
            "justify_items": null,
            "left": null,
            "margin": null,
            "max_height": null,
            "max_width": null,
            "min_height": null,
            "min_width": null,
            "object_fit": null,
            "object_position": null,
            "order": null,
            "overflow": null,
            "overflow_x": null,
            "overflow_y": null,
            "padding": null,
            "right": null,
            "top": null,
            "visibility": null,
            "width": null
          }
        },
        "763ba24313e04be39326dd99af6b9092": {
          "model_module": "@jupyter-widgets/controls",
          "model_name": "DescriptionStyleModel",
          "model_module_version": "1.5.0",
          "state": {
            "_model_module": "@jupyter-widgets/controls",
            "_model_module_version": "1.5.0",
            "_model_name": "DescriptionStyleModel",
            "_view_count": null,
            "_view_module": "@jupyter-widgets/base",
            "_view_module_version": "1.2.0",
            "_view_name": "StyleView",
            "description_width": ""
          }
        },
        "f8b180a3b6c54100926c048a9b905e6a": {
          "model_module": "@jupyter-widgets/controls",
          "model_name": "HBoxModel",
          "model_module_version": "1.5.0",
          "state": {
            "_dom_classes": [],
            "_model_module": "@jupyter-widgets/controls",
            "_model_module_version": "1.5.0",
            "_model_name": "HBoxModel",
            "_view_count": null,
            "_view_module": "@jupyter-widgets/controls",
            "_view_module_version": "1.5.0",
            "_view_name": "HBoxView",
            "box_style": "",
            "children": [
              "IPY_MODEL_29af20095b854396870ae6cb14c61952",
              "IPY_MODEL_aeb86cb7c6744f629d8ec1be0b99332b",
              "IPY_MODEL_7db5d853dd7a445a845f0d779b404b51"
            ],
            "layout": "IPY_MODEL_3206c2cffb92435cbb0e4838d573a3ad"
          }
        },
        "29af20095b854396870ae6cb14c61952": {
          "model_module": "@jupyter-widgets/controls",
          "model_name": "HTMLModel",
          "model_module_version": "1.5.0",
          "state": {
            "_dom_classes": [],
            "_model_module": "@jupyter-widgets/controls",
            "_model_module_version": "1.5.0",
            "_model_name": "HTMLModel",
            "_view_count": null,
            "_view_module": "@jupyter-widgets/controls",
            "_view_module_version": "1.5.0",
            "_view_name": "HTMLView",
            "description": "",
            "description_tooltip": null,
            "layout": "IPY_MODEL_30486abb56b7418db21a217ef384a4f5",
            "placeholder": "​",
            "style": "IPY_MODEL_c758652a98574627b2c41912e3d4357b",
            "value": "Downloading data: 100%"
          }
        },
        "aeb86cb7c6744f629d8ec1be0b99332b": {
          "model_module": "@jupyter-widgets/controls",
          "model_name": "FloatProgressModel",
          "model_module_version": "1.5.0",
          "state": {
            "_dom_classes": [],
            "_model_module": "@jupyter-widgets/controls",
            "_model_module_version": "1.5.0",
            "_model_name": "FloatProgressModel",
            "_view_count": null,
            "_view_module": "@jupyter-widgets/controls",
            "_view_module_version": "1.5.0",
            "_view_name": "ProgressView",
            "bar_style": "success",
            "description": "",
            "description_tooltip": null,
            "layout": "IPY_MODEL_11d6b3e2243945978f90d545d7a24f8b",
            "max": 591930,
            "min": 0,
            "orientation": "horizontal",
            "style": "IPY_MODEL_7eef3fbbf6db4776beb55b9efd3d9276",
            "value": 591930
          }
        },
        "7db5d853dd7a445a845f0d779b404b51": {
          "model_module": "@jupyter-widgets/controls",
          "model_name": "HTMLModel",
          "model_module_version": "1.5.0",
          "state": {
            "_dom_classes": [],
            "_model_module": "@jupyter-widgets/controls",
            "_model_module_version": "1.5.0",
            "_model_name": "HTMLModel",
            "_view_count": null,
            "_view_module": "@jupyter-widgets/controls",
            "_view_module_version": "1.5.0",
            "_view_name": "HTMLView",
            "description": "",
            "description_tooltip": null,
            "layout": "IPY_MODEL_9b7008e9226b402bb70b0e18b034b0ee",
            "placeholder": "​",
            "style": "IPY_MODEL_fe2dbc7a64284ec2bb763c97951d368f",
            "value": " 592k/592k [00:00&lt;00:00, 7.00MB/s]"
          }
        },
        "3206c2cffb92435cbb0e4838d573a3ad": {
          "model_module": "@jupyter-widgets/base",
          "model_name": "LayoutModel",
          "model_module_version": "1.2.0",
          "state": {
            "_model_module": "@jupyter-widgets/base",
            "_model_module_version": "1.2.0",
            "_model_name": "LayoutModel",
            "_view_count": null,
            "_view_module": "@jupyter-widgets/base",
            "_view_module_version": "1.2.0",
            "_view_name": "LayoutView",
            "align_content": null,
            "align_items": null,
            "align_self": null,
            "border": null,
            "bottom": null,
            "display": null,
            "flex": null,
            "flex_flow": null,
            "grid_area": null,
            "grid_auto_columns": null,
            "grid_auto_flow": null,
            "grid_auto_rows": null,
            "grid_column": null,
            "grid_gap": null,
            "grid_row": null,
            "grid_template_areas": null,
            "grid_template_columns": null,
            "grid_template_rows": null,
            "height": null,
            "justify_content": null,
            "justify_items": null,
            "left": null,
            "margin": null,
            "max_height": null,
            "max_width": null,
            "min_height": null,
            "min_width": null,
            "object_fit": null,
            "object_position": null,
            "order": null,
            "overflow": null,
            "overflow_x": null,
            "overflow_y": null,
            "padding": null,
            "right": null,
            "top": null,
            "visibility": null,
            "width": null
          }
        },
        "30486abb56b7418db21a217ef384a4f5": {
          "model_module": "@jupyter-widgets/base",
          "model_name": "LayoutModel",
          "model_module_version": "1.2.0",
          "state": {
            "_model_module": "@jupyter-widgets/base",
            "_model_module_version": "1.2.0",
            "_model_name": "LayoutModel",
            "_view_count": null,
            "_view_module": "@jupyter-widgets/base",
            "_view_module_version": "1.2.0",
            "_view_name": "LayoutView",
            "align_content": null,
            "align_items": null,
            "align_self": null,
            "border": null,
            "bottom": null,
            "display": null,
            "flex": null,
            "flex_flow": null,
            "grid_area": null,
            "grid_auto_columns": null,
            "grid_auto_flow": null,
            "grid_auto_rows": null,
            "grid_column": null,
            "grid_gap": null,
            "grid_row": null,
            "grid_template_areas": null,
            "grid_template_columns": null,
            "grid_template_rows": null,
            "height": null,
            "justify_content": null,
            "justify_items": null,
            "left": null,
            "margin": null,
            "max_height": null,
            "max_width": null,
            "min_height": null,
            "min_width": null,
            "object_fit": null,
            "object_position": null,
            "order": null,
            "overflow": null,
            "overflow_x": null,
            "overflow_y": null,
            "padding": null,
            "right": null,
            "top": null,
            "visibility": null,
            "width": null
          }
        },
        "c758652a98574627b2c41912e3d4357b": {
          "model_module": "@jupyter-widgets/controls",
          "model_name": "DescriptionStyleModel",
          "model_module_version": "1.5.0",
          "state": {
            "_model_module": "@jupyter-widgets/controls",
            "_model_module_version": "1.5.0",
            "_model_name": "DescriptionStyleModel",
            "_view_count": null,
            "_view_module": "@jupyter-widgets/base",
            "_view_module_version": "1.2.0",
            "_view_name": "StyleView",
            "description_width": ""
          }
        },
        "11d6b3e2243945978f90d545d7a24f8b": {
          "model_module": "@jupyter-widgets/base",
          "model_name": "LayoutModel",
          "model_module_version": "1.2.0",
          "state": {
            "_model_module": "@jupyter-widgets/base",
            "_model_module_version": "1.2.0",
            "_model_name": "LayoutModel",
            "_view_count": null,
            "_view_module": "@jupyter-widgets/base",
            "_view_module_version": "1.2.0",
            "_view_name": "LayoutView",
            "align_content": null,
            "align_items": null,
            "align_self": null,
            "border": null,
            "bottom": null,
            "display": null,
            "flex": null,
            "flex_flow": null,
            "grid_area": null,
            "grid_auto_columns": null,
            "grid_auto_flow": null,
            "grid_auto_rows": null,
            "grid_column": null,
            "grid_gap": null,
            "grid_row": null,
            "grid_template_areas": null,
            "grid_template_columns": null,
            "grid_template_rows": null,
            "height": null,
            "justify_content": null,
            "justify_items": null,
            "left": null,
            "margin": null,
            "max_height": null,
            "max_width": null,
            "min_height": null,
            "min_width": null,
            "object_fit": null,
            "object_position": null,
            "order": null,
            "overflow": null,
            "overflow_x": null,
            "overflow_y": null,
            "padding": null,
            "right": null,
            "top": null,
            "visibility": null,
            "width": null
          }
        },
        "7eef3fbbf6db4776beb55b9efd3d9276": {
          "model_module": "@jupyter-widgets/controls",
          "model_name": "ProgressStyleModel",
          "model_module_version": "1.5.0",
          "state": {
            "_model_module": "@jupyter-widgets/controls",
            "_model_module_version": "1.5.0",
            "_model_name": "ProgressStyleModel",
            "_view_count": null,
            "_view_module": "@jupyter-widgets/base",
            "_view_module_version": "1.2.0",
            "_view_name": "StyleView",
            "bar_color": null,
            "description_width": ""
          }
        },
        "9b7008e9226b402bb70b0e18b034b0ee": {
          "model_module": "@jupyter-widgets/base",
          "model_name": "LayoutModel",
          "model_module_version": "1.2.0",
          "state": {
            "_model_module": "@jupyter-widgets/base",
            "_model_module_version": "1.2.0",
            "_model_name": "LayoutModel",
            "_view_count": null,
            "_view_module": "@jupyter-widgets/base",
            "_view_module_version": "1.2.0",
            "_view_name": "LayoutView",
            "align_content": null,
            "align_items": null,
            "align_self": null,
            "border": null,
            "bottom": null,
            "display": null,
            "flex": null,
            "flex_flow": null,
            "grid_area": null,
            "grid_auto_columns": null,
            "grid_auto_flow": null,
            "grid_auto_rows": null,
            "grid_column": null,
            "grid_gap": null,
            "grid_row": null,
            "grid_template_areas": null,
            "grid_template_columns": null,
            "grid_template_rows": null,
            "height": null,
            "justify_content": null,
            "justify_items": null,
            "left": null,
            "margin": null,
            "max_height": null,
            "max_width": null,
            "min_height": null,
            "min_width": null,
            "object_fit": null,
            "object_position": null,
            "order": null,
            "overflow": null,
            "overflow_x": null,
            "overflow_y": null,
            "padding": null,
            "right": null,
            "top": null,
            "visibility": null,
            "width": null
          }
        },
        "fe2dbc7a64284ec2bb763c97951d368f": {
          "model_module": "@jupyter-widgets/controls",
          "model_name": "DescriptionStyleModel",
          "model_module_version": "1.5.0",
          "state": {
            "_model_module": "@jupyter-widgets/controls",
            "_model_module_version": "1.5.0",
            "_model_name": "DescriptionStyleModel",
            "_view_count": null,
            "_view_module": "@jupyter-widgets/base",
            "_view_module_version": "1.2.0",
            "_view_name": "StyleView",
            "description_width": ""
          }
        },
        "0879820dfb97468ebb5ded429f294d5e": {
          "model_module": "@jupyter-widgets/controls",
          "model_name": "HBoxModel",
          "model_module_version": "1.5.0",
          "state": {
            "_dom_classes": [],
            "_model_module": "@jupyter-widgets/controls",
            "_model_module_version": "1.5.0",
            "_model_name": "HBoxModel",
            "_view_count": null,
            "_view_module": "@jupyter-widgets/controls",
            "_view_module_version": "1.5.0",
            "_view_name": "HBoxView",
            "box_style": "",
            "children": [
              "IPY_MODEL_c9796a282ddc4a9a9b57ee0f5715f960",
              "IPY_MODEL_2f18d65deb0e4c239ae7d5b6c8dea7f6",
              "IPY_MODEL_fda965493fae450988993f868ffd41ee"
            ],
            "layout": "IPY_MODEL_2ac1fcdc23144577b9d3d2aaf5b464ec"
          }
        },
        "c9796a282ddc4a9a9b57ee0f5715f960": {
          "model_module": "@jupyter-widgets/controls",
          "model_name": "HTMLModel",
          "model_module_version": "1.5.0",
          "state": {
            "_dom_classes": [],
            "_model_module": "@jupyter-widgets/controls",
            "_model_module_version": "1.5.0",
            "_model_name": "HTMLModel",
            "_view_count": null,
            "_view_module": "@jupyter-widgets/controls",
            "_view_module_version": "1.5.0",
            "_view_name": "HTMLView",
            "description": "",
            "description_tooltip": null,
            "layout": "IPY_MODEL_bcfb4c35e4274a94ad9540cd92ebb5f7",
            "placeholder": "​",
            "style": "IPY_MODEL_d4134df23301400e9189862109ae2f63",
            "value": "Downloading data: 100%"
          }
        },
        "2f18d65deb0e4c239ae7d5b6c8dea7f6": {
          "model_module": "@jupyter-widgets/controls",
          "model_name": "FloatProgressModel",
          "model_module_version": "1.5.0",
          "state": {
            "_dom_classes": [],
            "_model_module": "@jupyter-widgets/controls",
            "_model_module_version": "1.5.0",
            "_model_name": "FloatProgressModel",
            "_view_count": null,
            "_view_module": "@jupyter-widgets/controls",
            "_view_module_version": "1.5.0",
            "_view_name": "ProgressView",
            "bar_style": "success",
            "description": "",
            "description_tooltip": null,
            "layout": "IPY_MODEL_0543f6433f844cd990b5aff5ab68dcc0",
            "max": 74018,
            "min": 0,
            "orientation": "horizontal",
            "style": "IPY_MODEL_aeedde711a364506bd202561db1545d7",
            "value": 74018
          }
        },
        "fda965493fae450988993f868ffd41ee": {
          "model_module": "@jupyter-widgets/controls",
          "model_name": "HTMLModel",
          "model_module_version": "1.5.0",
          "state": {
            "_dom_classes": [],
            "_model_module": "@jupyter-widgets/controls",
            "_model_module_version": "1.5.0",
            "_model_name": "HTMLModel",
            "_view_count": null,
            "_view_module": "@jupyter-widgets/controls",
            "_view_module_version": "1.5.0",
            "_view_name": "HTMLView",
            "description": "",
            "description_tooltip": null,
            "layout": "IPY_MODEL_c9d0600e310643e484deef8e9e391d3d",
            "placeholder": "​",
            "style": "IPY_MODEL_3f2d0a8384704686b66ad0a14e222d07",
            "value": " 74.0k/74.0k [00:00&lt;00:00, 3.20MB/s]"
          }
        },
        "2ac1fcdc23144577b9d3d2aaf5b464ec": {
          "model_module": "@jupyter-widgets/base",
          "model_name": "LayoutModel",
          "model_module_version": "1.2.0",
          "state": {
            "_model_module": "@jupyter-widgets/base",
            "_model_module_version": "1.2.0",
            "_model_name": "LayoutModel",
            "_view_count": null,
            "_view_module": "@jupyter-widgets/base",
            "_view_module_version": "1.2.0",
            "_view_name": "LayoutView",
            "align_content": null,
            "align_items": null,
            "align_self": null,
            "border": null,
            "bottom": null,
            "display": null,
            "flex": null,
            "flex_flow": null,
            "grid_area": null,
            "grid_auto_columns": null,
            "grid_auto_flow": null,
            "grid_auto_rows": null,
            "grid_column": null,
            "grid_gap": null,
            "grid_row": null,
            "grid_template_areas": null,
            "grid_template_columns": null,
            "grid_template_rows": null,
            "height": null,
            "justify_content": null,
            "justify_items": null,
            "left": null,
            "margin": null,
            "max_height": null,
            "max_width": null,
            "min_height": null,
            "min_width": null,
            "object_fit": null,
            "object_position": null,
            "order": null,
            "overflow": null,
            "overflow_x": null,
            "overflow_y": null,
            "padding": null,
            "right": null,
            "top": null,
            "visibility": null,
            "width": null
          }
        },
        "bcfb4c35e4274a94ad9540cd92ebb5f7": {
          "model_module": "@jupyter-widgets/base",
          "model_name": "LayoutModel",
          "model_module_version": "1.2.0",
          "state": {
            "_model_module": "@jupyter-widgets/base",
            "_model_module_version": "1.2.0",
            "_model_name": "LayoutModel",
            "_view_count": null,
            "_view_module": "@jupyter-widgets/base",
            "_view_module_version": "1.2.0",
            "_view_name": "LayoutView",
            "align_content": null,
            "align_items": null,
            "align_self": null,
            "border": null,
            "bottom": null,
            "display": null,
            "flex": null,
            "flex_flow": null,
            "grid_area": null,
            "grid_auto_columns": null,
            "grid_auto_flow": null,
            "grid_auto_rows": null,
            "grid_column": null,
            "grid_gap": null,
            "grid_row": null,
            "grid_template_areas": null,
            "grid_template_columns": null,
            "grid_template_rows": null,
            "height": null,
            "justify_content": null,
            "justify_items": null,
            "left": null,
            "margin": null,
            "max_height": null,
            "max_width": null,
            "min_height": null,
            "min_width": null,
            "object_fit": null,
            "object_position": null,
            "order": null,
            "overflow": null,
            "overflow_x": null,
            "overflow_y": null,
            "padding": null,
            "right": null,
            "top": null,
            "visibility": null,
            "width": null
          }
        },
        "d4134df23301400e9189862109ae2f63": {
          "model_module": "@jupyter-widgets/controls",
          "model_name": "DescriptionStyleModel",
          "model_module_version": "1.5.0",
          "state": {
            "_model_module": "@jupyter-widgets/controls",
            "_model_module_version": "1.5.0",
            "_model_name": "DescriptionStyleModel",
            "_view_count": null,
            "_view_module": "@jupyter-widgets/base",
            "_view_module_version": "1.2.0",
            "_view_name": "StyleView",
            "description_width": ""
          }
        },
        "0543f6433f844cd990b5aff5ab68dcc0": {
          "model_module": "@jupyter-widgets/base",
          "model_name": "LayoutModel",
          "model_module_version": "1.2.0",
          "state": {
            "_model_module": "@jupyter-widgets/base",
            "_model_module_version": "1.2.0",
            "_model_name": "LayoutModel",
            "_view_count": null,
            "_view_module": "@jupyter-widgets/base",
            "_view_module_version": "1.2.0",
            "_view_name": "LayoutView",
            "align_content": null,
            "align_items": null,
            "align_self": null,
            "border": null,
            "bottom": null,
            "display": null,
            "flex": null,
            "flex_flow": null,
            "grid_area": null,
            "grid_auto_columns": null,
            "grid_auto_flow": null,
            "grid_auto_rows": null,
            "grid_column": null,
            "grid_gap": null,
            "grid_row": null,
            "grid_template_areas": null,
            "grid_template_columns": null,
            "grid_template_rows": null,
            "height": null,
            "justify_content": null,
            "justify_items": null,
            "left": null,
            "margin": null,
            "max_height": null,
            "max_width": null,
            "min_height": null,
            "min_width": null,
            "object_fit": null,
            "object_position": null,
            "order": null,
            "overflow": null,
            "overflow_x": null,
            "overflow_y": null,
            "padding": null,
            "right": null,
            "top": null,
            "visibility": null,
            "width": null
          }
        },
        "aeedde711a364506bd202561db1545d7": {
          "model_module": "@jupyter-widgets/controls",
          "model_name": "ProgressStyleModel",
          "model_module_version": "1.5.0",
          "state": {
            "_model_module": "@jupyter-widgets/controls",
            "_model_module_version": "1.5.0",
            "_model_name": "ProgressStyleModel",
            "_view_count": null,
            "_view_module": "@jupyter-widgets/base",
            "_view_module_version": "1.2.0",
            "_view_name": "StyleView",
            "bar_color": null,
            "description_width": ""
          }
        },
        "c9d0600e310643e484deef8e9e391d3d": {
          "model_module": "@jupyter-widgets/base",
          "model_name": "LayoutModel",
          "model_module_version": "1.2.0",
          "state": {
            "_model_module": "@jupyter-widgets/base",
            "_model_module_version": "1.2.0",
            "_model_name": "LayoutModel",
            "_view_count": null,
            "_view_module": "@jupyter-widgets/base",
            "_view_module_version": "1.2.0",
            "_view_name": "LayoutView",
            "align_content": null,
            "align_items": null,
            "align_self": null,
            "border": null,
            "bottom": null,
            "display": null,
            "flex": null,
            "flex_flow": null,
            "grid_area": null,
            "grid_auto_columns": null,
            "grid_auto_flow": null,
            "grid_auto_rows": null,
            "grid_column": null,
            "grid_gap": null,
            "grid_row": null,
            "grid_template_areas": null,
            "grid_template_columns": null,
            "grid_template_rows": null,
            "height": null,
            "justify_content": null,
            "justify_items": null,
            "left": null,
            "margin": null,
            "max_height": null,
            "max_width": null,
            "min_height": null,
            "min_width": null,
            "object_fit": null,
            "object_position": null,
            "order": null,
            "overflow": null,
            "overflow_x": null,
            "overflow_y": null,
            "padding": null,
            "right": null,
            "top": null,
            "visibility": null,
            "width": null
          }
        },
        "3f2d0a8384704686b66ad0a14e222d07": {
          "model_module": "@jupyter-widgets/controls",
          "model_name": "DescriptionStyleModel",
          "model_module_version": "1.5.0",
          "state": {
            "_model_module": "@jupyter-widgets/controls",
            "_model_module_version": "1.5.0",
            "_model_name": "DescriptionStyleModel",
            "_view_count": null,
            "_view_module": "@jupyter-widgets/base",
            "_view_module_version": "1.2.0",
            "_view_name": "StyleView",
            "description_width": ""
          }
        },
        "2ee4cf18a8784d66ab665449f05a5d77": {
          "model_module": "@jupyter-widgets/controls",
          "model_name": "HBoxModel",
          "model_module_version": "1.5.0",
          "state": {
            "_dom_classes": [],
            "_model_module": "@jupyter-widgets/controls",
            "_model_module_version": "1.5.0",
            "_model_name": "HBoxModel",
            "_view_count": null,
            "_view_module": "@jupyter-widgets/controls",
            "_view_module_version": "1.5.0",
            "_view_name": "HBoxView",
            "box_style": "",
            "children": [
              "IPY_MODEL_f48ffa7d94384c9ab6efa1b76ae5cf6d",
              "IPY_MODEL_bd66866c4ad1477184b11aab3b4745fe",
              "IPY_MODEL_f317d0add5d641a0af2200d5cdf40101"
            ],
            "layout": "IPY_MODEL_40bba5a9fd83433b87b60ec5c92ec980"
          }
        },
        "f48ffa7d94384c9ab6efa1b76ae5cf6d": {
          "model_module": "@jupyter-widgets/controls",
          "model_name": "HTMLModel",
          "model_module_version": "1.5.0",
          "state": {
            "_dom_classes": [],
            "_model_module": "@jupyter-widgets/controls",
            "_model_module_version": "1.5.0",
            "_model_name": "HTMLModel",
            "_view_count": null,
            "_view_module": "@jupyter-widgets/controls",
            "_view_module_version": "1.5.0",
            "_view_name": "HTMLView",
            "description": "",
            "description_tooltip": null,
            "layout": "IPY_MODEL_12ecda5594d04baea6f06b80736fad0c",
            "placeholder": "​",
            "style": "IPY_MODEL_984f14f918e0454ca9e5019def09b0dd",
            "value": "Downloading data: 100%"
          }
        },
        "bd66866c4ad1477184b11aab3b4745fe": {
          "model_module": "@jupyter-widgets/controls",
          "model_name": "FloatProgressModel",
          "model_module_version": "1.5.0",
          "state": {
            "_dom_classes": [],
            "_model_module": "@jupyter-widgets/controls",
            "_model_module_version": "1.5.0",
            "_model_name": "FloatProgressModel",
            "_view_count": null,
            "_view_module": "@jupyter-widgets/controls",
            "_view_module_version": "1.5.0",
            "_view_name": "ProgressView",
            "bar_style": "success",
            "description": "",
            "description_tooltip": null,
            "layout": "IPY_MODEL_6cf53d8ddc1e41d3bdc6c4695297cff1",
            "max": 74935,
            "min": 0,
            "orientation": "horizontal",
            "style": "IPY_MODEL_2fa74a7ef3ab45f3b1f5862e2c27f116",
            "value": 74935
          }
        },
        "f317d0add5d641a0af2200d5cdf40101": {
          "model_module": "@jupyter-widgets/controls",
          "model_name": "HTMLModel",
          "model_module_version": "1.5.0",
          "state": {
            "_dom_classes": [],
            "_model_module": "@jupyter-widgets/controls",
            "_model_module_version": "1.5.0",
            "_model_name": "HTMLModel",
            "_view_count": null,
            "_view_module": "@jupyter-widgets/controls",
            "_view_module_version": "1.5.0",
            "_view_name": "HTMLView",
            "description": "",
            "description_tooltip": null,
            "layout": "IPY_MODEL_c6383eeb2c51442e9e53abde5e86c973",
            "placeholder": "​",
            "style": "IPY_MODEL_7bba1dce4b35460abd085bf2937a602b",
            "value": " 74.9k/74.9k [00:00&lt;00:00, 3.86MB/s]"
          }
        },
        "40bba5a9fd83433b87b60ec5c92ec980": {
          "model_module": "@jupyter-widgets/base",
          "model_name": "LayoutModel",
          "model_module_version": "1.2.0",
          "state": {
            "_model_module": "@jupyter-widgets/base",
            "_model_module_version": "1.2.0",
            "_model_name": "LayoutModel",
            "_view_count": null,
            "_view_module": "@jupyter-widgets/base",
            "_view_module_version": "1.2.0",
            "_view_name": "LayoutView",
            "align_content": null,
            "align_items": null,
            "align_self": null,
            "border": null,
            "bottom": null,
            "display": null,
            "flex": null,
            "flex_flow": null,
            "grid_area": null,
            "grid_auto_columns": null,
            "grid_auto_flow": null,
            "grid_auto_rows": null,
            "grid_column": null,
            "grid_gap": null,
            "grid_row": null,
            "grid_template_areas": null,
            "grid_template_columns": null,
            "grid_template_rows": null,
            "height": null,
            "justify_content": null,
            "justify_items": null,
            "left": null,
            "margin": null,
            "max_height": null,
            "max_width": null,
            "min_height": null,
            "min_width": null,
            "object_fit": null,
            "object_position": null,
            "order": null,
            "overflow": null,
            "overflow_x": null,
            "overflow_y": null,
            "padding": null,
            "right": null,
            "top": null,
            "visibility": null,
            "width": null
          }
        },
        "12ecda5594d04baea6f06b80736fad0c": {
          "model_module": "@jupyter-widgets/base",
          "model_name": "LayoutModel",
          "model_module_version": "1.2.0",
          "state": {
            "_model_module": "@jupyter-widgets/base",
            "_model_module_version": "1.2.0",
            "_model_name": "LayoutModel",
            "_view_count": null,
            "_view_module": "@jupyter-widgets/base",
            "_view_module_version": "1.2.0",
            "_view_name": "LayoutView",
            "align_content": null,
            "align_items": null,
            "align_self": null,
            "border": null,
            "bottom": null,
            "display": null,
            "flex": null,
            "flex_flow": null,
            "grid_area": null,
            "grid_auto_columns": null,
            "grid_auto_flow": null,
            "grid_auto_rows": null,
            "grid_column": null,
            "grid_gap": null,
            "grid_row": null,
            "grid_template_areas": null,
            "grid_template_columns": null,
            "grid_template_rows": null,
            "height": null,
            "justify_content": null,
            "justify_items": null,
            "left": null,
            "margin": null,
            "max_height": null,
            "max_width": null,
            "min_height": null,
            "min_width": null,
            "object_fit": null,
            "object_position": null,
            "order": null,
            "overflow": null,
            "overflow_x": null,
            "overflow_y": null,
            "padding": null,
            "right": null,
            "top": null,
            "visibility": null,
            "width": null
          }
        },
        "984f14f918e0454ca9e5019def09b0dd": {
          "model_module": "@jupyter-widgets/controls",
          "model_name": "DescriptionStyleModel",
          "model_module_version": "1.5.0",
          "state": {
            "_model_module": "@jupyter-widgets/controls",
            "_model_module_version": "1.5.0",
            "_model_name": "DescriptionStyleModel",
            "_view_count": null,
            "_view_module": "@jupyter-widgets/base",
            "_view_module_version": "1.2.0",
            "_view_name": "StyleView",
            "description_width": ""
          }
        },
        "6cf53d8ddc1e41d3bdc6c4695297cff1": {
          "model_module": "@jupyter-widgets/base",
          "model_name": "LayoutModel",
          "model_module_version": "1.2.0",
          "state": {
            "_model_module": "@jupyter-widgets/base",
            "_model_module_version": "1.2.0",
            "_model_name": "LayoutModel",
            "_view_count": null,
            "_view_module": "@jupyter-widgets/base",
            "_view_module_version": "1.2.0",
            "_view_name": "LayoutView",
            "align_content": null,
            "align_items": null,
            "align_self": null,
            "border": null,
            "bottom": null,
            "display": null,
            "flex": null,
            "flex_flow": null,
            "grid_area": null,
            "grid_auto_columns": null,
            "grid_auto_flow": null,
            "grid_auto_rows": null,
            "grid_column": null,
            "grid_gap": null,
            "grid_row": null,
            "grid_template_areas": null,
            "grid_template_columns": null,
            "grid_template_rows": null,
            "height": null,
            "justify_content": null,
            "justify_items": null,
            "left": null,
            "margin": null,
            "max_height": null,
            "max_width": null,
            "min_height": null,
            "min_width": null,
            "object_fit": null,
            "object_position": null,
            "order": null,
            "overflow": null,
            "overflow_x": null,
            "overflow_y": null,
            "padding": null,
            "right": null,
            "top": null,
            "visibility": null,
            "width": null
          }
        },
        "2fa74a7ef3ab45f3b1f5862e2c27f116": {
          "model_module": "@jupyter-widgets/controls",
          "model_name": "ProgressStyleModel",
          "model_module_version": "1.5.0",
          "state": {
            "_model_module": "@jupyter-widgets/controls",
            "_model_module_version": "1.5.0",
            "_model_name": "ProgressStyleModel",
            "_view_count": null,
            "_view_module": "@jupyter-widgets/base",
            "_view_module_version": "1.2.0",
            "_view_name": "StyleView",
            "bar_color": null,
            "description_width": ""
          }
        },
        "c6383eeb2c51442e9e53abde5e86c973": {
          "model_module": "@jupyter-widgets/base",
          "model_name": "LayoutModel",
          "model_module_version": "1.2.0",
          "state": {
            "_model_module": "@jupyter-widgets/base",
            "_model_module_version": "1.2.0",
            "_model_name": "LayoutModel",
            "_view_count": null,
            "_view_module": "@jupyter-widgets/base",
            "_view_module_version": "1.2.0",
            "_view_name": "LayoutView",
            "align_content": null,
            "align_items": null,
            "align_self": null,
            "border": null,
            "bottom": null,
            "display": null,
            "flex": null,
            "flex_flow": null,
            "grid_area": null,
            "grid_auto_columns": null,
            "grid_auto_flow": null,
            "grid_auto_rows": null,
            "grid_column": null,
            "grid_gap": null,
            "grid_row": null,
            "grid_template_areas": null,
            "grid_template_columns": null,
            "grid_template_rows": null,
            "height": null,
            "justify_content": null,
            "justify_items": null,
            "left": null,
            "margin": null,
            "max_height": null,
            "max_width": null,
            "min_height": null,
            "min_width": null,
            "object_fit": null,
            "object_position": null,
            "order": null,
            "overflow": null,
            "overflow_x": null,
            "overflow_y": null,
            "padding": null,
            "right": null,
            "top": null,
            "visibility": null,
            "width": null
          }
        },
        "7bba1dce4b35460abd085bf2937a602b": {
          "model_module": "@jupyter-widgets/controls",
          "model_name": "DescriptionStyleModel",
          "model_module_version": "1.5.0",
          "state": {
            "_model_module": "@jupyter-widgets/controls",
            "_model_module_version": "1.5.0",
            "_model_name": "DescriptionStyleModel",
            "_view_count": null,
            "_view_module": "@jupyter-widgets/base",
            "_view_module_version": "1.2.0",
            "_view_name": "StyleView",
            "description_width": ""
          }
        },
        "3410cc890130486eba31d1ffcad1f9eb": {
          "model_module": "@jupyter-widgets/controls",
          "model_name": "HBoxModel",
          "model_module_version": "1.5.0",
          "state": {
            "_dom_classes": [],
            "_model_module": "@jupyter-widgets/controls",
            "_model_module_version": "1.5.0",
            "_model_name": "HBoxModel",
            "_view_count": null,
            "_view_module": "@jupyter-widgets/controls",
            "_view_module_version": "1.5.0",
            "_view_name": "HBoxView",
            "box_style": "",
            "children": [
              "IPY_MODEL_456934df7c66454692af7dff615bf674",
              "IPY_MODEL_d858314841f74a20871d9c0a37608192",
              "IPY_MODEL_8985ed2f4b8a4f82a6b5647e9cf5b53a"
            ],
            "layout": "IPY_MODEL_e1c50c7186cc4c40a54efa8fff367df0"
          }
        },
        "456934df7c66454692af7dff615bf674": {
          "model_module": "@jupyter-widgets/controls",
          "model_name": "HTMLModel",
          "model_module_version": "1.5.0",
          "state": {
            "_dom_classes": [],
            "_model_module": "@jupyter-widgets/controls",
            "_model_module_version": "1.5.0",
            "_model_name": "HTMLModel",
            "_view_count": null,
            "_view_module": "@jupyter-widgets/controls",
            "_view_module_version": "1.5.0",
            "_view_name": "HTMLView",
            "description": "",
            "description_tooltip": null,
            "layout": "IPY_MODEL_c24fefb1ecb4439cacefcf3993114135",
            "placeholder": "​",
            "style": "IPY_MODEL_8fa2906701c242f195499d30174c4415",
            "value": "Generating train split: 100%"
          }
        },
        "d858314841f74a20871d9c0a37608192": {
          "model_module": "@jupyter-widgets/controls",
          "model_name": "FloatProgressModel",
          "model_module_version": "1.5.0",
          "state": {
            "_dom_classes": [],
            "_model_module": "@jupyter-widgets/controls",
            "_model_module_version": "1.5.0",
            "_model_name": "FloatProgressModel",
            "_view_count": null,
            "_view_module": "@jupyter-widgets/controls",
            "_view_module_version": "1.5.0",
            "_view_name": "ProgressView",
            "bar_style": "success",
            "description": "",
            "description_tooltip": null,
            "layout": "IPY_MODEL_642c6cc41b644dc68bd154822ac283bb",
            "max": 16000,
            "min": 0,
            "orientation": "horizontal",
            "style": "IPY_MODEL_a81cc71478fc4a508b7bdb67b9c8971d",
            "value": 16000
          }
        },
        "8985ed2f4b8a4f82a6b5647e9cf5b53a": {
          "model_module": "@jupyter-widgets/controls",
          "model_name": "HTMLModel",
          "model_module_version": "1.5.0",
          "state": {
            "_dom_classes": [],
            "_model_module": "@jupyter-widgets/controls",
            "_model_module_version": "1.5.0",
            "_model_name": "HTMLModel",
            "_view_count": null,
            "_view_module": "@jupyter-widgets/controls",
            "_view_module_version": "1.5.0",
            "_view_name": "HTMLView",
            "description": "",
            "description_tooltip": null,
            "layout": "IPY_MODEL_c39d3a6c3c244e98ab1a0d8932cd9c2b",
            "placeholder": "​",
            "style": "IPY_MODEL_f372906124484129aa1fb50fc5968891",
            "value": " 16000/16000 [00:00&lt;00:00, 19719.90 examples/s]"
          }
        },
        "e1c50c7186cc4c40a54efa8fff367df0": {
          "model_module": "@jupyter-widgets/base",
          "model_name": "LayoutModel",
          "model_module_version": "1.2.0",
          "state": {
            "_model_module": "@jupyter-widgets/base",
            "_model_module_version": "1.2.0",
            "_model_name": "LayoutModel",
            "_view_count": null,
            "_view_module": "@jupyter-widgets/base",
            "_view_module_version": "1.2.0",
            "_view_name": "LayoutView",
            "align_content": null,
            "align_items": null,
            "align_self": null,
            "border": null,
            "bottom": null,
            "display": null,
            "flex": null,
            "flex_flow": null,
            "grid_area": null,
            "grid_auto_columns": null,
            "grid_auto_flow": null,
            "grid_auto_rows": null,
            "grid_column": null,
            "grid_gap": null,
            "grid_row": null,
            "grid_template_areas": null,
            "grid_template_columns": null,
            "grid_template_rows": null,
            "height": null,
            "justify_content": null,
            "justify_items": null,
            "left": null,
            "margin": null,
            "max_height": null,
            "max_width": null,
            "min_height": null,
            "min_width": null,
            "object_fit": null,
            "object_position": null,
            "order": null,
            "overflow": null,
            "overflow_x": null,
            "overflow_y": null,
            "padding": null,
            "right": null,
            "top": null,
            "visibility": null,
            "width": null
          }
        },
        "c24fefb1ecb4439cacefcf3993114135": {
          "model_module": "@jupyter-widgets/base",
          "model_name": "LayoutModel",
          "model_module_version": "1.2.0",
          "state": {
            "_model_module": "@jupyter-widgets/base",
            "_model_module_version": "1.2.0",
            "_model_name": "LayoutModel",
            "_view_count": null,
            "_view_module": "@jupyter-widgets/base",
            "_view_module_version": "1.2.0",
            "_view_name": "LayoutView",
            "align_content": null,
            "align_items": null,
            "align_self": null,
            "border": null,
            "bottom": null,
            "display": null,
            "flex": null,
            "flex_flow": null,
            "grid_area": null,
            "grid_auto_columns": null,
            "grid_auto_flow": null,
            "grid_auto_rows": null,
            "grid_column": null,
            "grid_gap": null,
            "grid_row": null,
            "grid_template_areas": null,
            "grid_template_columns": null,
            "grid_template_rows": null,
            "height": null,
            "justify_content": null,
            "justify_items": null,
            "left": null,
            "margin": null,
            "max_height": null,
            "max_width": null,
            "min_height": null,
            "min_width": null,
            "object_fit": null,
            "object_position": null,
            "order": null,
            "overflow": null,
            "overflow_x": null,
            "overflow_y": null,
            "padding": null,
            "right": null,
            "top": null,
            "visibility": null,
            "width": null
          }
        },
        "8fa2906701c242f195499d30174c4415": {
          "model_module": "@jupyter-widgets/controls",
          "model_name": "DescriptionStyleModel",
          "model_module_version": "1.5.0",
          "state": {
            "_model_module": "@jupyter-widgets/controls",
            "_model_module_version": "1.5.0",
            "_model_name": "DescriptionStyleModel",
            "_view_count": null,
            "_view_module": "@jupyter-widgets/base",
            "_view_module_version": "1.2.0",
            "_view_name": "StyleView",
            "description_width": ""
          }
        },
        "642c6cc41b644dc68bd154822ac283bb": {
          "model_module": "@jupyter-widgets/base",
          "model_name": "LayoutModel",
          "model_module_version": "1.2.0",
          "state": {
            "_model_module": "@jupyter-widgets/base",
            "_model_module_version": "1.2.0",
            "_model_name": "LayoutModel",
            "_view_count": null,
            "_view_module": "@jupyter-widgets/base",
            "_view_module_version": "1.2.0",
            "_view_name": "LayoutView",
            "align_content": null,
            "align_items": null,
            "align_self": null,
            "border": null,
            "bottom": null,
            "display": null,
            "flex": null,
            "flex_flow": null,
            "grid_area": null,
            "grid_auto_columns": null,
            "grid_auto_flow": null,
            "grid_auto_rows": null,
            "grid_column": null,
            "grid_gap": null,
            "grid_row": null,
            "grid_template_areas": null,
            "grid_template_columns": null,
            "grid_template_rows": null,
            "height": null,
            "justify_content": null,
            "justify_items": null,
            "left": null,
            "margin": null,
            "max_height": null,
            "max_width": null,
            "min_height": null,
            "min_width": null,
            "object_fit": null,
            "object_position": null,
            "order": null,
            "overflow": null,
            "overflow_x": null,
            "overflow_y": null,
            "padding": null,
            "right": null,
            "top": null,
            "visibility": null,
            "width": null
          }
        },
        "a81cc71478fc4a508b7bdb67b9c8971d": {
          "model_module": "@jupyter-widgets/controls",
          "model_name": "ProgressStyleModel",
          "model_module_version": "1.5.0",
          "state": {
            "_model_module": "@jupyter-widgets/controls",
            "_model_module_version": "1.5.0",
            "_model_name": "ProgressStyleModel",
            "_view_count": null,
            "_view_module": "@jupyter-widgets/base",
            "_view_module_version": "1.2.0",
            "_view_name": "StyleView",
            "bar_color": null,
            "description_width": ""
          }
        },
        "c39d3a6c3c244e98ab1a0d8932cd9c2b": {
          "model_module": "@jupyter-widgets/base",
          "model_name": "LayoutModel",
          "model_module_version": "1.2.0",
          "state": {
            "_model_module": "@jupyter-widgets/base",
            "_model_module_version": "1.2.0",
            "_model_name": "LayoutModel",
            "_view_count": null,
            "_view_module": "@jupyter-widgets/base",
            "_view_module_version": "1.2.0",
            "_view_name": "LayoutView",
            "align_content": null,
            "align_items": null,
            "align_self": null,
            "border": null,
            "bottom": null,
            "display": null,
            "flex": null,
            "flex_flow": null,
            "grid_area": null,
            "grid_auto_columns": null,
            "grid_auto_flow": null,
            "grid_auto_rows": null,
            "grid_column": null,
            "grid_gap": null,
            "grid_row": null,
            "grid_template_areas": null,
            "grid_template_columns": null,
            "grid_template_rows": null,
            "height": null,
            "justify_content": null,
            "justify_items": null,
            "left": null,
            "margin": null,
            "max_height": null,
            "max_width": null,
            "min_height": null,
            "min_width": null,
            "object_fit": null,
            "object_position": null,
            "order": null,
            "overflow": null,
            "overflow_x": null,
            "overflow_y": null,
            "padding": null,
            "right": null,
            "top": null,
            "visibility": null,
            "width": null
          }
        },
        "f372906124484129aa1fb50fc5968891": {
          "model_module": "@jupyter-widgets/controls",
          "model_name": "DescriptionStyleModel",
          "model_module_version": "1.5.0",
          "state": {
            "_model_module": "@jupyter-widgets/controls",
            "_model_module_version": "1.5.0",
            "_model_name": "DescriptionStyleModel",
            "_view_count": null,
            "_view_module": "@jupyter-widgets/base",
            "_view_module_version": "1.2.0",
            "_view_name": "StyleView",
            "description_width": ""
          }
        },
        "ce6b024e75f84c8cab761f027ce17717": {
          "model_module": "@jupyter-widgets/controls",
          "model_name": "HBoxModel",
          "model_module_version": "1.5.0",
          "state": {
            "_dom_classes": [],
            "_model_module": "@jupyter-widgets/controls",
            "_model_module_version": "1.5.0",
            "_model_name": "HBoxModel",
            "_view_count": null,
            "_view_module": "@jupyter-widgets/controls",
            "_view_module_version": "1.5.0",
            "_view_name": "HBoxView",
            "box_style": "",
            "children": [
              "IPY_MODEL_013da17dc5bf4c428fa4dc5320888de0",
              "IPY_MODEL_d6251de02930491d9d1f9e5f970103d7",
              "IPY_MODEL_e4fcfc0ba07a4fbd89b2dfaaa82df648"
            ],
            "layout": "IPY_MODEL_29571fbe0d624e608aa46150faaeb887"
          }
        },
        "013da17dc5bf4c428fa4dc5320888de0": {
          "model_module": "@jupyter-widgets/controls",
          "model_name": "HTMLModel",
          "model_module_version": "1.5.0",
          "state": {
            "_dom_classes": [],
            "_model_module": "@jupyter-widgets/controls",
            "_model_module_version": "1.5.0",
            "_model_name": "HTMLModel",
            "_view_count": null,
            "_view_module": "@jupyter-widgets/controls",
            "_view_module_version": "1.5.0",
            "_view_name": "HTMLView",
            "description": "",
            "description_tooltip": null,
            "layout": "IPY_MODEL_a990f63cbd1e48449b27216ee426d2e3",
            "placeholder": "​",
            "style": "IPY_MODEL_41f888157f1648c688a45220b7ed192c",
            "value": "Generating validation split: 100%"
          }
        },
        "d6251de02930491d9d1f9e5f970103d7": {
          "model_module": "@jupyter-widgets/controls",
          "model_name": "FloatProgressModel",
          "model_module_version": "1.5.0",
          "state": {
            "_dom_classes": [],
            "_model_module": "@jupyter-widgets/controls",
            "_model_module_version": "1.5.0",
            "_model_name": "FloatProgressModel",
            "_view_count": null,
            "_view_module": "@jupyter-widgets/controls",
            "_view_module_version": "1.5.0",
            "_view_name": "ProgressView",
            "bar_style": "success",
            "description": "",
            "description_tooltip": null,
            "layout": "IPY_MODEL_be9cf3a7ec5f490e81f5ad1f6e4892f1",
            "max": 2000,
            "min": 0,
            "orientation": "horizontal",
            "style": "IPY_MODEL_3f4a7e4cd7ef4b70894ffab51fe24354",
            "value": 2000
          }
        },
        "e4fcfc0ba07a4fbd89b2dfaaa82df648": {
          "model_module": "@jupyter-widgets/controls",
          "model_name": "HTMLModel",
          "model_module_version": "1.5.0",
          "state": {
            "_dom_classes": [],
            "_model_module": "@jupyter-widgets/controls",
            "_model_module_version": "1.5.0",
            "_model_name": "HTMLModel",
            "_view_count": null,
            "_view_module": "@jupyter-widgets/controls",
            "_view_module_version": "1.5.0",
            "_view_name": "HTMLView",
            "description": "",
            "description_tooltip": null,
            "layout": "IPY_MODEL_0ea2598ff0344b81994868eddcf71117",
            "placeholder": "​",
            "style": "IPY_MODEL_b8ef44243a9147e38dabbe9feeaa29b9",
            "value": " 2000/2000 [00:00&lt;00:00, 14450.24 examples/s]"
          }
        },
        "29571fbe0d624e608aa46150faaeb887": {
          "model_module": "@jupyter-widgets/base",
          "model_name": "LayoutModel",
          "model_module_version": "1.2.0",
          "state": {
            "_model_module": "@jupyter-widgets/base",
            "_model_module_version": "1.2.0",
            "_model_name": "LayoutModel",
            "_view_count": null,
            "_view_module": "@jupyter-widgets/base",
            "_view_module_version": "1.2.0",
            "_view_name": "LayoutView",
            "align_content": null,
            "align_items": null,
            "align_self": null,
            "border": null,
            "bottom": null,
            "display": null,
            "flex": null,
            "flex_flow": null,
            "grid_area": null,
            "grid_auto_columns": null,
            "grid_auto_flow": null,
            "grid_auto_rows": null,
            "grid_column": null,
            "grid_gap": null,
            "grid_row": null,
            "grid_template_areas": null,
            "grid_template_columns": null,
            "grid_template_rows": null,
            "height": null,
            "justify_content": null,
            "justify_items": null,
            "left": null,
            "margin": null,
            "max_height": null,
            "max_width": null,
            "min_height": null,
            "min_width": null,
            "object_fit": null,
            "object_position": null,
            "order": null,
            "overflow": null,
            "overflow_x": null,
            "overflow_y": null,
            "padding": null,
            "right": null,
            "top": null,
            "visibility": null,
            "width": null
          }
        },
        "a990f63cbd1e48449b27216ee426d2e3": {
          "model_module": "@jupyter-widgets/base",
          "model_name": "LayoutModel",
          "model_module_version": "1.2.0",
          "state": {
            "_model_module": "@jupyter-widgets/base",
            "_model_module_version": "1.2.0",
            "_model_name": "LayoutModel",
            "_view_count": null,
            "_view_module": "@jupyter-widgets/base",
            "_view_module_version": "1.2.0",
            "_view_name": "LayoutView",
            "align_content": null,
            "align_items": null,
            "align_self": null,
            "border": null,
            "bottom": null,
            "display": null,
            "flex": null,
            "flex_flow": null,
            "grid_area": null,
            "grid_auto_columns": null,
            "grid_auto_flow": null,
            "grid_auto_rows": null,
            "grid_column": null,
            "grid_gap": null,
            "grid_row": null,
            "grid_template_areas": null,
            "grid_template_columns": null,
            "grid_template_rows": null,
            "height": null,
            "justify_content": null,
            "justify_items": null,
            "left": null,
            "margin": null,
            "max_height": null,
            "max_width": null,
            "min_height": null,
            "min_width": null,
            "object_fit": null,
            "object_position": null,
            "order": null,
            "overflow": null,
            "overflow_x": null,
            "overflow_y": null,
            "padding": null,
            "right": null,
            "top": null,
            "visibility": null,
            "width": null
          }
        },
        "41f888157f1648c688a45220b7ed192c": {
          "model_module": "@jupyter-widgets/controls",
          "model_name": "DescriptionStyleModel",
          "model_module_version": "1.5.0",
          "state": {
            "_model_module": "@jupyter-widgets/controls",
            "_model_module_version": "1.5.0",
            "_model_name": "DescriptionStyleModel",
            "_view_count": null,
            "_view_module": "@jupyter-widgets/base",
            "_view_module_version": "1.2.0",
            "_view_name": "StyleView",
            "description_width": ""
          }
        },
        "be9cf3a7ec5f490e81f5ad1f6e4892f1": {
          "model_module": "@jupyter-widgets/base",
          "model_name": "LayoutModel",
          "model_module_version": "1.2.0",
          "state": {
            "_model_module": "@jupyter-widgets/base",
            "_model_module_version": "1.2.0",
            "_model_name": "LayoutModel",
            "_view_count": null,
            "_view_module": "@jupyter-widgets/base",
            "_view_module_version": "1.2.0",
            "_view_name": "LayoutView",
            "align_content": null,
            "align_items": null,
            "align_self": null,
            "border": null,
            "bottom": null,
            "display": null,
            "flex": null,
            "flex_flow": null,
            "grid_area": null,
            "grid_auto_columns": null,
            "grid_auto_flow": null,
            "grid_auto_rows": null,
            "grid_column": null,
            "grid_gap": null,
            "grid_row": null,
            "grid_template_areas": null,
            "grid_template_columns": null,
            "grid_template_rows": null,
            "height": null,
            "justify_content": null,
            "justify_items": null,
            "left": null,
            "margin": null,
            "max_height": null,
            "max_width": null,
            "min_height": null,
            "min_width": null,
            "object_fit": null,
            "object_position": null,
            "order": null,
            "overflow": null,
            "overflow_x": null,
            "overflow_y": null,
            "padding": null,
            "right": null,
            "top": null,
            "visibility": null,
            "width": null
          }
        },
        "3f4a7e4cd7ef4b70894ffab51fe24354": {
          "model_module": "@jupyter-widgets/controls",
          "model_name": "ProgressStyleModel",
          "model_module_version": "1.5.0",
          "state": {
            "_model_module": "@jupyter-widgets/controls",
            "_model_module_version": "1.5.0",
            "_model_name": "ProgressStyleModel",
            "_view_count": null,
            "_view_module": "@jupyter-widgets/base",
            "_view_module_version": "1.2.0",
            "_view_name": "StyleView",
            "bar_color": null,
            "description_width": ""
          }
        },
        "0ea2598ff0344b81994868eddcf71117": {
          "model_module": "@jupyter-widgets/base",
          "model_name": "LayoutModel",
          "model_module_version": "1.2.0",
          "state": {
            "_model_module": "@jupyter-widgets/base",
            "_model_module_version": "1.2.0",
            "_model_name": "LayoutModel",
            "_view_count": null,
            "_view_module": "@jupyter-widgets/base",
            "_view_module_version": "1.2.0",
            "_view_name": "LayoutView",
            "align_content": null,
            "align_items": null,
            "align_self": null,
            "border": null,
            "bottom": null,
            "display": null,
            "flex": null,
            "flex_flow": null,
            "grid_area": null,
            "grid_auto_columns": null,
            "grid_auto_flow": null,
            "grid_auto_rows": null,
            "grid_column": null,
            "grid_gap": null,
            "grid_row": null,
            "grid_template_areas": null,
            "grid_template_columns": null,
            "grid_template_rows": null,
            "height": null,
            "justify_content": null,
            "justify_items": null,
            "left": null,
            "margin": null,
            "max_height": null,
            "max_width": null,
            "min_height": null,
            "min_width": null,
            "object_fit": null,
            "object_position": null,
            "order": null,
            "overflow": null,
            "overflow_x": null,
            "overflow_y": null,
            "padding": null,
            "right": null,
            "top": null,
            "visibility": null,
            "width": null
          }
        },
        "b8ef44243a9147e38dabbe9feeaa29b9": {
          "model_module": "@jupyter-widgets/controls",
          "model_name": "DescriptionStyleModel",
          "model_module_version": "1.5.0",
          "state": {
            "_model_module": "@jupyter-widgets/controls",
            "_model_module_version": "1.5.0",
            "_model_name": "DescriptionStyleModel",
            "_view_count": null,
            "_view_module": "@jupyter-widgets/base",
            "_view_module_version": "1.2.0",
            "_view_name": "StyleView",
            "description_width": ""
          }
        },
        "b4556346b64646bda239e6f919f26a40": {
          "model_module": "@jupyter-widgets/controls",
          "model_name": "HBoxModel",
          "model_module_version": "1.5.0",
          "state": {
            "_dom_classes": [],
            "_model_module": "@jupyter-widgets/controls",
            "_model_module_version": "1.5.0",
            "_model_name": "HBoxModel",
            "_view_count": null,
            "_view_module": "@jupyter-widgets/controls",
            "_view_module_version": "1.5.0",
            "_view_name": "HBoxView",
            "box_style": "",
            "children": [
              "IPY_MODEL_302a1d7aef474e4ea65527f032b24a79",
              "IPY_MODEL_99c9169a4b8142fd92c376d778154806",
              "IPY_MODEL_649bf017908048988f5ae310672cb66a"
            ],
            "layout": "IPY_MODEL_99bdfd41fa474d81895019db231066e0"
          }
        },
        "302a1d7aef474e4ea65527f032b24a79": {
          "model_module": "@jupyter-widgets/controls",
          "model_name": "HTMLModel",
          "model_module_version": "1.5.0",
          "state": {
            "_dom_classes": [],
            "_model_module": "@jupyter-widgets/controls",
            "_model_module_version": "1.5.0",
            "_model_name": "HTMLModel",
            "_view_count": null,
            "_view_module": "@jupyter-widgets/controls",
            "_view_module_version": "1.5.0",
            "_view_name": "HTMLView",
            "description": "",
            "description_tooltip": null,
            "layout": "IPY_MODEL_d0851ca6c7b5496cbd1a2572a961d268",
            "placeholder": "​",
            "style": "IPY_MODEL_aa0619dc72484353b070d29b50eea376",
            "value": "Generating test split: 100%"
          }
        },
        "99c9169a4b8142fd92c376d778154806": {
          "model_module": "@jupyter-widgets/controls",
          "model_name": "FloatProgressModel",
          "model_module_version": "1.5.0",
          "state": {
            "_dom_classes": [],
            "_model_module": "@jupyter-widgets/controls",
            "_model_module_version": "1.5.0",
            "_model_name": "FloatProgressModel",
            "_view_count": null,
            "_view_module": "@jupyter-widgets/controls",
            "_view_module_version": "1.5.0",
            "_view_name": "ProgressView",
            "bar_style": "success",
            "description": "",
            "description_tooltip": null,
            "layout": "IPY_MODEL_2383c55112db480e9c113f3f8bdb6675",
            "max": 2000,
            "min": 0,
            "orientation": "horizontal",
            "style": "IPY_MODEL_fe3b1385371942f9a1cb7246bff2dbd4",
            "value": 2000
          }
        },
        "649bf017908048988f5ae310672cb66a": {
          "model_module": "@jupyter-widgets/controls",
          "model_name": "HTMLModel",
          "model_module_version": "1.5.0",
          "state": {
            "_dom_classes": [],
            "_model_module": "@jupyter-widgets/controls",
            "_model_module_version": "1.5.0",
            "_model_name": "HTMLModel",
            "_view_count": null,
            "_view_module": "@jupyter-widgets/controls",
            "_view_module_version": "1.5.0",
            "_view_name": "HTMLView",
            "description": "",
            "description_tooltip": null,
            "layout": "IPY_MODEL_a0801dc1d5a442839db07e1841d24414",
            "placeholder": "​",
            "style": "IPY_MODEL_f0ea89ffa45743f488737c2dd196b2c2",
            "value": " 2000/2000 [00:00&lt;00:00, 12088.31 examples/s]"
          }
        },
        "99bdfd41fa474d81895019db231066e0": {
          "model_module": "@jupyter-widgets/base",
          "model_name": "LayoutModel",
          "model_module_version": "1.2.0",
          "state": {
            "_model_module": "@jupyter-widgets/base",
            "_model_module_version": "1.2.0",
            "_model_name": "LayoutModel",
            "_view_count": null,
            "_view_module": "@jupyter-widgets/base",
            "_view_module_version": "1.2.0",
            "_view_name": "LayoutView",
            "align_content": null,
            "align_items": null,
            "align_self": null,
            "border": null,
            "bottom": null,
            "display": null,
            "flex": null,
            "flex_flow": null,
            "grid_area": null,
            "grid_auto_columns": null,
            "grid_auto_flow": null,
            "grid_auto_rows": null,
            "grid_column": null,
            "grid_gap": null,
            "grid_row": null,
            "grid_template_areas": null,
            "grid_template_columns": null,
            "grid_template_rows": null,
            "height": null,
            "justify_content": null,
            "justify_items": null,
            "left": null,
            "margin": null,
            "max_height": null,
            "max_width": null,
            "min_height": null,
            "min_width": null,
            "object_fit": null,
            "object_position": null,
            "order": null,
            "overflow": null,
            "overflow_x": null,
            "overflow_y": null,
            "padding": null,
            "right": null,
            "top": null,
            "visibility": null,
            "width": null
          }
        },
        "d0851ca6c7b5496cbd1a2572a961d268": {
          "model_module": "@jupyter-widgets/base",
          "model_name": "LayoutModel",
          "model_module_version": "1.2.0",
          "state": {
            "_model_module": "@jupyter-widgets/base",
            "_model_module_version": "1.2.0",
            "_model_name": "LayoutModel",
            "_view_count": null,
            "_view_module": "@jupyter-widgets/base",
            "_view_module_version": "1.2.0",
            "_view_name": "LayoutView",
            "align_content": null,
            "align_items": null,
            "align_self": null,
            "border": null,
            "bottom": null,
            "display": null,
            "flex": null,
            "flex_flow": null,
            "grid_area": null,
            "grid_auto_columns": null,
            "grid_auto_flow": null,
            "grid_auto_rows": null,
            "grid_column": null,
            "grid_gap": null,
            "grid_row": null,
            "grid_template_areas": null,
            "grid_template_columns": null,
            "grid_template_rows": null,
            "height": null,
            "justify_content": null,
            "justify_items": null,
            "left": null,
            "margin": null,
            "max_height": null,
            "max_width": null,
            "min_height": null,
            "min_width": null,
            "object_fit": null,
            "object_position": null,
            "order": null,
            "overflow": null,
            "overflow_x": null,
            "overflow_y": null,
            "padding": null,
            "right": null,
            "top": null,
            "visibility": null,
            "width": null
          }
        },
        "aa0619dc72484353b070d29b50eea376": {
          "model_module": "@jupyter-widgets/controls",
          "model_name": "DescriptionStyleModel",
          "model_module_version": "1.5.0",
          "state": {
            "_model_module": "@jupyter-widgets/controls",
            "_model_module_version": "1.5.0",
            "_model_name": "DescriptionStyleModel",
            "_view_count": null,
            "_view_module": "@jupyter-widgets/base",
            "_view_module_version": "1.2.0",
            "_view_name": "StyleView",
            "description_width": ""
          }
        },
        "2383c55112db480e9c113f3f8bdb6675": {
          "model_module": "@jupyter-widgets/base",
          "model_name": "LayoutModel",
          "model_module_version": "1.2.0",
          "state": {
            "_model_module": "@jupyter-widgets/base",
            "_model_module_version": "1.2.0",
            "_model_name": "LayoutModel",
            "_view_count": null,
            "_view_module": "@jupyter-widgets/base",
            "_view_module_version": "1.2.0",
            "_view_name": "LayoutView",
            "align_content": null,
            "align_items": null,
            "align_self": null,
            "border": null,
            "bottom": null,
            "display": null,
            "flex": null,
            "flex_flow": null,
            "grid_area": null,
            "grid_auto_columns": null,
            "grid_auto_flow": null,
            "grid_auto_rows": null,
            "grid_column": null,
            "grid_gap": null,
            "grid_row": null,
            "grid_template_areas": null,
            "grid_template_columns": null,
            "grid_template_rows": null,
            "height": null,
            "justify_content": null,
            "justify_items": null,
            "left": null,
            "margin": null,
            "max_height": null,
            "max_width": null,
            "min_height": null,
            "min_width": null,
            "object_fit": null,
            "object_position": null,
            "order": null,
            "overflow": null,
            "overflow_x": null,
            "overflow_y": null,
            "padding": null,
            "right": null,
            "top": null,
            "visibility": null,
            "width": null
          }
        },
        "fe3b1385371942f9a1cb7246bff2dbd4": {
          "model_module": "@jupyter-widgets/controls",
          "model_name": "ProgressStyleModel",
          "model_module_version": "1.5.0",
          "state": {
            "_model_module": "@jupyter-widgets/controls",
            "_model_module_version": "1.5.0",
            "_model_name": "ProgressStyleModel",
            "_view_count": null,
            "_view_module": "@jupyter-widgets/base",
            "_view_module_version": "1.2.0",
            "_view_name": "StyleView",
            "bar_color": null,
            "description_width": ""
          }
        },
        "a0801dc1d5a442839db07e1841d24414": {
          "model_module": "@jupyter-widgets/base",
          "model_name": "LayoutModel",
          "model_module_version": "1.2.0",
          "state": {
            "_model_module": "@jupyter-widgets/base",
            "_model_module_version": "1.2.0",
            "_model_name": "LayoutModel",
            "_view_count": null,
            "_view_module": "@jupyter-widgets/base",
            "_view_module_version": "1.2.0",
            "_view_name": "LayoutView",
            "align_content": null,
            "align_items": null,
            "align_self": null,
            "border": null,
            "bottom": null,
            "display": null,
            "flex": null,
            "flex_flow": null,
            "grid_area": null,
            "grid_auto_columns": null,
            "grid_auto_flow": null,
            "grid_auto_rows": null,
            "grid_column": null,
            "grid_gap": null,
            "grid_row": null,
            "grid_template_areas": null,
            "grid_template_columns": null,
            "grid_template_rows": null,
            "height": null,
            "justify_content": null,
            "justify_items": null,
            "left": null,
            "margin": null,
            "max_height": null,
            "max_width": null,
            "min_height": null,
            "min_width": null,
            "object_fit": null,
            "object_position": null,
            "order": null,
            "overflow": null,
            "overflow_x": null,
            "overflow_y": null,
            "padding": null,
            "right": null,
            "top": null,
            "visibility": null,
            "width": null
          }
        },
        "f0ea89ffa45743f488737c2dd196b2c2": {
          "model_module": "@jupyter-widgets/controls",
          "model_name": "DescriptionStyleModel",
          "model_module_version": "1.5.0",
          "state": {
            "_model_module": "@jupyter-widgets/controls",
            "_model_module_version": "1.5.0",
            "_model_name": "DescriptionStyleModel",
            "_view_count": null,
            "_view_module": "@jupyter-widgets/base",
            "_view_module_version": "1.2.0",
            "_view_name": "StyleView",
            "description_width": ""
          }
        },
        "8a7921d7fa4e4b5f80384630d0b912c6": {
          "model_module": "@jupyter-widgets/controls",
          "model_name": "HBoxModel",
          "model_module_version": "1.5.0",
          "state": {
            "_dom_classes": [],
            "_model_module": "@jupyter-widgets/controls",
            "_model_module_version": "1.5.0",
            "_model_name": "HBoxModel",
            "_view_count": null,
            "_view_module": "@jupyter-widgets/controls",
            "_view_module_version": "1.5.0",
            "_view_name": "HBoxView",
            "box_style": "",
            "children": [
              "IPY_MODEL_efd9f66fbd0b4c0ca65cc744857e2ffe",
              "IPY_MODEL_cf137d77371b4da49e337234025f2c0d",
              "IPY_MODEL_ea7b9712bedb4515adea50f61effadf2"
            ],
            "layout": "IPY_MODEL_c669ec72fb0944fbace559c78e6bdea3"
          }
        },
        "efd9f66fbd0b4c0ca65cc744857e2ffe": {
          "model_module": "@jupyter-widgets/controls",
          "model_name": "HTMLModel",
          "model_module_version": "1.5.0",
          "state": {
            "_dom_classes": [],
            "_model_module": "@jupyter-widgets/controls",
            "_model_module_version": "1.5.0",
            "_model_name": "HTMLModel",
            "_view_count": null,
            "_view_module": "@jupyter-widgets/controls",
            "_view_module_version": "1.5.0",
            "_view_name": "HTMLView",
            "description": "",
            "description_tooltip": null,
            "layout": "IPY_MODEL_0fbb2e7a7c594d84932b95286e9374fe",
            "placeholder": "​",
            "style": "IPY_MODEL_e419c90b209a4d71b069f2b646812f4a",
            "value": "Map: 100%"
          }
        },
        "cf137d77371b4da49e337234025f2c0d": {
          "model_module": "@jupyter-widgets/controls",
          "model_name": "FloatProgressModel",
          "model_module_version": "1.5.0",
          "state": {
            "_dom_classes": [],
            "_model_module": "@jupyter-widgets/controls",
            "_model_module_version": "1.5.0",
            "_model_name": "FloatProgressModel",
            "_view_count": null,
            "_view_module": "@jupyter-widgets/controls",
            "_view_module_version": "1.5.0",
            "_view_name": "ProgressView",
            "bar_style": "success",
            "description": "",
            "description_tooltip": null,
            "layout": "IPY_MODEL_ac32197673cb409890e47a7a7f1dc207",
            "max": 16000,
            "min": 0,
            "orientation": "horizontal",
            "style": "IPY_MODEL_535faffb10d647bd93612942dba456e1",
            "value": 16000
          }
        },
        "ea7b9712bedb4515adea50f61effadf2": {
          "model_module": "@jupyter-widgets/controls",
          "model_name": "HTMLModel",
          "model_module_version": "1.5.0",
          "state": {
            "_dom_classes": [],
            "_model_module": "@jupyter-widgets/controls",
            "_model_module_version": "1.5.0",
            "_model_name": "HTMLModel",
            "_view_count": null,
            "_view_module": "@jupyter-widgets/controls",
            "_view_module_version": "1.5.0",
            "_view_name": "HTMLView",
            "description": "",
            "description_tooltip": null,
            "layout": "IPY_MODEL_bf88ce43f228496c9993b798ca236218",
            "placeholder": "​",
            "style": "IPY_MODEL_28f41addc377454c8f568c9ca290cb59",
            "value": " 16000/16000 [00:03&lt;00:00, 4244.20 examples/s]"
          }
        },
        "c669ec72fb0944fbace559c78e6bdea3": {
          "model_module": "@jupyter-widgets/base",
          "model_name": "LayoutModel",
          "model_module_version": "1.2.0",
          "state": {
            "_model_module": "@jupyter-widgets/base",
            "_model_module_version": "1.2.0",
            "_model_name": "LayoutModel",
            "_view_count": null,
            "_view_module": "@jupyter-widgets/base",
            "_view_module_version": "1.2.0",
            "_view_name": "LayoutView",
            "align_content": null,
            "align_items": null,
            "align_self": null,
            "border": null,
            "bottom": null,
            "display": null,
            "flex": null,
            "flex_flow": null,
            "grid_area": null,
            "grid_auto_columns": null,
            "grid_auto_flow": null,
            "grid_auto_rows": null,
            "grid_column": null,
            "grid_gap": null,
            "grid_row": null,
            "grid_template_areas": null,
            "grid_template_columns": null,
            "grid_template_rows": null,
            "height": null,
            "justify_content": null,
            "justify_items": null,
            "left": null,
            "margin": null,
            "max_height": null,
            "max_width": null,
            "min_height": null,
            "min_width": null,
            "object_fit": null,
            "object_position": null,
            "order": null,
            "overflow": null,
            "overflow_x": null,
            "overflow_y": null,
            "padding": null,
            "right": null,
            "top": null,
            "visibility": null,
            "width": null
          }
        },
        "0fbb2e7a7c594d84932b95286e9374fe": {
          "model_module": "@jupyter-widgets/base",
          "model_name": "LayoutModel",
          "model_module_version": "1.2.0",
          "state": {
            "_model_module": "@jupyter-widgets/base",
            "_model_module_version": "1.2.0",
            "_model_name": "LayoutModel",
            "_view_count": null,
            "_view_module": "@jupyter-widgets/base",
            "_view_module_version": "1.2.0",
            "_view_name": "LayoutView",
            "align_content": null,
            "align_items": null,
            "align_self": null,
            "border": null,
            "bottom": null,
            "display": null,
            "flex": null,
            "flex_flow": null,
            "grid_area": null,
            "grid_auto_columns": null,
            "grid_auto_flow": null,
            "grid_auto_rows": null,
            "grid_column": null,
            "grid_gap": null,
            "grid_row": null,
            "grid_template_areas": null,
            "grid_template_columns": null,
            "grid_template_rows": null,
            "height": null,
            "justify_content": null,
            "justify_items": null,
            "left": null,
            "margin": null,
            "max_height": null,
            "max_width": null,
            "min_height": null,
            "min_width": null,
            "object_fit": null,
            "object_position": null,
            "order": null,
            "overflow": null,
            "overflow_x": null,
            "overflow_y": null,
            "padding": null,
            "right": null,
            "top": null,
            "visibility": null,
            "width": null
          }
        },
        "e419c90b209a4d71b069f2b646812f4a": {
          "model_module": "@jupyter-widgets/controls",
          "model_name": "DescriptionStyleModel",
          "model_module_version": "1.5.0",
          "state": {
            "_model_module": "@jupyter-widgets/controls",
            "_model_module_version": "1.5.0",
            "_model_name": "DescriptionStyleModel",
            "_view_count": null,
            "_view_module": "@jupyter-widgets/base",
            "_view_module_version": "1.2.0",
            "_view_name": "StyleView",
            "description_width": ""
          }
        },
        "ac32197673cb409890e47a7a7f1dc207": {
          "model_module": "@jupyter-widgets/base",
          "model_name": "LayoutModel",
          "model_module_version": "1.2.0",
          "state": {
            "_model_module": "@jupyter-widgets/base",
            "_model_module_version": "1.2.0",
            "_model_name": "LayoutModel",
            "_view_count": null,
            "_view_module": "@jupyter-widgets/base",
            "_view_module_version": "1.2.0",
            "_view_name": "LayoutView",
            "align_content": null,
            "align_items": null,
            "align_self": null,
            "border": null,
            "bottom": null,
            "display": null,
            "flex": null,
            "flex_flow": null,
            "grid_area": null,
            "grid_auto_columns": null,
            "grid_auto_flow": null,
            "grid_auto_rows": null,
            "grid_column": null,
            "grid_gap": null,
            "grid_row": null,
            "grid_template_areas": null,
            "grid_template_columns": null,
            "grid_template_rows": null,
            "height": null,
            "justify_content": null,
            "justify_items": null,
            "left": null,
            "margin": null,
            "max_height": null,
            "max_width": null,
            "min_height": null,
            "min_width": null,
            "object_fit": null,
            "object_position": null,
            "order": null,
            "overflow": null,
            "overflow_x": null,
            "overflow_y": null,
            "padding": null,
            "right": null,
            "top": null,
            "visibility": null,
            "width": null
          }
        },
        "535faffb10d647bd93612942dba456e1": {
          "model_module": "@jupyter-widgets/controls",
          "model_name": "ProgressStyleModel",
          "model_module_version": "1.5.0",
          "state": {
            "_model_module": "@jupyter-widgets/controls",
            "_model_module_version": "1.5.0",
            "_model_name": "ProgressStyleModel",
            "_view_count": null,
            "_view_module": "@jupyter-widgets/base",
            "_view_module_version": "1.2.0",
            "_view_name": "StyleView",
            "bar_color": null,
            "description_width": ""
          }
        },
        "bf88ce43f228496c9993b798ca236218": {
          "model_module": "@jupyter-widgets/base",
          "model_name": "LayoutModel",
          "model_module_version": "1.2.0",
          "state": {
            "_model_module": "@jupyter-widgets/base",
            "_model_module_version": "1.2.0",
            "_model_name": "LayoutModel",
            "_view_count": null,
            "_view_module": "@jupyter-widgets/base",
            "_view_module_version": "1.2.0",
            "_view_name": "LayoutView",
            "align_content": null,
            "align_items": null,
            "align_self": null,
            "border": null,
            "bottom": null,
            "display": null,
            "flex": null,
            "flex_flow": null,
            "grid_area": null,
            "grid_auto_columns": null,
            "grid_auto_flow": null,
            "grid_auto_rows": null,
            "grid_column": null,
            "grid_gap": null,
            "grid_row": null,
            "grid_template_areas": null,
            "grid_template_columns": null,
            "grid_template_rows": null,
            "height": null,
            "justify_content": null,
            "justify_items": null,
            "left": null,
            "margin": null,
            "max_height": null,
            "max_width": null,
            "min_height": null,
            "min_width": null,
            "object_fit": null,
            "object_position": null,
            "order": null,
            "overflow": null,
            "overflow_x": null,
            "overflow_y": null,
            "padding": null,
            "right": null,
            "top": null,
            "visibility": null,
            "width": null
          }
        },
        "28f41addc377454c8f568c9ca290cb59": {
          "model_module": "@jupyter-widgets/controls",
          "model_name": "DescriptionStyleModel",
          "model_module_version": "1.5.0",
          "state": {
            "_model_module": "@jupyter-widgets/controls",
            "_model_module_version": "1.5.0",
            "_model_name": "DescriptionStyleModel",
            "_view_count": null,
            "_view_module": "@jupyter-widgets/base",
            "_view_module_version": "1.2.0",
            "_view_name": "StyleView",
            "description_width": ""
          }
        },
        "85c658af8a344e4fafc833cba356b917": {
          "model_module": "@jupyter-widgets/controls",
          "model_name": "HBoxModel",
          "model_module_version": "1.5.0",
          "state": {
            "_dom_classes": [],
            "_model_module": "@jupyter-widgets/controls",
            "_model_module_version": "1.5.0",
            "_model_name": "HBoxModel",
            "_view_count": null,
            "_view_module": "@jupyter-widgets/controls",
            "_view_module_version": "1.5.0",
            "_view_name": "HBoxView",
            "box_style": "",
            "children": [
              "IPY_MODEL_758f81693c9648d08d9ecdefa976473f",
              "IPY_MODEL_74a86ca1260048708a7c23da9d2839a7",
              "IPY_MODEL_49deb221941a425f899515eab2d54b1d"
            ],
            "layout": "IPY_MODEL_1344f969bc5f474f9aab0f734729350b"
          }
        },
        "758f81693c9648d08d9ecdefa976473f": {
          "model_module": "@jupyter-widgets/controls",
          "model_name": "HTMLModel",
          "model_module_version": "1.5.0",
          "state": {
            "_dom_classes": [],
            "_model_module": "@jupyter-widgets/controls",
            "_model_module_version": "1.5.0",
            "_model_name": "HTMLModel",
            "_view_count": null,
            "_view_module": "@jupyter-widgets/controls",
            "_view_module_version": "1.5.0",
            "_view_name": "HTMLView",
            "description": "",
            "description_tooltip": null,
            "layout": "IPY_MODEL_d10d934f6af84943908abc3b19d2118c",
            "placeholder": "​",
            "style": "IPY_MODEL_f206b8e960064537bb9a15875fe102ab",
            "value": "Map: 100%"
          }
        },
        "74a86ca1260048708a7c23da9d2839a7": {
          "model_module": "@jupyter-widgets/controls",
          "model_name": "FloatProgressModel",
          "model_module_version": "1.5.0",
          "state": {
            "_dom_classes": [],
            "_model_module": "@jupyter-widgets/controls",
            "_model_module_version": "1.5.0",
            "_model_name": "FloatProgressModel",
            "_view_count": null,
            "_view_module": "@jupyter-widgets/controls",
            "_view_module_version": "1.5.0",
            "_view_name": "ProgressView",
            "bar_style": "success",
            "description": "",
            "description_tooltip": null,
            "layout": "IPY_MODEL_aa8992cfd15449678516b944e631ea30",
            "max": 2000,
            "min": 0,
            "orientation": "horizontal",
            "style": "IPY_MODEL_e7f2476d9fec4bfe9877d4f6601a27e2",
            "value": 2000
          }
        },
        "49deb221941a425f899515eab2d54b1d": {
          "model_module": "@jupyter-widgets/controls",
          "model_name": "HTMLModel",
          "model_module_version": "1.5.0",
          "state": {
            "_dom_classes": [],
            "_model_module": "@jupyter-widgets/controls",
            "_model_module_version": "1.5.0",
            "_model_name": "HTMLModel",
            "_view_count": null,
            "_view_module": "@jupyter-widgets/controls",
            "_view_module_version": "1.5.0",
            "_view_name": "HTMLView",
            "description": "",
            "description_tooltip": null,
            "layout": "IPY_MODEL_2b363503f5a2496b8f884d27da899f63",
            "placeholder": "​",
            "style": "IPY_MODEL_d04470ce70cf4c17addfa2ff2adad856",
            "value": " 2000/2000 [00:00&lt;00:00, 6698.48 examples/s]"
          }
        },
        "1344f969bc5f474f9aab0f734729350b": {
          "model_module": "@jupyter-widgets/base",
          "model_name": "LayoutModel",
          "model_module_version": "1.2.0",
          "state": {
            "_model_module": "@jupyter-widgets/base",
            "_model_module_version": "1.2.0",
            "_model_name": "LayoutModel",
            "_view_count": null,
            "_view_module": "@jupyter-widgets/base",
            "_view_module_version": "1.2.0",
            "_view_name": "LayoutView",
            "align_content": null,
            "align_items": null,
            "align_self": null,
            "border": null,
            "bottom": null,
            "display": null,
            "flex": null,
            "flex_flow": null,
            "grid_area": null,
            "grid_auto_columns": null,
            "grid_auto_flow": null,
            "grid_auto_rows": null,
            "grid_column": null,
            "grid_gap": null,
            "grid_row": null,
            "grid_template_areas": null,
            "grid_template_columns": null,
            "grid_template_rows": null,
            "height": null,
            "justify_content": null,
            "justify_items": null,
            "left": null,
            "margin": null,
            "max_height": null,
            "max_width": null,
            "min_height": null,
            "min_width": null,
            "object_fit": null,
            "object_position": null,
            "order": null,
            "overflow": null,
            "overflow_x": null,
            "overflow_y": null,
            "padding": null,
            "right": null,
            "top": null,
            "visibility": null,
            "width": null
          }
        },
        "d10d934f6af84943908abc3b19d2118c": {
          "model_module": "@jupyter-widgets/base",
          "model_name": "LayoutModel",
          "model_module_version": "1.2.0",
          "state": {
            "_model_module": "@jupyter-widgets/base",
            "_model_module_version": "1.2.0",
            "_model_name": "LayoutModel",
            "_view_count": null,
            "_view_module": "@jupyter-widgets/base",
            "_view_module_version": "1.2.0",
            "_view_name": "LayoutView",
            "align_content": null,
            "align_items": null,
            "align_self": null,
            "border": null,
            "bottom": null,
            "display": null,
            "flex": null,
            "flex_flow": null,
            "grid_area": null,
            "grid_auto_columns": null,
            "grid_auto_flow": null,
            "grid_auto_rows": null,
            "grid_column": null,
            "grid_gap": null,
            "grid_row": null,
            "grid_template_areas": null,
            "grid_template_columns": null,
            "grid_template_rows": null,
            "height": null,
            "justify_content": null,
            "justify_items": null,
            "left": null,
            "margin": null,
            "max_height": null,
            "max_width": null,
            "min_height": null,
            "min_width": null,
            "object_fit": null,
            "object_position": null,
            "order": null,
            "overflow": null,
            "overflow_x": null,
            "overflow_y": null,
            "padding": null,
            "right": null,
            "top": null,
            "visibility": null,
            "width": null
          }
        },
        "f206b8e960064537bb9a15875fe102ab": {
          "model_module": "@jupyter-widgets/controls",
          "model_name": "DescriptionStyleModel",
          "model_module_version": "1.5.0",
          "state": {
            "_model_module": "@jupyter-widgets/controls",
            "_model_module_version": "1.5.0",
            "_model_name": "DescriptionStyleModel",
            "_view_count": null,
            "_view_module": "@jupyter-widgets/base",
            "_view_module_version": "1.2.0",
            "_view_name": "StyleView",
            "description_width": ""
          }
        },
        "aa8992cfd15449678516b944e631ea30": {
          "model_module": "@jupyter-widgets/base",
          "model_name": "LayoutModel",
          "model_module_version": "1.2.0",
          "state": {
            "_model_module": "@jupyter-widgets/base",
            "_model_module_version": "1.2.0",
            "_model_name": "LayoutModel",
            "_view_count": null,
            "_view_module": "@jupyter-widgets/base",
            "_view_module_version": "1.2.0",
            "_view_name": "LayoutView",
            "align_content": null,
            "align_items": null,
            "align_self": null,
            "border": null,
            "bottom": null,
            "display": null,
            "flex": null,
            "flex_flow": null,
            "grid_area": null,
            "grid_auto_columns": null,
            "grid_auto_flow": null,
            "grid_auto_rows": null,
            "grid_column": null,
            "grid_gap": null,
            "grid_row": null,
            "grid_template_areas": null,
            "grid_template_columns": null,
            "grid_template_rows": null,
            "height": null,
            "justify_content": null,
            "justify_items": null,
            "left": null,
            "margin": null,
            "max_height": null,
            "max_width": null,
            "min_height": null,
            "min_width": null,
            "object_fit": null,
            "object_position": null,
            "order": null,
            "overflow": null,
            "overflow_x": null,
            "overflow_y": null,
            "padding": null,
            "right": null,
            "top": null,
            "visibility": null,
            "width": null
          }
        },
        "e7f2476d9fec4bfe9877d4f6601a27e2": {
          "model_module": "@jupyter-widgets/controls",
          "model_name": "ProgressStyleModel",
          "model_module_version": "1.5.0",
          "state": {
            "_model_module": "@jupyter-widgets/controls",
            "_model_module_version": "1.5.0",
            "_model_name": "ProgressStyleModel",
            "_view_count": null,
            "_view_module": "@jupyter-widgets/base",
            "_view_module_version": "1.2.0",
            "_view_name": "StyleView",
            "bar_color": null,
            "description_width": ""
          }
        },
        "2b363503f5a2496b8f884d27da899f63": {
          "model_module": "@jupyter-widgets/base",
          "model_name": "LayoutModel",
          "model_module_version": "1.2.0",
          "state": {
            "_model_module": "@jupyter-widgets/base",
            "_model_module_version": "1.2.0",
            "_model_name": "LayoutModel",
            "_view_count": null,
            "_view_module": "@jupyter-widgets/base",
            "_view_module_version": "1.2.0",
            "_view_name": "LayoutView",
            "align_content": null,
            "align_items": null,
            "align_self": null,
            "border": null,
            "bottom": null,
            "display": null,
            "flex": null,
            "flex_flow": null,
            "grid_area": null,
            "grid_auto_columns": null,
            "grid_auto_flow": null,
            "grid_auto_rows": null,
            "grid_column": null,
            "grid_gap": null,
            "grid_row": null,
            "grid_template_areas": null,
            "grid_template_columns": null,
            "grid_template_rows": null,
            "height": null,
            "justify_content": null,
            "justify_items": null,
            "left": null,
            "margin": null,
            "max_height": null,
            "max_width": null,
            "min_height": null,
            "min_width": null,
            "object_fit": null,
            "object_position": null,
            "order": null,
            "overflow": null,
            "overflow_x": null,
            "overflow_y": null,
            "padding": null,
            "right": null,
            "top": null,
            "visibility": null,
            "width": null
          }
        },
        "d04470ce70cf4c17addfa2ff2adad856": {
          "model_module": "@jupyter-widgets/controls",
          "model_name": "DescriptionStyleModel",
          "model_module_version": "1.5.0",
          "state": {
            "_model_module": "@jupyter-widgets/controls",
            "_model_module_version": "1.5.0",
            "_model_name": "DescriptionStyleModel",
            "_view_count": null,
            "_view_module": "@jupyter-widgets/base",
            "_view_module_version": "1.2.0",
            "_view_name": "StyleView",
            "description_width": ""
          }
        },
        "4dbfcde9b02c4a81a887094fb8775014": {
          "model_module": "@jupyter-widgets/controls",
          "model_name": "HBoxModel",
          "model_module_version": "1.5.0",
          "state": {
            "_dom_classes": [],
            "_model_module": "@jupyter-widgets/controls",
            "_model_module_version": "1.5.0",
            "_model_name": "HBoxModel",
            "_view_count": null,
            "_view_module": "@jupyter-widgets/controls",
            "_view_module_version": "1.5.0",
            "_view_name": "HBoxView",
            "box_style": "",
            "children": [
              "IPY_MODEL_d85ec78f635f4b3e991a5f54f94e0eb7",
              "IPY_MODEL_2dfc4067af764071a13f8ad47bd35d26",
              "IPY_MODEL_78fc04c65553474f88d3e97ae8f41aa8"
            ],
            "layout": "IPY_MODEL_9d60bf526d2d45779612aa3e481abc75"
          }
        },
        "d85ec78f635f4b3e991a5f54f94e0eb7": {
          "model_module": "@jupyter-widgets/controls",
          "model_name": "HTMLModel",
          "model_module_version": "1.5.0",
          "state": {
            "_dom_classes": [],
            "_model_module": "@jupyter-widgets/controls",
            "_model_module_version": "1.5.0",
            "_model_name": "HTMLModel",
            "_view_count": null,
            "_view_module": "@jupyter-widgets/controls",
            "_view_module_version": "1.5.0",
            "_view_name": "HTMLView",
            "description": "",
            "description_tooltip": null,
            "layout": "IPY_MODEL_a0491d7eeed743f684492759d8addaec",
            "placeholder": "​",
            "style": "IPY_MODEL_04fc9a4b76444b20ae2876bb9bd8a45a",
            "value": "Map: 100%"
          }
        },
        "2dfc4067af764071a13f8ad47bd35d26": {
          "model_module": "@jupyter-widgets/controls",
          "model_name": "FloatProgressModel",
          "model_module_version": "1.5.0",
          "state": {
            "_dom_classes": [],
            "_model_module": "@jupyter-widgets/controls",
            "_model_module_version": "1.5.0",
            "_model_name": "FloatProgressModel",
            "_view_count": null,
            "_view_module": "@jupyter-widgets/controls",
            "_view_module_version": "1.5.0",
            "_view_name": "ProgressView",
            "bar_style": "success",
            "description": "",
            "description_tooltip": null,
            "layout": "IPY_MODEL_f6d9740fbaba4425b4b69c6544a30a10",
            "max": 2000,
            "min": 0,
            "orientation": "horizontal",
            "style": "IPY_MODEL_c9e91b83568e4af1b301617907649c19",
            "value": 2000
          }
        },
        "78fc04c65553474f88d3e97ae8f41aa8": {
          "model_module": "@jupyter-widgets/controls",
          "model_name": "HTMLModel",
          "model_module_version": "1.5.0",
          "state": {
            "_dom_classes": [],
            "_model_module": "@jupyter-widgets/controls",
            "_model_module_version": "1.5.0",
            "_model_name": "HTMLModel",
            "_view_count": null,
            "_view_module": "@jupyter-widgets/controls",
            "_view_module_version": "1.5.0",
            "_view_name": "HTMLView",
            "description": "",
            "description_tooltip": null,
            "layout": "IPY_MODEL_83322a37356d4abf9257b55ba5e2fd94",
            "placeholder": "​",
            "style": "IPY_MODEL_36ebff2d5d3440baab5134d95a9219d2",
            "value": " 2000/2000 [00:00&lt;00:00, 7559.52 examples/s]"
          }
        },
        "9d60bf526d2d45779612aa3e481abc75": {
          "model_module": "@jupyter-widgets/base",
          "model_name": "LayoutModel",
          "model_module_version": "1.2.0",
          "state": {
            "_model_module": "@jupyter-widgets/base",
            "_model_module_version": "1.2.0",
            "_model_name": "LayoutModel",
            "_view_count": null,
            "_view_module": "@jupyter-widgets/base",
            "_view_module_version": "1.2.0",
            "_view_name": "LayoutView",
            "align_content": null,
            "align_items": null,
            "align_self": null,
            "border": null,
            "bottom": null,
            "display": null,
            "flex": null,
            "flex_flow": null,
            "grid_area": null,
            "grid_auto_columns": null,
            "grid_auto_flow": null,
            "grid_auto_rows": null,
            "grid_column": null,
            "grid_gap": null,
            "grid_row": null,
            "grid_template_areas": null,
            "grid_template_columns": null,
            "grid_template_rows": null,
            "height": null,
            "justify_content": null,
            "justify_items": null,
            "left": null,
            "margin": null,
            "max_height": null,
            "max_width": null,
            "min_height": null,
            "min_width": null,
            "object_fit": null,
            "object_position": null,
            "order": null,
            "overflow": null,
            "overflow_x": null,
            "overflow_y": null,
            "padding": null,
            "right": null,
            "top": null,
            "visibility": null,
            "width": null
          }
        },
        "a0491d7eeed743f684492759d8addaec": {
          "model_module": "@jupyter-widgets/base",
          "model_name": "LayoutModel",
          "model_module_version": "1.2.0",
          "state": {
            "_model_module": "@jupyter-widgets/base",
            "_model_module_version": "1.2.0",
            "_model_name": "LayoutModel",
            "_view_count": null,
            "_view_module": "@jupyter-widgets/base",
            "_view_module_version": "1.2.0",
            "_view_name": "LayoutView",
            "align_content": null,
            "align_items": null,
            "align_self": null,
            "border": null,
            "bottom": null,
            "display": null,
            "flex": null,
            "flex_flow": null,
            "grid_area": null,
            "grid_auto_columns": null,
            "grid_auto_flow": null,
            "grid_auto_rows": null,
            "grid_column": null,
            "grid_gap": null,
            "grid_row": null,
            "grid_template_areas": null,
            "grid_template_columns": null,
            "grid_template_rows": null,
            "height": null,
            "justify_content": null,
            "justify_items": null,
            "left": null,
            "margin": null,
            "max_height": null,
            "max_width": null,
            "min_height": null,
            "min_width": null,
            "object_fit": null,
            "object_position": null,
            "order": null,
            "overflow": null,
            "overflow_x": null,
            "overflow_y": null,
            "padding": null,
            "right": null,
            "top": null,
            "visibility": null,
            "width": null
          }
        },
        "04fc9a4b76444b20ae2876bb9bd8a45a": {
          "model_module": "@jupyter-widgets/controls",
          "model_name": "DescriptionStyleModel",
          "model_module_version": "1.5.0",
          "state": {
            "_model_module": "@jupyter-widgets/controls",
            "_model_module_version": "1.5.0",
            "_model_name": "DescriptionStyleModel",
            "_view_count": null,
            "_view_module": "@jupyter-widgets/base",
            "_view_module_version": "1.2.0",
            "_view_name": "StyleView",
            "description_width": ""
          }
        },
        "f6d9740fbaba4425b4b69c6544a30a10": {
          "model_module": "@jupyter-widgets/base",
          "model_name": "LayoutModel",
          "model_module_version": "1.2.0",
          "state": {
            "_model_module": "@jupyter-widgets/base",
            "_model_module_version": "1.2.0",
            "_model_name": "LayoutModel",
            "_view_count": null,
            "_view_module": "@jupyter-widgets/base",
            "_view_module_version": "1.2.0",
            "_view_name": "LayoutView",
            "align_content": null,
            "align_items": null,
            "align_self": null,
            "border": null,
            "bottom": null,
            "display": null,
            "flex": null,
            "flex_flow": null,
            "grid_area": null,
            "grid_auto_columns": null,
            "grid_auto_flow": null,
            "grid_auto_rows": null,
            "grid_column": null,
            "grid_gap": null,
            "grid_row": null,
            "grid_template_areas": null,
            "grid_template_columns": null,
            "grid_template_rows": null,
            "height": null,
            "justify_content": null,
            "justify_items": null,
            "left": null,
            "margin": null,
            "max_height": null,
            "max_width": null,
            "min_height": null,
            "min_width": null,
            "object_fit": null,
            "object_position": null,
            "order": null,
            "overflow": null,
            "overflow_x": null,
            "overflow_y": null,
            "padding": null,
            "right": null,
            "top": null,
            "visibility": null,
            "width": null
          }
        },
        "c9e91b83568e4af1b301617907649c19": {
          "model_module": "@jupyter-widgets/controls",
          "model_name": "ProgressStyleModel",
          "model_module_version": "1.5.0",
          "state": {
            "_model_module": "@jupyter-widgets/controls",
            "_model_module_version": "1.5.0",
            "_model_name": "ProgressStyleModel",
            "_view_count": null,
            "_view_module": "@jupyter-widgets/base",
            "_view_module_version": "1.2.0",
            "_view_name": "StyleView",
            "bar_color": null,
            "description_width": ""
          }
        },
        "83322a37356d4abf9257b55ba5e2fd94": {
          "model_module": "@jupyter-widgets/base",
          "model_name": "LayoutModel",
          "model_module_version": "1.2.0",
          "state": {
            "_model_module": "@jupyter-widgets/base",
            "_model_module_version": "1.2.0",
            "_model_name": "LayoutModel",
            "_view_count": null,
            "_view_module": "@jupyter-widgets/base",
            "_view_module_version": "1.2.0",
            "_view_name": "LayoutView",
            "align_content": null,
            "align_items": null,
            "align_self": null,
            "border": null,
            "bottom": null,
            "display": null,
            "flex": null,
            "flex_flow": null,
            "grid_area": null,
            "grid_auto_columns": null,
            "grid_auto_flow": null,
            "grid_auto_rows": null,
            "grid_column": null,
            "grid_gap": null,
            "grid_row": null,
            "grid_template_areas": null,
            "grid_template_columns": null,
            "grid_template_rows": null,
            "height": null,
            "justify_content": null,
            "justify_items": null,
            "left": null,
            "margin": null,
            "max_height": null,
            "max_width": null,
            "min_height": null,
            "min_width": null,
            "object_fit": null,
            "object_position": null,
            "order": null,
            "overflow": null,
            "overflow_x": null,
            "overflow_y": null,
            "padding": null,
            "right": null,
            "top": null,
            "visibility": null,
            "width": null
          }
        },
        "36ebff2d5d3440baab5134d95a9219d2": {
          "model_module": "@jupyter-widgets/controls",
          "model_name": "DescriptionStyleModel",
          "model_module_version": "1.5.0",
          "state": {
            "_model_module": "@jupyter-widgets/controls",
            "_model_module_version": "1.5.0",
            "_model_name": "DescriptionStyleModel",
            "_view_count": null,
            "_view_module": "@jupyter-widgets/base",
            "_view_module_version": "1.2.0",
            "_view_name": "StyleView",
            "description_width": ""
          }
        },
        "e3d3eef495494059b0c17ae0587bf369": {
          "model_module": "@jupyter-widgets/controls",
          "model_name": "HBoxModel",
          "model_module_version": "1.5.0",
          "state": {
            "_dom_classes": [],
            "_model_module": "@jupyter-widgets/controls",
            "_model_module_version": "1.5.0",
            "_model_name": "HBoxModel",
            "_view_count": null,
            "_view_module": "@jupyter-widgets/controls",
            "_view_module_version": "1.5.0",
            "_view_name": "HBoxView",
            "box_style": "",
            "children": [
              "IPY_MODEL_95d357fd79844400ab926e39d76d8bf6",
              "IPY_MODEL_a58376fc85364c2784b6cf14144bb8a5",
              "IPY_MODEL_ce40fb99c36e49d38cacc08a778eb955"
            ],
            "layout": "IPY_MODEL_72766516ef0e4d91862e2cb3e06e0a20"
          }
        },
        "95d357fd79844400ab926e39d76d8bf6": {
          "model_module": "@jupyter-widgets/controls",
          "model_name": "HTMLModel",
          "model_module_version": "1.5.0",
          "state": {
            "_dom_classes": [],
            "_model_module": "@jupyter-widgets/controls",
            "_model_module_version": "1.5.0",
            "_model_name": "HTMLModel",
            "_view_count": null,
            "_view_module": "@jupyter-widgets/controls",
            "_view_module_version": "1.5.0",
            "_view_name": "HTMLView",
            "description": "",
            "description_tooltip": null,
            "layout": "IPY_MODEL_a436aaa8bd434276a6aac9cea0bca487",
            "placeholder": "​",
            "style": "IPY_MODEL_ae6f46588d9c48ae8467329ab510c95c",
            "value": "Map: 100%"
          }
        },
        "a58376fc85364c2784b6cf14144bb8a5": {
          "model_module": "@jupyter-widgets/controls",
          "model_name": "FloatProgressModel",
          "model_module_version": "1.5.0",
          "state": {
            "_dom_classes": [],
            "_model_module": "@jupyter-widgets/controls",
            "_model_module_version": "1.5.0",
            "_model_name": "FloatProgressModel",
            "_view_count": null,
            "_view_module": "@jupyter-widgets/controls",
            "_view_module_version": "1.5.0",
            "_view_name": "ProgressView",
            "bar_style": "success",
            "description": "",
            "description_tooltip": null,
            "layout": "IPY_MODEL_9f75ff9dee5c49b6b456c5786704b3e9",
            "max": 16000,
            "min": 0,
            "orientation": "horizontal",
            "style": "IPY_MODEL_d50b18cc1e144564a249f65d612b4633",
            "value": 16000
          }
        },
        "ce40fb99c36e49d38cacc08a778eb955": {
          "model_module": "@jupyter-widgets/controls",
          "model_name": "HTMLModel",
          "model_module_version": "1.5.0",
          "state": {
            "_dom_classes": [],
            "_model_module": "@jupyter-widgets/controls",
            "_model_module_version": "1.5.0",
            "_model_name": "HTMLModel",
            "_view_count": null,
            "_view_module": "@jupyter-widgets/controls",
            "_view_module_version": "1.5.0",
            "_view_name": "HTMLView",
            "description": "",
            "description_tooltip": null,
            "layout": "IPY_MODEL_74139cefce4a40a9b68b0d853d925500",
            "placeholder": "​",
            "style": "IPY_MODEL_807d5bad582b4dc68d0bcdea0ce62be3",
            "value": " 16000/16000 [01:21&lt;00:00, 191.88 examples/s]"
          }
        },
        "72766516ef0e4d91862e2cb3e06e0a20": {
          "model_module": "@jupyter-widgets/base",
          "model_name": "LayoutModel",
          "model_module_version": "1.2.0",
          "state": {
            "_model_module": "@jupyter-widgets/base",
            "_model_module_version": "1.2.0",
            "_model_name": "LayoutModel",
            "_view_count": null,
            "_view_module": "@jupyter-widgets/base",
            "_view_module_version": "1.2.0",
            "_view_name": "LayoutView",
            "align_content": null,
            "align_items": null,
            "align_self": null,
            "border": null,
            "bottom": null,
            "display": null,
            "flex": null,
            "flex_flow": null,
            "grid_area": null,
            "grid_auto_columns": null,
            "grid_auto_flow": null,
            "grid_auto_rows": null,
            "grid_column": null,
            "grid_gap": null,
            "grid_row": null,
            "grid_template_areas": null,
            "grid_template_columns": null,
            "grid_template_rows": null,
            "height": null,
            "justify_content": null,
            "justify_items": null,
            "left": null,
            "margin": null,
            "max_height": null,
            "max_width": null,
            "min_height": null,
            "min_width": null,
            "object_fit": null,
            "object_position": null,
            "order": null,
            "overflow": null,
            "overflow_x": null,
            "overflow_y": null,
            "padding": null,
            "right": null,
            "top": null,
            "visibility": null,
            "width": null
          }
        },
        "a436aaa8bd434276a6aac9cea0bca487": {
          "model_module": "@jupyter-widgets/base",
          "model_name": "LayoutModel",
          "model_module_version": "1.2.0",
          "state": {
            "_model_module": "@jupyter-widgets/base",
            "_model_module_version": "1.2.0",
            "_model_name": "LayoutModel",
            "_view_count": null,
            "_view_module": "@jupyter-widgets/base",
            "_view_module_version": "1.2.0",
            "_view_name": "LayoutView",
            "align_content": null,
            "align_items": null,
            "align_self": null,
            "border": null,
            "bottom": null,
            "display": null,
            "flex": null,
            "flex_flow": null,
            "grid_area": null,
            "grid_auto_columns": null,
            "grid_auto_flow": null,
            "grid_auto_rows": null,
            "grid_column": null,
            "grid_gap": null,
            "grid_row": null,
            "grid_template_areas": null,
            "grid_template_columns": null,
            "grid_template_rows": null,
            "height": null,
            "justify_content": null,
            "justify_items": null,
            "left": null,
            "margin": null,
            "max_height": null,
            "max_width": null,
            "min_height": null,
            "min_width": null,
            "object_fit": null,
            "object_position": null,
            "order": null,
            "overflow": null,
            "overflow_x": null,
            "overflow_y": null,
            "padding": null,
            "right": null,
            "top": null,
            "visibility": null,
            "width": null
          }
        },
        "ae6f46588d9c48ae8467329ab510c95c": {
          "model_module": "@jupyter-widgets/controls",
          "model_name": "DescriptionStyleModel",
          "model_module_version": "1.5.0",
          "state": {
            "_model_module": "@jupyter-widgets/controls",
            "_model_module_version": "1.5.0",
            "_model_name": "DescriptionStyleModel",
            "_view_count": null,
            "_view_module": "@jupyter-widgets/base",
            "_view_module_version": "1.2.0",
            "_view_name": "StyleView",
            "description_width": ""
          }
        },
        "9f75ff9dee5c49b6b456c5786704b3e9": {
          "model_module": "@jupyter-widgets/base",
          "model_name": "LayoutModel",
          "model_module_version": "1.2.0",
          "state": {
            "_model_module": "@jupyter-widgets/base",
            "_model_module_version": "1.2.0",
            "_model_name": "LayoutModel",
            "_view_count": null,
            "_view_module": "@jupyter-widgets/base",
            "_view_module_version": "1.2.0",
            "_view_name": "LayoutView",
            "align_content": null,
            "align_items": null,
            "align_self": null,
            "border": null,
            "bottom": null,
            "display": null,
            "flex": null,
            "flex_flow": null,
            "grid_area": null,
            "grid_auto_columns": null,
            "grid_auto_flow": null,
            "grid_auto_rows": null,
            "grid_column": null,
            "grid_gap": null,
            "grid_row": null,
            "grid_template_areas": null,
            "grid_template_columns": null,
            "grid_template_rows": null,
            "height": null,
            "justify_content": null,
            "justify_items": null,
            "left": null,
            "margin": null,
            "max_height": null,
            "max_width": null,
            "min_height": null,
            "min_width": null,
            "object_fit": null,
            "object_position": null,
            "order": null,
            "overflow": null,
            "overflow_x": null,
            "overflow_y": null,
            "padding": null,
            "right": null,
            "top": null,
            "visibility": null,
            "width": null
          }
        },
        "d50b18cc1e144564a249f65d612b4633": {
          "model_module": "@jupyter-widgets/controls",
          "model_name": "ProgressStyleModel",
          "model_module_version": "1.5.0",
          "state": {
            "_model_module": "@jupyter-widgets/controls",
            "_model_module_version": "1.5.0",
            "_model_name": "ProgressStyleModel",
            "_view_count": null,
            "_view_module": "@jupyter-widgets/base",
            "_view_module_version": "1.2.0",
            "_view_name": "StyleView",
            "bar_color": null,
            "description_width": ""
          }
        },
        "74139cefce4a40a9b68b0d853d925500": {
          "model_module": "@jupyter-widgets/base",
          "model_name": "LayoutModel",
          "model_module_version": "1.2.0",
          "state": {
            "_model_module": "@jupyter-widgets/base",
            "_model_module_version": "1.2.0",
            "_model_name": "LayoutModel",
            "_view_count": null,
            "_view_module": "@jupyter-widgets/base",
            "_view_module_version": "1.2.0",
            "_view_name": "LayoutView",
            "align_content": null,
            "align_items": null,
            "align_self": null,
            "border": null,
            "bottom": null,
            "display": null,
            "flex": null,
            "flex_flow": null,
            "grid_area": null,
            "grid_auto_columns": null,
            "grid_auto_flow": null,
            "grid_auto_rows": null,
            "grid_column": null,
            "grid_gap": null,
            "grid_row": null,
            "grid_template_areas": null,
            "grid_template_columns": null,
            "grid_template_rows": null,
            "height": null,
            "justify_content": null,
            "justify_items": null,
            "left": null,
            "margin": null,
            "max_height": null,
            "max_width": null,
            "min_height": null,
            "min_width": null,
            "object_fit": null,
            "object_position": null,
            "order": null,
            "overflow": null,
            "overflow_x": null,
            "overflow_y": null,
            "padding": null,
            "right": null,
            "top": null,
            "visibility": null,
            "width": null
          }
        },
        "807d5bad582b4dc68d0bcdea0ce62be3": {
          "model_module": "@jupyter-widgets/controls",
          "model_name": "DescriptionStyleModel",
          "model_module_version": "1.5.0",
          "state": {
            "_model_module": "@jupyter-widgets/controls",
            "_model_module_version": "1.5.0",
            "_model_name": "DescriptionStyleModel",
            "_view_count": null,
            "_view_module": "@jupyter-widgets/base",
            "_view_module_version": "1.2.0",
            "_view_name": "StyleView",
            "description_width": ""
          }
        },
        "4ba1c9813f244c2ab4cb9986c6814a5c": {
          "model_module": "@jupyter-widgets/controls",
          "model_name": "HBoxModel",
          "model_module_version": "1.5.0",
          "state": {
            "_dom_classes": [],
            "_model_module": "@jupyter-widgets/controls",
            "_model_module_version": "1.5.0",
            "_model_name": "HBoxModel",
            "_view_count": null,
            "_view_module": "@jupyter-widgets/controls",
            "_view_module_version": "1.5.0",
            "_view_name": "HBoxView",
            "box_style": "",
            "children": [
              "IPY_MODEL_85548100c5d246bab311726ae7f62120",
              "IPY_MODEL_9d061b7b208d486f9c5b8e24389c31a7",
              "IPY_MODEL_3d494305b5414a79a8dfc2d9ce63ff4f"
            ],
            "layout": "IPY_MODEL_144188419a2e4d938ce8c6d8b073968b"
          }
        },
        "85548100c5d246bab311726ae7f62120": {
          "model_module": "@jupyter-widgets/controls",
          "model_name": "HTMLModel",
          "model_module_version": "1.5.0",
          "state": {
            "_dom_classes": [],
            "_model_module": "@jupyter-widgets/controls",
            "_model_module_version": "1.5.0",
            "_model_name": "HTMLModel",
            "_view_count": null,
            "_view_module": "@jupyter-widgets/controls",
            "_view_module_version": "1.5.0",
            "_view_name": "HTMLView",
            "description": "",
            "description_tooltip": null,
            "layout": "IPY_MODEL_cd2ee5209f784fc984ef5dfa3c2a3350",
            "placeholder": "​",
            "style": "IPY_MODEL_97e79ad75d5d4caf8f25ff9cd468d382",
            "value": "Map: 100%"
          }
        },
        "9d061b7b208d486f9c5b8e24389c31a7": {
          "model_module": "@jupyter-widgets/controls",
          "model_name": "FloatProgressModel",
          "model_module_version": "1.5.0",
          "state": {
            "_dom_classes": [],
            "_model_module": "@jupyter-widgets/controls",
            "_model_module_version": "1.5.0",
            "_model_name": "FloatProgressModel",
            "_view_count": null,
            "_view_module": "@jupyter-widgets/controls",
            "_view_module_version": "1.5.0",
            "_view_name": "ProgressView",
            "bar_style": "success",
            "description": "",
            "description_tooltip": null,
            "layout": "IPY_MODEL_2fc870dfdbdc4eb6966e849edb2a765a",
            "max": 2000,
            "min": 0,
            "orientation": "horizontal",
            "style": "IPY_MODEL_f9482c25ec7943ce9f613701f07fb5c3",
            "value": 2000
          }
        },
        "3d494305b5414a79a8dfc2d9ce63ff4f": {
          "model_module": "@jupyter-widgets/controls",
          "model_name": "HTMLModel",
          "model_module_version": "1.5.0",
          "state": {
            "_dom_classes": [],
            "_model_module": "@jupyter-widgets/controls",
            "_model_module_version": "1.5.0",
            "_model_name": "HTMLModel",
            "_view_count": null,
            "_view_module": "@jupyter-widgets/controls",
            "_view_module_version": "1.5.0",
            "_view_name": "HTMLView",
            "description": "",
            "description_tooltip": null,
            "layout": "IPY_MODEL_080f8425f69744e09b9afbc77f26e72d",
            "placeholder": "​",
            "style": "IPY_MODEL_8bbd2609077744afb032136d1bbe6cb5",
            "value": " 2000/2000 [00:08&lt;00:00, 238.92 examples/s]"
          }
        },
        "144188419a2e4d938ce8c6d8b073968b": {
          "model_module": "@jupyter-widgets/base",
          "model_name": "LayoutModel",
          "model_module_version": "1.2.0",
          "state": {
            "_model_module": "@jupyter-widgets/base",
            "_model_module_version": "1.2.0",
            "_model_name": "LayoutModel",
            "_view_count": null,
            "_view_module": "@jupyter-widgets/base",
            "_view_module_version": "1.2.0",
            "_view_name": "LayoutView",
            "align_content": null,
            "align_items": null,
            "align_self": null,
            "border": null,
            "bottom": null,
            "display": null,
            "flex": null,
            "flex_flow": null,
            "grid_area": null,
            "grid_auto_columns": null,
            "grid_auto_flow": null,
            "grid_auto_rows": null,
            "grid_column": null,
            "grid_gap": null,
            "grid_row": null,
            "grid_template_areas": null,
            "grid_template_columns": null,
            "grid_template_rows": null,
            "height": null,
            "justify_content": null,
            "justify_items": null,
            "left": null,
            "margin": null,
            "max_height": null,
            "max_width": null,
            "min_height": null,
            "min_width": null,
            "object_fit": null,
            "object_position": null,
            "order": null,
            "overflow": null,
            "overflow_x": null,
            "overflow_y": null,
            "padding": null,
            "right": null,
            "top": null,
            "visibility": null,
            "width": null
          }
        },
        "cd2ee5209f784fc984ef5dfa3c2a3350": {
          "model_module": "@jupyter-widgets/base",
          "model_name": "LayoutModel",
          "model_module_version": "1.2.0",
          "state": {
            "_model_module": "@jupyter-widgets/base",
            "_model_module_version": "1.2.0",
            "_model_name": "LayoutModel",
            "_view_count": null,
            "_view_module": "@jupyter-widgets/base",
            "_view_module_version": "1.2.0",
            "_view_name": "LayoutView",
            "align_content": null,
            "align_items": null,
            "align_self": null,
            "border": null,
            "bottom": null,
            "display": null,
            "flex": null,
            "flex_flow": null,
            "grid_area": null,
            "grid_auto_columns": null,
            "grid_auto_flow": null,
            "grid_auto_rows": null,
            "grid_column": null,
            "grid_gap": null,
            "grid_row": null,
            "grid_template_areas": null,
            "grid_template_columns": null,
            "grid_template_rows": null,
            "height": null,
            "justify_content": null,
            "justify_items": null,
            "left": null,
            "margin": null,
            "max_height": null,
            "max_width": null,
            "min_height": null,
            "min_width": null,
            "object_fit": null,
            "object_position": null,
            "order": null,
            "overflow": null,
            "overflow_x": null,
            "overflow_y": null,
            "padding": null,
            "right": null,
            "top": null,
            "visibility": null,
            "width": null
          }
        },
        "97e79ad75d5d4caf8f25ff9cd468d382": {
          "model_module": "@jupyter-widgets/controls",
          "model_name": "DescriptionStyleModel",
          "model_module_version": "1.5.0",
          "state": {
            "_model_module": "@jupyter-widgets/controls",
            "_model_module_version": "1.5.0",
            "_model_name": "DescriptionStyleModel",
            "_view_count": null,
            "_view_module": "@jupyter-widgets/base",
            "_view_module_version": "1.2.0",
            "_view_name": "StyleView",
            "description_width": ""
          }
        },
        "2fc870dfdbdc4eb6966e849edb2a765a": {
          "model_module": "@jupyter-widgets/base",
          "model_name": "LayoutModel",
          "model_module_version": "1.2.0",
          "state": {
            "_model_module": "@jupyter-widgets/base",
            "_model_module_version": "1.2.0",
            "_model_name": "LayoutModel",
            "_view_count": null,
            "_view_module": "@jupyter-widgets/base",
            "_view_module_version": "1.2.0",
            "_view_name": "LayoutView",
            "align_content": null,
            "align_items": null,
            "align_self": null,
            "border": null,
            "bottom": null,
            "display": null,
            "flex": null,
            "flex_flow": null,
            "grid_area": null,
            "grid_auto_columns": null,
            "grid_auto_flow": null,
            "grid_auto_rows": null,
            "grid_column": null,
            "grid_gap": null,
            "grid_row": null,
            "grid_template_areas": null,
            "grid_template_columns": null,
            "grid_template_rows": null,
            "height": null,
            "justify_content": null,
            "justify_items": null,
            "left": null,
            "margin": null,
            "max_height": null,
            "max_width": null,
            "min_height": null,
            "min_width": null,
            "object_fit": null,
            "object_position": null,
            "order": null,
            "overflow": null,
            "overflow_x": null,
            "overflow_y": null,
            "padding": null,
            "right": null,
            "top": null,
            "visibility": null,
            "width": null
          }
        },
        "f9482c25ec7943ce9f613701f07fb5c3": {
          "model_module": "@jupyter-widgets/controls",
          "model_name": "ProgressStyleModel",
          "model_module_version": "1.5.0",
          "state": {
            "_model_module": "@jupyter-widgets/controls",
            "_model_module_version": "1.5.0",
            "_model_name": "ProgressStyleModel",
            "_view_count": null,
            "_view_module": "@jupyter-widgets/base",
            "_view_module_version": "1.2.0",
            "_view_name": "StyleView",
            "bar_color": null,
            "description_width": ""
          }
        },
        "080f8425f69744e09b9afbc77f26e72d": {
          "model_module": "@jupyter-widgets/base",
          "model_name": "LayoutModel",
          "model_module_version": "1.2.0",
          "state": {
            "_model_module": "@jupyter-widgets/base",
            "_model_module_version": "1.2.0",
            "_model_name": "LayoutModel",
            "_view_count": null,
            "_view_module": "@jupyter-widgets/base",
            "_view_module_version": "1.2.0",
            "_view_name": "LayoutView",
            "align_content": null,
            "align_items": null,
            "align_self": null,
            "border": null,
            "bottom": null,
            "display": null,
            "flex": null,
            "flex_flow": null,
            "grid_area": null,
            "grid_auto_columns": null,
            "grid_auto_flow": null,
            "grid_auto_rows": null,
            "grid_column": null,
            "grid_gap": null,
            "grid_row": null,
            "grid_template_areas": null,
            "grid_template_columns": null,
            "grid_template_rows": null,
            "height": null,
            "justify_content": null,
            "justify_items": null,
            "left": null,
            "margin": null,
            "max_height": null,
            "max_width": null,
            "min_height": null,
            "min_width": null,
            "object_fit": null,
            "object_position": null,
            "order": null,
            "overflow": null,
            "overflow_x": null,
            "overflow_y": null,
            "padding": null,
            "right": null,
            "top": null,
            "visibility": null,
            "width": null
          }
        },
        "8bbd2609077744afb032136d1bbe6cb5": {
          "model_module": "@jupyter-widgets/controls",
          "model_name": "DescriptionStyleModel",
          "model_module_version": "1.5.0",
          "state": {
            "_model_module": "@jupyter-widgets/controls",
            "_model_module_version": "1.5.0",
            "_model_name": "DescriptionStyleModel",
            "_view_count": null,
            "_view_module": "@jupyter-widgets/base",
            "_view_module_version": "1.2.0",
            "_view_name": "StyleView",
            "description_width": ""
          }
        },
        "44b299e1befc465a86dcf404a816e406": {
          "model_module": "@jupyter-widgets/controls",
          "model_name": "HBoxModel",
          "model_module_version": "1.5.0",
          "state": {
            "_dom_classes": [],
            "_model_module": "@jupyter-widgets/controls",
            "_model_module_version": "1.5.0",
            "_model_name": "HBoxModel",
            "_view_count": null,
            "_view_module": "@jupyter-widgets/controls",
            "_view_module_version": "1.5.0",
            "_view_name": "HBoxView",
            "box_style": "",
            "children": [
              "IPY_MODEL_400ab1891d42406abaac572281bcc5eb",
              "IPY_MODEL_a5ac2fa4512140a49e44abe300361446",
              "IPY_MODEL_3b73e62e88ec41bcb29ef5fb1e776d29"
            ],
            "layout": "IPY_MODEL_f385b293413c4e9e82a76ba766d6079e"
          }
        },
        "400ab1891d42406abaac572281bcc5eb": {
          "model_module": "@jupyter-widgets/controls",
          "model_name": "HTMLModel",
          "model_module_version": "1.5.0",
          "state": {
            "_dom_classes": [],
            "_model_module": "@jupyter-widgets/controls",
            "_model_module_version": "1.5.0",
            "_model_name": "HTMLModel",
            "_view_count": null,
            "_view_module": "@jupyter-widgets/controls",
            "_view_module_version": "1.5.0",
            "_view_name": "HTMLView",
            "description": "",
            "description_tooltip": null,
            "layout": "IPY_MODEL_410da541f1504db8ae27a0a580778c95",
            "placeholder": "​",
            "style": "IPY_MODEL_d5d8dd7747074eefbe7dc73206a4df4e",
            "value": "Map: 100%"
          }
        },
        "a5ac2fa4512140a49e44abe300361446": {
          "model_module": "@jupyter-widgets/controls",
          "model_name": "FloatProgressModel",
          "model_module_version": "1.5.0",
          "state": {
            "_dom_classes": [],
            "_model_module": "@jupyter-widgets/controls",
            "_model_module_version": "1.5.0",
            "_model_name": "FloatProgressModel",
            "_view_count": null,
            "_view_module": "@jupyter-widgets/controls",
            "_view_module_version": "1.5.0",
            "_view_name": "ProgressView",
            "bar_style": "success",
            "description": "",
            "description_tooltip": null,
            "layout": "IPY_MODEL_196a6c528bb54d50aa8f946c01940936",
            "max": 2000,
            "min": 0,
            "orientation": "horizontal",
            "style": "IPY_MODEL_3cd63e9fc64d4a9792a0d8c8247d8e20",
            "value": 2000
          }
        },
        "3b73e62e88ec41bcb29ef5fb1e776d29": {
          "model_module": "@jupyter-widgets/controls",
          "model_name": "HTMLModel",
          "model_module_version": "1.5.0",
          "state": {
            "_dom_classes": [],
            "_model_module": "@jupyter-widgets/controls",
            "_model_module_version": "1.5.0",
            "_model_name": "HTMLModel",
            "_view_count": null,
            "_view_module": "@jupyter-widgets/controls",
            "_view_module_version": "1.5.0",
            "_view_name": "HTMLView",
            "description": "",
            "description_tooltip": null,
            "layout": "IPY_MODEL_2c40b913757b49cd801301ff9f7a8063",
            "placeholder": "​",
            "style": "IPY_MODEL_9edbd12afffc43509dd3dc1479e71a3d",
            "value": " 2000/2000 [00:08&lt;00:00, 241.34 examples/s]"
          }
        },
        "f385b293413c4e9e82a76ba766d6079e": {
          "model_module": "@jupyter-widgets/base",
          "model_name": "LayoutModel",
          "model_module_version": "1.2.0",
          "state": {
            "_model_module": "@jupyter-widgets/base",
            "_model_module_version": "1.2.0",
            "_model_name": "LayoutModel",
            "_view_count": null,
            "_view_module": "@jupyter-widgets/base",
            "_view_module_version": "1.2.0",
            "_view_name": "LayoutView",
            "align_content": null,
            "align_items": null,
            "align_self": null,
            "border": null,
            "bottom": null,
            "display": null,
            "flex": null,
            "flex_flow": null,
            "grid_area": null,
            "grid_auto_columns": null,
            "grid_auto_flow": null,
            "grid_auto_rows": null,
            "grid_column": null,
            "grid_gap": null,
            "grid_row": null,
            "grid_template_areas": null,
            "grid_template_columns": null,
            "grid_template_rows": null,
            "height": null,
            "justify_content": null,
            "justify_items": null,
            "left": null,
            "margin": null,
            "max_height": null,
            "max_width": null,
            "min_height": null,
            "min_width": null,
            "object_fit": null,
            "object_position": null,
            "order": null,
            "overflow": null,
            "overflow_x": null,
            "overflow_y": null,
            "padding": null,
            "right": null,
            "top": null,
            "visibility": null,
            "width": null
          }
        },
        "410da541f1504db8ae27a0a580778c95": {
          "model_module": "@jupyter-widgets/base",
          "model_name": "LayoutModel",
          "model_module_version": "1.2.0",
          "state": {
            "_model_module": "@jupyter-widgets/base",
            "_model_module_version": "1.2.0",
            "_model_name": "LayoutModel",
            "_view_count": null,
            "_view_module": "@jupyter-widgets/base",
            "_view_module_version": "1.2.0",
            "_view_name": "LayoutView",
            "align_content": null,
            "align_items": null,
            "align_self": null,
            "border": null,
            "bottom": null,
            "display": null,
            "flex": null,
            "flex_flow": null,
            "grid_area": null,
            "grid_auto_columns": null,
            "grid_auto_flow": null,
            "grid_auto_rows": null,
            "grid_column": null,
            "grid_gap": null,
            "grid_row": null,
            "grid_template_areas": null,
            "grid_template_columns": null,
            "grid_template_rows": null,
            "height": null,
            "justify_content": null,
            "justify_items": null,
            "left": null,
            "margin": null,
            "max_height": null,
            "max_width": null,
            "min_height": null,
            "min_width": null,
            "object_fit": null,
            "object_position": null,
            "order": null,
            "overflow": null,
            "overflow_x": null,
            "overflow_y": null,
            "padding": null,
            "right": null,
            "top": null,
            "visibility": null,
            "width": null
          }
        },
        "d5d8dd7747074eefbe7dc73206a4df4e": {
          "model_module": "@jupyter-widgets/controls",
          "model_name": "DescriptionStyleModel",
          "model_module_version": "1.5.0",
          "state": {
            "_model_module": "@jupyter-widgets/controls",
            "_model_module_version": "1.5.0",
            "_model_name": "DescriptionStyleModel",
            "_view_count": null,
            "_view_module": "@jupyter-widgets/base",
            "_view_module_version": "1.2.0",
            "_view_name": "StyleView",
            "description_width": ""
          }
        },
        "196a6c528bb54d50aa8f946c01940936": {
          "model_module": "@jupyter-widgets/base",
          "model_name": "LayoutModel",
          "model_module_version": "1.2.0",
          "state": {
            "_model_module": "@jupyter-widgets/base",
            "_model_module_version": "1.2.0",
            "_model_name": "LayoutModel",
            "_view_count": null,
            "_view_module": "@jupyter-widgets/base",
            "_view_module_version": "1.2.0",
            "_view_name": "LayoutView",
            "align_content": null,
            "align_items": null,
            "align_self": null,
            "border": null,
            "bottom": null,
            "display": null,
            "flex": null,
            "flex_flow": null,
            "grid_area": null,
            "grid_auto_columns": null,
            "grid_auto_flow": null,
            "grid_auto_rows": null,
            "grid_column": null,
            "grid_gap": null,
            "grid_row": null,
            "grid_template_areas": null,
            "grid_template_columns": null,
            "grid_template_rows": null,
            "height": null,
            "justify_content": null,
            "justify_items": null,
            "left": null,
            "margin": null,
            "max_height": null,
            "max_width": null,
            "min_height": null,
            "min_width": null,
            "object_fit": null,
            "object_position": null,
            "order": null,
            "overflow": null,
            "overflow_x": null,
            "overflow_y": null,
            "padding": null,
            "right": null,
            "top": null,
            "visibility": null,
            "width": null
          }
        },
        "3cd63e9fc64d4a9792a0d8c8247d8e20": {
          "model_module": "@jupyter-widgets/controls",
          "model_name": "ProgressStyleModel",
          "model_module_version": "1.5.0",
          "state": {
            "_model_module": "@jupyter-widgets/controls",
            "_model_module_version": "1.5.0",
            "_model_name": "ProgressStyleModel",
            "_view_count": null,
            "_view_module": "@jupyter-widgets/base",
            "_view_module_version": "1.2.0",
            "_view_name": "StyleView",
            "bar_color": null,
            "description_width": ""
          }
        },
        "2c40b913757b49cd801301ff9f7a8063": {
          "model_module": "@jupyter-widgets/base",
          "model_name": "LayoutModel",
          "model_module_version": "1.2.0",
          "state": {
            "_model_module": "@jupyter-widgets/base",
            "_model_module_version": "1.2.0",
            "_model_name": "LayoutModel",
            "_view_count": null,
            "_view_module": "@jupyter-widgets/base",
            "_view_module_version": "1.2.0",
            "_view_name": "LayoutView",
            "align_content": null,
            "align_items": null,
            "align_self": null,
            "border": null,
            "bottom": null,
            "display": null,
            "flex": null,
            "flex_flow": null,
            "grid_area": null,
            "grid_auto_columns": null,
            "grid_auto_flow": null,
            "grid_auto_rows": null,
            "grid_column": null,
            "grid_gap": null,
            "grid_row": null,
            "grid_template_areas": null,
            "grid_template_columns": null,
            "grid_template_rows": null,
            "height": null,
            "justify_content": null,
            "justify_items": null,
            "left": null,
            "margin": null,
            "max_height": null,
            "max_width": null,
            "min_height": null,
            "min_width": null,
            "object_fit": null,
            "object_position": null,
            "order": null,
            "overflow": null,
            "overflow_x": null,
            "overflow_y": null,
            "padding": null,
            "right": null,
            "top": null,
            "visibility": null,
            "width": null
          }
        },
        "9edbd12afffc43509dd3dc1479e71a3d": {
          "model_module": "@jupyter-widgets/controls",
          "model_name": "DescriptionStyleModel",
          "model_module_version": "1.5.0",
          "state": {
            "_model_module": "@jupyter-widgets/controls",
            "_model_module_version": "1.5.0",
            "_model_name": "DescriptionStyleModel",
            "_view_count": null,
            "_view_module": "@jupyter-widgets/base",
            "_view_module_version": "1.2.0",
            "_view_name": "StyleView",
            "description_width": ""
          }
        }
      }
    }
  },
  "nbformat": 4,
  "nbformat_minor": 0
}